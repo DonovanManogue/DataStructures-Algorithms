{
 "cells": [
  {
   "cell_type": "markdown",
   "id": "d552ddc5-36e9-47e9-8afe-9a8c70a88fb8",
   "metadata": {},
   "source": [
    "# Data Structures & Algorithms Chapter 6 Stacks Queues and Dequeues\n",
    "## Donovan Manogue"
   ]
  },
  {
   "cell_type": "markdown",
   "id": "a76a6c97-16f0-488a-ae78-93f3e547e9ec",
   "metadata": {},
   "source": [
    "## Code snippets"
   ]
  },
  {
   "cell_type": "markdown",
   "id": "c994d8a6-f1dd-4a32-8c92-e518de4073db",
   "metadata": {},
   "source": [
    "Empty Exception Class\n",
    "Code Fragment 6.1: Definition for an Empty exception class."
   ]
  },
  {
   "cell_type": "code",
   "execution_count": 4,
   "id": "eebce12c-e0ec-44aa-a6fe-5f933a49ec81",
   "metadata": {},
   "outputs": [],
   "source": [
    "# Code Fragment 6.1: Definition for an Empty exception class.\n",
    "\n",
    "class Empty(Exception):\n",
    "    \"\"\"Error attempting to access an element from an empty container.\"\"\"\n",
    "    pass\n",
    "\n",
    "#Usage Example\n",
    "def pop():\n",
    "    if is_empty():\n",
    "        raise Empty(\"Stack is empty\")\n"
   ]
  },
  {
   "cell_type": "markdown",
   "id": "96d7ed24-b169-4fd0-820d-20d26167f120",
   "metadata": {},
   "source": [
    "ArrayStack Implementation\n",
    "Code Fragment 6.2: Implementing a stack using a Python list as storage."
   ]
  },
  {
   "cell_type": "code",
   "execution_count": 6,
   "id": "07e26d4b-d791-4df6-a743-f50f51addef9",
   "metadata": {},
   "outputs": [],
   "source": [
    "# Code Fragment 6.2: Implementing a stack using a Python list as storage.\n",
    "\n",
    "class Empty(Exception):\n",
    "    \"\"\"Error attempting to access an element from an empty container.\"\"\"\n",
    "    pass\n",
    "\n",
    "class ArrayStack:\n",
    "    \"\"\"LIFO Stack implementation using a Python list as underlying storage.\"\"\"\n",
    "\n",
    "    def __init__(self):\n",
    "        \"\"\"Create an empty stack.\"\"\"\n",
    "        self._data = []  # nonpublic list instance\n",
    "\n",
    "    def __len__(self):\n",
    "        \"\"\"Return the number of elements in the stack.\"\"\"\n",
    "        return len(self._data)\n",
    "\n",
    "    def is_empty(self):\n",
    "        \"\"\"Return True if the stack is empty.\"\"\"\n",
    "        return len(self._data) == 0\n",
    "\n",
    "    def push(self, e):\n",
    "        \"\"\"Add element e to the top of the stack.\"\"\"\n",
    "        self._data.append(e)\n",
    "\n",
    "    def top(self):\n",
    "        \"\"\"Return (but do not remove) the element at the top of the stack.\n",
    "\n",
    "        Raise Empty exception if the stack is empty.\n",
    "        \"\"\"\n",
    "        if self.is_empty():\n",
    "            raise Empty(\"Stack is empty\")\n",
    "        return self._data[-1]\n",
    "\n",
    "    def pop(self):\n",
    "        \"\"\"Remove and return the element from the top of the stack (LIFO).\n",
    "\n",
    "        Raise Empty exception if the stack is empty.\n",
    "        \"\"\"\n",
    "        if self.is_empty():\n",
    "            raise Empty(\"Stack is empty\")\n",
    "        return self._data.pop()\n"
   ]
  },
  {
   "cell_type": "code",
   "execution_count": 7,
   "id": "d1d4d64b-5a29-4a2a-ac72-f1e635f5bfaf",
   "metadata": {},
   "outputs": [
    {
     "name": "stdout",
     "output_type": "stream",
     "text": [
      "2\n",
      "3\n",
      "False\n",
      "5\n",
      "True\n",
      "9\n",
      "3\n",
      "4\n",
      "[7, 9, 6]\n"
     ]
    }
   ],
   "source": [
    "S = ArrayStack()\n",
    "S.push(5)\n",
    "S.push(3)\n",
    "print(len(S))           # Output: 2\n",
    "print(S.pop())          # Output: 3\n",
    "print(S.is_empty())     # Output: False\n",
    "print(S.pop())          # Output: 5\n",
    "print(S.is_empty())     # Output: True\n",
    "S.push(7)\n",
    "S.push(9)\n",
    "print(S.top())          # Output: 9\n",
    "S.push(4)\n",
    "print(len(S))           # Output: 3\n",
    "print(S.pop())          # Output: 4\n",
    "S.push(6)\n",
    "print(S._data)          # Final contents: [7, 9, 6]\n"
   ]
  },
  {
   "cell_type": "markdown",
   "id": "f43e9b75-e9b2-492e-be6e-fd59b2b1dcda",
   "metadata": {},
   "source": [
    "Reverse File with Stack\n",
    "Code Fragment 6.3: A function that reverses the order of lines in a file."
   ]
  },
  {
   "cell_type": "code",
   "execution_count": 11,
   "id": "9bbd5403-2a76-47bb-b826-a5d85e6486c6",
   "metadata": {},
   "outputs": [],
   "source": [
    "# Code Fragment 6.3: A function that reverses the order of lines in a file.\n",
    "\n",
    "def reverse_file(filename):\n",
    "    \"\"\"Overwrite given file with its contents line-by-line reversed.\"\"\"\n",
    "    S = ArrayStack()\n",
    "    \n",
    "    # Read and push all lines onto the stack\n",
    "    with open(filename) as original:\n",
    "        for line in original:\n",
    "            S.push(line.rstrip('\\n'))  # remove newline before storing\n",
    "\n",
    "    # Write lines back in LIFO order\n",
    "    with open(filename, 'w') as output:\n",
    "        while not S.is_empty():\n",
    "            output.write(S.pop() + '\\n')  # reinsert newline\n"
   ]
  },
  {
   "cell_type": "code",
   "execution_count": 13,
   "id": "6fc11e79-4692-4ac1-9327-9724ad707cb9",
   "metadata": {},
   "outputs": [
    {
     "ename": "SyntaxError",
     "evalue": "invalid syntax (3690344067.py, line 1)",
     "output_type": "error",
     "traceback": [
      "\u001b[1;36m  Cell \u001b[1;32mIn[13], line 1\u001b[1;36m\u001b[0m\n\u001b[1;33m    Matching Delimiters with a Stack\u001b[0m\n\u001b[1;37m             ^\u001b[0m\n\u001b[1;31mSyntaxError\u001b[0m\u001b[1;31m:\u001b[0m invalid syntax\n"
     ]
    }
   ],
   "source": [
    "Matching Delimiters with a Stack\n",
    "Function for matching delimiters in an arithmetic expression."
   ]
  },
  {
   "cell_type": "code",
   "execution_count": 15,
   "id": "6ea39897-7350-4eea-8009-b9a9636de68c",
   "metadata": {},
   "outputs": [],
   "source": [
    "# Code Fragment 6.4: Function for matching delimiters in an arithmetic expression.\n",
    "\n",
    "def is_matched(expr):\n",
    "    \"\"\"Return True if all delimiters are properly matched; False otherwise.\"\"\"\n",
    "    lefty = '({['      # opening delimiters\n",
    "    righty = ')}]'     # corresponding closing delimiters\n",
    "    S = ArrayStack()\n",
    "\n",
    "    for c in expr:\n",
    "        if c in lefty:\n",
    "            S.push(c)  # push left delimiter on stack\n",
    "        elif c in righty:\n",
    "            if S.is_empty():\n",
    "                return False  # nothing to match with\n",
    "            if righty.index(c) != lefty.index(S.pop()):\n",
    "                return False  # mismatched\n",
    "\n",
    "    return S.is_empty()  # were all symbols matched?\n"
   ]
  },
  {
   "cell_type": "code",
   "execution_count": 17,
   "id": "fe301fcb-d54f-4706-a42c-f382d7dde6b9",
   "metadata": {},
   "outputs": [
    {
     "name": "stdout",
     "output_type": "stream",
     "text": [
      "True\n",
      "False\n",
      "True\n"
     ]
    }
   ],
   "source": [
    "print(is_matched(\"{[()]}\"))     # True\n",
    "print(is_matched(\"{[(])}\"))     # False\n",
    "print(is_matched(\"((2+3)*5)\"))  # True\n"
   ]
  },
  {
   "cell_type": "markdown",
   "id": "7f4548a3-2de4-41ef-918e-9e4389a904e2",
   "metadata": {},
   "source": [
    "Matching HTML Tags\n",
    " Function for testing if an HTML document has matching tags."
   ]
  },
  {
   "cell_type": "code",
   "execution_count": 20,
   "id": "aa9b423b-2094-4b95-95f9-b6a26fc59ce0",
   "metadata": {},
   "outputs": [],
   "source": [
    "# Code Fragment 6.5: Function for testing if an HTML document has matching tags.\n",
    "\n",
    "def is_matched_html(raw):\n",
    "    \"\"\"Return True if all HTML tags are properly matched; False otherwise.\"\"\"\n",
    "    S = ArrayStack()\n",
    "    j = raw.find('<')  # find first '<' character (if any)\n",
    "\n",
    "    while j != -1:\n",
    "        k = raw.find('>', j + 1)  # find next '>' character\n",
    "        if k == -1:\n",
    "            return False  # invalid tag\n",
    "\n",
    "        tag = raw[j + 1 : k]  # strip away < and >\n",
    "\n",
    "        if not tag.startswith('/'):  # this is an opening tag\n",
    "            S.push(tag)\n",
    "        else:  # this is a closing tag\n",
    "            if S.is_empty():\n",
    "                return False  # nothing to match with\n",
    "            if tag[1:] != S.pop():\n",
    "                return False  # mismatched tag\n",
    "\n",
    "        j = raw.find('<', k + 1)  # find next '<' character\n",
    "\n",
    "    return S.is_empty()  # were all opening tags matched?\n"
   ]
  },
  {
   "cell_type": "code",
   "execution_count": 22,
   "id": "371f8688-4e4e-4a60-ab99-d2408b8bf5f6",
   "metadata": {},
   "outputs": [
    {
     "name": "stdout",
     "output_type": "stream",
     "text": [
      "True\n",
      "False\n",
      "False\n"
     ]
    }
   ],
   "source": [
    "print(is_matched_html(\"<html><body><h1>Hello</h1></body></html>\"))  # True\n",
    "print(is_matched_html(\"<html><body><h1>Hello</body></html>\"))       # False\n",
    "print(is_matched_html(\"<div><p></p><br></div>\"))                    # True\n"
   ]
  },
  {
   "cell_type": "code",
   "execution_count": 24,
   "id": "dd2251f1-cf90-46ad-bde6-ce3b9f3fb337",
   "metadata": {},
   "outputs": [
    {
     "ename": "SyntaxError",
     "evalue": "invalid syntax (2894794340.py, line 1)",
     "output_type": "error",
     "traceback": [
      "\u001b[1;36m  Cell \u001b[1;32mIn[24], line 1\u001b[1;36m\u001b[0m\n\u001b[1;33m    Full ArrayQueue Implementation\u001b[0m\n\u001b[1;37m         ^\u001b[0m\n\u001b[1;31mSyntaxError\u001b[0m\u001b[1;31m:\u001b[0m invalid syntax\n"
     ]
    }
   ],
   "source": [
    "Full ArrayQueue Implementation\n",
    "Code Fragments 6.6 & 6.7 Combined: Complete ArrayQueue implementation"
   ]
  },
  {
   "cell_type": "code",
   "execution_count": 26,
   "id": "c58fb3c8-dccc-46eb-a1a9-10cc6a2a5f2e",
   "metadata": {},
   "outputs": [],
   "source": [
    "# Code Fragments 6.6 & 6.7 Combined: Complete ArrayQueue implementation\n",
    "\n",
    "class Empty(Exception):\n",
    "    \"\"\"Error attempting to access an element from an empty container.\"\"\"\n",
    "    pass\n",
    "\n",
    "class ArrayQueue:\n",
    "    \"\"\"FIFO queue implementation using a Python list as underlying circular storage.\"\"\"\n",
    "\n",
    "    DEFAULT_CAPACITY = 10  # moderate capacity for all new queues\n",
    "\n",
    "    def __init__(self):\n",
    "        \"\"\"Create an empty queue.\"\"\"\n",
    "        self._data = [None] * ArrayQueue.DEFAULT_CAPACITY\n",
    "        self._size = 0\n",
    "        self._front = 0\n",
    "\n",
    "    def __len__(self):\n",
    "        \"\"\"Return the number of elements in the queue.\"\"\"\n",
    "        return self._size\n",
    "\n",
    "    def is_empty(self):\n",
    "        \"\"\"Return True if the queue is empty.\"\"\"\n",
    "        return self._size == 0\n",
    "\n",
    "    def first(self):\n",
    "        \"\"\"Return (but do not remove) the element at the front of the queue.\n",
    "\n",
    "        Raise Empty exception if the queue is empty.\n",
    "        \"\"\"\n",
    "        if self.is_empty():\n",
    "            raise Empty(\"Queue is empty\")\n",
    "        return self._data[self._front]\n",
    "\n",
    "    def dequeue(self):\n",
    "        \"\"\"Remove and return the first element of the queue (FIFO).\n",
    "\n",
    "        Raise Empty exception if the queue is empty.\n",
    "        \"\"\"\n",
    "        if self.is_empty():\n",
    "            raise Empty(\"Queue is empty\")\n",
    "        answer = self._data[self._front]\n",
    "        self._data[self._front] = None           # help garbage collection\n",
    "        self._front = (self._front + 1) % len(self._data)\n",
    "        self._size -= 1\n",
    "        return answer\n",
    "\n",
    "    def enqueue(self, e):\n",
    "        \"\"\"Add an element to the back of the queue.\"\"\"\n",
    "        if self._size == len(self._data):\n",
    "            self._resize(2 * len(self._data))  # double the array size if full\n",
    "\n",
    "        avail = (self._front + self._size) % len(self._data)  # next available index\n",
    "        self._data[avail] = e\n",
    "        self._size += 1\n",
    "\n",
    "    def _resize(self, cap):\n",
    "        \"\"\"Resize to a new list of capacity >= len(self).\"\"\"\n",
    "        old = self._data             # keep track of existing list\n",
    "        self._data = [None] * cap    # allocate new list\n",
    "        walk = self._front\n",
    "\n",
    "        for k in range(self._size):  # copy data in correct order\n",
    "            self._data[k] = old[walk]\n",
    "            walk = (1 + walk) % len(old)\n",
    "\n",
    "        self._front = 0  # front has been realigned\n"
   ]
  },
  {
   "cell_type": "code",
   "execution_count": 28,
   "id": "0bd5e2f7-dc8f-4f66-8fc8-a12ff18eed0b",
   "metadata": {},
   "outputs": [
    {
     "name": "stdout",
     "output_type": "stream",
     "text": [
      "10\n",
      "20\n",
      "2\n"
     ]
    }
   ],
   "source": [
    "Q = ArrayQueue()\n",
    "Q.enqueue(10)\n",
    "Q.enqueue(20)\n",
    "Q.enqueue(30)\n",
    "\n",
    "print(Q.dequeue())  # 10\n",
    "print(Q.first())    # 20\n",
    "print(len(Q))       # 2\n"
   ]
  },
  {
   "cell_type": "markdown",
   "id": "d9fdb26e-5140-4d23-a91f-6c2bcb2fc50c",
   "metadata": {},
   "source": [
    "**R-6.1** What values are returned during the following series of stack operations, if executed upon an initially empty stack?\n",
    "`push(5), push(3), pop(), push(2), push(8), pop(), pop(), push(9), push(1), pop(), push(7), push(6), pop(), pop(), push(4), pop(), pop()`\n",
    "\n"
   ]
  },
  {
   "cell_type": "code",
   "execution_count": 31,
   "id": "8a1d60cd-812a-4811-ab11-ececeea8c0bc",
   "metadata": {},
   "outputs": [
    {
     "data": {
      "text/plain": [
       "5"
      ]
     },
     "execution_count": 31,
     "metadata": {},
     "output_type": "execute_result"
    }
   ],
   "source": [
    "5\n",
    "5,3\n",
    "5\n",
    "5,2\n",
    "5,2,8\n",
    "5,2\n",
    "5\n",
    "5,9\n",
    "5,9,1\n",
    "5,9\n",
    "5,9,7\n",
    "5,9,7,6\n",
    "5,9,7\n",
    "5,9,\n",
    "5,9,4,\n",
    "5,9\n",
    "5"
   ]
  },
  {
   "cell_type": "markdown",
   "id": "0a073bcc-f498-45c5-88c2-98d09915f75d",
   "metadata": {},
   "source": [
    "**R-6.2** Suppose an initially empty stack S has executed a total of 25 push operations, 12 top operations, and 10 pop operations, 3 of which raised Empty errors that were caught and ignored. What is the current size of S?\n",
    "\n"
   ]
  },
  {
   "cell_type": "code",
   "execution_count": 34,
   "id": "aadff735-d5c6-4e5f-91ec-ba4c62d565d0",
   "metadata": {},
   "outputs": [
    {
     "data": {
      "text/plain": [
       "18"
      ]
     },
     "execution_count": 34,
     "metadata": {},
     "output_type": "execute_result"
    }
   ],
   "source": [
    "18"
   ]
  },
  {
   "cell_type": "markdown",
   "id": "50137bcf-ad03-48e9-aea7-b93f8c78b4f0",
   "metadata": {},
   "source": [
    "**R-6.3** Implement a function with signature `transfer(S, T)` that transfers all elements from stack `S` onto stack `T`, so that the element that starts at the top of `S` is the first to be inserted onto `T`, and the element at the bottom of `S` ends up at the top of `T`.\n"
   ]
  },
  {
   "cell_type": "code",
   "execution_count": 49,
   "id": "2f7e437a-f9d2-45cf-aca9-191752365ae9",
   "metadata": {},
   "outputs": [],
   "source": [
    "def transfer(S, T):\n",
    "    \"\"\"Transfer all elements from stack S to stack T.\n",
    "    The top of S becomes the bottom of T, and the bottom of S becomes the top of T.\"\"\"\n",
    "    while not S.is_empty():\n",
    "        T.push(S.pop())\n"
   ]
  },
  {
   "cell_type": "code",
   "execution_count": 53,
   "id": "9720e040-3797-4aa4-966b-f076eecc8d48",
   "metadata": {},
   "outputs": [
    {
     "name": "stdout",
     "output_type": "stream",
     "text": [
      "Before transfer:\n",
      "S: [1, 2, 3, 4, 5]\n",
      "T: []\n",
      "After transfer:\n",
      "S: []\n",
      "T: [5, 4, 3, 2, 1]\n"
     ]
    }
   ],
   "source": [
    "S = ArrayStack()\n",
    "T = ArrayStack()\n",
    "\n",
    "for x in [1, 2, 3, 4, 5]:  # bottom to top\n",
    "    S.push(x)\n",
    "\n",
    "print(\"Before transfer:\")\n",
    "print(\"S:\", S)\n",
    "print(\"T:\", T)\n",
    "\n",
    "transfer(S, T)\n",
    "\n",
    "print(\"After transfer:\")\n",
    "print(\"S:\", S)\n",
    "print(\"T:\", T)"
   ]
  },
  {
   "cell_type": "markdown",
   "id": "cc4fed15-c76e-4c72-b83c-408e64c0f1b3",
   "metadata": {},
   "source": [
    "\n",
    "**R-6.4** Give a recursive method for removing all the elements from a stack.\n",
    "\n"
   ]
  },
  {
   "cell_type": "code",
   "execution_count": 73,
   "id": "3e7b17b1-0040-4968-a003-26ce7008b623",
   "metadata": {},
   "outputs": [
    {
     "name": "stdout",
     "output_type": "stream",
     "text": [
      "Popped: 5\n",
      "Popped: 4\n",
      "Popped: 3\n",
      "Popped: 2\n",
      "Popped: 1\n"
     ]
    },
    {
     "data": {
      "text/plain": [
       "'All elements are out of the stack'"
      ]
     },
     "execution_count": 73,
     "metadata": {},
     "output_type": "execute_result"
    }
   ],
   "source": [
    "def recursive_remove(S):\n",
    "    \"\"\"Removes all elements from a stack recursively.\"\"\"\n",
    "    if S.is_empty():\n",
    "        return \"All elements are out of the stack\"\n",
    "    else:\n",
    "        popped = S.pop()  # remove top element, but don't pass it to the next call\n",
    "        print(f\"Popped: {popped}\")\n",
    "        return recursive_remove(S)\n",
    "\n",
    "\n",
    "S = ArrayStack()\n",
    "for x in [1, 2, 3, 4, 5]:  # bottom to top\n",
    "    S.push(x)\n",
    "\n",
    "recursive_remove(S)"
   ]
  },
  {
   "cell_type": "code",
   "execution_count": null,
   "id": "eb0fb760-4edf-4bf0-85c9-f3f2d0a16e29",
   "metadata": {},
   "outputs": [],
   "source": [
    "def power(x, n):\n",
    "    \"\"\"Compute the value x^n for integer n.\"\"\"\n",
    "    if n == 0:\n",
    "        return 1\n",
    "    else:\n",
    "        return x * power(x, n - 1)"
   ]
  },
  {
   "cell_type": "markdown",
   "id": "180ca423-5dd5-4faf-9ed0-1c01cdda4379",
   "metadata": {},
   "source": [
    "**R-6.5** Implement a function that reverses a list of elements by pushing them onto a stack in one order, and writing them back to the list in reversed order.\n",
    "\n"
   ]
  },
  {
   "cell_type": "code",
   "execution_count": 79,
   "id": "f65edf9b-35c7-4b88-903b-73f8ffa3c033",
   "metadata": {},
   "outputs": [
    {
     "name": "stdout",
     "output_type": "stream",
     "text": [
      "Before: [1, 2, 3, 4, 5]\n",
      "After:  [5, 4, 3, 2, 1]\n"
     ]
    }
   ],
   "source": [
    "def reverse_list(lst):\n",
    "    \"\"\"Reverses a list using a stack.\"\"\"\n",
    "    stack = ArrayStack()\n",
    "    \n",
    "    # Step 1: Push all elements onto the stack\n",
    "    for item in lst:\n",
    "        stack.push(item)\n",
    "    \n",
    "    # Step 2: Pop them back into the list (reversed)\n",
    "    for i in range(len(lst)):\n",
    "        lst[i] = stack.pop()\n",
    "        \n",
    "my_list = [1, 2, 3, 4, 5]\n",
    "print(\"Before:\", my_list)\n",
    "\n",
    "reverse_list(my_list)\n",
    "print(\"After: \", my_list)\n"
   ]
  },
  {
   "cell_type": "markdown",
   "id": "0ca6b6eb-221a-46af-8608-de8f5154972a",
   "metadata": {},
   "source": [
    "**R-6.6** Give a precise and complete definition of the concept of matching for grouping symbols in an arithmetic expression. Your definition may be recursive.\n",
    "\n"
   ]
  },
  {
   "cell_type": "markdown",
   "id": "37feb4d2-6493-4607-8ead-70935a539689",
   "metadata": {},
   "source": [
    "Matching grouping symbols in an arithmetic expression means every opening symbol (`(`, `[`, `{`) has a corresponding and correctly ordered closing symbol (`)`, `]`, `}`), with proper nesting. An expression is matched if it’s empty, has no grouping symbols, or is built recursively by enclosing matched expressions and combining them sequentially.\n"
   ]
  },
  {
   "cell_type": "markdown",
   "id": "1c00ee7b-cf5e-421c-ae76-225c3568f6f5",
   "metadata": {},
   "source": [
    "**R-6.7** What values are returned during the following sequence of queue operations, if executed on an initially empty queue?\n",
    "`enqueue(5), enqueue(3), dequeue(), enqueue(2), enqueue(8), dequeue(), dequeue(), enqueue(9), enqueue(1), dequeue(), enqueue(7), enqueue(6), dequeue(), dequeue(), enqueue(4), dequeue(), dequeue()`\n",
    "\n"
   ]
  },
  {
   "cell_type": "code",
   "execution_count": null,
   "id": "d1cd9cdc-ef64-45e5-a94a-5af1415998a7",
   "metadata": {},
   "outputs": [],
   "source": [
    "5\n",
    "5,3\n",
    "3\n",
    "3,2\n",
    "3,2,8\n",
    "2,8\n",
    "8\n",
    "8,9\n",
    "8,9,1\n",
    "9,1\n",
    "9,1,7\n",
    "9,1,7,6\n",
    "1,7,6\n",
    "7,6\n",
    "7,6,4\n",
    "6,4\n",
    "4"
   ]
  },
  {
   "cell_type": "markdown",
   "id": "f8992f71-3bbe-4931-af1e-e623206049b3",
   "metadata": {},
   "source": [
    "**R-6.8** Suppose an initially empty queue `Q` has executed a total of 32 enqueue operations, 10 first operations, and 15 dequeue operations, 5 of which raised Empty errors that were caught and ignored. What is the current size of `Q`?\n",
    "\n"
   ]
  },
  {
   "cell_type": "code",
   "execution_count": null,
   "id": "76cdbb76-47c6-4efe-9a15-f8a71e88268d",
   "metadata": {},
   "outputs": [],
   "source": [
    "22"
   ]
  },
  {
   "cell_type": "markdown",
   "id": "ec13ffba-06bf-42e6-bee0-5b42c436410b",
   "metadata": {},
   "source": [
    "**R-6.9** Had the queue of the previous problem been an instance of `ArrayQueue` that used an initial array of capacity 30, and had its size never been greater than 30, what would be the final value of the `front` instance variable?\n",
    "\n"
   ]
  },
  {
   "cell_type": "code",
   "execution_count": 84,
   "id": "61bb3fc8-cbfc-420b-9919-6135861436ad",
   "metadata": {},
   "outputs": [
    {
     "data": {
      "text/plain": [
       "10"
      ]
     },
     "execution_count": 84,
     "metadata": {},
     "output_type": "execute_result"
    }
   ],
   "source": [
    "10"
   ]
  },
  {
   "cell_type": "markdown",
   "id": "48c7f889-9ee9-4562-8ddb-5474a810513c",
   "metadata": {},
   "source": [
    "**R-6.10** Consider what happens if the loop in the `ArrayQueue.resize` method at lines 53–55 of Code Fragment 6.7 had been implemented as:\n",
    "\n",
    "```python\n",
    "for k in range(self.size):\n",
    "    self.data[k] = old[k]  # rather than old[walk]\n",
    "```\n",
    "\n",
    "Give a clear explanation of what could go wrong.\n",
    "\n"
   ]
  },
  {
   "cell_type": "markdown",
   "id": "4380e8ce-1502-45c8-ac39-6d98ed3e3c7f",
   "metadata": {},
   "source": [
    "If the loop in ArrayQueue.resize uses self._data[k] = old[k] instead of old[walk], it incorrectly assumes the queue starts at index 0, ignoring the circular layout, which leads to copying the wrong elements and corrupting the queue’s logical order."
   ]
  },
  {
   "cell_type": "markdown",
   "id": "3fb89cd5-855a-453d-9fa7-e87c416891ff",
   "metadata": {},
   "source": [
    "**R-6.11** Give a simple adapter that implements our queue ADT while using a `collections.deque` instance for storage.\n",
    "\n"
   ]
  },
  {
   "cell_type": "code",
   "execution_count": null,
   "id": "a67f87dc-17c0-4452-a358-6b7340c2a858",
   "metadata": {},
   "outputs": [],
   "source": [
    "To implement a FIFO queue ADT using collections.deque, use:\n",
    "D.append(x) for enqueue(x)\n",
    "D.popleft() for dequeue()"
   ]
  },
  {
   "cell_type": "markdown",
   "id": "e572072d-1bd7-45ce-8be6-2b4d77e87636",
   "metadata": {},
   "source": [
    "**R-6.12** What values are returned during the following sequence of deque ADT operations, on initially empty deque?\n",
    "`add_first(4), add_last(8), add_last(9), add_first(5), back(), delete_first(), delete_last(), add_last(7), first(), last(), add_last(6), delete_first(), delete_first()`\n",
    "\n"
   ]
  },
  {
   "cell_type": "code",
   "execution_count": 87,
   "id": "17c6b821-fda0-4649-8854-510b52ac3393",
   "metadata": {},
   "outputs": [
    {
     "data": {
      "text/plain": [
       "(7, 6)"
      ]
     },
     "execution_count": 87,
     "metadata": {},
     "output_type": "execute_result"
    }
   ],
   "source": [
    "4\n",
    "4,8\n",
    "4,8,9\n",
    "5,4,8,9\n",
    "5,4,8,9\n",
    "4,8,9\n",
    "4,8\n",
    "4,8,7\n",
    "4\n",
    "7\n",
    "4,8,7,6\n",
    "8,7,6\n",
    "7,6\n"
   ]
  },
  {
   "cell_type": "markdown",
   "id": "07ff8eb8-d797-43ee-b89c-72c87d0025b4",
   "metadata": {},
   "source": []
  },
  {
   "cell_type": "markdown",
   "id": "cd905ebb-9e4f-4f46-ad0c-52c29ba9ae95",
   "metadata": {},
   "source": []
  },
  {
   "cell_type": "code",
   "execution_count": null,
   "id": "a15a67ef-c340-460e-a195-d8c3ca8133a8",
   "metadata": {},
   "outputs": [],
   "source": []
  },
  {
   "cell_type": "code",
   "execution_count": null,
   "id": "797e7c05-f703-400f-9158-ee132d0cef0d",
   "metadata": {},
   "outputs": [],
   "source": []
  },
  {
   "cell_type": "code",
   "execution_count": null,
   "id": "c09e8db5-9937-4f3f-bb4f-93a55acbfdc3",
   "metadata": {},
   "outputs": [],
   "source": []
  },
  {
   "cell_type": "code",
   "execution_count": null,
   "id": "f230fec8-ff52-4d26-a17e-0e70a1dcd708",
   "metadata": {},
   "outputs": [],
   "source": []
  }
 ],
 "metadata": {
  "kernelspec": {
   "display_name": "Python 3 (ipykernel)",
   "language": "python",
   "name": "python3"
  },
  "language_info": {
   "codemirror_mode": {
    "name": "ipython",
    "version": 3
   },
   "file_extension": ".py",
   "mimetype": "text/x-python",
   "name": "python",
   "nbconvert_exporter": "python",
   "pygments_lexer": "ipython3",
   "version": "3.12.4"
  }
 },
 "nbformat": 4,
 "nbformat_minor": 5
}
