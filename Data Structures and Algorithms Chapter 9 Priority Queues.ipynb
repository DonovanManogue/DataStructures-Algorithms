{
 "cells": [
  {
   "cell_type": "code",
   "execution_count": null,
   "id": "1287cb9a-4acd-488a-8c66-376ad6c0f259",
   "metadata": {},
   "outputs": [],
   "source": []
  },
  {
   "cell_type": "code",
   "execution_count": null,
   "id": "6f595cec-634f-4588-ac34-a5f9c4f86bc7",
   "metadata": {},
   "outputs": [],
   "source": []
  },
  {
   "cell_type": "code",
   "execution_count": null,
   "id": "c78a30f2-cbf9-4ed5-a4ef-742e683e80f2",
   "metadata": {},
   "outputs": [],
   "source": []
  },
  {
   "cell_type": "code",
   "execution_count": 1,
   "id": "107a8b1c-0c3f-4352-a571-1ffee33873ef",
   "metadata": {},
   "outputs": [
    {
     "ename": "SyntaxError",
     "evalue": "invalid character '“' (U+201C) (2147995695.py, line 2)",
     "output_type": "error",
     "traceback": [
      "\u001b[1;36m  Cell \u001b[1;32mIn[1], line 2\u001b[1;36m\u001b[0m\n\u001b[1;33m    on an initially empty priority queue P. The “Priority Queue” column is somewhat\u001b[0m\n\u001b[1;37m                                                ^\u001b[0m\n\u001b[1;31mSyntaxError\u001b[0m\u001b[1;31m:\u001b[0m invalid character '“' (U+201C)\n"
     ]
    }
   ],
   "source": [
    "Example 9.1 The following table shows a series of operations and their effects\n",
    " on an initially empty priority queue P. The “Priority Queue” column is somewhat\n",
    " deceiving since it shows the entries as tuples and sorted by key. Such an internal\n",
    " representation is not required of a priority queue."
   ]
  },
  {
   "cell_type": "markdown",
   "id": "b6683161-2a43-4deb-9291-a4f184113721",
   "metadata": {},
   "source": [
    "| Operation        | Return Value | Priority Queue State After Operation |\n",
    "| ---------------- | ------------ | ------------------------------------ |\n",
    "| `P.add(5, A)`    | —            | `{(5, A)}`                           |\n",
    "| `P.add(9, C)`    | —            | `{(5, A), (9, C)}`                   |\n",
    "| `P.add(3, B)`    | —            | `{(3, B), (5, A), (9, C)}`           |\n",
    "| `P.add(7, D)`    | —            | `{(3, B), (5, A), (7, D), (9, C)}`   |\n",
    "| `P.min()`        | `(3, B)`     | `{(3, B), (5, A), (7, D), (9, C)}`   |\n",
    "| `P.remove_min()` | `(3, B)`     | `{(5, A), (7, D), (9, C)}`           |\n",
    "| `P.remove_min()` | `(5, A)`     | `{(7, D), (9, C)`                    |\n",
    "| `len(P)`         | `2`          | `{(7, D), (9, C)}`                   |\n",
    "| `P.remove_min()` | `(7, D)`     | `{(9, C)}`                           |\n",
    "| `P.remove_min()` | `(9, C)`     | `{}` (empty)                         |\n",
    "| `P.is_empty()`   | `True`       | `{}`                                 |\n",
    "| `P.remove_min()` | `\"error\"`    | `{}` (still empt\\_                   |\n"
   ]
  },
  {
   "cell_type": "markdown",
   "id": "d9a7bbda-1ab9-49f3-b835-8db704456c04",
   "metadata": {},
   "source": [
    "Code Fragment 9.1 Description\n",
    "A PriorityQueueBase class with a nested Item class that composes a key and a value into a single object. For convenience, we provide a concrete implementation of the is_empty() method that is based on a presumed __len__() implementation."
   ]
  },
  {
   "cell_type": "code",
   "execution_count": null,
   "id": "87f55bd0-5512-45de-825d-a6017adfaeb5",
   "metadata": {},
   "outputs": [],
   "source": [
    "class PriorityQueueBase:\n",
    "    \"\"\"Abstract base class for a priority queue.\"\"\"\n",
    "\n",
    "    class Item:\n",
    "        \"\"\"Lightweight composite to store priority queue items.\"\"\"\n",
    "        __slots__ = '_key', '_value'\n",
    "\n",
    "        def __init__(self, k, v):\n",
    "            self._key = k\n",
    "            self._value = v\n",
    "\n",
    "        def __lt__(self, other):\n",
    "            return self._key < other._key  # compare items based on their keys\n",
    "\n",
    "    def is_empty(self):\n",
    "        \"\"\"Return True if the priority queue is empty.\"\"\"\n",
    "        return len(self) == 0  # assumes __len__ is implemented in subclass\n"
   ]
  },
  {
   "cell_type": "code",
   "execution_count": null,
   "id": "320c3747-b2b5-4c97-8b6a-5675b8adf450",
   "metadata": {},
   "outputs": [],
   "source": [
    "k =key and v =value"
   ]
  },
  {
   "cell_type": "code",
   "execution_count": null,
   "id": "8974cf84-50dd-4c15-8c9a-e34edf5ff197",
   "metadata": {},
   "outputs": [],
   "source": [
    "Table 9.1 Worst-case running times of the methods of a priority queue of size\n",
    " n, realized by means of an unsorted, doubly linked list. The space requirement\n",
    " is O(n)"
   ]
  },
  {
   "cell_type": "markdown",
   "id": "6217414b-10c8-4dfa-8800-521845a0b51e",
   "metadata": {},
   "source": [
    "| **Operation**  | **Worst-case Time** | **Explanation**                                                                |\n",
    "| -------------- | ------------------- | ------------------------------------------------------------------------------ |\n",
    "| `len()`        | O(1)                | List keeps track of size with a counter.                                       |\n",
    "| `is_empty()`   | O(1)                | Simply checks if size == 0.                                                    |\n",
    "| `add(k, v)`    | O(1)                | Inserts at the front or back of the list (no sorting needed).                  |\n",
    "| `min()`        | O(n)                | Must **scan all items** to find the one with the **smallest key**.             |\n",
    "| `remove_min()` | O(n)                | Must **scan to find min**, then **remove it**, which takes O(1) after finding. |\n"
   ]
  },
  {
   "cell_type": "code",
   "execution_count": null,
   "id": "cb73d294-56ea-4cb1-900f-61540ed3d47b",
   "metadata": {},
   "outputs": [],
   "source": [
    "Code Fragment 9.2"
   ]
  },
  {
   "cell_type": "code",
   "execution_count": null,
   "id": "cf54f7eb-aa84-4672-8feb-750e394f731e",
   "metadata": {
    "jp-MarkdownHeadingCollapsed": true
   },
   "outputs": [],
   "source": [
    "\n",
    "# An implementation of a min-oriented priority queue using an unsorted positional list.\n",
    "# The parent class PriorityQueueBase is given in Code Fragment 9.1,\n",
    "# and the PositionalList class is from Section 7.4.\n",
    "\n",
    "class UnsortedPriorityQueue(PriorityQueueBase):\n",
    "    \"\"\"A min-oriented priority queue implemented with an unsorted list.\"\"\"\n",
    "\n",
    "    def __init__(self):\n",
    "        \"\"\"Create a new empty Priority Queue.\"\"\"\n",
    "        self._data = PositionalList()  # internal unsorted positional list\n",
    "\n",
    "    def __len__(self):\n",
    "        \"\"\"Return the number of items in the priority queue.\"\"\"\n",
    "        return len(self._data)\n",
    "\n",
    "    def add(self, key, value):\n",
    "        \"\"\"Add a key-value pair.\"\"\"\n",
    "        self._data.add_last(self.Item(key, value))  # uses Item from base class\n",
    "\n",
    "    def _find_min(self):\n",
    "        \"\"\"Return Position of item with minimum key (nonpublic utility).\"\"\"\n",
    "        if self.is_empty():\n",
    "            raise Empty(\"Priority queue is empty\")\n",
    "        small = self._data.first()\n",
    "        walk = self._data.after(small)\n",
    "        while walk is not None:\n",
    "            if walk.element() < small.element():  # compares keys via Item.__lt__\n",
    "                small = walk\n",
    "            walk = self._data.after(walk)\n",
    "        return small\n",
    "\n",
    "    def min(self):\n",
    "        \"\"\"Return but do not remove (k,v) tuple with minimum key.\"\"\"\n",
    "        p = self._find_min()\n",
    "        item = p.element()\n",
    "        return (item._key, item._value)\n",
    "\n",
    "    def remove_min(self):\n",
    "        \"\"\"Remove and return (k,v) tuple with minimum key.\"\"\"\n",
    "        p = self._find_min()\n",
    "        item = self._data.delete(p)\n",
    "        return (item._key, item._value)\n"
   ]
  },
  {
   "cell_type": "code",
   "execution_count": null,
   "id": "de9c60c6-0068-4159-8d29-1fc7d7f0f17c",
   "metadata": {},
   "outputs": [],
   "source": [
    "Table 9.2 – Priority Queue Running Times: Unsorted vs. Sorted List"
   ]
  },
  {
   "cell_type": "markdown",
   "id": "495d05e9-35d8-44cf-8054-1ab94c1b4ea2",
   "metadata": {},
   "source": [
    "| **Operation**  | **Unsorted List** | **Sorted List** | **Explanation**                                              |\n",
    "| -------------- | ----------------- | --------------- | ------------------------------------------------------------ |\n",
    "| `len()`        | O(1)              | O(1)            | List maintains size count.                                   |\n",
    "| `is_empty()`   | O(1)              | O(1)            | Based on `len() == 0`.                                       |\n",
    "| `add(k, v)`    | O(1)              | O(n)            | Unsorted: insert at end; Sorted: must find correct position. |\n",
    "| `min()`        | O(n)              | O(1)            | Unsorted: must scan all; Sorted: min at front.               |\n",
    "| `remove_min()` | O(n)              | O(1)            | Unsorted: must find min; Sorted: remove front.               |\n"
   ]
  },
  {
   "cell_type": "code",
   "execution_count": null,
   "id": "cab77126-6dbc-4823-b8d6-33bd1a05cf75",
   "metadata": {},
   "outputs": [],
   "source": [
    "Code Fragment 9.3:"
   ]
  },
  {
   "cell_type": "code",
   "execution_count": null,
   "id": "c063e46e-6ce3-4d7f-8216-76a79ddace47",
   "metadata": {},
   "outputs": [],
   "source": [
    "\n",
    "# An implementation of a min-oriented priority queue using a sorted list.\n",
    "# The parent class PriorityQueueBase is given in Code Fragment 9.1,\n",
    "# and the PositionalList class is from Section 7.4.\n",
    "\n",
    "class SortedPriorityQueue(PriorityQueueBase):\n",
    "    \"\"\"A min-oriented priority queue implemented with a sorted list.\"\"\"\n",
    "\n",
    "    def __init__(self):\n",
    "        \"\"\"Create a new empty Priority Queue.\"\"\"\n",
    "        self._data = PositionalList()\n",
    "\n",
    "    def __len__(self):\n",
    "        \"\"\"Return the number of items in the priority queue.\"\"\"\n",
    "        return len(self._data)\n",
    "\n",
    "    def add(self, key, value):\n",
    "        \"\"\"Add a key-value pair.\"\"\"\n",
    "        newest = self.Item(key, value)  # make new item instance\n",
    "        walk = self._data.last()  # walk backward looking for smaller key\n",
    "        while walk is not None and newest < walk.element():\n",
    "            walk = self._data.before(walk)\n",
    "        if walk is None:\n",
    "            self._data.add_first(newest)  # new key is smallest\n",
    "        else:\n",
    "            self._data.add_after(walk, newest)  # insert after walk\n",
    "\n",
    "    def min(self):\n",
    "        \"\"\"Return but do not remove (k,v) tuple with minimum key.\"\"\"\n",
    "        if self.is_empty():\n",
    "            raise Empty(\"Priority queue is empty.\")\n",
    "        p = self._data.first()\n",
    "        item = p.element()\n",
    "        return (item._key, item._value)\n",
    "\n",
    "    def remove_min(self):\n",
    "        \"\"\"Remove and return (k,v) tuple with minimum key.\"\"\"\n",
    "        if self.is_empty():\n",
    "            raise Empty(\"Priority queue is empty.\")\n",
    "        item = self._data.delete(self._data.first())\n",
    "        return (item._key, item._value)\n"
   ]
  },
  {
   "cell_type": "code",
   "execution_count": null,
   "id": "2f31bf73-8817-40d2-9a0a-13479888b56f",
   "metadata": {},
   "outputs": [],
   "source": [
    " Figure 9.1: Example of a heap storing 13 entries with integer keys. The last position\n",
    " is the one storing entry (13,W)."
   ]
  },
  {
   "cell_type": "code",
   "execution_count": null,
   "id": "a2bbe551-59e2-4b12-9b62-ffd6ae004239",
   "metadata": {},
   "outputs": [],
   "source": [
    "                (4,C)\n",
    "              /       \\\n",
    "         (5,A)         (15,K)\n",
    "        /     \\        /     \\\n",
    "   (16,X)   (9,F)  (25,J)  (14,E)\n",
    "   /   \\     /  \\   /   \\\n",
    "(12,H)(11,S)(6,Z)(7,Q)(13,W)(20,B)\n"
   ]
  },
  {
   "cell_type": "code",
   "execution_count": null,
   "id": "6d433139-7aca-45fe-b34e-1e4de8530849",
   "metadata": {},
   "outputs": [],
   "source": [
    "CodeFragment 9.4: HeapPriorityQueue (Partial) &  Code Fragment 9.5: HeapPriorityQueue (Public Behaviors)"
   ]
  },
  {
   "cell_type": "code",
   "execution_count": null,
   "id": "a4ce1281-165f-41ab-a43a-8a7c6551a9d5",
   "metadata": {},
   "outputs": [],
   "source": [
    "class HeapPriorityQueue(PriorityQueueBase):\n",
    "    \"\"\"A min-oriented priority queue implemented with a binary heap.\"\"\"\n",
    "\n",
    "    # ------------------- Nonpublic behaviors -------------------\n",
    "\n",
    "    def _parent(self, j):\n",
    "        return (j - 1) // 2\n",
    "\n",
    "    def _left(self, j):\n",
    "        return 2 * j + 1\n",
    "\n",
    "    def _right(self, j):\n",
    "        return 2 * j + 2\n",
    "\n",
    "    def _has_left(self, j):\n",
    "        return self._left(j) < len(self._data)\n",
    "\n",
    "    def _has_right(self, j):\n",
    "        return self._right(j) < len(self._data)\n",
    "\n",
    "    def _swap(self, i, j):\n",
    "        \"\"\"Swap the elements at indices i and j of the array.\"\"\"\n",
    "        self._data[i], self._data[j] = self._data[j], self._data[i]\n",
    "\n",
    "    def _upheap(self, j):\n",
    "        parent = self._parent(j)\n",
    "        if j > 0 and self._data[j] < self._data[parent]:\n",
    "            self._swap(j, parent)\n",
    "            self._upheap(parent)  # recur at parent's position\n",
    "\n",
    "    def _downheap(self, j):\n",
    "        if self._has_left(j):\n",
    "            left = self._left(j)\n",
    "            small_child = left\n",
    "            if self._has_right(j):\n",
    "                right = self._right(j)\n",
    "                if self._data[right] < self._data[left]:\n",
    "                    small_child = right\n",
    "            if self._data[small_child] < self._data[j]:\n",
    "                self._swap(j, small_child)\n",
    "                self._downheap(small_child)  # recur at new position\n",
    "# -------------------- Public behaviors --------------------\n",
    "\n",
    "def __init__(self):\n",
    "    \"\"\"Create a new empty Priority Queue.\"\"\"\n",
    "    self._data = []\n",
    "\n",
    "def __len__(self):\n",
    "    \"\"\"Return the number of items in the priority queue.\"\"\"\n",
    "    return len(self._data)\n",
    "\n",
    "def add(self, key, value):\n",
    "    \"\"\"Add a key-value pair to the priority queue.\"\"\"\n",
    "    self._data.append(self.Item(key, value))\n",
    "    self._upheap(len(self._data) - 1)  # upheap newly added position\n",
    "\n",
    "def min(self):\n",
    "    \"\"\"Return but do not remove (k,v) tuple with minimum key.\n",
    "    \n",
    "    Raise Empty exception if empty.\n",
    "    \"\"\"\n",
    "    if self.is_empty():\n",
    "        raise Empty(\"Priority queue is empty.\")\n",
    "    item = self._data[0]\n",
    "    return (item._key, item._value)\n",
    "\n",
    "def remove_min(self):\n",
    "    \"\"\"Remove and return (k,v) tuple with minimum key.\n",
    "    \n",
    "    Raise Empty exception if empty.\n",
    "    \"\"\"\n",
    "    if self.is_empty():\n",
    "        raise Empty(\"Priority queue is empty.\")\n",
    "    self._swap(0, len(self._data) - 1)   # put min item at the end\n",
    "    item = self._data.pop()              # remove it from list\n",
    "    self._downheap(0)                    # fix new root\n",
    "    return (item._key, item._value)\n"
   ]
  },
  {
   "cell_type": "code",
   "execution_count": 3,
   "id": "acf22a88-6f7e-4198-b0a9-ef70ee97577b",
   "metadata": {},
   "outputs": [
    {
     "ename": "SyntaxError",
     "evalue": "invalid syntax (3270772704.py, line 1)",
     "output_type": "error",
     "traceback": [
      "\u001b[1;36m  Cell \u001b[1;32mIn[3], line 1\u001b[1;36m\u001b[0m\n\u001b[1;33m    Table 9.3: Performance of a Heap-Based Priority Queue\u001b[0m\n\u001b[1;37m          ^\u001b[0m\n\u001b[1;31mSyntaxError\u001b[0m\u001b[1;31m:\u001b[0m invalid syntax\n"
     ]
    }
   ],
   "source": [
    " Table 9.3: Performance of a Heap-Based Priority Queue"
   ]
  },
  {
   "cell_type": "markdown",
   "id": "a053147b-ce9c-4bf7-915a-8351a78ef62b",
   "metadata": {},
   "source": [
    "| Operation        | Running Time |\n",
    "| ---------------- | ------------ |\n",
    "| `len(P)`         | O(1)         |\n",
    "| `P.is_empty()`   | O(1)         |\n",
    "| `P.min()`        | O(1)         |\n",
    "| `P.add()`        | O(log n)\\*   |\n",
    "| `P.remove_min()` | O(log n)\\*   |\n"
   ]
  },
  {
   "cell_type": "code",
   "execution_count": null,
   "id": "207fb64b-c88e-439e-b8d8-1acc1aa5e131",
   "metadata": {},
   "outputs": [],
   "source": [
    " Table 9.3: Performance of a priority queue, P, realized by means of a heap. We\n",
    " let n denote the number of entries in the priority queue at the time an operation is\n",
    " executed. The space requirement is O(n). The running time of operations min and\n",
    " remove min are amortized for an array-based representation, due to occasional re\n",
    "sizing of a dynamic array; those bounds are worst case with a linked tree structure."
   ]
  },
  {
   "cell_type": "code",
   "execution_count": null,
   "id": "2f13595b-384a-44ab-9107-66f0b1a834ab",
   "metadata": {},
   "outputs": [],
   "source": [
    " Code Fragment 9.6: HeapPriorityQueue with Bulk Initialization"
   ]
  },
  {
   "cell_type": "code",
   "execution_count": null,
   "id": "145656a2-82ef-4fa1-be9b-487bde349021",
   "metadata": {},
   "outputs": [],
   "source": [
    "def __init__(self, contents=()):\n",
    "    \"\"\"Create a new priority queue.\n",
    "    \n",
    "    By default, the queue will be empty. If `contents` is given,\n",
    "    it should be an iterable sequence of (k, v) tuples specifying the initial contents.\n",
    "    \"\"\"\n",
    "    self._data = [self.Item(k, v) for k, v in contents]\n",
    "    if len(self._data) > 1:\n",
    "        self._heapify()\n",
    "\n",
    "def _heapify(self):\n",
    "    \"\"\"Perform bottom-up heap construction in linear time.\"\"\"\n",
    "    start = self._parent(len(self._data) - 1)  # start at parent of last leaf\n",
    "    for j in range(start, -1, -1):             # down to and including the root\n",
    "        self._downheap(j)\n"
   ]
  },
  {
   "cell_type": "code",
   "execution_count": 6,
   "id": "a1b01fca-f05a-40b1-a797-697d3ccabccb",
   "metadata": {},
   "outputs": [
    {
     "ename": "SyntaxError",
     "evalue": "invalid syntax (612918557.py, line 1)",
     "output_type": "error",
     "traceback": [
      "\u001b[1;36m  Cell \u001b[1;32mIn[6], line 1\u001b[1;36m\u001b[0m\n\u001b[1;33m    Python heapq Module: Key Functions and Their Running Times\u001b[0m\n\u001b[1;37m           ^\u001b[0m\n\u001b[1;31mSyntaxError\u001b[0m\u001b[1;31m:\u001b[0m invalid syntax\n"
     ]
    }
   ],
   "source": [
    " Python heapq Module: Key Functions and Their Running Times"
   ]
  },
  {
   "cell_type": "markdown",
   "id": "8fe019ec-8fd9-4eec-924f-2809b557eeb1",
   "metadata": {},
   "source": [
    "| Function                 | Description                                                                                                             | Time Complexity    |\n",
    "| ------------------------ | ----------------------------------------------------------------------------------------------------------------------- | ------------------ |\n",
    "| `heappush(L, e)`         | Push element `e` onto list `L` and restore the heap-order property.                                                     | **O(log n)**       |\n",
    "| `heappop(L)`             | Pop and return the smallest element from heap `L`.                                                                      | **O(log n)**       |\n",
    "| `heappushpop(L, e)`      | Push `e` onto `L`, then pop and return the smallest item. More efficient than calling `heappush` followed by `heappop`. | **O(log n)**       |\n",
    "| `heapreplace(L, e)`      | Pop the smallest item from `L`, then push `e`. Ensures the new element is **not** returned even if it's the smallest.   | **O(log n)**       |\n",
    "| `heapify(L)`             | Transform an unordered list `L` into a valid heap (min-heap). Uses a bottom-up approach.                                | **O(n)**           |\n",
    "| `nlargest(k, iterable)`  | Return a list of the `k` largest elements from `iterable`.                                                              | **O(n + k log n)** |\n",
    "| `nsmallest(k, iterable)` | Return a list of the `k` smallest elements from `iterable`.                                                             | **O(n + k log n)** |\n"
   ]
  },
  {
   "cell_type": "code",
   "execution_count": null,
   "id": "f97aadd5-0fce-489d-8a32-5cc902122b9d",
   "metadata": {},
   "outputs": [],
   "source": [
    "Code Fragment 9.7: pq_sort using a Priority Queue"
   ]
  },
  {
   "cell_type": "code",
   "execution_count": null,
   "id": "895f098d-3a86-48cf-91f4-0859af56059a",
   "metadata": {},
   "outputs": [],
   "source": [
    "def pq_sort(C):\n",
    "    \"\"\"Sort a collection of elements stored in a positional list using a priority queue.\"\"\"\n",
    "    n = len(C)\n",
    "    P = PriorityQueue()  # assume a min-oriented priority queue\n",
    "\n",
    "    # Phase 1: Insert each element into the priority queue\n",
    "    for j in range(n):\n",
    "        element = C.delete(C.first())\n",
    "        P.add(element, element)  # use element as both key and value\n",
    "\n",
    "    # Phase 2: Extract elements in sorted order back into C\n",
    "    for j in range(n):\n",
    "        (k, v) = P.remove_min()\n",
    "        C.add_last(v)\n"
   ]
  },
  {
   "cell_type": "code",
   "execution_count": null,
   "id": "838c7521-2270-4c76-9c2d-c9a720e46716",
   "metadata": {},
   "outputs": [],
   "source": [
    "Selection Sort Using a Priority Queue\n",
    "📥 Input:\n",
    "Initial collection C: (7, 4, 8, 2, 5, 3)\n",
    "\n",
    "Priority queue P: ()"
   ]
  },
  {
   "cell_type": "code",
   "execution_count": null,
   "id": "c12108a0-59c4-4553-846d-6df0c3608422",
   "metadata": {},
   "outputs": [],
   "source": [
    " Phase 1: Move All Elements to Priority Queue"
   ]
  },
  {
   "cell_type": "markdown",
   "id": "90bded96-f550-46e7-ae42-8f1c7eef72a1",
   "metadata": {},
   "source": [
    "| Step | Collection C    | Priority Queue P   |\n",
    "| ---- | --------------- | ------------------ |\n",
    "| (a)  | (4, 8, 2, 5, 3) | (7)                |\n",
    "| (b)  | (8, 2, 5, 3)    | (7, 4)             |\n",
    "| (c)  | (2, 5, 3)       | (7, 4, 8)          |\n",
    "| (d)  | (5, 3)          | (7, 4, 8, 2)       |\n",
    "| (e)  | (3)             | (7, 4, 8, 2, 5)    |\n",
    "| (f)  | ()              | (7, 4, 8, 2, 5, 3) |\n"
   ]
  },
  {
   "cell_type": "code",
   "execution_count": null,
   "id": "412d29e7-db1a-4a29-85b0-614bfd4d96fa",
   "metadata": {},
   "outputs": [],
   "source": [
    "Phase 2: Remove Minimums Back into Collection (Sorted)"
   ]
  },
  {
   "cell_type": "markdown",
   "id": "f86403c1-45e3-4c49-bd5d-057633625030",
   "metadata": {},
   "source": [
    "| Step | Collection C       | Priority Queue P |\n",
    "| ---- | ------------------ | ---------------- |\n",
    "| (a)  | (2)                | (7, 4, 8, 5, 3)  |\n",
    "| (b)  | (2, 3)             | (7, 4, 8, 5)     |\n",
    "| (c)  | (2, 3, 4)          | (7, 8, 5)        |\n",
    "| (d)  | (2, 3, 4, 5)       | (7, 8)           |\n",
    "| (e)  | (2, 3, 4, 5, 7)    | (8)              |\n",
    "| (f)  | (2, 3, 4, 5, 7, 8) | ()               |\n"
   ]
  },
  {
   "cell_type": "code",
   "execution_count": null,
   "id": "648db9fe-d837-4c51-a722-f2fdd9f30420",
   "metadata": {},
   "outputs": [],
   "source": []
  },
  {
   "cell_type": "code",
   "execution_count": null,
   "id": "a3833665-8dc3-4ed0-8c55-c658075be902",
   "metadata": {},
   "outputs": [],
   "source": [
    " Insertion Sort via Priority Queue\n",
    "📥 Input:\n",
    "Initial Collection C: (7, 4, 8, 2, 5, 3)\n",
    "\n",
    "Initial Priority Queue P: ()"
   ]
  },
  {
   "cell_type": "code",
   "execution_count": null,
   "id": "f33af644-6017-48cd-81f8-0e655aec8100",
   "metadata": {},
   "outputs": [],
   "source": [
    "Phase 1: Insert All Elements into Priority Queue"
   ]
  },
  {
   "cell_type": "markdown",
   "id": "2e1aac33-81dd-4161-8fdd-3b4cdb3bd893",
   "metadata": {},
   "source": [
    "| Step | Collection C    | Priority Queue P   |\n",
    "| ---- | --------------- | ------------------ |\n",
    "| (a)  | (4, 8, 2, 5, 3) | (7)                |\n",
    "| (b)  | (8, 2, 5, 3)    | (4, 7)             |\n",
    "| (c)  | (2, 5, 3)       | (4, 7, 8)          |\n",
    "| (d)  | (5, 3)          | (2, 4, 7, 8)       |\n",
    "| (e)  | (3)             | (2, 4, 5, 7, 8)    |\n",
    "| (f)  | ()              | (2, 3, 4, 5, 7, 8) |\n"
   ]
  },
  {
   "cell_type": "code",
   "execution_count": null,
   "id": "02e7aab9-4599-460d-9d69-cbb7390f0b2a",
   "metadata": {},
   "outputs": [],
   "source": [
    "Phase 2: Remove Minimums Back into Collection (Sorted)"
   ]
  },
  {
   "cell_type": "markdown",
   "id": "d72e0feb-8ace-431f-bb49-a439e6ac7707",
   "metadata": {},
   "source": [
    "| Step | Collection C       | Priority Queue P |\n",
    "| ---- | ------------------ | ---------------- |\n",
    "| (a)  | (2)                | (3, 4, 5, 7, 8)  |\n",
    "| (b)  | (2, 3)             | (4, 5, 7, 8)     |\n",
    "| (c)  | (2, 3, 4)          | (5, 7, 8)        |\n",
    "| (d)  | (2, 3, 4, 5)       | (7, 8)           |\n",
    "| (e)  | (2, 3, 4, 5, 7)    | (8)              |\n",
    "| (f)  | (2, 3, 4, 5, 7, 8) | ()               |\n"
   ]
  },
  {
   "cell_type": "code",
   "execution_count": null,
   "id": "2cb79781-7ee4-49bd-9908-e8ee0e4c64e8",
   "metadata": {},
   "outputs": [],
   "source": [
    " P.update(loc, k, v)\n",
    "Purpose: Updates the key and value of the item at the given locator loc.\n",
    "\n",
    "Parameters:\n",
    "\n",
    "loc: The locator identifying the item in the priority queue.\n",
    "\n",
    "k: The new key.\n",
    "\n",
    "v: The new value.\n",
    "\n",
    "Effect: Replaces the current key-value pair at loc with the new (k, v), and restores the heap-order property if violated.\n",
    "\n",
    "Use Case: When the priority of a task changes and needs to be repositioned in the queue."
   ]
  },
  {
   "cell_type": "code",
   "execution_count": null,
   "id": "593a59c3-e150-406d-8ba7-88184b62646d",
   "metadata": {},
   "outputs": [],
   "source": [
    "P.remove(loc)\n",
    "Purpose: Removes the item identified by the locator loc from the priority queue.\n",
    "\n",
    "Parameters:\n",
    "\n",
    "loc: The locator pointing to the item to remove.\n",
    "\n",
    "Returns: The (key, value) pair of the removed item.\n",
    "\n",
    "Effect: Deletes the entry from the structure and reorders the heap to maintain validity.\n",
    "\n",
    "Use Case: Cancelling a task or removing a job that’s no longer needed."
   ]
  },
  {
   "cell_type": "code",
   "execution_count": 13,
   "id": "1d5a047c-9af5-45aa-82f2-71641fcb2b8e",
   "metadata": {},
   "outputs": [
    {
     "ename": "SyntaxError",
     "evalue": "invalid syntax (2995672376.py, line 1)",
     "output_type": "error",
     "traceback": [
      "\u001b[1;36m  Cell \u001b[1;32mIn[13], line 1\u001b[1;36m\u001b[0m\n\u001b[1;33m    Code Fragment 9.8: AdaptableHeapPriorityQueue & 9.9 an implemention of an adapatable priority queue(Part 1)\u001b[0m\n\u001b[1;37m         ^\u001b[0m\n\u001b[1;31mSyntaxError\u001b[0m\u001b[1;31m:\u001b[0m invalid syntax\n"
     ]
    }
   ],
   "source": [
    "Code Fragment 9.8: AdaptableHeapPriorityQueue & 9.9 an implemention of an adapatable priority queue(Part 1)\n",
    "An implementation of an adaptable priority queue using a binary heap, which extends the HeapPriorityQueue class from Code Fragments 9.4 and 9.5. It introduces a Locator class to enable efficient updates and removals by maintaining the position (index) of each entry.\n",
    "\n",
    "python\n",
    "Copy\n",
    "Edit\n",
    "class AdaptableHeapPriorityQueue(HeapPriorityQueue):\n",
    "    \"\"\"A locator-based priority queue implemented with a binary heap.\"\"\"\n",
    "\n",
    "    # ------------------------------ nested Locator class ------------------------------\n",
    "    class Locator(HeapPriorityQueue.Item):\n",
    "        \"\"\"Token for locating an entry of the priority queue.\"\"\"\n",
    "        __slots__ = '_index'  # add index as additional field\n",
    "\n",
    "        def __init__(self, k, v, j):\n",
    "            super().__init__(k, v)\n",
    "            self._index = j\n",
    "\n",
    "    # ------------------------------ nonpublic behaviors ------------------------------\n",
    "    # override swap to record new indices\n",
    "    def swap(self, i, j):\n",
    "        super().swap(i, j)                    # perform the swap\n",
    "        self._data[i]._index = i              # reset locator index (post-swap)\n",
    "        self._data[j]._index = j\n",
    "\n",
    "    def bubble(self, j):\n",
    "        if j > 0 and self._data[j] < self._data[self.parent(j)]:\n",
    "            self.upheap(j)\n",
    "        else:\n",
    "            self.downheap(j)\n",
    "\n",
    "class AdaptableHeapPriorityQueue(HeapPriorityQueue):\n",
    "    \"\"\"A locator-based priority queue implemented with a binary heap.\"\"\"\n",
    "\n",
    "    # ------------------------------ nested Locator class ------------------------------\n",
    "    class Locator(HeapPriorityQueue.Item):\n",
    "        \"\"\"Token for locating an entry of the priority queue.\"\"\"\n",
    "        __slots__ = '_index'\n",
    "\n",
    "        def __init__(self, k, v, j):\n",
    "            super().__init__(k, v)\n",
    "            self._index = j\n",
    "\n",
    "    # ------------------------------ nonpublic behaviors ------------------------------\n",
    "    def swap(self, i, j):\n",
    "        super().swap(i, j)\n",
    "        self._data[i]._index = i\n",
    "        self._data[j]._index = j\n",
    "\n",
    "    def bubble(self, j):\n",
    "        if j > 0 and self._data[j] < self._data[self.parent(j)]:\n",
    "            self.upheap(j)\n",
    "        else:\n",
    "            self.downheap(j)\n",
    "\n",
    "    # ------------------------------ public behaviors ------------------------------\n",
    "    def add(self, key, value):\n",
    "        \"\"\"Add a key-value pair and return a locator.\"\"\"\n",
    "        token = self.Locator(key, value, len(self._data))\n",
    "        self._data.append(token)\n",
    "        self.upheap(len(self._data) - 1)\n",
    "        return token\n",
    "\n",
    "    def update(self, loc, newkey, newval):\n",
    "        \"\"\"Update the key and value for the entry identified by Locator loc.\"\"\"\n",
    "        j = loc._index\n",
    "        if not (0 <= j < len(self) and self._data[j] is loc):\n",
    "            raise ValueError(\"Invalid locator\")\n",
    "        loc._key = newkey\n",
    "        loc._value = newval\n",
    "        self.bubble(j)\n",
    "\n",
    "    def remove(self, loc):\n",
    "        \"\"\"Remove and return the (k,v) pair identified by Locator loc.\"\"\"\n",
    "        j = loc._index\n",
    "        if not (0 <= j < len(self) and self._data[j] is loc):\n",
    "            raise ValueError(\"Invalid locator\")\n",
    "        if j == len(self) - 1:\n",
    "            self._data.pop()\n",
    "        else:\n",
    "            self.swap(j, len(self._data) - 1)\n",
    "            self._data.pop()\n",
    "            self.bubble(j)\n",
    "        return (loc._key, loc._value)\n"
   ]
  },
  {
   "cell_type": "markdown",
   "id": "6d454c41-2fbe-4237-9987-adf6c47961d2",
   "metadata": {},
   "source": [
    "**Table 9.4**: Running times of the methods of an adaptable priority queue, P, of size *n*,  \n",
    "realized by means of an array-based heap representation. The space requirement is *O(n)*.\n",
    "\n",
    "| Operation                     | Running Time |\n",
    "|------------------------------|---------------|\n",
    "| `len(P)`, `P.is_empty()`, `P.min()` | O(1)         |\n",
    "| `P.add(k, v)`                | O(log n)\\*    |\n",
    "| `P.update(loc, k, v)`        | O(log n)      |\n",
    "| `P.remove(loc)`              | O(log n)\\*    |\n",
    "| `P.remove_min()`             | O(log n)\\*    |\n",
    "\n",
    "\\*Amortized with dynamic array\n"
   ]
  },
  {
   "cell_type": "code",
   "execution_count": null,
   "id": "fb7ea142-2445-4960-8c06-5a7e27f6496a",
   "metadata": {},
   "outputs": [],
   "source": [
    "# R-9.1\n",
    "\"\"\"\n",
    "How long would it take to remove the logn smallest elements from a\n",
    "heap that contains n entries, using the remove_min operation?\n",
    "\"\"\"\n"
   ]
  },
  {
   "cell_type": "code",
   "execution_count": null,
   "id": "972d00d6-e269-4715-85de-6d5856a8c86f",
   "metadata": {},
   "outputs": [],
   "source": [
    "Θ((logn)^2)"
   ]
  },
  {
   "cell_type": "code",
   "execution_count": null,
   "id": "8182cadf-78a3-49a8-9785-0486049c9c60",
   "metadata": {},
   "outputs": [],
   "source": [
    "# R-9.2\n",
    "\"\"\"\n",
    "Suppose you label each position p of a binary tree T with a key equal to\n",
    "its preorder rank. Under what circumstances is T a heap?\n",
    "\"\"\"\n"
   ]
  },
  {
   "cell_type": "code",
   "execution_count": null,
   "id": "1ed00c97-a9c6-49e1-ae4b-f570d9d6944f",
   "metadata": {},
   "outputs": [],
   "source": [
    "The heap-order property holds automatically (preorder visits a parent before every node in its subtree, so parent key < child keys). Therefore, T is a min-heap iff its shape is a complete binary tree. In other words, with preorder ranks as keys, the only additional requirement for being a heap is completeness."
   ]
  },
  {
   "cell_type": "code",
   "execution_count": null,
   "id": "fe8adc13-8582-47db-8685-302035a120a9",
   "metadata": {},
   "outputs": [],
   "source": [
    "# R-9.3\n",
    "\"\"\"\n",
    "What does each remove_min call return within the following sequence of\n",
    "priority queue ADT methods:\n",
    "add(5,A), add(4,B), add(7,F), add(1,D),\n",
    "remove_min(), add(3,J), add(6,L), remove_min(),\n",
    "remove_min(), add(8,G), remove_min(), add(2,H),\n",
    "remove_min(), remove_min()?\n",
    "\"\"\"\n"
   ]
  },
  {
   "cell_type": "code",
   "execution_count": null,
   "id": "43850910-6373-4098-b160-abd158e33d4f",
   "metadata": {},
   "outputs": [],
   "source": [
    "(1, D)\n",
    "\n",
    "(3, J)\n",
    "\n",
    "(4, B)\n",
    "\n",
    "(5, A)\n",
    "\n",
    "(2, H)\n",
    "\n",
    "(6, L)"
   ]
  },
  {
   "cell_type": "code",
   "execution_count": null,
   "id": "2cc97e33-3d4b-4097-ab30-0d9346f02e80",
   "metadata": {},
   "outputs": [],
   "source": [
    "# R-9.4\n",
    "\"\"\"\n",
    "An airport is developing a computer simulation of air-traffic control that\n",
    "handles events such as landings and takeoffs. Each event has a time stamp\n",
    "that denotes the time when the event will occur.\n",
    "\n",
    "The simulation program needs to efficiently perform the following two operations:\n",
    "• Insert an event with a given time stamp (add a future event).\n",
    "• Extract the event with smallest time stamp (next event to process).\n",
    "\n",
    "Which data structure should be used for the above operations? Why?\n",
    "\"\"\"\n"
   ]
  },
  {
   "cell_type": "code",
   "execution_count": null,
   "id": "38ad17ec-0c3d-4992-974a-dd03c26dc66e",
   "metadata": {},
   "outputs": [],
   "source": [
    "min-heap priority queue"
   ]
  },
  {
   "cell_type": "code",
   "execution_count": null,
   "id": "7f6c2e11-713b-4969-89f0-ac602d394715",
   "metadata": {},
   "outputs": [],
   "source": [
    "# R-9.5\n",
    "\"\"\"\n",
    "The min method for the UnsortedPriorityQueue class executes in O(n)\n",
    "time, as analyzed in Table 9.2. Give a simple modification to the class so\n",
    "that min runs in O(1) time. Explain any necessary modifications to other\n",
    "methods of the class.\n",
    "\"\"\"\n"
   ]
  },
  {
   "cell_type": "code",
   "execution_count": null,
   "id": "e2715408-1dd5-4af6-b4ad-692be944dda5",
   "metadata": {},
   "outputs": [],
   "source": [
    "To make min() run in O(1) for an UnsortedPriorityQueue, you can store a reference to the current minimum element when items are added or removed."
   ]
  },
  {
   "cell_type": "code",
   "execution_count": null,
   "id": "01fccac0-20db-40b7-89b1-06939f001c82",
   "metadata": {},
   "outputs": [],
   "source": [
    "# R-9.6\n",
    "\"\"\"\n",
    "Can you adapt your solution to the previous problem to make remove_min\n",
    "run in O(1) time for the UnsortedPriorityQueue class? Explain your answer.\n",
    "\"\"\"\n"
   ]
  },
  {
   "cell_type": "code",
   "execution_count": null,
   "id": "3df80bc6-b2d0-46e5-9563-6ced485ed2f7",
   "metadata": {},
   "outputs": [],
   "source": [
    "Yes — by maintaining a direct reference to the minimum element and storing elements in a data structure that allows O(1) deletion (such as a linked list with a pointer to the minimum), remove_min() could run in O(1), but this requires updating the minimum reference on every add() and carefully adjusting it on removals, which can make add() potentially O(n) if the removed minimum needs to be replaced by scanning the remaining elements."
   ]
  },
  {
   "cell_type": "code",
   "execution_count": null,
   "id": "58692b64-0bf6-41ba-9c5c-36392bb6e31f",
   "metadata": {},
   "outputs": [],
   "source": [
    "# R-9.7\n",
    "\"\"\"\n",
    "Illustrate the execution of the selection-sort algorithm on the following\n",
    "input sequence:\n",
    "(22, 15, 36, 44, 10, 3, 9, 13, 29, 25)\n",
    "\"\"\"\n"
   ]
  },
  {
   "cell_type": "code",
   "execution_count": 26,
   "id": "421a455c-4af9-4c26-979b-a3b67d27921b",
   "metadata": {},
   "outputs": [
    {
     "name": "stdout",
     "output_type": "stream",
     "text": [
      "Pass 1: [3, 15, 36, 44, 10, 22, 9, 13, 29, 25]\n",
      "Pass 2: [3, 9, 36, 44, 10, 22, 15, 13, 29, 25]\n",
      "Pass 3: [3, 9, 10, 44, 36, 22, 15, 13, 29, 25]\n",
      "Pass 4: [3, 9, 10, 13, 36, 22, 15, 44, 29, 25]\n",
      "Pass 5: [3, 9, 10, 13, 15, 22, 36, 44, 29, 25]\n",
      "Pass 6: [3, 9, 10, 13, 15, 22, 36, 44, 29, 25]\n",
      "Pass 7: [3, 9, 10, 13, 15, 22, 25, 44, 29, 36]\n",
      "Pass 8: [3, 9, 10, 13, 15, 22, 25, 29, 44, 36]\n",
      "Pass 9: [3, 9, 10, 13, 15, 22, 25, 29, 36, 44]\n",
      "Pass 10: [3, 9, 10, 13, 15, 22, 25, 29, 36, 44]\n"
     ]
    }
   ],
   "source": [
    "# Selection sort step-by-step illustration for the given sequence\n",
    "\n",
    "arr = [22, 15, 36, 44, 10, 3, 9, 13, 29, 25]\n",
    "steps = []\n",
    "\n",
    "# Perform selection sort and record steps\n",
    "for i in range(len(arr)):\n",
    "    min_index = i\n",
    "    for j in range(i + 1, len(arr)):\n",
    "        if arr[j] < arr[min_index]:\n",
    "            min_index = j\n",
    "    arr[i], arr[min_index] = arr[min_index], arr[i]\n",
    "    steps.append(arr.copy())\n",
    "\n",
    "    print(f\"Pass {i + 1}: {arr}\")\n",
    "    \n",
    "\n"
   ]
  },
  {
   "cell_type": "code",
   "execution_count": null,
   "id": "fff32a58-b20f-4bb6-8133-48ac57b344ed",
   "metadata": {},
   "outputs": [],
   "source": [
    "# R-9.8\n",
    "\"\"\"\n",
    "Illustrate the execution of the insertion-sort algorithm on the input sequence\n",
    "from the previous problem.\n",
    "\"\"\"\n"
   ]
  },
  {
   "cell_type": "code",
   "execution_count": 28,
   "id": "92115033-04ca-40fa-a154-3109550edd62",
   "metadata": {},
   "outputs": [
    {
     "name": "stdout",
     "output_type": "stream",
     "text": [
      "Pass 1: [15, 22, 36, 44, 10, 3, 9, 13, 29, 25]\n",
      "Pass 2: [15, 22, 36, 44, 10, 3, 9, 13, 29, 25]\n",
      "Pass 3: [15, 22, 36, 44, 10, 3, 9, 13, 29, 25]\n",
      "Pass 4: [10, 15, 22, 36, 44, 3, 9, 13, 29, 25]\n",
      "Pass 5: [3, 10, 15, 22, 36, 44, 9, 13, 29, 25]\n",
      "Pass 6: [3, 9, 10, 15, 22, 36, 44, 13, 29, 25]\n",
      "Pass 7: [3, 9, 10, 13, 15, 22, 36, 44, 29, 25]\n",
      "Pass 8: [3, 9, 10, 13, 15, 22, 29, 36, 44, 25]\n",
      "Pass 9: [3, 9, 10, 13, 15, 22, 25, 29, 36, 44]\n"
     ]
    }
   ],
   "source": [
    "def insertion_sort_verbose(arr):\n",
    "    arr = arr.copy()  # avoid modifying original\n",
    "    n = len(arr)\n",
    "    \n",
    "    for i in range(1, n):\n",
    "        current = arr[i]\n",
    "        j = i - 1\n",
    "        while j >= 0 and arr[j] > current:\n",
    "            arr[j + 1] = arr[j]\n",
    "            j -= 1\n",
    "        arr[j + 1] = current\n",
    "        \n",
    "        print(f\"Pass {i}: {arr}\")\n",
    "\n",
    "# Example input\n",
    "data = [22, 15, 36, 44, 10, 3, 9, 13, 29, 25]\n",
    "insertion_sort_verbose(data)\n"
   ]
  },
  {
   "cell_type": "code",
   "execution_count": null,
   "id": "b670c5b1-69ab-449e-b01d-348f526a8dd3",
   "metadata": {},
   "outputs": [],
   "source": [
    "# R-9.9\n",
    "\"\"\"\n",
    "Give an example of a worst-case sequence with n elements for insertion sort,\n",
    "and show that insertion sort runs in Ω(n^2) time on such a sequence.\n",
    "\"\"\"\n"
   ]
  },
  {
   "cell_type": "code",
   "execution_count": null,
   "id": "e12c3c9a-b47a-4d11-9d70-38c8ee670567",
   "metadata": {},
   "outputs": [],
   "source": [
    "worst case being a sequence for insertion sort, where the it is a stritly decreasing list\n",
    "[n,n-1,n-2,.......2,1]"
   ]
  },
  {
   "cell_type": "code",
   "execution_count": null,
   "id": "bb99c31e-6862-4c8b-8895-cb8bba90f9e3",
   "metadata": {},
   "outputs": [],
   "source": [
    "# R-9.10\n",
    "\"\"\"\n",
    "At which positions of a heap might the third smallest key be stored?\n",
    "\"\"\"\n"
   ]
  },
  {
   "cell_type": "code",
   "execution_count": null,
   "id": "306bd824-fbb8-41c9-a68a-385bc18c64dc",
   "metadata": {},
   "outputs": [],
   "source": [
    "At Level 1 and Level 2, it cannot be deeper than level 2"
   ]
  },
  {
   "cell_type": "code",
   "execution_count": null,
   "id": "b62100e8-be05-4ef4-af1e-02c59d2a61e2",
   "metadata": {},
   "outputs": [],
   "source": [
    "# R-9.11\n",
    "\"\"\"\n",
    "At which positions of a heap might the largest key be stored?\n",
    "\"\"\"\n"
   ]
  },
  {
   "cell_type": "code",
   "execution_count": null,
   "id": "095ec44f-d8d1-49a4-8454-1a3997024b6d",
   "metadata": {},
   "outputs": [],
   "source": [
    "the largest will be located at one of the leaf positions, since the heap property ensures that every parent's key is less than or equal to its childrens key\n",
    "the largest key must be at an index of n/2 +1 to n \n",
    "for an example n=15, the largest key must be at an index of 8-15"
   ]
  },
  {
   "cell_type": "code",
   "execution_count": null,
   "id": "fcbe3a3e-3520-4c8b-bd65-d96a1a8dbb08",
   "metadata": {},
   "outputs": [],
   "source": [
    "# R-9.12\n",
    "\"\"\"\n",
    "Consider a situation in which a user has numeric keys and wishes to have\n",
    "a priority queue that is maximum-oriented. How could a standard (min-oriented)\n",
    "priority queue be used for such a purpose?\n",
    "\"\"\"\n"
   ]
  },
  {
   "cell_type": "code",
   "execution_count": null,
   "id": "001fe401-f9d3-45aa-b055-e132af92fbee",
   "metadata": {},
   "outputs": [],
   "source": [
    "Use a regular min-heap but store each key as its negative: insert (-k, value) instead of (k, value).\n",
    "Then the min-heap’s remove_min() returns the pair with the largest original key (recover k = -stored_key).\n",
    "Equivalently, you can wrap entries with a comparator that reverses the order (i.e., compare by -key)."
   ]
  },
  {
   "cell_type": "code",
   "execution_count": null,
   "id": "6f17f2fd-f486-4a4c-ae14-ce13d967a6da",
   "metadata": {},
   "outputs": [],
   "source": [
    "# R-9.13\n",
    "\"\"\"\n",
    "Illustrate the execution of the in-place heap-sort algorithm on the following\n",
    "input sequence:\n",
    "(2, 5, 16, 4, 10, 23, 39, 18, 26, 15)\n",
    "\"\"\"\n"
   ]
  },
  {
   "cell_type": "code",
   "execution_count": 33,
   "id": "a15c14c2-9af3-421c-8d70-47791964033a",
   "metadata": {},
   "outputs": [
    {
     "name": "stdout",
     "output_type": "stream",
     "text": [
      "Step 1 - Build max heap: [39, 26, 23, 18, 15, 2, 16, 5, 4, 10]\n",
      "Step 2 - Extract max 39: [39]\n",
      "Step 3 - Extract max 26: [26, 39]\n",
      "Step 4 - Extract max 23: [23, 26, 39]\n",
      "Step 5 - Extract max 18: [18, 23, 26, 39]\n",
      "Step 6 - Extract max 16: [16, 18, 23, 26, 39]\n",
      "Step 7 - Extract max 15: [15, 16, 18, 23, 26, 39]\n",
      "Step 8 - Extract max 10: [10, 15, 16, 18, 23, 26, 39]\n",
      "Step 9 - Extract max 5: [5, 10, 15, 16, 18, 23, 26, 39]\n",
      "Step 10 - Extract max 4: [4, 5, 10, 15, 16, 18, 23, 26, 39]\n",
      "Step 11 - Extract max 2: [2, 4, 5, 10, 15, 16, 18, 23, 26, 39]\n"
     ]
    }
   ],
   "source": [
    "import heapq\n",
    "\n",
    "def heap_sort_in_place_trace(arr):\n",
    "    a = arr.copy()\n",
    "    \n",
    "    # Step 1: Build a max heap (Python's heapq is min-heap, so we store negatives)\n",
    "    max_heap = [-x for x in a]\n",
    "    heapq.heapify(max_heap)\n",
    "    print(\"Step 1 - Build max heap:\", [-x for x in max_heap])\n",
    "    \n",
    "    # Step 2: Perform heap sort\n",
    "    sorted_array = []\n",
    "    for i in range(len(a)):\n",
    "        max_val = -heapq.heappop(max_heap)\n",
    "        sorted_array.insert(0, max_val)  # simulate placing max at end\n",
    "        print(f\"Step {i+2} - Extract max {max_val}:\", sorted_array)\n",
    "\n",
    "# Given sequence\n",
    "sequence = [2, 5, 16, 4, 10, 23, 39, 18, 26, 15]\n",
    "heap_sort_in_place_trace(sequence)\n"
   ]
  },
  {
   "cell_type": "code",
   "execution_count": null,
   "id": "27221096-3dcb-4ebc-85a0-9135fd9fd66a",
   "metadata": {},
   "outputs": [],
   "source": [
    "# R-9.14\n",
    "\"\"\"\n",
    "Let T be a complete binary tree such that position p stores an element\n",
    "with key f(p), where f(p) is the level number of p.\n",
    "Is tree T a heap? Why or why not?\n",
    "\"\"\"\n"
   ]
  },
  {
   "cell_type": "code",
   "execution_count": null,
   "id": "864e7b7c-1880-42bc-91b1-ebfaf92edd07",
   "metadata": {},
   "outputs": [],
   "source": [
    "Yes—T is a min-heap.Since each node’s key is its level number, a parent at level $\\ell$ has key $\\ell$ and each child at level $\\ell+1$ has key $\\ell+1$. Thus every parent key is strictly less than its children’s keys (heap-order property). Given T is also complete (heap shape property), T satisfies all conditions for a min-heap.\n"
   ]
  },
  {
   "cell_type": "code",
   "execution_count": null,
   "id": "674f369a-0a87-4c5e-9f01-696652643923",
   "metadata": {},
   "outputs": [],
   "source": [
    "# R-9.15\n",
    "\"\"\"\n",
    "Explain why the description of down-heap bubbling does not consider the\n",
    "case in which position p has a right child but not a left child.\n",
    "\"\"\"\n"
   ]
  },
  {
   "cell_type": "code",
   "execution_count": null,
   "id": "f058c0a5-b7c4-4ca2-a1ec-92a44cdab598",
   "metadata": {},
   "outputs": [],
   "source": [
    "Because in a complete binary tree (which is the underlying structure of a heap), nodes are filled level by level from left to right, it’s impossible for a node to have a right child without having a left child first.\n",
    "So when down-heap bubbling is described, the possible child configurations are:\n",
    "\n",
    "No children (stop bubbling).\n",
    "\n",
    "Only a left child.\n",
    "\n",
    "Both left and right children.\n",
    "\n",
    "The “right child only” case can’t occur in a proper heap structure."
   ]
  },
  {
   "cell_type": "code",
   "execution_count": null,
   "id": "8a45e305-a881-43c7-9a63-6c7152d593da",
   "metadata": {},
   "outputs": [],
   "source": [
    "# R-9.16\n",
    "\"\"\"\n",
    "Is there a heap H storing seven entries with distinct keys such that a preorder\n",
    "traversal of H yields the entries of H in increasing or decreasing\n",
    "order by key? How about an inorder traversal? How about a postorder traversal?\n",
    "If so, give an example; if not, say why.\n",
    "\"\"\"\n"
   ]
  },
  {
   "cell_type": "code",
   "execution_count": null,
   "id": "bdc6c578-2cd9-4e49-930a-7345a1ca0963",
   "metadata": {},
   "outputs": [],
   "source": [
    "Preorder:\n",
    "The preorder traversal can be increasing in a min-heap. For example, consider a min-heap with level-order array [1, 2, 5, 3, 4, 6, 7]. The preorder of this tree is 1, 2, 3, 4, 5, 6, 7 (increasing), and it satisfies the heap order since each parent is less than its children.\n",
    "The preorder traversal cannot be decreasing in a min-heap, because preorder visits the root first, and the root is the smallest key, not the largest.\n",
    "\n",
    "Inorder:\n",
    "The inorder traversal cannot be strictly increasing or decreasing in a min-heap. Inorder’s middle visit is the root, but in a min-heap the root must be the minimum, which cannot be the middle element of a strictly monotone inorder sequence when there are two or more levels.\n",
    "\n",
    "Postorder:\n",
    "The postorder traversal can be decreasing in a min-heap. For example, consider a min-heap with level-order array [1, 5, 2, 7, 6, 4, 3]. The postorder of this tree is 7, 6, 5, 4, 3, 2, 1 (decreasing), and it satisfies the heap order.\n",
    "The postorder traversal cannot be increasing in a min-heap, because postorder visits the root last, and the root is the smallest key, not the largest."
   ]
  },
  {
   "cell_type": "code",
   "execution_count": null,
   "id": "a9aecef2-69a1-46da-954a-4112e4550f40",
   "metadata": {},
   "outputs": [],
   "source": [
    "# R-9.17\n",
    "\"\"\"\n",
    "Let H be a heap storing 15 entries using the array-based representation of\n",
    "a complete binary tree. What is the sequence of indices of the array that\n",
    "are visited in a preorder traversal of H? What about an inorder traversal?\n",
    "What about a postorder traversal?\n",
    "\"\"\"\n"
   ]
  },
  {
   "cell_type": "code",
   "execution_count": null,
   "id": "5e97acc7-904f-42d1-8d32-1bc213465f98",
   "metadata": {},
   "outputs": [],
   "source": [
    "Assuming the usual 1-based heap indexing (root at 1; children of i at 2i and 2i+1) for a complete binary tree with 15 nodes:\n",
    "\n",
    "Preorder (root, left, right):\n",
    "1, 2, 4, 8, 9, 5, 10, 11, 3, 6, 12, 13, 7, 14, 15\n",
    "\n",
    "Inorder (left, root, right):\n",
    "8, 4, 9, 2, 10, 5, 11, 1, 12, 6, 13, 3, 14, 7, 15\n",
    "\n",
    "Postorder (left, right, root):\n",
    "8, 9, 4, 10, 11, 5, 2, 12, 13, 6, 14, 15, 7, 3, 1"
   ]
  },
  {
   "cell_type": "code",
   "execution_count": null,
   "id": "8210c8c3-2065-41f0-8c73-a11f5688afd5",
   "metadata": {},
   "outputs": [],
   "source": [
    "# R-9.19\n",
    "\"\"\"\n",
    "Bill claims that a preorder traversal of a heap will list its keys in nondecreasing order.\n",
    "Draw an example of a heap that proves him wrong.\n",
    "\"\"\"\n"
   ]
  },
  {
   "cell_type": "code",
   "execution_count": null,
   "id": "553ee50a-873f-41f3-899f-630ccdc05c8e",
   "metadata": {},
   "outputs": [],
   "source": [
    "       1\n",
    "     /   \\\n",
    "    4     3\n",
    "   / \\   / \\\n",
    "  7   5 6   8\n",
    "1,4,7,5,3,6,8 This sequence is not nondecreasing because 4>3 appears partway through."
   ]
  },
  {
   "cell_type": "code",
   "execution_count": null,
   "id": "28bd1286-7c7a-4af9-a2ed-a510a874bf62",
   "metadata": {},
   "outputs": [],
   "source": [
    "# R-9.20\n",
    "\"\"\"\n",
    "Hillary claims that a postorder traversal of a heap will list its keys in nonincreasing order.\n",
    "Draw an example of a heap that proves her wrong.\n",
    "\"\"\"\n"
   ]
  },
  {
   "cell_type": "code",
   "execution_count": null,
   "id": "8e236c5a-6c12-4976-9a30-a162a76e0b97",
   "metadata": {},
   "outputs": [],
   "source": [
    "         1\n",
    "       /   \\\n",
    "      3     2\n",
    "     / \\   / \\\n",
    "    7   6 5   4\n",
    "This proves Hillary wrong because postorder traversal does not necessarily list heap elements in nonincreasing order, even though the heap satisfies all heap properties."
   ]
  },
  {
   "cell_type": "code",
   "execution_count": null,
   "id": "ba6fdc31-853e-4fcc-a9c5-61f68c83f25b",
   "metadata": {},
   "outputs": [],
   "source": [
    "# R-9.21\n",
    "\"\"\"\n",
    "Show all the steps of the algorithm for removing the entry (16, X) from the\n",
    "heap of Figure 9.1, assuming the entry had been identified with a locator.\n",
    "\"\"\"\n"
   ]
  },
  {
   "cell_type": "code",
   "execution_count": null,
   "id": "bfe790c4-b99c-4ff8-b388-8450f96e2518",
   "metadata": {},
   "outputs": [],
   "source": [
    "1. Locate the node\n",
    "\n",
    "The locator identifies (16, X) directly, which is a leaf node in the leftmost position under (15, K).\n",
    "\n",
    "2. Swap with last item\n",
    "\n",
    "The last entry in the heap (based on the array representation) is (20, B), found as the right child of (6, Z).\n",
    "\n",
    "Swap (16, X) with (20, B).\n",
    "\n",
    "3. Remove the last item\n",
    "\n",
    "Remove (16, X) from the last position. This completes the deletion step.\n",
    "\n",
    "4. Restore heap order\n",
    "\n",
    "Now check the new position of (20, B) — it is now a left child of (15, K).\n",
    "\n",
    "Compare with its parent:\n",
    "\n",
    "(20, B) > (15, K) → Heap property is preserved (in min-heap: parent < children).\n",
    "\n",
    "Only the value (16, X) is gone; (20, B) took its place. All heap order properties are maintained because the value 20 is still larger than its parent 15, and has no children of its own."
   ]
  },
  {
   "cell_type": "code",
   "execution_count": null,
   "id": "c42f8db4-61ce-4028-9de1-f83fa4a410e5",
   "metadata": {},
   "outputs": [],
   "source": [
    "# R-9.22\n",
    "\"\"\"\n",
    "Show all the steps of the algorithm for replacing the key of entry (5, A) with\n",
    "18 in the heap of Figure 9.1, assuming the entry had been identified with\n",
    "a locator.\n",
    "\"\"\"\n"
   ]
  },
  {
   "cell_type": "code",
   "execution_count": 2,
   "id": "0affa05f-9e80-4570-9670-c118d2e6c2a1",
   "metadata": {},
   "outputs": [
    {
     "ename": "SyntaxError",
     "evalue": "invalid syntax (2219867057.py, line 1)",
     "output_type": "error",
     "traceback": [
      "\u001b[1;36m  Cell \u001b[1;32mIn[2], line 1\u001b[1;36m\u001b[0m\n\u001b[1;33m    Step 1: Identify the entry (5, A)\u001b[0m\n\u001b[1;37m         ^\u001b[0m\n\u001b[1;31mSyntaxError\u001b[0m\u001b[1;31m:\u001b[0m invalid syntax\n"
     ]
    }
   ],
   "source": [
    "Step 1: Identify the entry (5, A)\n",
    "\n",
    "The locator points directly to node (5, A). It is a left child of (4, C).\n",
    "\n",
    "Step 2.\n",
    "\n",
    "We change the key 5 to 18. So the entry becomes (18, A).\n",
    "\n",
    "At this point, the heap may no longer satisfy the min-heap property, because 18 > 15, 18 > 9, etc.\n",
    "\n",
    "We must restore the heap property by pushing the newly updated entry (18, A) down the tree if its key is greater than its children.\n",
    "\n",
    "Level 1:\n",
    "\n",
    "Parent: (18, A)\n",
    "\n",
    "Children: (15, K) and (9, F)\n",
    "\n",
    "Smallest child: (9, F)\n",
    "\n",
    "Level 2:\n",
    "\n",
    "Now (18, A) is at the position of (9, F)\n",
    "\n",
    "Children: (14, E) and (12, H)\n",
    "\n",
    "Smallest child: (12, H)\n",
    "\n",
    "Level 3:\n",
    "\n",
    "Now (18, A) is at a leaf. No more children\n",
    "\n",
    "After the operation, entries move as follows:\n",
    "\n",
    "(5, A) → (18, A)\n",
    "\n",
    "Swaps:\n",
    "\n",
    "(18, A) ↔ (9, F)\n",
    "\n",
    "(18, A) ↔ (12, H)\n",
    "\n",
    "Final location of (18, A): same place where (12, H) used to be.\n"
   ]
  },
  {
   "cell_type": "code",
   "execution_count": null,
   "id": "381a09eb-2d3a-4826-9d32-b3a67790bfe8",
   "metadata": {},
   "outputs": [],
   "source": [
    "# R-9.23\n",
    "\"\"\"\n",
    "Draw an example of a heap whose keys are all the odd numbers from 1 to 59\n",
    "(no repeats), such that the insertion of an entry with key 32 would cause\n",
    "up-heap bubbling to proceed all the way up to a child of the root\n",
    "(replacing that child’s key with 32).\n",
    "\"\"\"\n"
   ]
  },
  {
   "cell_type": "code",
   "execution_count": 4,
   "id": "83aa5b65-be19-4e96-96e0-3fe0509e3ed9",
   "metadata": {},
   "outputs": [
    {
     "ename": "SyntaxError",
     "evalue": "invalid syntax (1757771946.py, line 1)",
     "output_type": "error",
     "traceback": [
      "\u001b[1;36m  Cell \u001b[1;32mIn[4], line 1\u001b[1;36m\u001b[0m\n\u001b[1;33m    Before:\u001b[0m\n\u001b[1;37m           ^\u001b[0m\n\u001b[1;31mSyntaxError\u001b[0m\u001b[1;31m:\u001b[0m invalid syntax\n"
     ]
    }
   ],
   "source": [
    "Before:\n",
    "[1, 40, 3, 41, 43, 5, 7, 45, 47, 49, 51, 9, 11, 13, 15, 53, 55, 57, 59, 17, 19, 21, 23, 25, 27, 29, 31]\n",
    "\n",
    "After:\n",
    "\n",
    "[1, 40, 3, 50, 43, 5, 7, 55, 47, 49, 51, 9, 11, 13, 15, 57, 59, 45, 17, 19, 21, 23, 25, 27, 29, 31, 33]\n"
   ]
  },
  {
   "cell_type": "code",
   "execution_count": null,
   "id": "da0d4450-7dcb-4f11-a44e-083aa71dd768",
   "metadata": {},
   "outputs": [],
   "source": [
    "# R-9.24\n",
    "\"\"\"\n",
    "Describe a sequence of n insertions in a heap that requires Ω(n log n) time\n",
    "to process.\n",
    "\"\"\"\n"
   ]
  },
  {
   "cell_type": "code",
   "execution_count": null,
   "id": "76ba2f95-9924-491b-a2ac-c7957987e0c0",
   "metadata": {},
   "outputs": [],
   "source": [
    "Inserting a reverse-sorted sequence (e.g., 1000, 999, 998, ..., 2, 1) into a min-heap triggers up-heap bubbling for every insertion, resulting in Ω(n log n) total time."
   ]
  },
  {
   "cell_type": "code",
   "execution_count": null,
   "id": "f5810f0b-1116-4cf5-b550-09db0b305371",
   "metadata": {},
   "outputs": [],
   "source": [
    "# R-9.25\n",
    "\"\"\"\n",
    "Complete Figure 9.9 by showing all the steps of the in-place heap-sort algorithm.\n",
    "Show both the array and the associated heap at the end of each step.\n",
    "\"\"\"\n"
   ]
  },
  {
   "cell_type": "code",
   "execution_count": null,
   "id": "5ba1ca32-ded1-4f5a-99d9-b552c3eea744",
   "metadata": {},
   "outputs": [],
   "source": [
    "Original: [9, 7, 5, 2, 6, 4]\n",
    "\n",
    "Heap tree:\n",
    "        9\n",
    "      /   \\\n",
    "     7     5\n",
    "    / \\   /\n",
    "   2   6 4\n",
    "\n",
    "[4, 7, 5, 2, 6, 9] — Max element 9 sorted\n",
    "Down-heap 4 → 7 → 6 → final position at index 1\n",
    "\n",
    "        7\n",
    "      /   \\\n",
    "     6     5\n",
    "    / \\\n",
    "   2   4\n",
    "[4, 6, 5, 2, 7, 9] — 7 sorted\n",
    "Down-heap 4 → 6 → final position at index 1\n",
    "\n",
    "        6\n",
    "      /   \\\n",
    "     4     5\n",
    "    / \n",
    "   2\n",
    "\n",
    "[2, 4, 5, 6, 7, 9] — 6 sorted\n",
    "Down-heap 2 → 5 → final position at index 2\n",
    "\n",
    "        5\n",
    "      /   \\\n",
    "     4     2\n",
    "[2, 4, 5, 6, 7, 9] — 5 sorted\n",
    "Down-heap 2 → 4 → final position at index 1\n",
    "        4\n",
    "      /\n",
    "     2\n",
    "[2, 4, 5, 6, 7, 9] — 4 sorted\n",
    "Remaining element 2 is already in place.\n",
    "\n",
    "[2, 4, 5, 6, 7, 9]\n"
   ]
  },
  {
   "cell_type": "code",
   "execution_count": null,
   "id": "5d7759cb-ce3f-4732-9f0e-2c54dce01781",
   "metadata": {},
   "outputs": [],
   "source": []
  },
  {
   "cell_type": "code",
   "execution_count": null,
   "id": "67089055-81a2-4b69-99d7-d752ebdbf962",
   "metadata": {},
   "outputs": [],
   "source": []
  },
  {
   "cell_type": "code",
   "execution_count": null,
   "id": "2cb027e0-27aa-4c1f-af3e-6cf649bcf811",
   "metadata": {},
   "outputs": [],
   "source": []
  },
  {
   "cell_type": "code",
   "execution_count": null,
   "id": "3ba27091-97e4-44ec-83db-f9a69a1bf5ab",
   "metadata": {},
   "outputs": [],
   "source": []
  },
  {
   "cell_type": "code",
   "execution_count": null,
   "id": "6e4dcd65-3e10-4e6c-8280-1fa819fe2dc9",
   "metadata": {},
   "outputs": [],
   "source": []
  },
  {
   "cell_type": "code",
   "execution_count": null,
   "id": "b4e5a023-5c51-48fe-814e-cc50d88343de",
   "metadata": {},
   "outputs": [],
   "source": []
  },
  {
   "cell_type": "code",
   "execution_count": null,
   "id": "80bb7814-701f-4e29-b9a5-54e7a8ddef83",
   "metadata": {},
   "outputs": [],
   "source": []
  },
  {
   "cell_type": "code",
   "execution_count": null,
   "id": "97d17ce2-f3a5-4f02-b7a1-3755ef2a6162",
   "metadata": {},
   "outputs": [],
   "source": []
  },
  {
   "cell_type": "code",
   "execution_count": null,
   "id": "ae49cfa4-2644-49cc-bb75-6f5d7fef3763",
   "metadata": {},
   "outputs": [],
   "source": []
  },
  {
   "cell_type": "code",
   "execution_count": null,
   "id": "f0b105f7-d081-4afb-a172-439ec58e7e86",
   "metadata": {},
   "outputs": [],
   "source": []
  },
  {
   "cell_type": "code",
   "execution_count": null,
   "id": "901272d5-b74e-4bb1-8d94-145a05bf1934",
   "metadata": {},
   "outputs": [],
   "source": []
  },
  {
   "cell_type": "code",
   "execution_count": null,
   "id": "79590e5f-51e6-4251-84f0-96cfe8b6edfd",
   "metadata": {},
   "outputs": [],
   "source": []
  },
  {
   "cell_type": "code",
   "execution_count": null,
   "id": "2c0d2820-20e3-4cd7-af1f-50718e986fcb",
   "metadata": {},
   "outputs": [],
   "source": []
  },
  {
   "cell_type": "code",
   "execution_count": null,
   "id": "fa0f1281-5edd-429c-b49a-c47974e73b9c",
   "metadata": {},
   "outputs": [],
   "source": []
  },
  {
   "cell_type": "code",
   "execution_count": null,
   "id": "15b377c3-fcb9-4772-af00-fed53a1f917f",
   "metadata": {},
   "outputs": [],
   "source": []
  },
  {
   "cell_type": "code",
   "execution_count": null,
   "id": "68b57407-f249-4325-9140-2373fe19275f",
   "metadata": {},
   "outputs": [],
   "source": []
  },
  {
   "cell_type": "code",
   "execution_count": null,
   "id": "2fa0fba0-f79e-436d-ac5a-baee2beea579",
   "metadata": {},
   "outputs": [],
   "source": []
  },
  {
   "cell_type": "code",
   "execution_count": null,
   "id": "73f95f10-6fc2-4a41-9620-3a1c6d873fc6",
   "metadata": {},
   "outputs": [],
   "source": []
  },
  {
   "cell_type": "code",
   "execution_count": null,
   "id": "8f827637-4c7e-4ed9-99cc-0096cc4b5dcc",
   "metadata": {},
   "outputs": [],
   "source": []
  },
  {
   "cell_type": "code",
   "execution_count": null,
   "id": "dbc683aa-cbd8-48ea-b62e-23853ca2f5bf",
   "metadata": {},
   "outputs": [],
   "source": []
  },
  {
   "cell_type": "code",
   "execution_count": null,
   "id": "f0052cf9-9637-4310-b599-e9299baaba07",
   "metadata": {},
   "outputs": [],
   "source": []
  },
  {
   "cell_type": "code",
   "execution_count": null,
   "id": "2b5c2f74-b6f2-412a-ad51-b4f3a1526aea",
   "metadata": {},
   "outputs": [],
   "source": []
  },
  {
   "cell_type": "code",
   "execution_count": null,
   "id": "938da93e-940d-4cea-845c-d23245350010",
   "metadata": {},
   "outputs": [],
   "source": []
  },
  {
   "cell_type": "code",
   "execution_count": null,
   "id": "934dd223-2352-4a18-9d8a-633350bbb8e1",
   "metadata": {},
   "outputs": [],
   "source": []
  },
  {
   "cell_type": "code",
   "execution_count": null,
   "id": "715f2fd3-62d4-4ac6-8391-a1aafc22deaa",
   "metadata": {},
   "outputs": [],
   "source": []
  },
  {
   "cell_type": "code",
   "execution_count": null,
   "id": "faa948df-3830-406a-ae5d-d9c50b2729bd",
   "metadata": {},
   "outputs": [],
   "source": []
  },
  {
   "cell_type": "code",
   "execution_count": null,
   "id": "58b34f7f-9b00-4948-bbe7-9dc19cc9f60a",
   "metadata": {},
   "outputs": [],
   "source": []
  },
  {
   "cell_type": "code",
   "execution_count": null,
   "id": "7b23898d-d9a8-4781-9a5b-e4e8b21abda5",
   "metadata": {},
   "outputs": [],
   "source": []
  },
  {
   "cell_type": "code",
   "execution_count": null,
   "id": "09e5fd71-fc71-4b93-87fe-b60a71817995",
   "metadata": {},
   "outputs": [],
   "source": [
    "Table 9.2 – Priority Queue Running Times: Unsorted vs. Sorted List"
   ]
  },
  {
   "cell_type": "markdown",
   "id": "c07f2870-fa01-4fb8-957c-d706633fe31c",
   "metadata": {},
   "source": [
    "| **Operation**  | **Unsorted List** | **Sorted List** | **Explanation**                                              |\n",
    "| -------------- | ----------------- | --------------- | ------------------------------------------------------------ |\n",
    "| `len()`        | O(1)              | O(1)            | List maintains size count.                                   |\n",
    "| `is_empty()`   | O(1)              | O(1)            | Based on `len() == 0`.                                       |\n",
    "| `add(k, v)`    | O(1)              | O(n)            | Unsorted: insert at end; Sorted: must find correct position. |\n",
    "| `min()`        | O(n)              | O(1)            | Unsorted: must scan all; Sorted: min at front.               |\n",
    "| `remove_min()` | O(n)              | O(1)            | Unsorted: must find min; Sorted: remove front.               |\n"
   ]
  },
  {
   "cell_type": "code",
   "execution_count": null,
   "id": "27521726-2e2c-4875-a916-365adff75109",
   "metadata": {},
   "outputs": [],
   "source": []
  },
  {
   "cell_type": "code",
   "execution_count": null,
   "id": "a9e7121a-eeaa-454c-a944-7afa89adcee3",
   "metadata": {},
   "outputs": [],
   "source": []
  },
  {
   "cell_type": "code",
   "execution_count": null,
   "id": "0913f1a5-783d-4c50-b501-e53ce27c6cb6",
   "metadata": {},
   "outputs": [],
   "source": []
  },
  {
   "cell_type": "code",
   "execution_count": null,
   "id": "36c6a3c0-3c68-4933-966c-b4af54669198",
   "metadata": {},
   "outputs": [],
   "source": []
  },
  {
   "cell_type": "code",
   "execution_count": null,
   "id": "e70899f9-2ec6-4995-846c-3e0367d0bc3b",
   "metadata": {},
   "outputs": [],
   "source": []
  },
  {
   "cell_type": "code",
   "execution_count": null,
   "id": "c079e567-0080-4260-b37a-26cc11d3992d",
   "metadata": {},
   "outputs": [],
   "source": []
  },
  {
   "cell_type": "code",
   "execution_count": null,
   "id": "6a3f0547-70d6-4380-b48c-1b11833f8e80",
   "metadata": {},
   "outputs": [],
   "source": []
  },
  {
   "cell_type": "code",
   "execution_count": null,
   "id": "002ab925-6b5c-4e42-b8fe-8514f678757a",
   "metadata": {},
   "outputs": [],
   "source": []
  },
  {
   "cell_type": "code",
   "execution_count": null,
   "id": "4be22ca9-988c-4e50-a6f5-9b11313bd1e0",
   "metadata": {},
   "outputs": [],
   "source": []
  },
  {
   "cell_type": "code",
   "execution_count": null,
   "id": "d3ef24e0-51ce-4f14-9911-6722e2b5aaf9",
   "metadata": {},
   "outputs": [],
   "source": []
  },
  {
   "cell_type": "code",
   "execution_count": null,
   "id": "f0c27b09-8bbe-406f-885c-05b95db7b949",
   "metadata": {},
   "outputs": [],
   "source": []
  },
  {
   "cell_type": "code",
   "execution_count": null,
   "id": "e163a5dc-104b-4bc0-84f8-93e97741e19a",
   "metadata": {},
   "outputs": [],
   "source": []
  },
  {
   "cell_type": "code",
   "execution_count": null,
   "id": "62bdccbf-4433-4617-ab5b-50389d63f775",
   "metadata": {},
   "outputs": [],
   "source": []
  },
  {
   "cell_type": "code",
   "execution_count": null,
   "id": "664c31eb-ee29-48fc-a5a2-fc7f91b4c49a",
   "metadata": {},
   "outputs": [],
   "source": []
  },
  {
   "cell_type": "code",
   "execution_count": null,
   "id": "44f7d844-9cb3-462b-9252-da7e15e3d9ee",
   "metadata": {},
   "outputs": [],
   "source": []
  },
  {
   "cell_type": "code",
   "execution_count": null,
   "id": "0180e1de-40c3-4d8b-ac0b-c80a315c06e4",
   "metadata": {},
   "outputs": [],
   "source": []
  },
  {
   "cell_type": "code",
   "execution_count": null,
   "id": "dec4984c-8f75-413c-8613-cdd1f59f5139",
   "metadata": {},
   "outputs": [],
   "source": []
  },
  {
   "cell_type": "code",
   "execution_count": null,
   "id": "0f03a650-ad42-410d-bba4-bd235b94c232",
   "metadata": {},
   "outputs": [],
   "source": []
  },
  {
   "cell_type": "code",
   "execution_count": null,
   "id": "bc2937ff-0d0c-4b6d-a2de-b81b9de48a3c",
   "metadata": {},
   "outputs": [],
   "source": []
  },
  {
   "cell_type": "code",
   "execution_count": null,
   "id": "c41c20bf-5920-41dc-b8ae-6ea93e13440c",
   "metadata": {},
   "outputs": [],
   "source": []
  },
  {
   "cell_type": "code",
   "execution_count": null,
   "id": "9abf72d5-cef9-4e04-b6b5-2f54b088078f",
   "metadata": {},
   "outputs": [],
   "source": []
  },
  {
   "cell_type": "code",
   "execution_count": null,
   "id": "601e1195-6524-47c1-a91c-b8cd8a22c340",
   "metadata": {},
   "outputs": [],
   "source": []
  },
  {
   "cell_type": "code",
   "execution_count": null,
   "id": "eab08892-ddcc-4623-bf30-f4768de4c362",
   "metadata": {},
   "outputs": [],
   "source": []
  },
  {
   "cell_type": "code",
   "execution_count": null,
   "id": "cdfc3080-c547-4af8-bc1d-80701120e544",
   "metadata": {},
   "outputs": [],
   "source": []
  },
  {
   "cell_type": "code",
   "execution_count": null,
   "id": "76b6f83e-d57d-4f57-8227-f85551fea990",
   "metadata": {},
   "outputs": [],
   "source": []
  },
  {
   "cell_type": "code",
   "execution_count": null,
   "id": "c1fd1b0b-82eb-45ad-804a-293393650028",
   "metadata": {},
   "outputs": [],
   "source": []
  },
  {
   "cell_type": "code",
   "execution_count": null,
   "id": "ad86980f-cb97-42c2-ae41-7b3c34e4d81e",
   "metadata": {},
   "outputs": [],
   "source": []
  },
  {
   "cell_type": "code",
   "execution_count": null,
   "id": "7af268c3-9a2c-4ce2-aebe-15dd39a2ca88",
   "metadata": {},
   "outputs": [],
   "source": []
  },
  {
   "cell_type": "code",
   "execution_count": null,
   "id": "c4ff4193-c0af-4f6d-9659-e49a640a8f8c",
   "metadata": {},
   "outputs": [],
   "source": []
  },
  {
   "cell_type": "code",
   "execution_count": null,
   "id": "6d6e0676-03c8-4bbd-9fec-1445c12cf84d",
   "metadata": {},
   "outputs": [],
   "source": []
  },
  {
   "cell_type": "code",
   "execution_count": null,
   "id": "2854abe8-b632-49b1-927b-5f40d29ba376",
   "metadata": {},
   "outputs": [],
   "source": []
  },
  {
   "cell_type": "code",
   "execution_count": null,
   "id": "0ab9eca1-176d-4cb8-9b74-bae523605385",
   "metadata": {},
   "outputs": [],
   "source": []
  },
  {
   "cell_type": "code",
   "execution_count": null,
   "id": "0c6d7c2f-55ae-4a2d-99c2-e0d6d32ae8b8",
   "metadata": {},
   "outputs": [],
   "source": []
  },
  {
   "cell_type": "code",
   "execution_count": null,
   "id": "a8ac185b-a285-44c8-8524-3726b22a6637",
   "metadata": {},
   "outputs": [],
   "source": []
  },
  {
   "cell_type": "code",
   "execution_count": null,
   "id": "7c17e1d5-6678-4e32-b044-5d3a782889a7",
   "metadata": {},
   "outputs": [],
   "source": []
  },
  {
   "cell_type": "code",
   "execution_count": null,
   "id": "c14b1041-49fa-43fb-9002-4312c8ae4f55",
   "metadata": {},
   "outputs": [],
   "source": []
  },
  {
   "cell_type": "code",
   "execution_count": null,
   "id": "983fdbc1-72fd-4734-a0e0-f971d2b06c45",
   "metadata": {},
   "outputs": [],
   "source": []
  },
  {
   "cell_type": "code",
   "execution_count": null,
   "id": "04e253dc-06c2-4258-92a7-bccf5244f200",
   "metadata": {},
   "outputs": [],
   "source": []
  },
  {
   "cell_type": "code",
   "execution_count": null,
   "id": "f14b9aed-9062-486b-8e90-d6576aeec4de",
   "metadata": {},
   "outputs": [],
   "source": []
  },
  {
   "cell_type": "code",
   "execution_count": null,
   "id": "ac2f1762-9507-45a8-8d9f-3d46391229fb",
   "metadata": {},
   "outputs": [],
   "source": []
  },
  {
   "cell_type": "code",
   "execution_count": null,
   "id": "63afd9ea-d0cc-4d17-84cf-90a62dd30a8f",
   "metadata": {},
   "outputs": [],
   "source": []
  },
  {
   "cell_type": "code",
   "execution_count": null,
   "id": "d598f6cd-0879-45a8-b906-33d67a4a23af",
   "metadata": {},
   "outputs": [],
   "source": []
  },
  {
   "cell_type": "code",
   "execution_count": null,
   "id": "ef5edb21-beb6-449e-8e20-1c3269dba51b",
   "metadata": {},
   "outputs": [],
   "source": []
  },
  {
   "cell_type": "code",
   "execution_count": null,
   "id": "156165d9-d1b0-4937-9e8f-4405db701532",
   "metadata": {},
   "outputs": [],
   "source": []
  },
  {
   "cell_type": "code",
   "execution_count": null,
   "id": "78842ff8-b3f8-459b-b0bf-d65bc5bd1dda",
   "metadata": {},
   "outputs": [],
   "source": []
  },
  {
   "cell_type": "code",
   "execution_count": null,
   "id": "17636fb2-fd4f-492a-a308-13b49ea8b013",
   "metadata": {},
   "outputs": [],
   "source": []
  },
  {
   "cell_type": "code",
   "execution_count": null,
   "id": "6963fc43-1abd-43f7-9a87-4cec59cd73df",
   "metadata": {},
   "outputs": [],
   "source": []
  },
  {
   "cell_type": "code",
   "execution_count": null,
   "id": "02d05b6e-4518-4b38-8a71-38005553235c",
   "metadata": {},
   "outputs": [],
   "source": []
  },
  {
   "cell_type": "code",
   "execution_count": null,
   "id": "0e7b7b0f-cd30-4800-872f-85630545a497",
   "metadata": {},
   "outputs": [],
   "source": []
  },
  {
   "cell_type": "code",
   "execution_count": null,
   "id": "d1cb9ebc-d283-45e3-b936-0695294c1947",
   "metadata": {},
   "outputs": [],
   "source": []
  },
  {
   "cell_type": "code",
   "execution_count": null,
   "id": "a5fffb70-074e-4ad0-aa26-8adf8eb773c4",
   "metadata": {},
   "outputs": [],
   "source": []
  },
  {
   "cell_type": "code",
   "execution_count": null,
   "id": "b58f474e-cece-4e0a-a6c4-acb5e9efdbdb",
   "metadata": {},
   "outputs": [],
   "source": []
  },
  {
   "cell_type": "code",
   "execution_count": null,
   "id": "ea5c1db5-ee56-4877-86c4-3071917e588c",
   "metadata": {},
   "outputs": [],
   "source": []
  },
  {
   "cell_type": "code",
   "execution_count": null,
   "id": "05311b52-7fc0-4ace-a090-fdf6a8c3125a",
   "metadata": {},
   "outputs": [],
   "source": []
  },
  {
   "cell_type": "code",
   "execution_count": null,
   "id": "60971a5e-97aa-4c03-bae4-a0ddf1758d11",
   "metadata": {},
   "outputs": [],
   "source": []
  },
  {
   "cell_type": "code",
   "execution_count": null,
   "id": "f97ae666-3c52-46a5-9728-417ba6c57bd9",
   "metadata": {},
   "outputs": [],
   "source": []
  },
  {
   "cell_type": "code",
   "execution_count": null,
   "id": "94dc71ab-ee64-4fd9-bf97-ce596785be42",
   "metadata": {},
   "outputs": [],
   "source": []
  },
  {
   "cell_type": "code",
   "execution_count": null,
   "id": "54ca4385-37a4-4580-86f4-c2f1b8474a93",
   "metadata": {},
   "outputs": [],
   "source": []
  },
  {
   "cell_type": "code",
   "execution_count": null,
   "id": "50e0afb3-e744-4fa5-8fab-3248d4e35561",
   "metadata": {},
   "outputs": [],
   "source": []
  },
  {
   "cell_type": "code",
   "execution_count": null,
   "id": "0fc62899-289a-4dee-9fc6-7a2e36fc4764",
   "metadata": {},
   "outputs": [],
   "source": []
  }
 ],
 "metadata": {
  "kernelspec": {
   "display_name": "Python [conda env:base] *",
   "language": "python",
   "name": "conda-base-py"
  },
  "language_info": {
   "codemirror_mode": {
    "name": "ipython",
    "version": 3
   },
   "file_extension": ".py",
   "mimetype": "text/x-python",
   "name": "python",
   "nbconvert_exporter": "python",
   "pygments_lexer": "ipython3",
   "version": "3.12.4"
  }
 },
 "nbformat": 4,
 "nbformat_minor": 5
}
