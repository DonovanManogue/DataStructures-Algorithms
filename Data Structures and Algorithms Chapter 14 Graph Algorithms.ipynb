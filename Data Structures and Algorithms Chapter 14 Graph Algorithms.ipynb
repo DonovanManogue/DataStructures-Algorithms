{
 "cells": [
  {
   "cell_type": "code",
   "execution_count": null,
   "id": "4b106210-8863-49fc-9352-78adf26b6588",
   "metadata": {},
   "outputs": [],
   "source": [
    "#Data Structures and Algorithms Chapter 14 Graph Algorithms\n",
    "### Donovan Manogue"
   ]
  },
  {
   "cell_type": "code",
   "execution_count": null,
   "id": "3b0d3eb3-1872-460a-8c87-d6921111e5b8",
   "metadata": {},
   "outputs": [],
   "source": [
    "Vertex Class\n",
    "\n",
    "A Vertex stores an element and represents an endpoint of one or more edges."
   ]
  },
  {
   "cell_type": "markdown",
   "id": "89f1100a-47da-4b0b-a58d-95e6da8f317d",
   "metadata": {},
   "source": [
    "| Method      | Description                               |\n",
    "| ----------- | ----------------------------------------- |\n",
    "| `element()` | Returns the element stored in the vertex. |\n"
   ]
  },
  {
   "cell_type": "code",
   "execution_count": null,
   "id": "3d2b31c8-f706-4f6c-a055-b9eeabfbf86a",
   "metadata": {},
   "outputs": [],
   "source": [
    "Edge Class\n",
    "\n",
    "An Edge connects two vertices and may store an element like a label or weight."
   ]
  },
  {
   "cell_type": "markdown",
   "id": "f617af8d-45ee-4807-992a-69df0f17b777",
   "metadata": {},
   "source": [
    "| Method        | Description                                                          |\n",
    "| ------------- | -------------------------------------------------------------------- |\n",
    "| `element()`   | Returns the element stored in the edge.                              |\n",
    "| `endpoints()` | Returns a tuple `(u, v)` where `u` is origin and `v` is destination. |\n",
    "| `opposite(v)` | Given vertex `v`, returns the other endpoint of the edge.            |\n"
   ]
  },
  {
   "cell_type": "code",
   "execution_count": null,
   "id": "e76ea0ea-cc98-40bc-ada9-138f2c935545",
   "metadata": {},
   "outputs": [],
   "source": [
    "Graph Class\n",
    "\n",
    "The Graph class manages vertices and edges. Graphs can be directed or undirected."
   ]
  },
  {
   "cell_type": "markdown",
   "id": "42ab8987-d8c1-4d6a-883c-4f47e1cbbcf1",
   "metadata": {},
   "source": [
    "| Method           | Description                                                       |\n",
    "| ---------------- | ----------------------------------------------------------------- |\n",
    "| `vertex_count()` | Returns the number of vertices in the graph                       |\n",
    "| `vertices()`     | Returns an iteration of all vertices                              |\n",
    "| `edge_count()`   | Returns the number of edges                                       |\n",
    "| `edges()`        | Returns an iteration of all edges                                 |\n",
    "| `get_edge(u, v)` | Returns the edge between `u` and `v`, or `None` if no edge exists |\n"
   ]
  },
  {
   "cell_type": "code",
   "execution_count": null,
   "id": "3772d875-e077-49c7-ae53-5a0a7c071038",
   "metadata": {},
   "outputs": [],
   "source": [
    "Vertex Degree Methods"
   ]
  },
  {
   "cell_type": "markdown",
   "id": "1a1edfd0-eeaa-465a-97b7-2aa981eced35",
   "metadata": {},
   "source": [
    "| Method                        | Description                                                                    |\n",
    "| ----------------------------- | ------------------------------------------------------------------------------ |\n",
    "| `degree(v, out=True)`         | Returns number of outgoing (`True`) or incoming (`False`) edges for vertex `v` |\n",
    "| `incident_edges(v, out=True)` | Iterates over incident edges (outgoing by default, incoming if `out=False`)    |\n"
   ]
  },
  {
   "cell_type": "code",
   "execution_count": null,
   "id": "746de4d4-d90f-4ad9-8302-314a87853e62",
   "metadata": {},
   "outputs": [],
   "source": [
    "Mutation Operations:"
   ]
  },
  {
   "cell_type": "markdown",
   "id": "5054e320-61e1-4236-99c6-669707c1979e",
   "metadata": {},
   "source": [
    "| Method                      | Description                                                            |\n",
    "| --------------------------- | ---------------------------------------------------------------------- |\n",
    "| `insert_vertex(x=None)`     | Inserts a new vertex storing element `x`                               |\n",
    "| `insert_edge(u, v, x=None)` | Inserts a new edge between `u` and `v`, optionally storing element `x` |\n",
    "| `remove_vertex(v)`          | Removes vertex `v` and all of its incident edges                       |\n",
    "| `remove_edge(e)`            | Removes edge `e`                                                       |\n"
   ]
  },
  {
   "cell_type": "code",
   "execution_count": null,
   "id": "de3ffb5f-6bb8-40af-b0bf-89818af2d42b",
   "metadata": {},
   "outputs": [],
   "source": [
    "Directed vs Undirected Graphs\n",
    "\n",
    "Undirected: All edges are bidirectional.\n",
    "\n",
    "Directed: Each edge has a direction from source → destination.\n",
    "\n",
    "Mixed graphs can be simulated with two directed edges: (u, v) and (v, u)"
   ]
  },
  {
   "cell_type": "code",
   "execution_count": null,
   "id": "8edd4ddf-f343-4f1c-ae98-1200a4e38cf8",
   "metadata": {},
   "outputs": [],
   "source": [
    "Graph Representations: Summary and Performance Comparison\n",
    "\n",
    "Graphs can be represented in multiple ways depending on the operations we prioritize. Below are four common representations and their trade-offs:"
   ]
  },
  {
   "cell_type": "code",
   "execution_count": null,
   "id": "3e58bbfe-caa2-4d78-94ac-3f10104f5e50",
   "metadata": {},
   "outputs": [],
   "source": [
    "Graph Representations Overview"
   ]
  },
  {
   "cell_type": "markdown",
   "id": "e25b7d8b-8028-4694-9d8d-9ec319ccc74b",
   "metadata": {},
   "source": [
    "| Representation       | Description                                                                                                                                 |\n",
    "| -------------------- | ------------------------------------------------------------------------------------------------------------------------------------------- |\n",
    "| **Edge List**        | An unordered list of all edges. Simple and space-efficient, but poor for lookups and adjacency queries.                                     |\n",
    "| **Adjacency List**   | Each vertex maintains a list of incident edges. Improves neighborhood access.                                                               |\n",
    "| **Adjacency Map**    | Similar to adjacency list, but uses a map (dictionary) where keys are adjacent vertices and values are edges. Enables fast lookups.         |\n",
    "| **Adjacency Matrix** | A 2D array (n×n) where each cell holds a reference to the edge between two vertices (or `None`). Provides O(1) access but uses O(n²) space. |\n"
   ]
  },
  {
   "cell_type": "code",
   "execution_count": null,
   "id": "9d1e479d-2ae9-427c-afbf-b1bc42981096",
   "metadata": {},
   "outputs": [],
   "source": [
    "Operation Runtime Comparison\n",
    "\n",
    "Let:\n",
    "\n",
    "n = number of vertices\n",
    "\n",
    "m = number of edges\n",
    "\n",
    "d_v = degree of vertex v"
   ]
  },
  {
   "cell_type": "markdown",
   "id": "cd2ed6c6-8298-4b8d-b47b-9b0093c1c3dd",
   "metadata": {},
   "source": [
    "| Operation            | Edge List | Adjacency List | Adjacency Map | Adjacency Matrix |\n",
    "| -------------------- | --------- | -------------- | ------------- | ---------------- |\n",
    "| `vertex_count()`     | O(1)      | O(1)           | O(1)          | O(1)             |\n",
    "| `edge_count()`       | O(1)      | O(1)           | O(1)          | O(1)             |\n",
    "| `vertices()`         | O(n)      | O(n)           | O(n)          | O(n)             |\n",
    "| `edges()`            | O(m)      | O(m)           | O(m)          | O(m)             |\n",
    "| `get_edge(u,v)`      | O(m)      | O(min(dᵤ,dᵥ))  | O(1) expected | O(1)             |\n",
    "| `degree(v)`          | O(m)      | O(1)           | O(1)          | O(n)             |\n",
    "| `incident_edges(v)`  | O(m)      | O(dᵥ)          | O(dᵥ)         | O(n)             |\n",
    "| `insert_vertex(x)`   | O(1)      | O(1)           | O(1)          | O(n)             |\n",
    "| `remove_vertex(v)`   | O(m)      | O(dᵥ)          | O(dᵥ)         | O(n²)            |\n",
    "| `insert_edge(u,v,x)` | O(1)      | O(1)           | O(1)          | O(1)             |\n",
    "| `remove_edge(e)`     | O(1)      | O(1)           | O(1)          | O(1)             |\n"
   ]
  },
  {
   "cell_type": "code",
   "execution_count": null,
   "id": "6d0cc15a-a3e3-4b23-9f53-f65f6b361f51",
   "metadata": {},
   "outputs": [],
   "source": [
    "Trade-off Summary"
   ]
  },
  {
   "cell_type": "markdown",
   "id": "1b824b35-a4ec-488c-8bee-f76a48076f1b",
   "metadata": {},
   "source": [
    "| Representation       | Space Complexity | Best For                          | Limitations                           |\n",
    "| -------------------- | ---------------- | --------------------------------- | ------------------------------------- |\n",
    "| **Edge List**        | O(n + m)         | Simple graphs with few operations | Slow edge and neighbor queries        |\n",
    "| **Adjacency List**   | O(n + m)         | Iterating over neighbors          | Slower for `get_edge(u, v)`           |\n",
    "| **Adjacency Map**    | O(n + m)         | Fast access to specific edges     | Slightly more space than list         |\n",
    "| **Adjacency Matrix** | O(n²)            | Dense graphs & fast edge lookups  | Not space-efficient for sparse graphs |\n"
   ]
  },
  {
   "cell_type": "code",
   "execution_count": null,
   "id": "ed5cce5d-dd45-49f9-959c-39d7f4d1b70e",
   "metadata": {},
   "outputs": [],
   "source": [
    "Graph Implementation: Edge List — Operation Runtime Summary\n",
    "\n",
    "The Edge List structure is a simple way to implement a graph by storing all edges in a single list. It works well for sparse graphs or when only basic operations are needed.\n",
    "\n",
    "Below is a performance summary of common graph operations using the edge list representation."
   ]
  },
  {
   "cell_type": "markdown",
   "id": "c3385a99-1aa1-4f97-978f-317dbc38b084",
   "metadata": {},
   "source": [
    "| **Operation**                                              | **Running Time** |\n",
    "| ---------------------------------------------------------- | ---------------- |\n",
    "| `vertex_count()`, `edge_count()`                           | O(1)             |\n",
    "| `vertices()`                                               | O(n)             |\n",
    "| `edges()`                                                  | O(m)             |\n",
    "| `get_edge(u,v)`, `degree(v)`, `incident_edges(v)`          | O(m)             |\n",
    "| `insert_vertex(x)`, `insert_edge(u,v,x)`, `remove_edge(e)` | O(1)             |\n",
    "| `remove_vertex(v)`                                         | O(m)             |\n"
   ]
  },
  {
   "cell_type": "code",
   "execution_count": null,
   "id": "67aaa309-26e4-4623-885d-595eecf227df",
   "metadata": {},
   "outputs": [],
   "source": [
    "Graph Implementation: Adjacency List — Operation Runtime Summary\n",
    "\n",
    "The Adjacency List representation is a commonly used approach to model graphs efficiently, especially for sparse graphs. It maintains a list (or dictionary) of all edges for each vertex.\n",
    "\n",
    "Operation Runtimes"
   ]
  },
  {
   "cell_type": "markdown",
   "id": "98cb9653-e7dd-4016-9b4b-cf25fb967976",
   "metadata": {},
   "source": [
    "| **Operation**                              | **Running Time**        |\n",
    "| ------------------------------------------ | ----------------------- |\n",
    "| `vertex_count()`, `edge_count()`           | O(1)                    |\n",
    "| `vertices()`                               | O(n)                    |\n",
    "| `edges()`                                  | O(m)                    |\n",
    "| `get_edge(u, v)`                           | O(min(deg(u), deg(v)) ) |\n",
    "| `degree(v)`                                | O(1)                    |\n",
    "| `incident_edges(v)`                        | O(deg(v))               |\n",
    "| `insert_vertex(x)`, `insert_edge(u, v, x)` | O(1)                    |\n",
    "| `remove_edge(e)`                           | O(1)                    |\n",
    "| `remove_vertex(v)`                         | O(deg(v))               |\n"
   ]
  },
  {
   "cell_type": "code",
   "execution_count": null,
   "id": "8f3d81d4-ac2f-4134-a73a-84bbaba2a304",
   "metadata": {},
   "outputs": [],
   "source": [
    "Where:\n",
    "\n",
    "n = number of vertices\n",
    "\n",
    "m = number of edges\n",
    "\n",
    "deg(v) = degree of vertex v\n",
    "\n",
    "Space Complexity\n",
    "\n",
    "Total space used: O(n + m)"
   ]
  },
  {
   "cell_type": "code",
   "execution_count": null,
   "id": "2ad7a2b3-7b45-4947-87cb-44e8c390819a",
   "metadata": {},
   "outputs": [],
   "source": [
    "Code Fragment 14.1-14.3"
   ]
  },
  {
   "cell_type": "code",
   "execution_count": null,
   "id": "de5f9067-fd7d-46ef-88be-e39dd48bbb2e",
   "metadata": {},
   "outputs": [],
   "source": [
    "class Vertex:\n",
    "    \"\"\"Lightweight vertex structure for a graph.\"\"\"\n",
    "    __slots__ = '_element'\n",
    "\n",
    "    def __init__(self, x):\n",
    "        self._element = x\n",
    "\n",
    "    def element(self):\n",
    "        return self._element\n",
    "\n",
    "    def __hash__(self):\n",
    "        return hash(id(self))\n",
    "\n",
    "\n",
    "class Edge:\n",
    "    \"\"\"Lightweight edge structure for a graph.\"\"\"\n",
    "    __slots__ = '_origin', '_destination', '_element'\n",
    "\n",
    "    def __init__(self, u, v, x):\n",
    "        self._origin = u\n",
    "        self._destination = v\n",
    "        self._element = x\n",
    "\n",
    "    def endpoints(self):\n",
    "        return (self._origin, self._destination)\n",
    "\n",
    "    def opposite(self, v):\n",
    "        return self._destination if v is self._origin else self._origin\n",
    "\n",
    "    def element(self):\n",
    "        return self._element\n",
    "\n",
    "    def __hash__(self):\n",
    "        return hash((self._origin, self._destination))\n",
    "\n",
    "\n",
    "class Graph:\n",
    "    \"\"\"Representation of a simple graph using an adjacency map.\"\"\"\n",
    "\n",
    "    def __init__(self, directed=False):\n",
    "        self._outgoing = {}\n",
    "        self._incoming = {} if directed else self._outgoing\n",
    "\n",
    "    def is_directed(self):\n",
    "        \"\"\"Return True if the graph is directed.\"\"\"\n",
    "        return self._incoming is not self._outgoing\n",
    "\n",
    "    def vertex_count(self):\n",
    "        return len(self._outgoing)\n",
    "\n",
    "    def vertices(self):\n",
    "        return self._outgoing.keys()\n",
    "\n",
    "    def edge_count(self):\n",
    "        total = sum(len(adj) for adj in self._outgoing.values())\n",
    "        return total if self.is_directed() else total // 2\n",
    "\n",
    "    def edges(self):\n",
    "        result = set()\n",
    "        for adj in self._outgoing.values():\n",
    "            result.update(adj.values())\n",
    "        return result\n",
    "\n",
    "    def get_edge(self, u, v):\n",
    "        return self._outgoing[u].get(v)\n",
    "\n",
    "    def degree(self, v, outgoing=True):\n",
    "        adj = self._outgoing if outgoing else self._incoming\n",
    "        return len(adj[v])\n",
    "\n",
    "    def incident_edges(self, v, outgoing=True):\n",
    "        adj = self._outgoing if outgoing else self._incoming\n",
    "        for edge in adj[v].values():\n",
    "            yield edge\n",
    "\n",
    "    def insert_vertex(self, x=None):\n",
    "        v = Vertex(x)\n",
    "        self._outgoing[v] = {}\n",
    "        if self.is_directed():\n",
    "            self._incoming[v] = {}\n",
    "        return v\n",
    "\n",
    "    def insert_edge(self, u, v, x=None):\n",
    "        e = Edge(u, v, x)\n",
    "        self._outgoing[u][v] = e\n",
    "        self._incoming[v][u] = e\n"
   ]
  },
  {
   "cell_type": "code",
   "execution_count": null,
   "id": "04c38a7c-5be3-4e03-8dd8-3c5a5547546c",
   "metadata": {},
   "outputs": [],
   "source": [
    " Code Fragment 14.4: Code Fragment 14.4:"
   ]
  },
  {
   "cell_type": "code",
   "execution_count": null,
   "id": "ec74eff8-1551-43ac-acaa-fcfd86c6db36",
   "metadata": {},
   "outputs": [],
   "source": [
    "def DFS(G, u):\n",
    "    \"\"\"Perform a depth-first search starting at vertex u in graph G.\n",
    "    \n",
    "    Assumes vertex u has already been marked as visited.\n",
    "    \"\"\"\n",
    "    for e in G.incident_edges(u):          # for each outgoing edge from u\n",
    "        v = e.opposite(u)                  # get the vertex opposite u on edge e\n",
    "        if not v.visited:                  # check if the vertex has not been visited\n",
    "            v.visited = True              # mark vertex v as visited\n",
    "            DFS(G, v)                     # recursively explore from v\n"
   ]
  },
  {
   "cell_type": "code",
   "execution_count": null,
   "id": "87eeb6db-012e-4415-a8ec-756ee9518d0f",
   "metadata": {},
   "outputs": [],
   "source": [
    " • back edges, which connect a vertex to an ancestor in the DFS tree\n",
    " • forward edges, which connect a vertex to a descendant in the DFS tree\n",
    " • cross edges, which connect a vertex to a vertex that is neither its ancestor nor\n",
    " its descendant"
   ]
  },
  {
   "cell_type": "code",
   "execution_count": null,
   "id": "fa531ded-4bab-4c09-8352-07e600766358",
   "metadata": {},
   "outputs": [],
   "source": [
    "Code Fragment 14.5 Recursive DFS Using Discovery Map"
   ]
  },
  {
   "cell_type": "code",
   "execution_count": null,
   "id": "75d6aba4-ca0b-422a-a916-74b2ca0cb760",
   "metadata": {},
   "outputs": [],
   "source": [
    "def DFS(g, u, discovered):\n",
    "    \"\"\"Perform DFS on the undiscovered portion of graph g starting at vertex u.\n",
    "\n",
    "    - g: The graph.\n",
    "    - u: The starting vertex (already discovered).\n",
    "    - discovered: A dictionary mapping each discovered vertex to the edge that \n",
    "      was used to discover it.\n",
    "    \n",
    "    Newly discovered vertices will be added to the dictionary.\n",
    "    \"\"\"\n",
    "    for e in g.incident_edges(u):       # for every outgoing edge from u\n",
    "        v = e.opposite(u)               # get the opposite vertex\n",
    "        if v not in discovered:         # check if vertex is undiscovered\n",
    "            discovered[v] = e           # mark edge e as the discovery edge for v\n",
    "            DFS(g, v, discovered)       # recursively explore from v\n"
   ]
  },
  {
   "cell_type": "code",
   "execution_count": null,
   "id": "184a0e7f-2f96-42ef-80ca-804213b37c1c",
   "metadata": {},
   "outputs": [],
   "source": [
    " Code Fragment14.6: Top-level function that returns a DFS forest for an entire\n",
    " graph."
   ]
  },
  {
   "cell_type": "code",
   "execution_count": null,
   "id": "6ffeb09d-5553-4f43-88e7-e510c2423787",
   "metadata": {},
   "outputs": [],
   "source": [
    "def construct_path(u, v, discovered):\n",
    "    \"\"\"Reconstruct a directed path from vertex u to vertex v,\n",
    "    given a discovery mapping from a DFS starting at u.\n",
    "\n",
    "    Returns:\n",
    "        A list of vertices forming the path from u to v, or an empty list if v is not reachable.\n",
    "    \"\"\"\n",
    "    path = []                      # empty path by default\n",
    "    if v in discovered:           # only proceed if v was discovered\n",
    "        path.append(v)\n",
    "        walk = v\n",
    "        while walk is not u:\n",
    "            e = discovered[walk]   # find edge leading to walk\n",
    "            parent = e.opposite(walk)\n",
    "            path.append(parent)\n",
    "            walk = parent\n",
    "        path.reverse()            # reorient path from u to v\n",
    "    return path\n"
   ]
  },
  {
   "cell_type": "code",
   "execution_count": null,
   "id": "911047a7-13f5-42d7-8dbf-7b77cbabea70",
   "metadata": {},
   "outputs": [],
   "source": [
    "Code Fragment 14.6: Function to reconstruct a directed path from u to v,giventhe\n",
    " trace of discovery from a DFS started at u. The function returns an ordered list of\n",
    " vertices on the path."
   ]
  },
  {
   "cell_type": "code",
   "execution_count": null,
   "id": "10551c31-e6b1-4cb4-a402-edbcf7d1c185",
   "metadata": {},
   "outputs": [],
   "source": [
    "def DFS_complete(g):\n",
    "    \"\"\"Perform DFS for the entire graph and return a forest as a dictionary.\n",
    "\n",
    "    Each vertex is mapped to the edge that was used to discover it.\n",
    "    Root vertices of DFS trees are mapped to None.\n",
    "    \"\"\"\n",
    "    forest = {}\n",
    "    for u in g.vertices():\n",
    "        if u not in forest:\n",
    "            forest[u] = None        # u will be the root of a DFS tree\n",
    "            DFS(g, u, forest)      # explore entire component from u\n",
    "    return forest\n"
   ]
  },
  {
   "cell_type": "code",
   "execution_count": null,
   "id": "4f6199a1-af74-4ae6-ac91-968cef07b762",
   "metadata": {},
   "outputs": [],
   "source": [
    "Code Fragment 14.8:Implementation of breadth-first search on a graph,starting at\n",
    " a designated vertexs."
   ]
  },
  {
   "cell_type": "code",
   "execution_count": null,
   "id": "a1c3d7f1-6c2d-4a37-b089-60ff60a3bd96",
   "metadata": {},
   "outputs": [],
   "source": [
    "def BFS(g, s, discovered):\n",
    "    \"\"\"Perform BFS of the undiscovered portion of Graph g starting at Vertex s.\n",
    "\n",
    "    discovered: A dictionary mapping each vertex to the edge that was used\n",
    "    to discover it during the BFS. The source vertex `s` should already be\n",
    "    mapped to None before calling this function.\n",
    "    \"\"\"\n",
    "    level = [s]  # first level includes only s\n",
    "    while len(level) > 0:\n",
    "        next_level = []  # prepare to gather newly found vertices\n",
    "        for u in level:\n",
    "            for e in g.incident_edges(u):  # for every outgoing edge from u\n",
    "                v = e.opposite(u)\n",
    "                if v not in discovered:  # v is an undiscovered vertex\n",
    "                    discovered[v] = e     # e is the tree edge that discovered v\n",
    "                    next_level.append(v)  # queue for the next level\n",
    "        level = next_level  # move to the next level\n"
   ]
  },
  {
   "cell_type": "code",
   "execution_count": null,
   "id": "d751dbe8-9874-446e-8230-749b1e46db3a",
   "metadata": {},
   "outputs": [],
   "source": [
    "Code Fragment 14.9: Pseudo-code for the Floyd-Warshall algorithm."
   ]
  },
  {
   "cell_type": "code",
   "execution_count": null,
   "id": "329a6196-c80e-4244-b39e-cc980b78c42d",
   "metadata": {},
   "outputs": [],
   "source": [
    "# Code Fragment 14.9: Pseudo-code for the Floyd-Warshall algorithm.\n",
    "# This algorithm computes the transitive closure G* of G\n",
    "# by incrementally computing a series of directed graphs G0, G1, ..., Gn,\n",
    "# for k = 1, ..., n.\n",
    "\n",
    "def floyd_warshall(G):\n",
    "    \"\"\"Compute the transitive closure G* of a directed graph G.\n",
    "    \n",
    "    G is represented as a dictionary of dictionaries:\n",
    "    G[u][v] = True if there is an edge from u to v.\n",
    "    \n",
    "    Returns:\n",
    "        G_star: The transitive closure of G.\n",
    "    \"\"\"\n",
    "    # Step 1: Get list of vertices\n",
    "    vertices = list(G.keys())\n",
    "    n = len(vertices)\n",
    "    \n",
    "    # Step 2: Initialize G0 = G\n",
    "    G_star = {u: set(G[u]) for u in G}\n",
    "\n",
    "    # Step 3: Perform Floyd-Warshall Algorithm\n",
    "    for k in vertices:\n",
    "        for i in vertices:\n",
    "            for j in vertices:\n",
    "                if j not in G_star[i]:\n",
    "                    if k in G_star[i] and j in G_star[k]:\n",
    "                        G_star[i].add(j)\n",
    "\n",
    "    return G_star\n"
   ]
  },
  {
   "cell_type": "code",
   "execution_count": null,
   "id": "11a55cc1-cac3-4cea-8d50-85c7ce5ce55b",
   "metadata": {},
   "outputs": [],
   "source": [
    "Code Fragment 14.10: Python implementation of the Floyd-Warshall algorithm."
   ]
  },
  {
   "cell_type": "code",
   "execution_count": null,
   "id": "20feeedf-e452-4c8b-8ead-c4dd114982a5",
   "metadata": {},
   "outputs": [],
   "source": [
    "# Code Fragment 14.10: Python implementation of the Floyd-Warshall algorithm.\n",
    "# This algorithm returns a new graph that is the transitive closure of g.\n",
    "# Assumes g supports .vertices(), .get_edge(u, v), and .insert_edge(u, v)\n",
    "\n",
    "from copy import deepcopy\n",
    "\n",
    "def floyd_warshall(g):\n",
    "    \"\"\"Return a new graph that is the transitive closure of g.\n",
    "\n",
    "    This function uses the Floyd-Warshall algorithm to add an edge (i, j)\n",
    "    if there is a path from vertex i to j through some intermediate vertex k.\n",
    "\n",
    "    Args:\n",
    "        g: A Graph object that supports methods like vertices(), get_edge(), insert_edge()\n",
    "\n",
    "    Returns:\n",
    "        A new Graph instance that includes all transitive edges.\n",
    "    \"\"\"\n",
    "    closure = deepcopy(g)  # Make a copy to preserve the original graph\n",
    "    verts = list(closure.vertices())  # Make vertices indexable\n",
    "    n = len(verts)\n",
    "\n",
    "    for k in range(n):\n",
    "        for i in range(n):\n",
    "            # Check if edge (i, k) exists in the current closure\n",
    "            if i != k and closure.get_edge(verts[i], verts[k]) is not None:\n",
    "                for j in range(n):\n",
    "                    # Check if edge (k, j) exists\n",
    "                    if i != j != k and closure.get_edge(verts[k], verts[j]) is not None:\n",
    "                        # If (i, j) does not already exist, add it\n",
    "                        if closure.get_edge(verts[i], verts[j]) is None:\n",
    "                            closure.insert_edge(verts[i], verts[j])\n",
    "    \n",
    "    return closure\n"
   ]
  },
  {
   "cell_type": "code",
   "execution_count": null,
   "id": "3f8350d1-c09a-4d3d-a3a6-c7ad7a560e57",
   "metadata": {},
   "outputs": [],
   "source": [
    "Code Fragment 14.11: Python implementation for the topological sorting algorithm."
   ]
  },
  {
   "cell_type": "code",
   "execution_count": null,
   "id": "9ccc9d49-73ea-47ae-b9c6-0f5d662ef22c",
   "metadata": {},
   "outputs": [],
   "source": [
    "# Code Fragment 14.11: Python implementation for the topological sorting algorithm.\n",
    "# This function returns a list of vertices of a directed acyclic graph (DAG) in topological order.\n",
    "# If the graph contains a cycle, the result may be incomplete.\n",
    "\n",
    "def topological_sort(g):\n",
    "    \"\"\"Return a list of vertices of directed acyclic graph g in topological order.\n",
    "\n",
    "    Topological sorting is only valid for DAGs (Directed Acyclic Graphs).\n",
    "    If the graph contains a cycle, not all vertices will be included in the result.\n",
    "\n",
    "    Args:\n",
    "        g: A directed graph object that supports methods like vertices(), degree(), incident_edges()\n",
    "\n",
    "    Returns:\n",
    "        topo: A list of vertices in topological order.\n",
    "    \"\"\"\n",
    "    topo = []            # List to store the topological order\n",
    "    ready = []           # List of vertices with no remaining incoming edges\n",
    "    incount = {}         # Dictionary to count incoming edges for each vertex\n",
    "\n",
    "    for u in g.vertices():\n",
    "        incount[u] = g.degree(u, False)  # Count incoming edges\n",
    "        if incount[u] == 0:\n",
    "            ready.append(u)              # Vertex is free of constraints\n",
    "\n",
    "    while len(ready) > 0:\n",
    "        u = ready.pop()\n",
    "        topo.append(u)                   # Add to topological order\n",
    "\n",
    "        for e in g.incident_edges(u):    # For each outgoing edge from u\n",
    "            v = e.opposite(u)\n",
    "            incount[v] -= 1              # Remove one incoming constraint\n",
    "            if incount[v] == 0:\n",
    "                ready.append(v)          # Add v to ready if no more constraints\n",
    "\n",
    "    return topo\n"
   ]
  },
  {
   "cell_type": "code",
   "execution_count": null,
   "id": "296a111b-7078-41a3-9c8a-654fb43e34ec",
   "metadata": {},
   "outputs": [],
   "source": [
    "Code Fragment 14.12: Dijkstra’s Algorithm (Shortest Path from a Single Source)"
   ]
  },
  {
   "cell_type": "code",
   "execution_count": null,
   "id": "da9c495a-43c7-4f05-b4da-43a6fa0aba67",
   "metadata": {},
   "outputs": [],
   "source": [
    "# Code Fragment 14.12: Dijkstra’s Algorithm (Shortest Path from a Single Source)\n",
    "\n",
    "Algorithm ShortestPath(G, s):\n",
    "    Input: \n",
    "        A weighted graph G with nonnegative edge weights\n",
    "        A distinguished source vertex s of G\n",
    "    Output: \n",
    "        A dictionary D[v] containing the shortest path length from s to v\n",
    "\n",
    "    1. Initialize D[s] = 0\n",
    "    2. For each vertex v ≠ s:\n",
    "           D[v] = ∞\n",
    "    3. Let a priority queue Q contain all vertices of G using the D labels as keys\n",
    "\n",
    "    4. while Q is not empty do:\n",
    "           u = Q.remove_min()   # vertex with smallest D[u]\n",
    "\n",
    "           for each vertex v adjacent to u such that v is still in Q:\n",
    "               # Relaxation step\n",
    "               if D[u] + w(u, v) < D[v]:\n",
    "                   D[v] = D[u] + w(u, v)\n",
    "                   Q.update_key(v, D[v])   # Update v's key in the priority queue\n",
    "\n",
    "    5. return D\n"
   ]
  },
  {
   "cell_type": "code",
   "execution_count": null,
   "id": "a043bf60-e6b8-4b3a-b95c-2de211416c78",
   "metadata": {},
   "outputs": [],
   "source": [
    "Code Fragment 14.13: Dijkstra’s Algorithm in Python"
   ]
  },
  {
   "cell_type": "code",
   "execution_count": null,
   "id": "7b312ded-6ed9-4eb0-ac0f-78be0ead63f7",
   "metadata": {},
   "outputs": [],
   "source": [
    "def shortest_path_lengths(g, src):\n",
    "    \"\"\"Compute shortest-path distances from src to reachable vertices of g.\n",
    "\n",
    "    Graph g can be undirected or directed, but must be weighted such that\n",
    "    e.element() returns a numeric weight for each edge.\n",
    "\n",
    "    Returns a dictionary mapping each reachable vertex to its distance from src.\n",
    "    \"\"\"\n",
    "    d = {}                  # d[v] is upper bound distance from src to v\n",
    "    cloud = {}              # map reachable vertex to its final d[v] value\n",
    "    pq = AdaptableHeapPriorityQueue()   # vertex v will have key d[v]\n",
    "    pqlocator = {}          # map from vertex to its pq locator\n",
    "\n",
    "    # Initialize distances and fill the priority queue\n",
    "    for v in g.vertices():\n",
    "        if v is src:\n",
    "            d[v] = 0\n",
    "        else:\n",
    "            d[v] = float('inf')\n",
    "        pqlocator[v] = pq.add(d[v], v)\n",
    "\n",
    "    # Main loop of Dijkstra's algorithm\n",
    "    while not pq.is_empty():\n",
    "        key, u = pq.remove_min()\n",
    "        cloud[u] = key       # this is the confirmed shortest distance\n",
    "        del pqlocator[u]\n",
    "\n",
    "        # Relax edges (u, v)\n",
    "        for e in g.incident_edges(u):\n",
    "            v = e.opposite(u)\n",
    "            if v not in cloud:\n",
    "                wgt = e.element()\n",
    "                if d[u] + wgt < d[v]:\n",
    "                    d[v] = d[u] + wgt\n",
    "                    pq.update(pqlocator[v], d[v], v)\n",
    "\n",
    "    return cloud  # Final shortest-path distances from src\n"
   ]
  },
  {
   "cell_type": "code",
   "execution_count": null,
   "id": "44c74c7c-8152-4c56-bf99-08d67a23c478",
   "metadata": {},
   "outputs": [],
   "source": [
    "Code Fragment 14.14: shortest_path_tree Function (Python)"
   ]
  },
  {
   "cell_type": "code",
   "execution_count": null,
   "id": "6bf28101-128f-4632-a922-07a573b3b078",
   "metadata": {},
   "outputs": [],
   "source": [
    "def shortest_path_tree(g, s, d):\n",
    "    \"\"\"Reconstruct shortest-path tree rooted at vertex s, given distance map d.\n",
    "\n",
    "    Return tree as a map from each reachable vertex v (other than s) to the\n",
    "    edge e = (u, v) that is used to reach v from its parent u in the tree.\n",
    "    \"\"\"\n",
    "    tree = {}\n",
    "\n",
    "    for v in d:\n",
    "        if v is not s:\n",
    "            for e in g.incident_edges(v, outgoing=False):  # consider INCOMING edges\n",
    "                u = e.opposite(v)\n",
    "                wgt = e.element()\n",
    "                if d[v] == d[u] + wgt:\n",
    "                    tree[v] = e  # edge e is used to reach v\n",
    "                    break  # only need one such edge\n",
    "\n",
    "    return tree\n"
   ]
  },
  {
   "cell_type": "code",
   "execution_count": null,
   "id": "5c8eef82-3387-42a4-82d1-46d4e5090fe5",
   "metadata": {},
   "outputs": [],
   "source": [
    "Code Fragment 14.15: Prim-Jarník Algorithm (Pseudo-code)"
   ]
  },
  {
   "cell_type": "code",
   "execution_count": null,
   "id": "499f68ee-3a74-435d-aabd-addffd388f3c",
   "metadata": {},
   "outputs": [],
   "source": [
    "Algorithm PrimJarnik(G):\n",
    "    Input: An undirected, weighted, connected graph G with n vertices and m edges\n",
    "    Output: A minimum spanning tree T for G\n",
    "\n",
    "    Pick any vertex s of G\n",
    "    D[s] = 0\n",
    "    For each vertex v ≠ s:\n",
    "        D[v] = ∞\n",
    "\n",
    "    Initialize T = ∅\n",
    "    Initialize a priority queue Q with entries:\n",
    "        (D[v], (v, None)) for each vertex v\n",
    "\n",
    "    while Q is not empty do:\n",
    "        (u, e) = Q.remove_min()          # u is the vertex, e is the edge to connect u to MST\n",
    "        Connect vertex u to T using edge e\n",
    "\n",
    "        for each edge e = (u, v) such that v is in Q do:\n",
    "            if w(u, v) < D[v] then:\n",
    "                D[v] = w(u, v)\n",
    "                Update key of vertex v in Q to D[v]\n",
    "                Update value of vertex v in Q to (v, e)\n",
    "\n",
    "    return T\n"
   ]
  },
  {
   "cell_type": "code",
   "execution_count": null,
   "id": "494d669b-82d4-40af-b5ec-670b50834a81",
   "metadata": {},
   "outputs": [],
   "source": [
    "Code Fragment 14.16: Prim-Jarník Algorithm in Python"
   ]
  },
  {
   "cell_type": "code",
   "execution_count": null,
   "id": "e7be2e6d-0ed5-45d2-b335-9826084509d1",
   "metadata": {},
   "outputs": [],
   "source": [
    "def MSTPrimJarnik(g):\n",
    "    \"\"\"Compute a minimum spanning tree of weighted graph g.\n",
    "    \n",
    "    Return a list of edges that comprise the MST (in arbitrary order).\n",
    "    \"\"\"\n",
    "    d = {}  # d[v] is bound on distance to tree\n",
    "    tree = []  # list of edges in the spanning tree\n",
    "    pq = AdaptableHeapPriorityQueue()  # d[v] maps to value (v, e=(u,v))\n",
    "    pqlocator = {}  # map from vertex to its pq locator\n",
    "\n",
    "    # Initialize priority queue with all vertices\n",
    "    for v in g.vertices():\n",
    "        if len(d) == 0:\n",
    "            d[v] = 0  # Make the first node the root\n",
    "        else:\n",
    "            d[v] = float('inf')  # Infinity for all others\n",
    "        pqlocator[v] = pq.add(d[v], (v, None))\n",
    "\n",
    "    # Main loop of the algorithm\n",
    "    while not pq.is_empty():\n",
    "        key, value = pq.remove_min()\n",
    "        u, edge = value  # unpack tuple from PQ\n",
    "        del pqlocator[u]  # u is no longer in PQ\n",
    "        if edge is not None:\n",
    "            tree.append(edge)  # add edge to tree\n",
    "\n",
    "        for link in g.incident_edges(u):  # for all edges (u, v)\n",
    "            v = link.opposite(u)\n",
    "            if v in pqlocator:  # if v is still in PQ (not yet in tree)\n",
    "                wgt = link.element()\n",
    "                if wgt < d[v]:  # better edge to v?\n",
    "                    d[v] = wgt  # update distance\n",
    "                    pq.update(pqlocator[v], d[v], (v, link))  # update PQ entry\n",
    "\n",
    "    return tree\n"
   ]
  },
  {
   "cell_type": "code",
   "execution_count": null,
   "id": "913b92f4-5506-40bb-9412-f663fcb5c0ac",
   "metadata": {},
   "outputs": [],
   "source": [
    "Code Fragment 14.17: Kruskal’s Algorithm"
   ]
  },
  {
   "cell_type": "code",
   "execution_count": null,
   "id": "e1dbdaad-d853-4c56-ab21-35ad44935e50",
   "metadata": {},
   "outputs": [],
   "source": [
    "def MSTKruskal(G):\n",
    "    \"\"\"Compute a Minimum Spanning Tree (MST) using Kruskal's Algorithm.\n",
    "\n",
    "    Parameters:\n",
    "    - G: A connected, weighted graph with n vertices and m edges\n",
    "\n",
    "    Returns:\n",
    "    - T: A list of edges representing the MST\n",
    "    \"\"\"\n",
    "    # Each vertex begins in its own cluster (represented by its own set)\n",
    "    clusters = {v: {v} for v in G.vertices()}\n",
    "\n",
    "    # Priority queue of all edges, sorted by weight\n",
    "    pq = PriorityQueue()\n",
    "    for e in G.edges():\n",
    "        pq.add(e.element(), e)  # edge weight as key\n",
    "\n",
    "    T = []  # MST edges will be stored here\n",
    "\n",
    "    while len(T) < len(G.vertices()) - 1:\n",
    "        weight, e = pq.remove_min()\n",
    "        u, v = e.endpoints()\n",
    "\n",
    "        # Find clusters for u and v\n",
    "        cu = clusters[u]\n",
    "        cv = clusters[v]\n",
    "\n",
    "        if cu is not cv:\n",
    "            T.append(e)  # Accept edge\n",
    "            # Merge clusters: update all vertices in cv to point to cu\n",
    "            cu.update(cv)\n",
    "            for w in cv:\n",
    "                clusters[w] = cu  # redirect pointer\n",
    "\n",
    "    return T\n"
   ]
  },
  {
   "cell_type": "code",
   "execution_count": null,
   "id": "f292b263-000a-4fc4-b30e-76c501af7d7c",
   "metadata": {},
   "outputs": [],
   "source": [
    "Code Fragment 14.18: Kruskal’s Algorithm (Python Implementation)"
   ]
  },
  {
   "cell_type": "code",
   "execution_count": null,
   "id": "f14ba06d-3b72-4130-b0f7-eb70b2b3f614",
   "metadata": {},
   "outputs": [],
   "source": [
    "def MSTKruskal(g):\n",
    "    \"\"\"Compute a minimum spanning tree of a graph using Kruskal's algorithm.\n",
    "\n",
    "    Returns:\n",
    "        A list of edges that comprise the MST.\n",
    "\n",
    "    Assumes:\n",
    "        The elements of the graph's edges are weights.\n",
    "    \"\"\"\n",
    "    tree = []  # List of edges in the MST\n",
    "    pq = HeapPriorityQueue()  # Min-heap with edges (keyed by weights)\n",
    "    forest = Partition()  # Disjoint-set to track clusters\n",
    "    position = {}  # Map from vertex to its Partition group\n",
    "\n",
    "    # Create singleton sets for each vertex\n",
    "    for v in g.vertices():\n",
    "        position[v] = forest.make_group(v)\n",
    "\n",
    "    # Insert all edges into the priority queue\n",
    "    for e in g.edges():\n",
    "        pq.add(e.element(), e)  # e.element() is assumed to be the weight\n",
    "\n",
    "    size = g.vertex_count()\n",
    "\n",
    "    while len(tree) != size - 1 and not pq.is_empty():\n",
    "        # Tree not yet spanning, and edges remain to process\n",
    "        weight, edge = pq.remove_min()\n",
    "        u, v = edge.endpoints()\n",
    "        a = forest.find(position[u])\n",
    "        b = forest.find(position[v])\n",
    "\n",
    "        if a != b:\n",
    "            tree.append(edge)  # Accept this edge\n",
    "            forest.union(a, b)  # Merge the clusters\n",
    "\n",
    "    return tree\n"
   ]
  },
  {
   "cell_type": "code",
   "execution_count": null,
   "id": "b3a9ef58-0118-461d-afeb-c96792f39c32",
   "metadata": {},
   "outputs": [],
   "source": [
    "Disjoint Set (Union-Find) Structure\n",
    "\n",
    "Purpose:\n",
    "Efficiently manage a collection of disjoint groups (sets) — where each element belongs to exactly one group — to support operations like merging groups and finding group leaders.\n",
    "\n",
    "Used in: Algorithms like Kruskal’s Minimum Spanning Tree, network connectivity, image processing, and dynamic connectivity problems."
   ]
  },
  {
   "cell_type": "code",
   "execution_count": null,
   "id": "fcb321c9-a7a8-4a1e-abd2-d75ec303530a",
   "metadata": {},
   "outputs": [],
   "source": [
    "Key Concepts\n",
    "\n",
    "Each group has a leader (a designated representative element).\n",
    "\n",
    "We do not need to list or iterate over all group members.\n",
    "\n",
    "The structure implicitly represents groups (usually with trees)."
   ]
  },
  {
   "cell_type": "code",
   "execution_count": null,
   "id": "ab767cfe-e2d5-4903-bb9e-e7279fe17799",
   "metadata": {},
   "outputs": [],
   "source": [
    "Supported Operations"
   ]
  },
  {
   "cell_type": "markdown",
   "id": "df6e1def-5977-4c5b-9ca0-73b6a953bcb6",
   "metadata": {},
   "source": [
    "| Operation       | Description                                                            |\n",
    "| --------------- | ---------------------------------------------------------------------- |\n",
    "| `make_group(x)` | Create a **new group** with element `x` as its only member and leader. |\n",
    "| `union(p, q)`   | Merge the groups containing positions `p` and `q`.                     |\n",
    "| `find(p)`       | Return the **leader** of the group that contains position `p`.         |\n"
   ]
  },
  {
   "cell_type": "code",
   "execution_count": null,
   "id": "80136e8e-c2c8-4c81-a107-c564d9419976",
   "metadata": {},
   "outputs": [],
   "source": [
    "Applications Example\n",
    "\n",
    "In Kruskal's algorithm, each node starts in its own group. As edges are considered, the union operation merges groups if they’re not already connected (avoiding cycles), and find is used to determine group membership efficiently."
   ]
  },
  {
   "cell_type": "code",
   "execution_count": null,
   "id": "59a39dc0-8dc1-4fee-9c65-aa2400a3ae62",
   "metadata": {},
   "outputs": [],
   "source": [
    "Code Fragment 14.19: Python Implementation of a Partition Class\n",
    "\n",
    "Implements union-by-size and path compression to efficiently manage disjoint sets, which is useful in Kruskal’s MST algorithm and other connectivity-related applications."
   ]
  },
  {
   "cell_type": "code",
   "execution_count": null,
   "id": "8a022717-3249-47cc-9b01-bbd16901ae27",
   "metadata": {},
   "outputs": [],
   "source": [
    "class Partition:\n",
    "    \"\"\"Union-find structure for maintaining disjoint sets.\"\"\"\n",
    "\n",
    "    # ------------------------- nested Position class -------------------------\n",
    "    class Position:\n",
    "        __slots__ = '_container', '_element', '_size', '_parent'\n",
    "\n",
    "        def __init__(self, container, e):\n",
    "            \"\"\"Create a new position that is the leader of its own group.\"\"\"\n",
    "            self._container = container   # reference to Partition instance\n",
    "            self._element = e\n",
    "            self._size = 1\n",
    "            self._parent = self           # convention: leader points to self\n",
    "\n",
    "        def element(self):\n",
    "            \"\"\"Return the element stored at this position.\"\"\"\n",
    "            return self._element\n",
    "\n",
    "    # ------------------------- public Partition methods -------------------------\n",
    "    def make_group(self, e):\n",
    "        \"\"\"Make a new group containing element e, and return its Position.\"\"\"\n",
    "        return self.Position(self, e)\n",
    "\n",
    "    def find(self, p):\n",
    "        \"\"\"Find the group containing p and return the position of its leader.\"\"\"\n",
    "        if p._parent != p:\n",
    "            p._parent = self.find(p._parent)  # path compression\n",
    "        return p._parent\n",
    "\n",
    "    def union(self, p, q):\n",
    "        \"\"\"Merge the groups containing elements p and q (if distinct).\"\"\"\n",
    "        a = self.find(p)\n",
    "        b = self.find(q)\n",
    "        if a is not b:\n",
    "            # union by size (larger group becomes parent)\n",
    "            if a._size > b._size:\n",
    "                b._parent = a\n",
    "                a._size += b._size\n",
    "            else:\n",
    "                a._parent = b\n",
    "                b._size += a._size\n"
   ]
  },
  {
   "cell_type": "code",
   "execution_count": null,
   "id": "ce28e115-43d0-4352-81a6-00ae6f515116",
   "metadata": {},
   "outputs": [],
   "source": [
    "Features"
   ]
  },
  {
   "cell_type": "markdown",
   "id": "2b43c5be-aa0e-473f-af85-1a7e0fc30349",
   "metadata": {},
   "source": [
    "| Feature              | Description                                             |\n",
    "| -------------------- | ------------------------------------------------------- |\n",
    "| **Path Compression** | Flattens the tree to speed up future `find` operations. |\n",
    "| **Union by Size**    | Attaches the smaller tree to the larger one.            |\n",
    "| **Efficiency**       | Amortized near-constant time for `find` and `union`.    |\n"
   ]
  },
  {
   "cell_type": "code",
   "execution_count": null,
   "id": "7ff4c3be-dde4-46d0-be01-d8a1a0b0995d",
   "metadata": {},
   "outputs": [],
   "source": [
    "Exercises R14.1-14.36"
   ]
  },
  {
   "cell_type": "code",
   "execution_count": null,
   "id": "0240aaf5-9307-4cb0-9ca9-208a307141f3",
   "metadata": {},
   "outputs": [],
   "source": [
    "R-14.1 Draw a simple undirected graph G that has 12 vertices, 18 edges, and 3\n",
    " connected components.\n"
   ]
  },
  {
   "cell_type": "code",
   "execution_count": null,
   "id": "7309dcec-4f43-49f4-af47-6b775700484b",
   "metadata": {},
   "outputs": [],
   "source": [
    "[1]--[2]\n",
    " | \\/ |\n",
    " | /\\ |\n",
    "[3]--[4]\n",
    "[5]--[6]\n",
    " | \\/ |\n",
    " | /\\ |\n",
    "[7]--[8]\n",
    "[9]--[10]\n",
    "  | \\/  |\n",
    "  | /\\  |\n",
    "[11]--[12]\n"
   ]
  },
  {
   "cell_type": "code",
   "execution_count": null,
   "id": "2636f56c-7279-411c-bcf7-aa07a7a88570",
   "metadata": {},
   "outputs": [],
   "source": [
    " R-14.2 If G is a simple undirected graph with 12 vertices and 3 connected com\n",
    "ponents, what is the largest number of edges it might have?\n"
   ]
  },
  {
   "cell_type": "code",
   "execution_count": null,
   "id": "aac4be3a-e738-4e12-ae9b-bbb4f3e9c3e3",
   "metadata": {},
   "outputs": [],
   "source": [
    "The largest number of edges possible is 45."
   ]
  },
  {
   "cell_type": "code",
   "execution_count": null,
   "id": "f68ffc2b-72ff-4032-b569-a7e93278f99a",
   "metadata": {},
   "outputs": [],
   "source": [
    " R-14.3 Draw an adjacency matrix representation of the undirected graph shown\n",
    " in Figure 14.1.\n"
   ]
  },
  {
   "cell_type": "code",
   "execution_count": null,
   "id": "0f61eeaf-aadb-4a8b-b6ca-4838ca70fb5c",
   "metadata": {},
   "outputs": [],
   "source": [
    "Snoeyink → {Goodrich, Goldwasser}\n",
    "\n",
    "Garg → {Goldwasser, Tamassia}\n",
    "\n",
    "Goldwasser → {Snoeyink, Garg, Goodrich}\n",
    "\n",
    "Goodrich → {Snoeyink, Goldwasser, Vitter, Tamassia}\n",
    "\n",
    "Tollis → {Vitter}\n",
    "\n",
    "Vitter → {Goodrich, Tollis, Preparata}\n",
    "\n",
    "Tamassia → {Garg, Goodrich, Preparata, Chiang}\n",
    "\n",
    "Preparata → {Vitter, Tamassia, Chiang}\n",
    "\n",
    "Chiang → {Tamassia, Preparata}"
   ]
  },
  {
   "cell_type": "code",
   "execution_count": null,
   "id": "970c03eb-baaa-47df-a1e3-b1bb8dbd5cda",
   "metadata": {},
   "outputs": [],
   "source": [
    " R-14.4 Draw an adjacency list representation of the undirected graph shown in\n",
    " Figure 14.1.\n"
   ]
  },
  {
   "cell_type": "code",
   "execution_count": null,
   "id": "2c06bc90-9f20-4c3c-b058-8771c5bed057",
   "metadata": {},
   "outputs": [],
   "source": [
    "Snoeyink → Goodrich, Goldwasser\n",
    "\n",
    "Garg → Goldwasser, Tamassia\n",
    "\n",
    "Goldwasser → Snoeyink, Garg, Goodrich\n",
    "\n",
    "Goodrich → Snoeyink, Goldwasser, Vitter, Tamassia\n",
    "\n",
    "Tollis → Vitter\n",
    "\n",
    "Vitter → Goodrich, Tollis, Preparata\n",
    "\n",
    "Tamassia → Garg, Goodrich, Preparata, Chiang\n",
    "\n",
    "Preparata → Vitter, Tamassia, Chiang\n",
    "\n",
    "Chiang → Tamassia, Preparata"
   ]
  },
  {
   "cell_type": "code",
   "execution_count": null,
   "id": "b17e6ce6-03bb-4316-82b1-ffa1df222855",
   "metadata": {},
   "outputs": [],
   "source": [
    " R-14.5 Draw a simple, connected, directed graph with 8 vertices and 16 edges\n",
    " such that the in-degree and out-degree of each vertex is 2. Show that there\n",
    " is a single (nonsimple) cycle that includes all the edges of your graph, that\n",
    " is, you can trace all the edges in their respective directions without ever\n",
    " lifting your pencil. (Such a cycle is called an Euler tour.)\n"
   ]
  },
  {
   "cell_type": "code",
   "execution_count": null,
   "id": "b8ab9a13-d59a-4de5-8d35-e0a51e1c1d46",
   "metadata": {},
   "outputs": [],
   "source": [
    "         v1 → v2 → v3 → v4\n",
    "          ↘       ↗      ↓\n",
    "           v3   v4     v6\n",
    "            ↑     ↓   ↙\n",
    "          v8 ← v7 ← v6 ← v5\n"
   ]
  },
  {
   "cell_type": "code",
   "execution_count": null,
   "id": "b9b2d212-1cfa-4a2e-be17-c773454fe310",
   "metadata": {},
   "outputs": [],
   "source": [
    " R-14.6 Suppose we represent a graph G having n vertices and m edges with the\n",
    " edge list structure. Why, in this case, does the insert vertex method run\n",
    " in O(1) time while the remove vertex method runs in O(m) time?\n"
   ]
  },
  {
   "cell_type": "code",
   "execution_count": null,
   "id": "230571d6-683c-400e-ab38-838819729d5a",
   "metadata": {},
   "outputs": [],
   "source": [
    "Insert vertex O(1) Just add vertex to vertex list no edges to update\n",
    "\n",
    "Remove vertex O(m) Must scan all edges to remove those incident to the vertex"
   ]
  },
  {
   "cell_type": "code",
   "execution_count": null,
   "id": "3c0d63cd-f5da-4d8c-8c10-70544e3ab79a",
   "metadata": {},
   "outputs": [],
   "source": [
    " R-14.7 Givepseudo-code for performing the operation insert edge(u,v,x) in O(1)\n",
    " time using the adjacency matrix representation.\n"
   ]
  },
  {
   "cell_type": "code",
   "execution_count": null,
   "id": "31fb2921-d4c4-4d40-ba53-aa33dcc34ef6",
   "metadata": {},
   "outputs": [],
   "source": [
    "Algorithm insert_edge(u, v, x):\n",
    "    Input: vertices u and v, edge element x\n",
    "    Output: update adjacency matrix A to include edge (u,v)\n",
    "\n",
    "    A[u][v] ← x\n",
    "    if G is undirected then\n",
    "        A[v][u] ← x\n"
   ]
  },
  {
   "cell_type": "code",
   "execution_count": null,
   "id": "edeb6417-d611-4bbf-ab4e-be8ec60147c2",
   "metadata": {},
   "outputs": [],
   "source": [
    " R-14.8 Repeat Exercise R-14.7 for the adjacency list representation, as described\n",
    " in the chapter.\n",
    " "
   ]
  },
  {
   "cell_type": "code",
   "execution_count": null,
   "id": "6191f4b1-1f2c-4c48-8a6d-8cd7038d69f8",
   "metadata": {},
   "outputs": [],
   "source": [
    "Algorithm insert_edge(u, v, x):\n",
    "    Input: vertices u and v, edge element x\n",
    "    Output: update adjacency list structure to include edge (u,v)\n",
    "\n",
    "    create new edge e = (u, v, x)\n",
    "\n",
    "    add e to adjacency_list[u]   // append to u’s neighbor list\n",
    "\n",
    "    if G is undirected then\n",
    "        create new edge f = (v, u, x)\n",
    "        add f to adjacency_list[v]\n"
   ]
  },
  {
   "cell_type": "code",
   "execution_count": null,
   "id": "b096e4ba-4d11-45d0-941d-56b3a3cb4702",
   "metadata": {},
   "outputs": [],
   "source": [
    "R-14.9 Canedge list E be omitted from the adjacency matrix representation while\n",
    " still achieving the time bounds given in Table 14.1? Why or why not?\n",
    " "
   ]
  },
  {
   "cell_type": "code",
   "execution_count": null,
   "id": "3add58fd-30b1-4e3c-96a3-77091bbdfdc7",
   "metadata": {},
   "outputs": [],
   "source": [
    "the edge list is necessary in the adjacency matrix representation if we want efficient O(m) iteration over edges. Without it, wed have O(n^2), which breaks the bounds that are in table 14.1 in the chapter"
   ]
  },
  {
   "cell_type": "code",
   "execution_count": null,
   "id": "629f285a-d943-454d-ab4f-24ba7b3f5b55",
   "metadata": {},
   "outputs": [],
   "source": [
    "R-14.10 Can edge list E be omitted from the adjacency list representation while\n",
    " still achieving the time bounds given in Table 14.3? Why or why not?\n",
    " "
   ]
  },
  {
   "cell_type": "code",
   "execution_count": null,
   "id": "30795094-5c93-4dba-a2a5-ccd66c1077ab",
   "metadata": {},
   "outputs": [],
   "source": [
    "yes it can be omitted since without it, we will not be breaking the time bounds in table 14.3.. We can iterate over all the edgece in o(m), by transversing adjacently."
   ]
  },
  {
   "cell_type": "code",
   "execution_count": null,
   "id": "3d7f7024-1e0c-4fbc-8712-881a6ff7d538",
   "metadata": {},
   "outputs": [],
   "source": [
    "R-14.11 Would you use the adjacency matrix structure or the adjacency list struc\n",
    "ture in each of the following cases? Justify your choice.\n",
    " a. The graph has 10,000 vertices and 20,000 edges, and it is important\n",
    " to use as little space as possible.\n",
    " b. The graph has 10,000 vertices and 20,000,000 edges, and it is im\n",
    "portant to use as little space as possible.\n",
    " c. You need to answer the query get edge(u,v) as fast as possible, no\n",
    " matter how much space you use.\n"
   ]
  },
  {
   "cell_type": "markdown",
   "id": "0d4ef793-8875-4db5-b942-74ef3ee503ed",
   "metadata": {},
   "source": [
    "| Case | Graph Size                    | Priority             | Better Representation | Justification                                   |\n",
    "| ---- | ----------------------------- | -------------------- | --------------------- | ----------------------------------------------- |\n",
    "| a    | 10,000 vertices, 20,000 edges | Save space           | **Adjacency List**    | Uses $O(n+m)=30K$ vs $O(n^2)=100M$.             |\n",
    "| b    | 10,000 vertices, 20M edges    | Save space           | **Adjacency List**    | Uses \\~20M vs 100M entries in matrix.           |\n",
    "| c    | Any size                      | Fast `get_edge(u,v)` | **Adjacency Matrix**  | Lookup in $O(1)$, list would take $O(\\deg(u))$. |\n"
   ]
  },
  {
   "cell_type": "code",
   "execution_count": null,
   "id": "e0744aa3-45c9-417e-8e41-0e13bb10a11b",
   "metadata": {},
   "outputs": [],
   "source": [
    "R-14.12 Explain why the DFS traversal runs in O(n2) time on an n-vertex simple\n",
    " graph that is represented with the adjacency matrix structure.\n"
   ]
  },
  {
   "cell_type": "code",
   "execution_count": null,
   "id": "ba837855-d0fd-4161-8efb-24730901d4f2",
   "metadata": {},
   "outputs": [],
   "source": [
    "R-14.13 In order to verify that all of its nontree edges are back edges, redraw the\n",
    " graph from Figure 14.8b so that the DFS tree edges are drawn with solid\n",
    " lines and oriented downward, as in a standard portrayal of a tree, and with\n",
    " all nontree edges drawn using dashed lines.\n"
   ]
  },
  {
   "cell_type": "code",
   "execution_count": null,
   "id": "0bea61cd-e327-44e2-87c5-9e00b5c39dd2",
   "metadata": {},
   "outputs": [],
   "source": [
    "          BOS\n",
    "           |\n",
    "           v\n",
    "          ORD\n",
    "           |\n",
    "           v\n",
    "          DFW\n",
    "           |\n",
    "           v\n",
    "          MIA\n",
    "           |\n",
    "           v\n",
    "          LAX\n",
    "           |\n",
    "           v\n",
    "          SFO\n",
    "           |\n",
    "           v\n",
    "          JFK\n"
   ]
  },
  {
   "cell_type": "code",
   "execution_count": null,
   "id": "e734828a-c631-49aa-8352-63f3c4720e77",
   "metadata": {},
   "outputs": [],
   "source": [
    " R-14.14 A simpleundirected graph iscomplete ifit contains an edge between every\n",
    " pair of distinct vertices. What does a depth-first search tree of a complete\n",
    " graph look like?\n",
    " "
   ]
  },
  {
   "cell_type": "code",
   "execution_count": null,
   "id": "d9d9e176-3c22-43e6-a3b1-cb883853a011",
   "metadata": {},
   "outputs": [],
   "source": [
    "v1\n",
    " |\n",
    " v2\n",
    " |\n",
    " v3\n",
    " |\n",
    " ...\n",
    " |\n",
    " vn\n"
   ]
  },
  {
   "cell_type": "code",
   "execution_count": null,
   "id": "8e68fe5c-a975-4758-9840-d7f409ec57f4",
   "metadata": {},
   "outputs": [],
   "source": [
    "R-14.15 Recalling the definition of a complete graph from Exercise R-14.14, what\n",
    " does a breadth-first search tree of a complete graph look like?\n"
   ]
  },
  {
   "cell_type": "code",
   "execution_count": null,
   "id": "398cbe1d-fc2e-460d-b680-f59a60125ea1",
   "metadata": {},
   "outputs": [],
   "source": []
  },
  {
   "cell_type": "code",
   "execution_count": null,
   "id": "7904f092-10d2-4138-9186-1316a2d50339",
   "metadata": {},
   "outputs": [],
   "source": [
    " R-14.16 Let G be an undirected graph whose vertices are the integers 1 through 8,\n",
    " and let the adjacent vertices of each vertex be given by the table below:\n",
    " vertex adjacent vertices\n",
    " 1\n",
    " 2\n",
    " 3\n",
    " 4\n",
    " 5\n",
    " 6\n",
    " 7\n",
    " 8\n",
    " (2, 3, 4)\n",
    " (1, 3, 4)\n",
    " (1, 2, 4)\n",
    " (1, 2, 3, 6)\n",
    " (6, 7, 8)\n",
    " (4, 5, 7)\n",
    " (5, 6, 8)\n",
    " (5, 7)\n",
    " Assume that, in a traversal of G, the adjacent vertices of a given vertex are\n",
    " returned in the same order as they are listed in the table above.\n",
    " a. Draw G.\n",
    " b. Give the sequence of vertices of G visited using a DFS traversal\n",
    " starting at vertex 1.\n",
    " c. Give the sequence of vertices visited using a BFS traversal starting\n",
    " at vertex 1.\n",
    " "
   ]
  },
  {
   "cell_type": "markdown",
   "id": "fd03569b-e090-4710-85b9-dbf57114ce53",
   "metadata": {},
   "source": [
    "| Part             | Result                                                              |\n",
    "| ---------------- | ------------------------------------------------------------------- |\n",
    "| (a)              | Graph: Clique {1,2,3,4}, Clique {5,6,7,8}, connected by edge (4,6). |\n",
    "| (b) DFS (from 1) | **1 → 2 → 3 → 4 → 6 → 5 → 7 → 8**                                   |\n",
    "| (c) BFS (from 1) | **1 → 2 → 3 → 4 → 6 → 5 → 7 → 8**                                   |\n"
   ]
  },
  {
   "cell_type": "code",
   "execution_count": null,
   "id": "a05ab21b-9cc5-44fd-a242-0e65c39508a2",
   "metadata": {},
   "outputs": [],
   "source": [
    "R-14.17 Draw the transitive closure of the directed graph shown in Figure 14.2.\n",
    " "
   ]
  },
  {
   "cell_type": "code",
   "execution_count": null,
   "id": "f69f1aa3-bf70-4abb-b44c-2620f70b19e4",
   "metadata": {},
   "outputs": [],
   "source": [
    "Vertices: {ORD, DFW, LAX, JFK, BOS, MIA, SFO}\n",
    "\n",
    "ORD → {ORD, DFW, LAX, JFK, BOS, MIA, SFO}\n",
    "DFW → {ORD, DFW, LAX, JFK, BOS, MIA, SFO}\n",
    "LAX → {ORD, DFW, LAX, JFK, BOS, MIA, SFO}\n",
    "JFK → {ORD, DFW, LAX, JFK, BOS, MIA, SFO}\n",
    "MIA → {ORD, DFW, LAX, JFK, BOS, MIA, SFO}\n",
    "BOS → {ORD, DFW, LAX, JFK, BOS, MIA, SFO}\n",
    "SFO → {SFO}\n"
   ]
  },
  {
   "cell_type": "code",
   "execution_count": null,
   "id": "600779b2-1a8b-4b68-a9e3-7b169bf6e5f6",
   "metadata": {},
   "outputs": [],
   "source": [
    "R-14.18 If the vertices of the graph from Figure 14.11 are numbered as (v1 = JFK,\n",
    " v2 =LAX, v3 =MIA, v4 =BOS, v5 =ORD, v6 =SFO, v7 =DFW), in\n",
    " what order would edges be added to the transitive closure during the\n",
    " Floyd-Warshall algorithm?\n"
   ]
  },
  {
   "cell_type": "code",
   "execution_count": null,
   "id": "8c4d8cb8-f91f-4927-a1eb-927353fe11e9",
   "metadata": {},
   "outputs": [],
   "source": [
    "MIA→ORD, BOS→MIA, MIA→SFO, DFW→BOS, ORD→MIA, SFO→JFK, DFW→ORD, SFO→ORD, LAX→ORD, MIA→BOS"
   ]
  },
  {
   "cell_type": "code",
   "execution_count": null,
   "id": "c324cd73-6dd1-49ef-8948-c2dd95f3366b",
   "metadata": {},
   "outputs": [],
   "source": [
    " R-14.19 How many edges are in the transitive closure of a graph that consists of a\n",
    " simple directed path of n vertices?\n"
   ]
  },
  {
   "cell_type": "code",
   "execution_count": null,
   "id": "cf9b5826-f0c2-44ee-8726-43119555cefc",
   "metadata": {},
   "outputs": [],
   "source": [
    "n(n-1)/2"
   ]
  },
  {
   "cell_type": "code",
   "execution_count": null,
   "id": "6ec0649c-03e1-485f-8e23-625270326490",
   "metadata": {},
   "outputs": [],
   "source": [
    " R-14.20 Given an n-node complete binary tree T, rooted at a given position, con\n",
    "sider a directed graph G having the nodes of T as its vertices. For each\n",
    " parent-child pair in T, create a directed edge in G from the parent to the\n",
    " child. Show that the transitive closure of G has O(nlogn) edges.\n",
    "\n"
   ]
  },
  {
   "cell_type": "code",
   "execution_count": null,
   "id": "201c1b0f-7b2f-4af0-9be5-aa90dd0ae2c8",
   "metadata": {},
   "outputs": [],
   "source": [
    "The transitive closure of $G$ has **$O(n \\log n)$ edges**, since each level contributes at most $O(n)$ ancestor–descendant edges across $O(\\log n)$ levels."
   ]
  },
  {
   "cell_type": "code",
   "execution_count": null,
   "id": "c8c39549-5d29-4c55-bfc3-5fccfaa7356c",
   "metadata": {},
   "outputs": [],
   "source": []
  },
  {
   "cell_type": "code",
   "execution_count": null,
   "id": "dddfa60b-065d-457b-8358-c22681039aa0",
   "metadata": {},
   "outputs": [],
   "source": []
  },
  {
   "cell_type": "code",
   "execution_count": null,
   "id": "1dcbf848-2a18-42ca-b09e-abc58faaf3f6",
   "metadata": {},
   "outputs": [],
   "source": []
  }
 ],
 "metadata": {
  "kernelspec": {
   "display_name": "Python [conda env:base] *",
   "language": "python",
   "name": "conda-base-py"
  },
  "language_info": {
   "codemirror_mode": {
    "name": "ipython",
    "version": 3
   },
   "file_extension": ".py",
   "mimetype": "text/x-python",
   "name": "python",
   "nbconvert_exporter": "python",
   "pygments_lexer": "ipython3",
   "version": "3.12.4"
  }
 },
 "nbformat": 4,
 "nbformat_minor": 5
}
