{
 "cells": [
  {
   "cell_type": "markdown",
   "id": "6abefe71-7fa1-480a-8e65-4a9210bc2a21",
   "metadata": {},
   "source": [
    "# Data Structures & Algorithms Chapter 4 Recursion\n",
    "## Donovan Manogue"
   ]
  },
  {
   "cell_type": "markdown",
   "id": "ddddd1fd-fc56-4149-8713-3c8f63bcb513",
   "metadata": {},
   "source": [
    "### Reinforcement Exercises R4.1-4.8"
   ]
  },
  {
   "cell_type": "markdown",
   "id": "95b561ad-4e4a-4e7e-bd24-9875b21cfe27",
   "metadata": {},
   "source": [
    "### Code Fragments from this chapter!"
   ]
  },
  {
   "cell_type": "code",
   "execution_count": null,
   "id": "e4a0de37-782e-4f2f-98a4-cad0d32d765a",
   "metadata": {},
   "outputs": [],
   "source": [
    "A Recursive Implementation of the Factorial Function code fragment 4.1"
   ]
  },
  {
   "cell_type": "code",
   "execution_count": null,
   "id": "45549fbf-68a2-45b4-9ad1-481ba01320b9",
   "metadata": {},
   "outputs": [],
   "source": [
    "def factorial(n):\n",
    "    \"\"\"\n",
    "    Recursively computes the factorial of n.\n",
    "    Base case: factorial(0) = 1\n",
    "    Recursive case: factorial(n) = n * factorial(n-1)\n",
    "    \"\"\"\n",
    "    if n == 0:\n",
    "        return 1\n",
    "    else:\n",
    "        return n * factorial(n - 1)\n"
   ]
  },
  {
   "cell_type": "code",
   "execution_count": null,
   "id": "65b39636-bab5-44dd-835e-c2aa139967d5",
   "metadata": {},
   "outputs": [],
   "source": [
    "CodeFragment4.2:A recursiv eimplementation of  afunction that draws a ruler."
   ]
  },
  {
   "cell_type": "code",
   "execution_count": null,
   "id": "a0c61ca6-d4d8-48eb-a7d3-06d782df010a",
   "metadata": {},
   "outputs": [],
   "source": [
    "def draw_line(tick_length, tick_label=''):\n",
    "    \"\"\"Draw one line with given tick length, followed by optional label.\"\"\"\n",
    "    line = '-' * tick_length\n",
    "    if tick_label:\n",
    "        line += ' ' + tick_label\n",
    "    print(line)\n",
    "\n",
    "def draw_interval(center_length):\n",
    "    \"\"\"Draw tick interval based upon a central tick length.\"\"\"\n",
    "    if center_length > 0:\n",
    "        draw_interval(center_length - 1)  # recursively draw top ticks\n",
    "        draw_line(center_length)          # draw center tick\n",
    "        draw_interval(center_length - 1)  # recursively draw bottom ticks\n",
    "\n",
    "def draw_ruler(num_inches, major_length):\n",
    "    \"\"\"Draw English ruler with given number of inches and major tick length.\"\"\"\n",
    "    draw_line(major_length, '0')  # draw inch 0 line\n",
    "    for j in range(1, num_inches + 1):\n",
    "        draw_interval(major_length - 1)  # draw interior ticks\n",
    "        draw_line(major_length, str(j))  # draw inch j line and label\n"
   ]
  },
  {
   "cell_type": "code",
   "execution_count": null,
   "id": "24a95416-81fc-4159-adc0-996b668b3b49",
   "metadata": {},
   "outputs": [],
   "source": [
    "CodeFragment4.3 binary search"
   ]
  },
  {
   "cell_type": "code",
   "execution_count": null,
   "id": "f1c45847-0929-40e6-88a8-8733ed934b19",
   "metadata": {},
   "outputs": [],
   "source": [
    "def binary_search(data, target, low, high):\n",
    "    \"\"\"Return True if target is found in the indicated portion of a Python list.\n",
    "\n",
    "    The search only considers the portion from data[low] to data[high] inclusive.\n",
    "    \"\"\"\n",
    "    if low > high:\n",
    "        return False  # interval is empty; no match\n",
    "    else:\n",
    "        mid = (low + high) // 2\n",
    "        if target == data[mid]:  # found a match\n",
    "            return True\n",
    "        elif target < data[mid]:\n",
    "            # recur on the portion left of the middle\n",
    "            return binary_search(data, target, low, mid - 1)\n",
    "        else:\n",
    "            # recur on the portion right of the middle\n",
    "            return binary_search(data, target, mid + 1, high)\n"
   ]
  },
  {
   "cell_type": "code",
   "execution_count": null,
   "id": "334b9460-b0b4-4661-a093-3aa04e688c4a",
   "metadata": {},
   "outputs": [],
   "source": [
    "PSUEDO CODE FOR DISK SPACE Code Fragmenet 4.4"
   ]
  },
  {
   "cell_type": "code",
   "execution_count": null,
   "id": "260c20aa-b2e2-4ab1-ab3d-f0aee436a253",
   "metadata": {},
   "outputs": [],
   "source": [
    "import os\n",
    "\n",
    "def disk_usage(path):\n",
    "    \"\"\"Return the cumulative disk space used by the file/folder at `path`.\"\"\"\n",
    "    total = os.path.getsize(path)  # immediate disk space used by the entry\n",
    "    if os.path.isdir(path):        # if path is a directory\n",
    "        for filename in os.listdir(path):\n",
    "            child_path = os.path.join(path, filename)\n",
    "            total += disk_usage(child_path)  # recursive call\n",
    "    return total\n"
   ]
  },
  {
   "cell_type": "code",
   "execution_count": null,
   "id": "01a35e97-2307-4ee5-96ed-1ca40457004f",
   "metadata": {},
   "outputs": [],
   "source": [
    "Code Fragment 4.5: A recursive function for reporting disk usage of a filesystem"
   ]
  },
  {
   "cell_type": "code",
   "execution_count": null,
   "id": "5b995255-8e6b-4227-a54b-d87831a6d062",
   "metadata": {},
   "outputs": [],
   "source": [
    "# Code Fragment 4.5: A recursive function for reporting disk usage of a filesystem.\n",
    "\n",
    "import os\n",
    "\n",
    "def disk_usage(path):\n",
    "    \"\"\"Return the number of bytes used by a file/folder and any descendants.\"\"\"\n",
    "    total = os.path.getsize(path)  # account for direct usage\n",
    "    if os.path.isdir(path):        # if this is a directory,\n",
    "        for filename in os.listdir(path):  # then for each child:\n",
    "            child_path = os.path.join(path, filename)  # compose full path to child\n",
    "            total += disk_usage(child_path)  # add child’s usage to total\n",
    "\n",
    "    print('{0:<7} {1}'.format(total, path))  # descriptive output (optional)\n",
    "    return total  # return the grand total\n"
   ]
  },
  {
   "cell_type": "code",
   "execution_count": null,
   "id": "7ba94aac-6b6f-4bcc-981c-77fc1e4b86e0",
   "metadata": {},
   "outputs": [],
   "source": [
    "Code Fragment 4.6: Recursive unique3 for testing element uniqueness."
   ]
  },
  {
   "cell_type": "code",
   "execution_count": null,
   "id": "e1055710-8f7d-44f3-9c0a-3b76918db504",
   "metadata": {},
   "outputs": [],
   "source": [
    "# Code Fragment 4.6: Recursive unique3 for testing element uniqueness.\n",
    "\n",
    "def unique3(S, start, stop):\n",
    "    \"\"\"Return True if there are no duplicate elements in slice S[start:stop].\"\"\"\n",
    "    if stop - start <= 1:\n",
    "        return True  # at most one item\n",
    "    elif not unique3(S, start, stop - 1):\n",
    "        return False  # first part has duplicate\n",
    "    elif not unique3(S, start + 1, stop):\n",
    "        return False  # second part has duplicate\n",
    "    else:\n",
    "        return S[start] != S[stop - 1]  # do first and last differ?\n"
   ]
  },
  {
   "cell_type": "code",
   "execution_count": null,
   "id": "29d00aa0-ca2c-4b1d-a313-371ba2d21f63",
   "metadata": {},
   "outputs": [],
   "source": [
    "Code Fragment 4.7: Computing the nth Fibonacci number using binary recursion."
   ]
  },
  {
   "cell_type": "code",
   "execution_count": null,
   "id": "cde989b0-4e94-42dc-911e-a9ec455e1ecd",
   "metadata": {},
   "outputs": [],
   "source": [
    "# Code Fragment 4.7: Computing the nth Fibonacci number using binary recursion.\n",
    "\n",
    "def bad_fibonacci(n):\n",
    "    \"\"\"Return the nth Fibonacci number.\"\"\"\n",
    "    if n <= 1:\n",
    "        return n\n",
    "    else:\n",
    "        return bad_fibonacci(n - 2) + bad_fibonacci(n - 1)\n"
   ]
  },
  {
   "cell_type": "code",
   "execution_count": null,
   "id": "70c6846f-704a-4252-b3ec-fefa3782f89b",
   "metadata": {},
   "outputs": [],
   "source": [
    "Code Fragment 4.8: Computing the nth Fibonacci number using linear recursion."
   ]
  },
  {
   "cell_type": "code",
   "execution_count": null,
   "id": "776000bf-d37f-4afc-b5c4-6b75f3e21026",
   "metadata": {},
   "outputs": [],
   "source": [
    "# Code Fragment 4.8: Computing the nth Fibonacci number using linear recursion.\n",
    "\n",
    "def good_fibonacci(n):\n",
    "    \"\"\"Return pair of Fibonacci numbers, F(n) and F(n−1).\"\"\"\n",
    "    if n <= 1:\n",
    "        return (n, 0)\n",
    "    else:\n",
    "        a, b = good_fibonacci(n - 1)\n",
    "        return (a + b, a)\n"
   ]
  },
  {
   "cell_type": "code",
   "execution_count": null,
   "id": "7887b8a5-6472-4a3e-a819-4706d7ca104d",
   "metadata": {},
   "outputs": [],
   "source": [
    "Code Fragment 4.9: Summing the elements of a sequence using linear recursion."
   ]
  },
  {
   "cell_type": "code",
   "execution_count": null,
   "id": "b1230be0-2332-4dee-8a42-2ba64278fb55",
   "metadata": {},
   "outputs": [],
   "source": [
    "# Code Fragment 4.9: Summing the elements of a sequence using linear recursion.\n",
    "\n",
    "def linear_sum(S, n):\n",
    "    \"\"\"Return the sum of the first n numbers of sequence S.\"\"\"\n",
    "    if n == 0:\n",
    "        return 0\n",
    "    else:\n",
    "        return linear_sum(S, n - 1) + S[n - 1]\n"
   ]
  },
  {
   "cell_type": "code",
   "execution_count": null,
   "id": "554c9393-d77f-4598-8544-7dffe6416f5a",
   "metadata": {},
   "outputs": [],
   "source": [
    "Code Fragment 4.10: Reversing the elements of a sequence using linear recursion."
   ]
  },
  {
   "cell_type": "code",
   "execution_count": null,
   "id": "fbba8df8-e525-4931-bb16-f93d59d3bf02",
   "metadata": {},
   "outputs": [],
   "source": [
    "# Code Fragment 4.10: Reversing the elements of a sequence using linear recursion.\n",
    "\n",
    "def reverse(S, start, stop):\n",
    "    \"\"\"Reverse elements in implicit slice S[start:stop].\"\"\"\n",
    "    if start < stop - 1:  # if at least 2 elements\n",
    "        S[start], S[stop - 1] = S[stop - 1], S[start]  # swap first and last\n",
    "        reverse(S, start + 1, stop - 1)  # recur on rest\n"
   ]
  },
  {
   "cell_type": "code",
   "execution_count": null,
   "id": "3f86fd80-912c-4193-823d-88100dece435",
   "metadata": {},
   "outputs": [],
   "source": [
    "Code Fragment 4.11: Computing the power function using trivial recursion."
   ]
  },
  {
   "cell_type": "code",
   "execution_count": null,
   "id": "bdffd814-4b5c-42b4-b8bb-bb46a86063cb",
   "metadata": {},
   "outputs": [],
   "source": [
    "# Code Fragment 4.11: Computing the power function using trivial recursion.\n",
    "\n",
    "def power(x, n):\n",
    "    \"\"\"Compute the value x^n for integer n.\"\"\"\n",
    "    if n == 0:\n",
    "        return 1\n",
    "    else:\n",
    "        return x * power(x, n - 1)\n"
   ]
  },
  {
   "cell_type": "code",
   "execution_count": null,
   "id": "69cc1a24-cbe1-4b87-a51b-617798d5d989",
   "metadata": {},
   "outputs": [],
   "source": [
    "Code Fragment 4.12: Computing the power function using repeated squaring."
   ]
  },
  {
   "cell_type": "code",
   "execution_count": null,
   "id": "1ce1cf2a-ad63-4717-b6cc-8d959beeaece",
   "metadata": {},
   "outputs": [],
   "source": [
    "# Code Fragment 4.12: Computing the power function using repeated squaring.\n",
    "\n",
    "def power(x, n):\n",
    "    \"\"\"Compute the value x^n for integer n using repeated squaring.\"\"\"\n",
    "    if n == 0:\n",
    "        return 1\n",
    "    else:\n",
    "        partial = power(x, n // 2)  # rely on truncated division\n",
    "        result = partial * partial\n",
    "        if n % 2 == 1:  # if n is odd, include extra factor of x\n",
    "            result *= x\n",
    "        return result\n"
   ]
  },
  {
   "cell_type": "code",
   "execution_count": null,
   "id": "2df6ccf2-3c59-4256-89c2-65b325636779",
   "metadata": {},
   "outputs": [],
   "source": [
    "Code Fragment 4.13: Summing the elements of a sequence using binary recursion."
   ]
  },
  {
   "cell_type": "code",
   "execution_count": null,
   "id": "79035a09-35d1-43b4-ab22-32dcda1471cb",
   "metadata": {},
   "outputs": [],
   "source": [
    "# Code Fragment 4.13: Summing the elements of a sequence using binary recursion.\n",
    "\n",
    "def binary_sum(S, start, stop):\n",
    "    \"\"\"Return the sum of the numbers in implicit slice S[start:stop].\"\"\"\n",
    "    if start >= stop:\n",
    "        return 0  # zero elements in slice\n",
    "    elif start == stop - 1:\n",
    "        return S[start]  # one element in slice\n",
    "    else:\n",
    "        mid = (start + stop) // 2\n",
    "        return binary_sum(S, start, mid) + binary_sum(S, mid, stop)  # two or more elements in slice\n"
   ]
  },
  {
   "cell_type": "code",
   "execution_count": null,
   "id": "40f882e2-1c9f-4631-9d3e-46154b88a90e",
   "metadata": {},
   "outputs": [],
   "source": [
    "Code Fragment 4.14: Solving a combinatorial puzzle by enumerating and testing all possible configurations."
   ]
  },
  {
   "cell_type": "code",
   "execution_count": null,
   "id": "a6ddaff7-81cc-4220-9d0b-74558cc3ed42",
   "metadata": {},
   "outputs": [],
   "source": [
    "# Code Fragment 4.14: Solving a combinatorial puzzle by enumerating and testing all possible configurations.\n",
    "\n",
    "def PuzzleSolve(k, S, U):\n",
    "    \"\"\"\n",
    "    Input: An integer k, sequence S, and set U\n",
    "    Output: An enumeration of all k-length extensions to S using elements in U without repetitions\n",
    "    \"\"\"\n",
    "    for e in list(U):  # create a static copy since we're modifying U\n",
    "        S.append(e)         # Add e to the end of S\n",
    "        U.remove(e)         # Remove e from U (e is now being used)\n",
    "\n",
    "        if k == 1:\n",
    "            # Test whether S is a configuration that solves the puzzle\n",
    "            if is_solution(S):  # you can define `is_solution` based on your puzzle\n",
    "                print(\"Solution found:\", S)\n",
    "        else:\n",
    "            PuzzleSolve(k - 1, S, U)  # Recursive call\n",
    "\n",
    "        S.pop()               # Remove e from the end of S (backtrack)\n",
    "        U.add(e)              # Add e back to U (e is now considered unused)\n"
   ]
  },
  {
   "cell_type": "code",
   "execution_count": null,
   "id": "ac0988ac-446e-412f-88a6-7b25ba92fdce",
   "metadata": {},
   "outputs": [],
   "source": [
    "Code Fragment 4.15: A nonrecursive implementation of binary search."
   ]
  },
  {
   "cell_type": "code",
   "execution_count": null,
   "id": "ddecabd4-1759-4b97-b1c9-3d169d5f6b69",
   "metadata": {},
   "outputs": [],
   "source": [
    "# Code Fragment 4.15: A nonrecursive implementation of binary search.\n",
    "\n",
    "def binary_search_iterative(data, target):\n",
    "    \"\"\"Return True if target is found in the given Python list.\"\"\"\n",
    "    low = 0\n",
    "    high = len(data) - 1\n",
    "\n",
    "    while low <= high:\n",
    "        mid = (low + high) // 2\n",
    "        if target == data[mid]:\n",
    "            return True  # found a match\n",
    "        elif target < data[mid]:\n",
    "            high = mid - 1  # only consider values left of mid\n",
    "        else:\n",
    "            low = mid + 1  # only consider values right of mid\n",
    "\n",
    "    return False  # loop ended without success\n"
   ]
  },
  {
   "cell_type": "code",
   "execution_count": null,
   "id": "6d57c7c7-bf8a-46aa-a8cd-60e6174dfb5e",
   "metadata": {},
   "outputs": [],
   "source": [
    "Code Fragment 4.16: Reversing the elements of a sequence using iteration."
   ]
  },
  {
   "cell_type": "code",
   "execution_count": null,
   "id": "656efed9-858e-4966-9b1e-f231ecb30517",
   "metadata": {},
   "outputs": [],
   "source": [
    "# Code Fragment 4.16: Reversing the elements of a sequence using iteration.\n",
    "\n",
    "def reverse_iterative(S):\n",
    "    \"\"\"Reverse elements in sequence S.\"\"\"\n",
    "    start, stop = 0, len(S)\n",
    "    while start < stop - 1:\n",
    "        S[start], S[stop - 1] = S[stop - 1], S[start]  # swap first and last\n",
    "        start, stop = start + 1, stop - 1              # narrow the range\n"
   ]
  },
  {
   "cell_type": "code",
   "execution_count": null,
   "id": "ebaef23e-d13c-4061-b763-4987a25b941a",
   "metadata": {},
   "outputs": [],
   "source": []
  },
  {
   "cell_type": "code",
   "execution_count": null,
   "id": "430539f9-4342-4592-be44-2aaaa841b378",
   "metadata": {},
   "outputs": [],
   "source": []
  },
  {
   "cell_type": "markdown",
   "id": "f4d6d10f-fe03-43eb-b221-fe1b3e8028f9",
   "metadata": {},
   "source": [
    "R-4.1 Describe a recursive algorithm for finding the maximum element in a se\n",
    "quence, S,of n elements. What is your running time and space usage?"
   ]
  },
  {
   "cell_type": "markdown",
   "id": "65faa2bb-2b8b-40aa-bbe0-7553cf94f370",
   "metadata": {},
   "source": [
    "An algorithm used for finding a maximum elment in a sequence for example [1,2,3,4,5]. Would check to see the length of the list, and if the list size was 1, to return the S[0]. However if the list was longer, it would be an if else statement where it looks to find the max element. It would check every element once, and slcie through the list and comapre the best S[0] to each other to find the best so far.\n",
    "\n",
    "it is a time and space complexity of O(n) as it is check each elemetn once and is n calls deep"
   ]
  },
  {
   "cell_type": "markdown",
   "id": "a57c847f-f836-4884-bad9-d8357c48e2f0",
   "metadata": {},
   "source": [
    "R-4.2 Draw the recursion trace for the computation of power(2,5), usingthe\n",
    " traditional function implemented in Code Fragment 4.11.\n"
   ]
  },
  {
   "cell_type": "code",
   "execution_count": null,
   "id": "2078997c-3443-49d8-90b6-2f5edbc231d0",
   "metadata": {},
   "outputs": [],
   "source": [
    "See PNG attatched"
   ]
  },
  {
   "cell_type": "code",
   "execution_count": 39,
   "id": "87000b5e-36bd-4da2-995e-f66fc7ecd2b0",
   "metadata": {},
   "outputs": [],
   "source": [
    "# Code Fragment 4.11: Computing the power function using trivial recursion.\n",
    "\n",
    "def power(x, n):\n",
    "    \"\"\"Compute the value x^n for integer n.\"\"\"\n",
    "    if n == 0:\n",
    "        return 1\n",
    "    else:\n",
    "        return x * power(x, n - 1)\n"
   ]
  },
  {
   "cell_type": "markdown",
   "id": "38b2d1fc-fbb9-4529-b60a-d6375e7fd9fc",
   "metadata": {},
   "source": [
    " R-4.3 Draw the recursion trace for the computation of power(2,18),usingthe\n",
    " repeated squaring algorithm, as implemented in Code Fragment 4.12.\n"
   ]
  },
  {
   "cell_type": "code",
   "execution_count": null,
   "id": "a8bf9fca-37cb-4894-8a9e-4b6a04d9d940",
   "metadata": {},
   "outputs": [],
   "source": [
    "see png attached "
   ]
  },
  {
   "cell_type": "code",
   "execution_count": 41,
   "id": "8bc383c7-2d1c-49ab-9564-caca65b0de86",
   "metadata": {},
   "outputs": [],
   "source": [
    "def power(x, n):\n",
    "    \"\"\"Compute the value x^n for integer n using repeated squaring.\"\"\"\n",
    "    if n == 0:\n",
    "        return 1\n",
    "    else:\n",
    "        partial = power(x, n // 2)  # rely on truncated division\n",
    "        result = partial * partial\n",
    "        if n % 2 == 1:  # if n is odd, include extra factor of x\n",
    "            result *= x\n",
    "        return result\n"
   ]
  },
  {
   "cell_type": "markdown",
   "id": "c6c50594-a345-4033-9de4-874b6deb3a2b",
   "metadata": {},
   "source": [
    " R-4.4 Draw the recursion trace for the execution of function reverse(S, 0, 5)\n",
    " (Code Fragment 4.10) on S=[4,3,6,2,6].\n"
   ]
  },
  {
   "cell_type": "code",
   "execution_count": null,
   "id": "a52df6b4-4d76-4414-bba6-95bfd0c14205",
   "metadata": {},
   "outputs": [],
   "source": [
    "see png attached "
   ]
  },
  {
   "cell_type": "code",
   "execution_count": 49,
   "id": "8dd982b5-4b70-417d-930f-402af021f6be",
   "metadata": {},
   "outputs": [],
   "source": [
    "# Code Fragment 4.10: Reversing the elements of a sequence using linear recursion.\n",
    "\n",
    "def reverse(S, start, stop):\n",
    "    \"\"\"Reverse elements in implicit slice S[start:stop].\"\"\"\n",
    "    if start < stop - 1:  # if at least 2 elements\n",
    "        S[start], S[stop - 1] = S[stop - 1], S[start]  # swap first and last\n",
    "        reverse(S, start + 1, stop - 1)  # recur on rest\n"
   ]
  },
  {
   "cell_type": "code",
   "execution_count": 61,
   "id": "6a4dd7db-9961-4ec1-9f27-5499c76ee563",
   "metadata": {},
   "outputs": [
    {
     "data": {
      "text/plain": [
       "[6, 2, 6, 3, 4]"
      ]
     },
     "execution_count": 61,
     "metadata": {},
     "output_type": "execute_result"
    }
   ],
   "source": [
    " S=[4,3,6,2,6]\n",
    "reverse(S,0,5)\n",
    "S"
   ]
  },
  {
   "cell_type": "markdown",
   "id": "2166825a-8d98-47c5-85f7-8e29a9740e45",
   "metadata": {},
   "source": [
    " R-4.5 Drawtherecursion trace for the execution of function PuzzleSolve(3,S,U)\n",
    " (Code Fragment 4.14), where S is empty and U = {a,b,c,d}.\n"
   ]
  },
  {
   "cell_type": "code",
   "execution_count": null,
   "id": "f5dd2f03-39c6-4366-a11d-2fe66a3ca827",
   "metadata": {},
   "outputs": [],
   "source": [
    "PuzzleSolve(3, [], {a,b,c,d})\n",
    "├── Add 'a' → S = ['a'], U = {b,c,d}\n",
    "│   └── PuzzleSolve(2, ['a'], {b,c,d})\n",
    "│       ├── Add 'b' → S = ['a','b'], U = {c,d}\n",
    "│       │   └── PuzzleSolve(1, ['a','b'], {c,d})\n",
    "│       │       ├── Add 'c' → ['a','b','c'] → Solution\n",
    "│       │       └── Add 'd' → ['a','b','d'] → Solution\n",
    "│       ├── Add 'c' → S = ['a','c'], U = {b,d}\n",
    "│       │   └── PuzzleSolve(1, ['a','c'], {b,d})\n",
    "│       │       ├── Add 'b' → ['a','c','b'] → Solution\n",
    "│       │       └── Add 'd' → ['a','c','d'] → Solution\n",
    "│       └── Add 'd' → S = ['a','d'], U = {b,c}\n",
    "│           └── PuzzleSolve(1, ['a','d'], {b,c})\n",
    "│               ├── Add 'b' → ['a','d','b'] → Solution\n",
    "│               └── Add 'c' → ['a','d','c'] → Solution\n",
    "├── Add 'b' → S = ['b'], U = {a,c,d}\n",
    "│   └── PuzzleSolve(2, ['b'], {a,c,d})\n",
    "│       ├── Add 'a' → ['b','a'], U = {c,d}\n",
    "│       │   └── PuzzleSolve(1, ['b','a'], {c,d})\n",
    "│       │       ├── Add 'c' → ['b','a','c'] → Solution\n",
    "│       │       └── Add 'd' → ['b','a','d'] → Solution\n",
    "│       ├── Add 'c' → ['b','c'], U = {a,d}\n",
    "│       │   └── PuzzleSolve(1, ['b','c'], {a,d})\n",
    "│       │       ├── Add 'a' → ['b','c','a'] → Solution\n",
    "│       │       └── Add 'd' → ['b','c','d'] → Solution\n",
    "│       └── Add 'd' → ['b','d'], U = {a,c}\n",
    "│           └── PuzzleSolve(1, ['b','d'], {a,c})\n",
    "│               ├── Add 'a' → ['b','d','a'] → Solution\n",
    "│               └── Add 'c' → ['b','d','c'] → Solution\n",
    "├── Add 'c' → S = ['c'], U = {a,b,d}\n",
    "│   └── ... similar pattern ...\n",
    "├── Add 'd' → S = ['d'], U = {a,b,c}\n",
    "│   └── ... similar pattern ...\n"
   ]
  },
  {
   "cell_type": "code",
   "execution_count": 77,
   "id": "7287d3fb-fbd8-48fc-a7b6-91248efa43e8",
   "metadata": {},
   "outputs": [],
   "source": [
    "# Code Fragment 4.14: Solving a combinatorial puzzle by enumerating and testing all possible configurations.\n",
    "\n",
    "def PuzzleSolve(k, S, U):\n",
    "    \"\"\"\n",
    "    Input: An integer k, sequence S, and set U\n",
    "    Output: An enumeration of all k-length extensions to S using elements in U without repetitions\n",
    "    \"\"\"\n",
    "    for e in list(U):  # create a static copy since we're modifying U\n",
    "        S.append(e)         # Add e to the end of S\n",
    "        U.remove(e)         # Remove e from U (e is now being used)\n",
    "\n",
    "        if k == 1:\n",
    "            # Test whether S is a configuration that solves the puzzle\n",
    "            if is_solution(S):  # you can define `is_solution` based on your puzzle\n",
    "                print(\"Solution found:\", S)\n",
    "        else:\n",
    "            PuzzleSolve(k - 1, S, U)  # Recursive call\n",
    "\n",
    "        S.pop()               # Remove e from the end of S (backtrack)\n",
    "        U.add(e)              # Add e back to U (e is now considered unused)\n"
   ]
  },
  {
   "cell_type": "markdown",
   "id": "195b3149-8371-41f3-a760-1e247d3dfce4",
   "metadata": {},
   "source": [
    " R-4.6 Describe a recursive function for computing the nth Harmonic number,\n",
    " Hn =∑n\n",
    " i=11/i.\n",
    " "
   ]
  },
  {
   "cell_type": "code",
   "execution_count": 85,
   "id": "a354e534-01ad-4050-a512-d79e908411ec",
   "metadata": {},
   "outputs": [],
   "source": [
    "def harmonic_number(n):\r\n",
    "    \"\"\"Return the nth Harmonic number using recursion.\"\"\"\r\n",
    "    if n == 1:\r\n",
    "        return 1\r\n",
    "    else:\r\n",
    "        return 1/n + harmonic_number(n - 1)\r\n"
   ]
  },
  {
   "cell_type": "markdown",
   "id": "69231335-3813-4e5b-8074-6b8e65371677",
   "metadata": {},
   "source": [
    "R-4.7 Describe a recursive function for converting a string of digits into the in\n",
    "teger it represents. For example, 13531 represents the integer 13,531.\n"
   ]
  },
  {
   "cell_type": "code",
   "execution_count": 87,
   "id": "bb133b7d-e22e-41ee-9146-615f52938851",
   "metadata": {},
   "outputs": [],
   "source": [
    "def str_to_int(s):\n",
    "    \"\"\"Recursively convert a string of digits into an integer.\"\"\"\n",
    "    if len(s) == 1:\n",
    "        return int(s)\n",
    "    else:\n",
    "        return int(s[0]) * (10 ** (len(s) - 1)) + str_to_int(s[1:])\n"
   ]
  },
  {
   "cell_type": "code",
   "execution_count": 89,
   "id": "8963befc-6f25-4bd3-b640-01bc2c017285",
   "metadata": {},
   "outputs": [
    {
     "data": {
      "text/plain": [
       "13531"
      ]
     },
     "execution_count": 89,
     "metadata": {},
     "output_type": "execute_result"
    }
   ],
   "source": [
    "str_to_int(\"13531\")"
   ]
  },
  {
   "cell_type": "markdown",
   "id": "a76c80e7-f87c-41bd-878d-bb10ea7cdad7",
   "metadata": {},
   "source": [
    " R-4.8 Isabel has an interesting way of summing up the values in a sequence A of\n",
    " n integers, where n is a power of two. She creates a new sequence B of half\n",
    " the size of A and sets B[i]=A[2i]+A[2i+1],fori = 0,1,...,(n/2)−1. If\n",
    " B has size 1, then she outputs B[0]. Otherwise, she replaces A with B,and\n",
    " repeats the process. What is the running time of her algorithm?"
   ]
  },
  {
   "cell_type": "code",
   "execution_count": null,
   "id": "771d95d5-ed94-4368-920b-7627a57a2e14",
   "metadata": {},
   "outputs": [],
   "source": [
    "Running Time: O(n)\n",
    "\n",
    "Because we do a total of approximately n additions across all levels."
   ]
  },
  {
   "cell_type": "code",
   "execution_count": null,
   "id": "f1355db4-9595-46c8-a3fa-e20cf6627494",
   "metadata": {},
   "outputs": [],
   "source": []
  },
  {
   "cell_type": "code",
   "execution_count": null,
   "id": "7eea9f45-f2cb-4c39-9f4d-ac6342a9d886",
   "metadata": {},
   "outputs": [],
   "source": []
  },
  {
   "cell_type": "code",
   "execution_count": null,
   "id": "3b4c5363-6b79-4977-b5ff-18dc459157d7",
   "metadata": {},
   "outputs": [],
   "source": [
    "def recursive_max(S):\n",
    "    if len(S) == 1:\n",
    "        return S[0]  # Base case\n",
    "    else:\n",
    "        max_rest = recursive_max(S[1:])  # Recursive call on the rest of the list\n",
    "        return (\n",
    "            S[0] \n",
    "            if S[0] > max_rest \n",
    "            else max_rest\n",
    "        )\n"
   ]
  },
  {
   "cell_type": "code",
   "execution_count": null,
   "id": "6adc4644-a110-4c11-98f9-9f7c9d7a449b",
   "metadata": {},
   "outputs": [],
   "source": []
  },
  {
   "cell_type": "code",
   "execution_count": null,
   "id": "1744b0da-f84f-40e4-8582-07e5b1513b89",
   "metadata": {},
   "outputs": [],
   "source": []
  },
  {
   "cell_type": "code",
   "execution_count": null,
   "id": "e0d11922-7bcf-4c72-aeb0-a525aa75e54a",
   "metadata": {},
   "outputs": [],
   "source": []
  },
  {
   "cell_type": "code",
   "execution_count": null,
   "id": "87fcd863-2a42-41cd-aa24-1ff584bfef54",
   "metadata": {},
   "outputs": [],
   "source": []
  },
  {
   "cell_type": "code",
   "execution_count": null,
   "id": "56fa8caf-5e8c-4052-b778-c23a5f664c5a",
   "metadata": {},
   "outputs": [],
   "source": []
  },
  {
   "cell_type": "code",
   "execution_count": null,
   "id": "68927011-0caa-4e5b-947a-c8a33c416ccf",
   "metadata": {},
   "outputs": [],
   "source": []
  },
  {
   "cell_type": "code",
   "execution_count": null,
   "id": "158c490e-c763-49f2-8368-6cceb68ba965",
   "metadata": {},
   "outputs": [],
   "source": []
  },
  {
   "cell_type": "code",
   "execution_count": null,
   "id": "52ebf9b6-5e08-46b5-8766-d203e9117468",
   "metadata": {},
   "outputs": [],
   "source": []
  },
  {
   "cell_type": "code",
   "execution_count": null,
   "id": "98245e47-94c3-48e3-bb69-4c42c5a9c2b9",
   "metadata": {},
   "outputs": [],
   "source": []
  },
  {
   "cell_type": "code",
   "execution_count": null,
   "id": "153ede83-2aba-4aec-a146-91fab2238217",
   "metadata": {},
   "outputs": [],
   "source": []
  },
  {
   "cell_type": "code",
   "execution_count": null,
   "id": "d0e079f6-acd7-4113-a705-e5bd45d85ce3",
   "metadata": {},
   "outputs": [],
   "source": []
  },
  {
   "cell_type": "code",
   "execution_count": null,
   "id": "8f4beb29-b4df-460c-9304-250030a5cd98",
   "metadata": {},
   "outputs": [],
   "source": []
  },
  {
   "cell_type": "code",
   "execution_count": null,
   "id": "4018eec3-af9b-4589-958e-988420ef3e83",
   "metadata": {},
   "outputs": [],
   "source": []
  },
  {
   "cell_type": "code",
   "execution_count": null,
   "id": "838e223c-20de-4b69-b2dd-cbb8fbd4abf8",
   "metadata": {},
   "outputs": [],
   "source": []
  },
  {
   "cell_type": "code",
   "execution_count": null,
   "id": "4e37f0b8-cd86-477e-b8fa-099a1349b96a",
   "metadata": {},
   "outputs": [],
   "source": []
  },
  {
   "cell_type": "code",
   "execution_count": null,
   "id": "94179789-34e9-4d81-9696-46c0144c4442",
   "metadata": {},
   "outputs": [],
   "source": []
  },
  {
   "cell_type": "code",
   "execution_count": null,
   "id": "1950f2b7-2043-4b05-8ace-a40f095646b7",
   "metadata": {},
   "outputs": [],
   "source": []
  },
  {
   "cell_type": "code",
   "execution_count": null,
   "id": "42504e32-be44-438b-97a0-421fad0d3c43",
   "metadata": {},
   "outputs": [],
   "source": []
  },
  {
   "cell_type": "code",
   "execution_count": null,
   "id": "205f8263-c432-46a5-8cd7-1ec952979b89",
   "metadata": {},
   "outputs": [],
   "source": []
  },
  {
   "cell_type": "code",
   "execution_count": null,
   "id": "089d4aea-5020-4f57-a882-f36a084fe62f",
   "metadata": {},
   "outputs": [],
   "source": []
  },
  {
   "cell_type": "code",
   "execution_count": null,
   "id": "07a710be-6cbf-4022-b66b-27e4ec99c7ff",
   "metadata": {},
   "outputs": [],
   "source": []
  },
  {
   "cell_type": "code",
   "execution_count": null,
   "id": "f250c39b-d3e2-45ec-aa28-72eb55b81276",
   "metadata": {},
   "outputs": [],
   "source": []
  },
  {
   "cell_type": "code",
   "execution_count": null,
   "id": "27dbc39d-67ce-46c8-913c-c19d0aae00bc",
   "metadata": {},
   "outputs": [],
   "source": []
  },
  {
   "cell_type": "code",
   "execution_count": null,
   "id": "725dc198-a268-4e77-ac90-40c1178b179d",
   "metadata": {},
   "outputs": [],
   "source": []
  }
 ],
 "metadata": {
  "kernelspec": {
   "display_name": "Python 3 (ipykernel)",
   "language": "python",
   "name": "python3"
  },
  "language_info": {
   "codemirror_mode": {
    "name": "ipython",
    "version": 3
   },
   "file_extension": ".py",
   "mimetype": "text/x-python",
   "name": "python",
   "nbconvert_exporter": "python",
   "pygments_lexer": "ipython3",
   "version": "3.12.4"
  }
 },
 "nbformat": 4,
 "nbformat_minor": 5
}
