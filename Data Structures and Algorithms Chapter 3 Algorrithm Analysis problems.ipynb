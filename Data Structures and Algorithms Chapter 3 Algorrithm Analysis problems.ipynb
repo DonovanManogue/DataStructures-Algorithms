{
 "cells": [
  {
   "cell_type": "markdown",
   "id": "bb4e6192-9a3f-4502-8e49-7da639575d96",
   "metadata": {},
   "source": [
    "# Data Structures & Algorithms Chapter 2 Object Oriented Programming Exercises\n",
    "## Donovan Manogue"
   ]
  },
  {
   "cell_type": "markdown",
   "id": "877e10a6-e849-4690-89b5-b1a93de8efd0",
   "metadata": {},
   "source": [
    "### Reinforcement Exercises R3.1-3.34"
   ]
  },
  {
   "cell_type": "code",
   "execution_count": 3,
   "id": "45ab293e-7015-4a39-905a-d9790340312b",
   "metadata": {},
   "outputs": [],
   "source": [
    "### Section 3.1 Experimental Studies"
   ]
  },
  {
   "cell_type": "code",
   "execution_count": 4,
   "id": "92e3a472-a028-4331-9166-f19db5dfb0ec",
   "metadata": {},
   "outputs": [
    {
     "name": "stdout",
     "output_type": "stream",
     "text": [
      "Elapsed time: 0.0000 seconds\n"
     ]
    }
   ],
   "source": [
    "from time import time\n",
    "# Record the starting time\n",
    "start_time = time()\n",
    "# --- Run your algorithm here ---\n",
    "# Example:\n",
    "# result = some_algorithm()\n",
    "# Record the ending time\n",
    "end_time = time()\n",
    "# Compute the elapsed time\n",
    "elapsed = end_time - start_time\n",
    "\n",
    "print(f\"Elapsed time: {elapsed:.4f} seconds\")"
   ]
  },
  {
   "cell_type": "markdown",
   "id": "dbebe2cc-9c94-48d8-b4a9-1777dfedd358",
   "metadata": {},
   "source": [
    "## find_max function from Code Fragment 3.1:"
   ]
  },
  {
   "cell_type": "code",
   "execution_count": 6,
   "id": "fc7aa61b-a068-4565-84b1-bb8c869fda15",
   "metadata": {},
   "outputs": [
    {
     "name": "stdout",
     "output_type": "stream",
     "text": [
      "200\n"
     ]
    }
   ],
   "source": [
    "def find_max(data):\n",
    "    \"\"\"Return the maximum element from a nonempty Python list.\"\"\"\n",
    "    biggest = data[0]  # The initial value to beat\n",
    "    for val in data:\n",
    "        if val > biggest:  # If it is greater than the best so far,\n",
    "            biggest = val   # we have found a new best (so far)\n",
    "    return biggest  # When loop ends, biggest is the max\n",
    "\n",
    "max=[10,12,45,16,200,1,1,2,3]\n",
    "print(find_max(max))"
   ]
  },
  {
   "cell_type": "markdown",
   "id": "45f3f53c-0705-425d-a979-5d43e4dafffe",
   "metadata": {},
   "source": [
    "# A Quadratic-Time Algorithm\r\n",
    "\r\n",
    "Our first algorithm for computing prefix averages, named `prefix_average1`, is shown in Code Fragment 3.2.  \r\n",
    "It computes every element of `A` separately, using an inner loop to compute the partial sum.\r\n"
   ]
  },
  {
   "cell_type": "code",
   "execution_count": 8,
   "id": "4cedea90-1308-4323-82a0-7166f045596f",
   "metadata": {},
   "outputs": [],
   "source": [
    "def prefix_average1(S):\n",
    "    \"\"\"Return list such that, for all j, A[j] equals average of S[0], ..., S[j].\"\"\"\n",
    "    n = len(S)\n",
    "    A = [0] * n  # create new list of n zeros\n",
    "    for j in range(n):\n",
    "        total = 0  # begin computing S[0] + ... + S[j]\n",
    "        for i in range(j + 1):\n",
    "            total += S[i]\n",
    "        A[j] = total / (j + 1)  # record the average\n",
    "    return A\n"
   ]
  },
  {
   "cell_type": "markdown",
   "id": "3e66783a-f2ff-4752-a3c7-b89ddbe26baf",
   "metadata": {},
   "source": [
    "Code Fragment 3.3"
   ]
  },
  {
   "cell_type": "code",
   "execution_count": 10,
   "id": "4c7d053b-87ab-48cf-9861-cbd32f11afda",
   "metadata": {},
   "outputs": [],
   "source": [
    "def prefix_average2(S):\n",
    "    \"\"\"Return list such that, for all j, A[j] equals average of S[0], ..., S[j].\"\"\"\n",
    "    n = len(S)\n",
    "    A = [0] * n  # create new list of n zeros\n",
    "    for j in range(n):\n",
    "        A[j] = sum(S[0:j+1]) / (j + 1)  # record the average\n",
    "    return A\n"
   ]
  },
  {
   "cell_type": "markdown",
   "id": "8ebbee5d-bd2a-44e4-902e-ef6805aded6b",
   "metadata": {},
   "source": [
    "## A Linear-Time Algorithm\n",
    "|\n",
    "Our final algorithm, `prefix_averages3`, is given in Code Fragment 3.4.\n"
   ]
  },
  {
   "cell_type": "code",
   "execution_count": 12,
   "id": "ae23553c-66b5-4432-8aad-f6dc063452d3",
   "metadata": {},
   "outputs": [],
   "source": [
    "def prefix_average3(S):\n",
    "    \"\"\"Return list such that, for all j, A[j] equals average of S[0], ..., S[j].\"\"\"\n",
    "    n = len(S)\n",
    "    A = [0] * n  # create new list of n zeros\n",
    "    total = 0    # compute prefix sum as S[0] + S[1] + ...\n",
    "    for j in range(n):\n",
    "        total += S[j]  # update prefix sum to include S[j]\n",
    "        A[j] = total / (j + 1)  # compute average based on current sum\n",
    "    return A\n"
   ]
  },
  {
   "cell_type": "markdown",
   "id": "1e8a4896-76d3-4c54-8786-cea46cdde862",
   "metadata": {},
   "source": [
    "## Three-Way Set Disjointness\n",
    "code fragment 3.5."
   ]
  },
  {
   "cell_type": "code",
   "execution_count": 14,
   "id": "6d50e80c-35d4-4784-ad14-d95affff2c93",
   "metadata": {},
   "outputs": [],
   "source": [
    "def disjoint1(A, B, C):\n",
    "    \"\"\"Return True if there is no element common to all three lists.\"\"\"\n",
    "    for a in A:\n",
    "        for b in B:\n",
    "            for c in C:\n",
    "                if a == b == c:  # we found a common value\n",
    "                    return False\n",
    "    return True  # if we reach this, sets are disjoint\n"
   ]
  },
  {
   "cell_type": "markdown",
   "id": "979b1f2b-9dde-4f51-a9c9-3a375e7b53f0",
   "metadata": {},
   "source": [
    "3.6."
   ]
  },
  {
   "cell_type": "code",
   "execution_count": 16,
   "id": "a8b09e30-10b5-4264-85b3-e60c6c6a8370",
   "metadata": {},
   "outputs": [],
   "source": [
    "def disjoint2(A, B, C):\n",
    "    \"\"\"Return True if there is no element common to all three lists.\"\"\"\n",
    "    for a in A:\n",
    "        for b in B:\n",
    "            if a == b:\n",
    "                for c in C:\n",
    "                    if a == c:  # only check C if we found match from A and B (a == b == c)\n",
    "                        return False  # we found a common value\n",
    "    return True  # if we reach this, sets are disjoint\n"
   ]
  },
  {
   "cell_type": "markdown",
   "id": "c11ea6b2-0b6c-43ae-9a9b-ef33ef534fe2",
   "metadata": {},
   "source": [
    "## Element Uniqueness\n",
    "Code Fragment 3.7."
   ]
  },
  {
   "cell_type": "code",
   "execution_count": 18,
   "id": "d98c6698-c074-4d19-b9b1-f1d73a646486",
   "metadata": {},
   "outputs": [],
   "source": [
    "def unique1(S):\n",
    "    \"\"\"Return True if there are no duplicate elements in sequence S.\"\"\"\n",
    "    for j in range(len(S)):\n",
    "        for k in range(j + 1, len(S)):\n",
    "            if S[j] == S[k]:\n",
    "                return False  # found duplicate pair\n",
    "    return True  # if we reach this, elements were unique\n"
   ]
  },
  {
   "cell_type": "markdown",
   "id": "ccbcb529-94f1-4611-b4e5-27e483457d9b",
   "metadata": {},
   "source": [
    "## Using Sorting as a Problem-Solving Tool\n",
    "3.8."
   ]
  },
  {
   "cell_type": "code",
   "execution_count": 20,
   "id": "2e042790-9aa8-465a-838d-f8a75d8b0f0b",
   "metadata": {},
   "outputs": [],
   "source": [
    "def unique2(S):\n",
    "    \"\"\"Return True if there are no duplicate elements in sequence S.\"\"\"\n",
    "    temp = sorted(S)  # create a sorted copy of S\n",
    "    for j in range(1, len(temp)):\n",
    "        if temp[j - 1] == temp[j]:  # compare adjacent elements\n",
    "            return False  # found duplicate pair\n",
    "    return True  # if we reach this, elements were unique\n"
   ]
  },
  {
   "cell_type": "markdown",
   "id": "ac248b0a-2cba-4d64-a115-01d203b88141",
   "metadata": {},
   "source": [
    "##  Loop Invariants"
   ]
  },
  {
   "cell_type": "markdown",
   "id": "ed501409-a3a8-499c-bd8a-3647cb1d8f9b",
   "metadata": {},
   "source": [
    "3.9"
   ]
  },
  {
   "cell_type": "code",
   "execution_count": 23,
   "id": "5bdcbd6a-382b-4e19-8e02-1447e7762f83",
   "metadata": {},
   "outputs": [
    {
     "name": "stdout",
     "output_type": "stream",
     "text": [
      "2\n",
      "-1\n"
     ]
    }
   ],
   "source": [
    "def find(S, val):\n",
    "    \"\"\"Return index j such that S[j] == val, or -1 if no such element.\"\"\"\n",
    "\n",
    "    n = len(S)\n",
    "    j = 0\n",
    "    while j < n:\n",
    "        if S[j] == val:\n",
    "            return j  # a match was found at index j\n",
    "        j += 1\n",
    "    return -1  # no match was found\n",
    "print(find([10, 20, 30, 40], 30))  # Output: 2\n",
    "print(find([1, 2, 3], 5))          # Output: -1\n"
   ]
  },
  {
   "cell_type": "markdown",
   "id": "8f015853-f642-47ab-9ed2-46408cae555f",
   "metadata": {},
   "source": [
    "**R-3.1** Graph the functions 8n,4nlogn,2n2, n3,and2n using a logarithmic scale\n",
    " for the x-andy-axes; that is, if the function value f(n) is y,plot thisasa\n",
    " point with x-coordinate at logn and y-coordinate at logy."
   ]
  },
  {
   "cell_type": "code",
   "execution_count": 34,
   "id": "5e154f19-e4d6-4612-aaf4-ae593f40fb92",
   "metadata": {},
   "outputs": [
    {
     "name": "stderr",
     "output_type": "stream",
     "text": [
      "C:\\Users\\Donovan\\AppData\\Local\\Temp\\ipykernel_23264\\1563352525.py:17: RuntimeWarning: divide by zero encountered in log10\n",
      "  plt.plot(np.log10(n), np.log10(f2), label='4n log n')\n"
     ]
    },
    {
     "data": {
      "image/png": "[encoded data removed]",
      "text/plain": [
       "<Figure size 1000x600 with 1 Axes>"
      ]
     },
     "metadata": {},
     "output_type": "display_data"
    }
   ],
   "source": [
    "import numpy as np\n",
    "import matplotlib.pyplot as plt\n",
    "\n",
    "# Choose a range of n values (skip 0 to avoid log(0))\n",
    "n = np.arange(1, 1000)\n",
    "\n",
    "# Define the functions\n",
    "f1 = 8 * n\n",
    "f2 = 4 * n * np.log2(n)\n",
    "f3 = 2 * n**2\n",
    "f4 = n**3\n",
    "f5 = 2**n\n",
    "\n",
    "# Use log scale for both x and y axes\n",
    "plt.figure(figsize=(10, 6))\n",
    "plt.plot(np.log10(n), np.log10(f1), label='8n')\n",
    "plt.plot(np.log10(n), np.log10(f2), label='4n log n')\n",
    "plt.plot(np.log10(n), np.log10(f3), label='2n²')\n",
    "plt.plot(np.log10(n), np.log10(f4), label='n³')\n",
    "plt.plot(np.log10(n[:20]), np.log10(f5[:20]), label='2ⁿ')  # only plot small range for 2^n to avoid overflow\n",
    "\n",
    "plt.xlabel('log n')\n",
    "plt.ylabel('log f(n)')\n",
    "plt.title('Log-Log Plot of Growth Rates')\n",
    "plt.legend()\n",
    "plt.grid(True)\n",
    "plt.show()\n"
   ]
  },
  {
   "cell_type": "markdown",
   "id": "2d829216-a0ae-4603-a256-a0ec78d0e29f",
   "metadata": {},
   "source": [
    "**R-3.2** The number of operations executed by algorithms A and B is 8nlogn and\n",
    " 2n2, respectively. Determine n0 such that A is better than B for n ≥ n0."
   ]
  },
  {
   "cell_type": "code",
   "execution_count": 45,
   "id": "24ae6ca9-f671-462a-a912-bae3a7067718",
   "metadata": {},
   "outputs": [
    {
     "name": "stdout",
     "output_type": "stream",
     "text": [
      "n₀ = 16\n"
     ]
    }
   ],
   "source": [
    "import math\n",
    "\n",
    "for n in range(2, 100):\n",
    "    left = 8 * n * math.log2(n)\n",
    "    right = 2 * n**2\n",
    "\n",
    "    if left <= right:\n",
    "        print(f\"n₀ = {n}\")\n",
    "        break\n"
   ]
  },
  {
   "cell_type": "markdown",
   "id": "6e35d7c9-8ff5-486e-b1fc-aa3c6b349f81",
   "metadata": {},
   "source": [
    "For all 𝑛 ≥ 16n , Algorithm A is faster than Algorithm B (i.e., does fewer operations)."
   ]
  },
  {
   "cell_type": "markdown",
   "id": "197405a0-05bb-4446-8cdf-93251e3831da",
   "metadata": {},
   "source": [
    "**R-3.3** The number of operations executed by algorithms A and B is 40n2 and\n",
    " 2n3, respectively. Determine n0 such that A is better than B for n ≥ n0."
   ]
  },
  {
   "cell_type": "code",
   "execution_count": 53,
   "id": "b5731b73-c0cb-4fb7-8cea-0719bba825fe",
   "metadata": {},
   "outputs": [
    {
     "name": "stdout",
     "output_type": "stream",
     "text": [
      "n₀ = 20\n"
     ]
    }
   ],
   "source": [
    "import math\n",
    "\n",
    "for n in range(2, 100):\n",
    "    left = 40 * n **2\n",
    "    right = 2 * n**3\n",
    "\n",
    "    if left <= right:\n",
    "        print(f\"n₀ = {n}\")\n",
    "        break\n"
   ]
  },
  {
   "cell_type": "markdown",
   "id": "5c6aba8d-f595-4428-811f-8f3280ce6c10",
   "metadata": {},
   "source": [
    "For all 𝑛 ≥ 20 n , Algorithm A is faster than Algorithm B (i.e., does fewer operations)."
   ]
  },
  {
   "cell_type": "markdown",
   "id": "0547ee51-48fc-44c6-a688-a058de9eefc3",
   "metadata": {},
   "source": [
    " **R-3.4** Give an example of a function that is plotted the same on a log-log scale\n",
    " as it is on a standard scale."
   ]
  },
  {
   "cell_type": "markdown",
   "id": "cb4472bf-0ee9-4d1a-bd89-2b0fbd23cdbb",
   "metadata": {},
   "source": [
    "f(n)=log(n)"
   ]
  },
  {
   "cell_type": "markdown",
   "id": "e21e76fc-7f36-4ea3-b367-560ad302a4fe",
   "metadata": {},
   "source": [
    "**R-3.5** Explain why the plot of the function n ^c is a straight line with slope c on a\n",
    " log-log scale."
   ]
  },
  {
   "cell_type": "markdown",
   "id": "6c087d6c-7f0d-423f-8a53-fa894f3f6066",
   "metadata": {},
   "source": [
    "On a log-log scale, f(n) = n^c plots as a straight line with slope c, because log(n^c) = c · log(n). due to the power rule of logarithms."
   ]
  },
  {
   "cell_type": "markdown",
   "id": "a59f73e4-8e17-4a5c-ae37-7cbfd5a637b7",
   "metadata": {},
   "source": [
    " **R-3.6** What is the sum of all the even numbers from 0 to 2n, for any positive\n",
    " integer n?"
   ]
  },
  {
   "cell_type": "code",
   "execution_count": null,
   "id": "dc48c0e8-64a3-4bfa-9802-7ad1ba4651de",
   "metadata": {},
   "outputs": [],
   "source": [
    "Sum=(n+1)n"
   ]
  },
  {
   "cell_type": "markdown",
   "id": "9db2a494-fdf9-48f5-be61-205c0ed96003",
   "metadata": {},
   "source": [
    " **R-3.7**\n",
    "Show that the following two statements are equivalent:\n",
    " (a) The running time of algorithm A is always O(f(n)).\n",
    " (b) In the worst case, the running time of algorithm A is O(f(n))."
   ]
  },
  {
   "cell_type": "markdown",
   "id": "97d1f5df-0c15-4a12-b388-67aee6c6d7ed",
   "metadata": {},
   "source": [
    "If the running time is always $O(f(n))$, then the worst case is also bounded by $O(f(n))$.\n",
    "Likewise, if the worst-case running time is $O(f(n))$, then all other (better) cases are also $O(f(n))$, so the two statements are equivalent.\n"
   ]
  },
  {
   "cell_type": "markdown",
   "id": "b19395a0-25b1-402f-84d5-3a26c8993db1",
   "metadata": {},
   "source": [
    "**R-3.8** Order the following functions by asymptotic growth rate.\n",
    " 4nlogn+2n 210 2logn\n",
    " 3n+100logn 4n 2n\n",
    " n2 +10n n\n",
    " 3\n",
    " nlogn"
   ]
  },
  {
   "cell_type": "markdown",
   "id": "c5e6d529-8d0a-4391-9c41-47263110d114",
   "metadata": {},
   "source": [
    "2^10, 2^logn, 3n+100logn , nlogb, 4nlogn, 2n, n^2+10n, n^3, 2^n, 4^n"
   ]
  },
  {
   "cell_type": "markdown",
   "id": "95f106a7-9dcd-4cfc-bf10-1d112c3551cd",
   "metadata": {},
   "source": [
    "**R-3.9** Show that if d(n) is O(f(n)), thenad(n) is O(f(n)), for any constant\n",
    " a >0."
   ]
  },
  {
   "cell_type": "markdown",
   "id": "010fd4e5-4885-4b5f-80f4-566bff2b198f",
   "metadata": {},
   "source": [
    "\r\n",
    "If $d(n) = O(f(n))$, then for some constants $c > 0$ and $n_0$, we have $d(n) \\leq c \\cdot f(n)$ for all $n \\geq n_0$. Multiplying both sides by any constant $a > 0$ gives $a \\cdot d(n) \\leq a \\cdot c \\cdot f(n)$. Letting $c' = a \\cdot c$, we conclude that $a \\cdot d(n) = O(f(n))$.\r\n"
   ]
  },
  {
   "cell_type": "markdown",
   "id": "6c2f5925-1dc6-4fa3-844b-5be31076bcfd",
   "metadata": {},
   "source": [
    "**R-3.10** Showthat ifd(n)isO(f(n)) ande(n) isO(g(n)), then the product d(n)e(n)\n",
    " is O(f(n)g(n))."
   ]
  },
  {
   "cell_type": "markdown",
   "id": "553001ce-9074-4640-95dd-c82fc95854b4",
   "metadata": {},
   "source": [
    "If $d(n) = O(f(n))$, then there exist constants $c_1 > 0$ and $n_1$ such that\n",
    "\n",
    "$$\n",
    "d(n) \\leq c_1 \\cdot f(n) \\quad \\text{for all } n \\geq n_1\n",
    "$$\n",
    "\n",
    "Likewise, if $e(n) = O(g(n))$, then there exist constants $c_2 > 0$ and $n_2$ such that\n",
    "\n",
    "$$\n",
    "e(n) \\leq c_2 \\cdot g(n) \\quad \\text{for all } n \\geq n_2\n",
    "$$\n",
    "\n",
    "Now consider the product:\n",
    "\n",
    "$$\n",
    "d(n) \\cdot e(n) \\leq (c_1 \\cdot f(n)) \\cdot (c_2 \\cdot g(n)) = (c_1 c_2) \\cdot f(n)g(n)\n",
    "$$\n",
    "\n",
    "Let $c = c_1 c_2$ and let $n_0 = \\max(n_1, n_2)$. Then:\n",
    "\n",
    "$$\n",
    "d(n)e(n) \\leq c \\cdot f(n)g(n) \\quad \\text{for all } n \\geq n_0\n",
    "$$\n",
    "\n",
    "✅ **Conclusion:**\n",
    "\n",
    "$$\n",
    "d(n)e(n) = O(f(n)g(n))\n",
    "$$\n"
   ]
  },
  {
   "cell_type": "markdown",
   "id": "779ef0da-8a0c-4b30-bb38-c3d97197e27c",
   "metadata": {},
   "source": [
    "**R-3.11**Show that if d(n) is O(f(n)) and e(n) is O(g(n)), then d(n)+e(n) is\n",
    " O(f(n)+g(n))."
   ]
  },
  {
   "cell_type": "markdown",
   "id": "811c35d8-0f5d-40a7-b014-3dbb0480acf2",
   "metadata": {},
   "source": [
    "d(n)+e(n)=O(f(n)+g(n))"
   ]
  },
  {
   "cell_type": "markdown",
   "id": "d553fb37-1d8d-4c4c-a31a-0b73495c2004",
   "metadata": {},
   "source": [
    "**R-3.12** Show that if d(n) is O(f(n)) and e(n) is O(g(n)), then d(n)−e(n) is not\n",
    " necessarily O(f(n)−g(n))."
   ]
  },
  {
   "cell_type": "markdown",
   "id": "bf51aa3c-9f71-4068-997f-b2d549812166",
   "metadata": {},
   "source": [
    "Even though both d(n) and e(n) are individually big-O of their bounds, their difference is not big-O. This is because Big-O of 0 is meaningless. "
   ]
  },
  {
   "cell_type": "markdown",
   "id": "27d63201-73b9-4739-bf59-7cb3c28e2444",
   "metadata": {},
   "source": [
    "**R-3.13** Show that if d(n) is O(f(n)) and f(n) is O(g(n)), then d(n) is O(g(n))."
   ]
  },
  {
   "cell_type": "markdown",
   "id": "45b374ae-849b-4399-81a6-714593da6ed2",
   "metadata": {},
   "source": [
    "d(n)=O(g(n))"
   ]
  },
  {
   "cell_type": "markdown",
   "id": "ac756318-06e6-4f54-a0de-0de2a7b79aab",
   "metadata": {},
   "source": [
    "**R-3.14** Show that O(max{f(n),g(n)})=O(f(n)+g(n))."
   ]
  },
  {
   "cell_type": "markdown",
   "id": "059a0ed4-e942-41ee-9a83-c97334f222a5",
   "metadata": {},
   "source": [
    "O(max{f(n),g(n)})=O(f(n)+g(n))"
   ]
  },
  {
   "cell_type": "markdown",
   "id": "34c3b9b8-b0c5-4ede-a52c-e1cb116ac8e7",
   "metadata": {},
   "source": [
    "**R-3.15** Show that f(n) is O(g(n)) if and only if g(n) is Ω(f(n))."
   ]
  },
  {
   "cell_type": "markdown",
   "id": "3e29c854-f1b7-4c89-9f3b-543e0613c964",
   "metadata": {},
   "source": [
    "f(n)=O(g(n))⟺g(n)=Ω(f(n))"
   ]
  },
  {
   "cell_type": "markdown",
   "id": "38f64060-88c1-4319-8006-79eae7fdde2e",
   "metadata": {},
   "source": [
    "**R-3.16** Show that if p(n) is a polynomial in n, then logp(n) is O(logn)."
   ]
  },
  {
   "cell_type": "markdown",
   "id": "994e6d46-3ada-4b21-be4d-576db3acf796",
   "metadata": {},
   "source": [
    "log(p(n))=O(logn)"
   ]
  },
  {
   "cell_type": "markdown",
   "id": "faa0bbb5-c40f-459f-8fca-6b2bcd70a58b",
   "metadata": {},
   "source": [
    "**R-3.17** Show that (n+1)5 is O(n5)."
   ]
  },
  {
   "cell_type": "markdown",
   "id": "9df6f97f-587d-4d84-aa53-4b2d62a2094f",
   "metadata": {},
   "source": [
    "(n+1)^5=O(n^5)"
   ]
  },
  {
   "cell_type": "markdown",
   "id": "27dd23a9-81a4-4079-97cc-39ae469c2c81",
   "metadata": {},
   "source": [
    " **R-3.18** Show that 2n+1 is O(2n)."
   ]
  },
  {
   "cell_type": "markdown",
   "id": "aad7d8a9-2194-4603-9b9b-bdd79aca7294",
   "metadata": {},
   "source": [
    "2^n+1 = 0(2^n)"
   ]
  },
  {
   "cell_type": "markdown",
   "id": "a589ab46-01c0-4bf2-b013-bc5651999228",
   "metadata": {},
   "source": [
    "**R-3.19** Show that n is O(nlogn)."
   ]
  },
  {
   "cell_type": "markdown",
   "id": "6bd9eacd-1538-4079-be63-8110d9442d97",
   "metadata": {},
   "source": [
    "Yes, n = O(n log n).\n",
    "Because for c = 1 and n₀ = 2, the inequality holds."
   ]
  },
  {
   "cell_type": "markdown",
   "id": "d828f925-2dd8-44c9-af54-0a271c4cdd76",
   "metadata": {},
   "source": [
    "**R-3.20** Show that n2 is Ω(nlogn)."
   ]
  },
  {
   "cell_type": "markdown",
   "id": "fa061e98-0578-401c-96ae-7b6ee5aa93b6",
   "metadata": {},
   "source": [
    "Yes, n² = Ω(n log n).\n",
    "Because for c = 1 and n₀ = 2, the inequality n² ≥ c · n log n holds."
   ]
  },
  {
   "cell_type": "markdown",
   "id": "8072c11b-47f4-4e73-858f-920a21ecbbc8",
   "metadata": {},
   "source": [
    "**R-3.21** Show that nlogn is Ω(n)."
   ]
  },
  {
   "cell_type": "markdown",
   "id": "d9c4e378-80ee-43c4-bf6e-d46b4a48a61e",
   "metadata": {},
   "source": [
    "Yes, n log n = Ω(n).\n",
    "Because for c = 1 and n₀ = 2, the inequality n log n ≥ c · n holds."
   ]
  },
  {
   "cell_type": "markdown",
   "id": "130cf4e0-1646-43e6-bdca-edbd65b1d425",
   "metadata": {},
   "source": [
    "**R-3.22** Show that f(n) is O(f(n)), if f(n) is a positive nondecreasing function\n",
    " that is always greater than 1."
   ]
  },
  {
   "cell_type": "markdown",
   "id": "4895b10e-c55a-4369-bbf5-d9884a7dcdce",
   "metadata": {},
   "source": [
    "Yes, f(n) = O(f(n)) because for c = 1 and any n₀, the inequality f(n) ≤ c·f(n) holds for all n ≥ n₀, since f(n) is positive and nondecreasing., since $f(n)$ is positive and nondecreasing.\r\n"
   ]
  },
  {
   "cell_type": "markdown",
   "id": "f43856e3-fd48-4c7b-97b1-ae74da646475",
   "metadata": {},
   "source": [
    "**R-3.23** Give a big-Oh characterization, in terms of n, of the running time of the\n",
    " example1 function shown in Code Fragment 3.10."
   ]
  },
  {
   "cell_type": "markdown",
   "id": "138b5668-6955-4f06-a29e-036bea8d8cad",
   "metadata": {},
   "source": [
    "The example1 function has a running time of O(n) because it loops through the entire input sequence once, performing a constant-time operation on each element.\n",
    "\n",
    "Let me know if you want help analyzing the others like example2, example3, etc."
   ]
  },
  {
   "cell_type": "markdown",
   "id": "2d8dde0f-857f-47c3-a31d-edc36ac91ab2",
   "metadata": {},
   "source": [
    "**R-3.24** Give a big-Oh characterization, in terms of n, of the running time of the\n",
    " example2 function shown in Code Fragment 3.10."
   ]
  },
  {
   "cell_type": "markdown",
   "id": "4883ed68-d257-4f16-8783-fe49569c6999",
   "metadata": {},
   "source": [
    "The example2 function has a running time of O(n) because it iterates through roughly half the elements of the input list and performs constant-time operations in each iteration."
   ]
  },
  {
   "cell_type": "markdown",
   "id": "7c2dc61e-c099-47b0-8d7d-3672faa22849",
   "metadata": {},
   "source": [
    "**R-3.25** Give a big-Oh characterization, in terms of n, of the running time of the\n",
    " example3 function shown in Code Fragment 3.10."
   ]
  },
  {
   "cell_type": "markdown",
   "id": "84cc0b3b-b9cb-46e1-8d33-3298607fce0e",
   "metadata": {},
   "source": [
    "The example3 function has a running time of O(n²) because it contains a nested loop where the inner loop runs an increasing number of times proportional to the outer loop index, resulting in a total of about n(n+1)/2 iterations."
   ]
  },
  {
   "cell_type": "markdown",
   "id": "077fe56c-fe30-4646-aabc-8f44af885e4a",
   "metadata": {},
   "source": [
    "**R-3.26** Give a big-Oh characterization, in terms of n, of the running time of the\n",
    " example4 function shown in Code Fragment 3.10."
   ]
  },
  {
   "cell_type": "markdown",
   "id": "4583fa60-79ff-4dd7-bb3d-317c535e059e",
   "metadata": {},
   "source": [
    "The example4 function has a running time of O(n) because it uses a single loop that iterates over the list once, performing constant-time operations inside the loop."
   ]
  },
  {
   "cell_type": "markdown",
   "id": "d9ff76a8-17f7-46ca-a77c-dc4c661d0667",
   "metadata": {},
   "source": [
    " **R-3.27** Give a big-Oh characterization, in terms of n, of the running time of the\n",
    " example5 function shown in Code Fragment 3.10."
   ]
  },
  {
   "cell_type": "markdown",
   "id": "c827ac1d-2ffa-40c0-ad2f-d83d31605d56",
   "metadata": {},
   "source": [
    "The example5 function runs in O(n³) time because it has three nested loops: the outermost loop runs n times, and the nested inner loops combined contribute O(n²) work per outer iteration."
   ]
  },
  {
   "cell_type": "markdown",
   "id": "726f8dbe-8b5b-43a9-8206-d1103d502aeb",
   "metadata": {},
   "source": [
    " **R-3.28** For each function f(n) and time t in the following table, determine the\n",
    " largest size n of a problem P that can be solved in time t if the algorithm\n",
    " for solving P takes f(n) microseconds (one entry is already completed)."
   ]
  },
  {
   "cell_type": "markdown",
   "id": "d35d3328-4ee9-4053-a950-9f9414b1448a",
   "metadata": {},
   "source": [
    "picture of the problem in file :)"
   ]
  },
  {
   "cell_type": "markdown",
   "id": "d5dd6dab-f81e-4ebb-8dd3-e0b14003c20f",
   "metadata": {},
   "source": [
    " **R-3.29** Algorithm A executes an O(logn)-time computation for each entry of an\r\n",
    " n-element sequence. What is its worst-case running time?"
   ]
  },
  {
   "cell_type": "markdown",
   "id": "ab9f1fdf-5359-4a04-8e5f-64ad0efc307e",
   "metadata": {},
   "source": [
    "The worst-case running time of Algorithm A is O(n log n)."
   ]
  },
  {
   "cell_type": "markdown",
   "id": "6ba25b2e-c9ee-49f6-a83e-32ca9eb72c04",
   "metadata": {},
   "source": [
    "**R-3.30** Given an n-element sequence S, Algorithm B chooses logn elements in\n",
    " S at random and executes an O(n)-time calculation for each. What is the\n",
    " worst-case running time of Algorithm B?"
   ]
  },
  {
   "cell_type": "markdown",
   "id": "72942ced-e144-4ef2-97b9-f6ee1294430d",
   "metadata": {},
   "source": [
    "The worst-case running time of Algorithm B is O(n log n)."
   ]
  },
  {
   "cell_type": "markdown",
   "id": "a8b68a8e-6f06-41b7-b6a7-aec379de303d",
   "metadata": {},
   "source": [
    " **R-3.31** Given an n-element sequence S of integers, Algorithm C executes an\n",
    " O(n)-time computation for each even number in S,and a nO(logn)-time\n",
    " computation for each odd number in S. What are the best-case and worst\n",
    "case running times of Algorithm C?\n"
   ]
  },
  {
   "cell_type": "markdown",
   "id": "36dd4f84-c6b8-4973-9cc2-33c5970c0e29",
   "metadata": {},
   "source": [
    "Best-case: O(n log n)\n",
    "\n",
    "Worst-case: O(n²)"
   ]
  },
  {
   "cell_type": "markdown",
   "id": "d18fa01a-d234-4fa7-b8d9-5859fc061d25",
   "metadata": {},
   "source": [
    "**R-3.32** Given an n-element sequence S, Algorithm D calls Algorithm E on each\n",
    " element S[i]. Algorithm E runs in O(i) time when it is called on element\n",
    " S[i]. What is the worst-case running time of Algorithm D?"
   ]
  },
  {
   "cell_type": "markdown",
   "id": "23df4201-56c6-46c7-9b9a-ccc3d396acb2",
   "metadata": {},
   "source": [
    "Best-case and worst-case running time of Algorithm D are both O(n²)"
   ]
  },
  {
   "cell_type": "markdown",
   "id": "89802444-111a-4071-9970-e09cf7823902",
   "metadata": {},
   "source": [
    " **R-3.33** Al and Bob are arguing about their algorithms. Al claims his O(nlogn)\n",
    "time method is always faster than Bob’s O(n2)-time method. To settle the\n",
    " issue, they perform a set of experiments. To Al’s dismay, they find that if\n",
    " n <100, the O(n2)-time algorithm runs faster, and only when n ≥ 100 is\n",
    " the O(nlogn)-time one better. Explain how this is possible."
   ]
  },
  {
   "cell_type": "markdown",
   "id": "6dad141f-65e8-4877-be28-640dd3f35533",
   "metadata": {},
   "source": [
    "Although Al’s O(n log n) algorithm is better asymptotically, Bob’s O(n²) algorithm can outperform it on small inputs due to smaller constants and overhead. This is why experimental results can differ from theoretical growth rates for small values of n."
   ]
  },
  {
   "cell_type": "markdown",
   "id": "e52a8041-c327-400b-ad40-eb48382abc6d",
   "metadata": {},
   "source": [
    "**R-3.34** There is a well-known city (which will go nameless here) whose inhabi\n",
    "tants have the reputation of enjoying a meal only if that meal is the best\n",
    " they have ever experienced in their life. Otherwise, they hate it. Assum\n",
    "ing meal quality is distributed uniformly across a person’s life, describe\n",
    " the expected number of times inhabitants of this city are happy with their\n",
    " meals?"
   ]
  },
  {
   "cell_type": "markdown",
   "id": "6965ffbf-2743-4e19-8f91-c3a1e647531c",
   "metadata": {},
   "source": [
    "The expected number of meals a person enjoys is approximately ln(n), where n is the number of meals in their life."
   ]
  },
  {
   "cell_type": "code",
   "execution_count": null,
   "id": "fa179bcd-c732-4244-aae5-5df619633258",
   "metadata": {},
   "outputs": [],
   "source": []
  }
 ],
 "metadata": {
  "kernelspec": {
   "display_name": "Python 3 (ipykernel)",
   "language": "python",
   "name": "python3"
  },
  "language_info": {
   "codemirror_mode": {
    "name": "ipython",
    "version": 3
   },
   "file_extension": ".py",
   "mimetype": "text/x-python",
   "name": "python",
   "nbconvert_exporter": "python",
   "pygments_lexer": "ipython3",
   "version": "3.12.4"
  }
 },
 "nbformat": 4,
 "nbformat_minor": 5
}
