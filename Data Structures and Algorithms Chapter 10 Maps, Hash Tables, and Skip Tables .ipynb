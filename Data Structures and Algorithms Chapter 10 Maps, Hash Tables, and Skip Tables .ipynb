{
 "cells": [
  {
   "cell_type": "code",
   "execution_count": null,
   "id": "761efc6d-509d-4282-aa3a-8626bc5e5651",
   "metadata": {},
   "outputs": [],
   "source": [
    "### Chapter 10 Data Strucutures and Algorithms \n",
    "#### Donovan Manogue"
   ]
  },
  {
   "cell_type": "code",
   "execution_count": null,
   "id": "2e501c5c-f824-4438-a355-f536f7e7e690",
   "metadata": {},
   "outputs": [],
   "source": []
  },
  {
   "cell_type": "markdown",
   "id": "dec7b0c4-bc68-438a-8fe3-fda03f527cc7",
   "metadata": {},
   "source": [
    "**Table**: Map ADT behaviors and their definitions (consistent with Python’s `dict` class).\n",
    "\n",
    "| Operation | Description |\n",
    "|-----------|-------------|\n",
    "| `M[k]` | Return the value `v` associated with key `k` in map `M`. Raises `KeyError` if `k` not found. Implemented with `__getitem__`. |\n",
    "| `M[k] = v` | Associate value `v` with key `k`, replacing the existing value if `k` already exists. Implemented with `__setitem__`. |\n",
    "| `del M[k]` | Remove the item with key `k`. Raises `KeyError` if `k` not found. Implemented with `__delitem__`. |\n",
    "| `len(M)` | Return the number of items in map `M`. Implemented with `__len__`. |\n",
    "| `iter(M)` | Iterate over keys in map `M`. Implemented with `__iter__`. Allows `for k in M:` loops. |\n",
    "| `k in M` | Return `True` if key `k` exists in map `M`. Implemented with `__contains__`. |\n",
    "| `M.get(k, d=None)` | Return `M[k]` if `k` exists; otherwise return default `d`. Avoids `KeyError`. |\n",
    "| `M.setdefault(k, d)` | Return `M[k]` if `k` exists; otherwise set `M[k] = d` and return `d`. |\n",
    "| `M.pop(k, d=None)` | Remove and return the value for `k`. If `k` missing, return default `d` or raise `KeyError` if `d` is `None`. |\n",
    "| `M.popitem()` | Remove and return an arbitrary `(k, v)` pair. Raises `KeyError` if empty. |\n",
    "| `M.clear()` | Remove all key-value pairs from the map. |\n",
    "| `M.keys()` | Return a set-like view of all keys in the map. |\n",
    "| `M.values()` | Return a set-like view of all values in the map. |\n",
    "| `M.items()` | Return a set-like view of all `(k, v)` pairs in the map. |\n",
    "| `M.update(M2)` | Assign `M[k] = v` for every `(k, v)` pair in `M2`. |\n",
    "| `M == M2` | Return `True` if maps `M` and `M2` have identical key-value pairs. |\n",
    "| `M != M2` | Return `True` if maps `M` and `M2` differ in any key-value pair. |\n"
   ]
  },
  {
   "cell_type": "markdown",
   "id": "b79f1fd3-6cc0-4366-ae91-bd3ce83b447c",
   "metadata": {},
   "source": [
    "**Table**: Example Map Operations and Results\n",
    "\n",
    "| Operation | Return Value | Map State |\n",
    "|-----------|--------------|-----------|\n",
    "| `len(M)` | `0` | `{}` |\n",
    "| `M['K'] = 2` | – | `{'K': 2}` |\n",
    "| `M['B'] = 4` | – | `{'K': 2, 'B': 4}` |\n",
    "| `M['U'] = 2` | – | `{'K': 2, 'B': 4, 'U': 2}` |\n",
    "| `M['V'] = 8` | – | `{'K': 2, 'B': 4, 'U': 2, 'V': 8}` |\n",
    "| `M['K'] = 9` | – | `{'K': 9, 'B': 4, 'U': 2, 'V': 8}` |\n",
    "| `M['B']` | `4` | `{'K': 9, 'B': 4, 'U': 2, 'V': 8}` |\n",
    "| `M['X']` | `KeyError` | `{'K': 9, 'B': 4, 'U': 2, 'V': 8}` |\n",
    "| `M.get('F')` | `None` | `{'K': 9, 'B': 4, 'U': 2, 'V': 8}` |\n",
    "| `M.get('F', 5)` | `5` | `{'K': 9, 'B': 4, 'U': 2, 'V': 8}` |\n",
    "| `M.get('K', 5)` | `9` | `{'K': 9, 'B': 4, 'U': 2, 'V': 8}` |\n",
    "| `len(M)` | `4` | `{'K': 9, 'B': 4, 'U': 2, 'V': 8}` |\n",
    "| `del M['V']` | – | `{'K': 9, 'B': 4, 'U': 2}` |\n",
    "| `M.pop('K')` | `9` | `{'B': 4, 'U': 2}` |\n",
    "| `M.keys()` | `B, U` | `{'B': 4, 'U': 2}` |\n",
    "| `M.values()` | `4, 2` | `{'B': 4, 'U': 2}` |\n",
    "| `M.items()` | `(B, 4), (U, 2)` | `{'B': 4, 'U': 2}` |\n",
    "| `M.setdefault('B', 1)` | `4` | `{'B': 4, 'U': 2}` |\n",
    "| `M.setdefault('A', 1)` | `1` | `{'A': 1, 'B': 4, 'U': 2}` |\n",
    "| `M.popitem()` | `(B, 4)` | `{'A': 1, 'U': 2}` |\n"
   ]
  },
  {
   "cell_type": "raw",
   "id": "3210cfd6-d01e-4cef-8d59-d991fdd127dc",
   "metadata": {},
   "source": [
    "Code Fragment 10.1:\n",
    "A program for counting word frequencies in a document and reporting the most frequent word.\n",
    "It uses Python’s dict class for the map, converts the input to lowercase, and ignores any non-alphabetic characters."
   ]
  },
  {
   "cell_type": "code",
   "execution_count": 3,
   "id": "c15bb668-3979-4c5e-a9f3-4c49cb2be96f",
   "metadata": {},
   "outputs": [
    {
     "ename": "NameError",
     "evalue": "name 'filename' is not defined",
     "output_type": "error",
     "traceback": [
      "\u001b[1;31m---------------------------------------------------------------------------\u001b[0m",
      "\u001b[1;31mNameError\u001b[0m                                 Traceback (most recent call last)",
      "Cell \u001b[1;32mIn[3], line 5\u001b[0m\n\u001b[0;32m      2\u001b[0m freq \u001b[38;5;241m=\u001b[39m {}\n\u001b[0;32m      4\u001b[0m \u001b[38;5;66;03m# Read file, convert to lowercase, split into pieces\u001b[39;00m\n\u001b[1;32m----> 5\u001b[0m \u001b[38;5;28;01mfor\u001b[39;00m piece \u001b[38;5;129;01min\u001b[39;00m \u001b[38;5;28mopen\u001b[39m(filename)\u001b[38;5;241m.\u001b[39mread()\u001b[38;5;241m.\u001b[39mlower()\u001b[38;5;241m.\u001b[39msplit():\n\u001b[0;32m      6\u001b[0m     \u001b[38;5;66;03m# Only consider alphabetic characters within this piece\u001b[39;00m\n\u001b[0;32m      7\u001b[0m     word \u001b[38;5;241m=\u001b[39m \u001b[38;5;124m'\u001b[39m\u001b[38;5;124m'\u001b[39m\u001b[38;5;241m.\u001b[39mjoin(c \u001b[38;5;28;01mfor\u001b[39;00m c \u001b[38;5;129;01min\u001b[39;00m piece \u001b[38;5;28;01mif\u001b[39;00m c\u001b[38;5;241m.\u001b[39misalpha())\n\u001b[0;32m      9\u001b[0m     \u001b[38;5;66;03m# Require at least one alphabetic character\u001b[39;00m\n",
      "\u001b[1;31mNameError\u001b[0m: name 'filename' is not defined"
     ]
    }
   ],
   "source": [
    "# Create an empty frequency map\n",
    "freq = {}\n",
    "\n",
    "# Read file, convert to lowercase, split into pieces\n",
    "for piece in open(filename).read().lower().split():\n",
    "    # Only consider alphabetic characters within this piece\n",
    "    word = ''.join(c for c in piece if c.isalpha())\n",
    "    \n",
    "    # Require at least one alphabetic character\n",
    "    if word:\n",
    "        freq[word] = 1 + freq.get(word, 0)\n",
    "\n",
    "# Initialize tracking variables for the most frequent word\n",
    "maxword = \"\"\n",
    "maxcount = 0\n",
    "\n",
    "# Examine the frequency map to find the most frequent word\n",
    "for (w, c) in freq.items():  # (key, value) tuples represent (word, count)\n",
    "    if c > maxcount:\n",
    "        maxword = w\n",
    "        maxcount = c\n",
    "\n",
    "# Output results\n",
    "print(\"The most frequent word is\", maxword)\n",
    "print(\"Its number of occurrences is\", maxcount)\n"
   ]
  },
  {
   "cell_type": "code",
   "execution_count": null,
   "id": "da363ab6-e268-4567-9dc2-16249aac4471",
   "metadata": {},
   "outputs": [],
   "source": [
    "Code Fragment 10.2:\n",
    "Extending the MutableMapping abstract base class to provide a non-public Item class for use in various map implementations."
   ]
  },
  {
   "cell_type": "code",
   "execution_count": null,
   "id": "6dcc2288-9cb0-487e-9b8e-1819fab94ead",
   "metadata": {},
   "outputs": [],
   "source": [
    "from collections.abc import MutableMapping\n",
    "\n",
    "class MapBase(MutableMapping):\n",
    "    \"\"\"Our own abstract base class that includes a non-public Item class.\"\"\"\n",
    "\n",
    "    # ------------------------------- nested Item class -------------------------------\n",
    "    class _Item:\n",
    "        \"\"\"Lightweight composite to store key-value pairs as map items.\"\"\"\n",
    "        __slots__ = '_key', '_value'\n",
    "\n",
    "        def __init__(self, k, v):\n",
    "            self._key = k\n",
    "            self._value = v\n",
    "\n",
    "        def __eq__(self, other):\n",
    "            return self._key == other._key  # compare items based on their keys\n",
    "\n",
    "        def __ne__(self, other):\n",
    "            return not (self == other)  # opposite of __eq__\n",
    "\n",
    "        def __lt__(self, other):\n",
    "            return self._key < other._key  # compare items based on their keys\n"
   ]
  },
  {
   "cell_type": "code",
   "execution_count": null,
   "id": "642547cb-5217-4cf6-bbc2-a4e06c7cf06a",
   "metadata": {},
   "outputs": [],
   "source": [
    "Code Fragment 10.3:\n",
    "An implementation of a map using a Python list as an unordered table.\n",
    "The parent class MapBase is given in Code Fragment 10.2."
   ]
  },
  {
   "cell_type": "code",
   "execution_count": null,
   "id": "2fba6cdb-9a50-434c-8eac-7adcc20315ed",
   "metadata": {},
   "outputs": [],
   "source": [
    "class UnsortedTableMap(MapBase):\n",
    "    \"\"\"Map implementation using an unordered list.\"\"\"\n",
    "\n",
    "    def __init__(self):\n",
    "        \"\"\"Create an empty map.\"\"\"\n",
    "        self._table = []  # list of _Item's\n",
    "\n",
    "    def __getitem__(self, k):\n",
    "        \"\"\"Return value associated with key k (raise KeyError if not found).\"\"\"\n",
    "        for item in self._table:\n",
    "            if k == item._key:\n",
    "                return item._value\n",
    "        raise KeyError(\"Key Error: \" + repr(k))\n",
    "\n",
    "    def __setitem__(self, k, v):\n",
    "        \"\"\"Assign value v to key k, overwriting existing value if present.\"\"\"\n",
    "        for item in self._table:\n",
    "            if k == item._key:  # Found a match\n",
    "                item._value = v  # reassign value\n",
    "                return           # and quit\n",
    "        # did not find match for key\n",
    "        self._table.append(self._Item(k, v))\n",
    "\n",
    "    def __delitem__(self, k):\n",
    "        \"\"\"Remove item associated with key k (raise KeyError if not found).\"\"\"\n",
    "        for j in range(len(self._table)):\n",
    "            if k == self._table[j]._key:  # Found a match\n",
    "                self._table.pop(j)        # remove item\n",
    "                return                    # and quit\n",
    "        raise KeyError(\"Key Error: \" + repr(k))\n",
    "\n",
    "    def __len__(self):\n",
    "        \"\"\"Return number of items in the map.\"\"\"\n",
    "        return len(self._table)\n",
    "\n",
    "    def __iter__(self):\n",
    "        \"\"\"Generate iteration of the map’s keys.\"\"\"\n",
    "        for item in self._table:\n",
    "            yield item._key  # yield the KEY\n"
   ]
  },
  {
   "cell_type": "code",
   "execution_count": null,
   "id": "1887e773-8cad-4afd-aa48-5e14863dc935",
   "metadata": {},
   "outputs": [],
   "source": [
    "Table 10.1: Comparison of collision behavior for the cyclic-shift hash code applied to a list of 230,000 English words.\n",
    "The “Total” column records the total number of words that collide with at least one other,\n",
    "and the “Max” column records the maximum number of words colliding at any one hash code.\n",
    "A cyclic shift of 0 reverts to a simple sum of all characters."
   ]
  },
  {
   "cell_type": "markdown",
   "id": "adbea509-0351-47ec-97c5-84b5957c66e2",
   "metadata": {},
   "source": [
    "| Shift | Total Collisions | Max Collisions |\n",
    "| ----- | ---------------- | -------------- |\n",
    "| 0     | 234,735          | 623            |\n",
    "| 1     | 165,076          | 43             |\n",
    "| 2     | 38,471           | 13             |\n",
    "| 3     | 7,174            | 5              |\n",
    "| 4     | 1,379            | 3              |\n",
    "| 5     | 190              | 3              |\n",
    "| 6     | 502              | 2              |\n",
    "| 7     | 560              | 2              |\n",
    "| 8     | 5,546            | 4              |\n",
    "| 9     | 393              | 3              |\n",
    "| 10    | 5,194            | 5              |\n",
    "| 11    | 11,559           | 5              |\n",
    "| 12    | 822              | 2              |\n",
    "| 13    | 900              | 4              |\n",
    "| 14    | 2,001            | 4              |\n",
    "| 15    | 19,251           | 8              |\n",
    "| 16    | 211,781          | 37             |\n"
   ]
  },
  {
   "cell_type": "code",
   "execution_count": null,
   "id": "f2c0bf46-6097-4aeb-8a98-5da3c67ddd94",
   "metadata": {},
   "outputs": [],
   "source": [
    "Table 10.2: Comparison of the running times of the methods of a map realized by means of an unsorted list or a hash table.\n",
    "We let n denote the number of items in the map, and we assume that the bucket array for the hash table is maintained so that its capacity is proportional to n."
   ]
  },
  {
   "cell_type": "markdown",
   "id": "bb03292a-7e66-4c27-a95c-1fe3b4961064",
   "metadata": {},
   "source": [
    "| Operation | Unsorted List | Hash Table (Expected) | Hash Table (Worst Case) |\n",
    "| --------- | ------------- | --------------------- | ----------------------- |\n",
    "| `getitem` | O(n)          | O(1)                  | O(n)                    |\n",
    "| `setitem` | O(n)          | O(1)                  | O(n)                    |\n",
    "| `delitem` | O(n)          | O(1)                  | O(n)                    |\n",
    "| `len`     | O(1)          | O(1)                  | O(1)                    |\n",
    "| `iter`    | O(n)          | O(n)                  | O(n)                    |\n"
   ]
  },
  {
   "cell_type": "code",
   "execution_count": null,
   "id": "ce7c2c41-df2d-449f-838d-637807303358",
   "metadata": {},
   "outputs": [],
   "source": [
    "HashMapBase Design Summary\n",
    "The HashMapBase class serves as an abstract base for hash table map implementations.\n",
    "It provides the common behaviors, leaving collision resolution strategies (e.g., separate chaining or open addressing) to subclasses.\n",
    "\n",
    "Key features:\n",
    "\n",
    "Bucket array stored in self.table (Python list), initialized with None.\n",
    "\n",
    "self.n tracks the number of key-value pairs.\n",
    "\n",
    "Load factor threshold: If n > capacity / 2, the table resizes to about double the capacity.\n",
    "\n",
    "Hash function: Uses Python’s built-in hash() with the Multiply-Add-and-Divide (MAD) compression method.\n",
    "\n",
    "Abstract methods to be implemented by subclasses:\n",
    "\n",
    "bucket_getitem(j, k)\n",
    "\n",
    "bucket_setitem(j, k, v)\n",
    "\n",
    "bucket_delitem(j, k)\n",
    "\n",
    "__iter__() for iterating keys"
   ]
  },
  {
   "cell_type": "code",
   "execution_count": null,
   "id": "983f82c9-a603-4db2-b8e4-40c149b26b45",
   "metadata": {},
   "outputs": [],
   "source": [
    "Code Fragment 10.4:\n",
    "A base class for our hash table implementations, extending MapBase (from Code Fragment 10.2)."
   ]
  },
  {
   "cell_type": "code",
   "execution_count": null,
   "id": "9e08dc54-45f0-4a19-91ff-6c15d249c198",
   "metadata": {},
   "outputs": [],
   "source": [
    "from random import randrange\n",
    "\n",
    "class HashMapBase(MapBase):\n",
    "    \"\"\"Abstract base class for map using hash-table with MAD compression.\"\"\"\n",
    "\n",
    "    def __init__(self, cap=11, p=109345121):\n",
    "        \"\"\"Create an empty hash-table map.\"\"\"\n",
    "        self.table = [None] * cap       # bucket array\n",
    "        self.n = 0                      # number of entries in the map\n",
    "        self.prime = p                  # prime for MAD compression\n",
    "        self.scale = 1 + randrange(p - 1)  # scale from 1 to p-1\n",
    "        self.shift = randrange(p)          # shift from 0 to p-1\n",
    "\n",
    "    def hash_function(self, k):\n",
    "        \"\"\"Return hash value for key k.\"\"\"\n",
    "        return (hash(k) * self.scale + self.shift) % self.prime % len(self.table)\n",
    "\n",
    "    def __len__(self):\n",
    "        \"\"\"Return number of items in the map.\"\"\"\n",
    "        return self.n\n",
    "\n",
    "    def __getitem__(self, k):\n",
    "        \"\"\"Retrieve value for key k (raise KeyError if not found).\"\"\"\n",
    "        j = self.hash_function(k)\n",
    "        return self.bucket_getitem(j, k)\n",
    "\n",
    "    def __setitem__(self, k, v):\n",
    "        \"\"\"Insert or update key-value pair.\"\"\"\n",
    "        j = self.hash_function(k)\n",
    "        self.bucket_setitem(j, k, v)\n",
    "        if self.n > len(self.table) // 2:  # maintain load factor <= 0.5\n",
    "            self.resize(2 * len(self.table) - 1)  # prefer capacity of form 2^x - 1\n",
    "\n",
    "    def __delitem__(self, k):\n",
    "        \"\"\"Remove key k from the map (raise KeyError if not found).\"\"\"\n",
    "        j = self.hash_function(k)\n",
    "        self.bucket_delitem(j, k)\n",
    "        self.n -= 1\n",
    "\n",
    "    def resize(self, c):\n",
    "        \"\"\"Resize bucket array to capacity c and rehash all items.\"\"\"\n",
    "        old_items = list(self.items())  # copy existing items\n",
    "        self.table = [None] * c\n",
    "        self.n = 0\n",
    "        for (k, v) in old_items:\n",
    "            self[k] = v  # reinsert into new table\n"
   ]
  },
  {
   "cell_type": "code",
   "execution_count": null,
   "id": "ab877345-f482-473e-8777-29a5aee4bbac",
   "metadata": {},
   "outputs": [],
   "source": [
    "Code Fragment 10.5:\n",
    "Concrete hash map class with separate chaining for collision resolution."
   ]
  },
  {
   "cell_type": "code",
   "execution_count": null,
   "id": "26f6dfae-a0eb-48c9-bc52-9a8044315649",
   "metadata": {},
   "outputs": [],
   "source": [
    "\n",
    "\n",
    "class ChainHashMap(HashMapBase):\n",
    "    \"\"\"Hash map implemented with separate chaining for collisions.\"\"\"\n",
    "\n",
    "    # ------------------------- per-bucket operations -------------------------\n",
    "\n",
    "    def bucket_getitem(self, j, k):\n",
    "        bucket = self.table[j]\n",
    "        if bucket is None:\n",
    "            raise KeyError(\"Key Error: \" + repr(k))  # no match found\n",
    "        return bucket[k]  # may raise KeyError from the bucket map\n",
    "\n",
    "    def bucket_setitem(self, j, k, v):\n",
    "        if self.table[j] is None:\n",
    "            self.table[j] = UnsortedTableMap()  # create new bucket\n",
    "        old_size = len(self.table[j])\n",
    "        self.table[j][k] = v\n",
    "        if len(self.table[j]) > old_size:       # key was new to this bucket\n",
    "            self.n += 1                         # increase overall map size\n",
    "\n",
    "    def bucket_delitem(self, j, k):\n",
    "        bucket = self.table[j]\n",
    "        if bucket is None:\n",
    "            raise KeyError(\"Key Error: \" + repr(k))  # no match found\n",
    "        del bucket[k]  # may raise KeyError from the bucket map\n",
    "\n",
    "    # ------------------------------ iteration -------------------------------\n",
    "\n",
    "    def __iter__(self):\n",
    "        for bucket in self.table:\n",
    "            if bucket is not None:              # a nonempty bucket\n",
    "                for key in bucket:\n",
    "                    yield key\n"
   ]
  },
  {
   "cell_type": "code",
   "execution_count": null,
   "id": "2462430d-e34b-4663-bff8-11f33000ee34",
   "metadata": {},
   "outputs": [],
   "source": [
    "Code Fragment 10.6: Concrete ProbeHashMap class that uses linear probing for collision resolution.\n",
    "(Continued in Code Fragment 10.7)"
   ]
  },
  {
   "cell_type": "code",
   "execution_count": null,
   "id": "45b6f907-9ad9-477a-bde0-3e52e2405a0c",
   "metadata": {},
   "outputs": [],
   "source": [
    "\n",
    "class ProbeHashMap(HashMapBase):\n",
    "    \"\"\"Hash map implemented with linear probing for collision resolution.\"\"\"\n",
    "\n",
    "    AVAIL = object()  # sentinel marks locations of previous deletions\n",
    "\n",
    "    # ---------------------------- utilities ----------------------------\n",
    "\n",
    "    def is_available(self, j):\n",
    "        \"\"\"Return True if index j is available in table (either empty or formerly used).\"\"\"\n",
    "        return self.table[j] is None or self.table[j] is ProbeHashMap.AVAIL\n",
    "\n",
    "    def find_slot(self, j, k):\n",
    "        \"\"\"Search for key k starting at index j using linear probing.\n",
    "\n",
    "        Return (success, index) where:\n",
    "          - If a match is found, success is True and index is the location.\n",
    "          - If no match is found, success is False and index is the first available slot.\n",
    "        \"\"\"\n",
    "        first_avail = None\n",
    "        while True:\n",
    "            if self.is_available(j):\n",
    "                if first_avail is None:\n",
    "                    first_avail = j  # mark first available slot\n",
    "                if self.table[j] is None:\n",
    "                    # Reached an empty slot: search has failed; return first available\n",
    "                    return (False, first_avail)\n",
    "            elif k == self.table[j]._key:\n",
    "                return (True, j)  # found a match\n",
    "            j = (j + 1) % len(self.table)  # continue probing cyclically\n"
   ]
  },
  {
   "cell_type": "code",
   "execution_count": null,
   "id": "0b7ee5d8-ead4-460d-bd39-82634efaa840",
   "metadata": {},
   "outputs": [],
   "source": [
    "Code Fragment 10.7:\n",
    "Concrete ProbeHashMap class that uses linear probing for collision resolution\n",
    "(continued from Code Fragment 10.6)."
   ]
  },
  {
   "cell_type": "code",
   "execution_count": null,
   "id": "dd9884e5-3edc-4007-ac81-9e029de2e279",
   "metadata": {},
   "outputs": [],
   "source": [
    "\n",
    "class ProbeHashMap(HashMapBase):\n",
    "    \"\"\"Hash map implemented with linear probing for collision resolution.\"\"\"\n",
    "\n",
    "    AVAIL = object()  # sentinel to mark a vacated slot\n",
    "\n",
    "    # ---------------------------- utilities (from 10.6) ----------------------------\n",
    "    def is_available(self, j):\n",
    "        \"\"\"Return True if index j is available (empty or formerly used).\"\"\"\n",
    "        return self.table[j] is None or self.table[j] is ProbeHashMap.AVAIL\n",
    "\n",
    "    def find_slot(self, j, k):\n",
    "        \"\"\"Search for key k starting at index j using linear probing.\n",
    "\n",
    "        Return (found, s) where:\n",
    "          - found == True and s is the index with matching key\n",
    "          - found == False and s is the first available slot\n",
    "        \"\"\"\n",
    "        first_avail = None\n",
    "        while True:\n",
    "            if self.is_available(j):\n",
    "                if first_avail is None:\n",
    "                    first_avail = j\n",
    "                if self.table[j] is None:            # empty slot: search fails\n",
    "                    return (False, first_avail)\n",
    "            elif k == self.table[j]._key:            # found a match\n",
    "                return (True, j)\n",
    "            j = (j + 1) % len(self.table)            # probe cyclically\n",
    "\n",
    "    # ---------------------------- per-bucket ops ----------------------------\n",
    "\n",
    "    def bucket_getitem(self, j, k):\n",
    "        found, s = self.find_slot(j, k)\n",
    "        if not found:\n",
    "            raise KeyError(\"Key Error: \" + repr(k))\n",
    "        return self.table[s]._value\n",
    "\n",
    "    def bucket_setitem(self, j, k, v):\n",
    "        found, s = self.find_slot(j, k)\n",
    "        if not found:                                 # insert new item\n",
    "            self.table[s] = self._Item(k, v)\n",
    "            self.n += 1\n",
    "        else:                                         # overwrite existing\n",
    "            self.table[s]._value = v\n",
    "\n",
    "    def bucket_delitem(self, j, k):\n",
    "        found, s = self.find_slot(j, k)\n",
    "        if not found:\n",
    "            raise KeyError(\"Key Error: \" + repr(k))\n",
    "        self.table[s] = ProbeHashMap.AVAIL            # mark as vacated\n",
    "\n",
    "    # ---------------------------- iteration ----------------------------\n",
    "\n",
    "    def __iter__(self):\n",
    "        for j in range(len(self.table)):              # scan entire table\n",
    "            if not self.is_available(j):\n",
    "                yield self.table[j]._key\n"
   ]
  },
  {
   "cell_type": "code",
   "execution_count": null,
   "id": "d76ad02e-77b4-4a2d-9f7e-0022e99aabf2",
   "metadata": {},
   "outputs": [],
   "source": [
    " In this section, we introduce an extension known as the sorted map ADT that\n",
    " includes all behaviors of the standard map, plus the following:"
   ]
  },
  {
   "cell_type": "markdown",
   "id": "1f3ed3cb-fd09-4ccf-9839-87f4e157ea7b",
   "metadata": {},
   "source": [
    "| Operation                   | Description |\n",
    "|-----------------------------|-------------|\n",
    "| `M.find_min()`              | Return the `(key, value)` pair with the **minimum key** (or `None` if the map is empty). |\n",
    "| `M.find_max()`              | Return the `(key, value)` pair with the **maximum key** (or `None` if the map is empty). |\n",
    "| `M.find_lt(k)`              | Return the `(key, value)` pair with the **greatest key strictly less than `k`** (or `None` if no such item exists). |\n",
    "| `M.find_le(k)`              | Return the `(key, value)` pair with the **greatest key less than or equal to `k`** (or `None` if no such item exists). |\n",
    "| `M.find_gt(k)`              | Return the `(key, value)` pair with the **least key strictly greater than `k`** (or `None` if no such item exists). |\n",
    "| `M.find_ge(k)`              | Return the `(key, value)` pair with the **least key greater than or equal to `k`** (or `None` if no such item exists). |\n",
    "| `M.find_range(start, stop)` | Iterate all `(key, value)` pairs with `start <= key < stop`. If `start` is `None`, iteration begins with the minimum key; if `stop` is `None`, iteration ends with the maximum key. |\n",
    "| `iter(M)`                   | Iterate all keys of the map in **natural (ascending) order**. |\n",
    "| `reversed(M)`               | Iterate all keys of the map in **reverse order**. |\n"
   ]
  },
  {
   "cell_type": "code",
   "execution_count": null,
   "id": "8ade89be-10ff-46e2-ae0e-2cf691c66d84",
   "metadata": {},
   "outputs": [],
   "source": [
    "Code Fragments 10.8–10.10:\n",
    "SortedTableMap — a sorted map implemented with a sorted Python list and binary search."
   ]
  },
  {
   "cell_type": "code",
   "execution_count": null,
   "id": "3cdf98c9-be97-4cee-abdc-cb60368e04fb",
   "metadata": {},
   "outputs": [],
   "source": [
    "\n",
    "\n",
    "class SortedTableMap(MapBase):\n",
    "    \"\"\"Map implementation using a sorted table (list of _Item), kept ordered by key.\"\"\"\n",
    "\n",
    "    # ----------------------------- nonpublic behaviors -----------------------------\n",
    "    def _find_index(self, k, low, high):\n",
    "        \"\"\"Return index of leftmost item with key >= k within table[low:high+1].\n",
    "        Return high+1 if no such item qualifies.\n",
    "\n",
    "        That is, j will be returned such that:\n",
    "          - all items in table[low : j]     have key < k\n",
    "          - all items in table[j : high+1]  have key >= k\n",
    "        \"\"\"\n",
    "        if high < low:\n",
    "            return high + 1                       # no element qualifies\n",
    "        mid = (low + high) // 2\n",
    "        if k == self._table[mid]._key:\n",
    "            return mid                            # found exact match\n",
    "        elif k < self._table[mid]._key:\n",
    "            return self._find_index(k, low, mid - 1)   # may return mid\n",
    "        else:\n",
    "            return self._find_index(k, mid + 1, high)  # answer is right of mid\n",
    "\n",
    "    # ----------------------------- public behaviors -----------------------------\n",
    "    def __init__(self):\n",
    "        \"\"\"Create an empty map.\"\"\"\n",
    "        self._table = []  # list of MapBase._Item, sorted by _key\n",
    "\n",
    "    def __len__(self):\n",
    "        \"\"\"Return number of items in the map.\"\"\"\n",
    "        return len(self._table)\n",
    "\n",
    "    def __getitem__(self, k):\n",
    "        \"\"\"Return value associated with key k (raise KeyError if not found).\"\"\"\n",
    "        j = self._find_index(k, 0, len(self._table) - 1)\n",
    "        if j == len(self._table) or self._table[j]._key != k:\n",
    "            raise KeyError(\"Key Error: \" + repr(k))\n",
    "        return self._table[j]._value\n",
    "\n",
    "    def __setitem__(self, k, v):\n",
    "        \"\"\"Assign value v to key k, overwriting existing value if present.\"\"\"\n",
    "        j = self._find_index(k, 0, len(self._table) - 1)\n",
    "        if j < len(self._table) and self._table[j]._key == k:\n",
    "            self._table[j]._value = v            # overwrite\n",
    "        else:\n",
    "            self._table.insert(j, self._Item(k, v))  # add new item at position j\n",
    "\n",
    "    def __delitem__(self, k):\n",
    "        \"\"\"Remove item associated with key k (raise KeyError if not found).\"\"\"\n",
    "        j = self._find_index(k, 0, len(self._table) - 1)\n",
    "        if j == len(self._table) or self._table[j]._key != k:\n",
    "            raise KeyError(\"Key Error: \" + repr(k))\n",
    "        self._table.pop(j)\n",
    "\n",
    "    def __iter__(self):\n",
    "        \"\"\"Generate keys of the map ordered from minimum to maximum.\"\"\"\n",
    "        for\n"
   ]
  },
  {
   "cell_type": "code",
   "execution_count": null,
   "id": "e8f53ce7-9e1d-44d0-a3e8-b438709c366b",
   "metadata": {},
   "outputs": [],
   "source": [
    " Table 10.3: Performance of a sorted map, as implemented with SortedTableMap.\n",
    " We use n to denote the number of items in the map at the time the operation is\n",
    " performed. The space requirement is O(n)."
   ]
  },
  {
   "cell_type": "markdown",
   "id": "28434808-1dbc-47de-9a18-b7fed2254394",
   "metadata": {},
   "source": [
    "| Operation                      | Running Time                                                |\n",
    "| ------------------------------ | ----------------------------------------------------------- |\n",
    "| `len(M)`                       | **O(1)**                                                    |\n",
    "| `k in M`                       | **O(log n)**                                                |\n",
    "| `M[k] = v`                     | **O(n)** worst case; **O(log n)** if `k` exists             |\n",
    "| `del M[k]`                     | **O(n)** worst case                                         |\n",
    "| `M.find_min()`, `M.find_max()` | **O(1)**                                                    |\n",
    "| `M.find_lt(k)`, `M.find_gt(k)` | **O(log n)**                                                |\n",
    "| `M.find_le(k)`, `M.find_ge(k)` | **O(log n)**                                                |\n",
    "| `M.find_range(start, stop)`    | **O(s + log n)**, where `s` is the number of items reported |\n",
    "| `iter(M)`, `reversed(M)`       | **O(n)**                                                    |\n"
   ]
  },
  {
   "cell_type": "code",
   "execution_count": null,
   "id": "e75451e9-8da5-4484-a92a-a6b26a812738",
   "metadata": {},
   "outputs": [],
   "source": [
    "Code Fragment 10.11:\n",
    "A class maintaining a set of maximal (cost, performance) pairs using a sorted map."
   ]
  },
  {
   "cell_type": "code",
   "execution_count": null,
   "id": "1bd9d425-d092-4707-b7fc-2c194e93645f",
   "metadata": {},
   "outputs": [],
   "source": [
    "\n",
    "\n",
    "class CostPerformanceDatabase:\n",
    "    \"\"\"Maintain a database of maximal (cost, performance) pairs.\"\"\"\n",
    "\n",
    "    def __init__(self):\n",
    "        \"\"\"Create an empty database.\"\"\"\n",
    "        self.M = SortedTableMap()  # or any more efficient sorted map\n",
    "\n",
    "    def best(self, c):\n",
    "        \"\"\"Return (cost, performance) pair with largest cost not exceeding c.\n",
    "\n",
    "        Return None if there is no such pair.\n",
    "        \"\"\"\n",
    "        return self.M.find_le(c)\n",
    "\n",
    "    def add(self, c, p):\n",
    "        \"\"\"Add new entry with cost c and performance p, maintaining only non-dominated pairs.\"\"\"\n",
    "        # Is (c, p) dominated by an existing pair?\n",
    "        other = self.M.find_le(c)                 # other is at least as cheap as c\n",
    "        if other is not None and other[1] >= p:   # performance is as good or better\n",
    "            return                                # (c, p) is dominated; ignore\n",
    "\n",
    "        # Otherwise, add (c, p) to the database\n",
    "        self.M[c] = p\n",
    "\n",
    "        # Remove any pairs that are dominated by (c, p)\n",
    "        other = self.M.find_gt(c)                 # strictly more expensive than c\n",
    "        while other is not None and other[1] <= p:\n",
    "            del self.M[other[0]]\n",
    "            other = self.M.find_gt(c)\n"
   ]
  },
  {
   "cell_type": "code",
   "execution_count": null,
   "id": "e623d214-cc5f-4d86-99dd-d218d1f1f533",
   "metadata": {},
   "outputs": [],
   "source": [
    "Code Fragment 10.12: Algorthm to search a skip list S for key k."
   ]
  },
  {
   "cell_type": "code",
   "execution_count": null,
   "id": "6740f54d-c625-4807-b79e-0f84926b2cd2",
   "metadata": {},
   "outputs": [],
   "source": [
    "Algorithm SkipSearch(k):\n",
    "    Input:  A search key k\n",
    "    Output: Position p in the bottom list S0 with the largest key such that key(p) ≤ k\n",
    "\n",
    "    p = start                    # begin at the start position (top-left of skip list)\n",
    "\n",
    "    while below(p) ≠ None:        # while there is a lower level\n",
    "        p = below(p)              # drop down one level\n",
    "        while k ≥ key(next(p)):   # scan forward while next node's key ≤ k\n",
    "            p = next(p)\n",
    "\n",
    "    return p                      # position in S0 where key(p) ≤ k\n"
   ]
  },
  {
   "cell_type": "code",
   "execution_count": null,
   "id": "eed13578-57df-4476-a3a7-1d1043f65eb7",
   "metadata": {},
   "outputs": [],
   "source": [
    "Explanation:\n",
    "\n",
    "start refers to the top-left sentinel of the skip list.\n",
    "\n",
    "The outer loop moves vertically down the skip list level-by-level (below(p)), starting from the highest level until we reach the bottom list S0.\n",
    "\n",
    "The inner loop moves horizontally (next(p)) as long as the next node's key is ≤ the search key k.\n",
    "\n",
    "Once you reach the bottom list, you return p, the position with the largest key ≤ k."
   ]
  },
  {
   "cell_type": "code",
   "execution_count": null,
   "id": "d1f4d1a0-f517-4d45-bb88-3fe37b44bf9d",
   "metadata": {},
   "outputs": [],
   "source": [
    " Code Fragment10.13: Insertion in a skip list. Method coinFlip() returns “heads” or\n",
    " “tails”, each with probability 1/2. Instance variables n, h,ands hold the number\n",
    " of entries, the height, and the start node of the skip list."
   ]
  },
  {
   "cell_type": "code",
   "execution_count": null,
   "id": "3f8811af-e057-4185-93d3-32487248bb13",
   "metadata": {},
   "outputs": [],
   "source": [
    "Algorithm SkipInsert(k, v):\n",
    "    Input:  Key k and value v\n",
    "    Output: Topmost position of the item inserted in the skip list\n",
    "\n",
    "    p = SkipSearch(k)   # Find position where k should be inserted\n",
    "    q = None            # q will be the top node in the new item's tower\n",
    "    i = -1              # Level counter\n",
    "\n",
    "    repeat:\n",
    "        i = i + 1\n",
    "\n",
    "        # If we need to add a new level to the skip list\n",
    "        if i >= h:\n",
    "            h = h + 1\n",
    "            t = next(s)\n",
    "            s = insertAfterAbove(None, s, (-∞, None))   # Grow leftmost tower\n",
    "            insertAfterAbove(s, t, (+∞, None))          # Grow rightmost tower\n",
    "\n",
    "        # Move left until there is a node above\n",
    "        while above(p) is None:\n",
    "            p = prev(p)\n",
    "\n",
    "        # Move up one level\n",
    "        p = above(p)\n",
    "\n",
    "        # Insert new node above q in this level\n",
    "        q = insertAfterAbove(p, q, (k, v))\n",
    "\n",
    "    until coinFlip() == tails   # Continue with probability 0.5\n",
    "\n",
    "    n = n + 1   # Increase number of elements\n",
    "    return q\n"
   ]
  },
  {
   "cell_type": "code",
   "execution_count": null,
   "id": "8c46b061-8159-4261-87fc-e24a3f241eae",
   "metadata": {},
   "outputs": [],
   "source": [
    "Explanation of Key Steps\n",
    "SkipSearch(k): Finds where the new key k should go in the bottom list.\n",
    "\n",
    "q: Tracks the most recently inserted node so that the next one is stacked above it (forming the “tower” of the skip list node).\n",
    "\n",
    "h: Current height of the skip list.\n",
    "\n",
    "insertAfterAbove(p, q, (k, v)): Inserts a new node after p on this level, directly above q from the level below.\n",
    "\n",
    "Coin flip: Controls how tall the tower for (k, v) will be — with probability 0.5, we go up another level.\n",
    "\n"
   ]
  },
  {
   "cell_type": "code",
   "execution_count": null,
   "id": "ce6ae014-73aa-4f58-8db8-0e89042f2f06",
   "metadata": {},
   "outputs": [],
   "source": [
    "Table 10.4 — Performance of a Sorted Map Implemented with a Skip List"
   ]
  },
  {
   "cell_type": "markdown",
   "id": "d393c602-e953-48ac-b11b-53fb27ac5f79",
   "metadata": {},
   "source": [
    "| Operation                   | Expected Running Time                                  |\r\n",
    "| --------------------------- | ------------------------------------------------------ |\r\n",
    "| `len(M)`                    | **O(1)**                                               |\r\n",
    "| `k in M`                    | **O(log n)**                                           |\r\n",
    "| `M[k] = v`                  | **O(log n)**                                           |\r\n",
    "| `del M[k]`                  | **O(log n)**                                           |\r\n",
    "| `M.find_min()`              | **O(1)**                                               |\r\n",
    "| `M.find_max()`              | **O(1)**                                               |\r\n",
    "| `M.find_lt(k)`              | **O(log n)**                                           |\r\n",
    "| `M.find_gt(k)`              | **O(log n)**                                           |\r\n",
    "| `M.find_le(k)`              | **O(log n)**                                           |\r\n",
    "| `M.find_ge(k)`              | **O(log n)**                                           |\r\n",
    "| `M.find_range(start, stop)` | **O(s + log n)**, where *s* = number of reported items |\r\n",
    "| `iter(M)`                   | **O(n)**                                               |\r\n",
    "| `reversed(M)`               | **O(n)**                                               |\r\n"
   ]
  },
  {
   "cell_type": "code",
   "execution_count": null,
   "id": "cacadd7b-3d39-458e-8c6e-6f533bbb7e5f",
   "metadata": {},
   "outputs": [],
   "source": [
    "Space Requirement:𝑂(𝑛)expected"
   ]
  },
  {
   "cell_type": "code",
   "execution_count": null,
   "id": "082b495b-1f44-40d4-a8b5-6194167a3b7c",
   "metadata": {},
   "outputs": [],
   "source": [
    "Fundamental Behaviors of a Set S in Python"
   ]
  },
  {
   "cell_type": "markdown",
   "id": "1038d95e-1c5b-4c06-888d-6cb143376bac",
   "metadata": {},
   "source": [
    "| Operation      | Description                                                             | Python Implementation         |\n",
    "| -------------- | ----------------------------------------------------------------------- | ----------------------------- |\n",
    "| `S.add(e)`     | Add element `e` to set `S`. Has no effect if `e` is already in `S`.     | `add` method                  |\n",
    "| `S.discard(e)` | Remove element `e` from set `S` if present. No effect if `e` is absent. | `discard` method              |\n",
    "| `e in S`       | Check if element `e` is in set `S`. Returns `True` or `False`.          | `__contains__` special method |\n",
    "| `len(S)`       | Return the number of elements in set `S`.                               | `__len__` special method      |\n",
    "| `iter(S)`      | Generate an iteration over all elements in set `S`.                     | `__iter__` special method     |\n"
   ]
  },
  {
   "cell_type": "code",
   "execution_count": null,
   "id": "a385ad64-2584-49a0-8700-413413f4910a",
   "metadata": {},
   "outputs": [],
   "source": [
    "Notes:\n",
    "\n",
    "Python provides two built-in set types:\n",
    "\n",
    "set → mutable (backed by hash table)\n",
    "\n",
    "frozenset → immutable (also hash table–backed)\n",
    "\n",
    "The collections module provides abstract base classes:\n",
    "\n",
    "collections.Set ≈ frozenset behavior (immutable)\n",
    "\n",
    "collections.MutableSet ≈ set behavior (mutable)"
   ]
  },
  {
   "cell_type": "code",
   "execution_count": null,
   "id": "2527015d-1bbe-4a41-8c3f-4ea855452728",
   "metadata": {},
   "outputs": [],
   "source": [
    "Python Set ADT — Complete Behavior Reference"
   ]
  },
  {
   "cell_type": "markdown",
   "id": "3af850a5-7fab-4b94-ab60-4f50bde662b5",
   "metadata": {},
   "source": [
    "| **Category**                                | **Operation**     | **Description**                                                | **Python Implementation / Special Method** |           |\n",
    "| ------------------------------------------- | ----------------- | -------------------------------------------------------------- | ------------------------------------------ | --------- |\n",
    "| **Fundamentals**                            | `S.add(e)`        | Add element `e` to set `S` (no effect if present)              | `add`                                      |           |\n",
    "|                                             | `S.discard(e)`    | Remove element `e` if present (no error if absent)             | `discard`                                  |           |\n",
    "|                                             | `e in S`          | Return `True` if `e` in set `S`                                | `__contains__`                             |           |\n",
    "|                                             | `len(S)`          | Return number of elements in set `S`                           | `__len__`                                  |           |\n",
    "|                                             | `iter(S)`         | Iterate over all elements in set `S`                           | `__iter__`                                 |           |\n",
    "| **Element Removal**                         | `S.remove(e)`     | Remove `e` from set; raise `KeyError` if not found             | `remove`                                   |           |\n",
    "|                                             | `S.pop()`         | Remove and return arbitrary element; raise `KeyError` if empty | `pop`                                      |           |\n",
    "|                                             | `S.clear()`       | Remove all elements from the set                               | `clear`                                    |           |\n",
    "| **Set Comparisons**                         | `S == T`          | `True` if `S` and `T` have identical contents                  | `__eq__`                                   |           |\n",
    "|                                             | `S != T`          | `True` if `S` and `T` differ                                   | `__ne__`                                   |           |\n",
    "|                                             | `S <= T`          | `True` if `S` is subset of `T`                                 | `__le__`                                   |           |\n",
    "|                                             | `S < T`           | `True` if `S` is proper subset of `T`                          | `__lt__`                                   |           |\n",
    "|                                             | `S >= T`          | `True` if `S` is superset of `T`                               | `__ge__`                                   |           |\n",
    "|                                             | `S > T`           | `True` if `S` is proper superset of `T`                        | `__gt__`                                   |           |\n",
    "|                                             | `S.isdisjoint(T)` | `True` if `S` and `T` share no elements                        | `isdisjoint`                               |           |\n",
    "| **Set Theory Operations (Return New Set)**  | \\`S               | T\\`                                                            | Union of `S` and `T`                       | `__or__`  |\n",
    "|                                             | `S & T`           | Intersection of `S` and `T`                                    | `__and__`                                  |           |\n",
    "|                                             | `S ^ T`           | Symmetric difference (elements in exactly one set)             | `__xor__`                                  |           |\n",
    "|                                             | `S - T`           | Difference (elements in `S` not in `T`)                        | `__sub__`                                  |           |\n",
    "| **Set Theory Operations (Update In Place)** | \\`S               | = T\\`                                                          | Update `S` to union with `T`               | `__ior__` |\n",
    "|                                             | `S &= T`          | Update `S` to intersection with `T`                            | `__iand__`                                 |           |\n",
    "|                                             | `S ^= T`          | Update `S` to symmetric difference with `T`                    | `__ixor__`                                 |           |\n",
    "|                                             | `S -= T`          | Update `S` to remove all elements also in `T`                  | `__isub__`                                 |           |\n"
   ]
  },
  {
   "cell_type": "code",
   "execution_count": null,
   "id": "8fc8424e-fccb-451c-beec-5a4bde5d4b47",
   "metadata": {},
   "outputs": [],
   "source": [
    "Code Fragment 10.14: A possible implementation of the MutableSet. lt\n",
    " method, which tests if one set is a proper subset of another."
   ]
  },
  {
   "cell_type": "code",
   "execution_count": null,
   "id": "a19165bc-ad11-4804-bb9a-05f49adeaba0",
   "metadata": {},
   "outputs": [],
   "source": [
    "def __lt__(self, other):\n",
    "    \"\"\"Return True if this set is a proper subset of other.\"\"\"\n",
    "    \n",
    "    # A proper subset must have strictly fewer elements\n",
    "    if len(self) >= len(other):\n",
    "        return False\n",
    "    \n",
    "    # Check that every element in self is also in other\n",
    "    for e in self:\n",
    "        if e not in other:\n",
    "            return False  # Found an element missing in other\n",
    "    \n",
    "    return True  # All conditions for proper subset are met\n"
   ]
  },
  {
   "cell_type": "code",
   "execution_count": null,
   "id": "c3d0aa76-f2d1-4e48-ad36-14f16c0b855d",
   "metadata": {},
   "outputs": [],
   "source": [
    " Code Fragment 10.15: An implementation of the MutableSet. or method,\n",
    " which computes the union of two existing sets."
   ]
  },
  {
   "cell_type": "code",
   "execution_count": null,
   "id": "c4069228-d341-466d-84f6-cfbc9ae87741",
   "metadata": {},
   "outputs": [],
   "source": [
    "def __or__(self, other):\n",
    "    \"\"\"Return a new set that is the union of two existing sets.\"\"\"\n",
    "    \n",
    "    # Create a new instance of the same concrete class\n",
    "    result = type(self)()\n",
    "    \n",
    "    # Add all elements from self\n",
    "    for e in self:\n",
    "        result.add(e)\n",
    "    \n",
    "    # Add all elements from other\n",
    "    for e in other:\n",
    "        result.add(e)\n",
    "    \n",
    "    return result\n"
   ]
  },
  {
   "cell_type": "code",
   "execution_count": null,
   "id": "f6275863-016f-4738-b706-47c10702a972",
   "metadata": {},
   "outputs": [],
   "source": [
    "Code Fragment 10.16: An implementation of the MutableSet. ior method,\n",
    " which performs an in-place union of one set with another."
   ]
  },
  {
   "cell_type": "code",
   "execution_count": null,
   "id": "2ad6e736-c127-4e81-882d-a048fd67a0bb",
   "metadata": {},
   "outputs": [],
   "source": [
    "def __ior__(self, other):\n",
    "    \"\"\"Modify this set to be the union of itself and another set.\"\"\"\n",
    "    \n",
    "    # Add all elements from other into self\n",
    "    for e in other:\n",
    "        self.add(e)\n",
    "    \n",
    "    # Return self to satisfy the in-place operator protocol\n",
    "    return self\n"
   ]
  },
  {
   "cell_type": "code",
   "execution_count": null,
   "id": "b7fb8c83-2b53-4aa0-aa0a-67d36df2e525",
   "metadata": {},
   "outputs": [],
   "source": [
    " Code Fragment10.17:An implementation of a Multi Map using adict for storage.\n",
    " The len method,which returns self. n,is omitted from this listing."
   ]
  },
  {
   "cell_type": "code",
   "execution_count": null,
   "id": "a3d8cba7-a497-468a-9bbc-5163a32618fd",
   "metadata": {},
   "outputs": [],
   "source": [
    "class MultiMap:\n",
    "    \"\"\"A multimap class built upon use of an underlying map for storage.\"\"\"\n",
    "    \n",
    "    MapType = dict  # Map type; can be redefined by subclass\n",
    "\n",
    "    def __init__(self):\n",
    "        \"\"\"Create a new empty multimap instance.\"\"\"\n",
    "        self.map = self.MapType()  # create map instance for storage\n",
    "        self.n = 0\n",
    "\n",
    "    def __iter__(self):\n",
    "        \"\"\"Iterate through all (k, v) pairs in the multimap.\"\"\"\n",
    "        for k, secondary in self.map.items():\n",
    "            for v in secondary:\n",
    "                yield (k, v)\n",
    "\n",
    "    def add(self, k, v):\n",
    "        \"\"\"Add pair (k, v) to multimap.\"\"\"\n",
    "        container = self.map.setdefault(k, [])\n",
    "        container.append(v)\n",
    "        self.n += 1\n",
    "\n",
    "    def pop(self, k):\n",
    "        \"\"\"Remove and return arbitrary (k, v) with key k (or raise KeyError).\"\"\"\n",
    "        secondary = self.map[k]  # may raise KeyError\n",
    "        v = secondary.pop()\n",
    "        if len(secondary) == 0:\n",
    "            del self.map[k]\n",
    "        self.n -= 1\n",
    "        return (k, v)\n",
    "\n",
    "    def find(self, k):\n",
    "        \"\"\"Return arbitrary (k, v) pair with given key (or raise KeyError).\"\"\"\n",
    "        secondary = self.map[k]  # may raise KeyError\n",
    "        return (k, secondary[0])\n",
    "\n",
    "    def find_all(self, k):\n",
    "        \"\"\"Generate iteration of all (k, v) pairs with given key.\"\"\"\n",
    "        secondary = self.map.get(k, [])  # empty list by default\n",
    "        for v in secondary:\n",
    "            yield (k, v)\n",
    "\n",
    "    def __len__(self):\n",
    "        \"\"\"Return total number of (k, v) pairs in multimap.\"\"\"\n",
    "        return self.n\n"
   ]
  },
  {
   "cell_type": "code",
   "execution_count": null,
   "id": "a1039146-7ba9-476d-89e1-7ea0b9f01ac4",
   "metadata": {},
   "outputs": [],
   "source": [
    "### Chapter 10 Maps, Hashtables, and skip lists exercises R10.1-R10.27"
   ]
  },
  {
   "cell_type": "code",
   "execution_count": null,
   "id": "0d3f07be-d0b7-4643-b452-78318bb12271",
   "metadata": {},
   "outputs": [],
   "source": [
    " R-10.1 Give a concrete implementation of the pop method in the context of the\n",
    " MutableMapping class, relying only on the five primary abstract methods\n",
    " of that class.\n"
   ]
  },
  {
   "cell_type": "code",
   "execution_count": null,
   "id": "9f1771f0-7f0e-4709-8956-3bd5d4c78454",
   "metadata": {},
   "outputs": [],
   "source": [
    "def pop(self, key, default=None):\n",
    "    try:\n",
    "        value = self[key]\n",
    "        del self[key]\n",
    "        return value\n",
    "    except KeyError:\n",
    "        if default is not None:\n",
    "            return default\n",
    "        else:\n",
    "            raise\n"
   ]
  },
  {
   "cell_type": "code",
   "execution_count": null,
   "id": "407d18c6-206f-4e96-82fc-4bd152f58b9a",
   "metadata": {},
   "outputs": [],
   "source": [
    " R-10.2 Give a concrete implementation of the items() method in the context of\n",
    " the MutableMappingclass, relying only on the five primary abstract meth\n",
    "ods of that class. What would its running time be if directly applied to the\n",
    " UnsortedTableMap subclass?\n",
    " "
   ]
  },
  {
   "cell_type": "code",
   "execution_count": null,
   "id": "7c377b93-dbf5-440d-bf91-92244179d28d",
   "metadata": {},
   "outputs": [],
   "source": [
    "def items(self):\n",
    "    for key in self:             # uses __iter__()\n",
    "        value = self[key]        # uses __getitem__()\n",
    "        yield (key, value)\n"
   ]
  },
  {
   "cell_type": "markdown",
   "id": "2a13225e-8178-4e0a-9610-e2813437fa82",
   "metadata": {},
   "source": [
    "This items() method loops through the keys using the __iter__() method (which is required for all MutableMapping subclasses). Then for each key, it retrieves the corresponding value using __getitem__(), and yields a (key, value) pair.\n",
    "\n",
    "Even though Python's built-in dictionaries have a super-efficient items() method, here we're pretending we're in a generic abstract mapping class — so we can only use the five base methods.\n",
    "\n",
    "We do not use any shortcuts like accessing an internal storage structure (self._table or self._data) because that wouldn’t be valid for all possible subclasses.\n",
    "\n",
    "In UnsortedTableMap, here's what happens:\n",
    "\n",
    "__iter__() is O(n) (it just yields each key from the list of items)\n",
    "\n",
    "__getitem__(key) is O(n) in the worst case (since it linearly searches for the key)\n",
    "\n",
    "So for each of the n keys, we could take up to O(n) time to get the value.\n",
    "\n",
    "Thus, total time is:\n",
    "O(n) * O(n) = O(n²)\n",
    "\n",
    "This makes the items() method quadratic in the worst case if you apply it directly to UnsortedTableMap. Not ideal for performance, but still valid for correctness."
   ]
  },
  {
   "cell_type": "code",
   "execution_count": null,
   "id": "bcbcfa78-3433-42aa-a8ae-0e2d44480cde",
   "metadata": {},
   "outputs": [],
   "source": [
    "R-10.3 Give a concrete implementation of the items() method directly within the\n",
    " UnsortedTableMap class, ensuring that the entire iteration runs in O(n)\n",
    " time.\n"
   ]
  },
  {
   "cell_type": "code",
   "execution_count": null,
   "id": "002e1fc3-d2ba-4df6-ad32-e99be2a18199",
   "metadata": {},
   "outputs": [],
   "source": [
    "def items(self):\n",
    "    for item in self._table:\n",
    "        yield (item._key, item._value)\n"
   ]
  },
  {
   "cell_type": "code",
   "execution_count": null,
   "id": "8efb6829-1e6a-4a9b-ba2b-1e9aaf6ab408",
   "metadata": {},
   "outputs": [],
   "source": [
    "In UnsortedTableMap, we already store all our entries in a Python list called self._table. Each element in this list is a _Item object, which has .key and .value (or _key, _value) attributes.\n",
    "\n",
    "This items() method just loops over each element of that list and yields the key-value pair.\n",
    "\n",
    "There are n entries in the map.\n",
    "\n",
    "We loop over them once.\n",
    "\n",
    "We don’t do any searching inside the loop.\n",
    "\n",
    "So the total time is O(n) — exactly what we want "
   ]
  },
  {
   "cell_type": "code",
   "execution_count": null,
   "id": "2774b229-21f1-4efc-9e30-26ad456a1fb0",
   "metadata": {},
   "outputs": [],
   "source": [
    " R-10.4 What is the worst-case running time for inserting n key-value pairs into an\n",
    " initially empty map M that is implemented with the UnsortedTableMap\n",
    " class?\n"
   ]
  },
  {
   "cell_type": "code",
   "execution_count": null,
   "id": "0ae6e43f-b783-49ad-bbe4-a2b98a117189",
   "metadata": {},
   "outputs": [],
   "source": [
    "The worst-case running time to insert n key-value pairs into an initially empty UnsortedTableMap is O(n²), because each insertion may require a linear search through the list to check for duplicate keys."
   ]
  },
  {
   "cell_type": "code",
   "execution_count": null,
   "id": "779712f4-9188-4f26-9b7f-4b70dee60298",
   "metadata": {},
   "outputs": [],
   "source": [
    " R-10.5 Reimplement the UnsortedTableMap class from Section 10.1.5, using the\n",
    " PositionalList class from Section 7.4 rather than a Python list.\n"
   ]
  },
  {
   "cell_type": "code",
   "execution_count": null,
   "id": "0c07de55-82a0-4a30-a7a1-2d3c03efb26c",
   "metadata": {},
   "outputs": [],
   "source": [
    "#skipped since we don't go over chapter 7"
   ]
  },
  {
   "cell_type": "code",
   "execution_count": null,
   "id": "9bb01df7-ad55-47cf-8e31-4abbd8c4a344",
   "metadata": {},
   "outputs": [],
   "source": [
    " R-10.6 Which of the hash table collision-handling schemes could tolerate a load\n",
    " factor above 1 and which could not?\n"
   ]
  },
  {
   "cell_type": "code",
   "execution_count": null,
   "id": "eced4234-ae0f-475e-a5b2-26bc6b27de63",
   "metadata": {},
   "outputs": [],
   "source": [
    "Separate Chaining could,\n",
    "Linear Probing, Quadratic Probing, and Double Hashing, could not"
   ]
  },
  {
   "cell_type": "code",
   "execution_count": null,
   "id": "783cd1eb-8849-47e7-8908-59bc9b159bac",
   "metadata": {},
   "outputs": [],
   "source": [
    " R-10.7 Our Position classes for lists and trees support the eq method so that\n",
    " twodistinct position instances are considered equivalent if they refer to the\n",
    " same underlying node in a structure. For positions to be allowed as keys\n",
    " in a hash table, there must be a definition for the hash method that\n",
    " is consistent with this notion of equivalence. Provide such a hash\n",
    " method.\n",
    " "
   ]
  },
  {
   "cell_type": "code",
   "execution_count": null,
   "id": "b500de2f-4196-481b-9ee8-611504d8aa17",
   "metadata": {},
   "outputs": [],
   "source": [
    "def __hash__(self):\n",
    "    \"\"\"Hash based on the unique identifier of the node this position wraps.\"\"\"\n",
    "    return hash(id(self._node))\n"
   ]
  },
  {
   "cell_type": "code",
   "execution_count": null,
   "id": "fd4c064f-6d3b-407e-812a-eb55891207b0",
   "metadata": {},
   "outputs": [],
   "source": [
    "R-10.8 What would be a good hash code for a vehicle identification number that\n",
    " is a string of numbers and letters of the form “9X9XX99X9XX999999,”\n",
    " where a “9” represents a digit and an “X” represents a letter?"
   ]
  },
  {
   "cell_type": "code",
   "execution_count": null,
   "id": "6d1cfa79-9a21-4815-987e-5403a724c7ed",
   "metadata": {},
   "outputs": [],
   "source": [
    "def hash_vin(vin, base=36, prime=109345121):\n",
    "    hash_code = 0\n",
    "    for char in vin:\n",
    "        if char.isdigit():\n",
    "            val = int(char)\n",
    "        else:\n",
    "            val = ord(char.upper()) - ord('A') + 10  # A-Z => 10-35\n",
    "        hash_code = (hash_code * base + val) % prime\n",
    "    return hash_code\n"
   ]
  },
  {
   "cell_type": "code",
   "execution_count": null,
   "id": "1e590863-c08f-419c-9d15-88f6251d3f8f",
   "metadata": {},
   "outputs": [],
   "source": [
    "R-10.9 Draw the 11-entry hash table that results from using the hash function,\n",
    " h(i)=(3i+5) mod 11, to hash the keys 12, 44, 13, 88, 23, 94, 11, 39, 20,\n",
    " 16, and 5, assuming collisions are handled by chaining.\n"
   ]
  },
  {
   "cell_type": "code",
   "execution_count": null,
   "id": "8ff478dd-b466-48e2-8b70-fd3bb58208ba",
   "metadata": {},
   "outputs": [],
   "source": [
    "Used the hash function h(i) = (3i + 5) mod 11\n",
    "\n",
    "Handled collisions with chaining\n",
    "\n",
    "Produced a hash table with 11 slots, each slot potentially holding a linked list of entries"
   ]
  },
  {
   "cell_type": "code",
   "execution_count": null,
   "id": "d3dcae3e-ab85-4e90-a41e-f7c1b2f3d7d9",
   "metadata": {},
   "outputs": [],
   "source": [
    " R-10.10 What is the result of the previous exercise, assuming collisions are han\n",
    "dled by linear probing?\n"
   ]
  },
  {
   "cell_type": "markdown",
   "id": "1600d8d0-f7b9-45ce-af02-edd858a65486",
   "metadata": {},
   "source": [
    "| Index | Value |\n",
    "| ----- | ----- |\n",
    "| 0     | 13    |\n",
    "| 1     | 94    |\n",
    "| 2     | 39    |\n",
    "| 3     | 16    |\n",
    "| 4     | 5     |\n",
    "| 5     | 44    |\n",
    "| 6     | 88    |\n",
    "| 7     | 11    |\n",
    "| 8     | 12    |\n",
    "| 9     | 23    |\n",
    "| 10    | 20    |\n"
   ]
  },
  {
   "cell_type": "code",
   "execution_count": null,
   "id": "971dffae-530c-4a1c-9e79-4b12c7d4fe3c",
   "metadata": {},
   "outputs": [],
   "source": [
    " R-10.11 Show the result of Exercise R-10.9, assuming collisions are handled by\n",
    " quadratic probing, up to the point where the method fails.\n"
   ]
  },
  {
   "cell_type": "markdown",
   "id": "a0614706-b4a8-4ef3-864e-8b1d7f0cccfb",
   "metadata": {},
   "source": [
    "| Index | Value |\n",
    "| ----- | ----- |\n",
    "| 0     | 13    |\n",
    "| 1     | 94    |\n",
    "| 2     | 39    |\n",
    "| 3     | 20    |\n",
    "| 4     | 23    |\n",
    "| 5     | 44    |\n",
    "| 6     | 16    |\n",
    "| 7     | 5     |\n",
    "| 8     | 12    |\n",
    "| 9     | 88    |\n",
    "| 10    | 11    |\n"
   ]
  },
  {
   "cell_type": "code",
   "execution_count": null,
   "id": "71a1be6b-e230-4b16-aeed-44d37fd74418",
   "metadata": {},
   "outputs": [],
   "source": [
    " R-10.12 What is the result of Exercise R-10.9 when collisions are handled by dou\n",
    "ble hashing using the secondary hash function h(k)=7−(k mod 7)?"
   ]
  },
  {
   "cell_type": "markdown",
   "id": "31d16510-f8a2-44fc-b5fd-e17e55493414",
   "metadata": {},
   "source": [
    "| Index | Key |\n",
    "| ----- | --- |\n",
    "| 0     | 13  |\n",
    "| 1     | 94  |\n",
    "| 2     | 23  |\n",
    "| 3     | 11  |\n",
    "| 4     | 39  |\n",
    "| 5     | 44  |\n",
    "| 6     | 88  |\n",
    "| 7     | —   |\n",
    "| 8     | 12  |\n",
    "| 9     | 16  |\n",
    "| 10    | 20  |\n"
   ]
  },
  {
   "cell_type": "code",
   "execution_count": null,
   "id": "73f8ea39-7f12-4887-bc3c-54ee97017ce4",
   "metadata": {},
   "outputs": [],
   "source": [
    " R-10.13 What is the worst-case time for putting n entries in an initially empty hash\n",
    " table, with collisions resolved by chaining? What is the best case?"
   ]
  },
  {
   "cell_type": "markdown",
   "id": "fee53bf8-10b8-44d3-9724-0c1be5d3b778",
   "metadata": {},
   "source": [
    "| Case       | Time Complexity | Explanation                                                               |\n",
    "| ---------- | --------------- | ------------------------------------------------------------------------- |\n",
    "| Best Case  | O(n)            | All entries go into separate buckets — no collisions.                     |\n",
    "| Worst Case | O(n²)           | All entries hash to the same bucket — long chain leads to quadratic time. |\n"
   ]
  },
  {
   "cell_type": "code",
   "execution_count": null,
   "id": "c1afd9a4-3829-46d9-bb23-8cf7d04d61b6",
   "metadata": {},
   "outputs": [],
   "source": [
    " R-10.14 Show the result of rehashing the hash table shown in Figure 10.6 into a\n",
    " table of size 19 using the new hash function h(k)=3k mod 17."
   ]
  },
  {
   "cell_type": "code",
   "execution_count": null,
   "id": "3847ef48-714f-413f-9733-b156e8056816",
   "metadata": {},
   "outputs": [],
   "source": [
    "I took the keys from the original table (Figure 10.6), and for each key h(k)=3kmod17. I then placed the keys into the new table of size 19 using these indices. For example, for key 5, h(5)=15, so it goes into index 15. I repeated this process for all the keys, ensuring they were rehashed using the new function."
   ]
  },
  {
   "cell_type": "code",
   "execution_count": null,
   "id": "1d9cef54-8208-4363-91b6-cd2c5b0c9a42",
   "metadata": {},
   "outputs": [],
   "source": [
    "R-10.15 Our HashMapBase class maintains a load factor λ ≤ 0.5. Reimplement\n",
    " that class to allow the user to specify the maximum load, and adjust the\n",
    " concrete subclasses accordingly."
   ]
  },
  {
   "cell_type": "code",
   "execution_count": null,
   "id": "14a3b30a-027e-4bd9-a6c4-ed8ea2e2af58",
   "metadata": {},
   "outputs": [],
   "source": [
    "class HashMapBase(MutableMapping):\n",
    "    def __init__(self, cap=11, p=109345121, max_load=0.5):\n",
    "        self._table = [None] * cap\n",
    "        self._n = 0\n",
    "        self._prime = p\n",
    "        self._scale = 1 + randrange(p - 1)\n",
    "        self._shift = randrange(p)\n",
    "        self._max_load = max_load  # <-- new attribute\n",
    "    def _is_full(self):\n",
    "        return self._n > self._max_load * len(self._table)\n",
    "    def __setitem__(self, k, v):\n",
    "        super().__setitem__(k, v)\n",
    "        if self._is_full():\n",
    "            self._resize(2 * len(self._table) - 1)\n"
   ]
  },
  {
   "cell_type": "code",
   "execution_count": null,
   "id": "81089305-8af1-477f-bce8-1a4493633288",
   "metadata": {},
   "outputs": [],
   "source": [
    " R-10.16 Give a pseudo-code description of an insertion into a hash table that uses\n",
    " quadratic probing to resolve collisions, assuming we also use the trick of\n",
    " replacing deleted entries with a special “deactivated entry” object."
   ]
  },
  {
   "cell_type": "code",
   "execution_count": null,
   "id": "60cb3400-a04d-4b88-9554-395b453678f5",
   "metadata": {},
   "outputs": [],
   "source": [
    "Algorithm Insert(key, value):\n",
    "\n",
    "1. index ← hash(key) mod table_size\n",
    "2. i ← 0\n",
    "\n",
    "3. While True:\n",
    "    a. pos ← (index + i^2) mod table_size\n",
    "\n",
    "    b. If table[pos] is EMPTY or DEACTIVATED:\n",
    "        table[pos] ← (key, value)\n",
    "        return\n",
    "\n",
    "    c. Else if table[pos].key == key:\n",
    "        table[pos].value ← value  // update existing key\n",
    "        return\n",
    "\n",
    "    d. i ← i + 1\n",
    "\n",
    "    e. If i == table_size:\n",
    "        raise Exception(\"Hash table is full\")\n"
   ]
  },
  {
   "cell_type": "code",
   "execution_count": null,
   "id": "2f22ceb6-2dbd-407e-b6e6-4f66c4e26d9c",
   "metadata": {},
   "outputs": [],
   "source": [
    " R-10.17 Modify our ProbeHashMap to use quadratic probing."
   ]
  },
  {
   "cell_type": "code",
   "execution_count": null,
   "id": "921f5517-1240-44a6-80a7-ab90ae6d460e",
   "metadata": {},
   "outputs": [],
   "source": [
    "from .hash_map_base import HashMapBase\n",
    "\n",
    "class QuadraticProbeHashMap(HashMapBase):\n",
    "    \n",
    "    # sentinel for deleted slots\n",
    "    _AVAIL = object()\n",
    "\n",
    "    def _is_available(self, j):\n",
    "        \"\"\"Return True if index j is available in table.\"\"\"\n",
    "        return self._table[j] is None or self._table[j] is QuadraticProbeHashMap._AVAIL\n",
    "\n",
    "    def _find_slot(self, j, k):\n",
    "        \"\"\"Search for key k in bucket at index j using quadratic probing.\n",
    "\n",
    "        Return (success, index) tuple, where success is True if found, False otherwise.\n",
    "        \"\"\"\n",
    "        first_avail = None\n",
    "        i = 0\n",
    "        while True:\n",
    "            pos = (j + i*i) % len(self._table)\n",
    "            if self._is_available(pos):\n",
    "                if first_avail is None:\n",
    "                    first_avail = pos\n",
    "                if self._table[pos] is None:\n",
    "                    return (False, first_avail)\n",
    "            elif self._table[pos]._key == k:\n",
    "                return (True, pos)\n",
    "            i += 1\n",
    "            if i == len(self._table):\n",
    "                raise RuntimeError(\"HashMap is full\")\n",
    "\n",
    "    def __getitem__(self, k):\n",
    "        j = self._hash_function(k)\n",
    "        found, s = self._find_slot(j, k)\n",
    "        if not found:\n",
    "            raise KeyError('Key Error: ' + repr(k))\n",
    "        return self._table[s]._value\n",
    "\n",
    "    def __setitem__(self, k, v):\n",
    "        j = self._hash_function(k)\n",
    "        found, s = self._find_slot(j, k)\n",
    "        if found:\n",
    "            self._table[s]._value = v\n",
    "        else:\n",
    "            self._table[s] = self._Item(k, v)\n",
    "            self._n += 1\n",
    "        if self._n > len(self._table) // 2:\n",
    "            self._resize(2 * len(self._table) - 1)\n",
    "\n",
    "    def __delitem__(self, k):\n",
    "        j = self._hash_function(k)\n",
    "        found, s = self._find_slot(j, k)\n",
    "        if not found:\n",
    "            raise KeyError('Key Error: ' + repr(k))\n",
    "        self._table[s] = QuadraticProbeHashMap._AVAIL\n",
    "        self._n -= 1\n"
   ]
  },
  {
   "cell_type": "code",
   "execution_count": null,
   "id": "3dcd1fa0-fd09-4f17-be1d-34bcf6b59686",
   "metadata": {},
   "outputs": [],
   "source": [
    "R-10.18 Explain why a hash table is not suited to implement a sorted map.\n"
   ]
  },
  {
   "cell_type": "code",
   "execution_count": null,
   "id": "00a408c8-fd08-407b-91e4-68efe3e6fe08",
   "metadata": {},
   "outputs": [],
   "source": [
    " I’d say that a hash table isn’t really a good choice for implementing a sorted map because hash tables don’t keep any order of the keys. They’re great when you want to quickly add, get, or remove things by key, but they don’t store the keys in any kind of sorted structure. So, if you wanted to do something like get the smallest or largest key, or go through the keys in order, a hash table would make that really hard or slow. You’d have to manually sort all the keys every time, which isn’t efficient. Instead, if you need to keep things sorted, it’s better to use something like a balanced binary search tree or another structure that keeps keys in order as you go. Hash tables are super useful, just not for sorted data."
   ]
  },
  {
   "cell_type": "code",
   "execution_count": null,
   "id": "ccd6f522-1b25-43cd-8d5d-3a40ad9389ae",
   "metadata": {},
   "outputs": [],
   "source": [
    " R-10.19 Describe how a sorted list implemented as a doubly linked list could be\n",
    " used to implement the sorted map ADT.\n"
   ]
  },
  {
   "cell_type": "code",
   "execution_count": null,
   "id": "430a9fad-49e1-4ba9-9761-e8ce3079e4fa",
   "metadata": {},
   "outputs": [],
   "source": [
    "I’d say you could use a sorted list implemented as a doubly linked list to build a sorted map by keeping key-value pairs in order by their keys. Since it’s a doubly linked list, you can go forward and backward, which helps with operations like finding the next or previous key. When inserting a new key-value pair, you'd walk through the list to find the correct position to keep everything sorted. That takes O(n) time in the worst case, but once it’s in, everything stays in order. Getting, setting, or deleting a key also takes O(n) time because you might have to search linearly. It’s not the most efficient way for large maps, but it works well if you don’t have a ton of elements and still want to keep them sorted without using a tree structure."
   ]
  },
  {
   "cell_type": "code",
   "execution_count": null,
   "id": "6a3b8f63-c05c-430f-bfcf-7dc12d199817",
   "metadata": {},
   "outputs": [],
   "source": [
    " R-10.20 Whatisthe worst-case asymptotic running time for performing n deletions\n",
    " from a SortedTableMap instance that initially contains 2n entries?\n"
   ]
  },
  {
   "cell_type": "code",
   "execution_count": null,
   "id": "55eb513d-7c8d-4c47-bd9c-60506ae6ef8a",
   "metadata": {},
   "outputs": [],
   "source": [
    "The worst-case asymptotic running time is O(n²)."
   ]
  },
  {
   "cell_type": "code",
   "execution_count": null,
   "id": "c2e32b04-65f9-4c46-94bc-3d54f555e18b",
   "metadata": {},
   "outputs": [],
   "source": [
    " R-10.21 Consider the following variant of the find index method from Code Frag\n",
    "ment 10.8, in the context of the SortedTableMap class:\n",
    " def find index(self,k, low,high):\n",
    " if high < low:\n",
    " return high + 1\n",
    " else:\n",
    " mid = (low + high) // 2\n",
    " if self. table[mid]. key < k:\n",
    " return self. find index(k, mid + 1, high)\n",
    " else:\n",
    " return self. find index(k, low, mid − 1)\n",
    " Does this always produce the same result as the original version? Justify\n",
    " your answer.\n"
   ]
  },
  {
   "cell_type": "code",
   "execution_count": null,
   "id": "f07d490c-7ddf-4bce-a3fc-3b0c6e5f22ae",
   "metadata": {},
   "outputs": [],
   "source": [
    "No, this version does not always produce the same result. It may fail when there are duplicate keys or when determining the correct insertion index. The original version is more precise and safe for maintaining the sorted order required by SortedTableMap."
   ]
  },
  {
   "cell_type": "code",
   "execution_count": null,
   "id": "74cdc1ad-9706-47c3-93a3-ad423e29b090",
   "metadata": {},
   "outputs": [],
   "source": [
    " R-10.22 What is the expected running time of the methods for maintaining a max\n",
    "ima set if we insert n pairs such that each pair has lower cost and perfor\n",
    "mance than one before it? What is contained in the sorted map at the end\n",
    " of this series of operations? What if each pair had a lower cost and higher\n",
    " performance than the one before it?\n"
   ]
  },
  {
   "cell_type": "code",
   "execution_count": null,
   "id": "c73ba4ab-5dcf-4af5-bb4d-361ef7fd5d65",
   "metadata": {},
   "outputs": [],
   "source": [
    "If we insert n pairs into a maxima set where each new pair has a lower cost and lower performance than the previous one, then each new pair is strictly dominated by the one before it. Since the maxima set only keeps non-dominated entries, none of the inserted pairs (after the first) will be added to the map. The expected running time for each insertion is O(log m) where m is the current number of elements in the map, but since the map never grows beyond 1 entry, all insertions are effectively O(log 1) = O(1), making the total expected running time O(n) in this case. The sorted map at the end will contain just one pair — the first one, which dominates all others.\n",
    "\n",
    "On the other hand, if each new pair has a lower cost but higher performance than the previous one, no pair dominates the next. That means each pair will be added to the map, and each new insertion will likely cause deletion of dominated pairs to the right. In this case, insertions may trigger cascading deletions, leading to an overall expected running time of O(n) for insertions and O(n) for deletions across all operations, still making the total expected time O(n). At the end, the sorted map will contain all n pairs because no pair is dominated — lower cost is balanced by higher performance in every step."
   ]
  },
  {
   "cell_type": "code",
   "execution_count": null,
   "id": "32913f46-413b-4b4d-895d-a9e0c63ee5b8",
   "metadata": {},
   "outputs": [],
   "source": [
    " R-10.23 Draw an example skip list S that results from performing the following\n",
    " series of operations on the skip list shown in Figure 10.13: del S[38],\n",
    " S[48] = x ,S[24] = y ,del S[55]. Record your coin flips, as well.\n"
   ]
  },
  {
   "cell_type": "markdown",
   "id": "7ef13552-64bd-491a-96e4-32500f920023",
   "metadata": {},
   "source": [
    "| Key | Coin Flips | Height |\n",
    "| --- | ---------- | ------ |\n",
    "| 48  | H, H, T    | 2      |\n",
    "| 24  | H, T       | 1      |\n"
   ]
  },
  {
   "cell_type": "code",
   "execution_count": null,
   "id": "423852b6-4f8a-40a2-87ff-eb6becfd75b1",
   "metadata": {},
   "outputs": [],
   "source": [
    "\n",
    "R-10.24 Give a pseudo-code description of the delitem map operation when\n",
    " using a skip list.\n"
   ]
  },
  {
   "cell_type": "code",
   "execution_count": null,
   "id": "f6b31265-f3d9-4e72-b4c0-b81e8ad26ac1",
   "metadata": {},
   "outputs": [],
   "source": [
    "def __delitem__(self, key):\n",
    "    # Step 1: Initialize current node as head\n",
    "    current = self._head\n",
    "    found = False\n",
    "    \n",
    "    # Step 2: Create an update list for each level\n",
    "    update = [None] * self._height\n",
    "    \n",
    "    # Step 3: Start from top level and search down\n",
    "    for level in reversed(range(self._height)):\n",
    "        while current._forward[level] is not None and current._forward[level]._key < key:\n",
    "            current = current._forward[level]\n",
    "        update[level] = current  # Track the path\n",
    "    \n",
    "    # Step 4: Move to level 0 and check if the key exists\n",
    "    current = current._forward[0]\n",
    "    if current is not None and current._key == key:\n",
    "        found = True\n",
    "        \n",
    "        # Step 5: Remove the node from each level\n",
    "        for level in range(self._height):\n",
    "            if update[level]._forward[level] == current:\n",
    "                update[level]._forward[level] = current._forward[level]\n",
    "        \n",
    "        # Step 6: Reduce height if levels are empty\n",
    "        while self._height > 1 and self._head._forward[self._height - 1] is None:\n",
    "            self._height -= 1\n",
    "    else:\n",
    "        raise KeyError(\"Key not found\")\n"
   ]
  },
  {
   "cell_type": "code",
   "execution_count": null,
   "id": "171c9a09-383e-4346-9dae-e1312eb39e5d",
   "metadata": {},
   "outputs": [],
   "source": [
    " R-10.25 Give a concrete implementation of the pop method, in the context of a\n",
    " MutableSet abstract base class, that relies only on the five core set behav\n",
    "iors described in Section 10.5.2.\n",
    " "
   ]
  },
  {
   "cell_type": "code",
   "execution_count": null,
   "id": "74b297d2-02d5-4f0b-a4db-c8a59621198e",
   "metadata": {},
   "outputs": [],
   "source": [
    "def pop(self):\n",
    "    \"\"\"Remove and return an arbitrary element from the set.\"\"\"\n",
    "    for e in self:\n",
    "        self.discard(e)\n",
    "        return e\n",
    "    raise KeyError(\"pop from an empty set\")\n"
   ]
  },
  {
   "cell_type": "code",
   "execution_count": null,
   "id": "51ce9f79-20f0-4dcf-9fba-e2fe15e8c316",
   "metadata": {},
   "outputs": [],
   "source": [
    "R-10.26 Give a concrete implementation of the isdisjoint method in the context\n",
    " of the MutableSet abstract base class, relying only on the five primary\n",
    " abstract methods of that class. Your algorithm should run inO(min(n,m))\n",
    " where n and m denote the respective cardinalities of the two sets.\n"
   ]
  },
  {
   "cell_type": "code",
   "execution_count": null,
   "id": "563ed1bf-e44c-4a9f-a4ac-20f1878ca004",
   "metadata": {},
   "outputs": [],
   "source": [
    "def isdisjoint(self, other):\n",
    "    \"\"\"Return True if self and other have no elements in common.\"\"\"\n",
    "    # Loop over the smaller of the two sets\n",
    "    if len(self) <= len(other):\n",
    "        for e in self:\n",
    "            if e in other:\n",
    "                return False\n",
    "    else:\n",
    "        for e in other:\n",
    "            if e in self:\n",
    "                return False\n",
    "    return True\n"
   ]
  },
  {
   "cell_type": "code",
   "execution_count": null,
   "id": "616436f3-2b01-4f62-bf96-ea8a0bc9cc42",
   "metadata": {},
   "outputs": [],
   "source": [
    " R-10.27 What abstraction would you use to manage a database of friends’ birth\n",
    "days in order to support efficient queries such as “find all friends whose\n",
    " birthday is today” and “find the friend who will be the next to celebrate a\n",
    " birthday”?"
   ]
  },
  {
   "cell_type": "code",
   "execution_count": null,
   "id": "c914b9e3-7857-4ca5-9caa-0dd27388b863",
   "metadata": {},
   "outputs": [],
   "source": [
    "birthday_map = SortedMap()\n",
    "# Key: (month, day)\n",
    "# Value: ['Alice', 'Bob']\n",
    "birthday_map[(10, 06)] = ['Donovan']\n",
    "birthday_map[(01, 20)] = ['Katelin']\n"
   ]
  },
  {
   "cell_type": "code",
   "execution_count": null,
   "id": "0d551852-051f-481f-bda7-6a433d438e80",
   "metadata": {},
   "outputs": [],
   "source": []
  },
  {
   "cell_type": "code",
   "execution_count": null,
   "id": "ef508b13-50b2-43b8-ad2e-caf7e23d4ab7",
   "metadata": {},
   "outputs": [],
   "source": []
  },
  {
   "cell_type": "code",
   "execution_count": null,
   "id": "bc89f8c8-db39-4504-a3fb-55346340ab7f",
   "metadata": {},
   "outputs": [],
   "source": []
  },
  {
   "cell_type": "code",
   "execution_count": null,
   "id": "028737f3-fcb2-4ad3-a0e5-da0bb28b03b1",
   "metadata": {},
   "outputs": [],
   "source": []
  },
  {
   "cell_type": "code",
   "execution_count": null,
   "id": "56212e8d-ecd0-4227-a377-8633e6c64e7b",
   "metadata": {},
   "outputs": [],
   "source": []
  },
  {
   "cell_type": "code",
   "execution_count": null,
   "id": "0af644f1-7ed4-4fc3-8f87-9fa5d97fe43c",
   "metadata": {},
   "outputs": [],
   "source": []
  },
  {
   "cell_type": "code",
   "execution_count": null,
   "id": "8e10339a-f745-4707-ac2c-9879afc0dd13",
   "metadata": {},
   "outputs": [],
   "source": []
  },
  {
   "cell_type": "code",
   "execution_count": null,
   "id": "2639f4d0-f048-4870-830e-7e5183d9b1b4",
   "metadata": {},
   "outputs": [],
   "source": []
  },
  {
   "cell_type": "code",
   "execution_count": null,
   "id": "95e24791-7cba-42f9-a14e-18400fde06d1",
   "metadata": {},
   "outputs": [],
   "source": []
  },
  {
   "cell_type": "code",
   "execution_count": null,
   "id": "fdc66e32-2448-48e5-80e5-0e3c00404feb",
   "metadata": {},
   "outputs": [],
   "source": []
  },
  {
   "cell_type": "code",
   "execution_count": null,
   "id": "049eb67e-cea4-4d00-b464-8785da2dd526",
   "metadata": {},
   "outputs": [],
   "source": []
  },
  {
   "cell_type": "code",
   "execution_count": null,
   "id": "1e2e2005-a877-45df-b3ab-e4cce5cab437",
   "metadata": {},
   "outputs": [],
   "source": []
  },
  {
   "cell_type": "code",
   "execution_count": null,
   "id": "4f76662e-6847-4761-80b2-45a31bfe3312",
   "metadata": {},
   "outputs": [],
   "source": []
  },
  {
   "cell_type": "code",
   "execution_count": null,
   "id": "58a69b98-2f80-437a-8bda-2d7de71aa470",
   "metadata": {},
   "outputs": [],
   "source": []
  },
  {
   "cell_type": "code",
   "execution_count": null,
   "id": "095c2964-4389-45c5-aab4-7f672febb65a",
   "metadata": {},
   "outputs": [],
   "source": []
  },
  {
   "cell_type": "code",
   "execution_count": null,
   "id": "1a50fb4e-5228-45dd-88f5-d0f246048c3a",
   "metadata": {},
   "outputs": [],
   "source": []
  }
 ],
 "metadata": {
  "kernelspec": {
   "display_name": "Python [conda env:base] *",
   "language": "python",
   "name": "conda-base-py"
  },
  "language_info": {
   "codemirror_mode": {
    "name": "ipython",
    "version": 3
   },
   "file_extension": ".py",
   "mimetype": "text/x-python",
   "name": "python",
   "nbconvert_exporter": "python",
   "pygments_lexer": "ipython3",
   "version": "3.12.4"
  }
 },
 "nbformat": 4,
 "nbformat_minor": 5
}
