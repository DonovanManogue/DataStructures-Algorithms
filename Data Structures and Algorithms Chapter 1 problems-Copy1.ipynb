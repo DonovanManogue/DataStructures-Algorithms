{
 "cells": [
  {
   "cell_type": "markdown",
   "id": "fcbc09d8-2c1b-4ef0-9916-5a28f7532e0f",
   "metadata": {},
   "source": [
    "# Data Structures & Algorithms Chapter 1 Python Primer Exercises\n",
    "## Donovan Manogue"
   ]
  },
  {
   "cell_type": "markdown",
   "id": "e81aaa5b-4910-4a45-b401-f480c07377e9",
   "metadata": {},
   "source": [
    "### Reinforcement Exercises R1.1-1.12"
   ]
  },
  {
   "cell_type": "markdown",
   "id": "6e5c482d-ed12-4b90-b8eb-a3c762e10aa9",
   "metadata": {},
   "source": [
    "### R1.1\n",
    "Write a short Python function, is multiple(n, m), that takes two integer values and returns True if n is a multiple of m, that is,n = mi for some integer i,and False otherwise integer i,andFalse otherwise., i"
   ]
  },
  {
   "cell_type": "code",
   "execution_count": 84,
   "id": "89a4b8a0-453c-4b30-8384-f0e96ff900a2",
   "metadata": {},
   "outputs": [
    {
     "name": "stdout",
     "output_type": "stream",
     "text": [
      "False\n",
      "True\n"
     ]
    }
   ],
   "source": [
    "def is_multiple(n,m):\n",
    "    if n % m ==0:   \n",
    "        return True\n",
    "    else:\n",
    "        return False\n",
    "#Modulus % shows the remainder, so if there is no remainder it is true which means it is a multiple\n",
    "#But, if there is anything other than a remainder of 0 it is not a multiple\n",
    "print(is_multiple(1,2))\n",
    "print(is_multiple(4,2))\n",
    "#This is asking is 2 a multiple of 4 since it is 4/2 and not 2/4"
   ]
  },
  {
   "cell_type": "markdown",
   "id": "a118fcb3-b0cc-4a66-8cfd-ba5f1395453c",
   "metadata": {},
   "source": [
    "### R1.2\n",
    "Write a short Python function, is even(k), that takes an integer value and  returns True if k is even, and False otherwise. However, your functio \n",
    " cannot use the multiplication, modulo, or division operators."
   ]
  },
  {
   "cell_type": "code",
   "execution_count": 98,
   "id": "fb77a532-13a4-4ae0-8389-db016dae2e85",
   "metadata": {},
   "outputs": [
    {
     "name": "stdout",
     "output_type": "stream",
     "text": [
      "False\n",
      "True\n"
     ]
    }
   ],
   "source": [
    "def is_even(k):\n",
    "    if k & 1 ==0:\n",
    "        return True\n",
    "    else:\n",
    "        return False\n",
    "#Since we can't use any of the operators above this can be tricky.\n",
    "#But we still have python bitwise Operators so using the & operators we can set each bit to 1 if both bits are 1\n",
    "#Every integer in binary has a least significant bit (LSB):\n",
    "#Even numbers end in 0\n",
    "#Odd numbers end in 1\n",
    "\n",
    "print(is_even(1))\n",
    "print(is_even(2))"
   ]
  },
  {
   "cell_type": "markdown",
   "id": "b556528c-12bb-42c5-9dc3-b6c13bc66a76",
   "metadata": {},
   "source": [
    "### R-1.3 \n",
    "Write a short Python function, minmax(data), that takes a sequence of\n",
    " one or more numbers, and returns the smallest and largest numbers, in the\n",
    " form of a tuple of length two. Do not use the built-in functions min or\n",
    " max in implementing your solution."
   ]
  },
  {
   "cell_type": "code",
   "execution_count": 138,
   "id": "5a37a272-80c5-497d-8307-2a4d9d714360",
   "metadata": {},
   "outputs": [
    {
     "name": "stdout",
     "output_type": "stream",
     "text": [
      "(1, 9)\n"
     ]
    }
   ],
   "source": [
    "def minmax(data):\n",
    "    min_val = data[0]\n",
    "    max_val = data[0]\n",
    "    for num in data[1:]:\n",
    "        if num < min_val:\n",
    "            min_val = num\n",
    "        if num > max_val:\n",
    "            max_val = num\n",
    "    return (min_val, max_val)\n",
    "#Since we can't use the min and max built in functioins, we have to make our own min max\n",
    "#for whatever index we get, we need them to both start at the same spot\n",
    "#using data[1:], we can start from index 1 and go to the every end of the data\n",
    "#then just using basic less than and greater than operators to keep going unitl the value is the smallest or the biggest nad then returning those values\n",
    "\n",
    "print(minmax([4, 2, 7, 1, 9]))  # Should print (1, 9)\n"
   ]
  },
  {
   "cell_type": "markdown",
   "id": "1f91152e-a96d-4eef-95c2-2bd864af6582",
   "metadata": {},
   "source": [
    "### R-1.4 \n",
    "Write a short Python function that takes a positive integer n and returns\n",
    " the sum of the squares of all the positive integers smaller than n."
   ]
  },
  {
   "cell_type": "code",
   "execution_count": 219,
   "id": "00c6d7b2-bdcc-4fcf-ae95-f9d9c91e9d92",
   "metadata": {},
   "outputs": [
    {
     "name": "stdout",
     "output_type": "stream",
     "text": [
      "30\n",
      "False\n",
      "2470\n"
     ]
    }
   ],
   "source": [
    "def sum_of_squares(n):\n",
    "    if n > 0:\n",
    "        return sum(i**2 for i in range(0, n))\n",
    "    else:\n",
    "        return False\n",
    "#The function checks to see if the integer n is positive and if it is it returns the sum of squares for all the positive intergers smaller than n\n",
    "#It does this using a for loop that gets all the inetgers to get squared for its range so 1 - whatever n is, and then sums them\n",
    "print(sum_of_squares(5))\n",
    "print(sum_of_squares(-5))\n",
    "print(sum_of_squares(20))"
   ]
  },
  {
   "cell_type": "markdown",
   "id": "5c7be2c2-9849-489f-b791-0e30c0704b9f",
   "metadata": {},
   "source": [
    "### R-1.5 \n",
    "Give a single command that computes the sum from Exercise R-1.4, relying on Python’s comprehension syntax and the built-in sum function."
   ]
  },
  {
   "cell_type": "code",
   "execution_count": 224,
   "id": "66a614cb-7191-4aae-9c94-57901ce0c49d",
   "metadata": {},
   "outputs": [
    {
     "data": {
      "text/plain": [
       "1"
      ]
     },
     "execution_count": 224,
     "metadata": {},
     "output_type": "execute_result"
    }
   ],
   "source": [
    "n=2\n",
    "sum(i**2 for i in range(0, n))"
   ]
  },
  {
   "cell_type": "markdown",
   "id": "090c2234-4c2f-48ab-96b3-58f44127bb3b",
   "metadata": {},
   "source": [
    "### R-1.6 \n",
    "Write a short Python function that takes a positive integer n and returns\n",
    " the sum of the squares of all the odd positive integers smaller than n."
   ]
  },
  {
   "cell_type": "code",
   "execution_count": 236,
   "id": "b462f229-7f46-42c3-a6c9-2f493575785a",
   "metadata": {},
   "outputs": [
    {
     "name": "stdout",
     "output_type": "stream",
     "text": [
      "10\n",
      "False\n",
      "1330\n"
     ]
    }
   ],
   "source": [
    "def sum_of_odd_squares(n):\n",
    "    if n > 0:\n",
    "        return sum(i**2 for i in range(1, n, 2))\n",
    "    else:\n",
    "        return False\n",
    "#The function checks to see if the integer n is positive and if it is it returns the sum of squares for all the negative numbers in the range\n",
    "#Using range(start, stop, step) Start at 1, go up to but not including n, and count by 2s\n",
    "print(sum_of_odd_squares(5))\n",
    "print(sum_of_odd_squares(-5))\n",
    "print(sum_of_odd_squares(20))"
   ]
  },
  {
   "cell_type": "markdown",
   "id": "ad25e847-1f3b-4393-8984-135007488319",
   "metadata": {},
   "source": [
    "### R-1.7 \n",
    "Give a single command that computes the sum from Exercise R-1.6, relying on Python’s comprehension syntax and the built-in sum function."
   ]
  },
  {
   "cell_type": "code",
   "execution_count": 238,
   "id": "186cb89c-f266-4b83-80d4-b7fe6bd8f590",
   "metadata": {},
   "outputs": [
    {
     "data": {
      "text/plain": [
       "1330"
      ]
     },
     "execution_count": 238,
     "metadata": {},
     "output_type": "execute_result"
    }
   ],
   "source": [
    "n=20\n",
    "sum(i**2 for i in range(1, n, 2))"
   ]
  },
  {
   "cell_type": "markdown",
   "id": "ec8ec932-a033-4ced-9672-3f67e6d015e9",
   "metadata": {},
   "source": [
    "### R-1.8 \n",
    "Python allows negative integers to be used as indices into a sequence,such as a string. If string s has length n, and expression s[k] is used for in\n",
    "dex −n≤k<0,what is the equivalent index j≥0such thats[j] references the same element?"
   ]
  },
  {
   "cell_type": "code",
   "execution_count": 12,
   "id": "546f9c00-2cb0-447b-b5c3-61ab29646feb",
   "metadata": {},
   "outputs": [
    {
     "name": "stdout",
     "output_type": "stream",
     "text": [
      "s[-3] > 'v' and s[4] > 'v'\n",
      "s[-1] > 'n' and s[6] > 'n'\n",
      "s[-7] > 'd' and s[0] > 'd'\n",
      "Index -8 is out of valid negative bounds for string of length 7\n"
     ]
    }
   ],
   "source": [
    "s = \"donovan\"\n",
    "\n",
    "def convert_negative_index(s, k):\n",
    "    n = len(s)\n",
    "    if -n <= k < 0:\n",
    "        j = n + k\n",
    "        print(f\"s[{k}] > '{s[k]}' and s[{j}] > '{s[j]}'\")\n",
    "        return j\n",
    "    else:\n",
    "        print(f\"Index {k} is out of valid negative bounds for string of length {n}\")\n",
    "        return None\n",
    "s = \"donovan\"\n",
    "convert_negative_index(s, -3)\n",
    "convert_negative_index(s, -1)\n",
    "convert_negative_index(s, -7)\n",
    "convert_negative_index(s, -8)  # Out of bounds\n",
    "\n",
    "\n",
    "#| Negative Index `k` | Character `s[k]` | Equivalent Positive Index `j = n + k` | `s[j]` |\n",
    "#| ------------------ | ---------------- | ------------------------------------- | ------ |\n",
    "#| `-1`               | `'n'`            | `7 + (-1) = 6`                        | `'n'`  |\n",
    "#| `-2`               | `'a'`            | `7 + (-2) = 5`                        | `'a'`  |\n",
    "#| `-3`               | `'v'`            | `7 + (-3) = 4`                        | `'v'`  |\n",
    "#| `-7`               | `'d'`            | `7 + (-7) = 0`                        | `'d'`  |\n"
   ]
  },
  {
   "cell_type": "markdown",
   "id": "7442ae05-27c1-48b4-9b07-896e1accdeeb",
   "metadata": {},
   "source": [
    "### R-1.9 \n",
    "What parameters should be sent to the range constructor, to produce a\n",
    " range with values 50, 60, 70, 80?"
   ]
  },
  {
   "cell_type": "code",
   "execution_count": 28,
   "id": "8ba10e21-694c-4609-a023-384e59ac70c6",
   "metadata": {},
   "outputs": [
    {
     "data": {
      "text/plain": [
       "[50, 60, 70, 80]"
      ]
     },
     "execution_count": 28,
     "metadata": {},
     "output_type": "execute_result"
    }
   ],
   "source": [
    "#Using range(start, stop, step) Start at 50, go up to 81, so you stop at 80 and include it, and count by 10s\n",
    "\n",
    "stop_at_80 =range(50, 81, 10) #These are the parameteres to produce these values {start:50}:{stop:81}:{step:10}\n",
    "list(stop_at_80) #using list to product the range values"
   ]
  },
  {
   "cell_type": "markdown",
   "id": "8dbaff7c-275b-4d9d-a874-20fea882f974",
   "metadata": {},
   "source": [
    " ### R-1.10 \n",
    "What parameters should be sent to the range constructor, to produce a\n",
    " range with values 8, 6, 4, 2, 0, −2, −4, −6, −8?"
   ]
  },
  {
   "cell_type": "code",
   "execution_count": 37,
   "id": "21ce9f24-f9b8-4fc8-9520-b8af31267330",
   "metadata": {},
   "outputs": [
    {
     "data": {
      "text/plain": [
       "[8, 6, 4, 2, 0, -2, -4, -6, -8]"
      ]
     },
     "execution_count": 37,
     "metadata": {},
     "output_type": "execute_result"
    }
   ],
   "source": [
    "#Using range(start, stop, step) Start at 8, go up to -10(but where you stop you do not include!), so you stop at -8 and include it, and count by -2s\n",
    "\n",
    "stop_at_neg_2 =range(8, -10, -2) #These are the parameteres to produce these values {start:8}:{stop:-10}:{step:-2}\n",
    "list(stop_at_neg_2) #using list to product the range values"
   ]
  },
  {
   "cell_type": "markdown",
   "id": "d6762244-70ad-408d-aa29-d2ff78a3a02b",
   "metadata": {},
   "source": [
    "### R-1.11 \n",
    "Demonstrate how to use Python’s list comprehension syntax to produce\n",
    " the list [1, 2, 4, 8, 16, 32, 64, 128, 256]."
   ]
  },
  {
   "cell_type": "code",
   "execution_count": 69,
   "id": "508b56c4-0a24-4efd-a014-b04348f0dcf5",
   "metadata": {},
   "outputs": [
    {
     "name": "stdout",
     "output_type": "stream",
     "text": [
      "[1, 2, 4, 8, 16, 32, 64, 128, 256]\n",
      "[1, 3, 9, 27, 81, 243, 729, 2187, 6561]\n"
     ]
    }
   ],
   "source": [
    "list_256 = [2 ** x for x in range(0, 9)] #our range is 0,9, starting at 0 since 0^2 is 1, and then making its way up to 8\n",
    "# since range stops at 8, but we input 9 as the don't go any further point\n",
    "# then we use ** as this is the exponent , so in the range of 0-8 we multiple them all by themselves, since they are in square brackets it creates a list\n",
    "# using pythons list comphrensioin syntax\n",
    "print(list_256) \n",
    "\n",
    "list_example = [3** x for x in range(0,9)]\n",
    "print(list_example)"
   ]
  },
  {
   "cell_type": "markdown",
   "id": "ea91afc1-3a8d-487a-9894-90d48f5708c5",
   "metadata": {},
   "source": [
    " ### R-1.12 \n",
    "Python’s random module includes a function choice(data) that returns a\n",
    " random element from a non-empty sequence. The random module in\n",
    "cludes a more basic function randrange, with parameterization similar to\n",
    " the built-in range function, that return a random choice from the given\n",
    " range. Using only the randrange function, implement your own version\n",
    " of the choice function.\n"
   ]
  },
  {
   "cell_type": "code",
   "execution_count": 112,
   "id": "b3163ff6-0285-49fe-9d30-0a33ea4442e5",
   "metadata": {},
   "outputs": [
    {
     "name": "stdin",
     "output_type": "stream",
     "text": [
      "Enter your name:  michael j jacksoin\n"
     ]
    },
    {
     "name": "stdout",
     "output_type": "stream",
     "text": [
      "Random letter from your name: j\n"
     ]
    }
   ],
   "source": [
    "import random #importing the random library\n",
    "\n",
    "def my_random_choice(data): # creating the function that does what random.choice(data) would d0\n",
    "    index = random.randrange(0, len(data)) #uses the range starting at 0 which is the beginning of the index and using the length of the data as the end\n",
    "    return data[index] #returns the datas index for example mychoice(user_name)\n",
    "\n",
    "while True: #built this while loop to make it more fun for the random letter, and using strip as a way to get rid of any blanks for the index\n",
    "    user_name = input(\"Enter your name: \").strip()\n",
    "    if user_name:\n",
    "        break # used to break the while loop, if ser_name actually exsists with something in it\n",
    "    else:\n",
    "        print(\"Name cannot be empty. Please try again.\") #It doesn't have a value so we repeat back to the top\n",
    "\n",
    "# Calling the function and printing the result\n",
    "print(\"Random letter from your name:\", my_random_choice(user_name))"
   ]
  },
  {
   "cell_type": "code",
   "execution_count": null,
   "id": "f4061a38-82b0-4347-9354-a62bf61a4d03",
   "metadata": {},
   "outputs": [],
   "source": []
  }
 ],
 "metadata": {
  "kernelspec": {
   "display_name": "Python 3 (ipykernel)",
   "language": "python",
   "name": "python3"
  },
  "language_info": {
   "codemirror_mode": {
    "name": "ipython",
    "version": 3
   },
   "file_extension": ".py",
   "mimetype": "text/x-python",
   "name": "python",
   "nbconvert_exporter": "python",
   "pygments_lexer": "ipython3",
   "version": "3.12.4"
  }
 },
 "nbformat": 4,
 "nbformat_minor": 5
}
