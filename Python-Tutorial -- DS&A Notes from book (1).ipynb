{
 "cells": [
  {
   "cell_type": "markdown",
   "metadata": {},
   "source": [
    "# Python Tutorial & Data Structures and Algorithm Notes over each section of the book\n",
    "#### Donovan Manogue"
   ]
  },
  {
   "cell_type": "markdown",
   "metadata": {},
   "source": [
    "### Introduction part 1:\n",
    "#### These Notes are a combonation of Python Basics from Web3, Youtube, and the DS&A in Python by Michael T Goodrich"
   ]
  },
  {
   "cell_type": "markdown",
   "metadata": {},
   "source": [
    "<a href = \"http://localhost:8888/lab/tree/Data%20Structers%20adn%20Algorithms/Data%20Structures%20and%20Algorithms%20in%20Python.pdf\"> Data Structures & Algorithms textbook </a>\n",
    "\n",
    "\n",
    "\n",
    "[Original](https://github.com/kuleshov/cs228-material) adapted by [Volodymyr Kuleshov](https://www.cs.cornell.edu/~kuleshov/) and [Isaac Caswell](https://research.google/people/isaac-r-caswell/) from the `CS231n` Python tutorial by Justin Johnson (http://cs231n.github.io/python-numpy-tutorial/).\n",
    "\n",
    "Edited by [Joshua L. Phillips](https://phillips-lab.org/) on Jan. 16, 2019 to utilize Python 3 instead of Python 2.\n",
    "\n",
    "Edited by [Joshua L. Phillips](https://phillips-lab.org/) on Jun. 7, 2024 to update broken links.\n",
    "\n",
    "Edited by [Donovan Manogue](https://github.com/DonovanManogue) on 8/21/2025 to add Python DS&A to tutorial"
   ]
  },
  {
   "cell_type": "markdown",
   "metadata": {
    "jp-MarkdownHeadingCollapsed": true
   },
   "source": [
    "# Chapter 1 Python Primer (Python Basics) - Python Tutorial"
   ]
  },
  {
   "cell_type": "markdown",
   "metadata": {},
   "source": [
    "## Introduction part 2:"
   ]
  },
  {
   "cell_type": "markdown",
   "metadata": {},
   "source": [
    "Python is a great general-purpose programming language on its own, but with the help of a few popular libraries (numpy, scipy, matplotlib) it becomes a powerful environment for scientific computing.\n",
    "\n",
    "We expect that many of you will have some experience with Python and numpy; for the rest of you, this section will serve as a quick crash course both on the Python programming language and on the use of Python for scientific computing.\n",
    "\n",
    "Some of you may have previous knowledge in Matlab, in which case we also recommend the numpy for Matlab users page (https://numpy.org/doc/stable/user/numpy-for-matlab-users.html)."
   ]
  },
  {
   "cell_type": "markdown",
   "metadata": {},
   "source": [
    "In this tutorial, we will cover:\n",
    "\n",
    "* Basic Python: Basic data types (Containers, Lists, Dictionaries, Sets, Tuples), Functions, Classes\n",
    "* Numpy: Arrays, Array indexing, Datatypes, Array math, Broadcasting\n",
    "* Matplotlib: Plotting, Subplots, Images\n",
    "* IPython: Creating notebooks, Typical workflows"
   ]
  },
  {
   "cell_type": "markdown",
   "metadata": {},
   "source": [
    "## Basics of Python"
   ]
  },
  {
   "cell_type": "markdown",
   "metadata": {},
   "source": [
    "Python is a high-level, dynamically typed multiparadigm programming language. Python code is often said to be almost like pseudocode, since it allows you to express very powerful ideas in very few lines of code while being very readable. As an example, here is an implementation of the classic quicksort algorithm in Python:"
   ]
  },
  {
   "cell_type": "code",
   "execution_count": 1,
   "metadata": {
    "collapsed": false,
    "jupyter": {
     "outputs_hidden": false
    }
   },
   "outputs": [
    {
     "name": "stdout",
     "output_type": "stream",
     "text": [
      "[1, 1, 2, 3, 6, 8, 10]\n"
     ]
    }
   ],
   "source": [
    "def quicksort(arr):\n",
    "    if len(arr) <= 1:\n",
    "        return arr\n",
    "    pivot = arr[len(arr) // 2]\n",
    "    left = [x for x in arr if x < pivot]\n",
    "    middle = [x for x in arr if x == pivot]\n",
    "    right = [x for x in arr if x > pivot]\n",
    "    return quicksort(left) + middle + quicksort(right)\n",
    "\n",
    "print(quicksort([3,6,8,10,1,2,1]))"
   ]
  },
  {
   "cell_type": "markdown",
   "metadata": {},
   "source": [
    "### Python versions"
   ]
  },
  {
   "cell_type": "markdown",
   "metadata": {},
   "source": [
    "There are currently two different supported versions of Python, 2.7 and 3.5. Somewhat confusingly, Python 3.0 introduced many backwards-incompatible changes to the language, so code written for 2.7 may not work under 3.5 and vice versa. For this tutorial, all code will use Python 3.5.\n",
    "\n",
    "You can check your Python version at the command line by running `python --version` or `python3 --version`."
   ]
  },
  {
   "cell_type": "markdown",
   "metadata": {},
   "source": [
    "### Basic data types"
   ]
  },
  {
   "cell_type": "markdown",
   "metadata": {},
   "source": [
    "#### Numbers"
   ]
  },
  {
   "cell_type": "markdown",
   "metadata": {},
   "source": [
    "Integers and floats work as you would expect from other languages:"
   ]
  },
  {
   "cell_type": "code",
   "execution_count": 2,
   "metadata": {
    "collapsed": false,
    "jupyter": {
     "outputs_hidden": false
    }
   },
   "outputs": [
    {
     "name": "stdout",
     "output_type": "stream",
     "text": [
      "3 <class 'int'>\n"
     ]
    }
   ],
   "source": [
    "x = 3\n",
    "print(x, type(x))"
   ]
  },
  {
   "cell_type": "code",
   "execution_count": 3,
   "metadata": {
    "collapsed": false,
    "jupyter": {
     "outputs_hidden": false
    }
   },
   "outputs": [
    {
     "name": "stdout",
     "output_type": "stream",
     "text": [
      "4\n",
      "2\n",
      "6\n",
      "9\n"
     ]
    }
   ],
   "source": [
    "print(x + 1)   # Addition;\n",
    "print(x - 1)   # Subtraction;\n",
    "print(x * 2)   # Multiplication;\n",
    "print(x ** 2)  # Exponentiation;"
   ]
  },
  {
   "cell_type": "code",
   "execution_count": 4,
   "metadata": {
    "collapsed": false,
    "jupyter": {
     "outputs_hidden": false
    }
   },
   "outputs": [
    {
     "name": "stdout",
     "output_type": "stream",
     "text": [
      "4\n",
      "8\n"
     ]
    }
   ],
   "source": [
    "x += 1\n",
    "print(x)  # Prints \"4\"\n",
    "x *= 2\n",
    "print(x)  # Prints \"8\""
   ]
  },
  {
   "cell_type": "code",
   "execution_count": 5,
   "metadata": {
    "collapsed": false,
    "jupyter": {
     "outputs_hidden": false
    }
   },
   "outputs": [
    {
     "name": "stdout",
     "output_type": "stream",
     "text": [
      "<class 'float'>\n",
      "2.5 3.5 5.0 6.25\n"
     ]
    }
   ],
   "source": [
    "y = 2.5\n",
    "print(type(y)) # Prints \"<type 'float'>\"\n",
    "print(y, y + 1, y * 2, y ** 2) # Prints \"2.5 3.5 5.0 6.25\""
   ]
  },
  {
   "cell_type": "markdown",
   "metadata": {},
   "source": [
    "Note that unlike many languages, Python does not have unary increment (x++) or decrement (x--) operators.\n",
    "\n",
    "Python also has built-in types for long integers and complex numbers; you can find all of the details in the [documentation](https://docs.python.org/3/library/stdtypes.html#numeric-types-int-float-long-complex)."
   ]
  },
  {
   "cell_type": "markdown",
   "metadata": {},
   "source": [
    "#### Booleans"
   ]
  },
  {
   "cell_type": "markdown",
   "metadata": {},
   "source": [
    "Python implements all of the usual operators for Boolean logic, but uses English words rather than symbols (`&&`, `||`, etc.):"
   ]
  },
  {
   "cell_type": "code",
   "execution_count": 6,
   "metadata": {
    "collapsed": false,
    "jupyter": {
     "outputs_hidden": false
    }
   },
   "outputs": [
    {
     "name": "stdout",
     "output_type": "stream",
     "text": [
      "<class 'bool'>\n"
     ]
    }
   ],
   "source": [
    "t, f = True, False\n",
    "print(type(t)) # Prints \"<type 'bool'>\""
   ]
  },
  {
   "cell_type": "markdown",
   "metadata": {},
   "source": [
    "Now we let's look at the operations:"
   ]
  },
  {
   "cell_type": "code",
   "execution_count": 7,
   "metadata": {
    "collapsed": false,
    "jupyter": {
     "outputs_hidden": false
    }
   },
   "outputs": [
    {
     "name": "stdout",
     "output_type": "stream",
     "text": [
      "False\n",
      "True\n",
      "False\n",
      "True\n"
     ]
    }
   ],
   "source": [
    "print(t and f) # Logical AND;\n",
    "print(t or f)  # Logical OR;\n",
    "print(not t)   # Logical NOT;\n",
    "print(t != f)  # Logical XOR;"
   ]
  },
  {
   "cell_type": "markdown",
   "metadata": {},
   "source": [
    "#### Strings"
   ]
  },
  {
   "cell_type": "code",
   "execution_count": 8,
   "metadata": {
    "collapsed": false,
    "jupyter": {
     "outputs_hidden": false
    }
   },
   "outputs": [
    {
     "name": "stdout",
     "output_type": "stream",
     "text": [
      "hello 5\n"
     ]
    }
   ],
   "source": [
    "hello = 'hello'   # String literals can use single quotes\n",
    "world = \"world\"   # or double quotes; it does not matter.\n",
    "print(hello, len(hello))"
   ]
  },
  {
   "cell_type": "code",
   "execution_count": 9,
   "metadata": {
    "collapsed": false,
    "jupyter": {
     "outputs_hidden": false
    }
   },
   "outputs": [
    {
     "name": "stdout",
     "output_type": "stream",
     "text": [
      "hello world\n"
     ]
    }
   ],
   "source": [
    "hw = hello + ' ' + world  # String concatenation\n",
    "print(hw)  # prints \"hello world\""
   ]
  },
  {
   "cell_type": "code",
   "execution_count": 10,
   "metadata": {
    "collapsed": false,
    "jupyter": {
     "outputs_hidden": false
    }
   },
   "outputs": [
    {
     "name": "stdout",
     "output_type": "stream",
     "text": [
      "hello world 12\n"
     ]
    }
   ],
   "source": [
    "hw12 = '%s %s %d' % (hello, world, 12)  # sprintf style string formatting\n",
    "print(hw12)  # prints \"hello world 12\""
   ]
  },
  {
   "cell_type": "markdown",
   "metadata": {},
   "source": [
    "String objects have a bunch of useful methods; for example:"
   ]
  },
  {
   "cell_type": "code",
   "execution_count": 11,
   "metadata": {
    "collapsed": false,
    "jupyter": {
     "outputs_hidden": false
    }
   },
   "outputs": [
    {
     "name": "stdout",
     "output_type": "stream",
     "text": [
      "Hello\n",
      "HELLO\n",
      "  hello\n",
      " hello \n",
      "he(ell)(ell)o\n",
      "world\n"
     ]
    }
   ],
   "source": [
    "s = \"hello\"\n",
    "print(s.capitalize())  # Capitalize a string; prints \"Hello\"\n",
    "print(s.upper())       # Convert a string to uppercase; prints \"HELLO\"\n",
    "print(s.rjust(7))      # Right-justify a string, padding with spaces; prints \"  hello\"\n",
    "print(s.center(7))     # Center a string, padding with spaces; prints \" hello \"\n",
    "print(s.replace('l', '(ell)'))  # Replace all instances of one substring with another;\n",
    "                                # prints \"he(ell)(ell)o\"\n",
    "print('  world '.strip())  # Strip leading and trailing whitespace; prints \"world\""
   ]
  },
  {
   "cell_type": "markdown",
   "metadata": {},
   "source": [
    "You can find a list of all string methods in the [documentation](https://docs.python.org/3/library/stdtypes.html#string-methods)."
   ]
  },
  {
   "cell_type": "markdown",
   "metadata": {},
   "source": [
    "### Containers"
   ]
  },
  {
   "cell_type": "markdown",
   "metadata": {},
   "source": [
    "Python includes several built-in container types: lists, dictionaries, sets, and tuples."
   ]
  },
  {
   "cell_type": "markdown",
   "metadata": {},
   "source": [
    "#### Lists"
   ]
  },
  {
   "cell_type": "markdown",
   "metadata": {},
   "source": [
    "A list is the Python equivalent of an array, but is resizeable and can contain elements of different types:"
   ]
  },
  {
   "cell_type": "code",
   "execution_count": 13,
   "metadata": {
    "collapsed": false,
    "jupyter": {
     "outputs_hidden": false
    }
   },
   "outputs": [
    {
     "name": "stdout",
     "output_type": "stream",
     "text": [
      "[3, 1, 2] 2\n",
      "2\n"
     ]
    }
   ],
   "source": [
    "xs = [3, 1, 2]   # Create a list\n",
    "print(xs, xs[2])\n",
    "print(xs[-1])    # Negative indices count from the end of the list; prints \"2\""
   ]
  },
  {
   "cell_type": "code",
   "execution_count": 15,
   "metadata": {
    "collapsed": false,
    "jupyter": {
     "outputs_hidden": false
    }
   },
   "outputs": [
    {
     "name": "stdout",
     "output_type": "stream",
     "text": [
      "[3, 1, 'foo']\n"
     ]
    }
   ],
   "source": [
    "xs[2] = 'foo'    # Lists can contain elements of different types\n",
    "print(xs)"
   ]
  },
  {
   "cell_type": "code",
   "execution_count": 17,
   "metadata": {
    "collapsed": false,
    "jupyter": {
     "outputs_hidden": false
    }
   },
   "outputs": [
    {
     "name": "stdout",
     "output_type": "stream",
     "text": [
      "[3, 1, 'foo', 'bar']\n"
     ]
    }
   ],
   "source": [
    "xs.append('bar') # Add a new element to the end of the list\n",
    "print(xs)  "
   ]
  },
  {
   "cell_type": "code",
   "execution_count": 19,
   "metadata": {
    "collapsed": false,
    "jupyter": {
     "outputs_hidden": false
    }
   },
   "outputs": [
    {
     "name": "stdout",
     "output_type": "stream",
     "text": [
      "bar [3, 1, 'foo']\n"
     ]
    }
   ],
   "source": [
    "x = xs.pop()     # Remove and return the last element of the list\n",
    "print(x, xs) "
   ]
  },
  {
   "cell_type": "markdown",
   "metadata": {},
   "source": [
    "As usual, you can find all the gory details about lists in the [documentation](https://docs.python.org/3/tutorial/datastructures.html#more-on-lists)."
   ]
  },
  {
   "cell_type": "markdown",
   "metadata": {},
   "source": [
    "#### Slicing"
   ]
  },
  {
   "cell_type": "markdown",
   "metadata": {},
   "source": [
    "In addition to accessing list elements one at a time, Python provides concise syntax to access sublists; this is known as slicing:"
   ]
  },
  {
   "cell_type": "code",
   "execution_count": 24,
   "metadata": {
    "collapsed": false,
    "jupyter": {
     "outputs_hidden": false
    }
   },
   "outputs": [
    {
     "name": "stdout",
     "output_type": "stream",
     "text": [
      "[0, 1, 2, 3, 4]\n",
      "[2, 3]\n",
      "[2, 3, 4]\n",
      "[0, 1]\n",
      "[0, 1, 2, 3, 4]\n",
      "[0, 1, 2, 3]\n",
      "[0, 1, 8, 9, 4]\n"
     ]
    }
   ],
   "source": [
    "nums = list(range(5))     # range is a built-in function that creates a list of integers\n",
    "print(nums)         # Prints \"[0, 1, 2, 3, 4]\"\n",
    "print(nums[2:4])    # Get a slice from index 2 to 4 (exclusive); prints \"[2, 3]\"\n",
    "print(nums[2:])     # Get a slice from index 2 to the end; prints \"[2, 3, 4]\"\n",
    "print(nums[:2])     # Get a slice from the start to index 2 (exclusive); prints \"[0, 1]\"\n",
    "print(nums[:])      # Get a slice of the whole list; prints [\"0, 1, 2, 3, 4]\"\n",
    "print(nums[:-1])    # Slice indices can be negative; prints [\"0, 1, 2, 3]\"\n",
    "nums[2:4] = [8, 9]  # Assign a new sublist to a slice\n",
    "print(nums)         # Prints \"[0, 1, 8, 9, 4]\""
   ]
  },
  {
   "cell_type": "markdown",
   "metadata": {},
   "source": [
    "#### Loops"
   ]
  },
  {
   "cell_type": "markdown",
   "metadata": {},
   "source": [
    "You can loop over the elements of a list like this:"
   ]
  },
  {
   "cell_type": "code",
   "execution_count": 17,
   "metadata": {
    "collapsed": false,
    "jupyter": {
     "outputs_hidden": false
    }
   },
   "outputs": [
    {
     "name": "stdout",
     "output_type": "stream",
     "text": [
      "cat\n",
      "dog\n",
      "monkey\n"
     ]
    }
   ],
   "source": [
    "animals = ['cat', 'dog', 'monkey']\n",
    "for animal in animals:\n",
    "    print(animal)"
   ]
  },
  {
   "cell_type": "markdown",
   "metadata": {},
   "source": [
    "If you want access to the index of each element within the body of a loop, use the built-in `enumerate` function:"
   ]
  },
  {
   "cell_type": "code",
   "execution_count": 18,
   "metadata": {
    "collapsed": false,
    "jupyter": {
     "outputs_hidden": false
    }
   },
   "outputs": [
    {
     "name": "stdout",
     "output_type": "stream",
     "text": [
      "#1: cat\n",
      "#2: dog\n",
      "#3: monkey\n"
     ]
    }
   ],
   "source": [
    "animals = ['cat', 'dog', 'monkey']\n",
    "for idx, animal in enumerate(animals):\n",
    "    print('#%d: %s' % (idx + 1, animal))"
   ]
  },
  {
   "cell_type": "markdown",
   "metadata": {},
   "source": [
    "#### List comprehensions:"
   ]
  },
  {
   "cell_type": "markdown",
   "metadata": {},
   "source": [
    "When programming, frequently we want to transform one type of data into another. As a simple example, consider the following code that computes square numbers:"
   ]
  },
  {
   "cell_type": "code",
   "execution_count": 19,
   "metadata": {
    "collapsed": false,
    "jupyter": {
     "outputs_hidden": false
    }
   },
   "outputs": [
    {
     "name": "stdout",
     "output_type": "stream",
     "text": [
      "[0, 1, 4, 9, 16]\n"
     ]
    }
   ],
   "source": [
    "nums = [0, 1, 2, 3, 4]\n",
    "squares = []\n",
    "for x in nums:\n",
    "    squares.append(x ** 2)\n",
    "print(squares)"
   ]
  },
  {
   "cell_type": "markdown",
   "metadata": {},
   "source": [
    "You can make this code simpler using a list comprehension:"
   ]
  },
  {
   "cell_type": "code",
   "execution_count": 20,
   "metadata": {
    "collapsed": false,
    "jupyter": {
     "outputs_hidden": false
    }
   },
   "outputs": [
    {
     "name": "stdout",
     "output_type": "stream",
     "text": [
      "[0, 1, 4, 9, 16]\n"
     ]
    }
   ],
   "source": [
    "nums = [0, 1, 2, 3, 4]\n",
    "squares = [x ** 2 for x in nums]\n",
    "print(squares)"
   ]
  },
  {
   "cell_type": "markdown",
   "metadata": {},
   "source": [
    "List comprehensions can also contain conditions:"
   ]
  },
  {
   "cell_type": "code",
   "execution_count": 21,
   "metadata": {
    "collapsed": false,
    "jupyter": {
     "outputs_hidden": false
    }
   },
   "outputs": [
    {
     "name": "stdout",
     "output_type": "stream",
     "text": [
      "[0, 4, 16]\n"
     ]
    }
   ],
   "source": [
    "nums = [0, 1, 2, 3, 4]\n",
    "even_squares = [x ** 2 for x in nums if x % 2 == 0]\n",
    "print(even_squares)"
   ]
  },
  {
   "cell_type": "markdown",
   "metadata": {},
   "source": [
    "#### Dictionaries"
   ]
  },
  {
   "cell_type": "markdown",
   "metadata": {},
   "source": [
    "A dictionary stores (key, value) pairs, similar to a `Map` in Java or an object in Javascript. You can use it like this:"
   ]
  },
  {
   "cell_type": "code",
   "execution_count": 22,
   "metadata": {
    "collapsed": false,
    "jupyter": {
     "outputs_hidden": false
    }
   },
   "outputs": [
    {
     "name": "stdout",
     "output_type": "stream",
     "text": [
      "cute\n",
      "True\n"
     ]
    }
   ],
   "source": [
    "d = {'cat': 'cute', 'dog': 'furry'}  # Create a new dictionary with some data\n",
    "print(d['cat'])       # Get an entry from a dictionary; prints \"cute\"\n",
    "print('cat' in d)     # Check if a dictionary has a given key; prints \"True\""
   ]
  },
  {
   "cell_type": "code",
   "execution_count": 23,
   "metadata": {
    "collapsed": false,
    "jupyter": {
     "outputs_hidden": false
    }
   },
   "outputs": [
    {
     "name": "stdout",
     "output_type": "stream",
     "text": [
      "wet\n"
     ]
    }
   ],
   "source": [
    "d['fish'] = 'wet'     # Set an entry in a dictionary\n",
    "print(d['fish'])      # Prints \"wet\""
   ]
  },
  {
   "cell_type": "code",
   "execution_count": 24,
   "metadata": {
    "collapsed": false,
    "jupyter": {
     "outputs_hidden": false
    }
   },
   "outputs": [
    {
     "ename": "KeyError",
     "evalue": "'monkey'",
     "output_type": "error",
     "traceback": [
      "\u001b[0;31m---------------------------------------------------------------------------\u001b[0m",
      "\u001b[0;31mKeyError\u001b[0m                                  Traceback (most recent call last)",
      "Cell \u001b[0;32mIn[24], line 1\u001b[0m\n\u001b[0;32m----> 1\u001b[0m \u001b[38;5;28mprint\u001b[39m(\u001b[43md\u001b[49m\u001b[43m[\u001b[49m\u001b[38;5;124;43m'\u001b[39;49m\u001b[38;5;124;43mmonkey\u001b[39;49m\u001b[38;5;124;43m'\u001b[39;49m\u001b[43m]\u001b[49m)  \u001b[38;5;66;03m# KeyError: 'monkey' not a key of d\u001b[39;00m\n",
      "\u001b[0;31mKeyError\u001b[0m: 'monkey'"
     ]
    }
   ],
   "source": [
    "print(d['monkey'])  # KeyError: 'monkey' not a key of d"
   ]
  },
  {
   "cell_type": "code",
   "execution_count": 25,
   "metadata": {
    "collapsed": false,
    "jupyter": {
     "outputs_hidden": false
    }
   },
   "outputs": [
    {
     "name": "stdout",
     "output_type": "stream",
     "text": [
      "N/A\n",
      "wet\n"
     ]
    }
   ],
   "source": [
    "print(d.get('monkey', 'N/A'))  # Get an element with a default; prints \"N/A\"\n",
    "print(d.get('fish', 'N/A'))    # Get an element with a default; prints \"wet\""
   ]
  },
  {
   "cell_type": "code",
   "execution_count": 26,
   "metadata": {
    "collapsed": false,
    "jupyter": {
     "outputs_hidden": false
    }
   },
   "outputs": [
    {
     "name": "stdout",
     "output_type": "stream",
     "text": [
      "N/A\n"
     ]
    }
   ],
   "source": [
    "del d['fish']        # Remove an element from a dictionary\n",
    "print(d.get('fish', 'N/A')) # \"fish\" is no longer a key; prints \"N/A\""
   ]
  },
  {
   "cell_type": "markdown",
   "metadata": {},
   "source": [
    "You can find all you need to know about dictionaries in the [documentation](https://docs.python.org/3/library/stdtypes.html#dict)."
   ]
  },
  {
   "cell_type": "markdown",
   "metadata": {},
   "source": [
    "It is easy to iterate over the keys in a dictionary:"
   ]
  },
  {
   "cell_type": "code",
   "execution_count": 27,
   "metadata": {
    "collapsed": false,
    "jupyter": {
     "outputs_hidden": false
    }
   },
   "outputs": [
    {
     "name": "stdout",
     "output_type": "stream",
     "text": [
      "A person has 2 legs\n",
      "A cat has 4 legs\n",
      "A spider has 8 legs\n"
     ]
    }
   ],
   "source": [
    "d = {'person': 2, 'cat': 4, 'spider': 8}\n",
    "for animal in d:\n",
    "    legs = d[animal]\n",
    "    print('A %s has %d legs' % (animal, legs))"
   ]
  },
  {
   "cell_type": "markdown",
   "metadata": {},
   "source": [
    "If you want access to keys and their corresponding values, use the items method:"
   ]
  },
  {
   "cell_type": "code",
   "execution_count": 28,
   "metadata": {
    "collapsed": false,
    "jupyter": {
     "outputs_hidden": false
    }
   },
   "outputs": [
    {
     "name": "stdout",
     "output_type": "stream",
     "text": [
      "A person has 2 legs\n",
      "A cat has 4 legs\n",
      "A spider has 8 legs\n"
     ]
    }
   ],
   "source": [
    "d = {'person': 2, 'cat': 4, 'spider': 8}\n",
    "for animal, legs in d.items():\n",
    "    print('A %s has %d legs' % (animal, legs))"
   ]
  },
  {
   "cell_type": "markdown",
   "metadata": {},
   "source": [
    "Dictionary comprehensions: These are similar to list comprehensions, but allow you to easily construct dictionaries. For example:"
   ]
  },
  {
   "cell_type": "code",
   "execution_count": 29,
   "metadata": {
    "collapsed": false,
    "jupyter": {
     "outputs_hidden": false
    }
   },
   "outputs": [
    {
     "name": "stdout",
     "output_type": "stream",
     "text": [
      "{0: 0, 2: 4, 4: 16}\n"
     ]
    }
   ],
   "source": [
    "nums = [0, 1, 2, 3, 4]\n",
    "even_num_to_square = {x: x ** 2 for x in nums if x % 2 == 0}\n",
    "print(even_num_to_square)"
   ]
  },
  {
   "cell_type": "markdown",
   "metadata": {},
   "source": [
    "#### Sets"
   ]
  },
  {
   "cell_type": "markdown",
   "metadata": {},
   "source": [
    "A set is an unordered collection of distinct elements. As a simple example, consider the following:"
   ]
  },
  {
   "cell_type": "code",
   "execution_count": 30,
   "metadata": {
    "collapsed": false,
    "jupyter": {
     "outputs_hidden": false
    }
   },
   "outputs": [
    {
     "name": "stdout",
     "output_type": "stream",
     "text": [
      "True\n",
      "False\n"
     ]
    }
   ],
   "source": [
    "animals = {'cat', 'dog'}\n",
    "print('cat' in animals)   # Check if an element is in a set; prints \"True\"\n",
    "print('fish' in animals)  # prints \"False\"\n"
   ]
  },
  {
   "cell_type": "code",
   "execution_count": 31,
   "metadata": {
    "collapsed": false,
    "jupyter": {
     "outputs_hidden": false
    }
   },
   "outputs": [
    {
     "name": "stdout",
     "output_type": "stream",
     "text": [
      "True\n",
      "3\n"
     ]
    }
   ],
   "source": [
    "animals.add('fish')       # Add an element to a set\n",
    "print('fish' in animals)\n",
    "print(len(animals))       # Number of elements in a set;"
   ]
  },
  {
   "cell_type": "code",
   "execution_count": 32,
   "metadata": {
    "collapsed": false,
    "jupyter": {
     "outputs_hidden": false
    }
   },
   "outputs": [
    {
     "name": "stdout",
     "output_type": "stream",
     "text": [
      "3\n",
      "2\n"
     ]
    }
   ],
   "source": [
    "animals.add('cat')       # Adding an element that is already in the set does nothing\n",
    "print(len(animals))       \n",
    "animals.remove('cat')    # Remove an element from a set\n",
    "print(len(animals))       "
   ]
  },
  {
   "cell_type": "markdown",
   "metadata": {},
   "source": [
    "_Loops_: Iterating over a set has the same syntax as iterating over a list; however since sets are unordered, you cannot make assumptions about the order in which you visit the elements of the set:"
   ]
  },
  {
   "cell_type": "code",
   "execution_count": 33,
   "metadata": {
    "collapsed": false,
    "jupyter": {
     "outputs_hidden": false
    }
   },
   "outputs": [
    {
     "name": "stdout",
     "output_type": "stream",
     "text": [
      "#1: dog\n",
      "#2: fish\n",
      "#3: cat\n"
     ]
    }
   ],
   "source": [
    "animals = {'cat', 'dog', 'fish'}\n",
    "for idx, animal in enumerate(animals):\n",
    "    print('#%d: %s' % (idx + 1, animal))\n",
    "# Prints \"#1: fish\", \"#2: dog\", \"#3: cat\""
   ]
  },
  {
   "cell_type": "markdown",
   "metadata": {},
   "source": [
    "Set comprehensions: Like lists and dictionaries, we can easily construct sets using set comprehensions:"
   ]
  },
  {
   "cell_type": "code",
   "execution_count": 34,
   "metadata": {
    "collapsed": false,
    "jupyter": {
     "outputs_hidden": false
    }
   },
   "outputs": [
    {
     "name": "stdout",
     "output_type": "stream",
     "text": [
      "{0, 1, 2, 3, 4, 5}\n"
     ]
    }
   ],
   "source": [
    "from math import sqrt\n",
    "print({int(sqrt(x)) for x in range(30)})"
   ]
  },
  {
   "cell_type": "markdown",
   "metadata": {},
   "source": [
    "#### Tuples"
   ]
  },
  {
   "cell_type": "markdown",
   "metadata": {},
   "source": [
    "A tuple is an (immutable) ordered list of values. A tuple is in many ways similar to a list; one of the most important differences is that tuples can be used as keys in dictionaries and as elements of sets, while lists cannot. Here is a trivial example:"
   ]
  },
  {
   "cell_type": "code",
   "execution_count": 35,
   "metadata": {
    "collapsed": false,
    "jupyter": {
     "outputs_hidden": false
    }
   },
   "outputs": [
    {
     "name": "stdout",
     "output_type": "stream",
     "text": [
      "<class 'tuple'>\n",
      "5\n",
      "1\n"
     ]
    }
   ],
   "source": [
    "d = {(x, x + 1): x for x in range(10)}  # Create a dictionary with tuple keys\n",
    "t = (5, 6)       # Create a tuple\n",
    "print(type(t))\n",
    "print(d[t])   \n",
    "print(d[(1, 2)])"
   ]
  },
  {
   "cell_type": "code",
   "execution_count": 31,
   "metadata": {
    "collapsed": false,
    "jupyter": {
     "outputs_hidden": false
    }
   },
   "outputs": [
    {
     "ename": "NameError",
     "evalue": "name 't' is not defined",
     "output_type": "error",
     "traceback": [
      "\u001b[1;31m---------------------------------------------------------------------------\u001b[0m",
      "\u001b[1;31mNameError\u001b[0m                                 Traceback (most recent call last)",
      "Cell \u001b[1;32mIn[31], line 1\u001b[0m\n\u001b[1;32m----> 1\u001b[0m t[\u001b[38;5;241m0\u001b[39m] \u001b[38;5;241m=\u001b[39m \u001b[38;5;241m1\u001b[39m\n",
      "\u001b[1;31mNameError\u001b[0m: name 't' is not defined"
     ]
    }
   ],
   "source": [
    "t[0] = 1"
   ]
  },
  {
   "cell_type": "markdown",
   "metadata": {},
   "source": [
    "### Functions"
   ]
  },
  {
   "cell_type": "markdown",
   "metadata": {},
   "source": [
    "Python functions are defined using the `def` keyword. For example:"
   ]
  },
  {
   "cell_type": "code",
   "execution_count": 37,
   "metadata": {
    "collapsed": false,
    "jupyter": {
     "outputs_hidden": false
    }
   },
   "outputs": [
    {
     "name": "stdout",
     "output_type": "stream",
     "text": [
      "negative\n",
      "zero\n",
      "positive\n"
     ]
    }
   ],
   "source": [
    "def sign(x):\n",
    "    if x > 0:\n",
    "        return 'positive'\n",
    "    elif x < 0:\n",
    "        return 'negative'\n",
    "    else:\n",
    "        return 'zero'\n",
    "\n",
    "for x in [-1, 0, 1]:\n",
    "    print(sign(x))"
   ]
  },
  {
   "cell_type": "markdown",
   "metadata": {},
   "source": [
    "We will often define functions to take optional keyword arguments, like this:"
   ]
  },
  {
   "cell_type": "code",
   "execution_count": 38,
   "metadata": {
    "collapsed": false,
    "jupyter": {
     "outputs_hidden": false
    }
   },
   "outputs": [
    {
     "name": "stdout",
     "output_type": "stream",
     "text": [
      "Hello, Bob!\n",
      "HELLO, FRED\n"
     ]
    }
   ],
   "source": [
    "def hello(name, loud=False):\n",
    "    if loud:\n",
    "        print('HELLO, %s' % name.upper())\n",
    "    else:\n",
    "        print('Hello, %s!' % name)\n",
    "\n",
    "hello('Bob')\n",
    "hello('Fred', loud=True)"
   ]
  },
  {
   "cell_type": "markdown",
   "metadata": {},
   "source": [
    "### Classes"
   ]
  },
  {
   "cell_type": "markdown",
   "metadata": {},
   "source": [
    "The syntax for defining classes in Python is straightforward:"
   ]
  },
  {
   "cell_type": "code",
   "execution_count": 39,
   "metadata": {
    "collapsed": false,
    "jupyter": {
     "outputs_hidden": false
    }
   },
   "outputs": [
    {
     "name": "stdout",
     "output_type": "stream",
     "text": [
      "Hello, Fred\n",
      "HELLO, FRED!\n"
     ]
    }
   ],
   "source": [
    "class Greeter:\n",
    "\n",
    "    # Constructor\n",
    "    def __init__(self, name):\n",
    "        self.name = name  # Create an instance variable\n",
    "\n",
    "    # Instance method\n",
    "    def greet(self, loud=False):\n",
    "        if loud:\n",
    "            print('HELLO, %s!' % self.name.upper())\n",
    "        else:\n",
    "            print('Hello, %s' % self.name)\n",
    "\n",
    "g = Greeter('Fred')  # Construct an instance of the Greeter class\n",
    "g.greet()            # Call an instance method; prints \"Hello, Fred\"\n",
    "g.greet(loud=True)   # Call an instance method; prints \"HELLO, FRED!\""
   ]
  },
  {
   "cell_type": "markdown",
   "metadata": {},
   "source": [
    "## Numpy"
   ]
  },
  {
   "cell_type": "markdown",
   "metadata": {},
   "source": [
    "Numpy is the core library for scientific computing in Python. It provides a high-performance multidimensional array object, and tools for working with these arrays. If you are already familiar with MATLAB, you might find this [tutorial](https://numpy.org/doc/stable/user/numpy-for-matlab-users.html) useful to get started with Numpy."
   ]
  },
  {
   "cell_type": "markdown",
   "metadata": {},
   "source": [
    "To use Numpy, we first need to import the `numpy` package:"
   ]
  },
  {
   "cell_type": "code",
   "execution_count": 40,
   "metadata": {
    "collapsed": false,
    "jupyter": {
     "outputs_hidden": false
    }
   },
   "outputs": [],
   "source": [
    "import numpy as np"
   ]
  },
  {
   "cell_type": "markdown",
   "metadata": {},
   "source": [
    "### Arrays"
   ]
  },
  {
   "cell_type": "markdown",
   "metadata": {},
   "source": [
    "A numpy array is a grid of values, all of the same type, and is indexed by a tuple of nonnegative integers. The number of dimensions is the rank of the array; the shape of an array is a tuple of integers giving the size of the array along each dimension."
   ]
  },
  {
   "cell_type": "markdown",
   "metadata": {},
   "source": [
    "We can initialize numpy arrays from nested Python lists, and access elements using square brackets:"
   ]
  },
  {
   "cell_type": "code",
   "execution_count": 41,
   "metadata": {
    "collapsed": false,
    "jupyter": {
     "outputs_hidden": false
    }
   },
   "outputs": [
    {
     "name": "stdout",
     "output_type": "stream",
     "text": [
      "<class 'numpy.ndarray'> (3,) 1 2 3\n",
      "[5 2 3]\n"
     ]
    }
   ],
   "source": [
    "a = np.array([1, 2, 3])  # Create a rank 1 array\n",
    "print(type(a), a.shape, a[0], a[1], a[2])\n",
    "a[0] = 5                 # Change an element of the array\n",
    "print(a)                 "
   ]
  },
  {
   "cell_type": "code",
   "execution_count": 42,
   "metadata": {
    "collapsed": false,
    "jupyter": {
     "outputs_hidden": false
    }
   },
   "outputs": [
    {
     "name": "stdout",
     "output_type": "stream",
     "text": [
      "[[1 2 3]\n",
      " [4 5 6]]\n"
     ]
    }
   ],
   "source": [
    "b = np.array([[1,2,3],[4,5,6]])   # Create a rank 2 array\n",
    "print(b)"
   ]
  },
  {
   "cell_type": "code",
   "execution_count": 43,
   "metadata": {
    "collapsed": false,
    "jupyter": {
     "outputs_hidden": false
    }
   },
   "outputs": [
    {
     "name": "stdout",
     "output_type": "stream",
     "text": [
      "(2, 3)\n",
      "1 2 4\n"
     ]
    }
   ],
   "source": [
    "print(b.shape)                   \n",
    "print(b[0, 0], b[0, 1], b[1, 0])"
   ]
  },
  {
   "cell_type": "markdown",
   "metadata": {},
   "source": [
    "Numpy also provides many functions to create arrays:"
   ]
  },
  {
   "cell_type": "code",
   "execution_count": 44,
   "metadata": {
    "collapsed": false,
    "jupyter": {
     "outputs_hidden": false
    }
   },
   "outputs": [
    {
     "name": "stdout",
     "output_type": "stream",
     "text": [
      "[[0. 0.]\n",
      " [0. 0.]]\n"
     ]
    }
   ],
   "source": [
    "a = np.zeros((2,2))  # Create an array of all zeros\n",
    "print(a)"
   ]
  },
  {
   "cell_type": "code",
   "execution_count": 45,
   "metadata": {
    "collapsed": false,
    "jupyter": {
     "outputs_hidden": false
    }
   },
   "outputs": [
    {
     "name": "stdout",
     "output_type": "stream",
     "text": [
      "[[1. 1.]]\n"
     ]
    }
   ],
   "source": [
    "b = np.ones((1,2))   # Create an array of all ones\n",
    "print(b)"
   ]
  },
  {
   "cell_type": "code",
   "execution_count": 46,
   "metadata": {
    "collapsed": false,
    "jupyter": {
     "outputs_hidden": false
    }
   },
   "outputs": [
    {
     "name": "stdout",
     "output_type": "stream",
     "text": [
      "[[7 7]\n",
      " [7 7]]\n"
     ]
    }
   ],
   "source": [
    "c = np.full((2,2), 7) # Create a constant array\n",
    "print(c) "
   ]
  },
  {
   "cell_type": "code",
   "execution_count": 47,
   "metadata": {
    "collapsed": false,
    "jupyter": {
     "outputs_hidden": false
    }
   },
   "outputs": [
    {
     "name": "stdout",
     "output_type": "stream",
     "text": [
      "[[1. 0.]\n",
      " [0. 1.]]\n"
     ]
    }
   ],
   "source": [
    "d = np.eye(2)        # Create a 2x2 identity matrix\n",
    "print(d)"
   ]
  },
  {
   "cell_type": "code",
   "execution_count": 48,
   "metadata": {
    "collapsed": false,
    "jupyter": {
     "outputs_hidden": false
    }
   },
   "outputs": [
    {
     "name": "stdout",
     "output_type": "stream",
     "text": [
      "[[0.52501545 0.66485075]\n",
      " [0.59472755 0.89850238]]\n"
     ]
    }
   ],
   "source": [
    "e = np.random.random((2,2)) # Create an array filled with random values\n",
    "print(e)"
   ]
  },
  {
   "cell_type": "markdown",
   "metadata": {},
   "source": [
    "### Array indexing"
   ]
  },
  {
   "cell_type": "markdown",
   "metadata": {},
   "source": [
    "Numpy offers several ways to index into arrays."
   ]
  },
  {
   "cell_type": "markdown",
   "metadata": {},
   "source": [
    "Slicing: Similar to Python lists, numpy arrays can be sliced. Since arrays may be multidimensional, you must specify a slice for each dimension of the array:"
   ]
  },
  {
   "cell_type": "code",
   "execution_count": 49,
   "metadata": {
    "collapsed": false,
    "jupyter": {
     "outputs_hidden": false
    }
   },
   "outputs": [
    {
     "name": "stdout",
     "output_type": "stream",
     "text": [
      "[[2 3]\n",
      " [6 7]]\n"
     ]
    }
   ],
   "source": [
    "import numpy as np\n",
    "\n",
    "# Create the following rank 2 array with shape (3, 4)\n",
    "# [[ 1  2  3  4]\n",
    "#  [ 5  6  7  8]\n",
    "#  [ 9 10 11 12]]\n",
    "a = np.array([[1,2,3,4], [5,6,7,8], [9,10,11,12]])\n",
    "\n",
    "# Use slicing to pull out the subarray consisting of the first 2 rows\n",
    "# and columns 1 and 2; b is the following array of shape (2, 2):\n",
    "# [[2 3]\n",
    "#  [6 7]]\n",
    "b = a[:2, 1:3]\n",
    "print(b)"
   ]
  },
  {
   "cell_type": "markdown",
   "metadata": {},
   "source": [
    "A slice of an array is a view into the same data, so modifying it will modify the original array."
   ]
  },
  {
   "cell_type": "code",
   "execution_count": 50,
   "metadata": {
    "collapsed": false,
    "jupyter": {
     "outputs_hidden": false
    }
   },
   "outputs": [
    {
     "name": "stdout",
     "output_type": "stream",
     "text": [
      "2\n",
      "77\n"
     ]
    }
   ],
   "source": [
    "print(a[0, 1])  \n",
    "b[0, 0] = 77    # b[0, 0] is the same piece of data as a[0, 1]\n",
    "print(a[0, 1]) "
   ]
  },
  {
   "cell_type": "markdown",
   "metadata": {},
   "source": [
    "You can also mix integer indexing with slice indexing. However, doing so will yield an array of lower rank than the original array. Note that this is quite different from the way that MATLAB handles array slicing:"
   ]
  },
  {
   "cell_type": "code",
   "execution_count": 51,
   "metadata": {
    "collapsed": false,
    "jupyter": {
     "outputs_hidden": false
    }
   },
   "outputs": [
    {
     "name": "stdout",
     "output_type": "stream",
     "text": [
      "[[ 1  2  3  4]\n",
      " [ 5  6  7  8]\n",
      " [ 9 10 11 12]]\n"
     ]
    }
   ],
   "source": [
    "# Create the following rank 2 array with shape (3, 4)\n",
    "a = np.array([[1,2,3,4], [5,6,7,8], [9,10,11,12]])\n",
    "print(a)"
   ]
  },
  {
   "cell_type": "markdown",
   "metadata": {},
   "source": [
    "Two ways of accessing the data in the middle row of the array.\n",
    "Mixing integer indexing with slices yields an array of lower rank,\n",
    "while using only slices yields an array of the same rank as the\n",
    "original array:"
   ]
  },
  {
   "cell_type": "code",
   "execution_count": 52,
   "metadata": {
    "collapsed": false,
    "jupyter": {
     "outputs_hidden": false
    }
   },
   "outputs": [
    {
     "name": "stdout",
     "output_type": "stream",
     "text": [
      "[5 6 7 8] (4,)\n",
      "[[5 6 7 8]] (1, 4)\n",
      "[[5 6 7 8]] (1, 4)\n"
     ]
    }
   ],
   "source": [
    "row_r1 = a[1, :]    # Rank 1 view of the second row of a  \n",
    "row_r2 = a[1:2, :]  # Rank 2 view of the second row of a\n",
    "row_r3 = a[[1], :]  # Rank 2 view of the second row of a\n",
    "print(row_r1, row_r1.shape) \n",
    "print(row_r2, row_r2.shape)\n",
    "print(row_r3, row_r3.shape)"
   ]
  },
  {
   "cell_type": "code",
   "execution_count": 53,
   "metadata": {
    "collapsed": false,
    "jupyter": {
     "outputs_hidden": false
    }
   },
   "outputs": [
    {
     "name": "stdout",
     "output_type": "stream",
     "text": [
      "[ 2  6 10] (3,)\n",
      "\n",
      "[[ 2]\n",
      " [ 6]\n",
      " [10]] (3, 1)\n"
     ]
    }
   ],
   "source": [
    "# We can make the same distinction when accessing columns of an array:\n",
    "col_r1 = a[:, 1]\n",
    "col_r2 = a[:, 1:2]\n",
    "print(col_r1, col_r1.shape)\n",
    "print()\n",
    "print(col_r2, col_r2.shape)"
   ]
  },
  {
   "cell_type": "markdown",
   "metadata": {},
   "source": [
    "Integer array indexing: When you index into numpy arrays using slicing, the resulting array view will always be a subarray of the original array. In contrast, integer array indexing allows you to construct arbitrary arrays using the data from another array. Here is an example:"
   ]
  },
  {
   "cell_type": "code",
   "execution_count": 54,
   "metadata": {
    "collapsed": false,
    "jupyter": {
     "outputs_hidden": false
    }
   },
   "outputs": [
    {
     "name": "stdout",
     "output_type": "stream",
     "text": [
      "[1 4 5]\n",
      "[1 4 5]\n"
     ]
    }
   ],
   "source": [
    "a = np.array([[1,2], [3, 4], [5, 6]])\n",
    "\n",
    "# An example of integer array indexing.\n",
    "# The returned array will have shape (3,) and \n",
    "print(a[[0, 1, 2], [0, 1, 0]])\n",
    "\n",
    "# The above example of integer array indexing is equivalent to this:\n",
    "print(np.array([a[0, 0], a[1, 1], a[2, 0]]))"
   ]
  },
  {
   "cell_type": "code",
   "execution_count": 55,
   "metadata": {
    "collapsed": false,
    "jupyter": {
     "outputs_hidden": false
    }
   },
   "outputs": [
    {
     "name": "stdout",
     "output_type": "stream",
     "text": [
      "[2 2]\n",
      "[2 2]\n"
     ]
    }
   ],
   "source": [
    "# When using integer array indexing, you can reuse the same\n",
    "# element from the source array:\n",
    "print(a[[0, 0], [1, 1]])\n",
    "\n",
    "# Equivalent to the previous integer array indexing example\n",
    "print(np.array([a[0, 1], a[0, 1]]))"
   ]
  },
  {
   "cell_type": "markdown",
   "metadata": {},
   "source": [
    "One useful trick with integer array indexing is selecting or mutating one element from each row of a matrix:"
   ]
  },
  {
   "cell_type": "code",
   "execution_count": 56,
   "metadata": {
    "collapsed": false,
    "jupyter": {
     "outputs_hidden": false
    }
   },
   "outputs": [
    {
     "name": "stdout",
     "output_type": "stream",
     "text": [
      "[[ 1  2  3]\n",
      " [ 4  5  6]\n",
      " [ 7  8  9]\n",
      " [10 11 12]]\n"
     ]
    }
   ],
   "source": [
    "# Create a new array from which we will select elements\n",
    "a = np.array([[1,2,3], [4,5,6], [7,8,9], [10, 11, 12]])\n",
    "print(a)"
   ]
  },
  {
   "cell_type": "code",
   "execution_count": 57,
   "metadata": {
    "collapsed": false,
    "jupyter": {
     "outputs_hidden": false
    }
   },
   "outputs": [
    {
     "name": "stdout",
     "output_type": "stream",
     "text": [
      "[ 1  6  7 11]\n"
     ]
    }
   ],
   "source": [
    "# Create an array of indices\n",
    "b = np.array([0, 2, 0, 1])\n",
    "\n",
    "# Select one element from each row of a using the indices in b\n",
    "print(a[np.arange(4), b])  # Prints \"[ 1  6  7 11]\""
   ]
  },
  {
   "cell_type": "code",
   "execution_count": 58,
   "metadata": {
    "collapsed": false,
    "jupyter": {
     "outputs_hidden": false
    }
   },
   "outputs": [
    {
     "name": "stdout",
     "output_type": "stream",
     "text": [
      "[[11  2  3]\n",
      " [ 4  5 16]\n",
      " [17  8  9]\n",
      " [10 21 12]]\n"
     ]
    }
   ],
   "source": [
    "# Mutate one element from each row of a using the indices in b\n",
    "a[np.arange(4), b] += 10\n",
    "print(a)"
   ]
  },
  {
   "cell_type": "markdown",
   "metadata": {},
   "source": [
    "Boolean array indexing: Boolean array indexing lets you pick out arbitrary elements of an array. Frequently this type of indexing is used to select the elements of an array that satisfy some condition. Here is an example:"
   ]
  },
  {
   "cell_type": "code",
   "execution_count": 59,
   "metadata": {
    "collapsed": false,
    "jupyter": {
     "outputs_hidden": false
    }
   },
   "outputs": [
    {
     "name": "stdout",
     "output_type": "stream",
     "text": [
      "[[False False]\n",
      " [ True  True]\n",
      " [ True  True]]\n"
     ]
    }
   ],
   "source": [
    "import numpy as np\n",
    "\n",
    "a = np.array([[1,2], [3, 4], [5, 6]])\n",
    "\n",
    "bool_idx = (a > 2)  # Find the elements of a that are bigger than 2;\n",
    "                    # this returns a numpy array of Booleans of the same\n",
    "                    # shape as a, where each slot of bool_idx tells\n",
    "                    # whether that element of a is > 2.\n",
    "\n",
    "print(bool_idx)"
   ]
  },
  {
   "cell_type": "code",
   "execution_count": 60,
   "metadata": {
    "collapsed": false,
    "jupyter": {
     "outputs_hidden": false
    }
   },
   "outputs": [
    {
     "name": "stdout",
     "output_type": "stream",
     "text": [
      "[3 4 5 6]\n",
      "[3 4 5 6]\n"
     ]
    }
   ],
   "source": [
    "# We use boolean array indexing to construct a rank 1 array\n",
    "# consisting of the elements of a corresponding to the True values\n",
    "# of bool_idx\n",
    "print(a[bool_idx])\n",
    "\n",
    "# We can do all of the above in a single concise statement:\n",
    "print(a[a > 2])"
   ]
  },
  {
   "cell_type": "markdown",
   "metadata": {},
   "source": [
    "For brevity we have left out a lot of details about numpy array indexing; if you want to know more you should read the documentation."
   ]
  },
  {
   "cell_type": "markdown",
   "metadata": {},
   "source": [
    "### Datatypes"
   ]
  },
  {
   "cell_type": "markdown",
   "metadata": {},
   "source": [
    "Every numpy array is a grid of elements of the same type. Numpy provides a large set of numeric datatypes that you can use to construct arrays. Numpy tries to guess a datatype when you create an array, but functions that construct arrays usually also include an optional argument to explicitly specify the datatype. Here is an example:"
   ]
  },
  {
   "cell_type": "code",
   "execution_count": 61,
   "metadata": {
    "collapsed": false,
    "jupyter": {
     "outputs_hidden": false
    }
   },
   "outputs": [
    {
     "name": "stdout",
     "output_type": "stream",
     "text": [
      "int64 float64 int64\n"
     ]
    }
   ],
   "source": [
    "x = np.array([1, 2])  # Let numpy choose the datatype\n",
    "y = np.array([1.0, 2.0])  # Let numpy choose the datatype\n",
    "z = np.array([1, 2], dtype=np.int64)  # Force a particular datatype\n",
    "\n",
    "print(x.dtype, y.dtype, z.dtype)"
   ]
  },
  {
   "cell_type": "markdown",
   "metadata": {},
   "source": [
    "You can read all about numpy datatypes in the [documentation](http://docs.scipy.org/doc/numpy/reference/arrays.dtypes.html)."
   ]
  },
  {
   "cell_type": "markdown",
   "metadata": {},
   "source": [
    "### Array math"
   ]
  },
  {
   "cell_type": "markdown",
   "metadata": {},
   "source": [
    "Basic mathematical functions operate elementwise on arrays, and are available both as operator overloads and as functions in the numpy module:"
   ]
  },
  {
   "cell_type": "code",
   "execution_count": 62,
   "metadata": {
    "collapsed": false,
    "jupyter": {
     "outputs_hidden": false
    }
   },
   "outputs": [
    {
     "name": "stdout",
     "output_type": "stream",
     "text": [
      "[[ 6.  8.]\n",
      " [10. 12.]]\n",
      "[[ 6.  8.]\n",
      " [10. 12.]]\n"
     ]
    }
   ],
   "source": [
    "x = np.array([[1,2],[3,4]], dtype=np.float64)\n",
    "y = np.array([[5,6],[7,8]], dtype=np.float64)\n",
    "\n",
    "# Elementwise sum; both produce the array\n",
    "print(x + y)\n",
    "print(np.add(x, y))"
   ]
  },
  {
   "cell_type": "code",
   "execution_count": 63,
   "metadata": {
    "collapsed": false,
    "jupyter": {
     "outputs_hidden": false
    }
   },
   "outputs": [
    {
     "name": "stdout",
     "output_type": "stream",
     "text": [
      "[[-4. -4.]\n",
      " [-4. -4.]]\n",
      "[[-4. -4.]\n",
      " [-4. -4.]]\n"
     ]
    }
   ],
   "source": [
    "# Elementwise difference; both produce the array\n",
    "print(x - y)\n",
    "print(np.subtract(x, y))"
   ]
  },
  {
   "cell_type": "code",
   "execution_count": 64,
   "metadata": {
    "collapsed": false,
    "jupyter": {
     "outputs_hidden": false
    }
   },
   "outputs": [
    {
     "name": "stdout",
     "output_type": "stream",
     "text": [
      "[[ 5. 12.]\n",
      " [21. 32.]]\n",
      "[[ 5. 12.]\n",
      " [21. 32.]]\n"
     ]
    }
   ],
   "source": [
    "# Elementwise product; both produce the array\n",
    "print(x * y)\n",
    "print(np.multiply(x, y))"
   ]
  },
  {
   "cell_type": "code",
   "execution_count": 65,
   "metadata": {
    "collapsed": false,
    "jupyter": {
     "outputs_hidden": false
    }
   },
   "outputs": [
    {
     "name": "stdout",
     "output_type": "stream",
     "text": [
      "[[0.2        0.33333333]\n",
      " [0.42857143 0.5       ]]\n",
      "[[0.2        0.33333333]\n",
      " [0.42857143 0.5       ]]\n"
     ]
    }
   ],
   "source": [
    "# Elementwise division; both produce the array\n",
    "# [[ 0.2         0.33333333]\n",
    "#  [ 0.42857143  0.5       ]]\n",
    "print(x / y)\n",
    "print(np.divide(x, y))"
   ]
  },
  {
   "cell_type": "code",
   "execution_count": 66,
   "metadata": {
    "collapsed": false,
    "jupyter": {
     "outputs_hidden": false
    }
   },
   "outputs": [
    {
     "name": "stdout",
     "output_type": "stream",
     "text": [
      "[[1.         1.41421356]\n",
      " [1.73205081 2.        ]]\n"
     ]
    }
   ],
   "source": [
    "# Elementwise square root; produces the array\n",
    "# [[ 1.          1.41421356]\n",
    "#  [ 1.73205081  2.        ]]\n",
    "print(np.sqrt(x))"
   ]
  },
  {
   "cell_type": "markdown",
   "metadata": {},
   "source": [
    "Note that unlike MATLAB, `*` is elementwise multiplication, not matrix multiplication. We instead use the dot function to compute inner products of vectors, to multiply a vector by a matrix, and to multiply matrices. dot is available both as a function in the numpy module and as an instance method of array objects:"
   ]
  },
  {
   "cell_type": "code",
   "execution_count": 67,
   "metadata": {
    "collapsed": false,
    "jupyter": {
     "outputs_hidden": false
    }
   },
   "outputs": [
    {
     "name": "stdout",
     "output_type": "stream",
     "text": [
      "219\n",
      "219\n"
     ]
    }
   ],
   "source": [
    "x = np.array([[1,2],[3,4]])\n",
    "y = np.array([[5,6],[7,8]])\n",
    "\n",
    "v = np.array([9,10])\n",
    "w = np.array([11, 12])\n",
    "\n",
    "# Inner product of vectors; both produce 219\n",
    "print(v.dot(w))\n",
    "print(np.dot(v, w))"
   ]
  },
  {
   "cell_type": "code",
   "execution_count": 68,
   "metadata": {
    "collapsed": false,
    "jupyter": {
     "outputs_hidden": false
    }
   },
   "outputs": [
    {
     "name": "stdout",
     "output_type": "stream",
     "text": [
      "[29 67]\n",
      "[29 67]\n"
     ]
    }
   ],
   "source": [
    "# Matrix / vector product; both produce the rank 1 array [29 67]\n",
    "print(x.dot(v))\n",
    "print(np.dot(x, v))"
   ]
  },
  {
   "cell_type": "code",
   "execution_count": 69,
   "metadata": {
    "collapsed": false,
    "jupyter": {
     "outputs_hidden": false
    }
   },
   "outputs": [
    {
     "name": "stdout",
     "output_type": "stream",
     "text": [
      "[[19 22]\n",
      " [43 50]]\n",
      "[[19 22]\n",
      " [43 50]]\n"
     ]
    }
   ],
   "source": [
    "# Matrix / matrix product; both produce the rank 2 array\n",
    "# [[19 22]\n",
    "#  [43 50]]\n",
    "print(x.dot(y))\n",
    "print(np.dot(x, y))"
   ]
  },
  {
   "cell_type": "markdown",
   "metadata": {},
   "source": [
    "Numpy provides many useful functions for performing computations on arrays; one of the most useful is `sum`:"
   ]
  },
  {
   "cell_type": "code",
   "execution_count": 70,
   "metadata": {
    "collapsed": false,
    "jupyter": {
     "outputs_hidden": false
    }
   },
   "outputs": [
    {
     "name": "stdout",
     "output_type": "stream",
     "text": [
      "10\n",
      "[4 6]\n",
      "[3 7]\n"
     ]
    }
   ],
   "source": [
    "x = np.array([[1,2],[3,4]])\n",
    "\n",
    "print(np.sum(x))  # Compute sum of all elements; prints \"10\"\n",
    "print(np.sum(x, axis=0))  # Compute sum of each column; prints \"[4 6]\"\n",
    "print(np.sum(x, axis=1))  # Compute sum of each row; prints \"[3 7]\""
   ]
  },
  {
   "cell_type": "markdown",
   "metadata": {},
   "source": [
    "You can find the full list of mathematical functions provided by numpy in the [documentation](http://docs.scipy.org/doc/numpy/reference/routines.math.html).\n",
    "\n",
    "Apart from computing mathematical functions using arrays, we frequently need to reshape or otherwise manipulate data in arrays. The simplest example of this type of operation is transposing a matrix; to transpose a matrix, simply use the T attribute of an array object:"
   ]
  },
  {
   "cell_type": "code",
   "execution_count": 71,
   "metadata": {
    "collapsed": false,
    "jupyter": {
     "outputs_hidden": false
    }
   },
   "outputs": [
    {
     "name": "stdout",
     "output_type": "stream",
     "text": [
      "[[1 2]\n",
      " [3 4]]\n",
      "[[1 3]\n",
      " [2 4]]\n"
     ]
    }
   ],
   "source": [
    "print(x)\n",
    "print(x.T)"
   ]
  },
  {
   "cell_type": "code",
   "execution_count": 72,
   "metadata": {
    "collapsed": false,
    "jupyter": {
     "outputs_hidden": false
    }
   },
   "outputs": [
    {
     "name": "stdout",
     "output_type": "stream",
     "text": [
      "[[1 2 3]]\n",
      "[[1]\n",
      " [2]\n",
      " [3]]\n"
     ]
    }
   ],
   "source": [
    "v = np.array([[1,2,3]])\n",
    "print(v) \n",
    "print(v.T)"
   ]
  },
  {
   "cell_type": "markdown",
   "metadata": {},
   "source": [
    "### Broadcasting"
   ]
  },
  {
   "cell_type": "markdown",
   "metadata": {},
   "source": [
    "Broadcasting is a powerful mechanism that allows numpy to work with arrays of different shapes when performing arithmetic operations. Frequently we have a smaller array and a larger array, and we want to use the smaller array multiple times to perform some operation on the larger array.\n",
    "\n",
    "For example, suppose that we want to add a constant vector to each row of a matrix. We could do it like this:"
   ]
  },
  {
   "cell_type": "code",
   "execution_count": 73,
   "metadata": {
    "collapsed": false,
    "jupyter": {
     "outputs_hidden": false
    }
   },
   "outputs": [
    {
     "name": "stdout",
     "output_type": "stream",
     "text": [
      "[[ 2  2  4]\n",
      " [ 5  5  7]\n",
      " [ 8  8 10]\n",
      " [11 11 13]]\n"
     ]
    }
   ],
   "source": [
    "# We will add the vector v to each row of the matrix x,\n",
    "# storing the result in the matrix y\n",
    "x = np.array([[1,2,3], [4,5,6], [7,8,9], [10, 11, 12]])\n",
    "v = np.array([1, 0, 1])\n",
    "y = np.empty_like(x)   # Create an empty matrix with the same shape as x\n",
    "\n",
    "# Add the vector v to each row of the matrix x with an explicit loop\n",
    "for i in range(4):\n",
    "    y[i, :] = x[i, :] + v\n",
    "\n",
    "print(y)"
   ]
  },
  {
   "cell_type": "markdown",
   "metadata": {},
   "source": [
    "This works; however when the matrix `x` is very large, computing an explicit loop in Python could be slow. Note that adding the vector v to each row of the matrix `x` is equivalent to forming a matrix `vv` by stacking multiple copies of `v` vertically, then performing elementwise summation of `x` and `vv`. We could implement this approach like this:"
   ]
  },
  {
   "cell_type": "code",
   "execution_count": 74,
   "metadata": {
    "collapsed": false,
    "jupyter": {
     "outputs_hidden": false
    }
   },
   "outputs": [
    {
     "name": "stdout",
     "output_type": "stream",
     "text": [
      "[[1 0 1]\n",
      " [1 0 1]\n",
      " [1 0 1]\n",
      " [1 0 1]]\n"
     ]
    }
   ],
   "source": [
    "vv = np.tile(v, (4, 1))  # Stack 4 copies of v on top of each other\n",
    "print(vv)                # Prints \"[[1 0 1]\n",
    "                         #          [1 0 1]\n",
    "                         #          [1 0 1]\n",
    "                         #          [1 0 1]]\""
   ]
  },
  {
   "cell_type": "code",
   "execution_count": 75,
   "metadata": {
    "collapsed": false,
    "jupyter": {
     "outputs_hidden": false
    }
   },
   "outputs": [
    {
     "name": "stdout",
     "output_type": "stream",
     "text": [
      "[[ 2  2  4]\n",
      " [ 5  5  7]\n",
      " [ 8  8 10]\n",
      " [11 11 13]]\n"
     ]
    }
   ],
   "source": [
    "y = x + vv  # Add x and vv elementwise\n",
    "print(y)"
   ]
  },
  {
   "cell_type": "markdown",
   "metadata": {},
   "source": [
    "Numpy broadcasting allows us to perform this computation without actually creating multiple copies of v. Consider this version, using broadcasting:"
   ]
  },
  {
   "cell_type": "code",
   "execution_count": 76,
   "metadata": {
    "collapsed": false,
    "jupyter": {
     "outputs_hidden": false
    }
   },
   "outputs": [
    {
     "name": "stdout",
     "output_type": "stream",
     "text": [
      "[[ 2  2  4]\n",
      " [ 5  5  7]\n",
      " [ 8  8 10]\n",
      " [11 11 13]]\n"
     ]
    }
   ],
   "source": [
    "import numpy as np\n",
    "\n",
    "# We will add the vector v to each row of the matrix x,\n",
    "# storing the result in the matrix y\n",
    "x = np.array([[1,2,3], [4,5,6], [7,8,9], [10, 11, 12]])\n",
    "v = np.array([1, 0, 1])\n",
    "y = x + v  # Add v to each row of x using broadcasting\n",
    "print(y)"
   ]
  },
  {
   "cell_type": "markdown",
   "metadata": {},
   "source": [
    "The line `y = x + v` works even though `x` has shape `(4, 3)` and `v` has shape `(3,)` due to broadcasting; this line works as if v actually had shape `(4, 3)`, where each row was a copy of `v`, and the sum was performed elementwise.\n",
    "\n",
    "Broadcasting two arrays together follows these rules:\n",
    "\n",
    "1. If the arrays do not have the same rank, prepend the shape of the lower rank array with 1s until both shapes have the same length.\n",
    "2. The two arrays are said to be compatible in a dimension if they have the same size in the dimension, or if one of the arrays has size 1 in that dimension.\n",
    "3. The arrays can be broadcast together if they are compatible in all dimensions.\n",
    "4. After broadcasting, each array behaves as if it had shape equal to the elementwise maximum of shapes of the two input arrays.\n",
    "5. In any dimension where one array had size 1 and the other array had size greater than 1, the first array behaves as if it were copied along that dimension\n",
    "\n",
    "If this explanation does not make sense, try reading the explanation from the [documentation](http://docs.scipy.org/doc/numpy/user/basics.broadcasting.html).\n",
    "\n",
    "Functions that support broadcasting are known as universal functions. You can find the list of all universal functions in the [documentation](http://docs.scipy.org/doc/numpy/reference/ufuncs.html#available-ufuncs).\n",
    "\n",
    "Here are some applications of broadcasting:"
   ]
  },
  {
   "cell_type": "code",
   "execution_count": 77,
   "metadata": {
    "collapsed": false,
    "jupyter": {
     "outputs_hidden": false
    }
   },
   "outputs": [
    {
     "name": "stdout",
     "output_type": "stream",
     "text": [
      "[[ 4  5]\n",
      " [ 8 10]\n",
      " [12 15]]\n"
     ]
    }
   ],
   "source": [
    "# Compute outer product of vectors\n",
    "v = np.array([1,2,3])  # v has shape (3,)\n",
    "w = np.array([4,5])    # w has shape (2,)\n",
    "# To compute an outer product, we first reshape v to be a column\n",
    "# vector of shape (3, 1); we can then broadcast it against w to yield\n",
    "# an output of shape (3, 2), which is the outer product of v and w:\n",
    "\n",
    "print(np.reshape(v, (3, 1)) * w)"
   ]
  },
  {
   "cell_type": "code",
   "execution_count": 78,
   "metadata": {
    "collapsed": false,
    "jupyter": {
     "outputs_hidden": false
    }
   },
   "outputs": [
    {
     "name": "stdout",
     "output_type": "stream",
     "text": [
      "[[2 4 6]\n",
      " [5 7 9]]\n"
     ]
    }
   ],
   "source": [
    "# Add a vector to each row of a matrix\n",
    "x = np.array([[1,2,3], [4,5,6]])\n",
    "# x has shape (2, 3) and v has shape (3,) so they broadcast to (2, 3),\n",
    "# giving the following matrix:\n",
    "\n",
    "print(x + v)"
   ]
  },
  {
   "cell_type": "code",
   "execution_count": 79,
   "metadata": {
    "collapsed": false,
    "jupyter": {
     "outputs_hidden": false
    }
   },
   "outputs": [
    {
     "name": "stdout",
     "output_type": "stream",
     "text": [
      "[[ 5  6  7]\n",
      " [ 9 10 11]]\n"
     ]
    }
   ],
   "source": [
    "# Add a vector to each column of a matrix\n",
    "# x has shape (2, 3) and w has shape (2,).\n",
    "# If we transpose x then it has shape (3, 2) and can be broadcast\n",
    "# against w to yield a result of shape (3, 2); transposing this result\n",
    "# yields the final result of shape (2, 3) which is the matrix x with\n",
    "# the vector w added to each column. Gives the following matrix:\n",
    "\n",
    "print((x.T + w).T)"
   ]
  },
  {
   "cell_type": "code",
   "execution_count": 80,
   "metadata": {
    "collapsed": false,
    "jupyter": {
     "outputs_hidden": false
    }
   },
   "outputs": [
    {
     "name": "stdout",
     "output_type": "stream",
     "text": [
      "[[ 5  6  7]\n",
      " [ 9 10 11]]\n"
     ]
    }
   ],
   "source": [
    "# Another solution is to reshape w to be a row vector of shape (2, 1);\n",
    "# we can then broadcast it directly against x to produce the same\n",
    "# output.\n",
    "print(x + np.reshape(w, (2, 1)))"
   ]
  },
  {
   "cell_type": "code",
   "execution_count": 81,
   "metadata": {
    "collapsed": false,
    "jupyter": {
     "outputs_hidden": false
    }
   },
   "outputs": [
    {
     "name": "stdout",
     "output_type": "stream",
     "text": [
      "[[ 2  4  6]\n",
      " [ 8 10 12]]\n"
     ]
    }
   ],
   "source": [
    "# Multiply a matrix by a constant:\n",
    "# x has shape (2, 3). Numpy treats scalars as arrays of shape ();\n",
    "# these can be broadcast together to shape (2, 3), producing the\n",
    "# following array:\n",
    "print(x * 2)"
   ]
  },
  {
   "cell_type": "markdown",
   "metadata": {},
   "source": [
    "Broadcasting typically makes your code more concise and faster, so you should strive to use it where possible."
   ]
  },
  {
   "cell_type": "markdown",
   "metadata": {},
   "source": [
    "This brief overview has touched on many of the important things that you need to know about numpy, but is far from complete. Check out the [numpy reference](https://docs.scipy.org/doc/numpy/reference/) to find out much more about numpy."
   ]
  },
  {
   "cell_type": "markdown",
   "metadata": {},
   "source": [
    "## Matplotlib"
   ]
  },
  {
   "cell_type": "markdown",
   "metadata": {},
   "source": [
    "Matplotlib is a plotting library. In this section give a brief introduction to the `matplotlib.pyplot` module, which provides a plotting system similar to that of MATLAB."
   ]
  },
  {
   "cell_type": "code",
   "execution_count": 82,
   "metadata": {
    "collapsed": false,
    "jupyter": {
     "outputs_hidden": false
    }
   },
   "outputs": [],
   "source": [
    "import matplotlib.pyplot as plt"
   ]
  },
  {
   "cell_type": "markdown",
   "metadata": {},
   "source": [
    "### Plotting"
   ]
  },
  {
   "cell_type": "markdown",
   "metadata": {},
   "source": [
    "The most important function in `matplotlib` is plot, which allows you to plot 2D data. Here is a simple example:"
   ]
  },
  {
   "cell_type": "code",
   "execution_count": 83,
   "metadata": {
    "collapsed": false,
    "jupyter": {
     "outputs_hidden": false
    }
   },
   "outputs": [
    {
     "data": {
      "image/png": "[encoded data removed]",
      "text/plain": [
       "<Figure size 640x480 with 1 Axes>"
      ]
     },
     "metadata": {},
     "output_type": "display_data"
    }
   ],
   "source": [
    "# Compute the x and y coordinates for points on a sine curve\n",
    "x = np.arange(0, 3 * np.pi, 0.1)\n",
    "y = np.sin(x)\n",
    "\n",
    "# Plot the points using matplotlib\n",
    "plt.plot(x, y)\n",
    "plt.show()"
   ]
  },
  {
   "cell_type": "markdown",
   "metadata": {},
   "source": [
    "With just a little bit of extra work we can easily plot multiple lines at once, and add a title, legend, and axis labels:"
   ]
  },
  {
   "cell_type": "code",
   "execution_count": 84,
   "metadata": {
    "collapsed": false,
    "jupyter": {
     "outputs_hidden": false
    }
   },
   "outputs": [
    {
     "data": {
      "image/png": "[encoded data removed]",
      "text/plain": [
       "<Figure size 640x480 with 1 Axes>"
      ]
     },
     "metadata": {},
     "output_type": "display_data"
    }
   ],
   "source": [
    "y_sin = np.sin(x)\n",
    "y_cos = np.cos(x)\n",
    "\n",
    "# Plot the points using matplotlib\n",
    "plt.plot(x, y_sin)\n",
    "plt.plot(x, y_cos)\n",
    "plt.xlabel('x axis label')\n",
    "plt.ylabel('y axis label')\n",
    "plt.title('Sine and Cosine')\n",
    "plt.legend(['Sine', 'Cosine'])\n",
    "plt.show()"
   ]
  },
  {
   "cell_type": "markdown",
   "metadata": {},
   "source": [
    "### Subplots "
   ]
  },
  {
   "cell_type": "markdown",
   "metadata": {},
   "source": [
    "You can plot different things in the same figure using the subplot function. Here is an example:"
   ]
  },
  {
   "cell_type": "code",
   "execution_count": 85,
   "metadata": {
    "collapsed": false,
    "jupyter": {
     "outputs_hidden": false
    }
   },
   "outputs": [
    {
     "data": {
      "image/png": "[encoded data removed]",
      "text/plain": [
       "<Figure size 640x480 with 2 Axes>"
      ]
     },
     "metadata": {},
     "output_type": "display_data"
    }
   ],
   "source": [
    "# Compute the x and y coordinates for points on sine and cosine curves\n",
    "x = np.arange(0, 3 * np.pi, 0.1)\n",
    "y_sin = np.sin(x)\n",
    "y_cos = np.cos(x)\n",
    "\n",
    "# Set up a subplot grid that has height 2 and width 1,\n",
    "# and set the first such subplot as active.\n",
    "plt.subplot(2, 1, 1)\n",
    "\n",
    "# Make the first plot\n",
    "plt.plot(x, y_sin)\n",
    "plt.title('Sine')\n",
    "\n",
    "# Set the second subplot as active, and make the second plot.\n",
    "plt.subplot(2, 1, 2)\n",
    "plt.plot(x, y_cos)\n",
    "plt.title('Cosine')\n",
    "\n",
    "# Show the figure.\n",
    "plt.show()"
   ]
  },
  {
   "cell_type": "markdown",
   "metadata": {},
   "source": [
    "You can read much more about the `subplot` function in the [documentation](https://matplotlib.org/stable/api/_as_gen/matplotlib.pyplot.subplot.html)."
   ]
  },
  {
   "cell_type": "markdown",
   "metadata": {
    "collapsed": false,
    "jp-MarkdownHeadingCollapsed": true,
    "jupyter": {
     "outputs_hidden": false
    }
   },
   "source": [
    "# Chapter 2 Object Oriented Programming"
   ]
  },
  {
   "cell_type": "markdown",
   "metadata": {
    "jp-MarkdownHeadingCollapsed": true
   },
   "source": [
    "### 2.1 Goals, Principals, and Patterns"
   ]
  },
  {
   "cell_type": "markdown",
   "metadata": {},
   "source": [
    "#### 2.1.1 Object-Oriented Design Goals"
   ]
  },
  {
   "cell_type": "markdown",
   "metadata": {},
   "source": [
    "**Robustness**- Software should be both correct and robust—able to handle unexpected inputs gracefully. Without robustness, errors can cause serious harm, as seen in the Therac-25 accidents where software flaws led to patient deaths.\n",
    "\n",
    "**Adaptability**- Quality software must be adaptable, meaning it can evolve as conditions change, and portable, meaning it can run on different systems with little modification. Python is highlighted as a language that naturally supports portability.\n",
    "\n",
    "**Reusability**- Quality software should be reusable, allowing the same code to be applied in different systems to reduce costs. However, reuse must be done carefully, since inappropriate reuse—like with the Therac-25 borrowing code from the Therac-20—can lead to serious errors."
   ]
  },
  {
   "cell_type": "markdown",
   "metadata": {},
   "source": [
    "#### 2.1.2 Object-Oriented Design Principles"
   ]
  },
  {
   "cell_type": "markdown",
   "metadata": {},
   "source": [
    "**Modularity**-Modularity means dividing software into separate, well-organized components that interact in defined ways. Like systems in a house, this structure makes software easier to understand, test, debug, and reuse. In Python, modules (like math or os) show this principle in action, supporting robustness and reusability by keeping functions and classes grouped logically.\n",
    "\n",
    "\n",
    "**Abstraction**-Abstraction simplifies complex systems by focusing only on their essential parts. In data structures, this leads to Abstract Data Types (ADTs), which define what operations are supported without specifying how they’re implemented. Python supports abstraction both informally through duck typing and formally with Abstract Base Classes (ABCs), which set required methods for concrete classes to implement. This allows for flexible yet structured design of reusable data structures.\n",
    "\n",
    "\n",
    "**Encapsulation**-Encapsulation means hiding the internal details of a component so only its public interface is exposed. This prevents other parts of the system from depending on implementation details, making software more robust and adaptable. In Python, encapsulation is loosely enforced by convention, where names starting with an underscore are treated as nonpublic."
   ]
  },
  {
   "cell_type": "markdown",
   "metadata": {},
   "source": [
    "#### 2.1.3 Design Patterns"
   ]
  },
  {
   "cell_type": "markdown",
   "metadata": {},
   "source": [
    "**Design Patterns** -Object-oriented design supports creating reusable, robust, and adaptable software. Beyond knowing OOP basics, writing good code requires applying design patterns/general templates for solving common software problems. Each pattern includes a name, context, template, and result, making them adaptable across different situations."
   ]
  },
  {
   "cell_type": "markdown",
   "metadata": {},
   "source": [
    "*This book introduces both algorithm design patterns and software engineering design patterns*:"
   ]
  },
  {
   "cell_type": "markdown",
   "metadata": {},
   "source": [
    "**Algorithm Design Patterns**:\n",
    "- Recursion <a href='' >(Chapter 4)</a>\n",
    "- Amortization <a href='' >(Sections 5.3 and 11.4)</a>\n",
    "- Divide-and-Conquer <a href='' >(Section 12.2.1)</a>\n",
    "- Prune-and-Search / Decrease-and-Conquer <a href='' >(Section 12.7.1)</a>\n",
    "- Brute Force <a href='' >(Section 13.2.1)</a>\n",
    "- Dynamic Programming <a href='' >(Section 13.3)</a>\n",
    "- Greedy Method <a href='' >(Sections 13.4.2, 14.6.2, 14.7)</a>"
   ]
  },
  {
   "cell_type": "markdown",
   "metadata": {},
   "source": [
    "**Software Engineering Design Patterns**:\n",
    "- Iterator <a href='' >(Sections 1.8, 2.3.4)</a>\n",
    "- Adapter <a href='' >(Section 6.1.2)</a>\n",
    "- Position <a href='' >(Sections 7.4, 8.1.2)</a>\n",
    "- Composition <a href='' >(Sections 7.6.1, 9.2.1, 10.1.4)</a>\n",
    "- Template Method <a href='' >(Sections 2.4.3, 8.4.6, 10.1.3, 10.5.2, 11.2.1)</a>\n",
    "- Locator <a href='' >(Section 9.5.1)</a>\n",
    "- Factory Method <a href='' >(Section 11.2.1)</a>"
   ]
  },
  {
   "cell_type": "markdown",
   "metadata": {
    "jp-MarkdownHeadingCollapsed": true
   },
   "source": [
    "### 2.2 Software Development "
   ]
  },
  {
   "cell_type": "markdown",
   "metadata": {},
   "source": [
    "Traditional software development typically follows three main phases:\n",
    "\n",
    "**Design**– planning and structuring the software.\n",
    " \n",
    "**Implementation**– writing the actual code.\n",
    "\n",
    "**Testing and Debugging** – ensuring correctness and fixing errors.\n",
    "\n",
    "Alongside these phases, good practices in Python include coding style, naming conventions, formal documentation, and unit testing, all of which contribute to maintainable and reliable software."
   ]
  },
  {
   "cell_type": "markdown",
   "metadata": {},
   "source": [
    "#### 2.2.1 Design"
   ]
  },
  {
   "cell_type": "markdown",
   "metadata": {},
   "source": [
    "**\r\n",
    "\r\n",
    "In object-oriented programming, **design** is the most critical phase of development. This is where programmers decide what **classes** to create, what data each **class** will store, and how they will interact. Beginners often find this step challenging, but a few guiding principles help:\r\n",
    "\r\n",
    "* **Responsibilities:** Break work into distinct actors, each with a clear responsibility (described with action verbs). These become **classes**.\r\n",
    "* **Independence:** Give each **class** autonomy over its own responsibilities and data, minimizing dependencies on others.\r\n",
    "* **Behaviors:** Define precise **behaviors** (**methods**) that form the **class’s interface**, making interactions clear and predictable.\r\n",
    "\r\n",
    "Together, defining **classes**, **instance variables**, and **methods** forms the foundation of object-oriented program design. With experience, programmers refine this process by recognizing patterns and applying them ento your notes?\r\n"
   ]
  },
  {
   "cell_type": "markdown",
   "metadata": {},
   "source": [
    "\n",
    "A common tool for high-level software design is the **CRC card** (**Class–Responsibility–Collaborator**). These cards help break down a program into manageable pieces before coding.\n",
    "\n",
    "* **Class:** The name of the component (which will become a class).\n",
    "* **Responsibilities:** The duties or actions that the class must perform.\n",
    "* **Collaborators:** Other classes that this class must interact with to fulfill its responsibilities.\n",
    "\n",
    "The design process alternates between **actions** (responsibilities) and **actors** (classes). The goal is for each class to have a **small, clear set of responsibilities and collaborators**, ensuring modularity and manageability.\n",
    "\n",
    "| **Class**      | **Responsibilities**                                                                                                                                      | **Collaborators**                                              |\n",
    "| -------------- | --------------------------------------------------------------------------------------------------------------------------------------------------------- | -------------------------------------------------------------- |\n",
    "| **CreditCard** | - Store customer, bank, balance, and limit information <br> - Process charges <br> - Handle payments <br> - Provide account information through accessors | - Customer (user of the card) <br> - Bank (issuer of the card) |\n",
    "\n",
    "\n",
    "*\n",
    "\n",
    "To further document design, software engineers use **UML (Unified Modeling Language) diagrams**. A **class diagram** visually shows a class’s **name**, **fields (instance variables)**, and **behaviors (methods)**.\n",
    "\n",
    "#### **Example: CreditCard Class Diagram**\n",
    "\n",
    "**Class:**\n",
    "\n",
    "* CreditCard\n",
    "\n",
    "**Fields (Instance Variables):**\n",
    "\n",
    "* customer\n",
    "* bank\n",
    "* balance\n",
    "* limit\n",
    "\n",
    "**Behaviors (Methods):**\n",
    "\n",
    "* get\\_customer()\n",
    "* get\\_bank()\n",
    "* get\\_balance()\n",
    "* get\\_limit()\n",
    "* get\\_account()\n",
    "* make\\_payment(amount)\n",
    "* charge(price)\n",
    "\n",
    "\n"
   ]
  },
  {
   "cell_type": "markdown",
   "metadata": {},
   "source": [
    "#### 2.2.2 Psuedo Code"
   ]
  },
  {
   "cell_type": "markdown",
   "metadata": {},
   "source": [
    "**Pseudo-code** is a structured, human-readable description of an algorithm that blends **natural language** with **high-level programming constructs**. It is not intended for computers but for **communicating ideas clearly to people**.\n",
    "\n",
    "* **Purpose:** Expresses the main steps of an algorithm without low-level implementation details.\n",
    "* **Balance:** Must be clear and structured, but not so vague that important steps are lost.\n",
    "* **Style (in this book):**\n",
    "\n",
    "  * Indentation shows control structures (similar to Python).\n",
    "  * Sequences are indexed as **A\\[0] … A\\[n−1]**.\n",
    "  * Comments are enclosed in **{curly braces}**, not with Python’s `#`.\n",
    "  * Uses informal phrases like **“indicate an error”** instead of exact Python code (`raise`).\n",
    "\n",
    "---\n"
   ]
  },
  {
   "cell_type": "markdown",
   "metadata": {},
   "source": [
    "#### 2.2.3 Coding Style and Documentation"
   ]
  },
  {
   "cell_type": "markdown",
   "metadata": {},
   "source": [
    "\n",
    "**Coding Style and Documentation**\n",
    "\n",
    "Good coding style makes programs easier to **read**, **understand**, and **maintain**. Python has common conventions for naming, indentation, and documentation:\n",
    "\n",
    "**Indentation**\n",
    "\n",
    "* Use **4 spaces** per block level (avoid tabs, since they display differently across systems).\n",
    "\n",
    "```python\n",
    "if n % 2 == 1:\n",
    "    print(\"n is odd\")\n",
    "```\n",
    "\n",
    "---\n",
    "\n",
    "**Naming Conventions**\n",
    "\n",
    "* **Classes:** Singular nouns, written in **CamelCase**.\n",
    "\n",
    "  ```python\n",
    "  class CreditCard:\n",
    "      pass\n",
    "  ```\n",
    "* **Functions/Methods:** Lowercase, words separated by **underscores**; typically verbs.\n",
    "\n",
    "  ```python\n",
    "  def make_payment(amount):\n",
    "      pass\n",
    "  ```\n",
    "* **Variables:** Lowercase nouns.\n",
    "\n",
    "  ```python\n",
    "  price = 100\n",
    "  ```\n",
    "* **Constants:** ALL CAPS with underscores.\n",
    "\n",
    "  ```python\n",
    "  MAX_SIZE = 5000\n",
    "  ```\n",
    "* **Internal Use:** Identifiers starting with an underscore are intended as **nonpublic**.\n",
    "\n",
    "  ```python\n",
    "  _secret_value = 42\n",
    "  ```\n",
    "\n",
    "---\n",
    "\n",
    "**Comments**\n",
    "\n",
    "* **Inline comment** (for quick notes):\n",
    "\n",
    "  ```python\n",
    "  if n % 2 == 1:  # n is odd\n",
    "      print(\"Odd\")\n",
    "  ```\n",
    "* **Multiline block comment** (triple quotes, not executed):\n",
    "\n",
    "  ```python\n",
    "  \"\"\"\n",
    "  This section calculates totals\n",
    "  and applies discounts\n",
    "  \"\"\"\n",
    "  ```\n",
    "\n",
    "---\n",
    "\n",
    "**Docstrings**\n",
    "\n",
    "* A **docstring** is a special string literal placed at the start of a **module**, **class**, or **function**.\n",
    "* Always written with triple quotes `\"\"\"` and explains purpose, parameters, and behavior.\n",
    "\n",
    "**Example 1 (single-line docstring):**\n",
    "\n",
    "```python\n",
    "def scale(data, factor):\n",
    "    \"\"\"Multiply all entries of numeric data list by the given factor.\"\"\"\n",
    "    for j in range(len(data)):\n",
    "        data[j] *= factor\n",
    "```\n",
    "\n",
    "**Example 2 (multi-line detailed docstring):**\n",
    "\n",
    "```python\n",
    "def scale(data, factor):\n",
    "    \"\"\"Multiply all entries of numeric data list by the given factor.\n",
    "\n",
    "    data   : a mutable sequence (e.g., list) containing numeric elements\n",
    "    factor : a number used as the multiplicative scaling factor\n",
    "    \"\"\"\n",
    "    for j in range(len(data)):\n",
    "        data[j] *= factor\n"
   ]
  },
  {
   "cell_type": "markdown",
   "metadata": {},
   "source": [
    "#### 2.2.4 Testing and Debugging"
   ]
  },
  {
   "cell_type": "markdown",
   "metadata": {},
   "source": [
    "**Testing** ensures a program works correctly on different inputs, while **debugging** finds and fixes errors. These are often the most time-consuming \n",
    "phases of development.\n",
    "\n",
    "**Testing**\n",
    "\n",
    "* **Coverage Goals:**\n",
    "\n",
    "  * **Method coverage:** Each method of a class should be tested at least once.\n",
    "  * **Statement coverage:** Every line of code should run at least once.\n",
    "* **Special Cases to Test:**\n",
    "\n",
    "  * Empty input (`[]`)\n",
    "  * Single element\n",
    "  * All identical elements\n",
    "  * Already sorted input\n",
    "  * Reverse-sorted input\n",
    "* **Boundary Cases:** For lists, test inserts/removals at the **beginning** and **end**.\n",
    "* **Random Testing:** Use Python’s `random` module to generate large test sets.\n",
    "\n",
    "**Testing Strategies:**\n",
    "\n",
    "* **Top-Down Testing:** Start with higher-level components, replacing lower-level ones with **stubs** (fake placeholders).\n",
    "* **Bottom-Up Testing (Unit Testing):** Test lower-level components first, then move upward. Helps isolate errors better.\n",
    "\n",
    "**Example: Testing inside a module**\n",
    "\n",
    "```python\n",
    "def add(a, b):\n",
    "    return a + b\n",
    "\n",
    "if __name__ == \"__main__\":\n",
    "    # simple tests\n",
    "    print(add(2, 3))  # expected 5\n",
    "    print(add(-1, 1)) # expected 0\n",
    "```\n",
    "\n",
    "**Automated Testing (unittest):**\n",
    "\n",
    "```python\n",
    "import unittest\n",
    "\n",
    "class TestMath(unittest.TestCase):\n",
    "    def test_add(self):\n",
    "        self.assertEqual(add(2, 3), 5)\n",
    "        self.assertEqual(add(-1, 1), 0)\n",
    "\n",
    "if __name__ == \"__main__\":\n",
    "    unittest.main()\n",
    "```\n",
    "\n",
    "**Regression Testing:** Run all old test cases after changes to ensure new bugs aren’t introduced.\n",
    "\n",
    "---\n",
    "\n",
    "**Debugging**\n",
    "\n",
    "* **Print Debugging:** Insert `print()` statements to trace variable values.\n",
    "\n",
    "  ```python\n",
    "  x = 10\n",
    "  print(\"Debug: x =\", x)\n",
    "  ```"
   ]
  },
  {
   "cell_type": "markdown",
   "metadata": {},
   "source": [
    "### 2.3 Class Definitions"
   ]
  },
  {
   "cell_type": "markdown",
   "metadata": {},
   "source": [
    "* A **class** is the main tool for **abstraction** in object-oriented programming.\n",
    "* In Python, **everything is an instance of some class**.\n",
    "* A class defines:\n",
    "\n",
    "  * **Behaviors** → through **methods** (member functions) shared by all instances.\n",
    "  * **State** → through **attributes** (fields, instance variables, or data members) that store information unique to each instance.\n",
    "* A class acts as a **blueprint**, describing both how objects behave and how their data is structured.\n",
    "\n"
   ]
  },
  {
   "cell_type": "markdown",
   "metadata": {},
   "source": [
    "#### 2.3.1 Example Credit Card Class"
   ]
  },
  {
   "cell_type": "markdown",
   "metadata": {},
   "source": [
    "**CreditCard Class – Key Points**\n",
    "\n",
    "* **Purpose:** Models a traditional credit card with **customer, bank, account, limit, and balance**.\n",
    "* **Encapsulation:** Data members (like **balance**) are treated as **nonpublic** (underscore prefix convention). Users should access data through **accessors** (e.g., `get_balance()`) or **update methods** (`make_payment()`).\n",
    "\n",
    "**The `self` Identifier**\n",
    "\n",
    "* `self` always refers to the **specific instance** of the class.\n",
    "* Example: `self.balance` means “this card’s balance,” while `amount` is just the method’s local parameter.\n",
    "\n",
    "**Constructor (`__init__`)**\n",
    "\n",
    "* Called automatically when creating a new card:\n",
    "\n",
    "  ```python\n",
    "  cc = CreditCard(\"John Doe\", \"1st Bank\", 5391037593875309, 1000)\n",
    "  ```\n",
    "* Initializes instance variables: **customer, bank, account, limit, balance**.\n",
    "\n",
    "**Key Methods**\n",
    "\n",
    "* **`charge(price)`** – adds purchase to balance **if it won’t exceed the limit**.\n",
    "* **`make_payment(amount)`** – subtracts payment from balance.\n",
    "\n",
    "**Error Checking**\n",
    "\n",
    "* Current implementation is **not robust**:\n",
    "\n",
    "  * No type checking (e.g., `visa.charge(\"candy\")` would crash).\n",
    "  * Negative charges (`visa.charge(-300)`) reduce balance, which could be a **loophole** unless treated as merchandise returns.\n",
    "\n",
    "**Testing**\n",
    "\n",
    "* Basic tests can be placed in the class file under:\n",
    "\n",
    "  ```python\n",
    "  if __name__ == \"__main__\":\n",
    "      # simple test cases\n",
    "  ```\n",
    "* This ensures **method coverage** (each method tested at least once), but not **statement coverage** (e.g., no test where a charge exceeds limit).\n",
    "* **Formal testing** with `unittest` is better since it can automatically compare expected vs. actual outcomes.\n",
    "\n",
    "---\n"
   ]
  },
  {
   "cell_type": "markdown",
   "metadata": {},
   "source": [
    "\n",
    "#### 2.3.2 **Operator Overloading & Special Methods**\n",
    "\n",
    "* Python lets you redefine how operators work for custom classes (e.g., `+`, `-`, `*`).\n",
    "* This is done using **special methods** (a.k.a. *dunder methods*):\n",
    "\n",
    "  * `__add__` → `a + b`\n",
    "  * `__radd__` → `b + a` (if left-hand side doesn’t know how)\n",
    "  * `__len__` → `len(a)`\n",
    "  * `__getitem__` → `a[k]`\n",
    "  * `__setitem__` → `a[k] = v`\n",
    "  * `__str__` → `str(a)`\n",
    "  * `__eq__`, `__lt__`, `__ne__`, etc. for comparisons\n",
    "* If a special method isn’t implemented, trying that operator will raise an error.\n",
    "\n",
    "---\n",
    "\n",
    "#### 2.3.3 **Example: Vector Class**\n",
    "\n",
    "* Represents a **mathematical vector**, not just a list.\n",
    "* Implements operator overloading for natural semantics:\n",
    "\n",
    "  * `u + v` → element-wise addition\n",
    "  * `==` / `!=` → compare coordinates\n",
    "  * `str(v)` → pretty string output like `<0, 23, 0, 0, 45>`\n",
    "* Internal storage uses a **list (coords)** but is encapsulated.\n",
    "\n",
    "**Example Use:**\n",
    "\n",
    "```python\n",
    "v = Vector(5)       # <0,0,0,0,0>\n",
    "v[1] = 23\n",
    "v[-1] = 45\n",
    "u = v + v           # <0,46,0,0,90>\n",
    "print(u)            # calls __str__\n",
    "```\n",
    "\n",
    "---\n",
    "\n",
    "#### 2.3.4 **Iterators**\n",
    "\n",
    "* Iterators let you loop through custom objects with `for`.\n",
    "* Requires two methods:\n",
    "\n",
    "  * `__iter__()` → returns the iterator\n",
    "  * `__next__()` → returns the next element or raises `StopIteration`\n",
    "* Any class with **`__len__`** and **`__getitem__`** automatically supports iteration.\n",
    "* Example: `for entry in v:` works for the Vector class.\n",
    "\n",
    "---\n",
    "\n",
    "#### 2.3.5 **Example: Custom Range Class**\n",
    "\n",
    "* Mimics Python’s built-in **`range`**, but uses **lazy evaluation** (doesn’t store all numbers).\n",
    "* Stores only `start`, `step`, and `length`.\n",
    "* Key methods:\n",
    "\n",
    "  * `__len__` → number of items\n",
    "  * `__getitem__` → compute k-th item, supports negative indices\n",
    "* Example formula for length:\n",
    "\n",
    "  ```python\n",
    "  max(0, (stop - start + step - 1) // step)\n",
    "  ```\n",
    "\n",
    "**Example Use:**\n",
    "\n",
    "```python\n",
    "r = Range(2, 10, 2)   # acts like [2,4,6,8]\n",
    "print(len(r))         # 4\n",
    "print(r[2])           # 6\n",
    "for x in r:\n",
    "    print(x)\n",
    "```\n",
    "\n",
    "---\n",
    "\n",
    "In short: **special methods let your classes behave like built-ins**, and with operator overloading, iterators, and lazy evaluation (like in `Range`), you can design custom, efficient, and intuitive data structures.\n",
    "\n",
    "---\n"
   ]
  },
  {
   "cell_type": "markdown",
   "metadata": {},
   "source": [
    "### 2.4 Inheritance"
   ]
  },
  {
   "cell_type": "markdown",
   "metadata": {},
   "source": [
    "* **Inheritance** organizes classes in a **hierarchy** (general → specific).\n",
    "\n",
    "  * Example: **Ranch → House → Building**\n",
    "  * This is an **“is a” relationship** (a ranch *is a* house, a house *is a* building).\n",
    "\n",
    "* **Superclass (Parent/Base Class):** The class being extended.\n",
    "\n",
    "* **Subclass (Child Class):** The class that inherits.\n",
    "\n",
    "**Ways a Subclass Differs**\n",
    "\n",
    "1. **Specialization (Override):** Replace a method with a new version.\n",
    "2. **Extension:** Add new methods beyond those of the parent.\n",
    "\n",
    "---\n",
    "\n",
    "##### **Example 1: PredatoryCreditCard**\n",
    "\n",
    "* Subclass of **CreditCard**.\n",
    "* Differences:\n",
    "\n",
    "  * Overrides **charge()** → adds \\$5 fee if over the limit.\n",
    "  * Extends with **process\\_month()** → applies interest based on APR.\n",
    "* Uses **super()** to call parent constructor and parent `charge()`.\n",
    "* Accesses `_balance` (treated as **protected**, not public).\n",
    "\n",
    "---\n",
    "\n",
    "##### **Example 2: Progression Hierarchy**\n",
    "\n",
    "Base class: **Progression** (default sequence: 0, 1, 2, …)\n",
    "\n",
    "* Implements iterator methods: `__iter__`, `__next__`.\n",
    "* Relies on a nonpublic **advance()** method (to be overridden).\n",
    "\n",
    "Subclasses:\n",
    "\n",
    "* **ArithmeticProgression:** `advance()` adds a fixed increment.\n",
    "* **GeometricProgression:** `advance()` multiplies by a base.\n",
    "* **FibonacciProgression:** `advance()` adds the two most recent values.\n",
    "\n",
    "---\n",
    "\n",
    "##### **Abstract Base Classes (ABCs)**\n",
    "\n",
    "* A class meant only as a base, not to be instantiated.\n",
    "* Python’s `abc` module supports this formally with `@abstractmethod`.\n",
    "* Example: **collections.Sequence**\n",
    "\n",
    "  * Requires `__len__` and `__getitem__`.\n",
    "  * Provides `count()`, `index()`, `__contains__()` automatically.\n",
    "\n",
    "---\n",
    "\n",
    " **Key Takeaway:** Inheritance lets you reuse and organize code.\n",
    "\n",
    "* **Specialize** when you need to change behavior.\n",
    "* **Extend** when you need new behavior.\n",
    "* Use **abstract base classes** to enforce a consistent interface across multiple related classes.\n",
    "\n",
    "---\n"
   ]
  },
  {
   "cell_type": "code",
   "execution_count": 122,
   "metadata": {},
   "outputs": [
    {
     "name": "stdout",
     "output_type": "stream",
     "text": [
      "Charge $500: True\n",
      "Charge $600 (should fail): False\n",
      "Balance: 500\n",
      "Balance after $200 payment: 300\n",
      "Pred balance before month: 950\n",
      "Pred balance after month: 967.18\n",
      "Denied charge (fee applied): False\n",
      "Pred balance after denial fee: 972.18\n",
      "Default progression:\n",
      "0 1 2 3 4 5 6 7 8 9\n",
      "Arithmetic progression (increment 5):\n",
      "0 5 10 15 20 25 30 35 40 45\n",
      "Arithmetic progression (increment 5, start 2):\n",
      "2 7 12 17 22 27 32 37 42 47\n",
      "Geometric progression (base 2):\n",
      "1 2 4 8 16 32 64 128 256 512\n",
      "Geometric progression (base 3):\n",
      "1 3 9 27 81 243 729 2187 6561 19683\n",
      "Fibonacci progression (default 0, 1):\n",
      "0 1 1 2 3 5 8 13 21 34\n",
      "Fibonacci progression (start 4, 6):\n",
      "4 6 10 16 26 42 68 110 178 288\n"
     ]
    }
   ],
   "source": [
    "### CreditCard + PredatoryCreditCard\n",
    "\n",
    "class CreditCard:\n",
    "    \"\"\"A consumer credit card.\"\"\"\n",
    "\n",
    "    def __init__(self, customer, bank, account, limit):\n",
    "        \"\"\"Create a new credit card instance.\n",
    "\n",
    "        customer : str  - Cardholder name (e.g., \"John Doe\")\n",
    "        bank     : str  - Bank name (e.g., \"1st Bank\")\n",
    "        account  : str  - Account identifier\n",
    "        limit    : float|int - Spending limit\n",
    "        \"\"\"\n",
    "        self._customer = customer\n",
    "        self._bank = bank\n",
    "        self._account = account\n",
    "        self._limit = limit\n",
    "        self._balance = 0\n",
    "\n",
    "    # ----- accessors -----\n",
    "    def get_customer(self):\n",
    "        return self._customer\n",
    "\n",
    "    def get_bank(self):\n",
    "        return self._bank\n",
    "\n",
    "    def get_account(self):\n",
    "        return self._account\n",
    "\n",
    "    def get_limit(self):\n",
    "        return self._limit\n",
    "\n",
    "    def get_balance(self):\n",
    "        return self._balance\n",
    "\n",
    "    # ----- behaviors -----\n",
    "    def charge(self, price):\n",
    "        \"\"\"Charge to the card if sufficient credit. Return True if accepted; False otherwise.\"\"\"\n",
    "        if price < 0:\n",
    "            # treat negative charge as invalid (caller could model returns with make_payment)\n",
    "            return False\n",
    "        if self._balance + price > self._limit:\n",
    "            return False\n",
    "        self._balance += price\n",
    "        return True\n",
    "\n",
    "    def make_payment(self, amount):\n",
    "        \"\"\"Reduce balance by payment amount.\"\"\"\n",
    "        if amount < 0:\n",
    "            raise ValueError(\"Payment must be nonnegative\")\n",
    "        self._balance -= amount\n",
    "#--------------------------------------------------------------------------------------------------------------------------------------\n",
    "\n",
    "class PredatoryCreditCard(CreditCard):\n",
    "    \"\"\"Extension to CreditCard that charges fees and monthly interest.\"\"\"\n",
    "\n",
    "    def __init__(self, customer, bank, acnt, limit, apr):\n",
    "        \"\"\"Create a new predatory credit card.\n",
    "\n",
    "        apr : annual percentage rate, e.g., 0.0825 for 8.25%\n",
    "        \"\"\"\n",
    "        super().__init__(customer, bank, acnt, limit)\n",
    "        self._apr = apr\n",
    "\n",
    "    def charge(self, price):\n",
    "        \"\"\"Attempt to charge; if denied, assess a $5 fee. Return True if accepted; False otherwise.\"\"\"\n",
    "        success = super().charge(price)\n",
    "        if not success:\n",
    "            self._balance += 5  # fee for denied charge\n",
    "        return success\n",
    "\n",
    "    def process_month(self):\n",
    "        \"\"\"Apply monthly interest to the outstanding balance (if positive).\"\"\"\n",
    "        if self._balance > 0:\n",
    "            monthly_factor = pow(1 + self._apr, 1 / 12)\n",
    "            self._balance *= monthly_factor\n",
    "\n",
    "\n",
    "if __name__ == \"__main__\":\n",
    "    # quick demo\n",
    "    visa = CreditCard(\"John Doe\", \"1st Bank\", \"5391 0375 9387 5309\", 1000)\n",
    "    print(\"Charge $500:\", visa.charge(500))\n",
    "    print(\"Charge $600 (should fail):\", visa.charge(600))\n",
    "    print(\"Balance:\", visa.get_balance())\n",
    "    visa.make_payment(200)\n",
    "    print(\"Balance after $200 payment:\", visa.get_balance())\n",
    "\n",
    "    pred = PredatoryCreditCard(\"Jane Roe\", \"2nd Bank\", \"1234 5678 9012 3456\", 1000, apr=0.24)\n",
    "    pred.charge(950)\n",
    "    print(\"Pred balance before month:\", round(pred.get_balance(), 2))\n",
    "    pred.process_month()\n",
    "    print(\"Pred balance after month:\", round(pred.get_balance(), 2))\n",
    "    print(\"Denied charge (fee applied):\", pred.charge(2000))\n",
    "    print(\"Pred balance after denial fee:\", round(pred.get_balance(), 2))\n",
    "\n",
    "\n",
    "#--------------------------------------------------------------------------------------------------------------------------------------\n",
    "\n",
    "### Progression + Arithmetic / Geometric / Fibonacci\n",
    "\n",
    "class Progression:\n",
    "    \"\"\"Iterator producing a generic numeric progression (default: 0, 1, 2, ...).\"\"\"\n",
    "\n",
    "    def __init__(self, start=0):\n",
    "        self._current = start\n",
    "\n",
    "    def _advance(self):\n",
    "        \"\"\"Update self._current to a new value.\n",
    "\n",
    "        Default behavior: increment by 1. Subclasses override this.\n",
    "        \"\"\"\n",
    "        self._current += 1\n",
    "\n",
    "    def __next__(self):\n",
    "        \"\"\"Return the next element or raise StopIteration.\"\"\"\n",
    "        if self._current is None:\n",
    "            raise StopIteration()\n",
    "        answer = self._current\n",
    "        self._advance()\n",
    "        return answer\n",
    "\n",
    "    def __iter__(self):\n",
    "        return self\n",
    "\n",
    "    def print_progression(self, n):\n",
    "        \"\"\"Print the next n values of the progression on one line.\"\"\"\n",
    "        print(\" \".join(str(next(self)) for _ in range(n)))\n",
    "\n",
    "#--------------------------------------------------------------------------------------------------------------------------------------\n",
    "class ArithmeticProgression(Progression):\n",
    "    \"\"\"Progression where each value increases by a fixed increment.\"\"\"\n",
    "\n",
    "    def __init__(self, increment=1, start=0):\n",
    "        super().__init__(start)\n",
    "        self._increment = increment\n",
    "\n",
    "    def _advance(self):\n",
    "        self._current += self._increment\n",
    "#--------------------------------------------------------------------------------------------------------------------------------------\n",
    "\n",
    "class GeometricProgression(Progression):\n",
    "    \"\"\"Progression where each value is multiplied by a fixed base.\"\"\"\n",
    "\n",
    "    def __init__(self, base=2, start=1):\n",
    "        super().__init__(start)\n",
    "        self._base = base\n",
    "\n",
    "    def _advance(self):\n",
    "        self._current *= self._base\n",
    "#--------------------------------------------------------------------------------------------------------------------------------------\n",
    "\n",
    "class FibonacciProgression(Progression):\n",
    "    \"\"\"Progression where each value is the sum of the two previous values.\"\"\"\n",
    "\n",
    "    def __init__(self, first=0, second=1):\n",
    "        super().__init__(first)\n",
    "        self._prev = second - first  # so first advancement yields 'second'\n",
    "\n",
    "    def _advance(self):\n",
    "        self._prev, self._current = self._current, self._prev + self._current\n",
    "\n",
    "\n",
    "if __name__ == \"__main__\":\n",
    "    print(\"Default progression:\")\n",
    "    Progression().print_progression(10)\n",
    "\n",
    "    print(\"Arithmetic progression (increment 5):\")\n",
    "    ArithmeticProgression(5).print_progression(10)\n",
    "\n",
    "    print(\"Arithmetic progression (increment 5, start 2):\")\n",
    "    ArithmeticProgression(5, 2).print_progression(10)\n",
    "\n",
    "    print(\"Geometric progression (base 2):\")\n",
    "    GeometricProgression().print_progression(10)\n",
    "\n",
    "    print(\"Geometric progression (base 3):\")\n",
    "    GeometricProgression(3).print_progression(10)\n",
    "\n",
    "    print(\"Fibonacci progression (default 0, 1):\")\n",
    "    FibonacciProgression().print_progression(10)\n",
    "\n",
    "    print(\"Fibonacci progression (start 4, 6):\")\n",
    "    FibonacciProgression(4, 6).print_progression(10)\n",
    "\n"
   ]
  },
  {
   "cell_type": "markdown",
   "metadata": {},
   "source": [
    "### 2.5 Namespaces and Object-Orientation"
   ]
  },
  {
   "cell_type": "markdown",
   "metadata": {},
   "source": [
    "| **Class**               | **Functions (Methods)**                                                                                     | **Attributes (Instance Data)**                                                                                                                                    |\r\n",
    "| ----------------------- | ----------------------------------------------------------------------------------------------------------- | ----------------------------------------------------------------------------------------------------------------------------------------------------------------- |\r\n",
    "| **CreditCard**          | `__init__`, `get_customer`, `get_bank`, `get_account`, `make_payment`, `get_balance`, `get_limit`, `charge` | —                                                                                                                                                                 |\r\n",
    "| **PredatoryCreditCard** | `__init__`, `process_month`, `charge`                                                                       | —                                                                                                                                                                 |\r\n",
    "| **Example Instance**    | —                                                                                                           | `_customer = 'John Bowman'`<br>`_bank = 'California Savings'`<br>`_account = '5391 0375 9387 5309'`<br>`_balance = 1234.56`<br>`_limit = 2500`<br>`_apr = 0.0825` |\r\n"
   ]
  },
  {
   "cell_type": "markdown",
   "metadata": {},
   "source": [
    "* **Namespace** = abstraction that maps identifiers (names) to values in a particular scope.\n",
    "\n",
    "  * Values can be functions, classes, or modules.\n",
    "  * Python manages namespaces for **functions, classes, and modules**.\n",
    "\n",
    "#### **2.5.1 Instance vs. Class Namespaces**\n",
    "\n",
    "* **Instance Namespace**:\n",
    "\n",
    "  * Stores **attributes unique to each object**.\n",
    "  * Example: each `CreditCard` instance has its own `balance`, `limit`, `account`.\n",
    "* **Class Namespace**:\n",
    "\n",
    "  * Stores **shared methods or class-level attributes**.\n",
    "  * Example: all `CreditCard` objects share the same `make_payment` method.\n",
    "* **Overriding**:\n",
    "\n",
    "  * Subclasses (e.g., `PredatoryCreditCard`) can override methods (`charge`, `__init__`).\n",
    "\n",
    "**How Names Get Established**\n",
    "\n",
    "* `self.balance = 0` → puts `balance` inside **instance namespace**.\n",
    "* Method definition inside class → stored in the **class namespace**.\n",
    "\n",
    "**Class Data Members**\n",
    "\n",
    "* Used for values **shared by all instances**.\n",
    "* Example:\n",
    "\n",
    "  ```python\n",
    "  class PredatoryCreditCard(CreditCard):\n",
    "      OVERLIMIT_FEE = 5\n",
    "  ```\n",
    "\n",
    "  → avoids redundancy and makes policies explicit.\n",
    "\n",
    "**Nested Classes**\n",
    "\n",
    "* One class defined inside another.\n",
    "* Purpose:\n",
    "\n",
    "  * Support the outer class.\n",
    "  * Avoid name conflicts (e.g., `Node` for `LinkedList` vs. `Node` for `Tree`).\n",
    "  * Allows subclassing outer class to override inner class definition.\n",
    "\n",
    "**`__slots__` Declaration**\n",
    "\n",
    "* By default, Python stores namespaces as dictionaries (extra memory cost).\n",
    "* `__slots__` lets you restrict attributes and reduce memory usage.\n",
    "* Example:\n",
    "\n",
    "  ```python\n",
    "  class CreditCard:\n",
    "      __slots__ = ('_customer', '_bank', '_account', '_balance', '_limit')\n",
    "  ```\n",
    "* Subclasses must declare their own `__slots__` too if inheritance is used.\n",
    "\n",
    "---\n",
    "\n",
    "#### **2.5.2 Name Resolution & Dynamic Dispatch**\n",
    "\n",
    "* Python’s **name resolution order** when calling `obj.foo`:\n",
    "\n",
    "  1. Instance namespace\n",
    "  2. Class namespace\n",
    "  3. Superclass namespace(s)\n",
    "  4. If not found → `AttributeError`\n",
    "\n",
    "* Example:\n",
    "\n",
    "  * `mycard.balance` → found in **instance namespace**.\n",
    "  * `mycard.process_month()` → found in **PredatoryCreditCard class**.\n",
    "  * `mycard.make_payment()` → found in **CreditCard superclass**.\n",
    "  * `mycard.charge()` → **overrides** `CreditCard.charge` because subclass defines it.\n",
    "\n",
    "* **Dynamic Dispatch (Dynamic Binding)**:\n",
    "\n",
    "  * Python chooses **which method to run at runtime** based on the **actual object type**, not variable type.\n",
    "  * Contrast: some languages use **static dispatch** (compile-time decision).\n",
    "\n",
    "---\n",
    "\n",
    "#### **2.6 Shallow and Deep Copying**\n",
    "\n",
    "* **Assignment** (`palette = warmtones`): just creates an alias (both names point to the same object).\n",
    "\n",
    "* **Shallow Copy** (`list(warmtones)` or `copy.copy()`):\n",
    "\n",
    "  * Creates a **new container object**.\n",
    "  * BUT the elements inside still reference the same objects as the original → indirect aliasing.\n",
    "\n",
    "* **Deep Copy** (`copy.deepcopy(warmtones)`):\n",
    "\n",
    "  * Creates a **new container**.\n",
    "  * Recursively creates **copies of all contained objects**.\n",
    "  * Modifications in one list won’t affect the other.\n",
    "\n",
    "---\n",
    "\n",
    "#### TL;DR (If you remember just this)\n",
    "\n",
    "* **Instance namespace** = unique per object (data).\n",
    "* **Class namespace** = shared across objects (methods, constants).\n",
    "* **Name resolution**: instance → class → superclass chain → error.\n",
    "* **Dynamic dispatch**: method chosen at runtime, based on actual object type.\n",
    "* **Shallow copy** = new container, same elements.\n",
    "* **Deep copy** = new container, new elements (fully independent).\n",
    "* Use `__slots__` for memory-efficient classes, especially with many instances.\n",
    "* Use **nested classes** to reduce naming conflicts and encapsulate supporting structures."
   ]
  },
  {
   "cell_type": "markdown",
   "metadata": {
    "jp-MarkdownHeadingCollapsed": true
   },
   "source": [
    "# Chapter 3 Algorithm Analysis"
   ]
  },
  {
   "cell_type": "markdown",
   "metadata": {},
   "source": [
    "#### 3.1 Experimental Studies"
   ]
  },
  {
   "cell_type": "code",
   "execution_count": 184,
   "metadata": {},
   "outputs": [],
   "source": [
    "from time import time\n",
    "start_time = time() #record the starting time\n",
    "#run algorithm\n",
    "end_time = time() #record the ending time\n",
    "elapsed = end_time - start_time  #compute the elapsed time"
   ]
  },
  {
   "cell_type": "markdown",
   "metadata": {},
   "source": [
    "ime\n",
    "\n",
    "### Algorithm Analysis Approaches\n",
    "\n",
    "| **Approach**                 | **Description**                                                                 | **Advantages**                                                                                          | **Limitations**                                                                 |\n",
    "|-------------------------------|---------------------------------------------------------------------------------|---------------------------------------------------------------------------------------------------------|---------------------------------------------------------------------------------|\n",
    "| **Experimental Analysis**     | Run algorithm with test inputs and measure elapsed time using `time` or `timeit`. Plot `(n, t)` to see growth. | • Easy to implement once algorithm is coded.<br>• Gives intuition with real execution data.             | • Dependent on hardware/software environment.<br>• Limited to chosen test inputs.<br>• Requires full implementation. |\n",
    "| **Counting Primitive Ops**    | Analyze high-level description (code/pseudocode). Count primitive operations: assignment, arithmetic, comparison, function calls, etc. | • Independent of hardware/software.<br>• Works before implementation.<br>• Considers all possible inputs. | • Ignores differences in cost of operations.<br>• Only an approximation of real run times. |\n",
    "| **Worst-Case Analysis**       | Focus on the input that causes the most operations for a given `n`.              | • Easier to identify than average case.<br>• Ensures strong guarantees (algorithm will perform well always). | • May overestimate actual performance.<br>• Doesn’t reflect typical/average cases. |\n",
    "| **Average-Case Analysis**     | Express running time as expected value over all inputs of size `n`.              | • Reflects typical performance better than worst case.                                                  | • Requires defining probability distribution on inputs.<br>• Often mathematically difficult. |\n",
    "\n",
    "---\n",
    "\n",
    "### Key Points\n",
    "\n",
    "- **time module**: `time()` measures wall-clock time, `timeit` automates multiple runs.  \n",
    "- **Primitive operations**: assignment, arithmetic, comparison, list indexing, function calls/returns.  \n",
    "- **Goal**: Associate each algorithm with a function `f(n)` = number of primitive operations (growth rate).  \n",
    "- **Standard Practice**: Focus on **worst-case analysis**, since it guarantees good performance on *all* inputs.  \n"
   ]
  },
  {
   "cell_type": "markdown",
   "metadata": {},
   "source": [
    "#### 3.2 The Seven Functions Used in This Book"
   ]
  },
  {
   "cell_type": "markdown",
   "metadata": {},
   "source": [
    "\n",
    "\n",
    "📊 Table of Common Growth-Rate Functions\n",
    "\n",
    "| Function Name   | Mathematical Form        | Growth Intuition                                        | Typical Use in Algorithms                               |\n",
    "| --------------- | ------------------------ | ------------------------------------------------------- | ------------------------------------------------------- |\n",
    "| **Constant**    | $f(n) = 1$ or $f(n) = c$ | Always the same, regardless of input size               | Basic operations (e.g., add, compare, assign)           |\n",
    "| **Logarithmic** | $f(n) = \\log n$          | Grows very slowly, “divide by 2 each step”              | Binary search, tree height, halving problems            |\n",
    "| **Linear**      | $f(n) = n$               | Grows in direct proportion to input size                | Scanning an array, summing elements                     |\n",
    "| **n log n**     | $f(n) = n \\log n$        | Slightly faster than linear, much slower than quadratic | Merge sort, heap sort, efficient divide-and-conquer     |\n",
    "| **Quadratic**   | $f(n) = n^2$             | Grows with square of input size                         | Nested loops, bubble sort, insertion sort (worst case)  |\n",
    "| **Cubic**       | $f(n) = n^3$             | Even steeper than quadratic                             | Triple-nested loops, some dynamic programming           |\n",
    "| **Exponential** | $f(n) = a^n, a>1$        | Explodes rapidly, infeasible beyond small n             | Brute-force search, subset generation, NP-hard problems |\n",
    "\n",
    "---\n",
    "\n",
    "📖 Explanation\n",
    "\n",
    "* **Best-case growth**: Constant $O(1)$ and logarithmic $O(\\log n)$ are the “holy grail” of efficiency. If you can reduce your algorithm to these, it scales extremely well.\n",
    "* **Practical growth**: Linear $O(n)$ and n log n $O(n \\log n)$ are considered excellent for real-world algorithms. Many optimal algorithms (like sorting) live here.\n",
    "* **Warning signs**: Quadratic $O(n^2)$ and cubic $O(n^3)$ are usually only acceptable for small inputs. If $n$ is in the thousands, these quickly become impractical.\n",
    "* **Danger zone 🚨**: Exponential $O(2^n)$ explodes so fast that even small $n$ (like 50 or 100) becomes impossible to compute in practice."
   ]
  },
  {
   "cell_type": "markdown",
   "metadata": {},
   "source": [
    "Detailed Explanations\n",
    "\n",
    "**1. Constant Function** (f(n) = c)\n",
    "\n",
    "* Always returns the same value, regardless of input size.\n",
    "* Represents **basic atomic operations** like addition, assignment, or a single comparison.\n",
    "* Example: `if (x > y): ...` takes **constant time**.\n",
    "\n",
    "---\n",
    "\n",
    "**2. Logarithmic Function** (f(n) = log n)\n",
    "\n",
    "* Grows very slowly compared to other functions.\n",
    "* Base is usually 2 (binary).\n",
    "* Appears in:\n",
    "\n",
    "  * **Binary search** → cutting input size in half each step.\n",
    "  * **Balanced binary trees** (tree height = log n).\n",
    "  * **Divide-and-conquer algorithms**.\n",
    "* Example: Searching a sorted array of size 1,024 takes only **10 steps** (since log₂(1024) = 10).\n",
    "\n",
    "---\n",
    "\n",
    "**3. Linear Function** (f(n) = n)\n",
    "\n",
    "* Direct proportionality: one operation per input element.\n",
    "* Appears in:\n",
    "\n",
    "  * Scanning an array.\n",
    "  * Single loops over n items.\n",
    "* Example: Checking each student in a list of n students → n comparisons.\n",
    "\n",
    "---\n",
    "\n",
    "**4. N-Log-N Function** (f(n) = n log n)\n",
    "\n",
    "* Grows faster than linear, slower than quadratic.\n",
    "* Very common in **efficient sorting algorithms**:\n",
    "\n",
    "  * Merge Sort\n",
    "  * Heap Sort\n",
    "* Also in **FFT (Fast Fourier Transform)** and many divide-and-conquer techniques.\n",
    "* Example: Sorting 1,000,000 items → \\~20,000,000 operations (since log₂(1,000,000) ≈ 20).\n",
    "\n",
    "---\n",
    "\n",
    "**5. Quadratic Function** (f(n) = n²)\n",
    "\n",
    "* Common with **nested loops**:\n",
    "\n",
    "  * Outer loop runs n times, inner loop runs n times.\n",
    "* Appears in:\n",
    "\n",
    "  * Simple sorting (Insertion, Selection, Bubble Sort).\n",
    "  * Pairwise comparisons (checking all pairs).\n",
    "* Example: Checking all friendships in a class of n students → n² comparisons.\n",
    "\n",
    "Fun fact: Carl Gauss as a child derived the formula\n",
    "\n",
    "$$\n",
    "1 + 2 + 3 + \\dots + n = \\frac{n(n+1)}{2}\n",
    "$$\n",
    "\n",
    "---\n",
    "\n",
    "**6. Cubic & Polynomial Functions** (f(n) = n³, n^d)\n",
    "\n",
    "* Appear less frequently but arise in:\n",
    "\n",
    "  * **Matrix multiplication** (O(n³)).\n",
    "  * **Polynomial-time algorithms** in general complexity classes.\n",
    "* General form:\n",
    "\n",
    "  $$\n",
    "  f(n) = a_0 + a_1n + a_2n^2 + \\dots + a_d n^d\n",
    "  $$\n",
    "* Higher-degree polynomials grow very fast (worse than quadratic but better than exponential).\n",
    "\n",
    "---\n",
    "\n",
    "**7. Exponential Function** (f(n) = b^n, typically 2^n)\n",
    "\n",
    "* Explodes extremely quickly as n grows.\n",
    "* Appears in:\n",
    "\n",
    "  * **Brute force algorithms** (e.g., checking all subsets).\n",
    "  * NP-hard problems (e.g., Traveling Salesman).\n",
    "* Example: 2ⁿ subsets of an n-element set.\n",
    "\n",
    "  * n = 10 → 1,024 subsets\n",
    "  * n = 50 → over **1 quadrillion subsets**\n",
    "\n",
    "---\n"
   ]
  },
  {
   "cell_type": "markdown",
   "metadata": {},
   "source": [
    "#### 3.3 Asymptotic Analysis"
   ]
  },
  {
   "cell_type": "markdown",
   "metadata": {},
   "source": [
    "\n",
    "\n",
    "Asymptotic Analysis\n",
    "\n",
    "In algorithm analysis, we care about the **growth rate** of an algorithm’s running time as input size $n$ increases.\n",
    "\n",
    "* **Ignore constants & low-order terms**:\n",
    "  We compare functions only in terms of their dominant growth (big picture).\n",
    "* **Primitive operations**: Each step is considered constant time, so we focus on how many steps an algorithm takes.\n",
    "\n",
    "---\n",
    "\n",
    "Big-O Notation (Upper Bound)\n",
    "\n",
    "* **Definition**:\n",
    "  $f(n)$ is $O(g(n))$ if there exist constants $c > 0$ and $n_0 \\geq 1$ such that:\n",
    "\n",
    "  $$\n",
    "  f(n) \\leq c \\cdot g(n), \\quad \\text{for all } n \\geq n_0\n",
    "  $$\n",
    "* **Meaning**: $f(n)$ grows *no faster* than $g(n)$, up to constant factors.\n",
    "\n",
    "Example:\n",
    "\n",
    "$$\n",
    "8n + 5 \\; \\in O(n)\n",
    "$$\n",
    "\n",
    "(Choose $c = 9$, $n_0 = 5$).\n",
    "\n",
    "---\n",
    "\n",
    "Big-Ω Notation (Lower Bound)\n",
    "\n",
    "* **Definition**:\n",
    "  $f(n)$ is $\\Omega(g(n))$ if $ f(n) \\geq c \\cdot g(n)$ for constants $c > 0, n \\geq n_0$.\n",
    "* **Meaning**: $f(n)$ grows *at least as fast* as $g(n)$.\n",
    "\n",
    "📌 Example:\n",
    "\n",
    "$$\n",
    "3n \\log n - 2n \\; \\in \\Omega(n \\log n)\n",
    "$$\n",
    "\n",
    "---\n",
    "\n",
    "Big-Θ Notation (Tight Bound)\n",
    "\n",
    "* **Definition**:\n",
    "  $f(n)$ is $\\Theta(g(n))$ if $f(n)$ is both $O(g(n))$ and $\\Omega(g(n))$.\n",
    "* **Meaning**: $f(n)$ grows *at the same rate* as $g(n)$.\n",
    "\n",
    "📌 Example:\n",
    "\n",
    "$$\n",
    "3n\\log n + 4n + 5\\log n \\; \\in \\Theta(n \\log n)\n",
    "$$\n",
    "\n",
    "---\n",
    "\n",
    "Table: Growth Rate Ordering\n",
    "\n",
    "| Order of Growth (slow → fast) | Example Algorithm                |\n",
    "| ----------------------------- | -------------------------------- |\n",
    "| $O(1)$ Constant               | Accessing `data[j]`, `len(data)` |\n",
    "| $O(\\log n)$ Logarithmic       | Binary search                    |\n",
    "| $O(n)$ Linear                 | Finding max in a list            |\n",
    "| $O(n \\log n)$ n-log-n         | Merge sort, heap sort            |\n",
    "| $O(n^2)$ Quadratic            | Bubble sort, insertion sort      |\n",
    "| $O(n^3)$ Cubic                | Triple nested loops              |\n",
    "| $O(2^n)$ Exponential          | Subset generation, brute force   |\n",
    "\n",
    "---\n",
    "Table: Function Growth Comparison\n",
    "\n",
    "| $n$ | $\\log n$ | $n$ | $n \\log n$ | $n^2$  | $n^3$     | $2^n$     |\n",
    "| --- | -------- | --- | ---------- | ------ | --------- | --------- |\n",
    "| 8   | 3        | 8   | 24         | 64     | 512       | 256       |\n",
    "| 16  | 4        | 16  | 64         | 256    | 4,096     | 65,536    |\n",
    "| 32  | 5        | 32  | 160        | 1,024  | 32,768    | 4.29×10⁹  |\n",
    "| 64  | 6        | 64  | 384        | 4,096  | 262,144   | 1.84×10¹⁹ |\n",
    "| 128 | 7        | 128 | 896        | 16,384 | 2,097,152 | 3.40×10³⁸ |\n",
    "\n",
    "---\n",
    "\n",
    "Practical Insights\n",
    "\n",
    "1. **Efficiency cutoff**:\n",
    "\n",
    "   * Polynomial-time ($O(n^c)$) = feasible.\n",
    "   * Exponential-time ($O(b^n)$) = infeasible for large $n$.\n",
    "\n",
    "2. **Constant factors matter in practice** (but vanish in asymptotic analysis). Example:\n",
    "   $10^{100}n$ vs $10n \\log n$ → asymptotically linear is better, but practically useless with a huge constant.\n",
    "\n",
    "3. **Good design beats hardware upgrades**:\n",
    "   Even a **256× faster computer** cannot save an exponential algorithm.\n",
    "\n",
    "---\n",
    "\n",
    "Example Algorithms with Growth Classes\n",
    "\n",
    "* **O(1):** `len(data)` or `data[j]` (constant-time lookup).\n",
    "* **O(n):** `find_max(data)` (loop once through list).\n",
    "* **O(n log n):** Sorting with `sorted(S)` (Timsort).\n",
    "* **O(n²):** Prefix averages (naïve loop), `unique1(S)` with pairwise checks.\n",
    "* **O(n³):** Naïve 3-way disjointness (`disjoint1`).\n",
    "* **Improved O(n²):** Optimized disjointness (`disjoint2`).\n",
    "* **O(n log n):** Improved uniqueness check (`unique2`, sort then check).\n",
    "\n",
    "---\n",
    "\n"
   ]
  },
  {
   "cell_type": "markdown",
   "metadata": {},
   "source": [
    "#### 3.4 Simple Justification Techniques"
   ]
  },
  {
   "cell_type": "markdown",
   "metadata": {},
   "source": [
    "\n",
    "When analyzing algorithms, we often need to **prove correctness** or **show efficiency**. There are several common techniques:\n",
    "\n",
    "---\n",
    "\n",
    "3.4.1 By Example\n",
    "\n",
    "* Used for claims of the form:\n",
    "\n",
    "  * “There exists an $x \\in S$ such that $P(x)$ is true.” ✅ → Show a specific example.\n",
    "  * “All $x \\in S$ have property $P$.” ❌ → Disprove with a **counterexample**.\n",
    "\n",
    "**Example 3.17**\n",
    "\n",
    "* Claim: Every number of the form $2^i - 1$ (for $i > 1$) is prime.\n",
    "* Counterexample: $2^4 - 1 = 15 = 3 \\times 5$.\n",
    "* ✅ Claim disproved.\n",
    "\n",
    "---\n",
    "\n",
    "3.4.2 The “Contra” Attack\n",
    "\n",
    "Two negative reasoning methods:\n",
    "\n",
    "1. **Contrapositive**\n",
    "\n",
    "   * To prove: “If $p$ then $q$”\n",
    "   * Instead prove: “If not $q$, then not $p$.”\n",
    "   * (Logically equivalent, often easier).\n",
    "\n",
    "   **Example 3.18**\n",
    "\n",
    "   * Claim: If $ab$ is even, then $a$ is even or $b$ is even.\n",
    "   * Contrapositive: If $a$ and $b$ are both odd, then $ab$ is odd.\n",
    "   * Proof: Let $a = 2j+1, b = 2k+1$. Then $ab = 2(2jk + j + k) + 1$, which is odd.\n",
    "\n",
    "   ➡ Also shows **DeMorgan’s Law**:\n",
    "\n",
    "   * $\\lnot (p \\lor q) \\equiv \\lnot p \\land \\lnot q$\n",
    "   * $\\lnot (p \\land q) \\equiv \\lnot p \\lor \\lnot q$\n",
    "\n",
    "2. **Contradiction**\n",
    "\n",
    "   * Assume the opposite of what you want to prove.\n",
    "   * Derive a contradiction.\n",
    "   * Conclude the assumption must be false.\n",
    "\n",
    "   **Example 3.19**\n",
    "\n",
    "   * Claim: If $ab$ is odd, then both $a$ and $b$ are odd.\n",
    "   * Proof: Suppose $a$ is even → then $ab$ is even.\n",
    "   * Contradiction, since $ab$ was assumed odd.\n",
    "   * ✅ Therefore, both $a$ and $b$ must be odd.\n",
    "\n",
    "---\n",
    "\n",
    "3.4.3 Induction\n",
    "\n",
    "* Used to prove statements about **all $n \\geq 1$**.\n",
    "* Steps:\n",
    "\n",
    "  1. **Base case**: Show true for smallest $n$.\n",
    "  2. **Inductive step**: Assume true for all $j < n$, show true for $n$.\n",
    "\n",
    "**Example 3.20: Fibonacci Bound**\n",
    "\n",
    "* Claim: $F(n) < 2^n$.\n",
    "* Proof:\n",
    "\n",
    "  * Base: $F(1)=1<2, \\; F(2)=2<4$.\n",
    "  * Step: Assume true for $F(n-1), F(n-2)$.\n",
    "    Then $F(n) = F(n-1) + F(n-2) < 2^{n-1} + 2^{n-2} < 2^n$.\n",
    "\n",
    "**Example 3.21: Sum of Integers**\n",
    "\n",
    "$$\n",
    "\\sum_{i=1}^n i = \\frac{n(n+1)}{2}\n",
    "$$\n",
    "\n",
    "* Base: $n=1$, trivial.\n",
    "* Step: Assume true for $n-1$.\n",
    "  $\\sum_{i=1}^n i = n + \\sum_{i=1}^{n-1} i = n + \\frac{(n-1)n}{2} = \\frac{n(n+1)}{2}$.\n",
    "\n",
    "---\n",
    "\n",
    "Loop Invariants\n",
    "\n",
    "* Used to prove algorithm correctness involving **loops**.\n",
    "* Define a statement $L_j$ such that:\n",
    "\n",
    "  1. $L_0$ true before loop begins.\n",
    "  2. If $L_{j-1}$ true before iteration $j$, then $L_j$ true after iteration $j$.\n",
    "  3. At termination, $L_k$ implies correctness.\n",
    "\n",
    "**Example: `find(S, val)`**\n",
    "\n",
    "```python\n",
    "def find(S, val):\n",
    "    \"\"\"Return index j such that S[j] == val, or -1 if not found.\"\"\"\n",
    "    n = len(S)\n",
    "    j = 0\n",
    "    while j < n:\n",
    "        if S[j] == val:\n",
    "            return j\n",
    "        j += 1\n",
    "    return -1\n",
    "```\n",
    "\n",
    "Loop Invariant $L_j$:\n",
    "\n",
    "* At the start of iteration $j$, `val` is not in the first $j$ elements of `S`.\n",
    "\n",
    "* **Initialization**: Holds vacuously for $j=0$.\n",
    "\n",
    "* **Maintenance**: If `S[j] != val`, then next iteration starts with one more checked element.\n",
    "\n",
    "* **Termination**: If loop ends with $j = n$, then `val` not in `S`.\n",
    "\n",
    "* ✅ Algorithm correct.\n",
    "\n",
    "---\n",
    "\n",
    "Summary Table\n",
    "\n",
    "| Technique      | How It Works                                                                     | Example                                      |\n",
    "| -------------- | -------------------------------------------------------------------------------- | -------------------------------------------- |\n",
    "| By Example     | Show one example to prove existence; one counterexample to disprove universality | $2^4-1=15$ disproves “all $2^i-1$ are prime” |\n",
    "| Contrapositive | Prove “if not q then not p” instead of “if p then q”                             | If both odd → product odd                    |\n",
    "| Contradiction  | Assume false, derive contradiction                                               | If $ab$ odd but $a$ even → contradiction     |\n",
    "| Induction      | Base case + inductive step                                                       | Fibonacci bound, sum formula                 |\n",
    "| Loop Invariant | Prove correctness iteratively in loops                                           | `find(S,val)` search                         |\n",
    "\n",
    "\n"
   ]
  },
  {
   "cell_type": "markdown",
   "metadata": {
    "jp-MarkdownHeadingCollapsed": true
   },
   "source": [
    "# Chapter 4 Recursion"
   ]
  },
  {
   "cell_type": "markdown",
   "metadata": {
    "jp-MarkdownHeadingCollapsed": true
   },
   "source": [
    "#### 4.1 Illustrative Examples"
   ]
  },
  {
   "cell_type": "markdown",
   "metadata": {},
   "source": [
    "Recursion provides a way to express repetition through self-referential definitions. The following are four classic examples.\n",
    "\n",
    "---\n",
    "\n",
    "1. Factorial Function\n",
    "\n",
    "* **Definition**:\n",
    "\n",
    "  * For $n = 0$, $n! = 1$.\n",
    "  * For $n \\geq 1$, $n! = n \\cdot (n-1)!$.\n",
    "* **Importance**: Counts the number of permutations of $n$ items.\n",
    "* **Recursive Implementation**:\n",
    "\n",
    "```python\n",
    "def factorial(n):\n",
    "    if n == 0:\n",
    "        return 1\n",
    "    else:\n",
    "        return n * factorial(n - 1)\n",
    "```\n",
    "\n",
    "* **Key Points**:\n",
    "\n",
    "  * Base case: $0! = 1$.\n",
    "  * Recursive case: reduce the problem size by 1 each time.\n",
    "  * Recursion trace shows how calls expand and return in sequence.\n",
    "\n",
    "---\n",
    "\n",
    "2. Drawing an English Ruler\n",
    "\n",
    "* **Concept**:\n",
    "\n",
    "  * Ruler has **major ticks** (inches) and recursively defined **minor ticks** (halves, quarters, etc.).\n",
    "  * Each interval is built recursively:\n",
    "\n",
    "    1. Interval of length $L-1$.\n",
    "    2. Tick of length $L$.\n",
    "    3. Interval of length $L-1$.\n",
    "\n",
    "* **Recursive Implementation**:\n",
    "\n",
    "```python\n",
    "def draw_line(tick_length, tick_label=''):\n",
    "    line = '-' * tick_length\n",
    "    if tick_label:\n",
    "        line += ' ' + tick_label\n",
    "    print(line)\n",
    "\n",
    "def draw_interval(center_length):\n",
    "    if center_length > 0:\n",
    "        draw_interval(center_length - 1)\n",
    "        draw_line(center_length)\n",
    "        draw_interval(center_length - 1)\n",
    "\n",
    "def draw_ruler(num_inches, major_length):\n",
    "    draw_line(major_length, '0')\n",
    "    for j in range(1, num_inches + 1):\n",
    "        draw_interval(major_length - 1)\n",
    "        draw_line(major_length, str(j))\n",
    "```\n",
    "\n",
    "* **Key Points**:\n",
    "\n",
    "  * Natural fractal pattern.\n",
    "  * Easier to express with recursion than iteration.\n",
    "  * Recursion trace resembles a document outline.\n",
    "\n",
    "---\n",
    "\n",
    "3. Binary Search\n",
    "\n",
    "* **Goal**: Efficiently find a target in a **sorted sequence**.\n",
    "* **Approach**:\n",
    "\n",
    "  * Keep track of `low` and `high` bounds.\n",
    "  * Compute midpoint `mid`.\n",
    "  * Compare `target` to `data[mid]`.\n",
    "\n",
    "    * Equal → found.\n",
    "    * Smaller → recurse left half.\n",
    "    * Larger → recurse right half.\n",
    "* **Recursive Implementation**:\n",
    "\n",
    "```python\n",
    "def binary_search(data, target, low, high):\n",
    "    if low > high:\n",
    "        return False\n",
    "    else:\n",
    "        mid = (low + high) // 2\n",
    "        if target == data[mid]:\n",
    "            return True\n",
    "        elif target < data[mid]:\n",
    "            return binary_search(data, target, low, mid - 1)\n",
    "        else:\n",
    "            return binary_search(data, target, mid + 1, high)\n",
    "```\n",
    "\n",
    "* **Complexity**:\n",
    "\n",
    "  * Sequential search: $O(n)$.\n",
    "  * Binary search: $O(\\log n)$.\n",
    "  * Huge improvement for large datasets.\n",
    "\n",
    "---\n",
    "\n",
    "4. File Systems\n",
    "\n",
    "* **Structure**: Directories are recursive — they can contain files and subdirectories.\n",
    "\n",
    "* **Problem**: Compute cumulative disk usage.\n",
    "\n",
    "* **Algorithm**:\n",
    "\n",
    "  * Total = immediate size of entry + sum of disk usage of children.\n",
    "\n",
    "* **Python Implementation**:\n",
    "\n",
    "```python\n",
    "import os\n",
    "\n",
    "def disk_usage(path):\n",
    "    total = os.path.getsize(path)  # immediate usage\n",
    "    if os.path.isdir(path):        # recurse into directories\n",
    "        for filename in os.listdir(path):\n",
    "            childpath = os.path.join(path, filename)\n",
    "            total += disk_usage(childpath)\n",
    "    print(f\"{total:<7} {path}\")    # optional report\n",
    "    return total\n",
    "```\n",
    "\n",
    "* **Key Points**:\n",
    "\n",
    "  * Each directory’s cumulative size depends on recursive calls.\n",
    "  * Mirrors real-world `du` (disk usage) utility output.\n"
   ]
  },
  {
   "cell_type": "markdown",
   "metadata": {},
   "source": [
    "#### 4.2 Analyzing Recursive Algorithms"
   ]
  },
  {
   "cell_type": "markdown",
   "metadata": {},
   "source": [
    "Recursive algorithms are analyzed by:\n",
    "\n",
    "1. Counting the **operations per function activation**.\n",
    "2. Summing over all **recursive activations**.\n",
    "3. Using this to derive a running time expressed in **Big-Oh notation**.\n",
    "\n",
    "This is the same principle used for non-recursive functions (where we account for calls inside the function body).\n",
    "\n",
    "The four recursive examples from earlier (factorial, English ruler, binary search, disk usage) each show different patterns of growth.\n",
    "\n",
    "---\n",
    "\n",
    " 1. Factorial Computation\n",
    "\n",
    "* **Trace**: $n+1$ activations (from $n$ down to base case 0).\n",
    "* **Work per call**: $O(1)$.\n",
    "* **Total work**: $(n+1) \\cdot O(1) = O(n)$.\n",
    "\n",
    "---\n",
    "\n",
    " 2. Drawing an English Ruler\n",
    "\n",
    "* Each `draw_interval(c)` call → 2 recursive calls to `draw_interval(c-1)` + 1 `draw_line`.\n",
    "* **Claim (Proposition 4.1)**: For $c \\geq 0$, `draw_interval(c)` produces exactly $2^c - 1$ lines.\n",
    "* **Proof technique**: Induction (natural for recursive processes).\n",
    "* **Running time**: Proportional to number of lines → $O(2^c)$.\n",
    "\n",
    "---\n",
    "\n",
    " 3. Binary Search\n",
    "\n",
    "* **Work per call**: Constant ($O(1)$).\n",
    "* **Recursive depth**: At most $\\log n + 1$ calls (problem size halves each step).\n",
    "* **Claim (Proposition 4.2)**: Binary search runs in $O(\\log n)$ time.\n",
    "* **Justification**:\n",
    "\n",
    "  * Start with $n$ candidates.\n",
    "  * After $j$ calls, ≤ $n / 2^j$ remain.\n",
    "  * Stops when fewer than 1 remain → requires at most $\\log n + 1$ calls.\n",
    "\n",
    "---\n",
    "\n",
    " 4. Disk Space Usage (File System)\n",
    "\n",
    "* **Problem size**: $n =$ number of entries in the file system portion considered.\n",
    "* **Recursive calls**: Exactly one per entry → $n$ calls total.\n",
    "* **Loop cost**: Each directory loops through its entries. Across all calls, there are exactly $n-1$ loop iterations (each spawns a recursive call).\n",
    "* **Naïve bound**: $O(n^2)$ (if every directory contained \\~$n$ entries).\n",
    "* **Tighter bound**: $O(n)$ (since total loop iterations = $n-1$, not $n$ per call).\n",
    "* **Analysis technique**: **Amortization** — look at total effect across all calls instead of worst-case per call.\n",
    "* **Conceptual tie**: This is really a **tree traversal**, formally discussed in Chapter 8.\n",
    "\n",
    "---\n",
    "\n",
    "Comparison Table\n",
    "\n",
    "| Algorithm         | Recursive Depth | Work per Call    | Total Work  | Time Complexity |\n",
    "| ----------------- | --------------- | ---------------- | ----------- | --------------- |\n",
    "| **Factorial**     | $n+1$           | $O(1)$           | $O(n)$      | Linear          |\n",
    "| **English Ruler** | $2^c$ calls     | $O(1)$           | $O(2^c)$    | Exponential     |\n",
    "| **Binary Search** | $\\log n$        | $O(1)$           | $O(\\log n)$ | Logarithmic     |\n",
    "| **Disk Usage**    | $n$ calls       | amortized $O(1)$ | $O(n)$      | Linear          |\n",
    "\n",
    "---\n",
    "\n",
    " **Key Insights**:\n",
    "\n",
    "* Recursion is analyzed activation by activation.\n",
    "* Induction and recurrence equations are common proof tools.\n",
    "* Sometimes naive bounds are too loose → **amortization** can tighten analysis.\n",
    "* Many recursive algorithms map naturally to **tree structures**.\n"
   ]
  },
  {
   "cell_type": "markdown",
   "metadata": {},
   "source": [
    "#### 4.3 Recursion Run Amok"
   ]
  },
  {
   "cell_type": "markdown",
   "metadata": {},
   "source": [
    "| **Topic**                        | **Explanation**                                                                                                                      | **Efficiency**                                                                                   |\n",
    "| -------------------------------- | ------------------------------------------------------------------------------------------------------------------------------------ | ------------------------------------------------------------------------------------------------ |\n",
    "| **Element Uniqueness (unique3)** | Recursively checks if all elements are unique by splitting into subproblems. Each call spawns **two recursive calls** of size `n-1`. | Runs in **O(2ⁿ)** time → *extremely inefficient*.                                                |\n",
    "| **Bad Fibonacci**                | Direct recursive definition `F(n) = F(n-1) + F(n-2)`. Recomputes the same values many times.                                         | **Exponential time** → function calls double repeatedly.                                         |\n",
    "| **Good Fibonacci**               | Returns a pair `(F(n), F(n-1))`. Each call makes **one recursive call**, avoiding duplication.                                       | Runs in **O(n)** time with linear recursion.                                                     |\n",
    "| **Infinite Recursion**           | Occurs if no base case is reached (e.g., `fib(n): return fib(n)`). Can also happen subtly (like miswriting binary search range).     | Causes **runtime crash**. Python prevents this with a **default recursion depth limit (≈1000)**. |\n",
    "| **Recursion Depth in Python**    | Most recursions (like binary search, O(log n)) never hit the limit. But algorithms with depth proportional to `n` can.               | Limit can be changed via `sys.setrecursionlimit()`.                                              |\n",
    "\n",
    "---\n",
    "\n",
    " **Key Takeaway**: Recursion is powerful but can be inefficient or even dangerous if misused. Always check:\n",
    "\n",
    "1. Does each call reduce the problem size?\n",
    "2. Is redundant work avoided?\n",
    "3. Is a base case guaranteed?\n"
   ]
  },
  {
   "cell_type": "markdown",
   "metadata": {},
   "source": [
    "#### 4.4 Further Examples of Recursion"
   ]
  },
  {
   "cell_type": "markdown",
   "metadata": {},
   "source": [
    "| **Type of Recursion**  | **Definition**                                                                       | **Examples**                                                                                                                                                                    | **Efficiency**                                                                                                                                           | **Notes**                                                                                                       |\n",
    "| ---------------------- | ------------------------------------------------------------------------------------ | ------------------------------------------------------------------------------------------------------------------------------------------------------------------------------- | -------------------------------------------------------------------------------------------------------------------------------------------------------- | --------------------------------------------------------------------------------------------------------------- |\n",
    "| **Linear Recursion**   | Each call makes at most **one recursive call**. Trace forms a single chain of calls. | - Factorial <br> - Good Fibonacci <br> - Binary Search <br> - Linear Sum (Code 4.9) <br> - Reverse Sequence (Code 4.10) <br> - Power (trivial O(n), improved squaring O(log n)) | - Linear Sum: **O(n) time, O(n) space** <br> - Reverse: **O(n) time, O(n) space** <br> - Power (trivial): **O(n)** <br> - Power (squaring): **O(log n)** | Binary Search is *linear recursion* despite name. Improved power uses fewer calls + memory (**O(log n)**).      |\n",
    "| **Binary Recursion**   | Each call may make **two recursive calls**.                                          | - English Ruler (Sec 4.1.2) <br> - Bad Fibonacci <br> - Binary Sum (Code 4.13)                                                                                                  | - Binary Sum: **O(n) time, O(log n) space**                                                                                                              | Trace depth is logarithmic, but total calls still linear in `n`.                                                |\n",
    "| **Multiple Recursion** | Each call may make **three or more recursive calls**.                                | - Disk space usage in filesystem (Sec 4.1.4) <br> - PuzzleSolve (Code 4.14) <br> - Combinatorial puzzles (e.g., summation puzzles)                                              | - Highly variable: exponential in worst cases.                                                                                                           | Generates and tests **all permutations/combinations**. Useful in brute-force search when search space is small. |\n",
    "\n",
    "---\n",
    "\n",
    " **Key Takeaways**\n",
    "\n",
    "* **Linear recursion** = one call per frame → often efficient.\n",
    "* **Binary recursion** = two calls per frame → grows quickly but can still be O(n).\n",
    "* **Multiple recursion** = branching factor ≥ 3 → often exponential, used in brute-force exploration.\n",
    "\n"
   ]
  },
  {
   "cell_type": "markdown",
   "metadata": {},
   "source": [
    "#### 4.5 Designing Recursive Algorithms"
   ]
  },
  {
   "cell_type": "markdown",
   "metadata": {},
   "source": [
    "| **Step / Concept**               | **Explanation**                                                                                                                                                                               | **Example**                                                                                       |\n",
    "| -------------------------------- | --------------------------------------------------------------------------------------------------------------------------------------------------------------------------------------------- | ------------------------------------------------------------------------------------------------- |\n",
    "| **1. Base Cases**                | Always start by testing for one or more base cases. Base cases must guarantee that *every chain of recursive calls eventually reaches them*, and their handling should not involve recursion. | Factorial: `if n==0: return 1`                                                                    |\n",
    "| **2. Recursive Step**            | If not at a base case, make recursive calls. Each call must make progress toward a base case.                                                                                                 | Factorial: `return n * fact(n-1)`                                                                 |\n",
    "| **Parameterizing a Recursion**   | Redefine the problem in terms of *subproblems with similar structure*. This often means reparameterizing the function signature.                                                              | Binary Search: `binary_search(data, target, low, high)` instead of `binary_search(data, target)`  |\n",
    "| **Why Reparameterize?**          | Cleaner signatures may hide details but can harm efficiency. Adding parameters lets recursion work directly on subproblems without copying data.                                              | Copying half of a list takes O(n), defeating the purpose of O(log n) binary search.               |\n",
    "| **Public vs. Utility Functions** | Use a **clean public function** for the user and a **private recursive utility function** with extra parameters.                                                                              | Public: `binary_search(data, target)` → internally calls `binary_search(data, target, low, high)` |\n",
    "| **Other Examples**               | Reparameterization or redefining recursion occurs in `reverse`, `linear_sum`, `binary_sum`, and `good_fibonacci`.                                                                             | `good_fibonacci` strengthens recursion by returning a pair `(F(n), F(n-1))` instead of one value. |\n"
   ]
  },
  {
   "cell_type": "markdown",
   "metadata": {},
   "source": [
    "#### 4.6 Eliminating Tail Recursion"
   ]
  },
  {
   "cell_type": "markdown",
   "metadata": {},
   "source": [
    "| **Concept**                  | **Explanation**                                                                                                                                                    | **Examples / Notes**                                                           |\n",
    "| ---------------------------- | ------------------------------------------------------------------------------------------------------------------------------------------------------------------ | ------------------------------------------------------------------------------ |\n",
    "| **Why Eliminate Recursion?** | Recursion is elegant but requires extra memory for activation records. Sometimes we can replace recursion with iteration for efficiency.                           | Uses the stack internally; converting to loops may reduce overhead.            |\n",
    "| **General Strategy**         | Any recursive algorithm can be converted to a nonrecursive one using a stack or by directly rewriting into a loop.                                                 | Minimal information can be stored manually.                                    |\n",
    "| **Tail Recursion**           | A recursion is *tail recursion* if the recursive call is the last operation in the function, with its return value immediately returned. Must be linear recursion. | `binary_search` and `reverse` are tail recursive.                              |\n",
    "| **Not Tail Recursion**       | If extra work happens *after* the recursive call, it is not tail recursion.                                                                                        | Examples: `factorial(n) = n * factorial(n-1)`, `linear_sum`, `good_fibonacci`. |\n",
    "| **Conversion to Iteration**  | Replace recursive calls with variable updates inside a loop. Loop ends when the base case condition is violated.                                                   | `while` loop replaces recursive depth.                                         |\n",
    "| **Example: Binary Search**   | Recursive call: `binary_search(data, target, low, mid-1)` → Iterative update: `high = mid-1`.                                                                      | See Code Fragment 4.15.                                                        |\n",
    "| **Example: Reverse**         | Recursive swap of first/last → Iterative update of `start, stop` inside a loop.                                                                                    | See Code Fragment 4.16.                                                        |\n",
    "| **Other Cases**              | Even non-tail recursions like factorial, summation, and Fibonacci can be rewritten iteratively with trivial implementations.                                       | Fibonacci generator in Section 1.8 achieves O(n).                              |\n"
   ]
  },
  {
   "cell_type": "markdown",
   "metadata": {
    "jp-MarkdownHeadingCollapsed": true
   },
   "source": [
    "# Chapter 5 Array-Based Sequences"
   ]
  },
  {
   "cell_type": "markdown",
   "metadata": {},
   "source": [
    "#### 5.1 Python’s Sequence Types"
   ]
  },
  {
   "cell_type": "markdown",
   "metadata": {},
   "source": [
    "| **Aspect**                  | **Key Points**                                                                              | **Examples / Notes**                                            |\n",
    "| --------------------------- | ------------------------------------------------------------------------------------------- | --------------------------------------------------------------- |\n",
    "| **Main Classes**            | `list`, `tuple`, `str`                                                                      | All use arrays internally, all support indexing (`seq[k]`).     |\n",
    "| **Commonality**             | Provide sequential access, indexing, slicing, and iteration.                                | Foundation for more complex data structures.                    |\n",
    "| **Differences**             | Represent different abstractions and internal memory structures.                            | Lists: mutable, Tuples: immutable, Strings: immutable text.     |\n",
    "| **Public Behaviors**        | Programmer must understand semantics of copying, slicing, mutability.                       | Misunderstanding can lead to bugs (e.g., shallow vs deep copy). |\n",
    "| **Encapsulation Principle** | Normally, users don’t need to know internal details…                                        | …but efficiency requires understanding internal representation. |\n",
    "| **Efficiency Concerns**     | Performance of code depends on efficiency of sequence operations.                           | Example: list append vs list slicing costs.                     |\n",
    "| **Analysis Methods**        | Use **asymptotic analysis** (Big-O, etc.) and **experimental analysis** (empirical timing). | Helps validate theory with practice.                            |\n"
   ]
  },
  {
   "cell_type": "markdown",
   "metadata": {},
   "source": [
    "#### 5.2 Low-Level Arrays"
   ]
  },
  {
   "cell_type": "markdown",
   "metadata": {},
   "source": [
    "\n",
    "**Memory Basics**\n",
    "\n",
    "* Computer memory is made up of **bits**, grouped into **bytes** (8 bits each).\n",
    "* Each byte has a unique **memory address**, allowing precise storage and retrieval.\n",
    "* Memory is considered **random access (RAM)** → retrieving any byte is **O(1)** time.\n",
    "\n",
    "### Variables and Arrays\n",
    "\n",
    "* Programming languages map **identifiers** (variable names) to memory addresses.\n",
    "* Instead of separate variables, related data can be stored in **arrays** → a contiguous block of memory.\n",
    "* Each **cell in an array uses the same number of bytes**, enabling direct computation of any element’s location:\n",
    "\n",
    "  $$\n",
    "  \\text{address} = \\text{start} + (\\text{cell size} \\times \\text{index})\n",
    "  $$\n",
    "\n",
    "**Strings as Arrays**\n",
    "\n",
    "* Python strings are stored as **compact arrays of Unicode characters**.\n",
    "* Each character typically requires **2 bytes**.\n",
    "* Example: `\"SAMPLE\"` (6 characters) → stored in 12 consecutive bytes.\n",
    "\n",
    "**Referential Arrays (Lists & Tuples)**\n",
    "\n",
    "* Python lists and tuples are **arrays of references**, not arrays of raw data.\n",
    "* Each cell stores a **memory address** pointing to the actual object.\n",
    "* This allows different-length elements (like strings) but introduces overhead.\n",
    "\n",
    "**Aliasing and Copies**\n",
    "\n",
    "* A list may store multiple references to the **same object**.\n",
    "* **Slicing** a list creates a new list, but elements are **shared references**.\n",
    "* `list(original)` makes a **shallow copy**; use `copy.deepcopy()` for a full (deep) copy.\n",
    "\n",
    "**Mutability Impact**\n",
    "\n",
    "* With **immutable objects** (ints, strings), shared references don’t matter.\n",
    "* With **mutable objects**, changes in one list may affect another.\n",
    "\n",
    "**Special Examples**\n",
    "\n",
    "* `[0] * 8` → creates 8 references to the same integer object `0`. Since integers are immutable, it’s safe.\n",
    "* `extend()` adds **references**, not copies, when one list is extended with another.\n",
    "\n",
    "**Compact Arrays**\n",
    "\n",
    "* Unlike lists, **compact arrays store raw data directly**, without extra references.\n",
    "* Advantages:\n",
    "\n",
    "  * **Less memory usage** (no 64-bit address overhead per element).\n",
    "  * **Faster access** (data stored contiguously → better for caching).\n",
    "* Example: one million 64-bit integers would use 4 bytes each in a compact array, but Python lists use \\~18 bytes per element due to object + reference overhead.\n",
    "\n",
    "**Python’s `array` Module**\n",
    "\n",
    "* Python provides a built-in **array module** for compact arrays of primitive data types.\n",
    "* Usage:\n",
    "\n",
    "  ```python\n",
    "  from array import array\n",
    "  primes = array('i', [2, 3, 5, 7, 11, 13])\n",
    "  ```\n",
    "* Requires a **type code** (a single character) to specify the data type.\n",
    "\n",
    "---\n",
    "\n",
    "Table 5.1: Type Codes in Python’s `array` Module\n",
    "\n",
    "| Code | C Data Type        | Typical Bytes |\n",
    "| ---- | ------------------ | ------------- |\n",
    "| b    | signed char        | 1             |\n",
    "| B    | unsigned char      | 1             |\n",
    "| u    | Unicode char       | 2 or 4        |\n",
    "| h    | signed short int   | 2             |\n",
    "| H    | unsigned short int | 2             |\n",
    "| i    | signed int         | 2 or 4        |\n",
    "| I    | unsigned int       | 2 or 4        |\n",
    "| l    | signed long int    | 4             |\n",
    "| L    | unsigned long int  | 4             |\n",
    "| f    | float              | 4             |\n",
    "| d    | double (float)     | 8             |\n",
    "\n",
    "---\n",
    "\n",
    "Limitations\n",
    "\n",
    "* The `array` module supports only **primitive types**.\n",
    "* For compact arrays of **user-defined objects**, Python provides the `ctypes` module.\n",
    "\n"
   ]
  },
  {
   "cell_type": "markdown",
   "metadata": {},
   "source": [
    "#### 5.3 Dynamic Arrays and Amortization"
   ]
  },
  {
   "cell_type": "markdown",
   "metadata": {},
   "source": [
    "**Fixed Array Limitation**\n",
    "\n",
    "* In low-level systems, arrays are allocated with a **fixed size** and cannot easily expand into neighboring memory.\n",
    "* Works fine for **immutable structures** (e.g., `tuple`, `str`) since their size is known at creation.\n",
    "* But **Python lists** allow unlimited appends, requiring a more flexible structure → **dynamic arrays**.\n",
    "\n",
    "---\n",
    "\n",
    "**Idea of Dynamic Arrays**\n",
    "\n",
    "* A list internally maintains an array with **extra capacity** beyond its current length.\n",
    "* Example: a list of 5 items may have an underlying array with space for 8.\n",
    "* When capacity is exceeded:\n",
    "\n",
    "  1. Allocate a new, larger array.\n",
    "  2. Copy old elements into it.\n",
    "  3. Add the new element.\n",
    "  4. Discard the old array.\n",
    "* This is similar to a **hermit crab moving into a bigger shell**.\n",
    "\n",
    "---\n",
    "\n",
    "**Experimental Evidence**\n",
    "\n",
    "* Using `sys.getsizeof`, experiments show list size grows in **jumps**, not continuously.\n",
    "* Example output:\n",
    "\n",
    "  * Empty list: 72 bytes.\n",
    "  * After 1 element: 104 bytes (capacity for \\~4 references).\n",
    "  * After 5 elements: 136 bytes (capacity \\~8).\n",
    "  * After 9 elements: 200 bytes (capacity \\~16).\n",
    "* Confirms **growth in blocks**, not per element.\n",
    "\n",
    "---\n",
    "\n",
    "**Implementing a Dynamic Array (Conceptually)**\n",
    "\n",
    "* Custom `DynamicArray` class mimics Python’s `list`.\n",
    "* Uses **ctypes** to manage raw arrays.\n",
    "* `append` method doubles capacity when full.\n",
    "* Key methods: `__len__`, `__getitem__`, `append`, `resize`, and `make_array`.\n",
    "\n",
    "---\n",
    "\n",
    "**Amortized Analysis of Append**\n",
    "\n",
    "* Worst-case append = **Ω(n)** (when resizing + copying).\n",
    "* But **resizing happens rarely**, so average (amortized) cost is **O(1)** per append.\n",
    "* Amortization idea:\n",
    "\n",
    "  * Overcharge each append (e.g., 3 “cyber-dollars”).\n",
    "  * Save surplus to pay for expensive resize operations.\n",
    "* **Proposition 5.1**: Performing *n* appends → **O(n) total time**.\n",
    "\n",
    "---\n",
    "\n",
    "**Growth Strategies**\n",
    "\n",
    "* **Geometric growth (doubling capacity)** → O(1) amortized per append, O(n) total.\n",
    "* **Smaller geometric growth (e.g., 25% increase)** → still O(1) amortized, but more frequent resizes.\n",
    "* **Arithmetic growth (e.g., +1, +2, +3 cells)** → leads to **Ω(n²)** cost (Proposition 5.2).\n",
    "\n",
    "---\n",
    "\n",
    "**Memory Usage and Shrinking**\n",
    "\n",
    "* Dynamic arrays guarantee **O(n) memory usage**.\n",
    "* But repeated insertions and deletions could leave too much unused capacity.\n",
    "* Strategy: **shrink array** when elements < 1/4 capacity.\n",
    "* Must avoid oscillation (grow → shrink → grow).\n",
    "\n",
    "---\n",
    "\n",
    "**Python’s List Class**\n",
    "\n",
    "* Empirical tests show Python lists behave like **dynamic arrays**.\n",
    "* Not pure doubling, not pure arithmetic → uses a hybrid strategy.\n",
    "* Still achieves **O(1) amortized append time**.\n",
    "\n",
    "---\n",
    "\n",
    "**Table 5.2: Average Running Time of Append (Python List)**\n",
    "\n",
    "| n         | 100   | 1,000 | 10,000 | 100,000 | 1,000,000 | 10,000,000 | 100,000,000 |\n",
    "| --------- | ----- | ----- | ------ | ------- | --------- | ---------- | ----------- |\n",
    "| μs/append | 0.219 | 0.158 | 0.164  | 0.151   | 0.147     | 0.147      | 0.149       |\n",
    "\n",
    "* Append time stabilizes as **n grows**, confirming amortized O(1).\n",
    "\n"
   ]
  },
  {
   "cell_type": "markdown",
   "metadata": {},
   "source": [
    "#### 5.4 Efficiency of Python’s Sequence Types"
   ]
  },
  {
   "cell_type": "markdown",
   "metadata": {},
   "source": [
    "\n",
    "\n",
    "**5.4.1 Python’s List and Tuple Classes**\n",
    "\n",
    "* **Tuples vs. Lists**\n",
    "\n",
    "  * Tuples are immutable → more memory efficient.\n",
    "  * Lists use a dynamic array with extra capacity to allow growth.\n",
    "  * Nonmutating behaviors (e.g., indexing, slicing, comparisons) are shared.\n",
    "\n",
    "---\n",
    "\n",
    "**Table 5.3 – Nonmutating Behaviors**\n",
    "\n",
    "| Operation           | Running Time | Notes                   |\n",
    "| ------------------- | ------------ | ----------------------- |\n",
    "| `len(data)`         | O(1)         | Stored as attribute     |\n",
    "| `data[j]`           | O(1)         | Array access            |\n",
    "| `data.count(value)` | O(n)         | Must check all          |\n",
    "| `data.index(value)` | O(k+1)       | Stops at first match    |\n",
    "| `value in data`     | O(k+1)       | Same as index           |\n",
    "| `data1 == data2`    | O(k+1)       | Stops at first mismatch |\n",
    "| `data[j:k]`         | O(k−j+1)     | Length of slice         |\n",
    "| `data1 + data2`     | O(n1+n2)     | New copy                |\n",
    "| `c * data`          | O(cn)        | Build repetition        |\n",
    "\n",
    "---\n",
    "\n",
    "**Constant-Time Operations**\n",
    "\n",
    "* `len(data)` and `data[j]` are **O(1)**.\n",
    "* Length is stored explicitly, and index lookup is just array access.\n",
    "\n",
    "---\n",
    "\n",
    "**Searching for Occurrences**\n",
    "\n",
    "* `count` always scans full sequence → O(n).\n",
    "* `index` and `in` stop at **first occurrence** (O(k+1) in practice).\n",
    "* Example:\n",
    "\n",
    "  ```python\n",
    "  data = list(range(10_000_000))\n",
    "  5 in data          # very fast (near start)\n",
    "  9_999_995 in data  # slower (near end)\n",
    "  -5 in data         # worst case, full scan\n",
    "  ```\n",
    "\n",
    "---\n",
    "\n",
    "**Lexicographic Comparisons**\n",
    "\n",
    "* Sequences compared element-by-element.\n",
    "* Worst case = O(min(n1, n2)).\n",
    "* Example:\n",
    "\n",
    "  ```python\n",
    "  [7, 3, ...] < [7, 5, ...]  # True, after only 2 elements checked\n",
    "  ```\n",
    "\n",
    "---\n",
    "**Creating New Instances**\n",
    "\n",
    "* Cost proportional to result size.\n",
    "* Example:\n",
    "\n",
    "  ```python\n",
    "  data[6000000:6000008]   # fast (8 elements)\n",
    "  data[6000000:7000000]   # slow (1 million elements)\n",
    "  ```\n",
    "\n",
    "---\n",
    "\n",
    "**Mutating Behaviors (Lists Only)**\n",
    "\n",
    "**Table 5.4 – Mutating Behaviors**\n",
    "\n",
    "| Operation        | Running Time | Notes                             |\n",
    "| ---------------- | ------------ | --------------------------------- |\n",
    "| `data[j] = val`  | O(1)         | Replace value                     |\n",
    "| `append(val)`    | O(1)\\*       | *Amortized* (resize occasionally) |\n",
    "| `insert(k, val)` | O(n−k+1)\\*   | Shifts elements right             |\n",
    "| `pop()`          | O(1)\\*       | Removes last                      |\n",
    "| `pop(k)`         | O(n−k)\\*     | Shifts left                       |\n",
    "| `del data[k]`    | O(n−k)       | Same as `pop(k)`                  |\n",
    "| `remove(value)`  | O(n)\\*       | Search + shift                    |\n",
    "| `extend(data2)`  | O(n2)\\*      | Efficient bulk copy               |\n",
    "| `+=`             | O(n2)\\*      | Same as extend                    |\n",
    "| `reverse()`      | O(n)         | Full traversal                    |\n",
    "| `sort()`         | O(n log n)   | Timsort                           |\n",
    "\n",
    "---\n",
    "\n",
    "**Adding Elements**\n",
    "\n",
    "* `append` is amortized O(1).\n",
    "* `insert(k, val)` requires shifting → O(n−k+1).\n",
    "\n",
    "**Example – DynamicArray insert (Code Fragment 5.5):**\n",
    "\n",
    "```python\n",
    "def insert(self, k, value):\n",
    "    \"\"\"Insert value at index k, shifting subsequent values right.\"\"\"\n",
    "    if self.n == self.capacity:  \n",
    "        self.resize(2 * self.capacity)   # resize if needed\n",
    "    for j in range(self.n, k, -1):       # shift elements\n",
    "        self.A[j] = self.A[j-1]\n",
    "    self.A[k] = value\n",
    "    self.n += 1\n",
    "```\n",
    "\n",
    "* Experimental results:\n",
    "\n",
    "  * Insert at **start**: O(n) (worst).\n",
    "  * Insert at **middle**: \\~½ as costly as start.\n",
    "  * Insert at **end**: O(1).\n",
    "\n",
    "---\n",
    "\n",
    "**Removing Elements**\n",
    "\n",
    "* `pop()` → O(1) amortized.\n",
    "* `pop(k)` → O(n−k), expensive at front (`pop(0)`).\n",
    "* `remove(value)` → O(n), because must search + shift.\n",
    "\n",
    "**Example – DynamicArray remove (Code Fragment 5.6):**\n",
    "\n",
    "```python\n",
    "def remove(self, value):\n",
    "    for k in range(self.n):\n",
    "        if self.A[k] == value:   # found match\n",
    "            for j in range(k, self.n - 1):\n",
    "                self.A[j] = self.A[j+1]  # shift left\n",
    "            self.A[self.n-1] = None\n",
    "            self.n -= 1\n",
    "            return\n",
    "    raise ValueError(\"value not found\")\n",
    "```\n",
    "\n",
    "---\n",
    "\n",
    "**Extending Lists**\n",
    "\n",
    "* `extend` is faster than repeated `append`.\n",
    "* Reasons:\n",
    "\n",
    "  1. Implemented in C (native).\n",
    "  2. Less function call overhead.\n",
    "  3. Can preallocate size in advance.\n",
    "\n",
    "---\n",
    "\n",
    "**Constructing New Lists**\n",
    "\n",
    "* **List comprehensions** are faster than appending in loops.\n",
    "* Example:\n",
    "\n",
    "  ```python\n",
    "  squares = [k*k for k in range(1, n+1)]  # fast\n",
    "  ```\n",
    "* Multiplication `[0]*n` is efficient for initialization.\n",
    "\n",
    "---\n",
    "\n",
    "**5.4.2 Python’s String Class**\n",
    "\n",
    "* Strings are immutable.\n",
    "* Many operations cost O(n), e.g., `.capitalize()`, `.center()`, `.strip()`.\n",
    "* Boolean tests (`.islower()`) short-circuit when possible.\n",
    "* Comparisons (`==`, `<`) are lexicographic like lists.\n",
    "\n",
    "---\n",
    "\n",
    "**Pattern Matching**\n",
    "\n",
    "* Methods: `in`, `find`, `index`, `count`, `replace`, `split`.\n",
    "* Naive algorithm: O(mn).\n",
    "* Efficient algorithms (e.g., KMP) achieve O(n). (Chapter 13).\n",
    "\n",
    "---\n",
    "\n",
    "**Composing Strings**\n",
    "\n",
    "* Avoid repeated concatenation with `+=` → can degrade to O(n²).\n",
    "* Safer approach: **use lists + `join`**.\n",
    "\n",
    "**Inefficient way (O(n²)):**\n",
    "\n",
    "```python\n",
    "letters = \"\"\n",
    "for c in document:\n",
    "    if c.isalpha():\n",
    "        letters += c\n",
    "```\n",
    "\n",
    "**Efficient way (O(n)):**\n",
    "\n",
    "```python\n",
    "letters = \"\".join([c for c in document if c.isalpha()])\n",
    "```\n",
    "\n",
    "**Generator comprehension (best):**\n",
    "\n",
    "```python\n",
    "letters = \"\".join(c for c in document if c.isalpha())\n",
    "```"
   ]
  },
  {
   "cell_type": "markdown",
   "metadata": {},
   "source": [
    "#### 5.5 Using Array-Based Sequences"
   ]
  },
  {
   "cell_type": "markdown",
   "metadata": {},
   "source": [
    "**5.5.1 Storing High Scores for a Game**\n",
    "\n",
    "One application of array-based sequences is storing a list of **high score entries** for a video game.\n",
    "This is a good example because:\n",
    "\n",
    "* A **scoreboard** needs to store a sequence of entries.\n",
    "* Each entry has a **name** and a **score**.\n",
    "* Only the top `k` scores are saved, where `k` is a fixed capacity (e.g., 10).\n",
    "\n",
    "**`GameEntry` Class**\n",
    "\n",
    "```python\n",
    "class GameEntry:\n",
    "    \"\"\"Represents one entry of a list of high scores.\"\"\"\n",
    "\n",
    "    def __init__(self, name, score):\n",
    "        self._name = name\n",
    "        self._score = score\n",
    "\n",
    "    def get_name(self):\n",
    "        return self._name\n",
    "\n",
    "    def get_score(self):\n",
    "        return self._score\n",
    "\n",
    "    def __str__(self):\n",
    "        return f\"({self._name}, {self._score})\"  # e.g., (Bob, 98)\n",
    "```\n",
    "\n",
    "This class stores the **player’s name** and **score**, and defines simple accessor methods.\n",
    "\n",
    "---\n",
    "\n",
    "**`Scoreboard` Class**\n",
    "\n",
    "The `Scoreboard` maintains the top scores, ordered from **highest → lowest**.\n",
    "It uses a Python list with fixed capacity, initialized to `None` values.\n",
    "\n",
    "```python\n",
    "class Scoreboard:\n",
    "    \"\"\"Fixed-length sequence of high scores in nondecreasing order.\"\"\"\n",
    "\n",
    "    def __init__(self, capacity=10):\n",
    "        \"\"\"Initialize scoreboard with given maximum capacity.\"\"\"\n",
    "        self._board = [None] * capacity  # reserve space\n",
    "        self._n = 0  # number of actual entries\n",
    "\n",
    "    def __getitem__(self, k):\n",
    "        \"\"\"Return entry at index k.\"\"\"\n",
    "        return self._board[k]\n",
    "\n",
    "    def __str__(self):\n",
    "        \"\"\"Return string representation of the high score list.\"\"\"\n",
    "        return \"\\n\".join(str(self._board[j]) for j in range(self._n))\n",
    "\n",
    "    def add(self, entry):\n",
    "        \"\"\"Consider adding entry to high scores.\"\"\"\n",
    "        score = entry.get_score()\n",
    "\n",
    "        # Does the new entry qualify?\n",
    "        good = self._n < len(self._board) or score > self._board[-1].get_score()\n",
    "\n",
    "        if good:\n",
    "            if self._n < len(self._board):  \n",
    "                self._n += 1  \n",
    "\n",
    "            # Shift lower scores rightward\n",
    "            j = self._n - 1\n",
    "            while j > 0 and self._board[j - 1].get_score() < score:\n",
    "                self._board[j] = self._board[j - 1]\n",
    "                j -= 1\n",
    "            self._board[j] = entry\n",
    "```\n",
    "\n",
    "**Key ideas:**\n",
    "\n",
    "* If the board is **not full**, any score is added.\n",
    "* If full, only scores **greater than the lowest** are added.\n",
    "* Lower scores are shifted to the right before inserting the new score.\n",
    "\n",
    "---\n",
    "\n",
    "**5.5.2 Sorting a Sequence**\n",
    "\n",
    "We now shift to a **general sorting problem**: rearranging elements of a sequence into nondecreasing order.\n",
    "\n",
    "The **insertion-sort** algorithm works by repeatedly inserting each element into its correct position among the previous elements.\n",
    "\n",
    "**Pseudocode**\n",
    "\n",
    "```\n",
    "Algorithm InsertionSort(A):\n",
    "Input: An array A of n comparable elements\n",
    "Output: A sorted array in nondecreasing order\n",
    "\n",
    "for k from 1 to n - 1 do\n",
    "    Insert A[k] into A[0..k] in correct order\n",
    "```\n",
    "\n",
    "**Python Implementation**\n",
    "\n",
    "```python\n",
    "def insertion_sort(A):\n",
    "    \"\"\"Sort list of comparable elements into nondecreasing order.\"\"\"\n",
    "    for k in range(1, len(A)):\n",
    "        cur = A[k]       # current element\n",
    "        j = k\n",
    "        while j > 0 and A[j - 1] > cur:\n",
    "            A[j] = A[j - 1]   # shift right\n",
    "            j -= 1\n",
    "        A[j] = cur\n",
    "```\n",
    "\n",
    "**Complexity:**\n",
    "\n",
    "* Worst case (reverse order): **O(n²)**.\n",
    "* Best case (already sorted): **O(n)**.\n",
    "\n",
    "---\n",
    "\n",
    "**5.5.3 Simple Cryptography**\n",
    "\n",
    "Another application of strings and lists is **cryptography**.\n",
    "We study the **Caesar Cipher**, which shifts each letter by `r` positions in the alphabet.\n",
    "\n",
    "* **Plaintext** → original message\n",
    "* **Ciphertext** → encrypted message\n",
    "\n",
    "**Caesar Cipher Class**\n",
    "\n",
    "```python\n",
    "class CaesarCipher:\n",
    "    \"\"\"Class for doing encryption and decryption using a Caesar cipher.\"\"\"\n",
    "\n",
    "    def __init__(self, shift):\n",
    "        \"\"\"Construct Caesar cipher using given integer shift.\"\"\"\n",
    "        encoder = [None] * 26\n",
    "        decoder = [None] * 26\n",
    "        for k in range(26):\n",
    "            encoder[k] = chr((k + shift) % 26 + ord('A'))\n",
    "            decoder[k] = chr((k - shift) % 26 + ord('A'))\n",
    "        self._forward = ''.join(encoder)\n",
    "        self._backward = ''.join(decoder)\n",
    "\n",
    "    def encrypt(self, message):\n",
    "        \"\"\"Return encrypted message.\"\"\"\n",
    "        return self._transform(message, self._forward)\n",
    "\n",
    "    def decrypt(self, secret):\n",
    "        \"\"\"Return decrypted message.\"\"\"\n",
    "        return self._transform(secret, self._backward)\n",
    "\n",
    "    def _transform(self, original, code):\n",
    "        \"\"\"Utility to perform transformation based on given code string.\"\"\"\n",
    "        msg = list(original)\n",
    "        for k in range(len(msg)):\n",
    "            if msg[k].isupper():\n",
    "                j = ord(msg[k]) - ord('A')  # map A..Z to 0..25\n",
    "                msg[k] = code[j]\n",
    "        return ''.join(msg)\n",
    "\n",
    "\n",
    "if __name__ == \"__main__\":\n",
    "    cipher = CaesarCipher(3)\n",
    "    message = \"THE EAGLE IS IN PLAY; MEET AT JOE'S.\"\n",
    "    coded = cipher.encrypt(message)\n",
    "    print(\"Secret:\", coded)\n",
    "    answer = cipher.decrypt(coded)\n",
    "    print(\"Message:\", answer)\n",
    "```\n",
    "\n",
    "**Output Example:**\n",
    "\n",
    "```\n",
    "Secret: WKH HDJOH LV LQ SODB; PHHW DW MRH’S.\n",
    "Message: THE EAGLE IS IN PLAY; MEET AT JOE’S.\n",
    "```\n"
   ]
  },
  {
   "cell_type": "markdown",
   "metadata": {},
   "source": [
    "#### 5.6 Multi dimensional Data Sets"
   ]
  },
  {
   "cell_type": "markdown",
   "metadata": {},
   "source": [
    "In Python, built-in types such as **lists**, **tuples**, and **strings** are **one-dimensional sequences**, meaning we access each element using a single index.\n",
    "\n",
    "However, many applications involve **multidimensional datasets**:\n",
    "\n",
    "* **2D** → geographic information, images, matrices.\n",
    "* **3D** → medical scans, 3D graphics.\n",
    "* **High-dimensional** → financial modeling, machine learning features.\n",
    "\n",
    "A **two-dimensional array** is also called a **matrix**.\n",
    "We usually access it with two indices, e.g. `A[i][j]`, where:\n",
    "\n",
    "* `i` → row index (0-based)\n",
    "* `j` → column index (0-based)\n",
    "\n",
    "---\n",
    "\n",
    "**Representing 2D Data in Python**\n",
    "\n",
    "We use a **list of lists**, where each row is a list:\n",
    "\n",
    "```python\n",
    "data = [\n",
    "    [22, 18, 709, 5, 33],\n",
    "    [45, 32, 830, 120, 750],\n",
    "    [4, 880, 45, 66, 61]\n",
    "]\n",
    "\n",
    "print(data[1][3])  # row 1, column 3 → 120\n",
    "```\n",
    "\n",
    "---\n",
    "\n",
    "**Pitfall: Incorrect Initialization**\n",
    "\n",
    "A common mistake is to try:\n",
    "\n",
    "```python\n",
    "data = [[0] * 6] * 3   # ❌ flawed\n",
    "```\n",
    "\n",
    "This creates **3 references to the same list**.\n",
    "Changing one row also changes the others (aliasing problem).\n",
    "\n",
    "---\n",
    "\n",
    "**Correct Initialization**\n",
    "\n",
    "The proper way is to use a **list comprehension**:\n",
    "\n",
    "```python\n",
    "rows, cols = 3, 6\n",
    "data = [[0] * cols for _ in range(rows)]\n",
    "\n",
    "data[2][0] = 100  # only changes row 2, col 0\n",
    "```\n",
    "\n",
    "This ensures each row is an **independent list**.\n",
    "\n",
    "---\n",
    "\n",
    "**Tic-Tac-Toe Example**\n",
    "\n",
    "Many games require a **2D board**. Tic-Tac-Toe is a simple 3×3 example.\n",
    "\n",
    "**Public Interface Demo (Code Fragment 5.12)**\n",
    "\n",
    "```python\n",
    "game = TicTacToe()\n",
    "\n",
    "**X and O alternate moves**\n",
    "game.mark(1, 1); game.mark(0, 2)\n",
    "game.mark(2, 2); game.mark(0, 0)\n",
    "game.mark(0, 1); game.mark(2, 1)\n",
    "game.mark(1, 2); game.mark(1, 0)\n",
    "game.mark(2, 0)\n",
    "\n",
    "print(game)        # prints current board\n",
    "winner = game.winner()\n",
    "if winner is None:\n",
    "    print(\"Tie\")\n",
    "else:\n",
    "    print(winner, \"wins\")\n",
    "```\n",
    "\n",
    "---\n",
    "\n",
    "**Implementation (Code Fragment 5.13)**\n",
    "\n",
    "```python\n",
    "class TicTacToe:\n",
    "    \"\"\"Management of a Tic-Tac-Toe game (no strategy, just board logic).\"\"\"\n",
    "\n",
    "    def __init__(self):\n",
    "        \"\"\"Start a new empty game.\"\"\"\n",
    "        self._board = [[''] * 3 for _ in range(3)]\n",
    "        self._player = 'X'\n",
    "\n",
    "    def mark(self, i, j):\n",
    "        \"\"\"Place current player's mark at position (i, j).\"\"\"\n",
    "        if not (0 <= i <= 2 and 0 <= j <= 2):\n",
    "            raise ValueError(\"Invalid board position\")\n",
    "        if self._board[i][j] != '':\n",
    "            raise ValueError(\"Board position occupied\")\n",
    "        if self.winner() is not None:\n",
    "            raise ValueError(\"Game already complete\")\n",
    "\n",
    "        self._board[i][j] = self._player\n",
    "        self._player = 'O' if self._player == 'X' else 'X'\n",
    "\n",
    "    def is_win(self, mark):\n",
    "        \"\"\"Check if the given player has a winning line.\"\"\"\n",
    "        b = self._board\n",
    "        return (\n",
    "            mark == b[0][0] == b[0][1] == b[0][2] or  # row 0\n",
    "            mark == b[1][0] == b[1][1] == b[1][2] or  # row 1\n",
    "            mark == b[2][0] == b[2][1] == b[2][2] or  # row 2\n",
    "            mark == b[0][0] == b[1][0] == b[2][0] or  # col 0\n",
    "            mark == b[0][1] == b[1][1] == b[2][1] or  # col 1\n",
    "            mark == b[0][2] == b[1][2] == b[2][2] or  # col 2\n",
    "            mark == b[0][0] == b[1][1] == b[2][2] or  # diag\n",
    "            mark == b[0][2] == b[1][1] == b[2][0]     # rev diag\n",
    "        )\n",
    "\n",
    "    def winner(self):\n",
    "        \"\"\"Return the mark of the winning player, or None if no winner yet.\"\"\"\n",
    "        for mark in 'XO':\n",
    "            if self.is_win(mark):\n",
    "                return mark\n",
    "        return None\n",
    "\n",
    "    def __str__(self):\n",
    "        \"\"\"Return string representation of the board.\"\"\"\n",
    "        rows = [' | '.join(self._board[r]) for r in range(3)]\n",
    "        return '\\n-----\\n'.join(rows)\n",
    "```\n",
    "\n",
    "---\n",
    "\n",
    "**Example Run**\n",
    "\n",
    "```python\n",
    "game = TicTacToe()\n",
    "game.mark(0, 0)  # X\n",
    "game.mark(1, 1)  # O\n",
    "game.mark(0, 1)  # X\n",
    "game.mark(2, 2)  # O\n",
    "game.mark(0, 2)  # X wins (row 0)\n",
    "\n",
    "print(game)\n",
    "print(\"Winner:\", game.winner())\n",
    "```\n",
    "\n",
    "**Output:**\n",
    "\n",
    "```\n",
    "X | X | X\n",
    "-----\n",
    "  | O |  \n",
    "-----\n",
    "  |   | O\n",
    "Winner: X\n",
    "```\n",
    "\n",
    "---"
   ]
  },
  {
   "cell_type": "markdown",
   "metadata": {
    "jp-MarkdownHeadingCollapsed": true
   },
   "source": [
    "# Chapter 6 Stacks, Queues, and Deques"
   ]
  },
  {
   "cell_type": "markdown",
   "metadata": {},
   "source": [
    "#### 6.1 Stacks"
   ]
  },
  {
   "cell_type": "markdown",
   "metadata": {
    "jp-MarkdownHeadingCollapsed": true
   },
   "source": [
    "A **stack** is a collection of objects that follows the **Last-In, First-Out (LIFO)** principle:\n",
    "\n",
    "* Insertions are called **push** operations.\n",
    "* Removals are called **pop** operations.\n",
    "* Only the **top element** can be accessed or removed.\n",
    "\n",
    "Examples of stacks in real life:\n",
    "\n",
    "* A cafeteria **stack of plates**: push a new plate on top, pop the last one off.\n",
    "* A **PEZ® candy dispenser**: the top candy is always the next one available.\n",
    "\n",
    "---\n",
    "\n",
    "**Applications of Stacks**\n",
    "\n",
    "* **Web browsers**: The \"back\" button pops from a stack of visited URLs.\n",
    "* **Text editors**: Undo operations are stored in a stack of recent changes.\n",
    "\n",
    "---\n",
    "\n",
    "**6.1.1 Stack Abstract Data Type (ADT)**\n",
    "\n",
    "A stack supports the following core methods:\n",
    "\n",
    "* `S.push(e)` → Add element `e` to the top.\n",
    "* `S.pop()` → Remove and return the top element (error if empty).\n",
    "\n",
    "Additional convenience methods:\n",
    "\n",
    "* `S.top()` → Return top element without removing it.\n",
    "* `S.is_empty()` → Return `True` if stack has no elements.\n",
    "* `len(S)` → Return number of elements.\n",
    "\n",
    "By convention, new stacks are empty and unbounded.\n",
    "\n",
    "---\n",
    "\n",
    "**Example Operations**\n",
    "\n",
    "| Operation      | Return Value | Stack Contents |\n",
    "| -------------- | ------------ | -------------- |\n",
    "| `S.push(5)`    | –            | \\[5]           |\n",
    "| `S.push(3)`    | –            | \\[5, 3]        |\n",
    "| `len(S)`       | 2            | \\[5, 3]        |\n",
    "| `S.pop()`      | 3            | \\[5]           |\n",
    "| `S.is_empty()` | False        | \\[5]           |\n",
    "| `S.pop()`      | 5            | \\[]            |\n",
    "| `S.is_empty()` | True         | \\[]            |\n",
    "| `S.pop()`      | error        | \\[]            |\n",
    "| `S.push(7)`    | –            | \\[7]           |\n",
    "| `S.push(9)`    | –            | \\[7, 9]        |\n",
    "| `S.top()`      | 9            | \\[7, 9]        |\n",
    "| `S.push(4)`    | –            | \\[7, 9, 4]     |\n",
    "| `len(S)`       | 3            | \\[7, 9, 4]     |\n",
    "| `S.pop()`      | 4            | \\[7, 9]        |\n",
    "| `S.push(6)`    | –            | \\[7, 9, 6]     |\n",
    "| `S.push(8)`    | –            | \\[7, 9, 6, 8]  |\n",
    "| `S.pop()`      | 8            | \\[7, 9, 6]     |\n",
    "\n",
    "---\n",
    "\n",
    "**6.1.2 Array-Based Stack Implementation**\n",
    "\n",
    "We can use a Python list to represent a stack:\n",
    "\n",
    "* `append(e)` → push\n",
    "* `pop()` → pop\n",
    "* `[-1]` → top\n",
    "* `len(L)` → size\n",
    "\n",
    "**Table 6.1 – Adapter Pattern**\n",
    "\n",
    "| **Stack Method** | **Python list Realization** |\n",
    "| ---------------- | --------------------------- |\n",
    "| `S.push(e)`      | `L.append(e)`               |\n",
    "| `S.pop()`        | `L.pop()`                   |\n",
    "| `S.top()`        | `L[-1]`                     |\n",
    "| `S.is_empty()`   | `len(L) == 0`               |\n",
    "| `len(S)`         | `len(L)`                    |\n",
    "\n",
    "---\n",
    "\n",
    "**Example: `ArrayStack` Class**\n",
    "\n",
    "```python\n",
    "class Empty(Exception):\n",
    "    \"\"\"Error attempting to access an element from an empty container.\"\"\"\n",
    "    pass\n",
    "\n",
    "class ArrayStack:\n",
    "    \"\"\"LIFO Stack implementation using a Python list as storage.\"\"\"\n",
    "    \n",
    "    def __init__(self):\n",
    "        self._data = []  # nonpublic list instance\n",
    "\n",
    "    def __len__(self):\n",
    "        return len(self._data)\n",
    "\n",
    "    def is_empty(self):\n",
    "        return len(self._data) == 0\n",
    "\n",
    "    def push(self, e):\n",
    "        self._data.append(e)  # new item stored at end of list\n",
    "\n",
    "    def top(self):\n",
    "        if self.is_empty():\n",
    "            raise Empty(\"Stack is empty\")\n",
    "        return self._data[-1]\n",
    "\n",
    "    def pop(self):\n",
    "        if self.is_empty():\n",
    "            raise Empty(\"Stack is empty\")\n",
    "        return self._data.pop()\n",
    "```\n",
    "\n",
    "---\n",
    "\n",
    "**Performance Analysis**\n",
    "\n",
    "| Operation      | Running Time |\n",
    "| -------------- | ------------ |\n",
    "| `S.push(e)`    | O(1)\\*       |\n",
    "| `S.pop()`      | O(1)\\*       |\n",
    "| `S.top()`      | O(1)         |\n",
    "| `S.is_empty()` | O(1)         |\n",
    "| `len(S)`       | O(1)         |\n",
    "\n",
    "\\* amortized, since Python lists occasionally resize.\n",
    "\n",
    "---\n",
    "\n",
    "**6.1.3 Reversing Data with a Stack**\n",
    "\n",
    "Stacks can **reverse a sequence**:\n",
    "\n",
    "```python\n",
    "def reverse_file(filename):\n",
    "    \"\"\"Overwrite a file with its contents line-by-line reversed.\"\"\"\n",
    "    S = ArrayStack()\n",
    "    original = open(filename)\n",
    "    for line in original:\n",
    "        S.push(line.rstrip(\"\\n\"))\n",
    "    original.close()\n",
    "\n",
    "    output = open(filename, \"w\")\n",
    "    while not S.is_empty():\n",
    "        output.write(S.pop() + \"\\n\")\n",
    "    output.close()\n",
    "```\n",
    "\n",
    "---\n",
    "\n",
    "**6.1.4 Matching Parentheses and HTML Tags**\n",
    "\n",
    "**Matching Arithmetic Delimiters**\n",
    "\n",
    "```python\n",
    "def is_matched(expr):\n",
    "    \"\"\"Return True if all delimiters are properly matched; False otherwise.\"\"\"\n",
    "    lefty = \"({[\"\n",
    "    righty = \")}]\"\n",
    "    S = ArrayStack()\n",
    "    for c in expr:\n",
    "        if c in lefty:\n",
    "            S.push(c)\n",
    "        elif c in righty:\n",
    "            if S.is_empty():\n",
    "                return False\n",
    "            if righty.index(c) != lefty.index(S.pop()):\n",
    "                return False\n",
    "    return S.is_empty()\n",
    "```\n",
    "\n",
    "**Matching HTML Tags**\n",
    "\n",
    "```python\n",
    "def is_matched_html(raw):\n",
    "    \"\"\"Return True if all HTML tags are properly matched; False otherwise.\"\"\"\n",
    "    S = ArrayStack()\n",
    "    j = raw.find(\"<\")\n",
    "    while j != -1:\n",
    "        k = raw.find(\">\", j+1)\n",
    "        if k == -1:\n",
    "            return False\n",
    "        tag = raw[j+1:k]\n",
    "        if not tag.startswith(\"/\"):\n",
    "            S.push(tag)\n",
    "        else:\n",
    "            if S.is_empty():\n",
    "                return False\n",
    "            if tag[1:] != S.pop():\n",
    "                return False\n",
    "        j = raw.find(\"<\", k+1)\n",
    "    return S.is_empty()\n",
    "```\n",
    "\n"
   ]
  },
  {
   "cell_type": "markdown",
   "metadata": {},
   "source": [
    "#### 6.2 Queues"
   ]
  },
  {
   "cell_type": "markdown",
   "metadata": {},
   "source": [
    "\n",
    "A **queue** is a collection of elements organized by the **First-In, First-Out (FIFO)** principle:\n",
    "\n",
    "* **Enqueue** → insert at the **back**\n",
    "* **Dequeue** → remove from the **front**\n",
    "\n",
    "Think of people in line at an amusement park: enter at the back, leave from the front.\n",
    "\n",
    "---\n",
    "\n",
    "**Abstract Data Type (ADT) Operations**\n",
    "\n",
    "* **`Q.enqueue(e)`** → add element `e` to the back.\n",
    "* **`Q.dequeue()`** → remove and return the first element (error if empty).\n",
    "* **`Q.first()`** → return the element at the front without removing it.\n",
    "* **`Q.is_empty()`** → check if queue is empty.\n",
    "* **`len(Q)`** → return number of elements in the queue.\n",
    "\n",
    "---\n",
    "\n",
    "**Array-Based Implementation**\n",
    "\n",
    "1. **Naïve approach (using list `append` + `pop(0)`)**\n",
    "\n",
    "   * Easy, but inefficient: `pop(0)` requires shifting all elements → **Θ(n)** time.\n",
    "\n",
    "2. **Improved approach**\n",
    "\n",
    "   * Maintain an index `front` to track the start of the queue.\n",
    "   * Replace dequeued positions with `None`.\n",
    "   * Use **circular array indexing** with modular arithmetic:\n",
    "\n",
    "     ```\n",
    "     f = (f + 1) % N\n",
    "     avail = (front + size) % len(data)\n",
    "     ```\n",
    "\n",
    "3. **Resizing strategy**\n",
    "\n",
    "   * **Expansion**: Double array size when full.\n",
    "   * **Shrinking**: Halve array size when usage falls below 25% capacity.\n",
    "   * Ensures space usage stays **Θ(n)** where `n` is current number of elements.\n",
    "\n",
    "---\n",
    "\n",
    "**Python Implementation Overview**\n",
    "\n",
    "* `data`: underlying list storage.\n",
    "* `size`: number of elements in queue.\n",
    "* `front`: index of the first element.\n",
    "* Methods: `enqueue`, `dequeue`, `first`, `is_empty`, `__len__`.\n",
    "* Amortized resizing ensures efficiency.\n",
    "\n",
    "---\n",
    "\n",
    "**Performance Analysis**\n",
    "\n",
    "**Table 6.3: Array-Based Queue Performance**\n",
    "\n",
    "| Operation      | Running Time |\n",
    "| -------------- | ------------ |\n",
    "| `Q.enqueue(e)` | O(1)\\*       |\n",
    "| `Q.dequeue()`  | O(1)\\*       |\n",
    "| `Q.first()`    | O(1)         |\n",
    "| `Q.is_empty()` | O(1)         |\n",
    "| `len(Q)`       | O(1)         |\n",
    "\n",
    "\\*Amortized, due to resizing."
   ]
  },
  {
   "cell_type": "markdown",
   "metadata": {},
   "source": [
    "#### 6.3 Double-EndedQueues"
   ]
  },
  {
   "cell_type": "markdown",
   "metadata": {
    "jp-MarkdownHeadingCollapsed": true
   },
   "source": [
    "\n",
    "A **deque (double-ended queue)** allows insertion and deletion at **both the front and the back**.\n",
    "\n",
    "* Pronounced “deck” to avoid confusion with `dequeue`.\n",
    "* More general than both stacks (LIFO) and queues (FIFO).\n",
    "* Useful in scenarios like:\n",
    "\n",
    "  * Restaurants moving customers back to the front if a table isn’t ready.\n",
    "  * Impatient customers leaving from the back.\n",
    "\n",
    "---\n",
    "\n",
    "**6.3.1 Deque Abstract Data Type (ADT)**\n",
    "\n",
    "Supported operations:\n",
    "\n",
    "* **Insertions**\n",
    "\n",
    "  * `D.add_first(e)` → add element `e` to the front.\n",
    "  * `D.add_last(e)` → add element `e` to the back.\n",
    "\n",
    "* **Deletions**\n",
    "\n",
    "  * `D.delete_first()` → remove and return first element (error if empty).\n",
    "  * `D.delete_last()` → remove and return last element (error if empty).\n",
    "\n",
    "* **Accessors**\n",
    "\n",
    "  * `D.first()` → return (but don’t remove) first element.\n",
    "  * `D.last()` → return (but don’t remove) last element.\n",
    "  * `D.is_empty()` → check if deque is empty.\n",
    "  * `len(D)` → return number of elements.\n",
    "\n",
    "---\n",
    "\n",
    "**Example 6.5 (Deque Operations)**\n",
    "\n",
    "A sequence of operations on an initially empty deque `D`:\n",
    "\n",
    "| Operation         | Return Value | Deque State |\n",
    "| ----------------- | ------------ | ----------- |\n",
    "| `D.add_last(5)`   |              | \\[5]        |\n",
    "| `D.add_first(3)`  |              | \\[3, 5]     |\n",
    "| `D.add_first(7)`  |              | \\[7, 3, 5]  |\n",
    "| `D.first()`       | 7            | \\[7, 3, 5]  |\n",
    "| `D.delete_last()` | 5            | \\[7, 3]     |\n",
    "| `len(D)`          | 2            | \\[7, 3]     |\n",
    "| `D.delete_last()` | 3            | \\[7]        |\n",
    "| `D.delete_last()` | 7            | \\[ ]        |\n",
    "| `D.add_first(6)`  |              | \\[6]        |\n",
    "| `D.last()`        | 6            | \\[6]        |\n",
    "| `D.add_first(8)`  |              | \\[8, 6]     |\n",
    "| `D.is_empty()`    | False        | \\[8, 6]     |\n",
    "| `D.last()`        | 6            | \\[8, 6]     |\n",
    "\n",
    "---\n",
    "\n",
    "**6.3.2 Implementation with Circular Array**\n",
    "\n",
    "* Similar to `ArrayQueue`.\n",
    "* Maintains:\n",
    "\n",
    "  * `data` (list storage),\n",
    "  * `size` (# of elements),\n",
    "  * `front` (index of first element).\n",
    "* Use **modular arithmetic** to handle wraparound:\n",
    "\n",
    "  * Back index:\n",
    "\n",
    "    ```python\n",
    "    back = (front + size - 1) % len(data)\n",
    "    ```\n",
    "  * Adding to front:\n",
    "\n",
    "    ```python\n",
    "    front = (front - 1) % len(data)\n",
    "    ```\n",
    "* **Efficiency**: All operations are **O(1) amortized** (due to resizing).\n",
    "\n",
    "---\n",
    "\n",
    "**6.3.3 Python `collections.deque`**\n",
    "\n",
    "Python provides a built-in `deque` in the **`collections`** module.\n",
    "\n",
    "Table 6.4: Our ADT vs `collections.deque`\n",
    "\n",
    "| Our Deque ADT      | `collections.deque` | Description                      |\n",
    "| ------------------ | ------------------- | -------------------------------- |\n",
    "| `len(D)`           | `len(D)`            | number of elements               |\n",
    "| `D.add_first(e)`   | `D.appendleft(e)`   | add to beginning                 |\n",
    "| `D.add_last(e)`    | `D.append(e)`       | add to end                       |\n",
    "| `D.delete_first()` | `D.popleft()`       | remove from beginning            |\n",
    "| `D.delete_last()`  | `D.pop()`           | remove from end                  |\n",
    "| `D.first()`        | `D[0]`              | access first element             |\n",
    "| `D.last()`         | `D[-1]`             | access last element              |\n",
    "| —                  | `D[j]`              | access arbitrary entry           |\n",
    "| —                  | `D[j] = val`        | modify arbitrary entry           |\n",
    "| —                  | `D.clear()`         | remove all contents              |\n",
    "| —                  | `D.rotate(k)`       | circular shift rightward k steps |\n",
    "| —                  | `D.remove(e)`       | remove first matching element    |\n",
    "| —                  | `D.count(e)`        | count number of matches          |\n",
    "\n",
    "**Notes**\n",
    "\n",
    "* `append` / `pop` → default to the **end** (consistent with lists).\n",
    "* `appendleft` / `popleft` → operate at the **front**.\n",
    "* Supports **fixed-length deque** via `maxlen`:\n",
    "\n",
    "  * If full, new insertions automatically remove elements from the opposite end.\n",
    "* Internally implemented with **blocks in a doubly linked list + circular arrays**.\n",
    "* Guarantees **O(1)** at either end, but **O(n)** for index-based middle operations.\n",
    "\n"
   ]
  },
  {
   "cell_type": "markdown",
   "metadata": {
    "jp-MarkdownHeadingCollapsed": true
   },
   "source": [
    "# Chapter 8 Trees"
   ]
  },
  {
   "cell_type": "markdown",
   "metadata": {},
   "source": [
    "#### 8.1 General Trees"
   ]
  },
  {
   "cell_type": "markdown",
   "metadata": {},
   "source": [
    "\n",
    "**8.1.1 Tree Definitions and Properties**\n",
    "\n",
    "* **Tree Definition**\n",
    "\n",
    "  * A **tree** is a hierarchical ADT where each element (node) has:\n",
    "\n",
    "    * A **parent** (except the root),\n",
    "    * Zero or more **children**.\n",
    "  * The **root** is the unique top element with no parent.\n",
    "  * A tree may be empty.\n",
    "\n",
    "* **Terminology**\n",
    "\n",
    "  * **Root**: The unique top element.\n",
    "  * **Parent / Child**: Defined by direct relationship.\n",
    "  * **Siblings**: Children of the same parent.\n",
    "  * **Leaf (external node)**: Node with no children.\n",
    "  * **Internal node**: Node with at least one child.\n",
    "  * **Ancestor / Descendant**: Defined by recursive parent relationships.\n",
    "  * **Subtree**: Tree rooted at a given node including all descendants.\n",
    "  * **Edges**: Parent-child connections.\n",
    "  * **Path**: Sequence of connected nodes via edges.\n",
    "\n",
    "* **Ordered Trees**\n",
    "\n",
    "  * A tree is **ordered** if children have a defined left-to-right order.\n",
    "  * Examples:\n",
    "\n",
    "    * File systems → unordered.\n",
    "    * Book chapters / sections → ordered.\n",
    "    * Family tree → ordered by birth order.\n",
    "\n",
    "---\n",
    "\n",
    "**8.1.2 The Tree ADT**\n",
    "\n",
    "* **Node abstraction**: A `Position` object represents a node in the tree.\n",
    "* **Key Accessors**:\n",
    "\n",
    "```python\n",
    "T.root()            # return root position (None if empty)\n",
    "T.is_root(p)        # check if position p is root\n",
    "T.parent(p)         # return parent of p\n",
    "T.num_children(p)   # number of children of p\n",
    "T.children(p)       # iterate children of p\n",
    "T.is_leaf(p)        # check if p is a leaf\n",
    "len(T)              # number of elements in T\n",
    "T.is_empty()        # check if tree is empty\n",
    "T.positions()       # iterate over all positions\n",
    "iter(T)             # iterate over all elements\n",
    "```\n",
    "\n",
    "* Raises `ValueError` for invalid positions.\n",
    "* For ordered trees, `T.children(p)` reports children in order.\n",
    "\n",
    "---\n",
    "\n",
    "**8.1.3 Abstract Base Class in Python**\n",
    "\n",
    "* **Tree Class Design (Code Fragments 8.1–8.2)**\n",
    "\n",
    "  * Abstract base class (`Tree`) provides:\n",
    "\n",
    "    * Nested abstract class `Position`.\n",
    "    * Abstract methods: `root`, `parent`, `num_children`, `children`, `__len__`.\n",
    "    * Concrete methods:\n",
    "\n",
    "      * `is_root(p)`\n",
    "      * `is_leaf(p)`\n",
    "      * `is_empty()`\n",
    "  * Promotes **code reuse** for subclasses (`LinkedTree`, `BinaryTree`, etc.).\n",
    "  * Cannot instantiate directly — only concrete subclasses are usable.\n",
    "\n",
    "---\n",
    "**8.1.4 Depth and Height**\n",
    "\n",
    "* **Depth of a node p**:\n",
    "\n",
    "  * Number of ancestors (excluding itself).\n",
    "  * `depth(root) = 0`\n",
    "  * Recursive:\n",
    "\n",
    "    ```\n",
    "    depth(p) = 1 + depth(parent(p))\n",
    "    ```\n",
    "  * Algorithm `depth(p)` runs in **O(dp + 1)**, where `dp` = depth of p.\n",
    "  * Worst case: O(n).\n",
    "\n",
    "* **Height of a node p**:\n",
    "\n",
    "  * If `p` is a leaf → height = 0.\n",
    "  * Otherwise:\n",
    "\n",
    "    ```\n",
    "    height(p) = 1 + max(height(c) for c in children(p))\n",
    "    ```\n",
    "  * Height of tree T = height(root).\n",
    "  * **Proposition 8.4**: Height of T = max(depth of all leaves).\n",
    "\n",
    "* **Height Algorithms**\n",
    "\n",
    "  * `height1()`\n",
    "\n",
    "    * Based on computing depth of all leaves.\n",
    "    * Runs in **O(n²)** worst case.\n",
    "  * `height2(p)`\n",
    "\n",
    "    * Recursive computation of subtree height.\n",
    "    * Runs in **O(n)** total.\n",
    "  * Public wrapper:\n",
    "\n",
    "    ```python\n",
    "    T.height()        # entire tree\n",
    "    T.height(p)       # subtree rooted at p\n",
    "    ```\n",
    "\n"
   ]
  },
  {
   "cell_type": "markdown",
   "metadata": {},
   "source": [
    "Table 8.1 — Running Times of Tree Operations\n",
    "| Operation           | Description                                            | Running Time                                |\n",
    "| ------------------- | ------------------------------------------------------ | ------------------------------------------- |\n",
    "| `T.root()`          | Return the root position of tree `T`                   | **O(1)**                                    |\n",
    "| `T.parent(p)`       | Return the parent of position `p`                      | **O(1)**                                    |\n",
    "| `T.num_children(p)` | Return number of children of `p`                       | **O(1)**                                    |\n",
    "| `T.children(p)`     | Generate iteration over children of `p`                | **O(c+1)**, where `c` = number of children  |\n",
    "| `len(T)`            | Return number of elements in tree                      | **O(1)**                                    |\n",
    "| `T.is_empty()`      | Return `True` if tree is empty                         | **O(1)**                                    |\n",
    "| `T.is_root(p)`      | Test whether `p` is root                               | **O(1)**                                    |\n",
    "| `T.is_leaf(p)`      | Test whether `p` is a leaf                             | **O(1)**                                    |\n",
    "| `T.positions()`     | Generate iteration over all positions                  | **O(n+1)**, where `n` = number of positions |\n",
    "| `iter(T)`           | Generate iteration over all elements                   | **O(n+1)**                                  |\n",
    "| `depth(p)`          | Return depth of node `p`                               | **O(dp + 1)**, where `dp` = depth of `p`    |\n",
    "| `height1(T)`        | Return height of tree by computing depth of all leaves | **O(n²)** worst case                        |\n",
    "| `height2(p)`        | Return height of subtree rooted at `p` (recursive)     | **O(n)** overall                            |\n",
    "| `T.height()`        | Return height of tree (wrapper of `height2(root)`)     | **O(n)**                                    |\n"
   ]
  },
  {
   "cell_type": "markdown",
   "metadata": {},
   "source": [
    "#### 8.2 Binary Trees"
   ]
  },
  {
   "cell_type": "markdown",
   "metadata": {},
   "source": [
    "**Definition and Rules**\n",
    "\n",
    "A **binary tree** is an ordered tree with the following properties:\n",
    "\n",
    "1. Every node has at most **two children**.\n",
    "2. Each child is labeled as **left** or **right**.\n",
    "3. The **left child precedes** the right child in order.\n",
    "\n",
    "* **Left subtree** = subtree rooted at a left child.\n",
    "* **Right subtree** = subtree rooted at a right child.\n",
    "* **Proper binary tree** = every internal node has exactly two children (sometimes called a *full binary tree*).\n",
    "* **Improper binary tree** = at least one internal node has only one child.\n",
    "\n",
    "---\n",
    "\n",
    "**Recursive Definition of a Binary Tree**\n",
    "\n",
    "A binary tree is either **empty** or consists of:\n",
    "\n",
    "* A root node storing an element.\n",
    "* A binary tree as the **left subtree**.\n",
    "* A binary tree as the **right subtree**.\n",
    "\n",
    "---\n",
    "\n",
    "**Binary Tree Abstract Data Type (ADT)**\n",
    "\n",
    "| Method         | Description                                                          |\n",
    "| -------------- | -------------------------------------------------------------------- |\n",
    "| `T.left(p)`    | Return position of the **left child** of `p` (or `None` if absent).  |\n",
    "| `T.right(p)`   | Return position of the **right child** of `p` (or `None` if absent). |\n",
    "| `T.sibling(p)` | Return position of the **sibling** of `p` (or `None` if no sibling). |\n",
    "\n",
    "Inheritance: A `BinaryTree` is a subclass of `Tree` (thus it inherits `root`, `parent`, `is_leaf`, `is_root`, etc.).\n",
    "\n",
    "---\n",
    "\n",
    "**Properties of Binary Trees**\n",
    "\n",
    "**Maximum Nodes per Level**\n",
    "\n",
    "* Level `d` has at most `2^d` nodes.\n",
    "* Example:\n",
    "\n",
    "  * Level 0 → 1 node\n",
    "  * Level 1 → 2 nodes\n",
    "  * Level 2 → 4 nodes\n",
    "  * Level 3 → 8 nodes\n",
    "\n",
    "---\n",
    "\n",
    "**Proposition 8.8 (General Binary Trees)**\n",
    "\n",
    "For a nonempty binary tree `T` with:\n",
    "\n",
    "* `n` = number of nodes\n",
    "* `nE` = number of external nodes\n",
    "* `nI` = number of internal nodes\n",
    "* `h` = height\n",
    "\n",
    "The following hold:\n",
    "\n",
    "1. **Node bounds**: `h + 1 ≤ n ≤ 2^(h+1) − 1`\n",
    "2. **External nodes**: `1 ≤ nE ≤ 2^h`\n",
    "3. **Internal nodes**: `h ≤ nI ≤ 2^h − 1`\n",
    "4. **Height bounds**: `log(n + 1) − 1 ≤ h ≤ n − 1`\n",
    "\n",
    "---\n",
    "\n",
    "**Proposition 8.8 (Proper Binary Trees)**\n",
    "\n",
    "If `T` is **proper**:\n",
    "\n",
    "1. **Node bounds**: `2h + 1 ≤ n ≤ 2^(h+1) − 1`\n",
    "2. **External nodes**: `h + 1 ≤ nE ≤ 2^h`\n",
    "3. **Internal nodes**: `h ≤ nI ≤ 2^h − 1`\n",
    "4. **Height bounds**: `log(n + 1) − 1 ≤ h ≤ (n − 1)/2`\n",
    "\n",
    "---\n",
    "\n",
    "**Proposition 8.9 (Relation Between Internal & External Nodes)**\n",
    "\n",
    "In a **nonempty proper binary tree**:\n",
    "\n",
    "$$\n",
    "n_E = n_I + 1\n",
    "$$\n",
    "\n",
    "That is, the number of external nodes is always **one more** than the number of internal nodes.\n",
    "\n",
    "---\n",
    "\n",
    "**Examples**\n",
    "\n",
    "* **Decision tree**: Proper binary tree used for yes/no questions (Figure 8.7).\n",
    "* **Expression tree**: Proper binary tree where leaves are constants/variables and internal nodes are operators (Figure 8.8).\n",
    "\n"
   ]
  },
  {
   "cell_type": "markdown",
   "metadata": {},
   "source": [
    "#### 8.3 Implementing Trees"
   ]
  },
  {
   "cell_type": "markdown",
   "metadata": {},
   "source": [
    "The abstract classes `Tree` and `BinaryTree` provide interfaces but cannot be directly instantiated. A **concrete tree implementation** must define:\n",
    "\n",
    "* `root`, `parent`, `num_children`, `children`, `__len__`\n",
    "* (for binary trees) `left`, `right`\n",
    "\n",
    "There are several common **internal representations**:\n",
    "\n",
    "---\n",
    "\n",
    "**8.3.1 Linked Structure for Binary Trees**\n",
    "\n",
    "**Structure**\n",
    "\n",
    "* Each node stores:\n",
    "\n",
    "  * element\n",
    "  * parent reference\n",
    "  * left child reference\n",
    "  * right child reference\n",
    "* Tree stores:\n",
    "\n",
    "  * reference to `root`\n",
    "  * size (# of nodes)\n",
    "\n",
    "This allows **efficient navigation** (O(1) for parent/child lookups).\n",
    "\n",
    "**Update Methods (nonpublic, O(1) each)**\n",
    "\n",
    "* `add_root(e)` → add root to empty tree.\n",
    "* `add_left(p, e)` → add left child of position `p`.\n",
    "* `add_right(p, e)` → add right child of position `p`.\n",
    "* `replace(p, e)` → replace element at `p`.\n",
    "* `delete(p)` → remove node at `p` (only if ≤ 1 child).\n",
    "* `attach(p, T1, T2)` → attach two trees as left & right subtrees of leaf `p`.\n",
    "\n",
    "**Performance (Table 8.1)**\n",
    "\n",
    "| Operation                                                                    | Running Time |\n",
    "| ---------------------------------------------------------------------------- | ------------ |\n",
    "| `__len__`, `is_empty`                                                        | O(1)         |\n",
    "| `root`, `parent`, `left`, `right`, `sibling`, `children`, `num_children`     | O(1)         |\n",
    "| `is_root`, `is_leaf`                                                         | O(1)         |\n",
    "| `depth(p)`                                                                   | O(dp + 1)    |\n",
    "| `height`                                                                     | O(n)         |\n",
    "| Updates (`add_root`, `add_left`, `add_right`, `replace`, `delete`, `attach`) | O(1)         |\n",
    "\n",
    "* **Space usage**: O(n).\n",
    "\n",
    "---\n",
    "\n",
    "**8.3.2 Array-Based Representation of Binary Trees**\n",
    "\n",
    "**Numbering Function `f(p)`**\n",
    "\n",
    "* Root → index 0\n",
    "* Left child → `2f(q) + 1`\n",
    "* Right child → `2f(q) + 2`\n",
    "\n",
    "Thus:\n",
    "\n",
    "* `parent(p)` = `(f(p) − 1) // 2`\n",
    "* `left(p)` = `2f(p) + 1`\n",
    "* `right(p)` = `2f(p) + 2`\n",
    "\n",
    "**Pros**\n",
    "\n",
    "* Simple arithmetic for navigation.\n",
    "* Efficient for **complete trees** (like heaps).\n",
    "\n",
    "**Cons**\n",
    "\n",
    "* Space depends on shape:\n",
    "\n",
    "  * Worst case: `N = 2n − 1` (very sparse).\n",
    "  * Best case (heaps): `N = n`.\n",
    "* Some updates (e.g., delete with child promotion) require O(n).\n",
    "\n",
    "---\n",
    "\n",
    "**8.3.3 Linked Structure for General Trees**\n",
    "\n",
    "**Structure**\n",
    "\n",
    "* Each node stores:\n",
    "\n",
    "  * element\n",
    "  * parent reference\n",
    "  * **list of children**\n",
    "\n",
    "This supports arbitrary # of children per node.\n",
    "\n",
    "**Performance (Table 8.2)**\n",
    "\n",
    "| Operation                              | Running Time                           |\n",
    "| -------------------------------------- | -------------------------------------- |\n",
    "| `__len__`, `is_empty`                  | O(1)                                   |\n",
    "| `root`, `parent`, `is_root`, `is_leaf` | O(1)                                   |\n",
    "| `children(p)`                          | O(cp + 1) where cp = # children of `p` |\n",
    "| `depth(p)`                             | O(dp + 1)                              |\n",
    "| `height`                               | O(n)                                   |\n",
    "\n",
    "* **Space usage**: O(n).\n",
    "\n"
   ]
  },
  {
   "cell_type": "markdown",
   "metadata": {},
   "source": [
    "\n",
    "**Comparison of Tree Implementations**\n",
    "\n",
    "| Feature / Aspect        | **Linked Binary Tree**                                             | **Array-Based Binary Tree**                                 | **Linked General Tree**                                        |\n",
    "| ----------------------- | ------------------------------------------------------------------ | ----------------------------------------------------------- | -------------------------------------------------------------- |\n",
    "| **Node Storage**        | Each node stores element + parent + left + right                   | Nodes stored in array, index defines relationships          | Each node stores element + parent + *list of children*         |\n",
    "| **Parent Access**       | O(1) via parent reference                                          | O(1) using `(i−1)//2`                                       | O(1) via parent reference                                      |\n",
    "| **Child Access**        | O(1) (`left`, `right`)                                             | O(1) (`2i+1`, `2i+2`)                                       | O(cp) to iterate through list (cp = #children)                 |\n",
    "| **Insertion**           | O(1) if parent known (`add_left`, `add_right`)                     | O(1) amortized (append) but shifting may occur in deletions | O(1) to add child to list                                      |\n",
    "| **Deletion**            | O(1) if ≤ 1 child; otherwise more complex                          | May require O(n) (to compact array)                         | O(1) if direct child removal, but managing list pointers       |\n",
    "| **Height Calculation**  | O(n)                                                               | O(n)                                                        | O(n)                                                           |\n",
    "| **Depth Calculation**   | O(dp)                                                              | O(dp)                                                       | O(dp)                                                          |\n",
    "| **Space Efficiency**    | O(n)                                                               | Worst-case O(2n−1) if sparse                                | O(n)                                                           |\n",
    "| **Best Use Case**       | General binary trees, flexible structure                           | Heaps / complete binary trees (e.g., priority queues)       | Arbitrary k-ary trees, decision trees, parse trees             |\n",
    "| **Update Methods**      | `add_root`, `add_left`, `add_right`, `attach`, `delete`, `replace` | Insertions follow heap/index rules, harder deletions        | `add_child`, `remove_child`, list management                   |\n",
    "| **Performance Summary** | Very efficient navigation, flexible updates                        | Very fast for complete trees but can waste space            | Supports arbitrary # of children, flexible but slower per node |\n",
    "\n",
    "---\n",
    "\n",
    "In short\n",
    "\n",
    "* **Linked Binary Tree** → most flexible + efficient for general binary tree operations.\n",
    "* **Array-Based** → best for **heaps** / when tree is *complete or nearly complete*.\n",
    "* **Linked General Tree** → needed for **non-binary structures** (like organizational charts, XML/HTML DOM, parse trees).\n",
    "\n"
   ]
  },
  {
   "cell_type": "markdown",
   "metadata": {},
   "source": [
    "#### 8.4 Tree Traversal Algorithms"
   ]
  },
  {
   "cell_type": "markdown",
   "metadata": {},
   "source": [
    "A **tree traversal** is a systematic way of visiting all positions of a tree.\n",
    "\n",
    "* \"Visit\" = any action at a node (e.g., compute, print, count).\n",
    "* Traversals are foundational for **searching, processing, and representing trees**.\n",
    "\n",
    "---\n",
    "\n",
    " **8.4.1 Preorder and Postorder Traversals (General Trees)**\n",
    "\n",
    " **Preorder Traversal**\n",
    "\n",
    "* Visit **root first**, then recursively traverse children (left → right if ordered).\n",
    "* **Pseudocode:**\n",
    "\n",
    "```text\n",
    "preorder(T, p):\n",
    "  visit(p)\n",
    "  for each child c of p:\n",
    "    preorder(T, c)\n",
    "```\n",
    "\n",
    "* **Example (Figure 8.15):** Produces a table-of-contents style ordering:\n",
    "  `Paper → Title → Abstract → §1 → §1.1 → §1.2 → §2 → §2.1 ...`\n",
    "\n",
    "---\n",
    "\n",
    " **Postorder Traversal**\n",
    "\n",
    "* Visit **children first**, then the root.\n",
    "* **Pseudocode:**\n",
    "\n",
    "```text\n",
    "postorder(T, p):\n",
    "  for each child c of p:\n",
    "    postorder(T, c)\n",
    "  visit(p)\n",
    "```\n",
    "\n",
    "* **Example (Figure 8.16):** For same document tree:\n",
    "  `§1.1 → §1.2 → §1 → §2.1 → §2.2 ... → Paper`\n",
    "\n",
    "---\n",
    "\n",
    " **Running Time**\n",
    "\n",
    "* At each position, cost = `O(c_p + 1)` where `c_p` = number of children.\n",
    "* Overall traversal = **O(n)** for n nodes (optimal, must touch all nodes).\n",
    "\n",
    "---\n",
    "\n",
    " **8.4.2 Breadth-First Traversal**\n",
    "\n",
    "* Visits nodes **level by level** (all at depth d before depth d+1).\n",
    "* Uses a **queue (FIFO)**.\n",
    "\n",
    "**Pseudocode (Code 8.14):**\n",
    "\n",
    "1. Enqueue root.\n",
    "2. While queue not empty:\n",
    "\n",
    "   * Dequeue `p`, visit it.\n",
    "   * Enqueue all children of `p`.\n",
    "\n",
    "* **Example (Figure 8.17):** Tic-Tac-Toe game tree explored breadth-first.\n",
    "* **Running time:** O(n) (n enqueues + n dequeues).\n",
    "\n",
    "---\n",
    "\n",
    " **8.4.3 Inorder Traversal (Binary Trees Only)**\n",
    "\n",
    "* Special to **binary trees**: visit **left subtree → root → right subtree**.\n",
    "* Informally: “left-to-right” traversal.\n",
    "\n",
    "**Pseudocode (Code 8.15):**\n",
    "\n",
    "```text\n",
    "inorder(p):\n",
    "  if left(p): inorder(left(p))\n",
    "  visit(p)\n",
    "  if right(p): inorder(right(p))\n",
    "```\n",
    "\n",
    "* **Example (Figure 8.18):** Arithmetic expression tree visited as `3 + 1 × 3 / (9 − 5 + 2)` (matches usual algebraic order).\n",
    "\n",
    "---\n",
    "\n",
    " **Binary Search Trees (BST)**\n",
    "\n",
    "* Properties:\n",
    "\n",
    "  * Left subtree < node < right subtree.\n",
    "* **Inorder traversal visits elements in sorted order.**\n",
    "* Searching = path from root → O(height).\n",
    "\n",
    "  * Best case: O(log n).\n",
    "  * Worst case: O(n) (degenerate chain).\n",
    "\n",
    "---\n",
    "\n",
    " **8.4.4 Implementing Traversals in Python**\n",
    "\n",
    " **General Tree Traversals**\n",
    "\n",
    "* Tree ADT supports:\n",
    "\n",
    "  * `positions()` → iteration of positions.\n",
    "  * `__iter__()` → iteration of elements.\n",
    "\n",
    "**Preorder Implementation (Code 8.17):**\n",
    "\n",
    "* Public: `preorder()` → generator.\n",
    "* Non-public: `subtree_preorder(p)` → recursive yield.\n",
    "\n",
    "**Postorder Implementation (Code 8.19):**\n",
    "\n",
    "* Same structure, but yields after children.\n",
    "\n",
    "**Breadth-First Implementation (Code 8.20):**\n",
    "\n",
    "* Uses `LinkedQueue` to store positions.\n",
    "\n",
    " **Binary Tree Specific**\n",
    "\n",
    "* **Inorder traversal** implemented inside `BinaryTree` class.\n",
    "* Positions reported in inorder by overriding `positions()`.\n",
    "\n",
    "---\n",
    "\n",
    " **8.4.5 Applications of Traversals**\n",
    "\n",
    " **Table of Contents (Preorder)**\n",
    "\n",
    "* **Simple list** (Paper → Title → Abstract → …).\n",
    "* **Indented version**: indentation = depth × 2 spaces.\n",
    "\n",
    " **Numbered & Labeled TOC**\n",
    "\n",
    "* Labels generated recursively (`2.2.1 Canada`).\n",
    "* Path of indices used for numbering.\n",
    "\n",
    " **Parenthetic Representation**\n",
    "\n",
    "* **String format:** `Root(Child1, Child2(...))`.\n",
    "* Example: `ElectronicsR’Us(R&D, Sales(Domestic, International(...)), Purchasing, Manufacturing(...))`.\n",
    "* Compact, computer-friendly.\n",
    "\n",
    " **Disk Space Computation**\n",
    "\n",
    "* **Postorder style recursion**:\n",
    "\n",
    "  * File node = space of file.\n",
    "  * Directory = sum of children.\n",
    "* Each call returns subtotal → parent.\n",
    "\n",
    "---\n",
    "\n",
    " **8.4.6 Euler Tours & Template Method Pattern**\n",
    "\n",
    " **Euler Tour Traversal**\n",
    "\n",
    "* Imagine **walking around the tree** (always keeping the tree’s edges on your left).\n",
    "* Each node visited twice:\n",
    "\n",
    "  * **Pre-visit:** when first reached.\n",
    "  * **Post-visit:** when leaving.\n",
    "\n",
    "**Pseudocode (Code 8.27):**\n",
    "\n",
    "```text\n",
    "eulertour(T, p):\n",
    "  pre-visit(p)\n",
    "  for each child c:\n",
    "    eulertour(T, c)\n",
    "  post-visit(p)\n",
    "```\n",
    "\n",
    "* Runs in O(n).\n",
    "\n",
    "---\n",
    "\n",
    " **Template Method Pattern**\n",
    "\n",
    "* General reusable framework with **hooks**:\n",
    "\n",
    "  * `hook_previsit(p, d, path)`\n",
    "  * `hook_postvisit(p, d, path, results)`\n",
    "* Default does nothing. Subclasses override hooks for custom behaviors.\n",
    "\n",
    "**Examples:**\n",
    "\n",
    "* **Indented preorder:** override previsit.\n",
    "* **Numbered TOC:** override previsit with path labeling.\n",
    "* **Parenthetic string:** override both pre and post hooks.\n",
    "* **Disk space:** override postvisit to sum values.\n",
    "\n",
    "---\n",
    "\n",
    "**Binary Euler Tour (Code 8.33)**\n",
    "\n",
    "* Specialization for **binary trees** with **3 hooks**:\n",
    "\n",
    "  * `previsit` (before left)\n",
    "  * `invisit` (between left and right)\n",
    "  * `postvisit` (after right)\n",
    "\n",
    "**Application (Code 8.34):**\n",
    "\n",
    "* Assigns **x,y coordinates** for graphical drawing.\n",
    "\n",
    "  * `x(p) = inorder index`.\n",
    "  * `y(p) = depth`.\n",
    "\n",
    "---\n",
    "\n",
    "**Summary Table of Traversals**\n",
    "\n",
    "| Traversal     | Order of Visit               | Works for      | Applications                          | Running Time |\n",
    "| ------------- | ---------------------------- | -------------- | ------------------------------------- | ------------ |\n",
    "| Preorder      | Root → Children (L→R)        | General Trees  | TOC, prefix expressions               | O(n)         |\n",
    "| Postorder     | Children → Root              | General Trees  | Disk space, directory size            | O(n)         |\n",
    "| Breadth-First | Level by level (depth order) | General Trees  | Game trees, shortest-path search      | O(n)         |\n",
    "| Inorder       | Left → Root → Right          | Binary Trees   | Expression evaluation, BST sorting    | O(n)         |\n",
    "| Euler Tour    | Pre, In, Post (flexible)     | General/Binary | Custom traversals, graphics, labeling | O(n)         |\n",
    "\n"
   ]
  },
  {
   "cell_type": "markdown",
   "metadata": {},
   "source": [
    "#### 8.5 CaseStudy:An Expression Tree"
   ]
  },
  {
   "cell_type": "markdown",
   "metadata": {},
   "source": [
    "An **ExpressionTree** represents an **arithmetic expression** using a **binary tree**.\n",
    "\n",
    "* **Leaves** = numeric values (operands).\n",
    "* **Internal nodes** = operators (`+`, `-`, `x`, `/`).\n",
    "* Enables:\n",
    "\n",
    "  1. Storing expressions as a structured tree.\n",
    "  2. Producing parenthesized string representations.\n",
    "  3. Evaluating expressions recursively.\n",
    "  4. Constructing trees automatically from tokenized expressions.\n",
    "\n",
    "---\n",
    "\n",
    "**8.5.1 ExpressionTree Class Design**\n",
    "\n",
    "* Inherits from **LinkedBinaryTree** (to reuse tree structure + mutators).\n",
    "* Two constructor forms:\n",
    "\n",
    "  * **`ExpressionTree(value)`** → creates a tree with a single leaf node storing `value`.\n",
    "  * **`ExpressionTree(op, E1, E2)`** → creates a tree with root storing `op` and attaches `E1`, `E2` as left/right subtrees.\n",
    "\n",
    "**Code Fragment 8.35 (Constructor):**\n",
    "\n",
    "* Ensures **root stores a string**.\n",
    "* Validates operator tokens.\n",
    "* Uses inherited `add_root` and `attach` methods.\n",
    "\n",
    "**Key Point:** This makes it easy to combine smaller expression trees into larger ones.\n",
    "\n",
    "---\n",
    "\n",
    "**8.5.2 String Representation**\n",
    "\n",
    "Goal: return an **inorder parenthesized string** like\n",
    "\n",
    "```\n",
    "(((3+1)x4)/((9-5)+2))\n",
    "```\n",
    "\n",
    "* Achieved with `__str__()` method.\n",
    "* Uses helper `_parenthesize_recur(p, result)`:\n",
    "\n",
    "  * If `p` is a **leaf** → append its value.\n",
    "  * Else → append `\"(\"`, recursively parenthesize left subtree, append operator, recurse right subtree, append `\")\"`.\n",
    "\n",
    "**Efficiency:** builds a list of string fragments and joins at the end (instead of repeated concatenations).\n",
    "\n",
    "---\n",
    "\n",
    "**8.5.3 Expression Evaluation**\n",
    "\n",
    "* Done via **postorder traversal**:\n",
    "\n",
    "  * Evaluate left and right subtrees first.\n",
    "  * Apply the operator at the root.\n",
    "\n",
    "**Pseudo-code (Code Fragment 8.36):**\n",
    "\n",
    "```text\n",
    "if p is a leaf:\n",
    "    return value at p\n",
    "else:\n",
    "    x = evaluate(left(p))\n",
    "    y = evaluate(right(p))\n",
    "    return x ◦ y\n",
    "```\n",
    "\n",
    "**Python implementation (Code Fragment 8.37):**\n",
    "\n",
    "* `evaluate()` → public method.\n",
    "* `_evaluate_recur(p)` → recursive helper.\n",
    "* Supports `+`, `-`, `/`, and treats `x` or `*` as multiplication.\n",
    "* Converts leaf values to `float`.\n",
    "\n",
    "---\n",
    "\n",
    " **8.5.4 Building an Expression Tree (from a String)**\n",
    "\n",
    "Challenge: How to parse an expression like\n",
    "\n",
    "```\n",
    "(((3+1)x4)/((9-5)+2))\n",
    "```\n",
    "\n",
    "into a tree automatically?\n",
    "\n",
    "**Solution:** Bottom-up algorithm with a **stack (S)**.\n",
    "\n",
    "* Assumes:\n",
    "\n",
    "  * Expression is fully parenthesized.\n",
    "  * Input is tokenized (numbers and operators are separate tokens).\n",
    "\n",
    "**Algorithm (Code Fragment 8.38):**\n",
    "\n",
    "1. For each token `t` in expression:\n",
    "\n",
    "   * If `t` is an **operator** → push onto stack.\n",
    "   * If `t` is a **literal** → push an `ExpressionTree(t)` onto stack.\n",
    "   * If `t` is a **right parenthesis `)`** →\n",
    "\n",
    "     * Pop right subtree, operator, left subtree.\n",
    "     * Create new `ExpressionTree(op, left, right)`.\n",
    "     * Push back on stack.\n",
    "   * Ignore left parentheses.\n",
    "2. After processing → stack has single tree = expression tree.\n",
    "\n",
    "**Running time:** `O(n)` (each token processed once).\n",
    "\n",
    "---\n",
    "\n",
    "**8.5.5 Example Walkthrough**\n",
    "\n",
    "Expression:\n",
    "\n",
    "```\n",
    "(((3+1)x4)/((9-5)+2))\n",
    "```\n",
    "\n",
    "* Tokens: `(`, `(`, `(`, `3`, `+`, `1`, `)`, `x`, `4`, `)`, `/`, `(`, `(`, `9`, `-`, `5`, `)`, `+`, `2`, `)`, `)`.\n",
    "* Process:\n",
    "\n",
    "  * Push `3`, `+`, `1` → build `(3+1)` subtree.\n",
    "  * Push `x`, `4` → build `(3+1)x4` subtree.\n",
    "  * Similarly build `((9-5)+2)` subtree.\n",
    "  * Combine final operator `/`.\n",
    "* Resulting root: `/`\n",
    "\n",
    "  * Left subtree: `(3+1)x4`\n",
    "  * Right subtree: `(9-5)+2`\n",
    "\n",
    "---\n",
    "\n",
    " **Summary Table — ExpressionTree Operations**\n",
    "\n",
    "| Operation             | Traversal Used     | Description                                    | Complexity |\n",
    "| --------------------- | ------------------ | ---------------------------------------------- | ---------- |\n",
    "| **Constructor**       | N/A                | Builds leaf or operator-rooted tree            | O(1)       |\n",
    "| **String Conversion** | Inorder + Pre/Post | Produces parenthesized expression string       | O(n)       |\n",
    "| **Evaluation**        | Postorder          | Recursively computes numeric result            | O(n)       |\n",
    "| **Build from Tokens** | Stack-based        | Converts fully parenthesized expression → tree | O(n)       |\n",
    "\n"
   ]
  },
  {
   "cell_type": "code",
   "execution_count": 294,
   "metadata": {},
   "outputs": [
    {
     "data": {
      "image/png": "[encoded data removed]",
      "text/plain": [
       "<Figure size 800x600 with 1 Axes>"
      ]
     },
     "metadata": {},
     "output_type": "display_data"
    }
   ],
   "source": [
    "import matplotlib.pyplot as plt\n",
    "import networkx as nx\n",
    "\n",
    "# Define the expression tree structure\n",
    "edges = [\n",
    "    (\"/\", \"x\"), (\"/\", \"+2\"),\n",
    "    (\"x\", \"+1\"), (\"x\", \"4\"),\n",
    "    (\"+1\", \"3\"), (\"+1\", \"1\"),\n",
    "    (\"+2\", \"-\"), (\"+2\", \"2\"),\n",
    "    (\"-\", \"9\"), (\"-\", \"5\")\n",
    "]\n",
    "\n",
    "# Create graph\n",
    "G = nx.DiGraph()\n",
    "G.add_edges_from(edges)\n",
    "\n",
    "# --- Hierarchy layout function ---\n",
    "def hierarchy_pos(G, root, width=1.0, vert_gap=0.2, vert_loc=0, xcenter=0.5):\n",
    "    def _hierarchy_pos(G, root, width=1., vert_gap=0.2, vert_loc=0, xcenter=0.5,\n",
    "                       pos=None, parent=None):\n",
    "        if pos is None:\n",
    "            pos = {root: (xcenter, vert_loc)}\n",
    "        else:\n",
    "            pos[root] = (xcenter, vert_loc)\n",
    "        children = list(G.successors(root))\n",
    "        if parent is not None and parent in children:\n",
    "            children.remove(parent)\n",
    "        if len(children) != 0:\n",
    "            dx = width / len(children)\n",
    "            nextx = xcenter - width / 2 - dx / 2\n",
    "            for child in children:\n",
    "                nextx += dx\n",
    "                pos = _hierarchy_pos(G, child, width=dx, vert_gap=vert_gap,\n",
    "                                     vert_loc=vert_loc - vert_gap, xcenter=nextx,\n",
    "                                     pos=pos, parent=root)\n",
    "        return pos\n",
    "    return _hierarchy_pos(G, root, width, vert_gap, vert_loc, xcenter)\n",
    "\n",
    "# Use hierarchy layout (root is \"/\")\n",
    "pos = hierarchy_pos(G, \"/\")\n",
    "\n",
    "# Draw tree\n",
    "plt.figure(figsize=(8,6))\n",
    "nx.draw(G, pos, with_labels=True, arrows=False,\n",
    "        node_size=2000, node_color=\"lightblue\", font_size=10, font_weight=\"bold\")\n",
    "\n",
    "plt.title(\"Expression Tree for (((3+1)x4)/((9-5)+2))\", fontsize=12)\n",
    "plt.show()\n"
   ]
  },
  {
   "cell_type": "markdown",
   "metadata": {
    "jp-MarkdownHeadingCollapsed": true
   },
   "source": [
    "# Chapter 9 Priority Queues"
   ]
  },
  {
   "cell_type": "markdown",
   "metadata": {},
   "source": [
    "#### 9.1 The Priority Queue Abstract Data Type"
   ]
  },
  {
   "cell_type": "markdown",
   "metadata": {},
   "source": [
    "A **priority queue** is like a regular queue but instead of processing strictly in *first-in, first-out (FIFO)* order, it processes elements based on their **priority** (determined by a key).\n",
    "\n",
    "---\n",
    "\n",
    " **9.1.1 Priorities**\n",
    "\n",
    "* **Regular queue (FIFO):**\n",
    "\n",
    "  * Example: Customer call center → calls answered in the order received.\n",
    "  * New arrivals go to the back, removals come from the front.\n",
    "\n",
    "* **When FIFO isn’t enough:**\n",
    "\n",
    "  * **Air-traffic control**: deciding which plane lands depends on urgency (fuel, distance, wait time).\n",
    "  * **Airline standby lists**: order is influenced by *check-in time*, *fare paid*, *frequent-flyer status*, etc. Someone who arrived later might get a seat first.\n",
    "\n",
    "* **Generalization:**\n",
    "\n",
    "  * A **priority queue** allows insertion of items with a **priority key**.\n",
    "  * The item with the *smallest key* has the **highest priority** and is removed first.\n",
    "  * Keys don’t have to be numbers — they can be any object type, as long as they support `<` comparisons.\n",
    "\n",
    "---\n",
    "\n",
    " **9.1.2 The Priority Queue ADT**\n",
    "\n",
    "* Each entry is a **key-value pair (k, v)**:\n",
    "\n",
    "  * **Key (k):** defines the priority.\n",
    "  * **Value (v):** the associated element.\n",
    "\n",
    "* **ADT Methods:**\n",
    "\n",
    "  | Method           | Description                                                     |\n",
    "  | ---------------- | --------------------------------------------------------------- |\n",
    "  | `P.add(k, v)`    | Insert item with key `k` and value `v`                          |\n",
    "  | `P.min()`        | Return (k, v) of item with minimum key (does **not** remove it) |\n",
    "  | `P.remove_min()` | Remove and return (k, v) with minimum key                       |\n",
    "  | `P.is_empty()`   | Return `True` if queue has no items                             |\n",
    "  | `len(P)`         | Return number of items in queue                                 |\n",
    "\n",
    "* **Notes:**\n",
    "\n",
    "  * Multiple entries with the same key are allowed.\n",
    "  * `min()` and `remove_min()` may return **any one** of the tied items.\n",
    "  * Keys are **fixed** once inserted (dynamic updates come later in §9.5).\n",
    "  * Values can be **any object type**.\n",
    "\n",
    "---\n",
    "\n",
    " **Example 9.1 – Operations on a Priority Queue**\n",
    "\n",
    "Start: **empty queue P**\n",
    "\n",
    "| Operation        | Return Value | Priority Queue Contents          |\n",
    "| ---------------- | ------------ | -------------------------------- |\n",
    "| `P.add(5, A)`    | —            | {(5, A)}                         |\n",
    "| `P.add(9, C)`    | —            | {(5, A), (9, C)}                 |\n",
    "| `P.add(3, B)`    | —            | {(3, B), (5, A), (9, C)}         |\n",
    "| `P.add(7, D)`    | —            | {(3, B), (5, A), (7, D), (9, C)} |\n",
    "| `P.min()`        | (3, B)       | {(3, B), (5, A), (7, D), (9, C)} |\n",
    "| `P.remove_min()` | (3, B)       | {(5, A), (7, D), (9, C)}         |\n",
    "| `P.remove_min()` | (5, A)       | {(7, D), (9, C)}                 |\n",
    "| `len(P)`         | 2            | {(7, D), (9, C)}                 |\n",
    "| `P.remove_min()` | (7, D)       | {(9, C)}                         |\n",
    "| `P.remove_min()` | (9, C)       | {}                               |\n",
    "| `P.is_empty()`   | True         | {}                               |\n",
    "| `P.remove_min()` | error        | {}                               |\n",
    "\n",
    "---\n",
    "\n",
    "**Key Takeaways**\n",
    "\n",
    "* A **priority queue** is a generalization of a queue where order is determined by a **priority key**.\n",
    "* **Lowest key value = highest priority**.\n",
    "* Supports insertion, finding the minimum, removing the minimum, checking emptiness, and length.\n",
    "* Widely applicable in **scheduling, resource allocation, simulations, and graph algorithms** (like Dijkstra’s shortest path).\n"
   ]
  },
  {
   "cell_type": "markdown",
   "metadata": {},
   "source": [
    "#### 9.2 Implementing a Priority Queue"
   ]
  },
  {
   "cell_type": "markdown",
   "metadata": {},
   "source": [
    "A **priority queue** can be implemented using a **positional list** (from Section 7.4).\n",
    "Two realizations are possible:\n",
    "\n",
    "1. Using an **unsorted list**\n",
    "2. Using a **sorted list**\n",
    "\n",
    "Both rely on a **composition design pattern** to keep `(key, value)` pairs together.\n",
    "\n",
    "---\n",
    "\n",
    "**9.2.1 The Composition Design Pattern**\n",
    "\n",
    "* Challenge: A priority queue must keep **both an element and its key** together.\n",
    "* Solution: Use **composition** → define an internal `Item` class inside the priority queue base class.\n",
    "\n",
    "**PriorityQueueBase (Code Fragment 9.1):**\n",
    "\n",
    "* Nested class `Item(k, v)` holds:\n",
    "\n",
    "  * `_key`\n",
    "  * `_value`\n",
    "* Comparison (`__lt__`) is based only on keys (`item1.key < item2.key`).\n",
    "* Provides a **concrete `is_empty`** method, assuming `__len__` is implemented by subclasses.\n",
    "\n",
    "👉 This gives all future priority queue implementations a **common foundation**.\n",
    "\n",
    "---\n",
    "\n",
    "**9.2.2 Implementation with an Unsorted List**\n",
    "\n",
    "**Class: `UnsortedPriorityQueue` (Code Fragment 9.2)**\n",
    "\n",
    "* Stores items in a **doubly linked positional list**.\n",
    "\n",
    "* **Operations:**\n",
    "\n",
    "  * `add(k, v)` → O(1). New items just go at the end.\n",
    "  * `min()` → O(n). Must scan entire list to find smallest key.\n",
    "  * `remove_min()` → O(n). Must scan, then delete that node.\n",
    "  * `len()` → O(1).\n",
    "  * `is_empty()` → O(1).\n",
    "\n",
    "* Uses a nonpublic `_find_min()` method to scan and return position of smallest key.\n",
    "\n",
    " **Performance Summary (Table 9.1):**\n",
    "\n",
    "| Operation    | Running Time |\n",
    "| ------------ | ------------ |\n",
    "| `len`        | O(1)         |\n",
    "| `is_empty`   | O(1)         |\n",
    "| `add`        | O(1)         |\n",
    "| `min`        | O(n)         |\n",
    "| `remove_min` | O(n)         |\n",
    "| **Space**    | O(n)         |\n",
    "\n",
    " **Tradeoff:** Very fast insertion, but very slow retrieval/removal of min.\n",
    "\n",
    "---\n",
    "\n",
    "**9.2.3 Implementation with a Sorted List**\n",
    "\n",
    "**Class: `SortedPriorityQueue` (Code Fragment 9.3)**\n",
    "\n",
    "* Items kept in **nondecreasing order of keys**.\n",
    "* **Operations:**\n",
    "\n",
    "  * `add(k, v)` → O(n). Must scan backwards through list to insert in correct spot.\n",
    "  * `min()` → O(1). Minimum is always at the **front** of list.\n",
    "  * `remove_min()` → O(1). Delete the first element.\n",
    "  * `len()` → O(1).\n",
    "  * `is_empty()` → O(1).\n",
    "\n",
    "**Performance Summary (Table 9.2):**\n",
    "\n",
    "| Operation    | Unsorted List | Sorted List |\n",
    "| ------------ | ------------- | ----------- |\n",
    "| `len`        | O(1)          | O(1)        |\n",
    "| `is_empty`   | O(1)          | O(1)        |\n",
    "| `add`        | O(1)          | O(n)        |\n",
    "| `min`        | O(n)          | O(1)        |\n",
    "| `remove_min` | O(n)          | O(1)        |\n",
    "| **Space**    | O(n)          | O(n)        |\n",
    "\n",
    "**Tradeoff:** Very fast retrieval/removal of min, but slow insertion.\n",
    "\n",
    "---\n",
    "\n",
    " Key Insights\n",
    "\n",
    "* Both implementations rely on the **composition pattern** for `(key, value)` pairing.\n",
    "* **Unsorted list:** Best if many insertions but few `min/remove_min` operations.\n",
    "* **Sorted list:** Best if few insertions but many `min/remove_min` operations.\n",
    "* Neither is optimal for all workloads → motivates more efficient structures like **heaps** (next section)."
   ]
  },
  {
   "cell_type": "markdown",
   "metadata": {},
   "source": [
    "#### 9.3 Heaps"
   ]
  },
  {
   "cell_type": "markdown",
   "metadata": {},
   "source": [
    "Heaps provide an efficient way to implement a **priority queue** where both insertion (`add`) and removal of the minimum element (`remove_min`) run in **O(log n)** time. This improves on list-based approaches, which had a trade-off between insertion and deletion speeds.\n",
    "\n",
    "---\n",
    "\n",
    " **9.3.1 The Heap Data Structure**\n",
    "\n",
    "* A **heap** is a binary tree that satisfies two properties:\n",
    "\n",
    "1. **Heap-Order Property**:\n",
    "\n",
    "   * The key at each node ≥ the key at its parent.\n",
    "   * This ensures the **minimum element is always at the root**.\n",
    "\n",
    "2. **Complete Binary Tree Property**:\n",
    "\n",
    "   * The tree is completely filled on all levels except possibly the last, which is filled left to right.\n",
    "   * Guarantees minimal height.\n",
    "\n",
    "* **Height of a heap** (Proposition 9.2):\n",
    "  A heap with `n` entries has height `h = ⌊log n⌋`.\n",
    "\n",
    " This ensures all key operations can be performed in O(log n).\n",
    "\n",
    "---\n",
    "\n",
    " **9.3.2 Priority Queue Operations with a Heap**\n",
    "\n",
    "* **`min()`**: Trivial O(1), since root is the smallest.\n",
    "\n",
    "* **`add(k,v)`**:\n",
    "\n",
    "  * Insert new entry at the next available leaf (to maintain completeness).\n",
    "  * Perform **up-heap bubbling**: swap upwards until heap-order is restored.\n",
    "  * Worst case: bubble up to root → O(log n).\n",
    "\n",
    "* **`remove_min()`**:\n",
    "\n",
    "  * Root is removed.\n",
    "  * Replace it with the **last leaf**.\n",
    "  * Perform **down-heap bubbling**: swap down with smaller child until heap-order is restored.\n",
    "  * Worst case: bubble down to leaf → O(log n).\n",
    "\n",
    "👉 These two bubbling processes are the heart of heap efficiency.\n",
    "\n",
    "---\n",
    "\n",
    " **9.3.3 Array-Based Representation**\n",
    "\n",
    "* Heaps are usually implemented with **arrays**:\n",
    "\n",
    "  * Root at index `0`.\n",
    "  * For a node at index `j`:\n",
    "\n",
    "    * Left child = `2j + 1`\n",
    "    * Right child = `2j + 2`\n",
    "    * Parent = `(j - 1) // 2`\n",
    "\n",
    "* Advantages:\n",
    "\n",
    "  * No need for explicit node pointers.\n",
    "  * Easy to locate last element (`A[n-1]`).\n",
    "  * Efficient dynamic resizing (like Python lists).\n",
    "\n",
    "* **Space usage**: O(n).\n",
    "\n",
    "* **Access times**: O(1) for parent/child relationships.\n",
    "\n",
    "---\n",
    "\n",
    " **9.3.4 Python Heap Implementation**\n",
    "\n",
    " `HeapPriorityQueue` (Code Fragments 9.4 & 9.5):\n",
    "\n",
    "* Inherits from `PriorityQueueBase` (with `Item` composites).\n",
    "* Maintains an **array list** `self._data`.\n",
    "* **Nonpublic utilities**:\n",
    "\n",
    "  * `parent`, `left`, `right`, `has_left`, `has_right`, `swap`\n",
    "  * `upheap(j)` (used for `add`)\n",
    "  * `downheap(j)` (used for `remove_min`)\n",
    "* **Public methods**:\n",
    "\n",
    "  * `__len__()`, `is_empty()`\n",
    "  * `add(k, v)` → O(log n)\n",
    "  * `min()` → O(1)\n",
    "  * `remove_min()` → O(log n)\n",
    "\n",
    "---\n",
    "\n",
    " **9.3.5 Analysis**\n",
    "\n",
    " **Performance of heap-based priority queue (Table 9.3):**\n",
    "\n",
    "| Operation               | Running Time                        |\n",
    "| ----------------------- | ----------------------------------- |\n",
    "| `len(P)` / `is_empty()` | O(1)                                |\n",
    "| `min()`                 | O(1)                                |\n",
    "| `add()`                 | O(log n) (amortized if array-based) |\n",
    "| `remove_min()`          | O(log n) (amortized if array-based) |\n",
    "\n",
    "Unlike list-based implementations, **heaps achieve efficiency in both insertion and deletion**.\n",
    "\n",
    "---\n",
    "\n",
    " **9.3.6 Bottom-Up Heap Construction**\n",
    "\n",
    "* Building a heap from scratch can be done more efficiently than inserting one by one.\n",
    "* Instead of `O(n log n)`, it can be built in **O(n)**.\n",
    "\n",
    "**Algorithm:**\n",
    "\n",
    "* Place all n elements in an array.\n",
    "* Perform **down-heap bubbling** starting from the deepest non-leaf up to the root.\n",
    "\n",
    "**Proposition 9.3:** Bottom-up heap construction takes **O(n)** time because the work is distributed: many nodes near the leaves require little or no bubbling.\n",
    "\n",
    "---\n",
    "\n",
    " **9.3.7 Python’s `heapq` Module**\n",
    "\n",
    "Python includes a built-in heap implementation:\n",
    "\n",
    "* Operates on lists (min-heap).\n",
    "* Keys are the elements themselves (no separate `(k,v)` by default).\n",
    "\n",
    "**Functions:**\n",
    "\n",
    "* `heappush(L, e)` → Insert `e` (O(log n))\n",
    "* `heappop(L)` → Remove & return min (O(log n))\n",
    "* `heappushpop(L, e)` → Push new element then pop min (O(log n), faster than separate calls).\n",
    "* `heapreplace(L, e)` → Pop then push (O(log n)).\n",
    "* `heapify(L)` → Convert list into a heap (O(n)).\n",
    "* `nlargest(k, iterable)` → k largest elements (O(n + k log n)).\n",
    "* `nsmallest(k, iterable)` → k smallest elements (O(n + k log n)).\n",
    "\n",
    "---\n",
    "\n",
    " Key Insights\n",
    "\n",
    "* **Heaps** combine the best of both worlds:\n",
    "\n",
    "  * Faster than an unsorted list for removals.\n",
    "  * Faster than a sorted list for insertions.\n",
    "* Foundation for efficient algorithms like **heapsort** and **priority scheduling**.\n",
    "* Python’s `heapq` is a **practical library** implementation using these ideas.\n",
    "\n",
    "---"
   ]
  },
  {
   "cell_type": "markdown",
   "metadata": {},
   "source": [
    "#### 9.4 Sorting with a Priority Queue"
   ]
  },
  {
   "cell_type": "markdown",
   "metadata": {},
   "source": [
    "\n",
    "Sorting can be achieved using a **priority queue**, where we repeatedly remove the minimum element until the collection is sorted.\n",
    "\n",
    "---\n",
    "\n",
    " **9.4.1 Priority Queue Sorting (PQ-Sort Algorithm)**\n",
    "\n",
    "**Idea:**\n",
    "\n",
    "1. Insert all elements into a priority queue (`add`).\n",
    "2. Repeatedly call `remove_min` to retrieve them in nondecreasing order.\n",
    "\n",
    "**Python implementation (Code Fragment 9.7):**\n",
    "\n",
    "```python\n",
    "def pq_sort(C):\n",
    "    \"\"\"Sort a collection C using a priority queue.\"\"\"\n",
    "    n = len(C)\n",
    "    P = PriorityQueue()\n",
    "    for j in range(n):                  # Phase 1: insert all elements\n",
    "        element = C.delete(C.first())\n",
    "        P.add(element, element)\n",
    "    for j in range(n):                  # Phase 2: extract in sorted order\n",
    "        (k, v) = P.remove_min()\n",
    "        C.add_last(v)\n",
    "```\n",
    "\n",
    "* Uses element as both **key** and **value**.\n",
    "* Can support custom key functions (e.g., sorting numeric strings as integers).\n",
    "\n",
    "---\n",
    "\n",
    " **9.4.1 Selection-Sort via PQ**\n",
    "\n",
    "* If `P` is implemented with an **unsorted list**:\n",
    "\n",
    "  * Phase 1 (inserts) → O(n) (since each `add` is O(1))\n",
    "  * Phase 2 (removals) → O(n²), since each `remove_min` requires scanning list.\n",
    "\n",
    "👉 Equivalent to **Selection Sort**.\n",
    "\n",
    "* Always **O(n²)** worst case.\n",
    "\n",
    "---\n",
    "\n",
    " **9.4.1 Insertion-Sort via PQ**\n",
    "\n",
    "* If `P` is implemented with a **sorted list**:\n",
    "\n",
    "  * Phase 1 (inserts) → O(n²), since each `add` may require shifting elements.\n",
    "  * Phase 2 (removals) → O(n), since `remove_min` is O(1).\n",
    "\n",
    "👉 Equivalent to **Insertion Sort**.\n",
    "\n",
    "* Worst case: **O(n²)**\n",
    "* Best case: **O(n)** (already sorted).\n",
    "\n",
    "---\n",
    "\n",
    " **9.4.2 Heap-Sort via PQ**\n",
    "\n",
    "* If `P` is implemented with a **heap**:\n",
    "\n",
    "  * Phase 1: n inserts → O(n log n) (or O(n) using bottom-up heapify).\n",
    "  * Phase 2: n removals → O(n log n).\n",
    "\n",
    "👉 Equivalent to **Heap-Sort**.\n",
    "\n",
    "* **O(n log n)** worst-case time.\n",
    "* More efficient than Selection/Insertion sort.\n",
    "\n",
    "---\n",
    "\n",
    " **Heap-Sort In-Place**\n",
    "\n",
    "* Store the heap directly inside the **array to be sorted**, avoiding extra space.\n",
    "* Uses a **max-oriented heap** to repeatedly place the largest element at the end.\n",
    "* Two phases:\n",
    "\n",
    "  1. Build heap in array.\n",
    "  2. Repeatedly remove max, placing it at end.\n",
    "\n",
    "👉 Heap-Sort is **in-place** (space O(1)).\n",
    "\n",
    "---\n",
    "\n",
    " **Comparison of Sorting Methods via Priority Queues**\n",
    "\n",
    "| Algorithm          | PQ Implementation | Phase 1 Cost | Phase 2 Cost | Total Time | Space           |\n",
    "| ------------------ | ----------------- | ------------ | ------------ | ---------- | --------------- |\n",
    "| **Selection Sort** | Unsorted List     | O(n)         | O(n²)        | O(n²)      | O(n)            |\n",
    "| **Insertion Sort** | Sorted List       | O(n²)        | O(n)         | O(n²)      | O(n)            |\n",
    "| **Heap-Sort**      | Heap              | O(n log n)   | O(n log n)   | O(n log n) | O(1) (in-place) |\n",
    "\n",
    "---\n",
    "\n",
    " **Key Insight:**\n",
    "\n",
    "* **PQ-Sort** gives a *unifying framework* for classic sorts.\n",
    "* Choice of underlying PQ structure determines algorithm:\n",
    "\n",
    "  * **Unsorted List → Selection Sort**\n",
    "  * **Sorted List → Insertion Sort**\n",
    "  * **Heap → Heap-Sort**\n",
    "\n",
    "---\n",
    "\n",
    "Would you like me to also **write the Python versions of each (Selection, Insertion, Heap-Sort)** side by side so you can run them in Jupyter and compare execution times?\n"
   ]
  },
  {
   "cell_type": "markdown",
   "metadata": {},
   "source": [
    "#### 9.5 Adaptable Priority Queues"
   ]
  },
  {
   "cell_type": "markdown",
   "metadata": {},
   "source": [
    " **Motivation**\n",
    "\n",
    "Standard priority queues only support:\n",
    "\n",
    "* `add(k,v)`\n",
    "* `min()`\n",
    "* `remove_min()`\n",
    "\n",
    "But real-world scenarios (e.g., airline standby passengers) may require:\n",
    "\n",
    "* **Removing arbitrary elements** (not just the min).\n",
    "* **Updating priorities** (e.g., frequent flyer gets upgraded).\n",
    "\n",
    "Thus, we extend to an **Adaptable Priority Queue**.\n",
    "\n",
    "---\n",
    "\n",
    "**9.5.1 Locators**\n",
    "\n",
    "* When adding an element, the PQ returns a **locator** (like a “ticket” or “token”).\n",
    "* This locator points to the element’s current position in the heap.\n",
    "* Needed because elements can **move around** during bubbling.\n",
    "* Locators remain valid until the item is removed.\n",
    "\n",
    "**New operations:**\n",
    "\n",
    "* `P.update(loc, k, v)` → Update key/value of item at locator `loc`.\n",
    "* `P.remove(loc)` → Remove item identified by locator `loc`.\n",
    "\n",
    "👉 Similar to `Position` in trees/lists, but adapted to heaps.\n",
    "\n",
    "---\n",
    "\n",
    "**9.5.2 Implementation**\n",
    "\n",
    "* Extend **HeapPriorityQueue** → create **AdaptableHeapPriorityQueue**.\n",
    "* Replace `Item` with **Locator**, which stores:\n",
    "\n",
    "  * `key`, `value`, **index in the heap array**.\n",
    "* On swaps, we update each locator’s index.\n",
    "\n",
    "**Key Design Choices:**\n",
    "\n",
    "* Override `swap(i,j)` to also update locator indices.\n",
    "* Add `bubble(j)` utility to decide whether to `upheap` or `downheap` when restoring heap-order after an update/remove.\n",
    "\n",
    "---\n",
    "\n",
    " **Python Implementation (Simplified View)**\n",
    "\n",
    "```python\n",
    "class AdaptableHeapPriorityQueue(HeapPriorityQueue):\n",
    "    class Locator(HeapPriorityQueue.Item):\n",
    "        __slots__ = \"_index\"\n",
    "        def __init__(self, k, v, j):\n",
    "            super().__init__(k, v)\n",
    "            self.index = j\n",
    "\n",
    "    # Override swap to update indices\n",
    "    def swap(self, i, j):\n",
    "        super().swap(i, j)\n",
    "        self.data[i].index = i\n",
    "        self.data[j].index = j\n",
    "\n",
    "    def bubble(self, j):\n",
    "        if j > 0 and self.data[j] < self.data[self.parent(j)]:\n",
    "            self.upheap(j)\n",
    "        else:\n",
    "            self.downheap(j)\n",
    "\n",
    "    def add(self, key, value):\n",
    "        token = self.Locator(key, value, len(self.data))\n",
    "        self.data.append(token)\n",
    "        self.upheap(len(self.data) - 1)\n",
    "        return token\n",
    "\n",
    "    def update(self, loc, newkey, newval):\n",
    "        j = loc.index\n",
    "        if not (0 <= j < len(self) and self.data[j] is loc):\n",
    "            raise ValueError(\"Invalid locator\")\n",
    "        loc.key, loc.value = newkey, newval\n",
    "        self.bubble(j)\n",
    "\n",
    "    def remove(self, loc):\n",
    "        j = loc.index\n",
    "        if not (0 <= j < len(self) and self.data[j] is loc):\n",
    "            raise ValueError(\"Invalid locator\")\n",
    "        if j == len(self) - 1:\n",
    "            self.data.pop()\n",
    "        else:\n",
    "            self.swap(j, len(self) - 1)\n",
    "            self.data.pop()\n",
    "            self.bubble(j)\n",
    "        return (loc.key, loc.value)\n",
    "```\n",
    "\n",
    "---\n",
    "\n",
    "**How It Works (Example)**\n",
    "\n",
    "1. Insert passengers A, B, C. Each gets a **locator**.\n",
    "2. Passenger C leaves → `remove(locatorC)`. Heap swaps C with last element, pops, then bubbles.\n",
    "3. Passenger B’s status changes → `update(locatorB, new_priority, B)`. Key changes, bubble up/down ensures heap order.\n",
    "\n",
    "👉 The user always refers to their “locator,” not the internal heap position.\n",
    "\n",
    "---\n",
    "\n",
    "**Performance (Table 9.4)**\n",
    "\n",
    "| Operation                       | Running Time             |\n",
    "| ------------------------------- | ------------------------ |\n",
    "| `len(P)`, `is_empty()`, `min()` | **O(1)**                 |\n",
    "| `add(k,v)`                      | **O(log n)** (amortized) |\n",
    "| `remove_min()`                  | **O(log n)** (amortized) |\n",
    "| `update(loc, k, v)`             | **O(log n)**             |\n",
    "| `remove(loc)`                   | **O(log n)** (amortized) |\n",
    "\n",
    "**Space:** O(n) (like regular heap PQ).\n",
    "\n",
    "---\n",
    "\n",
    " **Key Insight:**\n",
    "The **Adaptable Priority Queue** is as efficient as a regular heap-based PQ but adds flexibility for **removals** and **updates**, critical for graph algorithms (like Dijkstra’s and Prim’s MST).\n",
    "\n",
    "---\n"
   ]
  },
  {
   "cell_type": "markdown",
   "metadata": {
    "jp-MarkdownHeadingCollapsed": true
   },
   "source": [
    "# Chapter 10 Maps, HashTables, and SkipLists"
   ]
  },
  {
   "cell_type": "markdown",
   "metadata": {},
   "source": [
    "####  10.1 Maps and Dictionaries"
   ]
  },
  {
   "cell_type": "markdown",
   "metadata": {},
   "source": [
    " **10.1.0 Introduction**\n",
    "\n",
    "* **Map / Dictionary** = stores **(key, value)** pairs.\n",
    "* Keys must be **unique**, values may be duplicated.\n",
    "* Known also as **associative arrays**.\n",
    "* Example: country → currency.\n",
    "\n",
    "  * `{\"Turkey\": \"Lira\", \"Spain\": \"Euro\", \"Greece\": \"Euro\", \"USA\": \"Dollar\"}`\n",
    "\n",
    "**Real-life applications:**\n",
    "\n",
    "* Student ID → student record.\n",
    "* DNS hostname → IP address.\n",
    "* Username → profile data.\n",
    "* Color name → RGB triple.\n",
    "* Python namespaces → identifier string → object.\n",
    "\n",
    "---\n",
    "\n",
    "**10.1.1 The Map ADT (Core Methods)**\n",
    "\n",
    "A map `M` supports **5 essential behaviors**:\n",
    "\n",
    "| Operation  | Description                                          |\n",
    "| ---------- | ---------------------------------------------------- |\n",
    "| `M[k]`     | Return value for key `k` (error if not found).       |\n",
    "| `M[k] = v` | Associate key `k` with value `v` (insert/overwrite). |\n",
    "| `del M[k]` | Remove entry with key `k` (error if not found).      |\n",
    "| `len(M)`   | Return number of items in map.                       |\n",
    "| `iter(M)`  | Iterates over **keys** in the map.                   |\n",
    "\n",
    "**Additional conveniences (like Python dict):**\n",
    "\n",
    "* `k in M` → check if key exists.\n",
    "* `M.get(k, d)` → safe lookup with default.\n",
    "* `M.setdefault(k, d)` → insert `d` if not present.\n",
    "* `M.pop(k, d)` → remove & return key’s value (or default/error).\n",
    "* `M.popitem()` → remove arbitrary `(k,v)`.\n",
    "* `M.clear()` → remove all.\n",
    "* `M.keys(), M.values(), M.items()` → views.\n",
    "* `M.update(M2)` → bulk copy.\n",
    "* `M == M2`, `M != M2` → comparisons.\n",
    "\n",
    "**Example 10.1 (Operations on a Map):**\n",
    "\n",
    "| Operation       | Return Value | Map State                  |\n",
    "| --------------- | ------------ | -------------------------- |\n",
    "| `len(M)`        | 0            | `{}`                       |\n",
    "| `M['K'] = 2`    | –            | `{'K': 2}`                 |\n",
    "| `M['B'] = 4`    | –            | `{'K': 2, 'B': 4}`         |\n",
    "| `M['U'] = 2`    | –            | `{'K': 2, 'B': 4, 'U': 2}` |\n",
    "| `M['K'] = 9`    | –            | `{'K': 9, 'B': 4, 'U': 2}` |\n",
    "| `M['B']`        | 4            | unchanged                  |\n",
    "| `M.get('F', 5)` | 5            | unchanged                  |\n",
    "| `del M['V']`    | –            | `{'K': 9, 'B': 4, 'U': 2}` |\n",
    "| `M.pop('K')`    | 9            | `{'B': 4, 'U': 2}`         |\n",
    "| `M.items()`     | –            | `[('B',4), ('U',2)]`       |\n",
    "\n",
    "---\n",
    "\n",
    " **10.1.2 Case Study: Word Frequency Counter**\n",
    "\n",
    "**Problem:** Count word occurrences in a text document.\n",
    "\n",
    "**Approach:**\n",
    "\n",
    "* Use `word → count` mapping.\n",
    "* Each time a word is read:\n",
    "\n",
    "  ```python\n",
    "  freq[word] = 1 + freq.get(word, 0)\n",
    "  ```\n",
    "* Then scan dictionary to find max.\n",
    "\n",
    "**Code (simplified from Code Fragment 10.1):**\n",
    "\n",
    "```python\n",
    "freq = {}\n",
    "for piece in open(filename).read().lower().split():\n",
    "    word = ''.join(c for c in piece if c.isalpha())\n",
    "    if word:\n",
    "        freq[word] = 1 + freq.get(word, 0)\n",
    "\n",
    "maxword, maxcount = None, 0\n",
    "for w, c in freq.items():\n",
    "    if c > maxcount:\n",
    "        maxword, maxcount = w, c\n",
    "\n",
    "print(\"Most frequent word:\", maxword)\n",
    "print(\"Occurrences:\", maxcount)\n",
    "```\n",
    "\n",
    "---\n",
    "\n",
    "**10.1.3 Python’s `MutableMapping` ABC**\n",
    "\n",
    "* Python’s `collections` module defines abstract base classes:\n",
    "\n",
    "  * **`Mapping`**: read-only maps.\n",
    "  * **`MutableMapping`**: read-write maps (like `dict`).\n",
    "\n",
    "* If we implement **5 core methods** (`__getitem__`, `__setitem__`, `__delitem__`, `__len__`, `__iter__`),\n",
    "  → we inherit all other behaviors automatically.\n",
    "\n",
    "**Example:**\n",
    "\n",
    "```python\n",
    "def __contains__(self, k):\n",
    "    try:\n",
    "        self[k]\n",
    "        return True\n",
    "    except KeyError:\n",
    "        return False\n",
    "```\n",
    "\n",
    "---\n",
    "\n",
    " **10.1.4 Our `MapBase` Class**\n",
    "\n",
    "* To allow **custom map implementations**, we define `MapBase`.\n",
    "* `MapBase` extends `MutableMapping`.\n",
    "* It has an internal nested **`Item` class**:\n",
    "\n",
    "  * Stores `(key, value)` pair.\n",
    "  * Implements equality (`==`, `!=`) and ordering (`<`) based on keys.\n",
    "\n",
    "**Code Fragment 10.2 (simplified):**\n",
    "\n",
    "```python\n",
    "class MapBase(MutableMapping):\n",
    "    class Item:\n",
    "        __slots__ = \"_key\", \"_value\"\n",
    "        def __init__(self, k, v):\n",
    "            self._key, self._value = k, v\n",
    "        def __eq__(self, other): return self._key == other._key\n",
    "        def __lt__(self, other): return self._key < other._key\n",
    "```\n",
    "\n",
    "---\n",
    "\n",
    " **10.1.5 Simple Implementation: `UnsortedTableMap`**\n",
    "\n",
    "* Stores items in an **unsorted Python list**.\n",
    "* Each operation (`get`, `set`, `delete`) does a **linear scan**.\n",
    "\n",
    "**Time complexity:**\n",
    "\n",
    "* Lookup: O(n)\n",
    "* Insert: O(1) if new key, O(n) if replacing.\n",
    "* Delete: O(n)\n",
    "\n",
    "**Code Fragment 10.3 (simplified):**\n",
    "\n",
    "```python\n",
    "class UnsortedTableMap(MapBase):\n",
    "    def __init__(self):\n",
    "        self._table = []\n",
    "\n",
    "    def __getitem__(self, k):\n",
    "        for item in self._table:\n",
    "            if k == item._key:\n",
    "                return item._value\n",
    "        raise KeyError(\"Key not found\")\n",
    "\n",
    "    def __setitem__(self, k, v):\n",
    "        for item in self._table:\n",
    "            if k == item._key:\n",
    "                item._value = v\n",
    "                return\n",
    "        self._table.append(self.Item(k, v))\n",
    "\n",
    "    def __delitem__(self, k):\n",
    "        for j in range(len(self._table)):\n",
    "            if k == self._table[j]._key:\n",
    "                self._table.pop(j)\n",
    "                return\n",
    "        raise KeyError(\"Key not found\")\n",
    "\n",
    "    def __len__(self): return len(self._table)\n",
    "    def __iter__(self): \n",
    "        for item in self._table:\n",
    "            yield item._key\n",
    "```\n",
    "\n",
    "This is only good for **small maps** — performance is poor for large ones. Later sections (10.2+) improve this with hashing.\n",
    "\n",
    "---\n",
    "\n",
    " **Key Takeaways from 10.1:**\n",
    "\n",
    "* Maps (dicts) are essential in Python & CS.\n",
    "* Core operations revolve around `(key, value)` management.\n",
    "* Python provides `MutableMapping` to make custom maps easier.\n",
    "* `UnsortedTableMap` is a simple but inefficient baseline.\n"
   ]
  },
  {
   "cell_type": "markdown",
   "metadata": {},
   "source": [
    "#### 10.2 Hash Tables"
   ]
  },
  {
   "cell_type": "markdown",
   "metadata": {},
   "source": [
    "* **Hash table**: Core data structure behind Python’s `dict`.\n",
    "* Idea: Use a **hash function** to convert keys → indices in an array (bucket array).\n",
    "* Average operations (`getitem`, `setitem`, `delitem`) can be **O(1)**.\n",
    "\n",
    "**Challenges:**\n",
    "\n",
    "1. Keys may not be integers.\n",
    "2. Even if they are, range could be too large (wasteful memory).\n",
    "3. Different keys may map to the same index (**collision**).\n",
    "\n",
    "---\n",
    "\n",
    " **10.2.1 Hash Functions**\n",
    "\n",
    "A **hash function h(k)** maps a key `k` → index in `[0, N-1]` (where `N = table capacity`).\n",
    "\n",
    "**Two stages:**\n",
    "\n",
    "1. **Hash code**: maps object → integer (possibly negative / large).\n",
    "2. **Compression function**: converts integer → index `[0, N-1]`.\n",
    "\n",
    "---\n",
    "\n",
    " **Hash Codes**\n",
    "\n",
    "* **Integers**: just use value itself.\n",
    "* **Floats**: interpret bits as integer.\n",
    "* **64-bit values** → compress into 32-bit (e.g., XOR high/low halves).\n",
    "* **Objects as tuples of ints**: sum or XOR components.\n",
    "\n",
    "**Polynomial Hash Code (better for strings):**\n",
    "\n",
    "$$\n",
    "h(s) = x_0 a^{n-1} + x_1 a^{n-2} + \\dots + x_{n-1}\n",
    "$$\n",
    "\n",
    "* Evaluated efficiently with **Horner’s Rule**.\n",
    "* Good constants for `a`: 33, 37, 39, 41 (tested on English words).\n",
    "\n",
    " **Cyclic-Shift Hash Code:**\n",
    "\n",
    "* Uses **bit shifting + addition** per character.\n",
    "* Example Python code:\n",
    "\n",
    "```python\n",
    "def hashcode(s):\n",
    "    mask = (1 << 32) - 1\n",
    "    h = 0\n",
    "    for c in s:\n",
    "        h = ((h << 5) & mask) | (h >> 27)  # 5-bit cyclic shift\n",
    "        h += ord(c)\n",
    "    return h\n",
    "```\n",
    "\n",
    "* Experimental results: **5-bit shift** minimizes collisions.\n",
    "\n",
    "---\n",
    "\n",
    " **Hash Codes in Python**\n",
    "\n",
    "* Built-in: `hash(x)` returns int.\n",
    "* Only **immutable types** are hashable: `int, float, str, tuple, frozenset`.\n",
    "* `list, dict, set` → unhashable (TypeError).\n",
    "* Custom objects: define `__hash__`. Must satisfy:\n",
    "\n",
    "  * If `x == y`, then `hash(x) == hash(y)`.\n",
    "\n",
    "---\n",
    "\n",
    " **Compression Functions**\n",
    "\n",
    "Map hash code → table index `[0, N-1]`.\n",
    "\n",
    "* **Division method**:\n",
    "\n",
    "  $$\n",
    "  h(k) = \\text{hash}(k) \\mod N\n",
    "  $$\n",
    "\n",
    "  Best when `N` is prime.\n",
    "\n",
    "* **MAD method (Multiply-Add-Divide)**:\n",
    "\n",
    "  $$\n",
    "  h(k) = [(a \\cdot \\text{hash}(k) + b) \\mod p] \\mod N\n",
    "  $$\n",
    "\n",
    "  with prime `p > N`, and random `a, b`.\n",
    "  → avoids patterns, simulates randomness.\n",
    "\n",
    "---\n",
    "\n",
    " **10.2.2 Collision Handling**\n",
    "\n",
    " **1. Separate Chaining**\n",
    "\n",
    "* Each bucket = small secondary map (e.g., unsorted list).\n",
    "* Insert item `(k,v)` into bucket `A[h(k)]`.\n",
    "* **Expected bucket size** = load factor λ = n/N.\n",
    "* If λ = O(1), → operations in O(1) expected time.\n",
    "\n",
    "---\n",
    "\n",
    " **2. Open Addressing**\n",
    "\n",
    "* All items stored directly in array.\n",
    "* On collision, find another slot (probing).\n",
    "\n",
    " **Linear Probing**\n",
    "\n",
    "* Try slots `(j+1) mod N, (j+2) mod N, ...` until empty found.\n",
    "* Deletion → replace with special **AVAIL marker**.\n",
    "* **Problem**: clustering (long runs of occupied slots).\n",
    "\n",
    " **Quadratic Probing**\n",
    "\n",
    "* Try `(j + i²) mod N`.\n",
    "* Reduces clustering but not perfect (secondary clustering).\n",
    "* Requires `N` prime, and works only while <50% full.\n",
    "\n",
    " **Double Hashing**\n",
    "\n",
    "* Use a second hash function to determine probe sequence.\n",
    "* Example: `h2(k) = q - (k mod q)`.\n",
    "* Avoids clustering, but requires careful function design.\n",
    "\n",
    " **Random Probing**\n",
    "\n",
    "* Probe sequence generated by pseudo-random generator.\n",
    "* **Used by Python dict**.\n",
    "\n",
    "---\n",
    "\n",
    " **10.2.3 Load Factors, Rehashing, and Efficiency**\n",
    "\n",
    "* **Load factor λ = n/N**.\n",
    "* Performance depends on keeping λ small.\n",
    "\n",
    "Guidelines:\n",
    "\n",
    "* Separate chaining → λ < 0.9.\n",
    "* Open addressing → λ < 0.5 (Python keeps λ < 2/3).\n",
    "\n",
    "**Rehashing**:\n",
    "\n",
    "* If λ too high → resize table (usually ×2, −1 for prime).\n",
    "* Reinsert all items with new compression function.\n",
    "* Amortized O(1) per operation.\n",
    "\n",
    "**Efficiency Summary**:\n",
    "\n",
    "* Expected O(1) for `getitem`, `setitem`, `delitem`.\n",
    "* Worst-case O(n) if all keys collide.\n",
    "\n",
    "**Security note**:\n",
    "Hash collisions can be exploited for DoS attacks. Python adds **randomization** in string hash codes (since 2012).\n",
    "\n",
    "---\n",
    "\n",
    "**10.2.4 Python Implementations**\n",
    "\n",
    " **Base Class: `HashMapBase`**\n",
    "\n",
    "* Uses **MAD compression** with random `a, b`.\n",
    "* Automatically resizes at λ > 0.5.\n",
    "* Abstract methods:\n",
    "\n",
    "  * `_bucket_getitem(j,k)`\n",
    "  * `_bucket_setitem(j,k,v)`\n",
    "  * `_bucket_delitem(j,k)`\n",
    "  * `__iter__`\n",
    "\n",
    "---\n",
    "\n",
    " **Implementation 1: ChainHashMap** (Separate Chaining)\n",
    "\n",
    "* Each bucket = `UnsortedTableMap`.\n",
    "* New bucket created when needed.\n",
    "* `__iter__`: yield all keys across buckets.\n",
    "\n",
    "---\n",
    "\n",
    " **Implementation 2: ProbeHashMap** (Open Addressing with Linear Probing)\n",
    "\n",
    "* Uses `find_slot` to locate key or first available spot.\n",
    "* Special marker `AVAIL` for deleted slots.\n",
    "* Insert prefers first `AVAIL` if no match found.\n",
    "* `__iter__`: scans full table.\n",
    "\n",
    "---\n",
    "\n",
    " **Table 10.2 – Performance Comparison**\n",
    "\n",
    "| Operation | List (unsorted) | Hash Table (expected) | Hash Table (worst case) |\n",
    "| --------- | --------------- | --------------------- | ----------------------- |\n",
    "| `getitem` | O(n)            | O(1)                  | O(n)                    |\n",
    "| `setitem` | O(n)            | O(1) amortized        | O(n)                    |\n",
    "| `delitem` | O(n)            | O(1)                  | O(n)                    |\n",
    "| `len`     | O(1)            | O(1)                  | O(1)                    |\n",
    "| `iter`    | O(n)            | O(n)                  | O(n)                    |\n",
    "\n",
    "---\n",
    "\n",
    " **Key Takeaways for 10.2:**\n",
    "\n",
    "* Hash tables = most practical map implementation.\n",
    "* Good hash functions are crucial → combine hash codes + compression.\n",
    "* Collision handling: separate chaining (simpler) vs open addressing (saves space).\n",
    "* Resizing + load factor management → keep O(1) expected performance.\n",
    "* Python `dict` uses open addressing with randomized probing.\n",
    "\n",
    "---\n"
   ]
  },
  {
   "cell_type": "markdown",
   "metadata": {},
   "source": [
    "#### 10.3 Sorted Maps"
   ]
  },
  {
   "cell_type": "markdown",
   "metadata": {},
   "source": [
    "**10.3.0 Overview**\n",
    "\n",
    "* A **map** supports exact search (`M[k]`), but sometimes we need **inexact or ordered queries**.\n",
    "* Example: event log with **timestamps as keys** → want earliest, latest, or nearest events.\n",
    "* **Hash tables fail here** because they scatter keys.\n",
    "* Enter: **Sorted Map ADT** → all map operations **plus ordering-based searches**.\n",
    "\n",
    "---\n",
    "\n",
    "**10.3.1 Sorted Map ADT – New Operations**\n",
    "\n",
    "A **sorted map** extends the map ADT with:\n",
    "\n",
    "* `M.find_min()` → (k,v) with **minimum key**\n",
    "* `M.find_max()` → (k,v) with **maximum key**\n",
    "* `M.find_lt(k)` → (k,v) with largest key < k\n",
    "* `M.find_le(k)` → (k,v) with largest key ≤ k\n",
    "* `M.find_gt(k)` → (k,v) with smallest key > k\n",
    "* `M.find_ge(k)` → (k,v) with smallest key ≥ k\n",
    "* `M.find_range(start, stop)` → iterate all pairs with `start ≤ key < stop`\n",
    "* `iter(M)` → iterate keys **ascending**\n",
    "* `reversed(M)` → iterate keys **descending**\n",
    "\n",
    " Enables **range queries** and **nearest-neighbor searches**.\n",
    "\n",
    "---\n",
    "\n",
    " **10.3.1 Sorted Search Tables**\n",
    "\n",
    " **Idea:**\n",
    "\n",
    "* Store items in a **sorted array/list A**, sorted by keys.\n",
    "* Use **binary search** to support efficient search.\n",
    "\n",
    "**Pros**:\n",
    "\n",
    "* Space = O(n).\n",
    "* Searches (exact + inexact) are fast → O(log n).\n",
    "\n",
    "**Cons**:\n",
    "\n",
    "* Updates (insert/delete) are slow → O(n) (must shift elements).\n",
    "\n",
    "---\n",
    "\n",
    "**Binary Search & Inexact Search**\n",
    "\n",
    "* Standard binary search (Section 4.1.3) adapted:\n",
    "\n",
    "  * If key found → return index.\n",
    "  * If not found → return position where key **would** go.\n",
    "\n",
    "* This is the core of `find_index()` in `SortedTableMap`.\n",
    "\n",
    "---\n",
    "\n",
    "**Implementation: `SortedTableMap`**\n",
    "\n",
    "**Utility**\n",
    "\n",
    "```python\n",
    "def find_index(self, k, low, high):\n",
    "    # returns leftmost index with key >= k\n",
    "    # or high+1 if none qualify\n",
    "```\n",
    "\n",
    "**Standard Map Methods**\n",
    "\n",
    "* `__getitem__(k)` → O(log n) search\n",
    "* `__setitem__(k,v)` → O(log n) search + O(n) insert/shift\n",
    "* `__delitem__(k)` → O(log n) search + O(n) delete/shift\n",
    "* Iteration (`__iter__`, `__reversed__`) → O(n)\n",
    "\n",
    "**New Sorted Map Methods**\n",
    "\n",
    "* `find_min()` → O(1) (first element)\n",
    "* `find_max()` → O(1) (last element)\n",
    "* `find_ge(k)` → binary search, return ≥ k\n",
    "* `find_lt(k)` → binary search, return < k\n",
    "* `find_gt(k)` → binary search, return > k\n",
    "* `find_range(start, stop)` → binary search + sequential scan → O(s + log n), where `s` = # results\n",
    "\n",
    "---\n",
    "\n",
    "**Performance (Table 10.3)**\n",
    "\n",
    "| Operation                  | Time Complexity                 |\n",
    "| -------------------------- | ------------------------------- |\n",
    "| `len(M)`                   | O(1)                            |\n",
    "| `k in M`                   | O(log n)                        |\n",
    "| `M[k] = v` (update)        | O(log n) if existing, else O(n) |\n",
    "| `del M[k]`                 | O(n)                            |\n",
    "| `find_min()`, `find_max()` | O(1)                            |\n",
    "| `find_lt(k)`, `find_gt(k)` | O(log n)                        |\n",
    "| `find_le(k)`, `find_ge(k)` | O(log n)                        |\n",
    "| `find_range(start,stop)`   | O(s + log n)                    |\n",
    "| Iteration (asc/desc)       | O(n)                            |\n",
    "\n",
    "**Conclusion**: Sorted tables are great when **reads/searches dominate writes/updates**.\n",
    "\n",
    "---\n",
    "\n",
    " **10.3.2 Applications**\n",
    "\n",
    "1. **Flight Databases**\n",
    "\n",
    "* Keys: `(origin, destination, date, time)`\n",
    "* Queries like “find all ORD→PVD flights on May 5th between 9:30 and 20:00”.\n",
    "* Use `find_ge(k)` or `find_range(k1,k2)`.\n",
    "\n",
    "Example:\n",
    "\n",
    "```python\n",
    "k1 = (ORD, PVD, 05May, 09:30)\n",
    "k2 = (ORD, PVD, 05May, 20:00)\n",
    "M.find_range(k1, k2) → returns all matching flights\n",
    "```\n",
    "\n",
    "---\n",
    "\n",
    " 2. **Maxima Sets (Cost vs. Performance trade-offs)**\n",
    "\n",
    "* Example: **cars with (cost, speed)**.\n",
    "* A pair `(c1,p1)` **dominates** `(c2,p2)` if `c1 ≤ c2` and `p1 ≥ p2`.\n",
    "* Maintain only **non-dominated pairs** (maxima).\n",
    "\n",
    "**Implementation:**\n",
    "\n",
    "```python\n",
    "class CostPerformanceDatabase:\n",
    "    def __init__(self):\n",
    "        self.M = SortedTableMap()\n",
    "    \n",
    "    def best(self, c):\n",
    "        return self.M.find_le(c)   # fastest car ≤ budget\n",
    "    \n",
    "    def add(self, c, p):\n",
    "        other = self.M.find_le(c)\n",
    "        if other and other[1] >= p:  # dominated\n",
    "            return\n",
    "        self.M[c] = p\n",
    "        other = self.M.find_gt(c)\n",
    "        while other and other[1] <= p:\n",
    "            del self.M[other[0]]\n",
    "            other = self.M.find_gt(c)\n",
    "```\n",
    "\n",
    "**Performance**:\n",
    "\n",
    "* With `SortedTableMap`: `add` = O(n) worst case.\n",
    "* With advanced structures (skip lists, Ch. 10.4): better performance O(log n).\n",
    "\n",
    "---\n",
    "\n",
    "**Key Takeaways for 10.3**\n",
    "\n",
    "* Sorted maps extend maps with **order-based operations**.\n",
    "* Simple implementation = **SortedTableMap** (array + binary search).\n",
    "* **Strength**: Efficient searches, range queries.\n",
    "* **Weakness**: Slow updates (insert/delete).\n",
    "* Applications: **databases with ranges** (flights, logs), **trade-off sets** (cars cost vs. performance).\n",
    "\n",
    "---"
   ]
  },
  {
   "cell_type": "markdown",
   "metadata": {},
   "source": [
    "#### 10.4 Skip Lists"
   ]
  },
  {
   "cell_type": "markdown",
   "metadata": {},
   "source": [
    "* **Sorted arrays**: fast searches (O(log n)) but slow updates (O(n)) due to shifting.\n",
    "* **Linked lists**: fast updates (O(1)) if position is known, but no fast search (O(n)).\n",
    "* **Skip list**: clever compromise → combines **fast searches and updates**, both expected **O(log n)**.\n",
    "\n",
    "---\n",
    "\n",
    "**10.4.1 Structure of a Skip List**\n",
    "\n",
    "* A skip list **S** = series of linked lists `{S0, S1, …, Sh}`.\n",
    "* Properties:\n",
    "\n",
    "  * **S0** (bottom) stores all items (plus sentinels `-∞` and `+∞`).\n",
    "  * Each higher list Si stores a **random subset** of items from Si−1.\n",
    "  * **Sh** (top) has only sentinels `-∞, +∞`.\n",
    "* Each item may appear in multiple lists, forming a **tower**.\n",
    "* Randomization:\n",
    "\n",
    "  * When inserting, **flip a coin** → if heads, item goes up a level.\n",
    "  * Probability item reaches height i = (½)^i.\n",
    "  * So expected height ≈ O(log n).\n",
    "\n",
    " **Insight**: Randomization keeps structure balanced without rotations (unlike AVL/Red-Black trees).\n",
    "\n",
    "---\n",
    "\n",
    " **10.4.2 Navigation & Operations**\n",
    "\n",
    "Skip list = **2D structure**:\n",
    "\n",
    "* Horizontal = lists (searching forward).\n",
    "* Vertical = towers (same key at different levels).\n",
    "\n",
    " Traversal primitives:\n",
    "\n",
    "* `next(p)`: right neighbor\n",
    "* `prev(p)`: left neighbor\n",
    "* `below(p)`: drop down\n",
    "* `above(p)`: climb up\n",
    "\n",
    "---\n",
    "\n",
    " **Searching** (`SkipSearch(k)`)\n",
    "\n",
    "1. Start at top-left `-∞`.\n",
    "2. **Scan forward** while `key(next(p)) ≤ k`.\n",
    "3. If can drop → go down, else stop.\n",
    "4. Final position = largest key ≤ k in S0.\n",
    "\n",
    "➡ Expected time: **O(log n)**.\n",
    "\n",
    "---\n",
    "\n",
    " **Insertion** (`SkipInsert(k,v)`)\n",
    "\n",
    "1. Run `SkipSearch(k)`.\n",
    "\n",
    "   * If `key(p) == k`, update value.\n",
    "   * Else insert `(k,v)` at S0 after position `p`.\n",
    "2. Flip coin:\n",
    "\n",
    "   * Heads → promote item up 1 level.\n",
    "   * Repeat until tails or top reached.\n",
    "3. Build tower by linking promoted nodes.\n",
    "\n",
    "➡️ Expected time: **O(log n)**.\n",
    "➡️ Expected tower height: O(log n).\n",
    "\n",
    "---\n",
    "\n",
    " **Deletion** (`del M[k]`)\n",
    "\n",
    "1. Run `SkipSearch(k)` to find item.\n",
    "2. If found, remove from S0 and all higher levels of tower.\n",
    "3. Reconnect horizontal neighbors.\n",
    "\n",
    "➡️ Expected time: **O(log n)**.\n",
    "\n",
    "---\n",
    "\n",
    " **10.4.3 Probabilistic Analysis**\n",
    "\n",
    "* **Height h of skip list**:\n",
    "\n",
    "  * Expected O(log n).\n",
    "  * Probability it exceeds c·log n drops as 1/n^(c−1).\n",
    "* **Search cost**:\n",
    "\n",
    "  * Drop-downs = O(log n).\n",
    "  * Forward scans per level = expected constant (≈2).\n",
    "  * Total search = O(log n).\n",
    "* **Space usage**:\n",
    "\n",
    "  * Each level has ≈ n/2^i entries.\n",
    "  * Total size = O(n).\n",
    "\n",
    "---\n",
    "\n",
    "**10.4.4 Performance Summary (Table 10.4)**\n",
    "\n",
    "| Operation                  | Expected Time                            |\n",
    "| -------------------------- | ---------------------------------------- |\n",
    "| `len(M)`                   | O(1)                                     |\n",
    "| `k in M`                   | O(log n)                                 |\n",
    "| `M[k]` (get)               | O(log n)                                 |\n",
    "| `M[k] = v` (insert/update) | O(log n)                                 |\n",
    "| `del M[k]`                 | O(log n)                                 |\n",
    "| `find_min()`, `find_max()` | O(1)                                     |\n",
    "| `find_lt(k)`, `find_gt(k)` | O(log n)                                 |\n",
    "| `find_le(k)`, `find_ge(k)` | O(log n)                                 |\n",
    "| `find_range(start, stop)`  | O(s + log n), where s = # items reported |\n",
    "| Iteration (forward/back)   | O(n)                                     |\n",
    "| **Space**                  | O(n)                                     |\n",
    "\n",
    "---\n",
    "\n",
    " **10.4.5 Notes & Insights**\n",
    "\n",
    "* **Advantage**:\n",
    "\n",
    "  * Simple randomized balancing (no tree rotations).\n",
    "  * Fast searches **and** updates (expected O(log n)).\n",
    "  * Practical performance often **better than AVL trees**.\n",
    "* **Disadvantage**:\n",
    "\n",
    "  * Guarantees are **probabilistic, not worst-case**.\n",
    "  * Worst-case could be O(n) if unlucky, but probability negligible.\n",
    "\n",
    "---\n",
    "\n",
    "**Key Takeaway**:\n",
    "Skip lists give a clean, randomized alternative to balanced trees. They implement the **sorted map ADT** efficiently:\n",
    "\n",
    "* Searches = O(log n)\n",
    "* Updates = O(log n)\n",
    "* Space = O(n)\n",
    "\n"
   ]
  },
  {
   "cell_type": "markdown",
   "metadata": {},
   "source": [
    "#### 10.5 Sets, Multisets, and Multimaps"
   ]
  },
  {
   "cell_type": "markdown",
   "metadata": {},
   "source": [
    "**10.5.1 The Set ADT**\n",
    "\n",
    " **Concept**\n",
    "\n",
    "* A **set** = unordered collection of unique elements.\n",
    "* Keys without values → can be thought of as a “map” where all values are irrelevant (like `None`).\n",
    "* Used for membership tests, uniqueness constraints, and set algebra (union, intersection, etc.).\n",
    "\n",
    " **Core Operations**\n",
    "\n",
    "1. `S.add(e)` → Insert element `e` (no duplicates).\n",
    "2. `S.discard(e)` → Remove if exists, otherwise do nothing.\n",
    "3. `e in S` → Membership test.\n",
    "4. `len(S)` → Count of elements.\n",
    "5. `iter(S)` → Iterate over elements.\n",
    "\n",
    "**Extra Operations**\n",
    "\n",
    "* **Remove/clear:**\n",
    "\n",
    "  * `S.remove(e)` → Remove, raise `KeyError` if not found.\n",
    "  * `S.pop()` → Remove and return arbitrary element.\n",
    "  * `S.clear()` → Empty the set.\n",
    "\n",
    "* **Comparisons:**\n",
    "\n",
    "  * `S == T`, `S != T`\n",
    "  * Subsets: `S <= T`, `S < T`\n",
    "  * Supersets: `S >= T`, `S > T`\n",
    "  * Disjointness: `S.isdisjoint(T)`\n",
    "\n",
    "* **Set algebra:**\n",
    "\n",
    "  * Union: `S | T` (new set), `S |= T` (update in-place).\n",
    "  * Intersection: `S & T`, `S &= T`.\n",
    "  * Symmetric difference: `S ^ T`, `S ^= T`.\n",
    "  * Difference: `S - T`, `S -= T`.\n",
    "\n",
    "**Efficiency (with hash-based implementation)**\n",
    "\n",
    "* `add`, `discard`, `remove`, `in` → **O(1)** expected.\n",
    "* Union/Intersection/Difference → **O(n+m)** depending on set sizes.\n",
    "\n",
    "---\n",
    "\n",
    " **10.5.2 Python’s MutableSet Abstract Base Class**\n",
    "\n",
    "* `collections.MutableSet` = template for building custom sets.\n",
    "* Requires implementing **5 core methods**:\n",
    "\n",
    "  * `add`, `discard`, `__contains__`, `__len__`, `__iter__`.\n",
    "* All other operations (union, intersection, comparisons, etc.) are automatically derived.\n",
    "* Example:\n",
    "\n",
    "```python\n",
    "def __lt__(self, other):\n",
    "    # check proper subset: smaller size + every element in other\n",
    "    if len(self) >= len(other):\n",
    "        return False\n",
    "    for e in self:\n",
    "        if e not in other:\n",
    "            return False\n",
    "    return True\n",
    "```\n",
    "\n",
    "* **Union (new set)** uses `__or__`:\n",
    "\n",
    "```python\n",
    "def __or__(self, other):\n",
    "    result = type(self)()\n",
    "    for e in self: result.add(e)\n",
    "    for e in other: result.add(e)\n",
    "    return result\n",
    "```\n",
    "\n",
    "* **Union (in-place)** uses `__ior__`:\n",
    "\n",
    "```python\n",
    "def __ior__(self, other):\n",
    "    for e in other:\n",
    "        self.add(e)\n",
    "    return self\n",
    "```\n",
    "\n",
    "➡ Example shows **Template Method pattern**: base class provides structure, subclasses just fill in minimal logic.\n",
    "\n",
    "---\n",
    "\n",
    " **10.5.3 Implementing Sets, Multisets, and Multimaps**\n",
    "\n",
    "**Sets**\n",
    "\n",
    "* Can be built on top of maps by storing only keys.\n",
    "* Efficient implementation **does not need Item(key, value)** pairs → directly store keys.\n",
    "\n",
    "---\n",
    "\n",
    "**Multisets (Bags)**\n",
    "\n",
    "* Allows **duplicates**.\n",
    "* Implementation strategies:\n",
    "\n",
    "  1. Store duplicates separately like in a list.\n",
    "  2. Better: Use a **map of element → count**.\n",
    "\n",
    "     * Example: word frequency counter.\n",
    "* In Python: `collections.Counter` is a multiset.\n",
    "\n",
    "  * Stores counts.\n",
    "  * Methods like `.most_common(n)` and `.elements()`.\n",
    "  * Iterates over unique keys by default.\n",
    "\n",
    "---\n",
    "\n",
    "**Multimaps**\n",
    "\n",
    "* A **multimap** = map from one key → multiple values.\n",
    "* Implementation strategy:\n",
    "\n",
    "  * Each key maps to a **container (e.g., list)** of values.\n",
    "* Python does not have built-in multimap, but can implement easily:\n",
    "\n",
    "```python\n",
    "class MultiMap:\n",
    "    MapType = dict\n",
    "    \n",
    "    def __init__(self):\n",
    "        self.map = self.MapType()\n",
    "        self.n = 0\n",
    "    \n",
    "    def add(self, k, v):\n",
    "        container = self.map.setdefault(k, [])\n",
    "        container.append(v)\n",
    "        self.n += 1\n",
    "    \n",
    "    def pop(self, k):\n",
    "        secondary = self.map[k]\n",
    "        v = secondary.pop()\n",
    "        if len(secondary) == 0:\n",
    "            del self.map[k]\n",
    "        self.n -= 1\n",
    "        return (k, v)\n",
    "    \n",
    "    def find(self, k):\n",
    "        return (k, self.map[k][0])\n",
    "    \n",
    "    def findall(self, k):\n",
    "        for v in self.map.get(k, []):\n",
    "            yield (k, v)\n",
    "```\n",
    "\n",
    "➡ Here:\n",
    "\n",
    "* `find(k)` → returns one arbitrary `(k, v)`.\n",
    "* `findall(k)` → returns all `(k, v)` for that key.\n",
    "* `pop(k)` → removes one `(k, v)` pair.\n",
    "\n",
    "---\n",
    "\n",
    "**Performance Notes**\n",
    "\n",
    "* **Sets**: O(1) expected for insert, delete, membership.\n",
    "* **Multisets**: O(1) expected for count updates, O(k) to iterate all duplicates.\n",
    "* **Multimaps**:\n",
    "\n",
    "  * Insert = O(1) expected (append to list).\n",
    "  * Find = O(1).\n",
    "  * Findall = O(r) where r = #values for that key.\n",
    "\n",
    "---\n",
    "\n",
    "**Key Takeaway**\n",
    "\n",
    "* **Set** = map without values.\n",
    "* **Multiset (bag)** = map where value = count of occurrences.\n",
    "* **Multimap** = map where value = container of multiple values.\n",
    "* All leverage **map-based data structures** (hash tables, balanced trees, or skip lists) to achieve efficiency.\n",
    "\n",
    "---\n"
   ]
  },
  {
   "cell_type": "markdown",
   "metadata": {
    "jp-MarkdownHeadingCollapsed": true
   },
   "source": [
    "# Chapter 11 SearchTrees"
   ]
  },
  {
   "cell_type": "markdown",
   "metadata": {},
   "source": [
    "#### 11.1 Binary Search Trees"
   ]
  },
  {
   "cell_type": "markdown",
   "metadata": {},
   "source": [
    "A **binary search tree (BST)** is a binary tree where each node stores a key (with associated value) such that:\n",
    "\n",
    "* All keys in the **left subtree** are less than the node’s key.\n",
    "* All keys in the **right subtree** are greater than the node’s key.\n",
    "\n",
    "This structure allows **sorted maps** to be implemented efficiently.\n",
    "\n",
    "---\n",
    "\n",
    "**11.1.1 Navigating a BST**\n",
    "\n",
    "**Proposition 11.1**\n",
    "\n",
    "* An **inorder traversal** of a BST visits keys in **sorted (increasing) order**.\n",
    "* Proof: Follows from the recursive structure (left subtree < root < right subtree).\n",
    "\n",
    "**Navigation Operations**\n",
    "\n",
    "Similar to `PositionalList` navigation, but using BST order:\n",
    "\n",
    "* `first()` → position with the **minimum key** (walk left from root).\n",
    "* `last()` → position with the **maximum key** (walk right from root).\n",
    "* `before(p)` → in-order **predecessor** of position `p`.\n",
    "* `after(p)` → in-order **successor** of position `p`.\n",
    "\n",
    "➡️ Each operation runs in **O(h)** time, where `h` = height of the tree.\n",
    "➡️ However, repeated calls to `after()` or `before()` while traversing all nodes runs in **O(n)** total (amortized O(1) per step).\n",
    "\n",
    "---\n",
    "\n",
    "**11.1.2 Searches**\n",
    "\n",
    "**Algorithm `TreeSearch(T, p, k)`**\n",
    "\n",
    "* Start at root → compare search key `k` with `p.key()`:\n",
    "\n",
    "  * If `k == p.key()` → found!\n",
    "  * If `k < p.key()` → search left subtree.\n",
    "  * If `k > p.key()` → search right subtree.\n",
    "  * If subtree is empty → search fails.\n",
    "\n",
    "**Running Time**\n",
    "\n",
    "* Each recursive step descends one level of the tree.\n",
    "* Search time = **O(h)**, where `h` = height of tree.\n",
    "\n",
    "➡️ This search routine is the basis for:\n",
    "\n",
    "* `__getitem__` (lookup by key)\n",
    "* `__setitem__` (insertion)\n",
    "* `__delitem__` (deletion)\n",
    "* Sorted map operations like `find_lt`, `find_gt`, `find_range`.\n",
    "\n",
    "---\n",
    "\n",
    "**11.1.3 Insertions and Deletions**\n",
    "\n",
    "**Insertion (`TreeInsert`)**\n",
    "\n",
    "1. Run `TreeSearch` to find correct spot.\n",
    "2. If key exists → overwrite value.\n",
    "3. If not found → insert new node as left or right child at the empty subtree reached.\n",
    "\n",
    "* Runs in **O(h)** time.\n",
    "\n",
    "---\n",
    "\n",
    "**Deletion**\n",
    "\n",
    "Two cases:\n",
    "\n",
    "1. **Node has ≤ 1 child**\n",
    "\n",
    "   * Replace node with its child (or remove if leaf).\n",
    "   * Easy, keeps BST property.\n",
    "\n",
    "2. **Node has 2 children**\n",
    "\n",
    "   * Find **in-order predecessor** `r` (rightmost node in left subtree).\n",
    "   * Copy `r`’s key-value pair into the node to delete.\n",
    "   * Recursively delete `r` (which has at most one child).\n",
    "\n",
    "➡️ Deletion always runs in **O(h)** time.\n",
    "\n",
    "---\n",
    "\n",
    "**11.1.4 Python Implementation (TreeMap)**\n",
    "\n",
    "A `TreeMap` class combines:\n",
    "\n",
    "* **`LinkedBinaryTree`** (from Ch. 8) → gives positional binary tree structure.\n",
    "* **`MapBase`** (from Ch. 10) → gives key-value `Item` objects + dict-like behavior.\n",
    "\n",
    "**Key Components**\n",
    "\n",
    "* **Nested `Position` class** with `key()` and `value()` accessors.\n",
    "* **Utility methods**:\n",
    "\n",
    "  * `subtree_search(p, k)` → recursive search.\n",
    "  * `subtree_first_position(p)` → leftmost node.\n",
    "  * `subtree_last_position(p)` → rightmost node.\n",
    "* **Sorted map methods**:\n",
    "\n",
    "  * `find_min()`, `find_ge(k)`, `find_range(start, stop)`.\n",
    "* **Map methods**:\n",
    "\n",
    "  * `__getitem__`, `__setitem__`, `__delitem__`.\n",
    "* **Traversal**:\n",
    "\n",
    "  * `__iter__` → inorder iteration (sorted keys).\n",
    "  * `before(p)` / `after(p)` for predecessor/successor.\n",
    "\n",
    "**Hooks for Balancing**\n",
    "\n",
    "* `rebalance_insert`, `rebalance_delete`, `rebalance_access`\n",
    "  → placeholders for self-balancing trees (AVL, Red-Black, etc.).\n",
    "\n",
    "---\n",
    "\n",
    " **11.1.5 Performance of BSTs**\n",
    "\n",
    "**Time Complexity (see Table 11.1)**\n",
    "\n",
    "| Operation                                       | Running Time                          |\n",
    "| ----------------------------------------------- | ------------------------------------- |\n",
    "| `k in T`                                        | O(h)                                  |\n",
    "| `T[k]`, `T[k] = v`, `del T[k]`                  | O(h)                                  |\n",
    "| `find_position(k)`                              | O(h)                                  |\n",
    "| `first()`, `last()`, `find_min()`, `find_max()` | O(h)                                  |\n",
    "| `before(p)`, `after(p)`                         | O(h) (but amortized O(1) in sequence) |\n",
    "| `find_lt`, `find_le`, `find_gt`, `find_ge`      | O(h)                                  |\n",
    "| `find_range(start, stop)`                       | O(s+h), where `s` = items reported    |\n",
    "| `iter(T)`                                       | O(n)                                  |\n",
    "\n",
    "**Space:** O(n).\n",
    "\n",
    "**Height `h` Matters**\n",
    "\n",
    "* Best case: `h ≈ log(n)` → all operations logarithmic.\n",
    "* Worst case: `h = n` (degenerate chain, like sorted inserts) → operations degrade to O(n).\n",
    "* On **average with random inserts/removals** → expected `h = O(log n)`.\n",
    "* To guarantee O(log n), need **balanced search trees** (AVL, Red-Black, etc., upcoming in §11.2+).\n",
    "\n",
    "---\n",
    "\n",
    " **Key Takeaway (11.1 Summary):**\n",
    "\n",
    "* A BST provides a natural and efficient way to implement a **sorted map ADT**.\n",
    "* Supports searching, insertion, deletion, and iteration in **O(h)** time.\n",
    "* Performance hinges on **tree height** → motivates balanced trees.\n"
   ]
  },
  {
   "cell_type": "markdown",
   "metadata": {},
   "source": [
    "#### 11.2 Balanced Search Trees"
   ]
  },
  {
   "cell_type": "markdown",
   "metadata": {},
   "source": [
    "**Motivation**\n",
    "\n",
    "* Plain **BSTs** can degrade to **height = n** (worst-case O(n) search/insert/delete).\n",
    "* If updates are **random**, expected height ≈ O(log n).\n",
    "* But to guarantee **O(log n) worst-case** performance, we need *balancing*.\n",
    "\n",
    "---\n",
    "\n",
    "**Tree Balancing Tools**\n",
    "\n",
    "**1. Rotation**\n",
    "\n",
    "* **Rotation** = local tree restructuring that makes a child become parent while preserving BST property.\n",
    "* Two nodes swap roles, subtrees reattached appropriately.\n",
    "* Implemented in **O(1)** time.\n",
    "\n",
    "**Example (Figure 11.8):**\n",
    "\n",
    "```\n",
    "Before:                After:\n",
    "    y                     x\n",
    "   /                     / \\\n",
    "  x        ---->        T1   y\n",
    " / \\                       / \\\n",
    "T1  T2                   T2  T3\n",
    "       \\\n",
    "        T3\n",
    "```\n",
    "\n",
    "* Preserves BST order:\n",
    "\n",
    "  * T1 < x < T2 < y < T3.\n",
    "\n",
    "**Effect:**\n",
    "\n",
    "* Reduces depth in one part of tree, increases depth in another.\n",
    "* Used to fix local imbalances.\n",
    "\n",
    "---\n",
    "\n",
    "**2. Trinode Restructuring**\n",
    "\n",
    "* Combines **1 or 2 rotations** involving **x (child), y (parent), z (grandparent)**.\n",
    "* Goal: make the middle key (`b`) the root of this 3-node subtree.\n",
    "* Subtrees are rearranged to preserve inorder order.\n",
    "\n",
    "Algorithm **`restructure(x)`**:\n",
    "\n",
    "1. Relabel x, y, z → (a, b, c) in inorder order.\n",
    "2. Rebuild subtree rooted at b:\n",
    "\n",
    "   * `a` becomes left child of b.\n",
    "   * `c` becomes right child of b.\n",
    "   * Their children are redistributed (`T1…T4`).\n",
    "\n",
    "**Cases:**\n",
    "\n",
    "* **Single rotation**: if x–y–z are in a straight line.\n",
    "* **Double rotation**: if x is the “middle” of the three.\n",
    "\n",
    "**Both take **O(1)** time.**\n",
    "\n",
    "---\n",
    "\n",
    "**Python Framework for Balancing**\n",
    "\n",
    "The authors extend **TreeMap** (from §11.1.4) to serve as a base for balanced trees.\n",
    "\n",
    "**Inheritance Hierarchy (Figure 11.10)**\n",
    "\n",
    "```\n",
    "LinkedBinaryTree   MapBase\n",
    "       \\           /\n",
    "        \\         /\n",
    "         TreeMap\n",
    "        /   |    \\\n",
    "  AVLTreeMap  SplayTreeMap  RedBlackTreeMap\n",
    "```\n",
    "\n",
    "**Hooks for Rebalancing**\n",
    "\n",
    "* `rebalance_insert(p)` → called after insertion.\n",
    "* `rebalance_delete(p)` → called after deletion.\n",
    "* `rebalance_access(p)` → called after access (used by splay trees).\n",
    "\n",
    "> By default, these methods do nothing (`pass`). Subclasses override them.\n",
    "> This is an example of the **Template Method pattern**.\n",
    "\n",
    "---\n",
    "\n",
    "**Nonpublic Utilities**\n",
    "\n",
    " **`relink(parent, child, make_left_child)`**\n",
    "\n",
    "* Utility to correctly connect parent ↔ child pointers.\n",
    "\n",
    "**`rotate(p)`**\n",
    "\n",
    "* Performs a single rotation:\n",
    "\n",
    "  * Promotes node `p` above its parent.\n",
    "  * Adjusts grandparent links and “middle” subtree.\n",
    "\n",
    "**`restructure(x)`**\n",
    "\n",
    "* Performs a **trinode restructuring**:\n",
    "\n",
    "  * If x–y–z are aligned → single rotation.\n",
    "  * If misaligned → double rotation (rotate x, then rotate again).\n",
    "* Returns new root of the restructured subtree.\n",
    "\n",
    "---\n",
    "\n",
    " **Key Insights**\n",
    "\n",
    "* **Rotation & restructuring** are the atomic tools for rebalancing BSTs.\n",
    "* Cost: **O(1)** each.\n",
    "* Balanced tree variants (AVL, Splay, Red-Black) rely heavily on these operations to guarantee **O(log n)** height.\n",
    "* The framework is carefully designed with:\n",
    "\n",
    "  * **Hooks** for where rebalancing should occur.\n",
    "  * **Utility methods** for actual rotations.\n",
    "  * **Factory pattern** for node creation (important since AVL nodes, RB nodes, etc., need extra fields like balance factors or colors).\n",
    "\n",
    "---\n",
    "\n",
    " **Summary of Section 11.2 (So Far):**\n",
    "\n",
    "* Introduces the problem: BSTs can degenerate → need balancing.\n",
    "* Defines the core balancing tools:\n",
    "\n",
    "  * **Rotation** (basic re-shaping).\n",
    "  * **Trinode restructuring** (single or double rotation).\n",
    "* Shows how Python `TreeMap` provides hooks + utilities to support subclasses that implement balancing (AVL, Splay, Red-Black).\n",
    "\n"
   ]
  },
  {
   "cell_type": "markdown",
   "metadata": {},
   "source": [
    "#### 11.3 AVL Trees"
   ]
  },
  {
   "cell_type": "markdown",
   "metadata": {},
   "source": [
    "\n",
    " **Definition**\n",
    "\n",
    "* An **AVL tree** is a **binary search tree (BST)** that maintains the **height-balance property**:\n",
    "\n",
    "  > For every node `p`, the heights of its left and right subtrees differ by at most **1**.\n",
    "\n",
    "* Height is defined here as the **number of nodes** on the longest path from `p` to a leaf (null child = 0).\n",
    "\n",
    "* Named after **Adel’son-Vel’skii and Landis**.\n",
    "\n",
    "**Consequence**: Any subtree of an AVL tree is itself an AVL tree.\n",
    "\n",
    "---\n",
    "\n",
    " **Height Bound**\n",
    "\n",
    "* **Proposition 11.2:** Height of AVL tree with `n` nodes is **O(log n)**.\n",
    "\n",
    "**Proof sketch**:\n",
    "\n",
    "1. Define `n(h)` = minimum number of nodes in AVL tree of height `h`.\n",
    "\n",
    "   * Base: `n(1) = 1`, `n(2) = 2`.\n",
    "   * Recurrence: `n(h) = 1 + n(h-1) + n(h-2)` (like Fibonacci).\n",
    "2. Lower bound: `n(h) > 2^(h/2 - 1)`.\n",
    "3. Rearranging gives:\n",
    "\n",
    "   ```\n",
    "   h < 2 log n + 2\n",
    "   ```\n",
    "\n",
    "   logarithmic height guaranteed.\n",
    "\n",
    "---\n",
    "\n",
    "**Update Operations**\n",
    "\n",
    "**Insertion**\n",
    "\n",
    "1. Insert new node like in a regular BST (as a leaf).\n",
    "2. Walk upward toward root:\n",
    "\n",
    "   * Find the **first unbalanced node z**.\n",
    "   * Let `y` = taller child of `z`, `x` = taller child of `y` (ancestor of inserted node).\n",
    "3. Fix imbalance with **trinode restructuring** (`restructure(x)` from §11.2).\n",
    "\n",
    "   * This makes `x,y,z` balanced again.\n",
    "   * Height of subtree restored to what it was before insertion → ancestors above remain balanced.\n",
    "4. **Only one restructuring needed** after insertion.\n",
    "\n",
    "**Example (Figure 11.12): inserting 54 unbalances nodes 44 and 78 → restructuring restores balance.**\n",
    "\n",
    "---\n",
    "\n",
    "**Deletion**\n",
    "\n",
    "1. Remove node as in standard BST.\n",
    "2. May cause imbalance at ancestor `z`.\n",
    "\n",
    "   * Let `y` = taller child of `z`.\n",
    "   * Let `x` = taller child of `y` (or tie-breaking child if equal).\n",
    "3. Perform `restructure(x)`.\n",
    "4. Unlike insertion, this may reduce subtree height → must **continue walking upward**, fixing possible further unbalances.\n",
    "\n",
    "   * At most O(log n) restructurings.\n",
    "\n",
    "**Example (Figure 11.14): deleting 32 unbalances root → one rotation fixes it.**\n",
    "\n",
    "---\n",
    "\n",
    "**Performance**\n",
    "\n",
    "* Because height `h = O(log n)`, all fundamental operations are guaranteed O(log n).\n",
    "\n",
    "**Table 11.2 (AVL Operations):**\n",
    "\n",
    "| Operation                                 | Worst-case Time |\n",
    "| ----------------------------------------- | --------------- |\n",
    "| `k in T` (membership)                     | O(log n)        |\n",
    "| `T[k]`, `T[k] = v` (access/insert)        | O(log n)        |\n",
    "| `T.delete(p)` or `del T[k]`               | O(log n)        |\n",
    "| `find_position(k)`                        | O(log n)        |\n",
    "| `first(), last(), find_min(), find_max()` | O(log n)        |\n",
    "| `before(p), after(p)`                     | O(log n)        |\n",
    "| `find_lt, find_le, find_gt, find_ge`      | O(log n)        |\n",
    "| `find_range(start, stop)`                 | O(s + log n)    |\n",
    "| `iter(T), reversed(T)`                    | O(n)            |\n",
    "\n",
    "---\n",
    "\n",
    " **Implementation Highlights**\n",
    "\n",
    "**Node Class (stores height)**\n",
    "\n",
    "```python\n",
    "class Node(TreeMap.Node):\n",
    "    __slots__ = '_height'\n",
    "    def __init__(self, element, parent=None, left=None, right=None):\n",
    "        super().__init__(element, parent, left, right)\n",
    "        self.height = 0  # recalculated as needed\n",
    "\n",
    "    def left_height(self):\n",
    "        return self.left.height if self.left else 0\n",
    "\n",
    "    def right_height(self):\n",
    "        return self.right.height if self.right else 0\n",
    "```\n",
    "\n",
    "**Utilities**\n",
    "\n",
    "* `recompute_height(p)` → update node height.\n",
    "* `isbalanced(p)` → check balance factor.\n",
    "* `tall_child(p)` → pick taller child (with tie-breaker).\n",
    "* `tall_grandchild(p)` → used to decide restructuring point.\n",
    "\n",
    "**Rebalancing**\n",
    "\n",
    "```python\n",
    "def rebalance(self, p):\n",
    "    while p is not None:\n",
    "        old_height = p.node.height\n",
    "        if not self.isbalanced(p):\n",
    "            p = self.restructure(self.tall_grandchild(p))\n",
    "            self.recompute_height(self.left(p))\n",
    "            self.recompute_height(self.right(p))\n",
    "        self.recompute_height(p)\n",
    "        if p.node.height == old_height:  # no further change\n",
    "            break\n",
    "        else:\n",
    "            p = self.parent(p)\n",
    "```\n",
    "\n",
    "* **Hooks override**:\n",
    "\n",
    "```python\n",
    "def rebalance_insert(self, p): self.rebalance(p)\n",
    "def rebalance_delete(self, p): self.rebalance(p)\n",
    "```\n",
    "\n",
    "---\n",
    "\n",
    "**Key Takeaways**\n",
    "\n",
    "* **AVL trees guarantee O(log n) height** by enforcing strict balance (child height difference ≤ 1).\n",
    "* **Insertion** requires at most **1 restructuring**.\n",
    "* **Deletion** may require up to **O(log n) restructurings**, but still efficient.\n",
    "* Adds small overhead (storing & updating heights).\n",
    "* Perfect when **fast lookups** and **worst-case guarantees** are needed (e.g., databases, indexing).\n",
    "\n"
   ]
  },
  {
   "cell_type": "markdown",
   "metadata": {},
   "source": [
    "#### 11.4 Splay Treesagrams for deletion cases** (since deletion rotations can be trickier with the tie-breaking rule for choosing `x`)?\r\n"
   ]
  },
  {
   "cell_type": "markdown",
   "metadata": {},
   "source": [
    "Splay trees are **self-adjusting binary search trees**.\n",
    "Unlike AVL or Red-Black trees, they **don’t maintain strict balance** (no height/balance info stored).\n",
    "Instead, they rely on a **splaying operation** (move-to-root) that ensures *amortized* O(log n) performance.\n",
    "\n",
    "---\n",
    "\n",
    "**Key Idea: Splaying**\n",
    "\n",
    "* After **every search, insert, or delete**, we perform a **splay operation** on the accessed node (or the final leaf if unsuccessful).\n",
    "* Splaying = moving a node to the **root** via rotations.\n",
    "* Frequently accessed nodes tend to stay closer to the root.\n",
    "\n",
    "---\n",
    "\n",
    "** Splaying Operations**\n",
    "\n",
    "Depends on position of `x` (target node), its parent `y`, and grandparent `z`.\n",
    "\n",
    "**1. **Zig** (x has no grandparent)**\n",
    "\n",
    "* Single rotation.\n",
    "\n",
    "```\n",
    "   y            x\n",
    "  / \\    →     / \\\n",
    " x   T2       T1  y\n",
    "/ \\               / \\\n",
    "T1 T2            T2 T3\n",
    "```\n",
    "\n",
    "**2. **Zig-Zig** (x and y both left children or both right children)**\n",
    "\n",
    "* Two rotations: rotate parent, then x.\n",
    "* Pulls x up two levels.\n",
    "\n",
    "```\n",
    "    z             x\n",
    "   /             / \\\n",
    "  y     →       x   z\n",
    " /             /   /\n",
    "x             T1  y\n",
    "```\n",
    "\n",
    "**3. **Zig-Zag** (x is left child, y is right child — or vice versa)**\n",
    "\n",
    "* Double rotation: rotate x twice.\n",
    "* Promotes x above both y and z.\n",
    "\n",
    "```\n",
    "    z             x\n",
    "   / \\           / \\\n",
    "  T1  y   →     z   y\n",
    "     / \\       / \\ / \\\n",
    "    x  T4     T1 T2 T3 T4\n",
    "```\n",
    "\n",
    "**Repeat until `x` becomes root.**\n",
    "This keeps tree “loosely balanced.”\n",
    "\n",
    "---\n",
    "\n",
    "**When to Splay**\n",
    "\n",
    "1. **Search(k):**\n",
    "\n",
    "   * If found, splay node.\n",
    "   * If not found, splay the last accessed leaf.\n",
    "\n",
    "2. **Insert(k):**\n",
    "\n",
    "   * Insert normally (BST insert).\n",
    "   * Splay the new node to root.\n",
    "\n",
    "3. **Delete(k):**\n",
    "\n",
    "   * Perform standard BST delete.\n",
    "   * Splay the **parent of the deleted node** to the root.\n",
    "\n",
    "---\n",
    "\n",
    "**Performance**\n",
    "\n",
    "**Worst-case**\n",
    "\n",
    "* Single operation = **O(n)** (tree can become a chain).\n",
    "\n",
    "**Amortized (average over many ops)**\n",
    "\n",
    "* **O(log n)** per operation using accounting analysis:\n",
    "\n",
    "  * Think of \"cyber-dollars\" deposited at nodes to pay for restructuring.\n",
    "  * Each splay operation costs O(depth), but amortized O(log n).\n",
    "\n",
    "---\n",
    "\n",
    "**Extra Properties**\n",
    "\n",
    "* **Static Optimality**:\n",
    "  Frequently accessed items are kept near root.\n",
    "  Access time for node `i` ≈ **O(log(m / f(i)))**, where:\n",
    "\n",
    "  * `m` = total operations\n",
    "  * `f(i)` = number of times `i` is accessed.\n",
    "    → Popular elements become very fast to access.\n",
    "\n",
    "* **No balance info needed**:\n",
    "  Unlike AVL/Red-Black, no heights, colors, or counts are stored.\n",
    "  Just standard BST + rotations.\n",
    "\n",
    "---\n",
    "\n",
    "**Complexity Table**\n",
    "\n",
    "| Operation | Worst-Case | Amortized |\n",
    "| --------- | ---------- | --------- |\n",
    "| Search    | O(n)       | O(log n)  |\n",
    "| Insert    | O(n)       | O(log n)  |\n",
    "| Delete    | O(n)       | O(log n)  |\n",
    "| Space     | O(n)       | O(n)      |\n",
    "\n",
    "---\n",
    "\n",
    "Splay trees trade *strict balance* for *simplicity* + *amortized efficiency*.\n",
    "They adapt well to **non-uniform access patterns** (frequent items bubble up).\n",
    "\n"
   ]
  },
  {
   "cell_type": "markdown",
   "metadata": {},
   "source": [
    "#### 11.5 (2,4)Trees"
   ]
  },
  {
   "cell_type": "markdown",
   "metadata": {},
   "source": [
    "A **(2,4) tree** (aka **2-3-4 tree**) is a **multiway balanced search tree**:\n",
    "\n",
    "* Each internal node can have **2–4 children** (so it holds **1–3 keys**).\n",
    "* All **external nodes (leaves)** are at the **same depth** → perfectly balanced.\n",
    "* Guarantees **O(log n)** height.\n",
    "\n",
    "---\n",
    "\n",
    "**11.5.1 Multiway Search Trees**\n",
    "\n",
    "**Definition**\n",
    "\n",
    "* Internal node with `d` children stores `d – 1` **key-value pairs**.\n",
    "* Keys at a node split child subtrees into ordered ranges:\n",
    "\n",
    "  * If node stores `(k₁, …, k_{d−1})`, then keys in child `cᵢ` fall in range:\n",
    "\n",
    "    ```\n",
    "    k_{i−1} ≤ key ≤ k_i\n",
    "    ```\n",
    "\n",
    "    (where k₀ = –∞, k\\_d = +∞).\n",
    "\n",
    "**Properties**\n",
    "\n",
    "* Internal nodes: **≥ 2 children**.\n",
    "* External nodes: **no data, just placeholders**.\n",
    "* Relationship: An **n-item** multiway search tree has **n + 1 external nodes** (Prop 11.7).\n",
    "\n",
    "---\n",
    "\n",
    "**11.5.2 (2,4) Trees — Core Properties**\n",
    "\n",
    "1. **Size Property** → Every internal node has at most 4 children.\n",
    "\n",
    "   * Hence, each is a **2-node, 3-node, or 4-node**.\n",
    "   * Gives the name “2-3-4 tree.”\n",
    "\n",
    "2. **Depth Property** → All external nodes have the same depth.\n",
    "\n",
    "   * Guarantees logarithmic height.\n",
    "\n",
    " **Height Bound (Prop. 11.8):**\n",
    "For n items:\n",
    "\n",
    "$$\n",
    "\\frac{1}{2}\\log(n+1) \\; ≤ \\; h \\; ≤ \\; \\log(n+1)\n",
    "$$\n",
    "\n",
    "So tree height is always **Θ(log n)**.\n",
    "\n",
    "---\n",
    "\n",
    "**Searching**\n",
    "\n",
    "* Standard top-down search: at each node with `(k₁,…,k_{d-1})`,\n",
    "\n",
    "  * If `k = kᵢ` → success.\n",
    "  * Else follow child `cᵢ` where `k_{i−1} < k < kᵢ`.\n",
    "* Time per node = **O(log d)**, but since `d ≤ 4`, that’s O(1).\n",
    "* Total = **O(h) = O(log n)**.\n",
    "\n",
    "---\n",
    "\n",
    "**Insertion**\n",
    "\n",
    "1. Perform **search** to find external node location.\n",
    "2. Insert key into parent node.\n",
    "3. May cause **overflow** if node becomes a 5-node.\n",
    "\n",
    "**Overflow Handling → **Split**\n",
    "\n",
    "* Split 5-node with keys `(k₁,k₂,k₃,k₄)` + children `(c₁..c₅)`:\n",
    "\n",
    "  * Left child (w): `(k₁,k₂)` with children `(c₁,c₂,c₃)`\n",
    "  * Right child (w′): `(k₄)` with children `(c₄,c₅)`\n",
    "  * Middle key `k₃` promoted to parent.\n",
    "\n",
    "* If parent overflows → cascade upward.\n",
    "\n",
    "* Root overflow → new root created (tree height +1).\n",
    "\n",
    "**Insertion complexity:**\n",
    "\n",
    "* Search = O(log n).\n",
    "* At most O(log n) cascading splits.\n",
    "* **Total: O(log n)**.\n",
    "\n",
    "---\n",
    "\n",
    "**Deletion**\n",
    "\n",
    "1. Search for key k.\n",
    "2. If k is in an internal node: swap with predecessor/successor leaf key (as in BST).\n",
    "3. Remove key from leaf node.\n",
    "\n",
    "Problem: **Underflow**\n",
    "\n",
    "* If node becomes a **1-node** (illegal).\n",
    "\n",
    "* Fix using:\n",
    "\n",
    "  * **Transfer (Borrow):** If sibling is 3-node or 4-node, redistribute one key.\n",
    "  * **Fusion (Merge):** If both siblings are 2-nodes, merge with sibling + bring down parent key.\n",
    "\n",
    "* Cascading underflows may propagate up.\n",
    "\n",
    "* Root underflow → root deleted → height decreases.\n",
    "\n",
    "**Deletion complexity:**\n",
    "\n",
    "* Search = O(log n).\n",
    "* Cascading fixes = O(log n).\n",
    "* **Total: O(log n)**.\n",
    "\n",
    "---\n",
    "\n",
    "**Performance Summary**\n",
    "\n",
    "* Height = O(log n).\n",
    "* Each operation touches O(log n) nodes.\n",
    "* Fix operations (split/transfer/fusion) = O(1) each.\n",
    "\n",
    "| Operation | Time     |\n",
    "| --------- | -------- |\n",
    "| Search    | O(log n) |\n",
    "| Insert    | O(log n) |\n",
    "| Delete    | O(log n) |\n",
    "| Space     | O(n)     |\n",
    "\n",
    "---\n",
    "\n",
    "**Connection to Other Trees**\n",
    "\n",
    "* (2,4) trees are conceptually tied to **Red-Black Trees** (next section).\n",
    "* In fact: A Red-Black Tree is essentially a **binary representation** of a (2,4) tree.\n",
    "\n",
    "---\n",
    "\n",
    " **Key Takeaway:**\n",
    "(2,4) trees keep balance *strictly*, always guaranteeing logarithmic performance. Unlike AVL (strict rotations) or Splay (amortized), they use **split/merge mechanics** at nodes to maintain order.\n"
   ]
  },
  {
   "cell_type": "markdown",
   "metadata": {},
   "source": [
    "#### 11.6 Red-Black Trees"
   ]
  },
  {
   "cell_type": "markdown",
   "metadata": {},
   "source": [
    "🌑🔴 *Red-Black Trees — Summary*\n",
    "\n",
    "A **Red-Black Tree (RBT)** is a **balanced binary search tree** that maintains balance using **coloring rules** and **O(1) rotations/recolorings per update**, ensuring **O(log n)** height.\n",
    "\n",
    "---\n",
    "\n",
    "**11.6.1 Definition & Properties**\n",
    "\n",
    "A binary search tree with nodes colored **red** or **black**. Must satisfy:\n",
    "\n",
    "1. **Root Property** → Root is always **black**.\n",
    "2. **Red Property** → Children of a red node must be black (no two consecutive reds).\n",
    "3. **Depth Property** → Every path from root to a leaf (or null) has the **same black depth** (same # of black nodes).\n",
    "\n",
    "Example: Fig. 11.30 shows a valid RBT with black depth = 3.\n",
    "\n",
    "Correspondence to (2,4) Trees\n",
    "\n",
    "* Each black node of RBT = a node in (2,4) tree.\n",
    "* Red nodes are “merged” into their black parent to simulate 3-nodes or 4-nodes.\n",
    "* RBT ↔ (2,4) tree transformation preserves balance.\n",
    "\n",
    "**Height Bound (Prop. 11.9):**\n",
    "\n",
    "$$\n",
    "\\log(n+1) - 1 \\; ≤ \\; h \\; ≤ \\; 2\\log(n+1) - 2\n",
    "$$\n",
    "\n",
    "So **height is O(log n)**.\n",
    "\n",
    "---\n",
    "\n",
    "Searching\n",
    "\n",
    "* Same as BST → O(h) = **O(log n)**.\n",
    "* No special operations beyond maintaining colors during updates.\n",
    "\n",
    "---\n",
    "\n",
    "Insertion\n",
    "\n",
    "Steps:\n",
    "\n",
    "1. Insert new key as in BST.\n",
    "2. Color new node **red** (unless root → then black).\n",
    "3. If parent also red → **Double Red Violation**.\n",
    "\n",
    "### Fixing Double-Red\n",
    "\n",
    "* **Case 1:** Parent (y) red, Uncle (s) black/None → Perform **trinode restructuring** (`restructure(x)`), recolor middle black, children red.\n",
    "* **Case 2:** Parent red, Uncle red → **Recolor parent & uncle black, grandparent red**. If grandparent also red, repeat up the tree.\n",
    "\n",
    "Insertion needs **O(log n)** recolorings, but **≤ 1 trinode restructuring** (Prop. 11.10).\n",
    "\n",
    "---\n",
    "\n",
    "Deletion\n",
    "\n",
    "Steps:\n",
    "\n",
    "1. Perform normal BST delete (replace with successor if needed).\n",
    "2. If deleted node was **red** → no problem.\n",
    "3. If deleted node was **black** → may cause a **black depth deficit**.\n",
    "\n",
    "Fixing Deficit (Cases):\n",
    "\n",
    "* **Case 1:** Sibling’s subtree has a red child → **Trinode restructure**, promote middle, recolor (like transfer in 2-4 tree).\n",
    "* **Case 2:** Sibling is black and both children black → **Fusion (recolor sibling red)**. If parent is red → recolor it black; if black, propagate deficit upward.\n",
    "* **Case 3:** Sibling is red → **Rotate & recolor**, converting to Case 1 or 2.\n",
    "\n",
    "Deletion needs **O(log n)** recolorings, **≤ 2 rotations/restructures** (Prop. 11.11).\n",
    "\n",
    "---\n",
    "\n",
    "Performance\n",
    "\n",
    "* Height = O(log n) (Prop. 11.9).\n",
    "* Search, Insert, Delete = O(log n).\n",
    "* Difference vs AVL / (2,4):\n",
    "\n",
    "  * **AVL**: may need many rotations.\n",
    "  * **(2,4) tree**: may need cascading splits/fusions.\n",
    "  * **RBT**: at most **constant # of rotations**, only recoloring may cascade.\n",
    "\n",
    "---\n",
    "\n",
    "Key Insights\n",
    "\n",
    "* RBTs are essentially a **binary implementation of (2,4) trees**.\n",
    "* They balance less rigidly than AVL, but with cheaper updates.\n",
    "* Very popular in practice (e.g., Java’s `TreeMap`, C++ STL `map`, Linux kernel RB trees).\n",
    "\n",
    "---\n",
    "\n",
    "Python Implementation (from text)\n",
    "\n",
    "* Extends `TreeMap`.\n",
    "* **Node class** has a boolean `_red` field.\n",
    "* Default new node color = red.\n",
    "* Provides helpers: `set_red()`, `set_black()`, `is_red()`, etc.\n",
    "* Implements `rebalance_insert` (resolves double red) and `rebalancedelete` (resolves deficit) using the case rules above.\n",
    "\n",
    "---\n",
    "\n",
    " **Key Takeaway:**\n",
    "Red-Black Trees are a compromise between AVL and (2,4) trees:\n",
    "\n",
    "* **Height bound O(log n)** (but not as tight as AVL).\n",
    "* **Fewer rotations** than AVL.\n",
    "* **Constant rotations per update**, recoloring may cascade.\n",
    "* Widely used due to balance of efficiency + simplicity.\n"
   ]
  },
  {
   "cell_type": "markdown",
   "metadata": {
    "jp-MarkdownHeadingCollapsed": true
   },
   "source": [
    "# Chapter 12 Sorting and Selection"
   ]
  },
  {
   "cell_type": "markdown",
   "metadata": {},
   "source": [
    "#### 12.1 Why Study Sorting Algorithms?"
   ]
  },
  {
   "cell_type": "markdown",
   "metadata": {},
   "source": [
    "\n",
    "Sorting is a **fundamental problem in computer science**. It shows up everywhere — both directly (ordering data) and indirectly (as a building block in other algorithms).\n",
    "\n",
    "---\n",
    " Key Points\n",
    "\n",
    "Sorting Problem\n",
    "\n",
    "* **Goal**: Rearrange a collection of objects into order (usually smallest → largest).\n",
    "* Python uses `<` operator for comparisons, which must satisfy:\n",
    "\n",
    "  * **Irreflexive**: not true that `k < k`.\n",
    "  * **Transitive**: if `k1 < k2` and `k2 < k3`, then `k1 < k3`.\n",
    "\n",
    "Transitivity is crucial → it allows us to avoid redundant comparisons.\n",
    "\n",
    "---\n",
    "\n",
    " Why Sorting Matters\n",
    "\n",
    "1. **Efficiency in search**\n",
    "\n",
    "   * Sorted data → enables **binary search** (O(log n) vs O(n)).\n",
    "2. **Foundation for advanced algorithms**\n",
    "\n",
    "   * Many algorithms (graph, computational geometry, data processing) rely on sorting as a subroutine.\n",
    "3. **Practical use cases**\n",
    "\n",
    "   * Databases, dictionaries, indexes, reports, analytics → often need sorted data.\n",
    "\n",
    "---\n",
    "\n",
    "Python Built-in Sorting\n",
    "\n",
    "* `list.sort()` → sorts in place.\n",
    "* `sorted(iterable)` → returns a new sorted list.\n",
    "* Both are **highly optimized** (Python uses **Timsort**, a hybrid of merge-sort & insertion-sort).\n",
    "\n",
    "Programmers should almost always use built-ins.\n",
    "Only study custom sorting algorithms to:\n",
    "\n",
    "* Understand **efficiency guarantees**.\n",
    "* Learn how **data order** (already sorted, random, reversed) impacts performance.\n",
    "* Gain insights into **algorithm design** (ideas from sorting transfer elsewhere).\n",
    "\n",
    "---\n",
    "\n",
    "Sorting Algorithms Already Introduced\n",
    "\n",
    "* **Insertion-Sort** → (Sections 5.5.2, 7.5, 9.4.1)\n",
    "* **Selection-Sort** → (9.4.1)\n",
    "* **Bubble-Sort** → (Exercise C-7.38)\n",
    "* **Heap-Sort** → (9.4.2)\n",
    "\n",
    "---\n",
    "\n",
    "Sorting Algorithms in This Chapter\n",
    "\n",
    "* **Merge-Sort**\n",
    "* **Quick-Sort**\n",
    "* **Bucket-Sort**\n",
    "* **Radix-Sort**\n",
    "\n",
    "Then → Section 12.5 compares pros & cons of all sorting approaches.\n",
    "\n",
    "---\n",
    "\n",
    "Key Takeaway\n",
    "\n",
    "Even though Python’s built-in sorting is “good enough” in practice, **understanding sorting algorithms** is:\n",
    "\n",
    "* Crucial for analyzing performance tradeoffs.\n",
    "* A foundation for many advanced algorithms.\n",
    "* A core topic in algorithm design and computer science education.\n"
   ]
  },
  {
   "cell_type": "markdown",
   "metadata": {},
   "source": [
    "#### 12.2 Merge-Sort"
   ]
  },
  {
   "cell_type": "markdown",
   "metadata": {},
   "source": [
    "\n",
    "Merge-sort is one of the most famous **divide-and-conquer** algorithms. It recursively splits a sequence into halves, sorts them, and then merges them back together.\n",
    "\n",
    "---\n",
    "\n",
    "12.2.1 Divide-and-Conquer Framework\n",
    "\n",
    "Steps:\n",
    "\n",
    "1. **Divide** → If sequence is small (≤1 element), it’s already sorted. Otherwise, split into two halves `S1` and `S2`.\n",
    "2. **Conquer** → Recursively sort `S1` and `S2`.\n",
    "3. **Combine** → Merge the two sorted halves back into a single sorted list.\n",
    "\n",
    "* This recursive structure forms the **merge-sort tree** (a binary recursion tree of height ≈ `log n`).\n",
    "* Each level processes all `n` elements once during merging.\n",
    "\n",
    "---\n",
    "\n",
    "12.2.2 Array-Based Implementation\n",
    "\n",
    "Two key parts:\n",
    "\n",
    "1. **Merging two sorted arrays** (`merge` function).\n",
    "2. **Recursive splitting and sorting** (`merge_sort`).\n",
    "\n",
    "**Merge operation** (CodeFragment 12.1):\n",
    "\n",
    "```python\n",
    "def merge(S1, S2, S):\n",
    "    \"\"\"Merge two sorted Python lists S1 and S2 into properly sized list S.\"\"\"\n",
    "    i = j = 0\n",
    "    while i + j < len(S):\n",
    "        if j == len(S2) or (i < len(S1) and S1[i] < S2[j]):\n",
    "            S[i + j] = S1[i]\n",
    "            i += 1\n",
    "        else:\n",
    "            S[i + j] = S2[j]\n",
    "            j += 1\n",
    "```\n",
    "\n",
    "**Merge-sort recursion** (CodeFragment 12.2):\n",
    "\n",
    "```python\n",
    "def merge_sort(S):\n",
    "    \"\"\"Sort the elements of Python list S using the merge-sort algorithm.\"\"\"\n",
    "    n = len(S)\n",
    "    if n < 2:\n",
    "        return  # Base case\n",
    "    mid = n // 2\n",
    "    S1 = S[0:mid]   # Copy first half\n",
    "    S2 = S[mid:n]   # Copy second half\n",
    "    merge_sort(S1)\n",
    "    merge_sort(S2)\n",
    "    merge(S1, S2, S)   # Merge back into S\n",
    "```\n",
    "\n",
    "---\n",
    "\n",
    "12.2.3 Running Time of Merge-Sort\n",
    "\n",
    "* Merging two lists of size `n1` and `n2` takes **O(n1 + n2)** time.\n",
    "* At each level of recursion:\n",
    "\n",
    "  * Work per node = O(size of subproblem).\n",
    "  * Total work per level = O(n).\n",
    "* Depth of recursion tree = `log n`.\n",
    "* **Total running time = O(n log n).**\n",
    "\n",
    "---\n",
    "\n",
    "12.2.4 Merge-Sort & Recurrence Equations\n",
    "\n",
    "We can describe the runtime by a recurrence:\n",
    "\n",
    "$$\n",
    "t(n) = \n",
    "\\begin{cases} \n",
    "b & \\text{if } n \\leq 1 \\\\ \n",
    "2t(n/2) + cn & \\text{otherwise} \n",
    "\\end{cases}\n",
    "$$\n",
    "\n",
    "Expanding:\n",
    "\n",
    "* $t(n) = 2t(n/2) + cn$\n",
    "* $= 4t(n/4) + 2cn$\n",
    "* $= 8t(n/8) + 3cn$\n",
    "* …\n",
    "* $= 2^i t(n/2^i) + i \\cdot cn$\n",
    "\n",
    "Stop when $n/2^i = 1 \\Rightarrow i = \\log n$.\n",
    "So:\n",
    "\n",
    "$$\n",
    "t(n) = n \\cdot b + cn \\log n = O(n \\log n)\n",
    "$$\n",
    "\n",
    "✔ Confirms the earlier analysis.\n",
    "\n",
    "---\n",
    "\n",
    "12.2.5 Alternative Implementations\n",
    "\n",
    "1. **Linked List Version**\n",
    "\n",
    "* Uses queues (CodeFragment 12.3).\n",
    "* Same O(n log n) time, since enqueue/dequeue are O(1).\n",
    "* Especially useful when data is stored in linked structures.\n",
    "\n",
    "2. **Bottom-Up (Nonrecursive) Merge-Sort**\n",
    "\n",
    "* Avoids recursion → slightly faster in practice.\n",
    "* Idea: Start by merging runs of length 2, then 4, 8, … until the whole list is merged.\n",
    "* Still **O(n log n)**.\n",
    "* Uses an auxiliary array and swaps roles each pass (CodeFragment 12.4).\n",
    "\n",
    "---\n",
    "\n",
    "Key Takeaways\n",
    "\n",
    "* Merge-sort guarantees **O(n log n)** worst-case performance.\n",
    "* It is **stable** (preserves equal element order).\n",
    "* Works well on **linked lists** (since merging is easy).\n",
    "* Downside: requires **extra memory** (array copies or auxiliary storage).\n"
   ]
  },
  {
   "cell_type": "markdown",
   "metadata": {},
   "source": [
    "#### 12.3 Quick-Sort"
   ]
  },
  {
   "cell_type": "markdown",
   "metadata": {},
   "source": [
    "Quick-sort is another **divide-and-conquer** sorting algorithm, but unlike merge-sort, it does the **heavy work first (partitioning)** before recursion.\n",
    "\n",
    "---\n",
    "\n",
    " High-Level Description\n",
    "\n",
    "Steps:\n",
    "\n",
    "1. **Divide** → Choose a pivot `x` (commonly last element). Split sequence `S` into:\n",
    "\n",
    "   * `L`: elements < x\n",
    "   * `E`: elements = x\n",
    "   * `G`: elements > x\n",
    "2. **Conquer** → Recursively sort `L` and `G`.\n",
    "3. **Combine** → Concatenate `L + E + G`.\n",
    "\n",
    "👉 The recursion tree is called the **quick-sort tree**.\n",
    "\n",
    "* **Worst-case height** = Θ(n) → already sorted input with bad pivot choice.\n",
    "* **Best/average case height** = O(log n) → pivots split reasonably evenly.\n",
    "\n",
    "---\n",
    "\n",
    "Queue-Based Implementation (CodeFragment 12.5)\n",
    "\n",
    "Works with any sequence that supports enqueue/dequeue:\n",
    "\n",
    "```python\n",
    "def quick_sort(S):\n",
    "    \"\"\"Sort the elements of queue S using quick-sort.\"\"\"\n",
    "    n = len(S)\n",
    "    if n < 2: return\n",
    "\n",
    "    p = S.first()  # pivot\n",
    "    L, E, G = LinkedQueue(), LinkedQueue(), LinkedQueue()\n",
    "\n",
    "    while not S.isempty():\n",
    "        if S.first() < p:\n",
    "            L.enqueue(S.dequeue())\n",
    "        elif p < S.first():\n",
    "            G.enqueue(S.dequeue())\n",
    "        else:\n",
    "            E.enqueue(S.dequeue())\n",
    "\n",
    "    quick_sort(L)\n",
    "    quick_sort(G)\n",
    "\n",
    "    while not L.isempty(): S.enqueue(L.dequeue())\n",
    "    while not E.isempty(): S.enqueue(E.dequeue())\n",
    "    while not G.isempty(): S.enqueue(G.dequeue())\n",
    "```\n",
    "\n",
    "✔ Conceptually clean, but **not in-place**.\n",
    "\n",
    "---\n",
    "\n",
    "Running Time Analysis\n",
    "\n",
    "* **Divide step** = O(n).\n",
    "* **Concatenate step** = O(n).\n",
    "* Work at each node ∝ size of its input.\n",
    "\n",
    "So total work = O(n·h), where **h = height of quick-sort tree**.\n",
    "\n",
    "* **Worst case (bad pivots, sorted list)** → h = n → O(n²).\n",
    "* **Best case (perfectly balanced pivots)** → h = O(log n) → O(n log n).\n",
    "* **Average case (random pivots)** → O(n log n).\n",
    "\n",
    "---\n",
    "\n",
    "12.3.1 Randomized Quick-Sort\n",
    "\n",
    "* Choose pivot **uniformly at random**.\n",
    "* Probability of a “good” split (both sides ≥ n/4) = 1/2.\n",
    "* Expected work per size group = O(n).\n",
    "* Number of groups = O(log n).\n",
    "\n",
    "✔ **Expected runtime = O(n log n)** (Proposition 12.3).\n",
    "✔ High probability bound also holds.\n",
    "\n",
    "---\n",
    "\n",
    "12.3.2 Optimizations for Quick-Sort\n",
    "\n",
    "In-Place Partitioning (CodeFragment 12.6)\n",
    "\n",
    "No extra L, E, G arrays. Instead:\n",
    "\n",
    "* Use two pointers (`left` scanning forward, `right` scanning backward).\n",
    "* Swap elements in reverse order until pointers cross.\n",
    "* Place pivot in final position.\n",
    "* Recurse on subranges.\n",
    "\n",
    "```python\n",
    "def inplace_quick_sort(S, a, b):\n",
    "    if a >= b: return\n",
    "    pivot = S[b]\n",
    "    left, right = a, b - 1\n",
    "\n",
    "    while left <= right:\n",
    "        while left <= right and S[left] < pivot:\n",
    "            left += 1\n",
    "        while left <= right and pivot < S[right]:\n",
    "            right -= 1\n",
    "        if left <= right:\n",
    "            S[left], S[right] = S[right], S[left]\n",
    "            left, right = left + 1, right - 1\n",
    "\n",
    "    S[left], S[b] = S[b], S[left]\n",
    "    inplace_quick_sort(S, a, left - 1)\n",
    "    inplace_quick_sort(S, left + 1, b)\n",
    "```\n",
    "\n",
    "* Still recursive, stack depth = O(h).\n",
    "* Worst-case stack = O(n), but can be reduced to O(log n) with an **explicit stack + push larger subproblem first**.\n",
    "\n",
    "---\n",
    "\n",
    "Pivot Selection\n",
    "\n",
    "* **Bad pivot rule**: always last element → leads to O(n²) on sorted input.\n",
    "* **Fixes**:\n",
    "\n",
    "  * Random pivot (expected O(n log n)).\n",
    "  * Median-of-three heuristic → pivot chosen from {first, middle, last}.\n",
    "  * For very large n, median-of-k can be used.\n",
    "\n",
    "---\n",
    "\n",
    "Hybrid Approaches\n",
    "\n",
    "* For small subarrays (e.g., ≤50 elements), switch to **insertion-sort** (lower overhead).\n",
    "* Real-world quick-sorts are usually **hybrids**.\n",
    "\n",
    "---\n",
    "\n",
    "Key Takeaways\n",
    "\n",
    "* Quick-sort is **faster in practice** than merge-sort due to better cache performance and no extra copying (in-place variant).\n",
    "* **Worst case = O(n²)** but **average/randomized = O(n log n)**.\n",
    "* Practical optimizations (random pivot, median-of-three, hybridization) make it very efficient.\n",
    "\n",
    "---\n",
    "\n",
    "👉 Do you want me to now build a **side-by-side Merge-Sort vs Quick-Sort comparison table** (with properties, runtime, memory, stability, pros/cons)? That would make exam review super quick.\n"
   ]
  },
  {
   "cell_type": "markdown",
   "metadata": {},
   "source": [
    "#### 12.4 Studying Sorting through an Algorithmic Lens"
   ]
  },
  {
   "cell_type": "markdown",
   "metadata": {},
   "source": [
    "12.4.1 Lower Bound for Sorting\n",
    "\n",
    "* **Question**: Can we do better than O(n log n) for *any* sorting algorithm?\n",
    "* **Answer**: If we’re restricted to **comparison-based sorting**, then **NO**.\n",
    "\n",
    "  * Worst-case lower bound = **Ω(n log n)**.\n",
    "\n",
    "Decision Tree Argument\n",
    "\n",
    "* Model a sorting algorithm as a **decision tree**:\n",
    "\n",
    "  * Internal nodes = comparisons (`xi < xj?` → yes/no).\n",
    "  * External nodes = outcomes (final permutations).\n",
    "* Each external node can correspond to only **one permutation** of input.\n",
    "* Since there are **n! possible permutations**, the tree must have ≥ n! leaves.\n",
    "* Height of tree (min # comparisons) ≥ log(n!)\n",
    "\n",
    "Asymptotic Lower Bound\n",
    "\n",
    "* log(n!) ≥ (n/2)·log(n/2) = Ω(n log n)\n",
    "*  Therefore, any comparison-based sorting needs **Ω(n log n) comparisons** in the worst case.\n",
    "\n",
    "---\n",
    "\n",
    "Linear-Time Sorting (Non-Comparison Based)\n",
    "\n",
    "Sorting **faster than O(n log n)** is possible **if we exploit key restrictions**.\n",
    "\n",
    "---\n",
    "\n",
    "Bucket-Sort\n",
    "\n",
    "* Works when keys are integers in range `[0, N−1]`.\n",
    "\n",
    "* Algorithm:\n",
    "\n",
    "  1. Create `N` buckets (arrays/lists).\n",
    "  2. For each entry `e` in S: place `e` into `B[key(e)]`.\n",
    "  3. Concatenate buckets back into S.\n",
    "\n",
    "* **Time Complexity**: O(n + N)\n",
    "\n",
    "* **Space**: O(n + N)\n",
    "\n",
    "* **Good case**: N = O(n) → O(n) sorting.\n",
    "\n",
    "* **Stable** (if elements are inserted/removed in order).\n",
    "\n",
    "---\n",
    "\n",
    "Stability\n",
    "\n",
    "* A sorting algorithm is **stable** if equal keys maintain their original order.\n",
    "* Important when sorting key-value pairs (preserves secondary info).\n",
    "* Bucket-sort can be made stable by queue-like insertion/removal.\n",
    "\n",
    "---\n",
    "\n",
    "Radix-Sort\n",
    "\n",
    "* Sorts **multi-key objects** (e.g., tuples, strings, fixed-length IDs).\n",
    "* Strategy:\n",
    "\n",
    "  * Apply **stable bucket-sort repeatedly**, one key component at a time.\n",
    "  * **Sort from least significant to most significant key** (right to left).\n",
    "  * Stability ensures lexicographic order is preserved.\n",
    "\n",
    "Example\n",
    "\n",
    "S = `[(3,3),(1,5),(2,5),(1,2),(2,3),(1,7),(3,2),(2,2)]`\n",
    "\n",
    "1. Sort by 2nd component →\n",
    "   `[(1,2),(3,2),(2,2),(3,3),(2,3),(1,5),(2,5),(1,7)]`\n",
    "2. Then sort by 1st component (stable) →\n",
    "   `[(1,2),(1,5),(1,7),(2,2),(2,3),(2,5),(3,2),(3,3)]`\n",
    "\n",
    "Correct lexicographic order achieved ✅\n",
    "\n",
    "Complexity\n",
    "\n",
    "* If keys are d-tuples, each component in range \\[0, N−1]:\n",
    "* **Time = O(d(n + N))**\n",
    "* Great for integers, fixed-length strings, IDs, etc.\n",
    "\n",
    "---\n",
    "\n",
    "Key Takeaways\n",
    "\n",
    "* **Comparison-based sorting** has lower bound **Ω(n log n)**.\n",
    "* To do better (O(n)), need **special assumptions**:\n",
    "\n",
    "  * Keys are integers with bounded range (bucket-sort).\n",
    "  * Keys are tuples/strings → apply radix-sort.\n",
    "* **Stability** is critical for multi-pass algorithms like radix-sort.\n",
    "\n"
   ]
  },
  {
   "cell_type": "markdown",
   "metadata": {},
   "source": [
    "#### 12.5 Comparing Sorting Algorithms"
   ]
  },
  {
   "cell_type": "markdown",
   "metadata": {},
   "source": [
    "General Observations\n",
    "\n",
    "* **O(n²) algorithms**:\n",
    "\n",
    "  * *Insertion-sort, Selection-sort, Bubble-sort* → too slow for large data, but useful in some special cases.\n",
    "* **O(n log n) algorithms**:\n",
    "\n",
    "  * *Heap-sort, Merge-sort, Quick-sort* → the main workhorses.\n",
    "* **O(n) algorithms**:\n",
    "\n",
    "  * *Bucket-sort, Radix-sort* → only possible with restricted keys (integers, fixed-size tuples, strings).\n",
    "\n",
    "**No single “best” sorting algorithm**. The right choice depends on:\n",
    "\n",
    "* Input size\n",
    "* Distribution of data\n",
    "* Memory constraints\n",
    "* Stability requirements\n",
    "\n",
    "---\n",
    "\n",
    "Algorithm Comparisons\n",
    "\n",
    "Insertion-Sort\n",
    "\n",
    "* **Time**:\n",
    "\n",
    "  * Best: O(n) (if nearly sorted, few inversions).\n",
    "  * Worst: O(n²).\n",
    "* **When useful**:\n",
    "\n",
    "  * Very small inputs (n < \\~50).\n",
    "  * Nearly sorted inputs.\n",
    "* **Pros**: Simple, efficient for small/“almost sorted” data.\n",
    "* **Cons**: Poor for large random data.\n",
    "\n",
    "---\n",
    "\n",
    "Heap-Sort\n",
    "\n",
    "* **Time**: O(n log n) worst case.\n",
    "* **Memory**: In-place.\n",
    "* **Stability**: ❌ Not stable.\n",
    "* **When useful**:\n",
    "\n",
    "  * General-purpose sorting when in-place is critical.\n",
    "  * Small-to-medium sized datasets in memory.\n",
    "* **Cons**:\n",
    "\n",
    "  * Slower in practice than merge- and quick-sort (more swaps).\n",
    "\n",
    "---\n",
    "\n",
    "Quick-Sort\n",
    "\n",
    "* **Time**:\n",
    "\n",
    "  * Average: O(n log n).\n",
    "  * Worst: O(n²) (bad pivot choices, e.g., sorted input with naive pivot).\n",
    "* **Memory**: In-place (with partitioning).\n",
    "* **Stability**: ❌ Not stable.\n",
    "* **When useful**:\n",
    "\n",
    "  * Excellent *general-purpose*, in-memory sorting.\n",
    "  * Historically the default in C (`qsort`), Unix, and Java ≤ 6.\n",
    "* **Cons**:\n",
    "\n",
    "  * Worst-case quadratic (mitigated by randomized pivots or median-of-3 heuristic).\n",
    "  * Not stable.\n",
    "\n",
    "---\n",
    "\n",
    "Merge-Sort\n",
    "\n",
    "* **Time**: O(n log n) worst case.\n",
    "* **Memory**: Needs extra O(n) space (unless special tricks used).\n",
    "* **Stability**: ✅ Stable.\n",
    "* **When useful**:\n",
    "\n",
    "  * Very large datasets.\n",
    "  * External sorting (disk, cache, hierarchical memory).\n",
    "* **Real-world usage**:\n",
    "\n",
    "  * GNU `sort` (multiway merge).\n",
    "  * Python’s **Timsort** (hybrid of merge + insertion).\n",
    "  * Java 7+ arrays.\n",
    "* **Cons**: Higher memory use; slower in RAM-limited settings.\n",
    "\n",
    "---\n",
    "\n",
    "Bucket-Sort\n",
    "\n",
    "* **Time**: O(n + N), where N = key range.\n",
    "* **When useful**:\n",
    "\n",
    "  * Keys are integers in small range \\[0, N−1].\n",
    "* **Stability**: ✅ Stable (with queue-like bucket handling).\n",
    "* **Cons**: Memory and time cost grows with N; not good for large ranges.\n",
    "\n",
    "---\n",
    "\n",
    "Radix-Sort\n",
    "\n",
    "* **Time**: O(d(n + N)), where d = digits/fields.\n",
    "* **When useful**:\n",
    "\n",
    "  * Sorting integers, strings, or fixed-length tuples.\n",
    "  * Outperforms comparison sorts when `d(n + N) << n log n`.\n",
    "* **Stability**: ✅ Stable (relies on stable bucket-sort).\n",
    "* **Cons**: Needs structured keys; overhead higher for arbitrary objects.\n",
    "\n",
    "---\n",
    "\n",
    "Summary Table\n",
    "\n",
    "| Algorithm      | Time (Best / Worst / Avg)       | Memory           | Stable | Best Use Case                    |\n",
    "| -------------- | ------------------------------- | ---------------- | ------ | -------------------------------- |\n",
    "| Insertion-Sort | O(n) / O(n²) / O(n²)            | O(1)             | ✅ Yes  | Small, nearly-sorted inputs      |\n",
    "| Heap-Sort      | O(n log n) / O(n log n)         | O(1)             | ❌ No   | In-place, predictable perf.      |\n",
    "| Quick-Sort     | O(n log n) / O(n²) / O(n log n) | O(log n) (stack) | ❌ No   | General-purpose in-memory        |\n",
    "| Merge-Sort     | O(n log n) / O(n log n)         | O(n)             | ✅ Yes  | Large datasets, external sorting |\n",
    "| Bucket-Sort    | O(n + N)                        | O(n+N)           | ✅ Yes  | Small integer ranges             |\n",
    "| Radix-Sort     | O(d(n+N))                       | O(n+N)           | ✅ Yes  | Integers, strings, tuples        |\n",
    "\n",
    "---\n",
    "\n",
    " **Bottom line**:\n",
    "\n",
    "* Small or nearly sorted → **Insertion-sort**.\n",
    "* General-purpose in-memory → **Quick-sort** (or **Heap-sort** if worst-case guarantees needed).\n",
    "* External / huge datasets → **Merge-sort** (or **Timsort** in practice).\n",
    "* Keys with restricted ranges → **Bucket-sort** / **Radix-sort**.\n",
    "\n"
   ]
  },
  {
   "cell_type": "markdown",
   "metadata": {},
   "source": [
    "#### 12.6 Python’s Built-In Sorting Functions"
   ]
  },
  {
   "cell_type": "markdown",
   "metadata": {},
   "source": [
    "Two Built-in Sorting Options\n",
    "\n",
    "1. **`.sort()` method (list only)**\n",
    "\n",
    "   * Mutates the list in-place.\n",
    "   * Example:\n",
    "\n",
    "     ```python\n",
    "     colors = [\"red\", \"green\", \"blue\", \"cyan\", \"magenta\", \"yellow\"]\n",
    "     colors.sort()\n",
    "     # [\"blue\", \"cyan\", \"green\", \"magenta\", \"red\", \"yellow\"]\n",
    "     ```\n",
    "\n",
    "2. **`sorted()` function (any iterable)**\n",
    "\n",
    "   * Returns a *new* sorted list, leaving the original unchanged.\n",
    "   * Works on lists, strings, sets, tuples, etc.\n",
    "   * Example:\n",
    "\n",
    "     ```python\n",
    "     sorted(colors)  # same as .sort() but new list\n",
    "     sorted(\"green\") # ['e','e','g','n','r']\n",
    "     ```\n",
    "\n",
    "---\n",
    "\n",
    "Sorting by a Key Function\n",
    "\n",
    "* Both `sort` and `sorted` accept an optional `key` parameter.\n",
    "* **Key function**: transforms each element → sorting is based on that transformed value.\n",
    "* Common key functions:\n",
    "\n",
    "  * `len` (by length of strings, lists, etc.)\n",
    "  * `str.lower` (case-insensitive sorting)\n",
    "  * Custom lambda functions.\n",
    "\n",
    "**Example**: sort colors by length\n",
    "\n",
    "```python\n",
    "colors.sort(key=len)\n",
    "# [\"red\", \"blue\", \"cyan\", \"green\", \"yellow\", \"magenta\"]\n",
    "```\n",
    "\n",
    "👉 `reverse=True` can flip the order.\n",
    "\n",
    "```python\n",
    "sorted(colors, key=len, reverse=True)\n",
    "```\n",
    "\n",
    "---\n",
    "\n",
    "Decorate-Sort-Undecorate (DSU) Pattern\n",
    "\n",
    "How Python actually implements key-based sorting:\n",
    "\n",
    "1. **Decorate** – Pair each element with its key (like `(key, value)`).\n",
    "2. **Sort** – Compare items by key.\n",
    "3. **Undecorate** – Remove keys, keep original elements in order.\n",
    "\n",
    "This guarantees efficiency + stability.\n",
    "\n",
    "Visualization:\n",
    "\n",
    "* Original list:\n",
    "  `[\"red\", \"blue\", \"green\", \"cyan\", \"yellow\", \"magenta\"]`\n",
    "* Decorated (key = length):\n",
    "  `[(3,\"red\"), (4,\"blue\"), (5,\"green\"), (4,\"cyan\"), (6,\"yellow\"), (7,\"magenta\")]`\n",
    "* After sorting by keys:\n",
    "  `[(3,\"red\"), (4,\"blue\"), (4,\"cyan\"), (5,\"green\"), (6,\"yellow\"), (7,\"magenta\")]`\n",
    "* Undecorated:\n",
    "  `[\"red\", \"blue\", \"cyan\", \"green\", \"yellow\", \"magenta\"]`\n",
    "\n",
    "---\n",
    "\n",
    "Example with Custom Implementation\n",
    "\n",
    "Even without Python’s built-ins, we can implement DSU with merge-sort:\n",
    "\n",
    "```python\n",
    "def decorated_merge_sort(data, key=None):\n",
    "    \"\"\"Demonstration of the decorate-sort-undecorate pattern.\"\"\"\n",
    "    if key is not None:\n",
    "        for j in range(len(data)):\n",
    "            data[j] = (key(data[j]), data[j])   # decorate\n",
    "    merge_sort(data)  # assume merge_sort implemented\n",
    "    if key is not None:\n",
    "        for j in range(len(data)):\n",
    "            data[j] = data[j][1]   # undecorate\n",
    "```\n",
    "\n",
    "---\n",
    "\n",
    "Key Notes\n",
    "\n",
    "* **Stability**: Python’s sorting is stable, meaning equal keys preserve original order.\n",
    "* **Efficiency**: Both `sort()` and `sorted()` use **Timsort** (hybrid of merge + insertion sort), optimized for real-world partially ordered data.\n",
    "* **Practical Tip**: Always prefer built-ins unless implementing sorting for learning purposes.\n"
   ]
  },
  {
   "cell_type": "markdown",
   "metadata": {},
   "source": [
    "#### 12.7 Selection"
   ]
  },
  {
   "cell_type": "markdown",
   "metadata": {},
   "source": [
    "What is the Selection Problem?\n",
    "\n",
    "* **Goal**: Find the *kth smallest element* in a sequence of size `n`.\n",
    "* Example:\n",
    "\n",
    "  * k=1 → minimum\n",
    "  * k=n → maximum\n",
    "  * k=n/2 → median\n",
    "* **Naive approach**: Sort entire sequence → then index `k-1`.\n",
    "\n",
    "  * Cost: `O(n log n)` (using best comparison-based sort).\n",
    "* **Observation**: For small `k` (like min, max), we can solve in `O(n)`.\n",
    "* **Question**: Can we always solve selection in `O(n)`?\n",
    "\n",
    "---\n",
    "\n",
    " Prune-and-Search\n",
    "\n",
    "* **Design pattern**: Reduce problem size by pruning away part of the input, then recurse.\n",
    "* Steps:\n",
    "\n",
    "  1. Prune: Remove a fraction of the objects.\n",
    "  2. Search: Recurse on the smaller subproblem.\n",
    "  3. Stop when problem size is constant → solve by brute force.\n",
    "* Example: **Binary search** is a prune-and-search algorithm.\n",
    "* Application: Used to achieve `O(n)` selection.\n",
    "\n",
    "---\n",
    "\n",
    " Randomized Quick-Select\n",
    "\n",
    "* **Algorithm**: Similar to quick-sort but only recurses into *one side*.\n",
    "\n",
    "* Steps:\n",
    "\n",
    "  1. Pick a pivot at random.\n",
    "  2. Partition `S` into:\n",
    "\n",
    "     * `L`: elements < pivot\n",
    "     * `E`: elements = pivot\n",
    "     * `G`: elements > pivot\n",
    "  3. Check where the kth element lies:\n",
    "\n",
    "     * If `k ≤ |L|`: recurse into `L`\n",
    "     * If `k` within `L+E`: return pivot\n",
    "     * Else recurse into `G` with adjusted index `k - |L| - |E|`\n",
    "\n",
    "* **Code**:\n",
    "\n",
    "```python\n",
    "def quick_select(S, k):\n",
    "    \"\"\"Return the kth smallest element of list S, for k from 1 to len(S).\"\"\"\n",
    "    if len(S) == 1:\n",
    "        return S[0]\n",
    "    pivot = random.choice(S)       # random pivot\n",
    "    L = [x for x in S if x < pivot]\n",
    "    E = [x for x in S if x == pivot]\n",
    "    G = [x for x in S if x > pivot]\n",
    "    if k <= len(L):\n",
    "        return quick_select(L, k)\n",
    "    elif k <= len(L) + len(E):\n",
    "        return pivot\n",
    "    else:\n",
    "        j = k - len(L) - len(E)\n",
    "        return quick_select(G, j)\n",
    "```\n",
    "\n",
    "* **Performance**:\n",
    "\n",
    "  * Expected: `O(n)`\n",
    "  * Worst case: `O(n²)` (if pivots chosen poorly every time).\n",
    "  * Deterministic `O(n)` versions exist (Median-of-Medians), but constants are large → mostly theoretical.\n",
    "\n",
    "---\n",
    "\n",
    " Analyzing Randomized Quick-Select\n",
    "\n",
    "* Running time depends on pivot quality.\n",
    "\n",
    "* Define:\n",
    "\n",
    "  * A call is **good** if both `L` and `G` ≤ `3n/4`.\n",
    "  * Good call probability ≥ 1/2.\n",
    "\n",
    "* Random variable `g(n)` = number of calls before a good pivot.\n",
    "\n",
    "  * Expected `E[g(n)] ≤ 2` (like flipping a coin until “heads”).\n",
    "\n",
    "* Recurrence for expected running time:\n",
    "\n",
    "  ```\n",
    "  T(n) ≤ T(3n/4) + 2bn\n",
    "  ```\n",
    "\n",
    "  where `b` is a constant.\n",
    "\n",
    "* Expand recurrence:\n",
    "\n",
    "  ```\n",
    "  T(n) ≤ 2bn * Σ (3/4)^i   (for i = 0 … log4/3 n)\n",
    "  ```\n",
    "\n",
    "  → geometric sum converges → **T(n) = O(n)**.\n",
    "\n",
    "* **Result**:\n",
    "  Proposition 12.7: Randomized Quick-Select runs in **expected O(n)** time.\n",
    "\n",
    "---\n",
    "* **Use cases**:\n",
    "\n",
    "  * Median finding\n",
    "  * k-smallest elements (e.g., top 10 scores)\n",
    "  * Statistical sampling / analytics\n",
    "* **Comparison**:\n",
    "\n",
    "  * Sorting + indexing = `O(n log n)`\n",
    "  * Quick-Select = `O(n)` expected (much better).\n",
    "* **Trade-off**:\n",
    "\n",
    "  * Randomization → practical efficiency.\n",
    "  * Deterministic `O(n)` exists but rarely used in practice.\n",
    "\n"
   ]
  },
  {
   "cell_type": "markdown",
   "metadata": {
    "jp-MarkdownHeadingCollapsed": true
   },
   "source": [
    "# Chapter 14 Graph Algorithms"
   ]
  },
  {
   "cell_type": "markdown",
   "metadata": {},
   "source": [
    "####  14.1 Graphs"
   ]
  },
  {
   "cell_type": "markdown",
   "metadata": {},
   "source": [
    "Definition\n",
    "\n",
    "* **Graph G**:\n",
    "\n",
    "  * A set of **vertices (V)**\n",
    "  * A collection of **edges (E)** connecting pairs of vertices\n",
    "* **Terminology**:\n",
    "\n",
    "  * Vertices ≡ nodes\n",
    "  * Edges ≡ arcs\n",
    "\n",
    "---\n",
    "\n",
    "Types of Edges\n",
    "\n",
    "* **Directed edge (u,v)**: ordered (from u → v)\n",
    "* **Undirected edge (u,v)**: unordered (u ↔ v, equivalent to (v,u))\n",
    "* **Mixed graph**: contains both directed & undirected edges\n",
    "* Conversion: undirected edge (u,v) ↔ two directed edges (u,v) and (v,u)\n",
    "\n",
    "---\n",
    "Examples\n",
    "\n",
    "* **Ex. 14.1**: Co-authorship graph → vertices = researchers, undirected edges = collaborations.\n",
    "* **Ex. 14.2**: Inheritance graph in OOP → directed edges from subclass to superclass.\n",
    "* **Ex. 14.3**: City map → two-way streets = undirected edges, one-way = directed edges (mixed graph).\n",
    "* **Ex. 14.4**: Electrical/plumbing network → vertices = connectors/fixtures, edges = pipes/wires.\n",
    "* **Ex. 14.5**: Flight network → vertices = airports, directed edges = flights.\n",
    "\n",
    "---\n",
    "\n",
    "Graph Terminology\n",
    "\n",
    "* **End vertices**: endpoints of an edge\n",
    "* **Origin/destination**: for directed edges\n",
    "* **Adjacent vertices**: share an edge\n",
    "* **Incident edge**: touches a vertex\n",
    "* **Degree of v (deg(v))**: # of edges incident to v\n",
    "\n",
    "  * **indeg(v)** = # incoming edges\n",
    "  * **outdeg(v)** = # outgoing edges\n",
    "\n",
    "---\n",
    "\n",
    "Paths & Cycles\n",
    "\n",
    "* **Path**: sequence of vertices/edges where each edge links its predecessor & successor\n",
    "* **Cycle**: path that starts & ends at the same vertex\n",
    "* **Simple path/cycle**: no vertex repeats (except start=end in cycle)\n",
    "* **Directed path/cycle**: all edges oriented consistently\n",
    "* **Directed acyclic graph (DAG)**: directed graph with no directed cycles\n",
    "\n",
    "Examples:\n",
    "\n",
    "* Directed path: (BOS → JFK → DFW)\n",
    "* Directed cycle: (LAX → ORD → DFW → LAX)\n",
    "\n",
    "---\n",
    "\n",
    "Connectivity\n",
    "\n",
    "* **Reachability**: vertex u *reaches* v if there is a path from u to v\n",
    "\n",
    "  * Undirected: symmetric (u ↔ v)\n",
    "  * Directed: asymmetric (u → v, but not necessarily v → u)\n",
    "* **Connected graph**: path between any two vertices\n",
    "* **Strongly connected digraph**: u reaches v *and* v reaches u for all pairs\n",
    "* **Subgraph H of G**: subset of vertices & edges\n",
    "* **Spanning subgraph**: contains all vertices of G\n",
    "* **Connected components**: maximal connected subgraphs\n",
    "* **Tree**: connected acyclic graph\n",
    "* **Forest**: acyclic graph (possibly disconnected)\n",
    "* **Spanning tree**: spanning subgraph that is a tree\n",
    "\n",
    "---\n",
    "\n",
    "Graph Properties (Propositions)\n",
    "\n",
    "* **Prop. 14.8**: ∑ deg(v) = 2m for undirected graphs (m = edges)\n",
    "* **Prop. 14.9**: ∑ indeg(v) = ∑ outdeg(v) = m for directed graphs\n",
    "* **Prop. 14.10**: Edge bounds\n",
    "\n",
    "  * Undirected: m ≤ n(n−1)/2\n",
    "  * Directed: m ≤ n(n−1)\n",
    "* **Prop. 14.11**: For undirected graph with n vertices, m edges:\n",
    "\n",
    "  * Connected graph: m ≥ n−1\n",
    "  * Tree: m = n−1\n",
    "  * Forest: m ≤ n−1\n",
    "\n",
    "---\n",
    "\n",
    "Graph ADT\n",
    "\n",
    "Graph modeled by three data types: **Vertex, Edge, Graph**.\n",
    "\n",
    "Vertex\n",
    "\n",
    "* Stores arbitrary element (e.g., airport code)\n",
    "* Method: `element()`\n",
    "\n",
    "Edge\n",
    "\n",
    "* Stores associated object (e.g., flight number, distance)\n",
    "* Methods:\n",
    "\n",
    "  * `endpoints()` → return (u,v)\n",
    "  * `opposite(v)` → given endpoint v, return other\n",
    "\n",
    "Graph (ADT methods)\n",
    "\n",
    "* **Basic info**\n",
    "\n",
    "  * `vertex_count()`\n",
    "  * `vertices()`\n",
    "  * `edge_count()`\n",
    "  * `edges()`\n",
    "* **Access**\n",
    "\n",
    "  * `get_edge(u,v)` → return edge (u,v) or `None`\n",
    "* **Degree**\n",
    "\n",
    "  * `degree(v, out=True)` → number of incident edges\n",
    "\n",
    "    * Outgoing (default) or incoming (if out=False)\n",
    "* **Incidence**\n",
    "\n",
    "  * `incident_edges(v, out=True)` → edges incident to v\n",
    "* **Mutators**\n",
    "\n",
    "  * `insert_vertex(x=None)`\n",
    "  * `insert_edge(u,v,x=None)`\n",
    "  * `remove_vertex(v)`\n",
    "  * `remove_edge(e)`\n",
    "\n"
   ]
  },
  {
   "cell_type": "markdown",
   "metadata": {},
   "source": [
    "#### 14.2 Data Structures for Graphs"
   ]
  },
  {
   "cell_type": "markdown",
   "metadata": {},
   "source": [
    "Graphs can be represented in **four major ways**. Each stores the vertex collection, but differs in how edges are stored and accessed.\n",
    "\n",
    "---\n",
    "\n",
    "14.2.1 Edge List\n",
    "\n",
    "* **Definition**: Maintain two lists:\n",
    "\n",
    "  * `V`: all vertices (unordered list)\n",
    "  * `E`: all edges (unordered list)\n",
    "* **Vertex Object**: stores element `x`, and position in `V`\n",
    "* **Edge Object**: stores element `x`, endpoints `(u,v)`, and position in `E`\n",
    "\n",
    "**Pros**:\n",
    "\n",
    "* Space: **O(n + m)**\n",
    "* Simple to implement\n",
    "* Easy to insert/remove edges in **O(1)**\n",
    "\n",
    "**Cons**:\n",
    "\n",
    "* `get_edge(u,v)`, `degree(v)`, `incident_edges(v)` take **O(m)** (linear scan of all edges)\n",
    "* Removing a vertex requires deleting all incident edges: **O(m)**\n",
    "\n",
    " **Performance (Table 14.2):**\n",
    "\n",
    "| Operation                                                  | Time |\n",
    "| ---------------------------------------------------------- | ---- |\n",
    "| `vertex_count()`, `edge_count()`                           | O(1) |\n",
    "| `vertices()`                                               | O(n) |\n",
    "| `edges()`                                                  | O(m) |\n",
    "| `get_edge(u,v)`, `degree(v)`, `incident_edges(v)`          | O(m) |\n",
    "| `insert_vertex(x)`, `insert_edge(u,v,x)`, `remove_edge(e)` | O(1) |\n",
    "| `remove_vertex(v)`                                         | O(m) |\n",
    "\n",
    "---\n",
    "\n",
    "14.2.2 Adjacency List\n",
    "\n",
    "* **Definition**: Each vertex `v` has an **incidence list I(v)** storing edges incident to `v`.\n",
    "* For digraphs: use **`I_out(v)`** and **`I_in(v)`**.\n",
    "* Vertices stored in a list/array with direct access to their incidence lists.\n",
    "\n",
    "**Pros**:\n",
    "\n",
    "* Space: **O(n + m)**\n",
    "* `incident_edges(v)` runs in **O(deg(v))** (optimal)\n",
    "* `degree(v)` can be O(1) if list stores size\n",
    "\n",
    "**Cons**:\n",
    "\n",
    "* `get_edge(u,v)` requires scanning smaller list: **O(min(deg(u), deg(v)))**\n",
    "* Removing a vertex requires deleting all incident edges: **O(deg(v))**\n",
    "\n",
    "**Performance (Table 14.3):**\n",
    "\n",
    "| Operation                                | Time                  |\n",
    "| ---------------------------------------- | --------------------- |\n",
    "| `vertex_count()`, `edge_count()`         | O(1)                  |\n",
    "| `vertices()`                             | O(n)                  |\n",
    "| `edges()`                                | O(m)                  |\n",
    "| `get_edge(u,v)`                          | O(min(deg(u),deg(v))) |\n",
    "| `degree(v)`                              | O(1)                  |\n",
    "| `incident_edges(v)`                      | O(deg(v))             |\n",
    "| `insert_vertex(x)`, `insert_edge(u,v,x)` | O(1)                  |\n",
    "| `remove_edge(e)`                         | O(1)                  |\n",
    "| `remove_vertex(v)`                       | O(deg(v))             |\n",
    "\n",
    "---\n",
    "\n",
    "14.2.3 Adjacency Map\n",
    "\n",
    "* **Definition**: Like adjacency list, but each `I(v)` is a **map/dictionary** (neighbor vertex → edge).\n",
    "* Implemented efficiently in Python with `dict`.\n",
    "\n",
    "**Pros**:\n",
    "\n",
    "* Space: **O(n + m)**\n",
    "* `get_edge(u,v)` in **O(1) expected time** (hash lookup)\n",
    "* Keeps all other benefits of adjacency list\n",
    "\n",
    "**Cons**:\n",
    "\n",
    "* Worst-case still O(min(deg(u),deg(v))) if hashing fails\n",
    "* Slightly more overhead than plain lists\n",
    "\n",
    "**Best all-purpose choice** because it balances fast edge access + efficient space.\n",
    "\n",
    "---\n",
    "\n",
    "14.2.4 Adjacency Matrix\n",
    "\n",
    "* **Definition**: Maintain an `n × n` array `A`.\n",
    "\n",
    "  * `A[i][j]` = reference to edge (u,v)\n",
    "  * `A[i][j] = None` if no edge exists\n",
    "* Symmetric if undirected: `A[i][j] = A[j][i]`.\n",
    "\n",
    "**Pros**:\n",
    "\n",
    "* `get_edge(u,v)` runs in **O(1)** worst case\n",
    "* Dense graphs benefit from small constants\n",
    "* Boolean adjacency matrix can reduce memory to 1 bit per edge\n",
    "\n",
    "**Cons**:\n",
    "\n",
    "* Space: **O(n²)** (wasteful for sparse graphs)\n",
    "* `incident_edges(v)` requires scanning full row: **O(n)**\n",
    "* Adding/removing vertices is expensive (resize matrix)\n",
    "\n",
    "---\n",
    "\n",
    "Table 14.1 — Performance Comparison\n",
    "\n",
    "| Operation            | Edge List | Adjacency List | Adjacency Map | Adjacency Matrix |\n",
    "| -------------------- | --------- | -------------- | ------------- | ---------------- |\n",
    "| `vertex_count()`     | O(1)      | O(1)           | O(1)          | O(1)             |\n",
    "| `edge_count()`       | O(1)      | O(1)           | O(1)          | O(1)             |\n",
    "| `vertices()`         | O(n)      | O(n)           | O(n)          | O(n)             |\n",
    "| `edges()`            | O(m)      | O(m)           | O(m)          | O(n²)            |\n",
    "| `get_edge(u,v)`      | O(m)      | O(min(du,dv))  | O(1) expected | O(1)             |\n",
    "| `degree(v)`          | O(m)      | O(1)           | O(1)          | O(n)             |\n",
    "| `incident_edges(v)`  | O(m)      | O(dv)          | O(dv)         | O(n)             |\n",
    "| `insert_vertex(x)`   | O(1)      | O(1)           | O(1)          | O(n²)            |\n",
    "| `remove_vertex(v)`   | O(m)      | O(dv)          | O(dv)         | O(n²)            |\n",
    "| `insert_edge(u,v,x)` | O(1)      | O(1)           | O(1)          | O(1)             |\n",
    "| `remove_edge(e)`     | O(1)      | O(1)           | O(1)          | O(1)             |\n",
    "\n",
    "* **Space**:\n",
    "\n",
    "  * Edge List, Adj. List, Adj. Map → **O(n + m)**\n",
    "  * Adj. Matrix → **O(n²)**\n",
    "\n",
    "---\n",
    "\n",
    "14.2.5 Python Implementation\n",
    "\n",
    "* Uses **adjacency map** with Python dictionaries.\n",
    "* **Vertex class**: stores element, hashable\n",
    "* **Edge class**: stores origin, destination, element; supports `endpoints()` & `opposite(v)`\n",
    "* **Graph class**:\n",
    "\n",
    "  * Maintains two dicts: `outgoing` & `incoming`\n",
    "  * For undirected graphs: `incoming` is alias of `outgoing`\n",
    "  * Supports all Graph ADT methods (`insert_vertex`, `insert_edge`, `degree`, `incident_edges`, etc.)\n",
    "* `get_edge(u,v)` uses dictionary lookup\n",
    "* `edges()` returns union of edge sets across adjacency maps\n",
    "* `is_directed()` checks whether graph was declared directed\n",
    "\n",
    "---"
   ]
  },
  {
   "cell_type": "markdown",
   "metadata": {},
   "source": [
    "#### 14.3 Graph Traversals"
   ]
  },
  {
   "cell_type": "markdown",
   "metadata": {},
   "source": [
    "A **graph traversal** systematically visits all vertices and edges of a graph.\n",
    "Efficient traversals run in **O(n + m)** time (linear in vertices `n` and edges `m`).\n",
    "\n",
    "---\n",
    "\n",
    "Why Traversals?\n",
    "\n",
    "Used to answer **reachability questions**, such as:\n",
    "\n",
    "* Path existence between `u` and `v`\n",
    "* Connectivity testing (is G connected?)\n",
    "* Spanning tree computation\n",
    "* Finding connected/strongly connected components\n",
    "* Detecting cycles\n",
    "* Finding shortest paths (by edge count)\n",
    "\n",
    "---\n",
    "\n",
    " Depth-First Search (DFS)\n",
    "\n",
    "**Analogy**: Exploring a labyrinth with string and paint.\n",
    "\n",
    "* Start at `s`, mark as visited.\n",
    "* Explore edges recursively.\n",
    "* Backtrack when dead ends are reached.\n",
    "\n",
    "**Pseudocode (Code Fragment 14.4):**\n",
    "\n",
    "```python\n",
    "def DFS(G, u):\n",
    "    for e in G.incident_edges(u):\n",
    "        v = e.opposite(u)\n",
    "        if v not visited:\n",
    "            mark v as discovered via e\n",
    "            DFS(G, v)\n",
    "```\n",
    "\n",
    "Edge Classification in DFS\n",
    "\n",
    "* **Tree/Discovery edges** → discover new vertices\n",
    "* **Back edges** → connect to ancestor (cycle exists)\n",
    "* **Forward edges** → connect to descendant\n",
    "* **Cross edges** → connect unrelated subtrees\n",
    "\n",
    " Properties\n",
    "\n",
    "* DFS forms a **DFS tree (or forest)** of discovery edges.\n",
    "* In **undirected graphs** → non-tree edges are back edges.\n",
    "* In **directed graphs** → non-tree edges can be back, forward, or cross.\n",
    "\n",
    "**Propositions**:\n",
    "\n",
    "* **14.12 (Undirected)**: DFS visits all vertices in the component of `s`, discovery edges form a spanning tree.\n",
    "* **14.13 (Directed)**: DFS visits all reachable vertices from `s`; DFS tree provides directed paths.\n",
    "\n",
    "**Cycle detection**:\n",
    "\n",
    "* A **back edge** ⇔ cycle exists.\n",
    "\n",
    "**Time Complexity**:\n",
    "\n",
    "* Each vertex visited once, each edge examined ≤ 2 times.\n",
    "* DFS = **O(n + m)** if adjacency list/map used.\n",
    "* DFS = **O(n²)** if adjacency matrix used.\n",
    "\n",
    " **DFS Complexity Summary:**\n",
    "\n",
    "| Graph Type | DFS Complexity | Applications                                                           |\n",
    "| ---------- | -------------- | ---------------------------------------------------------------------- |\n",
    "| Undirected | O(n + m)       | Connectivity, spanning tree, cycle detection, connected components     |\n",
    "| Directed   | O(n + m)       | Reachability, strong connectivity, directed cycles, transitive closure |\n",
    "\n",
    "---\n",
    "\n",
    "DFS Implementation in Python\n",
    "\n",
    "**Recursive DFS (Code Fragment 14.5):**\n",
    "\n",
    "```python\n",
    "def DFS(g, u, discovered):\n",
    "    for e in g.incident_edges(u):\n",
    "        v = e.opposite(u)\n",
    "        if v not in discovered:\n",
    "            discovered[v] = e\n",
    "            DFS(g, v, discovered)\n",
    "```\n",
    "\n",
    "* `discovered`: dict mapping vertex → discovery edge (or `None` if root).\n",
    "\n",
    "**Constructing a Path (Code Fragment 14.6):**\n",
    "\n",
    "* Backtrack using `discovered` dictionary.\n",
    "* Reverses list at the end.\n",
    "\n",
    "**DFS for Entire Graph (Code Fragment 14.7):**\n",
    "\n",
    "* Runs DFS from unvisited vertices → produces DFS forest.\n",
    "* Total runtime: **O(n + m)**.\n",
    "* Roots (vertices mapped to `None`) indicate number of components.\n",
    "\n",
    "---\n",
    "\n",
    " Breadth-First Search (BFS)\n",
    "\n",
    "**Analogy**: Exploring with **waves of explorers** (level by level).\n",
    "\n",
    "* Start at `s` (level 0).\n",
    "* Visit all neighbors = level 1.\n",
    "* Next neighbors = level 2.\n",
    "* Continue until all reachable vertices are marked.\n",
    "\n",
    "**Python BFS (Code Fragment 14.8):**\n",
    "\n",
    "```python\n",
    "def BFS(g, s, discovered):\n",
    "    level = [s]\n",
    "    while level:\n",
    "        next_level = []\n",
    "        for u in level:\n",
    "            for e in g.incident_edges(u):\n",
    "                v = e.opposite(u)\n",
    "                if v not in discovered:\n",
    "                    discovered[v] = e\n",
    "                    next_level.append(v)\n",
    "        level = next_level\n",
    "```\n",
    "\n",
    "Properties\n",
    "\n",
    "* Visits **all vertices reachable** from `s`.\n",
    "* Produces **shortest path tree** (by edge count).\n",
    "* For vertex `v` at level `i` → path from `s` to `v` has exactly `i` edges.\n",
    "\n",
    "**Proposition 14.16**:\n",
    "\n",
    "* BFS tree paths = shortest paths.\n",
    "* Non-tree edges (u,v) → level(v) ≤ level(u) + 1.\n",
    "\n",
    "Complexity\n",
    "\n",
    "* Each vertex discovered once, each edge explored once.\n",
    "* BFS = **O(n + m)**.\n",
    "\n",
    "📊 **BFS Complexity Summary:**\n",
    "\n",
    "| Operation           | Time     |\n",
    "| ------------------- | -------- |\n",
    "| BFS from `s`        | O(n + m) |\n",
    "| BFS full graph      | O(n + m) |\n",
    "| Path reconstruction | O(n)     |\n",
    "\n",
    "---\n",
    "\n",
    " DFS vs BFS — Comparison\n",
    "\n",
    "| Feature         | DFS                                 | BFS                                                   |\n",
    "| --------------- | ----------------------------------- | ----------------------------------------------------- |\n",
    "| Traversal style | Deep (backtracking)                 | Level by level                                        |\n",
    "| Tree produced   | DFS forest                          | BFS tree                                              |\n",
    "| Edge types      | Tree, Back, Forward, Cross          | Tree, Cross (undirected); Tree, Back/Cross (directed) |\n",
    "| Path found      | Some path (not shortest)            | Shortest path (fewest edges)                          |\n",
    "| Cycle detection | Detects via back edges              | Detects via non-tree edges                            |\n",
    "| Applications    | Connectivity, cycle detection, SCCs | Shortest paths, connectivity, components              |\n",
    "| Complexity      | O(n + m)                            | O(n + m)                                              |\n",
    "\n",
    "---\n",
    "\n",
    "* **DFS** = structural analysis, cycles, SCCs.\n",
    "* **BFS** = shortest paths, level exploration.\n",
    "* Both are linear-time algorithms fundamental to graph problems.\n",
    "\n"
   ]
  },
  {
   "cell_type": "markdown",
   "metadata": {},
   "source": [
    "| Feature                 | Depth-First Search (DFS)                                          | Breadth-First Search (BFS)                                 |\n",
    "| ----------------------- | ----------------------------------------------------------------- | ---------------------------------------------------------- |\n",
    "| **Traversal Strategy**  | Goes as deep as possible along one branch before backtracking     | Explores all neighbors level by level before moving deeper |\n",
    "| **Data Structure Used** | Stack (explicit stack or recursion)                               | Queue (FIFO)                                               |\n",
    "| **Path Found**          | Not guaranteed to be shortest                                     | Always finds the shortest path (in terms of edges)         |\n",
    "| **Tree Structure**      | Produces a DFS Tree/Forest                                        | Produces a BFS Tree/Forest                                 |\n",
    "| **Edge Classification** | Tree, Back, Forward, Cross edges                                  | Tree, Cross (undirected); Tree, Back, Cross (directed)     |\n",
    "| **Typical Use Cases**   | Detecting cycles, topological sort, strongly connected components | Shortest path in unweighted graphs, connectivity check     |\n",
    "| **Space Complexity**    | O(h) where h = height of the recursion stack (≤ n)                | O(n) (stores all vertices in the current level)            |\n",
    "| **Time Complexity**     | O(n + m) (n = vertices, m = edges)                                | O(n + m)                                                   |\n",
    "| **Behavior**            | “Dive deep, then backtrack”                                       | “Spread out level by level”                                |\n"
   ]
  },
  {
   "cell_type": "markdown",
   "metadata": {},
   "source": [
    "####  14.4 Transitive Closure"
   ]
  },
  {
   "cell_type": "markdown",
   "metadata": {},
   "source": [
    "\n",
    "**Definition**\n",
    "\n",
    "* The **transitive closure** of a directed graph $G$ is a new graph $G^*$ with:\n",
    "\n",
    "  * Same set of vertices.\n",
    "  * Edge $(u, v)$ exists in $G^*$ **iff** there is a directed path from $u$ to $v$ in $G$.\n",
    "* Includes original edges of $G$ and all implied reachability edges.\n",
    "\n",
    "---\n",
    "\n",
    "**Ways to Compute**\n",
    "\n",
    " **1. Using DFS/BFS**\n",
    "\n",
    "* For each vertex $u$, run DFS/BFS to find all reachable vertices $v$.\n",
    "* Insert edges $(u, v)$ into $G^*$.\n",
    "* Complexity:\n",
    "\n",
    "  * Each traversal = $O(n+m)$.\n",
    "  * Total = $O(n(n+m))$.\n",
    "\n",
    "---\n",
    " **2. Using Floyd–Warshall Algorithm**\n",
    "\n",
    "* Works well with adjacency matrix (fast O(1) lookups).\n",
    "* Iteratively adds edges using intermediate vertices.\n",
    "\n",
    "**Algorithm (Pseudo-code, Code Fragment 14.9):**\n",
    "\n",
    "```\n",
    "FloydWarshall(G):\n",
    "  Input: directed graph G with n vertices\n",
    "  Output: transitive closure G*\n",
    "  Number vertices: v1, v2, …, vn\n",
    "  G0 = G\n",
    "  for k = 1 to n do\n",
    "      Gk = Gk−1\n",
    "      for all i, j with i ≠ j and i, j ≠ k do\n",
    "          if (vi, vk) ∈ Gk−1 and (vk, vj) ∈ Gk−1 then\n",
    "              add edge (vi, vj) to Gk\n",
    "  return Gn\n",
    "```\n",
    "\n",
    "**Complexity:**\n",
    "\n",
    "* Outer loop: $n$.\n",
    "* Inner loop: $O(n^2)$.\n",
    "* Total: **O(n³)**.\n",
    "\n",
    "---\n",
    "\n",
    " **Propositions**\n",
    "\n",
    "* **Proposition 14.18**\n",
    "  After round $k$, $G_k$ contains edge $(v_i, v_j)$ iff there exists a path from $v_i$ to $v_j$ using intermediate vertices from $\\{v_1,...,v_k\\}$.\n",
    "  At $G_n$, we get $G^*$.\n",
    "\n",
    "* **Proposition 14.19**\n",
    "  If graph supports O(1) adjacency lookups (e.g., adjacency matrix), Floyd–Warshall computes transitive closure in **O(n³)**.\n",
    "\n",
    "---\n",
    "\n",
    " **Performance Comparison**\n",
    "\n",
    "| Method                       | Works Best With      | Complexity  | Notes                                       |\n",
    "| ---------------------------- | -------------------- | ----------- | ------------------------------------------- |\n",
    "| **DFS/BFS from each vertex** | Adjacency list / map | $O(n(n+m))$ | Best for sparse graphs; repeated traversals |\n",
    "| **Floyd–Warshall**           | Adjacency matrix     | $O(n³)$     | Best for dense graphs; simpler to implement |\n",
    "\n",
    "---\n",
    "\n",
    " **Example (Figure 14.11)**\n",
    "\n",
    "* Shows step-by-step addition of new edges as intermediate vertices are allowed.\n",
    "* New edges appear when path $(v_i, v_k)$ and $(v_k, v_j)$ exist.\n",
    "* By step $n$, closure stabilizes ($G_n = G^*$).\n",
    "\n",
    "---\n",
    "\n",
    " **Python Implementation (Code Fragment 14.10)**\n",
    "\n",
    "```python\n",
    "from copy import deepcopy\n",
    "\n",
    "def floydwarshall(g):\n",
    "    \"\"\"Return a new graph that is the transitive closure of g.\"\"\"\n",
    "    closure = deepcopy(g)\n",
    "    verts = list(closure.vertices())\n",
    "    n = len(verts)\n",
    "    for k in range(n):\n",
    "        for i in range(n):\n",
    "            if i != k and closure.get_edge(verts[i], verts[k]) is not None:\n",
    "                for j in range(n):\n",
    "                    if i != j != k and closure.get_edge(verts[k], verts[j]) is not None:\n",
    "                        if closure.get_edge(verts[i], verts[j]) is None:\n",
    "                            closure.insert_edge(verts[i], verts[j])\n",
    "    return closure\n",
    "```\n",
    "\n",
    "---\n",
    "\n",
    " **Key Insight:**\n",
    "\n",
    "* For **sparse graphs** → repeated DFS/BFS is often faster.\n",
    "* For **dense graphs or matrix representation** → Floyd–Warshall is easier to implement and efficient.\n",
    "\n",
    "---\n"
   ]
  },
  {
   "cell_type": "markdown",
   "metadata": {
    "jp-MarkdownHeadingCollapsed": true
   },
   "source": [
    "\n",
    "\n",
    " **Comparison of Transitive Closure Methods**\n",
    "\n",
    "| **Aspect**                 | **DFS/BFS Approach**                                                        | **Floyd–Warshall Algorithm**                                                              |\n",
    "| -------------------------- | --------------------------------------------------------------------------- | ----------------------------------------------------------------------------------------- |\n",
    "| **Idea**                   | Run DFS/BFS from each vertex to find reachable vertices.                    | Iteratively add edges using intermediate vertices to capture all paths.                   |\n",
    "| **Graph Representation**   | Works best with **Adjacency List / Adjacency Map**.                         | Works best with **Adjacency Matrix**.                                                     |\n",
    "| **Time Complexity**        | $O(n(n+m))$                                                                 | $O(n^3)$                                                                                  |\n",
    "| **Space Complexity**       | $O(n+m)$                                                                    | $O(n^2)$                                                                                  |\n",
    "| **Performance**            | More efficient for **sparse graphs** (when $m \\ll n^2$).                    | More efficient for **dense graphs** (when $m \\approx n^2$).                               |\n",
    "| **Ease of Implementation** | Requires multiple DFS/BFS traversals. More complex bookkeeping.             | Very simple triple-nested loop; easier to implement.                                      |\n",
    "| **Practical Use**          | Better when graph is large but sparse (e.g., road networks, social graphs). | Better when graph is dense or already stored as a matrix (e.g., dense connectivity maps). |\n",
    "| **Output**                 | Builds closure by accumulating reachability edges per source.               | Builds closure round by round until all paths are added.                                  |\n",
    "| **Flexibility**            | Works naturally on any representation that supports traversal.              | Requires efficient **O(1) edge lookup** (matrix preferred).                               |\n",
    "\n",
    "---\n",
    "\n",
    " **Rule of Thumb:**\n",
    "\n",
    "* Use **DFS/BFS** if your graph is **sparse** and stored as adjacency lists/maps.\n",
    "* Use **Floyd–Warshall** if your graph is **dense** or already in adjacency matrix form.\n",
    "\n"
   ]
  },
  {
   "cell_type": "markdown",
   "metadata": {},
   "source": [
    "#### 14.5 Directed Acyclic Graphs"
   ]
  },
  {
   "cell_type": "markdown",
   "metadata": {},
   "source": [
    " **Directed Acyclic Graphs (DAGs) & Topological Sorting**\n",
    "\n",
    " **Key Points**\n",
    "\n",
    "* A **DAG** is a directed graph with **no directed cycles**.\n",
    "* **Applications:**\n",
    "\n",
    "  * Course prerequisites (must take course A before B).\n",
    "  * Inheritance between classes in object-oriented programming.\n",
    "  * Project scheduling (e.g., build foundation → frame walls → add roof).\n",
    "* **Topological Ordering**:\n",
    "  An ordering of vertices $v_1, v_2, …, v_n$ such that for every edge $(v_i, v_j)$, we have $i < j$.\n",
    "\n",
    "  * Equivalent to saying: edges always go **forward** in the order.\n",
    "* **Existence**:\n",
    "  A graph has a topological order **iff** it is acyclic (Proposition 14.21).\n",
    "\n",
    "---\n",
    "\n",
    " **Topological Sorting Algorithm**\n",
    "\n",
    "* Maintains a counter of incoming edges (`incount[v]`) for each vertex.\n",
    "* Initialize `ready` list with all vertices with in-degree = 0.\n",
    "* Repeatedly remove a vertex $u$ from `ready`, append it to the order, and reduce in-degree of neighbors.\n",
    "* If all vertices are ordered → graph is acyclic.\n",
    "  If some remain → graph contains a cycle.\n",
    "\n",
    "**Python Implementation (Code Fragment 14.11):**\n",
    "\n",
    "```python\n",
    "def topological_sort(g):\n",
    "    topo = []        # result list\n",
    "    ready = []       # vertices with no remaining incoming edges\n",
    "    incount = {}     # in-degree map\n",
    "    \n",
    "    for u in g.vertices():\n",
    "        incount[u] = g.degree(u, False)   # incoming degree\n",
    "        if incount[u] == 0:\n",
    "            ready.append(u)\n",
    "    \n",
    "    while len(ready) > 0:\n",
    "        u = ready.pop()\n",
    "        topo.append(u)\n",
    "        for e in g.incident_edges(u):\n",
    "            v = e.opposite(u)\n",
    "            incount[v] -= 1\n",
    "            if incount[v] == 0:\n",
    "                ready.append(v)\n",
    "    \n",
    "    return topo\n",
    "```\n",
    "\n",
    "---\n",
    "\n",
    " **Performance**\n",
    "\n",
    "* With adjacency list representation:\n",
    "\n",
    "  * **Time Complexity**: $O(n+m)$, where $n$ = vertices, $m$ = edges.\n",
    "  * **Space Complexity**: $O(n)$ (for `topo`, `ready`, and `incount`).\n",
    "\n",
    "---\n",
    "\n",
    " **Comparison Table**\n",
    "\n",
    "| **Aspect**       | **DAG**                                             | **Topological Sorting**                                                        |\n",
    "| ---------------- | --------------------------------------------------- | ------------------------------------------------------------------------------ |\n",
    "| **Definition**   | Directed graph with **no directed cycles**.         | Ordering of vertices where all edges go **from earlier → later** in the order. |\n",
    "| **Applications** | Prerequisites, class inheritance, scheduling tasks. | Producing valid execution order, cycle detection.                              |\n",
    "| **Existence**    | Exists iff the graph is acyclic.                    | Always possible if graph is acyclic.                                           |\n",
    "| **Algorithm**    | N/A (property of the graph).                        | Use in-degree counters & iterative removal of zero in-degree vertices.         |\n",
    "| **Output**       | Graph structure (no cycles).                        | A list of vertices in valid topological order.                                 |\n",
    "| **Complexity**   | Checking acyclicity requires traversal.             | $O(n+m)$ time, $O(n)$ space.                                                   |\n",
    "| **Failure Case** | Contains cycles.                                    | Algorithm produces incomplete order (cycle detected).                          |\n",
    "\n"
   ]
  },
  {
   "cell_type": "markdown",
   "metadata": {},
   "source": [
    "#### 14.6 Shortest Paths"
   ]
  },
  {
   "cell_type": "markdown",
   "metadata": {},
   "source": [
    "\n",
    " **1. Weighted Graphs**\n",
    "\n",
    "* Each edge $e$ has a weight $w(e)$.\n",
    "* Path weight = sum of edge weights along the path.\n",
    "* Distance $d(u,v)$ = minimum path weight from $u$ to $v$.\n",
    "* Issues:\n",
    "\n",
    "  * If no path → $d(u,v) = \\infty$.\n",
    "  * If negative-weight cycles exist → distances undefined.\n",
    "\n",
    "---\n",
    "\n",
    " **2. BFS vs Weighted Shortest Paths**\n",
    "\n",
    "* **BFS** → works only when all edge weights are equal (e.g., weight = 1).\n",
    "* **Weighted Graphs** → require specialized algorithms (since edges differ).\n",
    "\n",
    "---\n",
    "\n",
    " **3. Dijkstra’s Algorithm**\n",
    "\n",
    "* Works for **nonnegative edge weights**.\n",
    "\n",
    "* Greedy strategy:\n",
    "\n",
    "  * Maintain labels $D[v]$ (best known distance from source).\n",
    "  * Start with $D[s] = 0, D[v] = \\infty$ for all other $v$.\n",
    "  * Repeatedly “pull” the vertex with the smallest $D[v]$ into the **cloud** (confirmed set).\n",
    "  * Relax all outgoing edges:\n",
    "\n",
    "    $$\n",
    "    \\text{if } D[u] + w(u,v) < D[v], \\quad D[v] = D[u] + w(u,v)\n",
    "    $$\n",
    "\n",
    "* **Correctness**: When a vertex enters the cloud, its label is finalized as the shortest distance.\n",
    "\n",
    "---\n",
    "\n",
    " **4. Running Time Analysis**\n",
    "\n",
    "Depends on how we implement the **priority queue (Q):**\n",
    "\n",
    "| **Implementation of Q** | **remove\\_min** | **update**       | **Overall Complexity** |\n",
    "| ----------------------- | --------------- | ---------------- | ---------------------- |\n",
    "| **Heap (binary heap)**  | $O(\\log n)$     | $O(\\log n)$      | $O((n+m)\\log n)$       |\n",
    "| **Unsorted sequence**   | $O(n)$          | $O(1)$           | $O(n^2)$               |\n",
    "| **Fibonacci heap**      | $O(\\log n)$     | $O(1)$ amortized | $O(m + n \\log n)$      |\n",
    "\n",
    "* Use **heap** for sparse graphs ($m < n^2/\\log n$).\n",
    "* Use **unsorted sequence** for dense graphs ($m > n^2/\\log n$).\n",
    "\n",
    "---\n",
    "\n",
    " **5. Python Implementation**\n",
    "\n",
    "* `shortest_path_lengths(g, src)` → returns dictionary of distances from `src`.\n",
    "* Uses `AdaptableHeapPriorityQueue` for efficient updates.\n",
    "* `shortest_path_tree(g, s, d)` → reconstructs shortest path tree from distances.\n",
    "\n",
    "---\n",
    "\n",
    " **Comparison Table**\n",
    "\n",
    "| **Aspect**                    | **BFS (Unweighted)**                        | **Dijkstra’s Algorithm (Weighted, no negatives)** |\n",
    "| ----------------------------- | ------------------------------------------- | ------------------------------------------------- |\n",
    "| **Edge Weights**              | All equal (e.g., = 1)                       | Nonnegative, can differ                           |\n",
    "| **Approach**                  | Layered traversal (levels)                  | Greedy “cloud expansion” with edge relaxation     |\n",
    "| **Correctness**               | Finds shortest paths in terms of edge count | Finds shortest paths in terms of total weight     |\n",
    "| **Data Structures**           | Queue (FIFO)                                | Priority queue (heap or alternative)              |\n",
    "| **Time Complexity**           | $O(n+m)$                                    | $O((n+m)\\log n)$ with heap, $O(n^2)$ with array   |\n",
    "| **Space Complexity**          | $O(n+m)$                                    | $O(n+m)$                                          |\n",
    "| **Handles Negative Weights?** | Not relevant (all 1)                        | ❌ No (fails with negative edges)                  |\n",
    "| **Output**                    | Shortest path tree (minimum edges)          | Shortest path tree (minimum total weight)         |\n"
   ]
  },
  {
   "cell_type": "markdown",
   "metadata": {},
   "source": [
    "#### 14.7 Minimum Spanning Trees"
   ]
  },
  {
   "cell_type": "markdown",
   "metadata": {},
   "source": [
    "**Minimum Spanning Trees (MSTs)**\n",
    "\n",
    " **Definition**\n",
    "\n",
    "* Input: undirected, weighted, connected graph $G = (V, E)$.\n",
    "* Goal: find a spanning tree $T \\subseteq E$ that:\n",
    "\n",
    "  * Connects **all vertices**.\n",
    "  * Minimizes the total weight $w(T) = \\sum_{(u,v) \\in T} w(u,v)$.\n",
    "* Applications: network design (cables, pipelines, roads), clustering, approximation algorithms.\n",
    "\n",
    "---\n",
    "\n",
    " **Crucial Fact (Cut Property)**\n",
    "\n",
    "For any cut (partition of vertices into $V_1, V_2$):\n",
    "\n",
    "* The **minimum-weight edge** crossing the cut belongs to *some* MST.\n",
    "* This is the foundation for both **Prim-Jarník** and **Kruskal’s** algorithms.\n",
    "\n",
    "---\n",
    "\n",
    " **1. Prim-Jarník Algorithm**\n",
    "\n",
    "* Start with **one vertex** (root).\n",
    "* Grow the MST like Dijkstra’s cloud:\n",
    "\n",
    "  * Keep a set $C$ of vertices already in the tree.\n",
    "  * At each step, add the **minimum edge** from a vertex in $C$ to a vertex outside.\n",
    "* Implementation:\n",
    "\n",
    "  * Maintain key $D[v]$ = lightest edge connecting $v$ to tree.\n",
    "  * Use **priority queue** keyed by $D[v]$.\n",
    "* Complexity:\n",
    "\n",
    "  * With binary heap → $O((n+m)\\log n)$.\n",
    "  * With array → $O(n^2)$.\n",
    "\n",
    "---\n",
    "\n",
    " **2. Kruskal’s Algorithm**\n",
    "\n",
    "* Start with each vertex as its own cluster (forest).\n",
    "* Process all edges in **sorted order** by weight.\n",
    "* For each edge $(u,v)$:\n",
    "\n",
    "  * If $u, v$ are in different clusters → **add edge** and **union clusters**.\n",
    "  * If they’re in the same cluster → skip (would form cycle).\n",
    "* Uses **disjoint-set (union–find)** to manage clusters efficiently.\n",
    "* Complexity:\n",
    "\n",
    "  * Sorting edges: $O(m \\log m) = O(m \\log n)$.\n",
    "  * Union-Find ops: almost $O(1)$ each with path compression.\n",
    "  * Total: $O(m \\log n)$.\n",
    "\n",
    "---\n",
    "**Comparison Table: Prim-Jarník vs Kruskal**\n",
    "\n",
    "| **Aspect**                    | **Prim-Jarník**                                                      | **Kruskal**                                                |\n",
    "| ----------------------------- | -------------------------------------------------------------------- | ---------------------------------------------------------- |\n",
    "| **Strategy**                  | Grows MST from a root, always adding cheapest edge to outside vertex | Builds MST by merging clusters via lightest available edge |\n",
    "| **Initialization**            | Start with 1 vertex (cloud)                                          | Start with n singleton clusters                            |\n",
    "| **Data Structures**           | Priority queue (min-heap) for vertex keys                            | Priority queue / sort edges + Union-Find (disjoint sets)   |\n",
    "| **Edge Selection**            | Local: picks cheapest edge incident to current tree                  | Global: picks next cheapest edge overall                   |\n",
    "| **Works Best For**            | Dense graphs (many edges)                                            | Sparse graphs (fewer edges)                                |\n",
    "| **Complexity**                | $O((n+m)\\log n)$ with heap; $O(n^2)$ with array                      | $O(m \\log n)$ (dominated by sorting)                       |\n",
    "| **Output Order**              | Edges added in tree-growth order                                     | Edges returned in sorted weight order                      |\n",
    "| **Similar To**                | Dijkstra’s algorithm (greedy cloud expansion)                        | Greedy clustering / disjoint sets                          |\n",
    "| **Implementation Difficulty** | Priority queue only                                                  | Needs both sorting + Union-Find                            |\n",
    "\n",
    "---\n",
    "\n",
    " **Key takeaway**:\n",
    "\n",
    "* Use **Prim’s** when the graph is dense and you want to grow from a single source.\n",
    "* Use **Kruskal’s** when the graph is sparse and edge-sorting dominates.\n"
   ]
  },
  {
   "cell_type": "markdown",
   "metadata": {
    "jp-MarkdownHeadingCollapsed": true
   },
   "source": [
    "# Key Takeaways "
   ]
  },
  {
   "cell_type": "markdown",
   "metadata": {
    "jp-MarkdownHeadingCollapsed": true
   },
   "source": [
    "\n",
    " **Data Structures & Algorithms in Python – Master Summary Table**\n",
    "\n",
    "| **Topic**                         | **Key Ideas**                                             | **Best Structures/Algorithms**                                                                           | **Complexity Highlights**                                                | **Big Takeaways**                                                             |\n",
    "| --------------------------------- | --------------------------------------------------------- | -------------------------------------------------------------------------------------------------------- | ------------------------------------------------------------------------ | ----------------------------------------------------------------------------- |\n",
    "| **Analysis & Foundations**        | Big-O, Ω, Θ; recursion; amortized analysis                | Recursion trees, iterative substitution, array resizing                                                  | Depends on structure; e.g., dynamic array append = O(1) amortized        | If you can’t analyze runtime, you don’t understand the algorithm.             |\n",
    "| **Arrays vs Linked Lists**        | Arrays = random access; Linked lists = fast insert/delete | Python list (dynamic array), Singly/Doubly Linked List                                                   | Array indexing O(1), insert O(n); Linked insert O(1), search O(n)        | Choose based on access vs modification patterns.                              |\n",
    "| **Stacks & Queues**               | Restricted linear structures                              | Stack (LIFO), Queue (FIFO), Deque (double-ended)                                                         | Push/pop O(1), enqueue/dequeue O(1)                                      | Perfect for managing order (function calls, task scheduling).                 |\n",
    "| **Priority Queues**               | Always extract min/max efficiently                        | Heap (binary heap), Sorted List, Unsorted List                                                           | Heap: insert O(log n), extract-min O(log n)                              | Basis for Dijkstra, Prim, scheduling.                                         |\n",
    "| **Maps & Hashing**                | Store key–value pairs                                     | Hash Tables (dict, set), Balanced Trees                                                                  | Hash avg O(1), worst O(n); Trees O(log n)                                | Hash = speed, Tree = order.                                                   |\n",
    "| **Trees**                         | Hierarchical structures; parent/child                     | General Trees, Binary Trees, Binary Search Trees (BST)                                                   | BST: search O(log n) avg, O(n) worst; Balanced trees O(log n) guaranteed | Trees = universal structure (filesystems, parsing, search).                   |\n",
    "| **Balanced Trees**                | Maintain logarithmic depth                                | AVL, Red-Black, 2-4, B-Trees                                                                             | All ops O(log n)                                                         | Guarantee efficiency vs worst-case BST.                                       |\n",
    "| **Heaps**                         | Specialized binary tree for PQ                            | Binary Heap                                                                                              | Insert O(log n), delete-min O(log n), build O(n)                         | Core of HeapSort, PQs, scheduling.                                            |\n",
    "| **Tries**                         | Prefix-based storage for strings                          | Trie, Compressed Trie                                                                                    | Search O(k) (string length)                                              | Used in autocomplete, IP routing, dictionaries.                               |\n",
    "| **Sorting**                       | Organize elements efficiently                             | MergeSort (stable, O(n log n)), QuickSort (avg O(n log n), worst O(n²)), HeapSort (O(n log n), in-place) | Linear sorts: Counting/Radix/Bucket O(n+k) special cases                 | Sorting = foundation for searching & data pipelines.                          |\n",
    "| **Graphs**                        | Model relationships (networks, maps)                      | Representations: Edge List, Adjacency List, Adjacency Map, Adjacency Matrix                              | BFS O(n+m), DFS O(n+m), get edge O(1) with matrix                        | Graph choice depends on density: sparse → list/map; dense → matrix.           |\n",
    "| **Graph Traversals**              | Explore reachability                                      | DFS (explore deeply), BFS (layered search)                                                               | DFS/BFS O(n+m)                                                           | DFS good for cycles/connectivity; BFS guarantees shortest path in unweighted. |\n",
    "| **Transitive Closure**            | Precompute reachability                                   | Floyd-Warshall O(n³), DFS from each node O(n(n+m))                                                       | Depends on representation                                                | Floyd-Warshall = simple, matrix-friendly; DFS better on sparse graphs.        |\n",
    "| **DAGs & Topological Sort**       | Order vertices without cycles                             | Topological Sort                                                                                         | O(n+m)                                                                   | DAGs model tasks, prerequisites, scheduling.                                  |\n",
    "| **Shortest Paths**                | Find min-weight paths                                     | BFS (unweighted), Dijkstra (nonnegative weights), Bellman-Ford (handles negatives)                       | Dijkstra with heap: O((n+m) log n)                                       | Greedy + relaxation works if no negative weights.                             |\n",
    "| **Minimum Spanning Trees (MSTs)** | Connect all vertices with min weight                      | Prim-Jarník (grow from root), Kruskal (add edges by weight)                                              | Both O(m log n)                                                          | Basis of network design, clustering.                                          |\n",
    "| **Disjoint Sets (Union-Find)**    | Manage groups efficiently                                 | Partition (Union-Find with path compression + union-by-size)                                             | Amortized O(α(n)) \\~ constant                                            | Essential for Kruskal’s MST; nearly O(1) operations.                          |\n",
    "| **Algorithm Design Patterns**     | Systematic approaches                                     | Greedy, Divide & Conquer, Dynamic Programming, Backtracking                                              | Greedy = local best; D\\&C = split problems; DP = reuse subproblems       | Recognize which pattern matches problem.                                      |\n",
    "\n",
    "---\n",
    "\n",
    " **Ultimate Takeaways**\n",
    "\n",
    "* **Data structures = trade-offs** (access vs update vs order vs space).\n",
    "* **Graphs are the most powerful abstraction** (everything is a network).\n",
    "* **Sorting & Searching = core** — mastery here transfers everywhere.\n",
    "* **Greedy, Divide & Conquer, and DP** are universal design mindsets.\n",
    "* **Union-Find, Heaps, and Hashing** are hidden inside almost every modern system.\n",
    "* **Algorithm analysis** is not optional — it’s the language of efficiency.\n"
   ]
  },
  {
   "cell_type": "markdown",
   "metadata": {
    "jp-MarkdownHeadingCollapsed": true
   },
   "source": [
    "# Youtube Videos For Clarity Over Various Topics"
   ]
  },
  {
   "cell_type": "markdown",
   "metadata": {},
   "source": [
    "### Big O 😎"
   ]
  },
  {
   "cell_type": "markdown",
   "metadata": {},
   "source": [
    "[Learn Big O notation in 6 minutes](https://www.youtube.com/watch?v=XMUe3zFhM5c&t=232s)\n",
    "\n",
    "[Big O Notation - Code Examples](https://www.youtube.com/watch?v=CB8JPjg_3cM)\n",
    "\n",
    "[Big O Notation (Solved Problems) - Set 1](https://www.youtube.com/watch?v=PQG0PrgeV4E)\n",
    "\n",
    "[Big O Notation (Solved Problems) - Set 2](https://www.youtube.com/watch?v=OxzbV_JDRFY)\n",
    "\n",
    "[Big O Notation (Solved Problems) - Set 3](https://www.youtube.com/watch?v=wXcGaiRTAzE)\n",
    "\n",
    "[Big O Notation (Solved Problems) - Set 4](https://www.youtube.com/watch?v=zQclH7oDH2k)\n",
    "\n",
    "[Common Big O Runtimes](https://www.youtube.com/watch?v=9a7ZG-vftSU)"
   ]
  },
  {
   "cell_type": "markdown",
   "metadata": {},
   "source": [
    "### Recursion"
   ]
  },
  {
   "cell_type": "markdown",
   "metadata": {},
   "source": [
    "[Recursion Simply Explained with Code Examples](https://www.youtube.com/watch?v=m1Fjdnj_Mds)\n",
    "\n",
    "[Python: RECURSION Explained](https://www.youtube.com/watch?v=wMNrSM5RFMc)\n",
    "\n",
    "[Recursion for Python Beginners with Recursive Function Examples](https://www.youtube.com/watch?v=72uVUU1boKo)\n"
   ]
  },
  {
   "cell_type": "markdown",
   "metadata": {},
   "source": [
    "### Python Arrays"
   ]
  },
  {
   "cell_type": "markdown",
   "metadata": {},
   "source": [
    "[Array in Python](https://www.youtube.com/watch?v=6a39OjkCN5I)\n",
    "\n",
    "[\n",
    "Python Lists vs Arrays](https://www.youtube.com/watch?v=2vmvtxHVPJI\n",
    ")[Static Arrays, Dynamic Arrays, and Strings](https://www.youtube.com/watchv=TQMvBTKn2p0&list=PLKYEe2WisBTGq9T0wPulXz1otUsVeOGey&index=3))"
   ]
  },
  {
   "cell_type": "markdown",
   "metadata": {},
   "source": [
    "### Stacks Queues Dequeues, Heaps & Priority Queues"
   ]
  },
  {
   "cell_type": "markdown",
   "metadata": {},
   "source": [
    "[Stacks & Queues - DSA Course in Python](https://www.youtube.com/watch?v=vOx3vY1w4tM)\n",
    "\n",
    "[Stacks and Queues (Python) - Data Structures and Algorithms](https://www.youtube.com/watch?v=IxQHWt0GpsU)\n",
    "\n",
    "[Heaps & Priority Queues - Heapify, Heap Sort, Heapq Library ](https://www.youtube.com/watch?v=E2v9hBgG6gE)"
   ]
  },
  {
   "cell_type": "markdown",
   "metadata": {},
   "source": [
    "### Maps, Hashtables, and Skip Lists"
   ]
  },
  {
   "cell_type": "markdown",
   "metadata": {},
   "source": [
    "[Hash Tables: Hash Functions, Sets, & Maps](https://www.youtube.com/watch?v=iZyxNEBpqFY)\n"
   ]
  },
  {
   "cell_type": "markdown",
   "metadata": {},
   "source": [
    "### Tress, Binary Trees, Search Trees, Binary Search"
   ]
  },
  {
   "cell_type": "markdown",
   "metadata": {},
   "source": [
    "[Binary Search - Traditional + Condition Based](https://www.youtube.com/watch?v=9nmrkG6QtpQ&list=PLKYEe2WisBTGq9T0wPulXz1otUsVeOGey&index=8)\n",
    "\n",
    "\n",
    "[Binary Trees & Binary Search Trees](https://www.youtube.com/watch?v=EPwWrs8OtfI&list=PLKYEe2WisBTGq9T0wPulXz1otUsVeOGey&index=9)\n",
    "\n"
   ]
  },
  {
   "cell_type": "markdown",
   "metadata": {},
   "source": [
    "### Soritng and Selection Algorithms "
   ]
  },
  {
   "cell_type": "markdown",
   "metadata": {},
   "source": [
    "[Sorting: Bubble, Insertion, Selection, Merge, Quick, Counting Sort](https://www.youtube.com/watch?v=gcRUIO-8r3U&list=PLKYEe2WisBTGq9T0wPulXz1otUsVeOGey&index=11)\n"
   ]
  },
  {
   "cell_type": "markdown",
   "metadata": {},
   "source": [
    "### Graph Algorithms"
   ]
  },
  {
   "cell_type": "markdown",
   "metadata": {},
   "source": [
    "[Graphs: Edge List, Adjacency Matrix, Adjacency List, DFS, BFS](https://www.youtube.com/watch?v=4jyESQDrpls&list=PLKYEe2WisBTGq9T0wPulXz1otUsVeOGey&index=12)\n"
   ]
  },
  {
   "cell_type": "code",
   "execution_count": null,
   "metadata": {},
   "outputs": [],
   "source": []
  },
  {
   "cell_type": "code",
   "execution_count": null,
   "metadata": {},
   "outputs": [],
   "source": []
  },
  {
   "cell_type": "code",
   "execution_count": null,
   "metadata": {},
   "outputs": [],
   "source": []
  },
  {
   "cell_type": "code",
   "execution_count": null,
   "metadata": {},
   "outputs": [],
   "source": []
  },
  {
   "cell_type": "code",
   "execution_count": null,
   "metadata": {},
   "outputs": [],
   "source": []
  },
  {
   "cell_type": "code",
   "execution_count": null,
   "metadata": {},
   "outputs": [],
   "source": []
  },
  {
   "cell_type": "code",
   "execution_count": null,
   "metadata": {},
   "outputs": [],
   "source": []
  },
  {
   "cell_type": "code",
   "execution_count": null,
   "metadata": {},
   "outputs": [],
   "source": []
  },
  {
   "cell_type": "code",
   "execution_count": null,
   "metadata": {},
   "outputs": [],
   "source": []
  },
  {
   "cell_type": "code",
   "execution_count": null,
   "metadata": {},
   "outputs": [],
   "source": []
  },
  {
   "cell_type": "code",
   "execution_count": null,
   "metadata": {},
   "outputs": [],
   "source": []
  },
  {
   "cell_type": "code",
   "execution_count": null,
   "metadata": {},
   "outputs": [],
   "source": []
  },
  {
   "cell_type": "code",
   "execution_count": null,
   "metadata": {},
   "outputs": [],
   "source": []
  },
  {
   "cell_type": "code",
   "execution_count": null,
   "metadata": {},
   "outputs": [],
   "source": []
  },
  {
   "cell_type": "code",
   "execution_count": null,
   "metadata": {},
   "outputs": [],
   "source": []
  },
  {
   "cell_type": "code",
   "execution_count": null,
   "metadata": {},
   "outputs": [],
   "source": []
  },
  {
   "cell_type": "code",
   "execution_count": null,
   "metadata": {},
   "outputs": [],
   "source": []
  },
  {
   "cell_type": "code",
   "execution_count": null,
   "metadata": {},
   "outputs": [],
   "source": []
  },
  {
   "cell_type": "code",
   "execution_count": null,
   "metadata": {},
   "outputs": [],
   "source": []
  },
  {
   "cell_type": "code",
   "execution_count": null,
   "metadata": {},
   "outputs": [],
   "source": []
  },
  {
   "cell_type": "code",
   "execution_count": null,
   "metadata": {},
   "outputs": [],
   "source": []
  },
  {
   "cell_type": "code",
   "execution_count": null,
   "metadata": {},
   "outputs": [],
   "source": []
  },
  {
   "cell_type": "code",
   "execution_count": null,
   "metadata": {},
   "outputs": [],
   "source": []
  },
  {
   "cell_type": "code",
   "execution_count": null,
   "metadata": {},
   "outputs": [],
   "source": []
  },
  {
   "cell_type": "code",
   "execution_count": null,
   "metadata": {},
   "outputs": [],
   "source": []
  },
  {
   "cell_type": "code",
   "execution_count": null,
   "metadata": {},
   "outputs": [],
   "source": []
  },
  {
   "cell_type": "code",
   "execution_count": null,
   "metadata": {},
   "outputs": [],
   "source": []
  },
  {
   "cell_type": "code",
   "execution_count": null,
   "metadata": {},
   "outputs": [],
   "source": []
  },
  {
   "cell_type": "code",
   "execution_count": null,
   "metadata": {},
   "outputs": [],
   "source": []
  },
  {
   "cell_type": "code",
   "execution_count": null,
   "metadata": {},
   "outputs": [],
   "source": []
  },
  {
   "cell_type": "code",
   "execution_count": null,
   "metadata": {},
   "outputs": [],
   "source": []
  },
  {
   "cell_type": "code",
   "execution_count": null,
   "metadata": {},
   "outputs": [],
   "source": []
  },
  {
   "cell_type": "code",
   "execution_count": null,
   "metadata": {},
   "outputs": [],
   "source": []
  },
  {
   "cell_type": "code",
   "execution_count": null,
   "metadata": {},
   "outputs": [],
   "source": []
  },
  {
   "cell_type": "code",
   "execution_count": null,
   "metadata": {},
   "outputs": [],
   "source": []
  },
  {
   "cell_type": "code",
   "execution_count": null,
   "metadata": {},
   "outputs": [],
   "source": []
  },
  {
   "cell_type": "code",
   "execution_count": null,
   "metadata": {},
   "outputs": [],
   "source": []
  },
  {
   "cell_type": "code",
   "execution_count": null,
   "metadata": {},
   "outputs": [],
   "source": []
  },
  {
   "cell_type": "code",
   "execution_count": null,
   "metadata": {},
   "outputs": [],
   "source": []
  },
  {
   "cell_type": "code",
   "execution_count": null,
   "metadata": {},
   "outputs": [],
   "source": []
  },
  {
   "cell_type": "code",
   "execution_count": null,
   "metadata": {},
   "outputs": [],
   "source": []
  },
  {
   "cell_type": "code",
   "execution_count": null,
   "metadata": {},
   "outputs": [],
   "source": []
  },
  {
   "cell_type": "code",
   "execution_count": null,
   "metadata": {},
   "outputs": [],
   "source": []
  },
  {
   "cell_type": "code",
   "execution_count": null,
   "metadata": {},
   "outputs": [],
   "source": []
  },
  {
   "cell_type": "code",
   "execution_count": null,
   "metadata": {},
   "outputs": [],
   "source": []
  },
  {
   "cell_type": "code",
   "execution_count": null,
   "metadata": {},
   "outputs": [],
   "source": []
  },
  {
   "cell_type": "code",
   "execution_count": null,
   "metadata": {},
   "outputs": [],
   "source": []
  },
  {
   "cell_type": "code",
   "execution_count": null,
   "metadata": {},
   "outputs": [],
   "source": []
  },
  {
   "cell_type": "code",
   "execution_count": null,
   "metadata": {},
   "outputs": [],
   "source": []
  },
  {
   "cell_type": "code",
   "execution_count": null,
   "metadata": {},
   "outputs": [],
   "source": []
  },
  {
   "cell_type": "code",
   "execution_count": null,
   "metadata": {},
   "outputs": [],
   "source": []
  },
  {
   "cell_type": "code",
   "execution_count": null,
   "metadata": {},
   "outputs": [],
   "source": []
  },
  {
   "cell_type": "code",
   "execution_count": null,
   "metadata": {},
   "outputs": [],
   "source": []
  },
  {
   "cell_type": "code",
   "execution_count": null,
   "metadata": {},
   "outputs": [],
   "source": []
  },
  {
   "cell_type": "code",
   "execution_count": null,
   "metadata": {},
   "outputs": [],
   "source": []
  },
  {
   "cell_type": "code",
   "execution_count": null,
   "metadata": {},
   "outputs": [],
   "source": []
  },
  {
   "cell_type": "code",
   "execution_count": null,
   "metadata": {},
   "outputs": [],
   "source": []
  },
  {
   "cell_type": "code",
   "execution_count": null,
   "metadata": {},
   "outputs": [],
   "source": []
  },
  {
   "cell_type": "code",
   "execution_count": null,
   "metadata": {},
   "outputs": [],
   "source": []
  },
  {
   "cell_type": "code",
   "execution_count": null,
   "metadata": {},
   "outputs": [],
   "source": []
  },
  {
   "cell_type": "code",
   "execution_count": null,
   "metadata": {},
   "outputs": [],
   "source": []
  },
  {
   "cell_type": "code",
   "execution_count": null,
   "metadata": {},
   "outputs": [],
   "source": []
  },
  {
   "cell_type": "code",
   "execution_count": null,
   "metadata": {},
   "outputs": [],
   "source": []
  },
  {
   "cell_type": "code",
   "execution_count": null,
   "metadata": {},
   "outputs": [],
   "source": []
  },
  {
   "cell_type": "code",
   "execution_count": null,
   "metadata": {},
   "outputs": [],
   "source": []
  },
  {
   "cell_type": "code",
   "execution_count": null,
   "metadata": {},
   "outputs": [],
   "source": []
  },
  {
   "cell_type": "code",
   "execution_count": null,
   "metadata": {},
   "outputs": [],
   "source": []
  },
  {
   "cell_type": "code",
   "execution_count": null,
   "metadata": {},
   "outputs": [],
   "source": []
  },
  {
   "cell_type": "code",
   "execution_count": null,
   "metadata": {},
   "outputs": [],
   "source": []
  },
  {
   "cell_type": "code",
   "execution_count": null,
   "metadata": {},
   "outputs": [],
   "source": []
  },
  {
   "cell_type": "code",
   "execution_count": null,
   "metadata": {},
   "outputs": [],
   "source": []
  },
  {
   "cell_type": "code",
   "execution_count": null,
   "metadata": {},
   "outputs": [],
   "source": []
  },
  {
   "cell_type": "code",
   "execution_count": null,
   "metadata": {},
   "outputs": [],
   "source": []
  },
  {
   "cell_type": "code",
   "execution_count": null,
   "metadata": {},
   "outputs": [],
   "source": []
  },
  {
   "cell_type": "code",
   "execution_count": null,
   "metadata": {},
   "outputs": [],
   "source": []
  },
  {
   "cell_type": "code",
   "execution_count": null,
   "metadata": {},
   "outputs": [],
   "source": []
  },
  {
   "cell_type": "code",
   "execution_count": null,
   "metadata": {},
   "outputs": [],
   "source": []
  },
  {
   "cell_type": "code",
   "execution_count": null,
   "metadata": {},
   "outputs": [],
   "source": []
  },
  {
   "cell_type": "code",
   "execution_count": null,
   "metadata": {},
   "outputs": [],
   "source": []
  },
  {
   "cell_type": "code",
   "execution_count": null,
   "metadata": {},
   "outputs": [],
   "source": []
  },
  {
   "cell_type": "code",
   "execution_count": null,
   "metadata": {},
   "outputs": [],
   "source": []
  },
  {
   "cell_type": "code",
   "execution_count": null,
   "metadata": {},
   "outputs": [],
   "source": []
  },
  {
   "cell_type": "code",
   "execution_count": null,
   "metadata": {},
   "outputs": [],
   "source": []
  },
  {
   "cell_type": "code",
   "execution_count": null,
   "metadata": {},
   "outputs": [],
   "source": []
  },
  {
   "cell_type": "code",
   "execution_count": null,
   "metadata": {},
   "outputs": [],
   "source": []
  },
  {
   "cell_type": "code",
   "execution_count": null,
   "metadata": {},
   "outputs": [],
   "source": []
  },
  {
   "cell_type": "code",
   "execution_count": null,
   "metadata": {},
   "outputs": [],
   "source": []
  },
  {
   "cell_type": "code",
   "execution_count": null,
   "metadata": {},
   "outputs": [],
   "source": []
  },
  {
   "cell_type": "code",
   "execution_count": null,
   "metadata": {},
   "outputs": [],
   "source": []
  },
  {
   "cell_type": "code",
   "execution_count": null,
   "metadata": {},
   "outputs": [],
   "source": []
  },
  {
   "cell_type": "code",
   "execution_count": null,
   "metadata": {},
   "outputs": [],
   "source": []
  },
  {
   "cell_type": "code",
   "execution_count": null,
   "metadata": {},
   "outputs": [],
   "source": []
  },
  {
   "cell_type": "code",
   "execution_count": null,
   "metadata": {},
   "outputs": [],
   "source": []
  },
  {
   "cell_type": "code",
   "execution_count": null,
   "metadata": {},
   "outputs": [],
   "source": []
  },
  {
   "cell_type": "code",
   "execution_count": null,
   "metadata": {},
   "outputs": [],
   "source": []
  }
 ],
 "metadata": {
  "kernelspec": {
   "display_name": "Python [conda env:base] *",
   "language": "python",
   "name": "conda-base-py"
  },
  "language_info": {
   "codemirror_mode": {
    "name": "ipython",
    "version": 3
   },
   "file_extension": ".py",
   "mimetype": "text/x-python",
   "name": "python",
   "nbconvert_exporter": "python",
   "pygments_lexer": "ipython3",
   "version": "3.12.4"
  }
 },
 "nbformat": 4,
 "nbformat_minor": 4
}
