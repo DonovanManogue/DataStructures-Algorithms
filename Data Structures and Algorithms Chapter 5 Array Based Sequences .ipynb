{
 "cells": [
  {
   "cell_type": "markdown",
   "id": "c6de8e97-4e45-47e2-9cbf-7b274a9c696a",
   "metadata": {},
   "source": [
    "# Data Structures & Algorithms Chapter 5 Array-Based Sequences\n",
    "## Donovan Manogue"
   ]
  },
  {
   "cell_type": "markdown",
   "id": "ebb60296-33e8-48db-80ce-6995bb99649a",
   "metadata": {},
   "source": [
    "### Reinforcement Exercises R4.1-4.8"
   ]
  },
  {
   "cell_type": "markdown",
   "id": "9afe7f57-16a2-4803-b942-f2491f6dabdb",
   "metadata": {},
   "source": [
    "### Code Fragments from this chapter!"
   ]
  },
  {
   "cell_type": "markdown",
   "id": "0f3b0ae3-a2f6-48cf-8406-9321e9a8389b",
   "metadata": {},
   "source": [
    "CodeFragment5.1: An experiment to explore the relationship between a list’s\n",
    " length and its under lying size in Python"
   ]
  },
  {
   "cell_type": "code",
   "execution_count": 5,
   "id": "58df849f-2329-41b2-8d96-21b1f97efe28",
   "metadata": {},
   "outputs": [
    {
     "name": "stdout",
     "output_type": "stream",
     "text": [
      "Length:   0; Size in bytes:   56\n",
      "Length:   1; Size in bytes:   88\n",
      "Length:   2; Size in bytes:   88\n",
      "Length:   3; Size in bytes:   88\n",
      "Length:   4; Size in bytes:   88\n",
      "Length:   5; Size in bytes:  120\n",
      "Length:   6; Size in bytes:  120\n",
      "Length:   7; Size in bytes:  120\n",
      "Length:   8; Size in bytes:  120\n",
      "Length:   9; Size in bytes:  184\n",
      "Length:  10; Size in bytes:  184\n",
      "Length:  11; Size in bytes:  184\n",
      "Length:  12; Size in bytes:  184\n",
      "Length:  13; Size in bytes:  184\n",
      "Length:  14; Size in bytes:  184\n",
      "Length:  15; Size in bytes:  184\n",
      "Length:  16; Size in bytes:  184\n",
      "Length:  17; Size in bytes:  248\n",
      "Length:  18; Size in bytes:  248\n",
      "Length:  19; Size in bytes:  248\n",
      "Length:  20; Size in bytes:  248\n",
      "Length:  21; Size in bytes:  248\n",
      "Length:  22; Size in bytes:  248\n",
      "Length:  23; Size in bytes:  248\n",
      "Length:  24; Size in bytes:  248\n",
      "Length:  25; Size in bytes:  312\n",
      "Length:  26; Size in bytes:  312\n",
      "Length:  27; Size in bytes:  312\n",
      "Length:  28; Size in bytes:  312\n",
      "Length:  29; Size in bytes:  312\n"
     ]
    }
   ],
   "source": [
    "import sys  # provides getsizeof function\n",
    "\n",
    "data = []\n",
    "n = 30  # <- you can change this number to explore further\n",
    "\n",
    "for k in range(n):\n",
    "    a = len(data)                  # number of elements in list\n",
    "    b = sys.getsizeof(data)        # size in bytes of the list object\n",
    "    print(\"Length: {0:3d}; Size in bytes: {1:4d}\".format(a, b))\n",
    "    data.append(None)              # increase length by one (placeholder)\n",
    "# Code Fragment 2 is the output below"
   ]
  },
  {
   "cell_type": "markdown",
   "id": "5c0c6aed-bc68-45cb-9f41-94d68bf26e89",
   "metadata": {},
   "source": [
    "Code Fragment 5.3: An implementation of a DynamicArray class, using a raw array from the ctypes module as storage"
   ]
  },
  {
   "cell_type": "code",
   "execution_count": 8,
   "id": "9d60ba01-52c6-4a00-9d07-f7ef13b9d220",
   "metadata": {},
   "outputs": [],
   "source": [
    "# Code Fragment 5.3: An implementation of a DynamicArray class,\n",
    "# using a raw array from the ctypes module as storage\n",
    "\n",
    "import ctypes  # provides low-level arrays\n",
    "\n",
    "class DynamicArray:\n",
    "    \"\"\"A dynamic array class akin to a simplified Python list.\"\"\"\n",
    "\n",
    "    def __init__(self):\n",
    "        \"\"\"Create an empty array.\"\"\"\n",
    "        self.n = 0                      # Count actual elements\n",
    "        self.capacity = 1              # Default array capacity\n",
    "        self.A = self._make_array(self.capacity)  # Low-level array\n",
    "\n",
    "    def __len__(self):\n",
    "        \"\"\"Return number of elements stored in the array.\"\"\"\n",
    "        return self.n\n",
    "\n",
    "    def __getitem__(self, k):\n",
    "        \"\"\"Return element at index k.\"\"\"\n",
    "        if not 0 <= k < self.n:\n",
    "            raise IndexError('invalid index')\n",
    "        return self.A[k]  # Retrieve from array\n",
    "\n",
    "    def append(self, obj):\n",
    "        \"\"\"Add object to end of the array.\"\"\"\n",
    "        if self.n == self.capacity:           # Not enough room\n",
    "            self._resize(2 * self.capacity)   # So double capacity\n",
    "        self.A[self.n] = obj\n",
    "        self.n += 1\n",
    "\n",
    "    def _resize(self, c):\n",
    "        \"\"\"Resize internal array to capacity c.\"\"\"\n",
    "        B = self._make_\n"
   ]
  },
  {
   "cell_type": "markdown",
   "id": "9e8f1201-ec0c-4d50-b3de-aa9491315b18",
   "metadata": {},
   "source": [
    "Code Fragment 5.4: Measuring the amortized cost of append for Python’s list class"
   ]
  },
  {
   "cell_type": "code",
   "execution_count": 11,
   "id": "5d2ddec4-d132-4d33-bd15-3c966b3a1636",
   "metadata": {},
   "outputs": [],
   "source": [
    "# Code Fragment 5.4: Measuring the amortized cost of append for Python’s list class.\n",
    "\n",
    "from time import time\n",
    "\n",
    "def compute_average(n):\n",
    "    \"\"\"Perform n appends to an empty list and return average time elapsed.\"\"\"\n",
    "    \n",
    "    data = []\n",
    "    start = time()                 # Record the start time (in seconds)\n",
    "    \n",
    "    for k in range(n):\n",
    "        data.append(None)         # Append operation\n",
    "    \n",
    "    end = time()                   # Record the end time (in seconds)\n",
    "    \n",
    "    return (end - start) / n      # Compute average time per operation\n"
   ]
  },
  {
   "cell_type": "markdown",
   "id": "0bd0c9f1-bab1-4554-b2e9-48ec9ef003a0",
   "metadata": {},
   "source": [
    "Code Fragment 5.5: Implementation of insert for our DynamicArray class"
   ]
  },
  {
   "cell_type": "code",
   "execution_count": null,
   "id": "908e934d-17b1-44af-bcd1-9e05182019df",
   "metadata": {},
   "outputs": [],
   "source": [
    "# Code Fragment 5.5: Implementation of insert for our DynamicArray class.\n",
    "\n",
    "def insert(self, k, value):\n",
    "    \"\"\"Insert value at index k, shifting subsequent values rightward.\n",
    "    (For simplicity, we assume 0 <= k <= n in this version.)\n",
    "    \"\"\"\n",
    "    if self.n == self.capacity:             # Not enough room\n",
    "        self._resize(2 * self.capacity)     # So double capacity\n",
    "    \n",
    "    for j in range(self.n, k, -1):          # Shift rightmost elements first\n",
    "        self.A[j] = self.A[j - 1]\n",
    "    \n",
    "    self.A[k] = value                       # Store new element\n",
    "    self.n += 1\n"
   ]
  },
  {
   "cell_type": "markdown",
   "id": "d452ac33-e308-4d73-8d66-879e4f883f31",
   "metadata": {},
   "source": [
    "Code Fragment 5.6: Implementation of remove for our DynamicArray class."
   ]
  },
  {
   "cell_type": "code",
   "execution_count": 16,
   "id": "717c0859-e356-412b-9152-789c408fa75d",
   "metadata": {},
   "outputs": [],
   "source": [
    "# Code Fragment 5.6: Implementation of remove for our DynamicArray class.\n",
    "\n",
    "def remove(self, value):\n",
    "    \"\"\"Remove first occurrence of value (or raise ValueError).\n",
    "    Note: we do not consider shrinking the dynamic array in this version.\n",
    "    \"\"\"\n",
    "    for k in range(self.n):\n",
    "        if self.A[k] == value:  # Found a match!\n",
    "            for j in range(k, self.n - 1):  # Shift others to fill the gap\n",
    "                self.A[j] = self.A[j + 1]\n",
    "            self.A[self.n - 1] = None       # Help garbage collection\n",
    "            self.n -= 1                    # We have one less item\n",
    "            return                         # Exit immediately\n",
    "    raise ValueError(\"value not found\")    # Only reached if no match\n"
   ]
  },
  {
   "cell_type": "markdown",
   "id": "5140f9a8-4cbb-4e8e-a4ba-f73ce5498ed2",
   "metadata": {},
   "source": [
    "Code Fragment 5.7: Python code for a simple GameEntry class"
   ]
  },
  {
   "cell_type": "code",
   "execution_count": 19,
   "id": "8b4e7fb6-8a09-487e-a4fe-638c5a1e29d1",
   "metadata": {},
   "outputs": [],
   "source": [
    "# Code Fragment 5.7: Python code for a simple GameEntry class.\n",
    "# We include methods for returning the name and score for a game entry object,\n",
    "# as well as a method for returning a string representation of this entry.\n",
    "\n",
    "class GameEntry:\n",
    "    \"\"\"Represents one entry of a list of high scores.\"\"\"\n",
    "\n",
    "    def __init__(self, name, score):\n",
    "        self.name = name\n",
    "        self.score = score\n",
    "\n",
    "    def get_name(self):\n",
    "        return self.name\n",
    "\n",
    "    def get_score(self):\n",
    "        return self.score\n",
    "\n",
    "    def __str__(self):\n",
    "        return \"({0}, {1})\".format(self.name, self.score)  # e.g., (Bob, 98)\n"
   ]
  },
  {
   "cell_type": "markdown",
   "id": "62c3d36b-397e-4f25-95ad-3801f5305432",
   "metadata": {},
   "source": [
    "Code Fragment 5.8: Python code for a Scoreboard class that maintains"
   ]
  },
  {
   "cell_type": "code",
   "execution_count": null,
   "id": "3e3838ff-022e-4266-b90a-da5ba86122f1",
   "metadata": {},
   "outputs": [],
   "source": [
    "# Code Fragment 5.8: Python code for a Scoreboard class that maintains\n",
    "# an ordered series of scores as GameEntry objects.\n",
    "\n",
    "class Scoreboard:\n",
    "    \"\"\"Fixed-length sequence of high scores in non-increasing order.\"\"\"\n",
    "\n",
    "    def __init__(self, capacity=10):\n",
    "        \"\"\"Initialize scoreboard with given maximum capacity.\n",
    "        \n",
    "        All entries are initially None.\n",
    "        \"\"\"\n",
    "        self.board = [None] * capacity   # reserve space for future scores\n",
    "        self.n = 0                       # number of actual entries\n",
    "\n",
    "    def __getitem__(self, k):\n",
    "        \"\"\"Return entry at index k.\"\"\"\n",
    "        return self.board[k]\n",
    "\n",
    "    def __str__(self):\n",
    "        \"\"\"Return string representation of the high score list.\"\"\"\n",
    "        return '\\n'.join(str(self.board[j]) for j in range(self.n))\n",
    "\n",
    "    def add(self, entry):\n",
    "        \"\"\"Consider adding entry to high scores.\"\"\"\n",
    "        score = entry.get_score()\n",
    "\n",
    "        # Does the new entry qualify as a high score?\n",
    "        # Yes if board not full or score is higher than the last entry\n",
    "        good = self.n < len(self.board) or score > self.board[self.n - 1].get_score()\n",
    "\n",
    "        if good:\n",
    "            if self.n < len(self.board):    # no score drops from list\n",
    "                self.n += 1                 # so overall number increases\n",
    "\n",
    "            # shift lower scores rightward to make room for new entry\n",
    "            j = self.n - 1\n",
    "            while j > 0 and self.board[j - 1].get_score() < score:\n",
    "                self.board[j] = self.board[j - 1]  # shift entry from j-1 to j\n",
    "                j -= 1                             # and decrement j\n",
    "            self.board[j] = entry                  # when done, add new entry\n"
   ]
  },
  {
   "cell_type": "markdown",
   "id": "8ff3f335-ca72-4988-af21-0612a3886162",
   "metadata": {},
   "source": [
    "Code Fragment 5.9: High-level description of the insertion-sort algorithm"
   ]
  },
  {
   "cell_type": "markdown",
   "id": "022e5fa2-d2b7-4c38-8fec-67159a521e95",
   "metadata": {},
   "source": [
    " Algorithm InsertionSort(A):\n",
    " Input: An array A of n comparable elements\n",
    " Output: The array A with elements rearranged in nondecreasing order\n",
    " for k from 1 to n − 1 do\n",
    " Insert A[k] at its proper location within A[0], A[1], ..., A[k].\n",
    " Code Fragment 5.9: High-level description of the insertion-sort algorithm"
   ]
  },
  {
   "cell_type": "markdown",
   "id": "978821c4-dae6-4912-b50c-da13e3f09250",
   "metadata": {},
   "source": [
    "Code Fragment 5.10: Python code for performing insertion-sort on a list"
   ]
  },
  {
   "cell_type": "code",
   "execution_count": 25,
   "id": "4fa59ffc-bcc4-4dea-9c1e-48695448709e",
   "metadata": {},
   "outputs": [],
   "source": [
    "# Code Fragment 5.10: Python code for performing insertion-sort on a list\n",
    "\n",
    "def insertion_sort(A):\n",
    "    \"\"\"Sort list of comparable elements into nondecreasing order.\"\"\"\n",
    "\n",
    "    for k in range(1, len(A)):            # from 1 to n-1\n",
    "        cur = A[k]                        # current element to be inserted\n",
    "        j = k\n",
    "        while j > 0 and A[j - 1] > cur:   # find correct index j for current\n",
    "            A[j] = A[j - 1]               # shift A[j-1] one step to the right\n",
    "            j -= 1\n",
    "        A[j] = cur                        # cur is now in the right place\n"
   ]
  },
  {
   "cell_type": "markdown",
   "id": "806ccf67-3c65-4859-854b-74c995fadb91",
   "metadata": {},
   "source": [
    "Code Fragment 5.11: A complete Python class for the Caesar cipher."
   ]
  },
  {
   "cell_type": "code",
   "execution_count": 28,
   "id": "64424c2b-7888-4ddb-bb9a-bc902930eb34",
   "metadata": {},
   "outputs": [],
   "source": [
    "# Code Fragment 5.11: A complete Python class for the Caesar cipher.\n",
    "\n",
    "class CaesarCipher:\n",
    "    \"\"\"Class for doing encryption and decryption using a Caesar cipher.\"\"\"\n",
    "\n",
    "    def __init__(self, shift):\n",
    "        \"\"\"Construct Caesar cipher using given integer shift for rotation.\"\"\"\n",
    "        encoder = [None] * 26  # temp array for encryption\n",
    "        decoder = [None] * 26  # temp array for decryption\n",
    "\n",
    "        for k in range(26):\n",
    "            encoder[k] = chr((k + shift) % 26 + ord('A'))\n",
    "            decoder[k] = chr((k - shift) % 26 + ord('A'))\n",
    "\n",
    "        self.forward = ''.join(encoder)   # store as string\n",
    "        self.backward = ''.join(decoder)  # store as string\n",
    "\n",
    "    def encrypt(self, message):\n",
    "        \"\"\"Return string representing encrypted message.\"\"\"\n",
    "        return self.transform(message, self.forward)\n",
    "\n",
    "    def decrypt(self, secret):\n",
    "        \"\"\"Return decrypted message given encrypted secret.\"\"\"\n",
    "        return self.transform(secret, self.backward)\n",
    "\n",
    "    def transform(self, original, code):\n",
    "        \"\"\"Utility to perform transformation based on given code string.\"\"\"\n",
    "        msg = list(original)\n",
    "        for k in range(len(msg)):\n",
    "            if msg[k].isupper():\n",
    "                j = ord(msg[k]) - ord('A')  # index from 0 to 25\n",
    "                msg[k] = code[j]            # replace this character\n",
    "        return ''.join(msg)\n"
   ]
  },
  {
   "cell_type": "markdown",
   "id": "c593ed6c-b79d-4b2e-b021-b0107d887337",
   "metadata": {},
   "source": [
    "Code Fragment 5.12: A simple test for our TicTacToe class."
   ]
  },
  {
   "cell_type": "code",
   "execution_count": 31,
   "id": "f7274f63-8ddb-403c-94be-7744209c6b8c",
   "metadata": {},
   "outputs": [
    {
     "ename": "NameError",
     "evalue": "name 'TicTacToe' is not defined",
     "output_type": "error",
     "traceback": [
      "\u001b[1;31m---------------------------------------------------------------------------\u001b[0m",
      "\u001b[1;31mNameError\u001b[0m                                 Traceback (most recent call last)",
      "Cell \u001b[1;32mIn[31], line 3\u001b[0m\n\u001b[0;32m      1\u001b[0m \u001b[38;5;66;03m# Code Fragment 5.12: A simple test for our TicTacToe class.\u001b[39;00m\n\u001b[1;32m----> 3\u001b[0m game \u001b[38;5;241m=\u001b[39m TicTacToe()\n\u001b[0;32m      5\u001b[0m \u001b[38;5;66;03m# X moves:       O moves:\u001b[39;00m\n\u001b[0;32m      6\u001b[0m game\u001b[38;5;241m.\u001b[39mmark(\u001b[38;5;241m1\u001b[39m, \u001b[38;5;241m1\u001b[39m); game\u001b[38;5;241m.\u001b[39mmark(\u001b[38;5;241m0\u001b[39m, \u001b[38;5;241m2\u001b[39m)\n",
      "\u001b[1;31mNameError\u001b[0m: name 'TicTacToe' is not defined"
     ]
    }
   ],
   "source": [
    "# Code Fragment 5.12: A simple test for our TicTacToe class.\n",
    "\n",
    "game = TicTacToe()\n",
    "\n",
    "# X moves:       O moves:\n",
    "game.mark(1, 1); game.mark(0, 2)\n",
    "game.mark(2, 2); game.mark(0, 0)\n",
    "game.mark(0, 1); game.mark(2, 1)\n",
    "game.mark(1, 2); game.mark(1, 0)\n",
    "game.mark(2, 0)\n",
    "\n",
    "print(game)  # Display current board\n",
    "\n",
    "winner = game.winner()\n",
    "\n",
    "if winner is None:\n",
    "    print(\"Tie\")\n",
    "else:\n",
    "    print(winner, \"wins\")\n"
   ]
  },
  {
   "cell_type": "code",
   "execution_count": null,
   "id": "b2f3e597-bb85-438f-8cf1-2ede9cdd860a",
   "metadata": {},
   "outputs": [],
   "source": [
    " Code Fragment 5.13: A complete Python class for managing a Tic-Tac-Toe game."
   ]
  },
  {
   "cell_type": "code",
   "execution_count": 35,
   "id": "47459cae-dc63-4292-89ab-746f1fc5a929",
   "metadata": {},
   "outputs": [],
   "source": [
    "# Code Fragment 5.13: A complete Python class for managing a Tic-Tac-Toe game.\n",
    "\n",
    "class TicTacToe:\n",
    "    \"\"\"Management of a Tic-Tac-Toe game (does not do strategy).\"\"\"\n",
    "\n",
    "    def __init__(self):\n",
    "        \"\"\"Start a new game.\"\"\"\n",
    "        self.board = [[\" \"] * 3 for j in range(3)]  # 3x3 board filled with spaces\n",
    "        self.player = \"X\"  # X always starts\n",
    "\n",
    "    def mark(self, i, j):\n",
    "        \"\"\"Put an X or O mark at position (i, j) for the next player's turn.\"\"\"\n",
    "        if not (0 <= i <= 2 and 0 <= j <= 2):\n",
    "            raise ValueError(\"Invalid board position\")\n",
    "        if self.board[i][j] != \" \":\n",
    "            raise ValueError(\"Board position occupied\")\n",
    "        if self.winner() is not None:\n",
    "            raise ValueError(\"Game is already complete\")\n",
    "        \n",
    "        self.board[i][j] = self.player\n",
    "\n",
    "        # Switch player\n",
    "        self.player = \"O\" if self.player == \"X\" else \"X\"\n",
    "\n",
    "    def is_win(self, mark):\n",
    "        \"\"\"Check whether the board configuration is a win for the given player.\"\"\"\n",
    "        board = self.board  # shorthand alias\n",
    "        return (\n",
    "            (mark == board[0][0] == board[0][1] == board[0][2]) or  # row 0\n",
    "            (mark == board[1][0] == board[1][1] == board[1][2]) or  # row 1\n",
    "            (mark == board[2][0] == board[2][1] == board[2][2]) or  # row 2\n",
    "            (mark == board[0][0] == board[1][0] == board[2][0]) or  # col 0\n",
    "            (mark == board[0][1] == board[1][1] == board[2][1]) or  # col 1\n",
    "            (mark == board[0][2] == board[1][2] == board[2][2]) or  # col 2\n",
    "            (mark == board[0][0] == board[1][1] == board[2][2]) or  # diagonal\n",
    "            (mark == board[0][2] == board[1][1] == board[2][0])     # reverse diagonal\n",
    "        )\n",
    "\n",
    "    def winner(self):\n",
    "        \"\"\"Return mark of winning player, or None to indicate a tie or ongoing game.\"\"\"\n",
    "        for mark in \"XO\":\n",
    "            if self.is_win(mark):\n",
    "                return mark\n",
    "        return None\n",
    "\n",
    "    def __str__(self):\n",
    "        \"\"\"Return string representation of current game board.\"\"\"\n",
    "        rows = [\" | \".join(self.board[r]) for r in range(3)]\n",
    "        return \"\\n-----\\n\".join(rows)\n"
   ]
  },
  {
   "cell_type": "markdown",
   "id": "f3b17f08-08d2-47a6-ad38-07f728f22178",
   "metadata": {},
   "source": [
    "### Exercises"
   ]
  },
  {
   "cell_type": "markdown",
   "id": "380e4432-0e40-41c4-9955-6afe7577ec0d",
   "metadata": {},
   "source": [
    "\n",
    "**R-5.1** Execute the experiment from Code Fragment 5.1 and compare the results on your system to those we report in Code Fragment 5.2."
   ]
  },
  {
   "cell_type": "code",
   "execution_count": 98,
   "id": "bcabc326-ad8d-4435-9c3b-b416f0523283",
   "metadata": {},
   "outputs": [
    {
     "name": "stdout",
     "output_type": "stream",
     "text": [
      "Length:   0; Size in bytes:   56\n",
      "Length:   1; Size in bytes:   88\n",
      "Length:   2; Size in bytes:   88\n",
      "Length:   3; Size in bytes:   88\n",
      "Length:   4; Size in bytes:   88\n",
      "Length:   5; Size in bytes:  120\n",
      "Length:   6; Size in bytes:  120\n",
      "Length:   7; Size in bytes:  120\n",
      "Length:   8; Size in bytes:  120\n",
      "Length:   9; Size in bytes:  184\n",
      "Length:  10; Size in bytes:  184\n",
      "Length:  11; Size in bytes:  184\n",
      "Length:  12; Size in bytes:  184\n",
      "Length:  13; Size in bytes:  184\n",
      "Length:  14; Size in bytes:  184\n",
      "Length:  15; Size in bytes:  184\n",
      "Length:  16; Size in bytes:  184\n",
      "Length:  17; Size in bytes:  248\n",
      "Length:  18; Size in bytes:  248\n",
      "Length:  19; Size in bytes:  248\n",
      "Length:  20; Size in bytes:  248\n",
      "Length:  21; Size in bytes:  248\n",
      "Length:  22; Size in bytes:  248\n",
      "Length:  23; Size in bytes:  248\n",
      "Length:  24; Size in bytes:  248\n",
      "Length:  25; Size in bytes:  312\n",
      "Length:  26; Size in bytes:  312\n",
      "Length:  27; Size in bytes:  312\n",
      "Length:  28; Size in bytes:  312\n",
      "Length:  29; Size in bytes:  312\n"
     ]
    }
   ],
   "source": [
    "import sys  # provides getsizeof function\n",
    "\n",
    "data = []\n",
    "n = 30  # <- you can change this number to explore further\n",
    "\n",
    "for k in range(n):\n",
    "    a = len(data)                  # number of elements in list\n",
    "    b = sys.getsizeof(data)        # size in bytes of the list object\n",
    "    print(\"Length: {0:3d}; Size in bytes: {1:4d}\".format(a, b))\n",
    "    data.append(None)              # increase length by one (placeholder)"
   ]
  },
  {
   "cell_type": "markdown",
   "id": "66258361-1332-4e0b-bbcf-8c590ff25650",
   "metadata": {
    "scrolled": true
   },
   "source": [
    "**R-5.2** In Code Fragment 5.1, we perform an experiment to compare the length of a Python list to its underlying memory usage. Determining the sequence of array sizes requires a manual inspection of the output of that program. Redesign the experiment so that the program outputs only those values of `k` at which the existing capacity is exhausted. For example, on a system consistent with the results of Code Fragment 5.2, your program should output that the sequence of array capacities are 0, 4, 8, 16, 25, ...."
   ]
  },
  {
   "cell_type": "code",
   "execution_count": 100,
   "id": "98abfe3d-0bd4-4fc1-9aeb-d97cbca440c3",
   "metadata": {},
   "outputs": [
    {
     "name": "stdout",
     "output_type": "stream",
     "text": [
      "Length:   0; Size in bytes: 56\n",
      "Length:   1; Size in bytes: 88\n",
      "Length:   5; Size in bytes: 120\n",
      "Length:   9; Size in bytes: 184\n",
      "Length:  17; Size in bytes: 248\n",
      "Length:  25; Size in bytes: 312\n",
      "Length:  33; Size in bytes: 376\n",
      "Length:  41; Size in bytes: 472\n",
      "Length:  53; Size in bytes: 568\n",
      "Length:  65; Size in bytes: 664\n",
      "Length:  77; Size in bytes: 792\n",
      "Length:  93; Size in bytes: 920\n"
     ]
    }
   ],
   "source": [
    "import sys\n",
    "\n",
    "data = []\n",
    "prev_size = sys.getsizeof(data)  # initial memory size\n",
    "\n",
    "print(f\"Length: {len(data):3d}; Size in bytes: {prev_size}\")\n",
    "\n",
    "for k in range(100):  # you can increase the range as needed\n",
    "    data.append(None)\n",
    "    curr_size = sys.getsizeof(data)\n",
    "    if curr_size != prev_size:\n",
    "        print(f\"Length: {len(data):3d}; Size in bytes: {curr_size}\")\n",
    "        prev_size = curr_size\n"
   ]
  },
  {
   "cell_type": "markdown",
   "id": "e6322d3d-b088-41ab-bb2f-e956f51575b6",
   "metadata": {},
   "source": [
    "**R-5.3** Modify the experiment from Code Fragment 5.1 in order to demonstrate that Python’s list class occasionally shrinks the size of its underlying array when elements are popped from a list."
   ]
  },
  {
   "cell_type": "code",
   "execution_count": 102,
   "id": "8400e366-155c-4431-8c48-894b18dfe4b6",
   "metadata": {},
   "outputs": [
    {
     "name": "stdout",
     "output_type": "stream",
     "text": [
      "Initial Length: 100; Size in bytes: 856\n",
      "Length:  49; Size in bytes: 536\n",
      "Length:  29; Size in bytes: 344\n",
      "Length:  17; Size in bytes: 248\n",
      "Length:  11; Size in bytes: 184\n",
      "Length:   7; Size in bytes: 152\n",
      "Length:   5; Size in bytes: 120\n",
      "Length:   1; Size in bytes: 88\n",
      "Length:   0; Size in bytes: 56\n"
     ]
    }
   ],
   "source": [
    "import sys\r\n",
    "\r\n",
    "data = [None] * 100  # start with a full list of 100 elements\r\n",
    "prev_size = sys.getsizeof(data)\r\n",
    "\r\n",
    "print(f\"Initial Length: {len(data):3d}; Size in bytes: {prev_size}\")\r\n",
    "\r\n",
    "for k in range(100):\r\n",
    "    data.pop()\r\n",
    "    curr_size = sys.getsizeof(data)\r\n",
    "    if curr_size != prev_size:\r\n",
    "        print(f\"Length: {len(data):3d}; Size in bytes: {curr_size}\")\r\n",
    "        prev_size = curr_size\r\n"
   ]
  },
  {
   "cell_type": "markdown",
   "id": "6cbedc18-a679-4a6d-a7d8-dc558f62d147",
   "metadata": {},
   "source": [
    "**R-5.4** Our `DynamicArray` class, as given in Code Fragment 5.3, does not support use of negative indices with `__getitem__`. Update that method to better match the semantics of a Python list."
   ]
  },
  {
   "cell_type": "code",
   "execution_count": 114,
   "id": "6d1c52d0-0516-49c2-9195-aa6fdeafcf7f",
   "metadata": {},
   "outputs": [
    {
     "ename": "SyntaxError",
     "evalue": "invalid syntax (3117137099.py, line 48)",
     "output_type": "error",
     "traceback": [
      "\u001b[1;36m  Cell \u001b[1;32mIn[114], line 48\u001b[1;36m\u001b[0m\n\u001b[1;33m    .A[k]\u001b[0m\n\u001b[1;37m    ^\u001b[0m\n\u001b[1;31mSyntaxError\u001b[0m\u001b[1;31m:\u001b[0m invalid syntax\n"
     ]
    }
   ],
   "source": [
    "import ctypes\n",
    "\n",
    "class DynamicArray:\n",
    "    \"\"\"A dynamic array class akin to a simplified Python list.\"\"\"\n",
    "\n",
    "    def __init__(self):\n",
    "        self.n = 0                      # count actual elements\n",
    "        self.capacity = 1              # default array capacity\n",
    "        self.A = self._make_array(self.capacity)\n",
    "\n",
    "    def __len__(self):\n",
    "        return self.n\n",
    "\n",
    "    def __getitem__(self, k):\n",
    "        \"\"\"Return element at index k (supports negative indexing).\"\"\"\n",
    "        if k < 0:\n",
    "            k += self.n  # convert negative index\n",
    "        if not 0 <= k < self.n:\n",
    "            raise IndexError('invalid index')\n",
    "        return self.A[k]\n",
    "\n",
    "    def append(self, obj):\n",
    "        if self.n == self.capacity:\n",
    "            self._resize(2 * self.capacity)\n",
    "        self.A[self.n] = obj\n",
    "        self.n += 1\n",
    "\n",
    "    def _resize(self, c):\n",
    "        B = self._make_array(c)\n",
    "        for k in range(self.n):\n",
    "            B[k] = self.A[k]\n",
    "        self.A = B\n",
    "        self.capacity = c\n",
    "\n",
    "    def _make_array(self, c):\n",
    "        return (c * ctypes.py_object)()\n",
    "\n",
    "\n",
    "# ✅ TESTING NEGATIVE INDEX SUPPORT\n",
    "arr = DynamicArray()\n",
    "for i in range(5):\n",
    "    arr.append(i * 10)\n",
    "\n",
    "print(arr[0])    # 0\n",
    "print(arr[-1])   # 40\n",
    "print(arr[-2])   # 30\n",
    " # 30\r\n",
    ".A[k]\r\n"
   ]
  },
  {
   "cell_type": "markdown",
   "id": "0c7b2f55-413f-434b-bf7b-57d1aaed828a",
   "metadata": {},
   "source": [
    "**R-5.5** Redo the justification of Proposition 5.1 assuming that the cost of growing the array from size `k` to size `2k` is **3k** cyber-dollars. How much should each `append` operation be charged to make the amortization work?"
   ]
  },
  {
   "cell_type": "markdown",
   "id": "5ada779a-f4b6-40f0-bcc9-70d352d49e82",
   "metadata": {},
   "source": [
    "To cover the higher 3k resize cost, each append() should be charged 4 cyber-dollars in the amortized model."
   ]
  },
  {
   "cell_type": "markdown",
   "id": "4a61e730-954b-45b4-b857-af77d9d71ea2",
   "metadata": {},
   "source": [
    "**R-5.6** Our implementation of `insert` for the `DynamicArray` class, as given in Code Fragment 5.5, has the following inefficiency. In the case when a resize occurs, the resize operation takes time to copy all the elements from an old array to a new array, and then the subsequent loop in the body of `insert` shifts many of those elements. Give an improved implementation of the `insert` method, so that, in the case of a resize, the elements are shifted into their final position during that operation, thereby avoiding the subsequent shifting."
   ]
  },
  {
   "cell_type": "code",
   "execution_count": 117,
   "id": "dd2e53d5-2208-4965-a2c6-58c628984847",
   "metadata": {},
   "outputs": [],
   "source": [
    "def insert(self, k, value):\n",
    "    \"\"\"Insert value at index k, shifting subsequent values rightward.\n",
    "\n",
    "    If resize is needed, do shifting during resizing.\n",
    "    \"\"\"\n",
    "    if self.n == self.capacity:\n",
    "        # Allocate larger array and shift during copy\n",
    "        new_capacity = 2 * self.capacity\n",
    "        B = self._make_array(new_capacity)\n",
    "\n",
    "        for j in range(k):         # copy elements before k\n",
    "            B[j] = self.A[j]\n",
    "        B[k] = value               # insert new item at position k\n",
    "        for j in range(k, self.n): # shift the rest right by one\n",
    "            B[j + 1] = self.A[j]\n",
    "\n",
    "        self.A = B\n",
    "        self.capacity = new_capacity\n",
    "    else:\n",
    "        # No resize needed; shift in-place\n",
    "        for j in range(self.n, k, -1):  # shift rightward\n",
    "            self.A[j] = self.A[j - 1]\n",
    "        self.A[k] = value\n",
    "\n",
    "    self.n += 1\n"
   ]
  },
  {
   "cell_type": "markdown",
   "id": "bdd58eee-465a-4e12-9c60-9aa21889791c",
   "metadata": {},
   "source": [
    "**R-5.7** Let `A` be an array of size `n ≥ 2` containing integers from 1 to `n−1`, inclusive, with exactly one repeated. Describe a fast algorithm for finding the integer in `A` that is repeated."
   ]
  },
  {
   "cell_type": "markdown",
   "id": "114abd84-2c74-47c6-bd2b-6f14fb69cb5c",
   "metadata": {},
   "source": [
    "Use the sum difference method:\n",
    "Return sum(A) - (n−1)·n/2 to find the repeated value in O(n) time and O(1) space."
   ]
  },
  {
   "cell_type": "markdown",
   "id": "b10f02fd-7db2-4dde-998b-99ba550f7e98",
   "metadata": {},
   "source": [
    "**R-5.8** Experimentally evaluate the efficiency of the `pop` method of Python’s list class when using varying indices as a parameter, as we did for `insert` on page 205. Report your results akin to Table 5.5."
   ]
  },
  {
   "cell_type": "code",
   "execution_count": 120,
   "id": "b487e5d2-d6f8-4175-a94e-0cd1bd1465d0",
   "metadata": {},
   "outputs": [
    {
     "data": {
      "image/png": "[encoded data removed]",
      "text/plain": [
       "<Figure size 640x480 with 1 Axes>"
      ]
     },
     "metadata": {},
     "output_type": "display_data"
    }
   ],
   "source": [
    "import time\r\n",
    "import matplotlib.pyplot as plt\r\n",
    "\r\n",
    "def time_pop(index_func, size=10000, trials=100):\r\n",
    "    times = []\r\n",
    "    for _ in range(trials):\r\n",
    "        data = list(range(size))\r\n",
    "        index = index_func(len(data))\r\n",
    "        start = time.perf_counter()\r\n",
    "        data.pop(index)\r\n",
    "        end = time.perf_counter()\r\n",
    "        times.append(end - start)\r\n",
    "    return sum(times) / trials\r\n",
    "\r\n",
    "# Index strategies\r\n",
    "pop_end = lambda n: -1\r\n",
    "pop_start = lambda n: 0\r\n",
    "pop_middle = lambda n: n // 2\r\n",
    "\r\n",
    "# Run experiments\r\n",
    "sizes = [1000, 2000, 4000, 8000, 16000, 32000]\r\n",
    "results = {\r\n",
    "    \"pop(0)\": [],\r\n",
    "    \"pop(n//2)\": [],\r\n",
    "    \"pop(-1)\": []\r\n",
    "}\r\n",
    "\r\n",
    "for size in sizes:\r\n",
    "    results[\"pop(0)\"].append(time_pop(pop_start, size))\r\n",
    "    results[\"pop(n//2)\"].append(time_pop(pop_middle, size))\r\n",
    "    results[\"pop(-1)\"].append(time_pop(pop_end, size))\r\n",
    "\r\n",
    "# Plot results\r\n",
    "for label, times in results.items():\r\n",
    "    plt.plot(sizes, times, label=label)\r\n",
    "\r\n",
    "plt.xlabel(\"List Size\")\r\n",
    "plt.ylabel(\"Average Time (seconds)\")\r\n",
    "plt.title(\"Efficiency of list.pop(i) for various indices\")\r\n",
    "plt.legend()\r\n",
    "plt.grid(True)\r\n",
    "plt.show()\r\n"
   ]
  },
  {
   "cell_type": "markdown",
   "id": "a52fde02-e174-4fcd-9ba0-24233654db3b",
   "metadata": {},
   "source": [
    "**R-5.9** Explain the changes that would have to be made to the program of Code Fragment 5.11 so that it could perform the Caesar cipher for messages that are written in an alphabet-based language other than English, such as Greek, Russian, or Hebrew."
   ]
  },
  {
   "cell_type": "markdown",
   "id": "f82fe4c4-fa04-40ca-8873-9c0f228bbb86",
   "metadata": {},
   "source": [
    "To support non-English languages in the Caesar cipher (like Greek or Russian), you must replace the hardcoded English alphabet with a custom character list for the target language and update the shift logic to use the length of that alphabet. Instead of using ASCII arithmetic, build encoder/decoder maps based on character positions within the new alphabet.\n"
   ]
  },
  {
   "cell_type": "markdown",
   "id": "b9690650-f829-4c23-a44e-5497daaa615c",
   "metadata": {},
   "source": [
    "**R-5.10** The constructor for the `CaesarCipher` class in Code Fragment 5.11 can be implemented with a two-line body by building the forward and backward strings using a combination of the `join` method and an appropriate comprehension syntax. Give such an implementation."
   ]
  },
  {
   "cell_type": "code",
   "execution_count": 122,
   "id": "dcc9a5e1-a499-405e-af0d-219de2b83f51",
   "metadata": {},
   "outputs": [],
   "source": [
    "def __init__(self, shift):\r\n",
    "    self.forward = ''.join([chr((k + shift) % 26 + ord('A')) for k in range(26)])\r\n",
    "    self.backward = ''.join([chr((k - shift) % 26 + ord('A')) for k in range(26)])\r\n"
   ]
  },
  {
   "cell_type": "markdown",
   "id": "a1e45e05-bb4d-4de6-8ded-146f1f678176",
   "metadata": {},
   "source": [
    "**R-5.11** Use standard control structures to compute the sum of all numbers in an `n × n` data set, represented as a list of lists."
   ]
  },
  {
   "cell_type": "code",
   "execution_count": 124,
   "id": "d5c8465a-d160-482b-8286-dfe7b9171d36",
   "metadata": {},
   "outputs": [],
   "source": [
    "def sum_nested_list(data):\r\n",
    "    total = 0\r\n",
    "    for row in data:\r\n",
    "        for value in row:\r\n",
    "            total += value\r\n",
    "    return total\r\n"
   ]
  },
  {
   "cell_type": "markdown",
   "id": "d83ea3c6-93d4-4ab6-8858-5a16e2409750",
   "metadata": {},
   "source": [
    "**R-5.12** Describe how the built-in `sum` function can be combined with Python’s comprehension syntax to compute the sum of all numbers in an `n × n` data set, represented as a list of lists."
   ]
  },
  {
   "cell_type": "code",
   "execution_count": 128,
   "id": "039885cd-4cdf-4c99-a1e1-d25c380ac389",
   "metadata": {},
   "outputs": [],
   "source": [
    "total = sum(val for row in data for val in row)\n"
   ]
  },
  {
   "cell_type": "code",
   "execution_count": null,
   "id": "5fd7f487-3524-420e-98ec-b50b4422201f",
   "metadata": {},
   "outputs": [],
   "source": []
  }
 ],
 "metadata": {
  "kernelspec": {
   "display_name": "Python 3 (ipykernel)",
   "language": "python",
   "name": "python3"
  },
  "language_info": {
   "codemirror_mode": {
    "name": "ipython",
    "version": 3
   },
   "file_extension": ".py",
   "mimetype": "text/x-python",
   "name": "python",
   "nbconvert_exporter": "python",
   "pygments_lexer": "ipython3",
   "version": "3.12.4"
  }
 },
 "nbformat": 4,
 "nbformat_minor": 5
}
