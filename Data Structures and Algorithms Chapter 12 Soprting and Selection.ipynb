{
 "cells": [
  {
   "cell_type": "code",
   "execution_count": 1,
   "id": "464be5d7-52ad-41a2-8870-95e01bca3f13",
   "metadata": {},
   "outputs": [],
   "source": [
    "#Data Structures and Algorithms Chapter 12 Soprting and Selection\n",
    "### Donovan Manogue"
   ]
  },
  {
   "cell_type": "code",
   "execution_count": null,
   "id": "8aed8112-0145-48f4-a76d-99f239868f91",
   "metadata": {},
   "outputs": [],
   "source": [
    "Divide-and-Conquer"
   ]
  },
  {
   "cell_type": "code",
   "execution_count": null,
   "id": "af827509-1fe2-455d-ae02-943243d17742",
   "metadata": {},
   "outputs": [],
   "source": [
    " 1. Divide: If the input size is smaller than a certain threshold (say, one or two\n",
    " elements), solve the problem directly using a straightforward method and\n",
    " return the solution so obtained. Otherwise, divide the input data into two or\n",
    " more disjoint subsets.\n",
    " 2. Conquer: Recursively solve the subproblems associated with the subsets.\n",
    " 3. Combine: Take the solutions to the subproblems and merge them into a so\n",
    "lution to the original problem"
   ]
  },
  {
   "cell_type": "code",
   "execution_count": null,
   "id": "ba70412c-782a-48f1-9796-38c069d27761",
   "metadata": {},
   "outputs": [],
   "source": [
    " Using Divide-and-Conquer for Sorting"
   ]
  },
  {
   "cell_type": "code",
   "execution_count": null,
   "id": "14be0f38-10b2-4384-bd58-baceab821c5f",
   "metadata": {},
   "outputs": [],
   "source": [
    " 1. Divide: If S has zero or one element, return S immediately; it is already\n",
    " sorted. Otherwise (S has at least two elements), remove all the elements\n",
    " from S and put them into two sequences, S1 and S2, each containing about\n",
    " half of the elements of S; that is,S1 contains the first n/2 elements of S,\n",
    " and S2 contains the remaining n/2 elements.\n",
    " 2. Conquer: Recursively sort sequences S1 and S2.\n",
    " 3. Combine: Put back the elements into S by merging the sorted sequences S1\n",
    " and S2 into a sorted sequence"
   ]
  },
  {
   "cell_type": "code",
   "execution_count": null,
   "id": "cb11db90-0781-4ee1-8ad6-17c7aa6d5135",
   "metadata": {},
   "outputs": [],
   "source": [
    "Code Fragment 12.1: Merge Operation for Python’s Array-Based List Class"
   ]
  },
  {
   "cell_type": "code",
   "execution_count": null,
   "id": "eab04eeb-f0d1-4715-9c07-c7a5dad6517b",
   "metadata": {},
   "outputs": [],
   "source": [
    "def merge(S1, S2, S):\n",
    "    \"\"\"Merge two sorted Python lists S1 and S2 into a properly sized list S.\"\"\"\n",
    "    i = j = 0\n",
    "    while i + j < len(S):\n",
    "        if j == len(S2) or (i < len(S1) and S1[i] < S2[j]):\n",
    "            S[i + j] = S1[i]  # Copy i-th element of S1 as next item of S\n",
    "            i += 1\n",
    "        else:\n",
    "            S[i + j] = S2[j]  # Copy j-th element of S2 as next item of S\n",
    "            j += 1\n"
   ]
  },
  {
   "cell_type": "code",
   "execution_count": null,
   "id": "6972564f-d9d7-480f-9dce-cddad46b18ae",
   "metadata": {},
   "outputs": [],
   "source": [
    "Code Fragment 12.2: Recursive Merge Sort Algorithm for Python’s Array-Based List"
   ]
  },
  {
   "cell_type": "code",
   "execution_count": null,
   "id": "b1b68c7b-cdc8-4062-8848-a4ead9bac7d2",
   "metadata": {},
   "outputs": [],
   "source": [
    "def merge_sort(S):\n",
    "    \"\"\"Sort the elements of Python list S using the merge-sort algorithm.\"\"\"\n",
    "    n = len(S)\n",
    "    if n < 2:\n",
    "        return  # List is already sorted\n",
    "\n",
    "    # Divide\n",
    "    mid = n // 2\n",
    "    S1 = S[0:mid]   # Copy of first half\n",
    "    S2 = S[mid:n]   # Copy of second half\n",
    "\n",
    "    # Conquer (with recursion)\n",
    "    merge_sort(S1)  # Sort copy of first half\n",
    "    merge_sort(S2)  # Sort copy of second half\n",
    "\n",
    "    # Merge results\n",
    "    merge(S1, S2, S)  # Merge sorted halves back into S\n"
   ]
  },
  {
   "cell_type": "code",
   "execution_count": null,
   "id": "f2ce8a07-2e39-4947-86ad-861c73bb62a8",
   "metadata": {},
   "outputs": [],
   "source": [
    "Code Fragment 12.3: Merge Sort Using a Basic Queue"
   ]
  },
  {
   "cell_type": "code",
   "execution_count": null,
   "id": "62163549-1ef2-46d4-b01d-4faba7b0d9f0",
   "metadata": {},
   "outputs": [],
   "source": [
    "def merge(S1, S2, S):\n",
    "    \"\"\"Merge two sorted queue instances S1 and S2 into empty queue S.\"\"\"\n",
    "    while not S1.isempty() and not S2.isempty():\n",
    "        if S1.first() < S2.first():\n",
    "            S.enqueue(S1.dequeue())\n",
    "        else:\n",
    "            S.enqueue(S2.dequeue())\n",
    "    \n",
    "    # Move any remaining elements from S1\n",
    "    while not S1.isempty():\n",
    "        S.enqueue(S1.dequeue())\n",
    "\n",
    "    # Move any remaining elements from S2\n",
    "    while not S2.isempty():\n",
    "        S.enqueue(S2.dequeue())\n",
    "def merge_sort(S):\n",
    "    \"\"\"Sort the elements of queue S using the merge-sort algorithm.\"\"\"\n",
    "    n = len(S)\n",
    "    if n < 2:\n",
    "        return  # Queue is already sorted\n",
    "\n",
    "    # Divide\n",
    "    S1 = LinkedQueue()  # or any other queue implementation\n",
    "    S2 = LinkedQueue()\n",
    "    \n",
    "    while len(S1) < n // 2:\n",
    "        S1.enqueue(S.dequeue())  # Move first half to S1\n",
    "    while not S.isempty():\n",
    "        S2.enqueue(S.dequeue())  # Move second half to S2\n",
    "\n",
    "    # Conquer (with recursion)\n",
    "    merge_sort(S1)\n",
    "    merge_sort(S2)\n",
    "\n",
    "    # Merge results\n",
    "    merge(S1, S2, S)\n"
   ]
  },
  {
   "cell_type": "code",
   "execution_count": null,
   "id": "66a35ea7-cea2-459a-9deb-7a556b954aa1",
   "metadata": {},
   "outputs": [],
   "source": [
    "Code Fragment 12.4: Non-Recursive Merge Sort (Bottom-Up Merge Sort)"
   ]
  },
  {
   "cell_type": "code",
   "execution_count": null,
   "id": "79061c0f-4fba-4570-aa61-29fc6abaade1",
   "metadata": {},
   "outputs": [],
   "source": [
    "def merge(src, result, start, inc):\n",
    "    \"\"\"Merge src[start:start+inc] and src[start+inc:start+2*inc] into result.\"\"\"\n",
    "    end1 = start + inc                      # boundary for run1\n",
    "    end2 = min(start + 2 * inc, len(src))   # boundary for run2\n",
    "    x, y, z = start, start + inc, start     # index into run1, run2, result\n",
    "\n",
    "    while x < end1 and y < end2:\n",
    "        if src[x] < src[y]:\n",
    "            result[z] = src[x]\n",
    "            x += 1\n",
    "        else:\n",
    "            result[z] = src[y]\n",
    "            y += 1\n",
    "        z += 1\n",
    "\n",
    "    # Copy remaining elements (only one of these will execute)\n",
    "    if x < end1:\n",
    "        result[z:end2] = src[x:end1]\n",
    "    elif y < end2:\n",
    "        result[z:end2] = src[y:end2]\n",
    "def merge(src, result, start, inc):\n",
    "    \"\"\"Merge src[start:start+inc] and src[start+inc:start+2*inc] into result.\"\"\"\n",
    "    end1 = start + inc                      # boundary for run1\n",
    "    end2 = min(start + 2 * inc, len(src))   # boundary for run2\n",
    "    x, y, z = start, start + inc, start     # index into run1, run2, result\n",
    "\n",
    "    while x < end1 and y < end2:\n",
    "        if src[x] < src[y]:\n",
    "            result[z] = src[x]\n",
    "            x += 1\n",
    "        else:\n",
    "            result[z] = src[y]\n",
    "            y += 1\n",
    "        z += 1\n",
    "\n",
    "    # Copy remaining elements (only one of these will execute)\n",
    "    if x < end1:\n",
    "        result[z:end2] = src[x:end1]\n",
    "    elif y < end2:\n",
    "        result[z:end2] = src[y:end2]\n"
   ]
  },
  {
   "cell_type": "code",
   "execution_count": null,
   "id": "2fd22c58-f968-4ac6-b9ee-28368c7ec2fd",
   "metadata": {},
   "outputs": [],
   "source": [
    "High-Level Description of Quick-Sort"
   ]
  },
  {
   "cell_type": "code",
   "execution_count": null,
   "id": "93ff27a4-f91b-4873-96c9-78b27371eca1",
   "metadata": {},
   "outputs": [],
   "source": [
    " 1. Divide: If S has at least two elements (nothing needs to be done if S has\n",
    " zero or one element), select a specific element x from S, which is called the\n",
    " pivot. As is common practice, choose the pivot x to be the last element in S.\n",
    " Remove all the elements from S and put them into three sequences:\n",
    " • L, storing the elements in S less than x\n",
    " • E,storing the elements in S equal to x\n",
    " • G,storing the elements in S greater than x\n",
    " Of course, if the elements of S are distinct, then E holds just one element—\n",
    " the pivot itself.\n",
    " 2. Conquer: Recursively sort sequences L and G.\n",
    " 3. Combine: Putback theelements intoS inorder by first inserting the elements\n",
    " of L, then those of E, and finally those of G"
   ]
  },
  {
   "cell_type": "code",
   "execution_count": null,
   "id": "84c10ede-c21f-409a-a2fd-ed8aa8fde192",
   "metadata": {},
   "outputs": [],
   "source": [
    "Code Fragment 12.5: Quick Sort on a Queue"
   ]
  },
  {
   "cell_type": "code",
   "execution_count": null,
   "id": "c0179246-9f67-4167-9812-3c702cdaa43c",
   "metadata": {},
   "outputs": [],
   "source": [
    "def quick_sort(S):\n",
    "    \"\"\"Sort the elements of queue S using the quick-sort algorithm.\"\"\"\n",
    "    n = len(S)\n",
    "    if n < 2:\n",
    "        return  # list is already sorted\n",
    "\n",
    "    # Divide\n",
    "    p = S.first()  # use first element as pivot\n",
    "    L = LinkedQueue()\n",
    "    E = LinkedQueue()\n",
    "    G = LinkedQueue()\n",
    "\n",
    "    while not S.isempty():  # divide S into L, E, and G\n",
    "        if S.first() < p:\n",
    "            L.enqueue(S.dequeue())\n",
    "        elif p < S.first():\n",
    "            G.enqueue(S.dequeue())\n",
    "        else:  # S.first() must equal pivot\n",
    "            E.enqueue(S.dequeue())\n",
    "\n",
    "    # Conquer (with recursion)\n",
    "    quick_sort(L)\n",
    "    quick_sort(G)\n",
    "\n",
    "    # Concatenate results\n",
    "    while not L.isempty():\n",
    "        S.enqueue(L.dequeue())\n",
    "    while not E.isempty():\n",
    "        S.enqueue(E.dequeue())\n",
    "    while not G.isempty():\n",
    "        S.enqueue(G.dequeue())\n"
   ]
  },
  {
   "cell_type": "code",
   "execution_count": null,
   "id": "51891890-8f6b-4038-8457-8fbab18740ce",
   "metadata": {},
   "outputs": [],
   "source": [
    "Code Fragment 12.6: In-Place Quick Sort for Python List S"
   ]
  },
  {
   "cell_type": "code",
   "execution_count": null,
   "id": "1118024e-5f49-405b-8475-f107a91b8e51",
   "metadata": {},
   "outputs": [],
   "source": [
    "def inplace_quick_sort(S, a, b):\n",
    "    \"\"\"Sort the list from S[a] to S[b] inclusive using the quick-sort algorithm.\"\"\"\n",
    "    if a >= b:\n",
    "        return  # range is trivially sorted\n",
    "\n",
    "    pivot = S[b]         # last element of range is pivot\n",
    "    left = a             # will scan rightward\n",
    "    right = b - 1        # will scan leftward\n",
    "\n",
    "    while left <= right:\n",
    "        # scan until reaching value equal or larger than pivot (or right marker)\n",
    "        while left <= right and S[left] < pivot:\n",
    "            left += 1\n",
    "        # scan until reaching value equal or smaller than pivot (or left marker)\n",
    "        while left <= right and pivot < S[right]:\n",
    "            right -= 1\n",
    "        if left <= right:  # scans did not strictly cross\n",
    "            S[left], S[right] = S[right], S[left]  # swap values\n",
    "            left, right = left + 1, right - 1      # shrink range\n",
    "\n",
    "    # put pivot into its final place (currently marked by left index)\n",
    "    S[left], S[b] = S[b], S[left]\n",
    "\n",
    "    # make recursive calls\n",
    "    inplace_quick_sort(S, a, left - 1)\n",
    "    inplace_quick_sort(S, left + 1, b)\n"
   ]
  },
  {
   "cell_type": "code",
   "execution_count": null,
   "id": "9a07c539-0714-4176-9c3e-61db19be5d12",
   "metadata": {},
   "outputs": [],
   "source": [
    "Code Fragment 12.7: Bucket Sort "
   ]
  },
  {
   "cell_type": "code",
   "execution_count": null,
   "id": "5dc497b6-70ea-4861-94ba-0e0a8aa67465",
   "metadata": {},
   "outputs": [],
   "source": [
    "def bucket_sort(S, N):\n",
    "    \"\"\"\n",
    "    Bucket sort for entries with integer keys in the range [0, N-1].\n",
    "    \n",
    "    Parameters:\n",
    "    S : list of tuples (key, value)\n",
    "        A sequence of entries where keys are integers in range [0, N-1]\n",
    "    N : int\n",
    "        The upper bound of the key range (exclusive)\n",
    "        \n",
    "    Returns:\n",
    "    None: S is sorted in-place by key.\n",
    "    \"\"\"\n",
    "    # Step 1: Initialize buckets\n",
    "    B = [[] for _ in range(N)]\n",
    "    \n",
    "    # Step 2: Distribute elements into buckets\n",
    "    while S:\n",
    "        e = S.pop()\n",
    "        k = e[0]  # assuming entries are (key, value)\n",
    "        B[k].append(e)\n",
    "    \n",
    "    # Step 3: Collect elements back from buckets in order\n",
    "    for i in range(N):\n",
    "        while B[i]:\n",
    "            e = B[i].pop(0)\n",
    "            S.append(e)\n"
   ]
  },
  {
   "cell_type": "code",
   "execution_count": null,
   "id": "cde2cfc5-c316-4865-b3e0-bb25d112530d",
   "metadata": {},
   "outputs": [],
   "source": [
    "Code Fragment 12.8: Decorate-Sort-Undecorate Pattern (DSU) using Merge Sort"
   ]
  },
  {
   "cell_type": "code",
   "execution_count": null,
   "id": "5e4018ea-238c-451c-b411-82bff488cb73",
   "metadata": {},
   "outputs": [],
   "source": [
    "class Item:\n",
    "    \"\"\"Lightweight composite to store key-value pairs.\"\"\"\n",
    "    __slots__ = 'key', 'value'\n",
    "\n",
    "    def __init__(self, k, v):\n",
    "        self.key = k\n",
    "        self.value = v\n",
    "\n",
    "def decorated_merge_sort(data, key=None):\n",
    "    \"\"\"\n",
    "    Demonstration of the decorate-sort-undecorate pattern using merge sort.\n",
    "\n",
    "    Parameters:\n",
    "    data : list\n",
    "        List of elements to be sorted\n",
    "    key : function (optional)\n",
    "        Function to extract comparison key from each list element\n",
    "    \"\"\"\n",
    "    if key is not None:\n",
    "        # Decorate: Replace each element with an Item (key, value)\n",
    "        for j in range(len(data)):\n",
    "            data[j] = Item(key(data[j]), data[j])\n",
    "\n",
    "    # Sort using merge sort (assumes merge_sort function is defined elsewhere)\n",
    "    merge_sort(data)\n",
    "\n",
    "    if key is not None:\n",
    "        # Undecorate: Replace each Item with its original value\n",
    "        for j in range(len(data)):\n",
    "            data[j] = data[j].value\n"
   ]
  },
  {
   "cell_type": "code",
   "execution_count": null,
   "id": "73034a69-0a31-4c8a-a420-8a312673f56f",
   "metadata": {},
   "outputs": [],
   "source": [
    "Code Fragment 12.9: Quick Select Algorithm (Randomized)"
   ]
  },
  {
   "cell_type": "code",
   "execution_count": null,
   "id": "bf7b1390-8802-4836-b08e-fef9e37d69a4",
   "metadata": {},
   "outputs": [],
   "source": [
    "import random\n",
    "\n",
    "def quick_select(S, k):\n",
    "    \"\"\"\n",
    "    Return the k-th smallest element of list S, for k from 1 to len(S).\n",
    "\n",
    "    Parameters:\n",
    "    S : list\n",
    "        The list from which to select the k-th smallest element.\n",
    "    k : int\n",
    "        The rank (1-based) of the smallest element to retrieve.\n",
    "    \"\"\"\n",
    "    if len(S) == 1:\n",
    "        return S[0]\n",
    "\n",
    "    # Step 1: Choose a random pivot element from S\n",
    "    pivot = random.choice(S)\n",
    "\n",
    "    # Step 2: Partition the list into three categories\n",
    "    L = [x for x in S if x < pivot]       # Elements less than pivot\n",
    "    E = [x for x in S if x == pivot]      # Elements equal to pivot\n",
    "    G = [x for x in S if x > pivot]       # Elements greater than pivot\n",
    "\n",
    "    # Step 3: Recurse based on the size of partitions\n",
    "    if k <= len(L):\n",
    "        return quick_select(L, k)\n",
    "    elif k <= len(L) + len(E):\n",
    "        return pivot\n",
    "    else:\n",
    "        j = k - len(L) - len(E)\n",
    "        return quick_select(G, j)\n"
   ]
  },
  {
   "cell_type": "code",
   "execution_count": null,
   "id": "656c2de1-58e7-4c2c-adc8-5ec1f2c888f6",
   "metadata": {},
   "outputs": [],
   "source": [
    "### Exercises 12.1-12.24"
   ]
  },
  {
   "cell_type": "code",
   "execution_count": null,
   "id": "c9642a7f-7b36-43d7-8549-f2735682e56a",
   "metadata": {},
   "outputs": [],
   "source": [
    " R-12.1 Give a complete justification of Proposition 12.1.\n"
   ]
  },
  {
   "cell_type": "code",
   "execution_count": null,
   "id": "024280d6-d7aa-4055-af4b-30a6cb95a3bd",
   "metadata": {},
   "outputs": [],
   "source": [
    "THe merge sort tree has a height of log2(n) at each level.\n",
    "Due to this we need to divide the list into two smaller lists and this contiunues until the sublists are \n",
    "a size of 1, which happens afer log2(n) levels of recursion"
   ]
  },
  {
   "cell_type": "code",
   "execution_count": null,
   "id": "57a073fa-bb64-4570-aba3-f8166d8b9518",
   "metadata": {},
   "outputs": [],
   "source": [
    " R-12.2 In the merge-sort tree shown in Figures 12.2 through 12.4, some edges are\n",
    " drawn as arrows. What is the meaning of a downward arrow? How about\n",
    " an upward arrow?\n",
    " "
   ]
  },
  {
   "cell_type": "code",
   "execution_count": null,
   "id": "7cb1a0d6-12cb-43ed-9cd9-59e5ec3601d0",
   "metadata": {},
   "outputs": [],
   "source": [
    "a downward arros froma node repesents a recursive call to dive the sequence,\n",
    "while an upward arrow repreesents the merging step"
   ]
  },
  {
   "cell_type": "code",
   "execution_count": null,
   "id": "38fea39a-498e-4b8b-b072-110956a89b0d",
   "metadata": {},
   "outputs": [],
   "source": [
    "R-12.3 Show that the running time of the merge-sort algorithm on an n-element\n",
    " sequence is O(nlogn),evenwhenn is not a power of 2.\n"
   ]
  },
  {
   "cell_type": "code",
   "execution_count": 3,
   "id": "4ad30487-9008-4809-960f-cdd716f49e96",
   "metadata": {},
   "outputs": [
    {
     "ename": "SyntaxError",
     "evalue": "invalid syntax (4031935084.py, line 1)",
     "output_type": "error",
     "traceback": [
      "\u001b[1;36m  Cell \u001b[1;32mIn[3], line 1\u001b[1;36m\u001b[0m\n\u001b[1;33m    Even hen n is not a pwoer of 2, the recursice tree has a ehight of log(n)\u001b[0m\n\u001b[1;37m         ^\u001b[0m\n\u001b[1;31mSyntaxError\u001b[0m\u001b[1;31m:\u001b[0m invalid syntax\n"
     ]
    }
   ],
   "source": [
    "Even hen n is not a pwoer of 2, the recursice tree has a height of log(n), each level does n work, and the toal time is O(nlogn), this is why merge sort has a worst time complextity of O(nlogn) for all of n"
   ]
  },
  {
   "cell_type": "code",
   "execution_count": null,
   "id": "305b0876-382e-44b7-8052-7420e4737236",
   "metadata": {},
   "outputs": [],
   "source": [
    " R-12.4 Is our array-based implementation of merge-sort given in Section 12.2.2\n",
    " stable? Explain why or why not.\n",
    " "
   ]
  },
  {
   "cell_type": "code",
   "execution_count": null,
   "id": "1879c4f1-6d49-443b-894d-33c51b412f22",
   "metadata": {},
   "outputs": [],
   "source": [
    "The array is stable becayse the merge step alwasy -perfer the left side s! element in the case of times, that choice ensures the relatice order of equal elemetns is preserved during merging"
   ]
  },
  {
   "cell_type": "code",
   "execution_count": null,
   "id": "fd6d0b9e-cef0-49f8-b866-03bde6317f48",
   "metadata": {},
   "outputs": [],
   "source": [
    "R-12.5 Is our linked-list-based implementation of merge-sort given in Code Frag\n",
    "ment 12.3 stable? Explain why or why not.\n",
    " "
   ]
  },
  {
   "cell_type": "code",
   "execution_count": null,
   "id": "a10e5147-a87a-489d-8ecc-6c0b36e046dc",
   "metadata": {},
   "outputs": [],
   "source": [
    "The implementation is not stable becaysue when keys are unequal, the merge opersation dequeue sfrom S2 isntead of S1, which may reverse the original relatice oirder of equal elemetns "
   ]
  },
  {
   "cell_type": "code",
   "execution_count": null,
   "id": "bb9c2a4f-68d8-4e8b-927b-813c63131df4",
   "metadata": {},
   "outputs": [],
   "source": [
    "R-12.6 An algorithm that sorts key-value entries by key is said to be straggling\n",
    " if, any time two entries ei and ej have equal keys, but ei appears before ej\n",
    " in the input, then the algorithm places ei after ej in the output. Describe a\n",
    " change to the merge-sort algorithm in Section 12.2 to make it straggling.\n",
    " "
   ]
  },
  {
   "cell_type": "code",
   "execution_count": null,
   "id": "28f4a752-e74f-4570-96e2-eadb5ecffe1d",
   "metadata": {},
   "outputs": [],
   "source": [
    "A straggling algorithm reverses the relative order of entries with equal keys — that is, if entry ei appears before ej in the input but ei.key == ej.key, then ei ends up after ej in the output."
   ]
  },
  {
   "cell_type": "code",
   "execution_count": null,
   "id": "22d91d10-b013-4191-bd6b-4425842e8b08",
   "metadata": {},
   "outputs": [],
   "source": [
    "R-12.7 Suppose we are given two n-element sorted sequences A and B each with\n",
    " distinct elements, but potentially some elements that are in both sequences.\n",
    " Describe an O(n)-time method for computing a sequence representing the\n",
    " union A∪B (with no duplicates) as a sorted sequence.\n",
    " "
   ]
  },
  {
   "cell_type": "code",
   "execution_count": null,
   "id": "b1b52cf6-14d3-4417-b541-3bd081a3ec4e",
   "metadata": {},
   "outputs": [],
   "source": [
    "def sorted_union(A, B):\n",
    "    i = j = 0\n",
    "    result = []\n",
    "\n",
    "    while i < len(A) and j < len(B):\n",
    "        if A[i] < B[j]:\n",
    "            result.append(A[i])\n",
    "            i += 1\n",
    "        elif A[i] > B[j]:\n",
    "            result.append(B[j])\n",
    "            j += 1\n",
    "        else:  # A[i] == B[j]\n",
    "            result.append(A[i])  # Or B[j], doesn't matter—they're equal\n",
    "            i += 1\n",
    "            j += 1\n",
    "\n",
    "    # Add remaining elements\n",
    "    while i < len(A):\n",
    "        result.append(A[i])\n",
    "        i += 1\n",
    "\n",
    "    while j < len(B):\n",
    "        result.append(B[j])\n",
    "        j += 1\n",
    "\n",
    "    return result\n"
   ]
  },
  {
   "cell_type": "code",
   "execution_count": null,
   "id": "3dadde94-2d62-486b-ab2a-ed545c4ce89e",
   "metadata": {},
   "outputs": [],
   "source": [
    "R-12.8 Suppose we modify the deterministic version of the quick-sort algorithm\n",
    " so that, instead of selecting the last element in an n-element sequence as\n",
    " the pivot, we choose the element at index n/2 . What is the running time\n",
    " of this version of quick-sort on a sequence that is already sorted?\n"
   ]
  },
  {
   "cell_type": "code",
   "execution_count": null,
   "id": "9c6847d1-05c0-4b8f-85b1-4d8e0e9a47f6",
   "metadata": {},
   "outputs": [],
   "source": [
    "The running time is O(n log n), even on already sorted sequences, if the middle element is chosen as the pivot."
   ]
  },
  {
   "cell_type": "code",
   "execution_count": null,
   "id": "e41b6f5b-5a51-4aa9-824d-d6d3ae61b5d4",
   "metadata": {},
   "outputs": [],
   "source": [
    " R-12.9 Consider a modification of the deterministic version of the quick-sort al\n",
    "gorithm where we choose the element at index n/2 as our pivot. De\n",
    "scribe the kind of sequence that would cause this version of quick-sort to\n",
    " run in Ω(n2) time.\n",
    " "
   ]
  },
  {
   "cell_type": "code",
   "execution_count": null,
   "id": "7fe0e30b-3bea-47b9-8d96-8ae8d6de5d27",
   "metadata": {},
   "outputs": [],
   "source": [
    "A sequence where the middle element is always the smallest or largest in the current sub-array — such as a pathologically ordered sequence like:\n",
    "[1, 3, 2, 5, 4, 7, 6, 9, 8, 11, 10, …]\n",
    "this would cause the modified quick sort to run in Ω(n^2)"
   ]
  },
  {
   "cell_type": "code",
   "execution_count": null,
   "id": "0dab2073-a300-4b09-9a99-3cc64c2b3d81",
   "metadata": {},
   "outputs": [],
   "source": [
    "R-12.10 Show that the best-case running time of quick-sort on a sequence of size\n",
    " n with distinct elements is Ω(nlogn).\n"
   ]
  },
  {
   "cell_type": "code",
   "execution_count": null,
   "id": "a421932f-35c2-4367-af7f-4e3f124ae879",
   "metadata": {},
   "outputs": [],
   "source": [
    " Ω(nlogn)\n",
    "\n",
    "T(n)=2T(n/2)+cn\n",
    "T(n)= )(nlogn)"
   ]
  },
  {
   "cell_type": "code",
   "execution_count": null,
   "id": "d3aa9a85-7feb-45d4-96b0-9a10df2db50f",
   "metadata": {},
   "outputs": [],
   "source": [
    " R-12.11 Suppose function inplace quick sort is executed on a sequence with du\n",
    "plicate elements. Prove that the algorithm still correctly sorts the input\n",
    " sequence. What happens in the partition step when there are elements\n",
    " equal to the pivot? What is the running time of the algorithm if all the\n",
    " input elements are equal?\n",
    "\n"
   ]
  },
  {
   "cell_type": "markdown",
   "id": "4886e4e9-03c2-4887-b9a8-ac4c7c521acd",
   "metadata": {},
   "source": [
    "| Case                   | Behavior                                              |\n",
    "| ---------------------- | ----------------------------------------------------- |\n",
    "| **Duplicates**         | Still sorted correctly. Partition logic handles them. |\n",
    "| **Equal to Pivot**     | Grouped in one side. Doesn’t break correctness.       |\n",
    "| **All Elements Equal** | Worst-case performance: **Θ(n²)**.                    |\n"
   ]
  },
  {
   "cell_type": "code",
   "execution_count": null,
   "id": "6b2a6aa2-b1fa-40cb-9feb-7b5e9f10bac3",
   "metadata": {},
   "outputs": [],
   "source": [
    " R-12.12 If the outermost while loop of our implementation of inplace quick sort\n",
    " (line 7 of Code Fragment 12.6) were changed to use condition left < right\n",
    " (rather than left <=right), there would be a flaw. Explain the flaw and\n",
    " give a specific input sequence on which such an implementation fails.\n",
    " "
   ]
  },
  {
   "cell_type": "markdown",
   "id": "83454efa-c9ed-4ca0-a15c-173a9bafbb36",
   "metadata": {},
   "source": [
    "| Condition       | Effect                          | Result                |\n",
    "| --------------- | ------------------------------- | --------------------- |\n",
    "| `left <= right` | Processes every element + pivot | Correctly sorted list |\n",
    "| `left < right`  | May skip when `left == right`   | ❌ Unsorted / broken   |\n"
   ]
  },
  {
   "cell_type": "code",
   "execution_count": null,
   "id": "61052821-a8a5-4577-a2be-2809259a8c28",
   "metadata": {},
   "outputs": [],
   "source": [
    "R-12.13 If the conditional at line 14 of our inplace quick sort implementation of\n",
    " Code Fragment 12.6 were changed to use condition left < right (rather\n",
    " than left <=right), there would be a flaw. Explain the flaw and give a\n",
    " specific input sequence on which such an implementation fails.\n"
   ]
  },
  {
   "cell_type": "code",
   "execution_count": null,
   "id": "02c9f6ca-6679-47d8-9f7e-5561b00df6f8",
   "metadata": {},
   "outputs": [],
   "source": [
    "the flaw is left < right, once left == right, at index 1 the if lect< right fials and no swap occurs, \n",
    "pivot deosnt get moves , and ther quick sort breaks, resutl is unsorrted.\n",
    "\n",
    "the fix would be left <=right and to always use this, this ensures the proper handling of left==right, safe and complete partioning"
   ]
  },
  {
   "cell_type": "code",
   "execution_count": null,
   "id": "633c6732-fb8b-432b-bf43-dfb88cf98ec0",
   "metadata": {},
   "outputs": [],
   "source": [
    " R-12.14 Following our analysis of randomized quick-sort in Section 12.3.1, show\n",
    " that the probability that a given input element x belongs to more than\n",
    " 2logn subproblems in size group i is at most 1/n2.\n",
    " "
   ]
  },
  {
   "cell_type": "code",
   "execution_count": null,
   "id": "38c0b73f-205e-4ea7-a47d-a6d465badf49",
   "metadata": {},
   "outputs": [],
   "source": [
    "PR[Elemetn x appears in more than 2logn sub problmees in gorup i] <= 1/n^2\n",
    "This is a very strong bound its the kind youd use in a union bound over all 𝑛\n"
   ]
  },
  {
   "cell_type": "code",
   "execution_count": null,
   "id": "a974eb34-578b-4a41-8894-8e77e9c1eaf7",
   "metadata": {},
   "outputs": [],
   "source": [
    "R-12.15 Of the n! possible inputs to a given comparison-based sorting algorithm,\n",
    " what is the absolute maximum number of inputs that could be correctly\n",
    " sorted with just n comparisons?\n",
    " "
   ]
  },
  {
   "cell_type": "markdown",
   "id": "4924cf65-32ca-4674-bb28-e6e978fe4416",
   "metadata": {},
   "source": [
    "Maximum number of inputs sorted correctly n comparisons is 2^n\n"
   ]
  },
  {
   "cell_type": "code",
   "execution_count": null,
   "id": "50089498-aa5c-4caf-895d-34c88813b58c",
   "metadata": {},
   "outputs": [],
   "source": [
    "R-12.16 Jonathan has a comparison-based sorting algorithm that sorts the first k\n",
    " elements of a sequence of size n in O(n) time. Give a big-Oh characteri\n",
    "zation of the biggest that k can be?\n"
   ]
  },
  {
   "cell_type": "code",
   "execution_count": null,
   "id": "33fd88af-cc84-4d4b-a86d-cf4f3f463d99",
   "metadata": {},
   "outputs": [],
   "source": [
    "O(n/logn)"
   ]
  },
  {
   "cell_type": "code",
   "execution_count": null,
   "id": "419c3d01-fb88-4cbf-9f30-de4fcde53e38",
   "metadata": {},
   "outputs": [],
   "source": [
    " R-12.17 Is the bucket-sort algorithm in-place? Why or why not?\n"
   ]
  },
  {
   "cell_type": "code",
   "execution_count": null,
   "id": "585fbcb7-ba97-494a-8ec3-8b4c00bc01af",
   "metadata": {},
   "outputs": [],
   "source": [
    "No, to be condisdered in polace it used only a constant amount of extra memory beyond the input O(1),\n",
    "The total space used can grow lineraly with the number of input elements int the wrost case O(n) extra space"
   ]
  },
  {
   "cell_type": "code",
   "execution_count": null,
   "id": "cce3a3f8-8c0f-4751-aa3c-7fde0469c459",
   "metadata": {},
   "outputs": [],
   "source": [
    " R-12.18 Describe a radix-sort method for lexicographically sorting a sequence S of\n",
    " triplets (k,l,m),wherek, l,andm are integers in the range [0,N −1],for\n",
    " some N ≥2. Howcouldthis scheme be extended to sequences ofd-tuples\n",
    " (k1,k2,...,kd), where each ki is an integer in the range [0,N −1]?\n"
   ]
  },
  {
   "cell_type": "code",
   "execution_count": null,
   "id": "36f07d73-888a-48bd-bb78-468f198e81b9",
   "metadata": {},
   "outputs": [],
   "source": [
    "O(3(n+N))=O(n+N)"
   ]
  },
  {
   "cell_type": "code",
   "execution_count": null,
   "id": "bdbe21b4-c575-4f77-ac10-54707e076be2",
   "metadata": {},
   "outputs": [],
   "source": [
    " R-12.19 Suppose S is a sequence of n values, each equal to 0 or 1. How long will\n",
    " it take to sort S with the merge-sort algorithm? What about quick-sort?\n",
    " "
   ]
  },
  {
   "cell_type": "markdown",
   "id": "ea6c46c2-0c3d-4f8d-b5dc-1097f362d9dc",
   "metadata": {},
   "source": [
    "| Algorithm  | Time Complexity | Notes                                          |\n",
    "| ---------- | --------------- | ---------------------------------------------- |\n",
    "| Merge-Sort | Θ(n log n)      | Always the same; no optimization for 0/1 input |\n",
    "| Quick-Sort | Θ(n) to Θ(n²)   | Very fast if pivot splits 0s and 1s well       |\n"
   ]
  },
  {
   "cell_type": "code",
   "execution_count": null,
   "id": "bedebfb6-efd5-456b-91e5-a71d9d97161c",
   "metadata": {},
   "outputs": [],
   "source": [
    "R-12.20 Suppose S is a sequence of n values, each equal to 0 or 1. How long will\n",
    " it take to sort S stably with the bucket-sort algorithm?\n"
   ]
  },
  {
   "cell_type": "code",
   "execution_count": null,
   "id": "6f5c270c-82c7-4015-b06d-456eba615297",
   "metadata": {},
   "outputs": [],
   "source": [
    "O(n), it takes that time to stably sort a sequence of 0s and 1s using the bucket sorting algorithm"
   ]
  },
  {
   "cell_type": "code",
   "execution_count": null,
   "id": "d4b0a488-ae4a-4f1e-8028-bf017d745a2f",
   "metadata": {},
   "outputs": [],
   "source": [
    " R-12.21 Given a sequence S of n values, each equal to 0 or 1, describe an in-place\n",
    " method for sorting S.\n"
   ]
  },
  {
   "cell_type": "code",
   "execution_count": null,
   "id": "6874bbd0-2b87-4622-86c1-ab9541fe7a14",
   "metadata": {},
   "outputs": [],
   "source": [
    "You can sort a binary sequence (only 0s and 1s) in-place in O(n) time using a two-pointer method that partitions the list with swaps."
   ]
  },
  {
   "cell_type": "code",
   "execution_count": null,
   "id": "b84a47c3-ea8c-4b8f-84c4-3b0da551b58e",
   "metadata": {},
   "outputs": [],
   "source": [
    " R-12.22 Give an example input list that requires merge-sort and heap-sort to take\n",
    " O(nlogn) time to sort, but insertion-sort runs in O(n) time. What if you\n",
    " reverse this list?\n"
   ]
  },
  {
   "cell_type": "code",
   "execution_count": null,
   "id": "2591c616-f073-4dd9-acdb-f75aa1daff75",
   "metadata": {},
   "outputs": [],
   "source": [
    "An already sorted list causes insertion-sort to run in O(n) time, but merge-sort and heap-sort still take O(n log n).\n",
    "Reversing that list makes insertion-sort degrade to O(n^2), while merge-sort and heap-sort remain O(n log n)."
   ]
  },
  {
   "cell_type": "code",
   "execution_count": null,
   "id": "95f700dd-b259-482d-9d44-cc44b8af1913",
   "metadata": {},
   "outputs": [],
   "source": [
    " R-12.23 What is the best algorithm for sorting each of the following: general com\n",
    "parable objects, long character strings, 32-bit integers, double-precision\n",
    " f\n",
    " loating-point numbers, and bytes? Justify your answer.\n"
   ]
  },
  {
   "cell_type": "code",
   "execution_count": null,
   "id": "94b14c30-a761-47aa-869e-29993833f226",
   "metadata": {},
   "outputs": [],
   "source": [
    "general = Merge or Heap Sort\n",
    "\n",
    "Long Character strings = radix sort\n",
    "\n",
    "32 bit integers = radix sort or counting sort\n",
    "\n",
    "doulbe precision floating point numbers = merge sort or quick sort\n",
    "\n",
    "byters  0-255 = counting sort\n",
    "\n",
    "\n",
    "\n",
    "\n"
   ]
  },
  {
   "cell_type": "markdown",
   "id": "274e41d6-23e8-4e07-9735-ba03d93e6992",
   "metadata": {},
   "source": [
    "| Data Type                  | Best Algorithm      | Reason                                        |\n",
    "| -------------------------- | ------------------- | --------------------------------------------- |\n",
    "| General Comparable Objects | Merge/Heap Sort     | General-purpose, `O(n log n)` guaranteed      |\n",
    "| Long Character Strings     | MSD Radix Sort      | Efficient with common prefixes, `O(n·k)` time |\n",
    "| 32-bit Integers            | Radix/Counting Sort | Linear time possible due to fixed bit width   |\n",
    "| Doubles (Floating Points)  | Merge/Quick Sort    | Comparisons needed for precision              |\n",
    "| Bytes                      | Counting Sort       | Very small range, linear and stable           |\n"
   ]
  },
  {
   "cell_type": "code",
   "execution_count": null,
   "id": "3e3c57ec-ce34-411b-a71a-7a8de57eec2b",
   "metadata": {},
   "outputs": [],
   "source": [
    " R-12.24 Show that the worst-case running time of quick-select on an n-element\n",
    " sequence is Ω(n2)"
   ]
  },
  {
   "cell_type": "code",
   "execution_count": null,
   "id": "b14ae2d6-55c2-4863-804a-8c9fc33204de",
   "metadata": {},
   "outputs": [],
   "source": [
    "The worst-case for Quick-Select occurs when the pivot chosen is always the smallest or largest element\n",
    "T(n) = n + (n-1) + (n-2) + ... + 1 = (n(n+1))/2 = O(n²)\n",
    "Ω(n²)"
   ]
  },
  {
   "cell_type": "code",
   "execution_count": null,
   "id": "0b43a929-13e7-4037-bb0d-f96ea27ce5d9",
   "metadata": {},
   "outputs": [],
   "source": []
  },
  {
   "cell_type": "code",
   "execution_count": null,
   "id": "5dd02278-5711-4fe0-b97d-753ea191dbcf",
   "metadata": {},
   "outputs": [],
   "source": []
  },
  {
   "cell_type": "code",
   "execution_count": null,
   "id": "314412dd-2edc-48e8-b167-f5ebef430f8d",
   "metadata": {},
   "outputs": [],
   "source": []
  },
  {
   "cell_type": "code",
   "execution_count": null,
   "id": "6b2cd29f-5dcd-4060-9151-284d9caba5af",
   "metadata": {},
   "outputs": [],
   "source": []
  },
  {
   "cell_type": "code",
   "execution_count": null,
   "id": "1fe5f018-3483-40f7-9d00-b433198a94b3",
   "metadata": {},
   "outputs": [],
   "source": []
  },
  {
   "cell_type": "code",
   "execution_count": null,
   "id": "182e6483-8065-485b-9d52-f2065346d0ca",
   "metadata": {},
   "outputs": [],
   "source": []
  },
  {
   "cell_type": "code",
   "execution_count": null,
   "id": "79f082d6-e1ea-42de-be40-785a27421922",
   "metadata": {},
   "outputs": [],
   "source": []
  },
  {
   "cell_type": "code",
   "execution_count": null,
   "id": "e542267e-92c6-40b0-a029-7ebde2842209",
   "metadata": {},
   "outputs": [],
   "source": []
  },
  {
   "cell_type": "code",
   "execution_count": null,
   "id": "84e9a36d-e5bc-499b-af39-9ae15fe665d5",
   "metadata": {},
   "outputs": [],
   "source": []
  },
  {
   "cell_type": "code",
   "execution_count": null,
   "id": "f6e88aab-f267-4fd2-994e-b647a2a06e27",
   "metadata": {},
   "outputs": [],
   "source": []
  },
  {
   "cell_type": "code",
   "execution_count": null,
   "id": "05ff26a2-798b-4d41-ac14-1d4f93886d1e",
   "metadata": {},
   "outputs": [],
   "source": []
  },
  {
   "cell_type": "code",
   "execution_count": null,
   "id": "1d3f4f6b-c069-47f6-970e-4b29ba452b04",
   "metadata": {},
   "outputs": [],
   "source": []
  },
  {
   "cell_type": "code",
   "execution_count": null,
   "id": "8dc47eb5-027e-434c-a460-4a892b78d5a8",
   "metadata": {},
   "outputs": [],
   "source": []
  },
  {
   "cell_type": "code",
   "execution_count": null,
   "id": "f4a80794-8e2f-461a-939c-594321d0b9e7",
   "metadata": {},
   "outputs": [],
   "source": []
  },
  {
   "cell_type": "code",
   "execution_count": null,
   "id": "7bd3ebad-f326-4f59-8968-5b3881ff71f1",
   "metadata": {},
   "outputs": [],
   "source": []
  },
  {
   "cell_type": "code",
   "execution_count": null,
   "id": "e62fd5d0-6f4f-4675-92e0-c13c2f8ec01a",
   "metadata": {},
   "outputs": [],
   "source": []
  },
  {
   "cell_type": "code",
   "execution_count": null,
   "id": "ff79f325-5e68-41f7-a73b-d5c1168d9f4a",
   "metadata": {},
   "outputs": [],
   "source": []
  },
  {
   "cell_type": "code",
   "execution_count": null,
   "id": "0ff66704-740e-4700-8cb2-23990e53191d",
   "metadata": {},
   "outputs": [],
   "source": []
  },
  {
   "cell_type": "code",
   "execution_count": null,
   "id": "86088d71-3917-4fa9-8260-ce7c71e0153c",
   "metadata": {},
   "outputs": [],
   "source": []
  },
  {
   "cell_type": "code",
   "execution_count": null,
   "id": "680dbf2d-ae70-4a16-8417-7295a580e439",
   "metadata": {},
   "outputs": [],
   "source": []
  },
  {
   "cell_type": "code",
   "execution_count": null,
   "id": "3e2159be-b467-4f23-b3ec-1d18eddbf015",
   "metadata": {},
   "outputs": [],
   "source": []
  },
  {
   "cell_type": "code",
   "execution_count": null,
   "id": "b9fbaaee-a88b-4c29-a971-d64a45aca608",
   "metadata": {},
   "outputs": [],
   "source": []
  },
  {
   "cell_type": "code",
   "execution_count": null,
   "id": "e08cb7f2-c6f6-48f8-b19b-79dd66e47f84",
   "metadata": {},
   "outputs": [],
   "source": []
  },
  {
   "cell_type": "code",
   "execution_count": null,
   "id": "a8a9736c-7bce-4f08-99d8-aa82aba96928",
   "metadata": {},
   "outputs": [],
   "source": []
  },
  {
   "cell_type": "code",
   "execution_count": null,
   "id": "a78545f0-1f2f-42aa-8793-afae3ee92edf",
   "metadata": {},
   "outputs": [],
   "source": []
  },
  {
   "cell_type": "code",
   "execution_count": null,
   "id": "08664da4-ea10-4065-84d6-5b0dcda4d59d",
   "metadata": {},
   "outputs": [],
   "source": []
  },
  {
   "cell_type": "code",
   "execution_count": null,
   "id": "cbf94c4c-c22b-491c-88ce-340353f31632",
   "metadata": {},
   "outputs": [],
   "source": []
  },
  {
   "cell_type": "code",
   "execution_count": null,
   "id": "11220c46-5c07-4cb0-8df7-c14afe0a02c0",
   "metadata": {},
   "outputs": [],
   "source": []
  },
  {
   "cell_type": "code",
   "execution_count": null,
   "id": "7a675025-2aa3-4368-92ec-4f6f52506675",
   "metadata": {},
   "outputs": [],
   "source": []
  },
  {
   "cell_type": "code",
   "execution_count": null,
   "id": "c0310b6c-ce5b-42de-add5-4ab2087a6a04",
   "metadata": {},
   "outputs": [],
   "source": []
  },
  {
   "cell_type": "code",
   "execution_count": null,
   "id": "4719d0bc-49d1-4c2d-9d73-25e60c38106f",
   "metadata": {},
   "outputs": [],
   "source": []
  },
  {
   "cell_type": "code",
   "execution_count": null,
   "id": "cd82031a-8309-473a-8b93-6135cc7f82c2",
   "metadata": {},
   "outputs": [],
   "source": []
  },
  {
   "cell_type": "code",
   "execution_count": null,
   "id": "db77bece-d240-41d5-9165-60ce17e0ee89",
   "metadata": {},
   "outputs": [],
   "source": []
  },
  {
   "cell_type": "code",
   "execution_count": null,
   "id": "b2023372-c3e6-4fd5-af47-750ff1b3d18e",
   "metadata": {},
   "outputs": [],
   "source": []
  },
  {
   "cell_type": "code",
   "execution_count": null,
   "id": "a43b4aa6-b094-46a1-9e99-2ab1c56f0f5e",
   "metadata": {},
   "outputs": [],
   "source": []
  },
  {
   "cell_type": "code",
   "execution_count": null,
   "id": "2fd009af-6e9b-4e65-add8-e6d89ba47952",
   "metadata": {},
   "outputs": [],
   "source": []
  },
  {
   "cell_type": "code",
   "execution_count": null,
   "id": "df726029-aa63-41af-a708-9fcbd9c2d969",
   "metadata": {},
   "outputs": [],
   "source": []
  },
  {
   "cell_type": "code",
   "execution_count": null,
   "id": "a4534618-2786-4566-b893-feb895f79646",
   "metadata": {},
   "outputs": [],
   "source": []
  },
  {
   "cell_type": "code",
   "execution_count": null,
   "id": "c2f5f4ab-f878-4a78-95e9-7b07b6788752",
   "metadata": {},
   "outputs": [],
   "source": []
  },
  {
   "cell_type": "code",
   "execution_count": null,
   "id": "09944f95-f118-4525-88a7-1b305a90cb0b",
   "metadata": {},
   "outputs": [],
   "source": []
  },
  {
   "cell_type": "code",
   "execution_count": null,
   "id": "c2685358-e49b-417a-8419-fe94d8eae962",
   "metadata": {},
   "outputs": [],
   "source": []
  },
  {
   "cell_type": "code",
   "execution_count": null,
   "id": "d6656ff6-5d82-4b4a-8cf0-cde47870f5b3",
   "metadata": {},
   "outputs": [],
   "source": []
  },
  {
   "cell_type": "code",
   "execution_count": null,
   "id": "4b5c0b58-18c4-4a42-aae6-8b6ef1738483",
   "metadata": {},
   "outputs": [],
   "source": []
  },
  {
   "cell_type": "code",
   "execution_count": null,
   "id": "b5e2ed94-77eb-454b-8b8d-4ba52c8f96ab",
   "metadata": {},
   "outputs": [],
   "source": []
  },
  {
   "cell_type": "code",
   "execution_count": null,
   "id": "092a447f-c1fa-4197-9860-a9542c6af6e8",
   "metadata": {},
   "outputs": [],
   "source": []
  },
  {
   "cell_type": "code",
   "execution_count": null,
   "id": "d9b47b23-1696-4e7b-917b-aa28a8c6abaa",
   "metadata": {},
   "outputs": [],
   "source": []
  },
  {
   "cell_type": "code",
   "execution_count": null,
   "id": "1fa0b7e9-a4ef-4b9e-b47a-c3fc0430a507",
   "metadata": {},
   "outputs": [],
   "source": []
  },
  {
   "cell_type": "code",
   "execution_count": null,
   "id": "7300bf39-8c8c-4c88-be0e-465f354b5f07",
   "metadata": {},
   "outputs": [],
   "source": []
  },
  {
   "cell_type": "code",
   "execution_count": null,
   "id": "ff8d8438-59d0-4cce-8db2-9432ddef486c",
   "metadata": {},
   "outputs": [],
   "source": []
  },
  {
   "cell_type": "code",
   "execution_count": null,
   "id": "885b14b0-0a53-4326-96a1-abcd64c67c3d",
   "metadata": {},
   "outputs": [],
   "source": []
  },
  {
   "cell_type": "code",
   "execution_count": null,
   "id": "61d797aa-1ca0-47fa-b3d0-e1b38e1ff093",
   "metadata": {},
   "outputs": [],
   "source": []
  },
  {
   "cell_type": "code",
   "execution_count": null,
   "id": "2659a6a5-e48f-4235-b20f-546bdf5588ec",
   "metadata": {},
   "outputs": [],
   "source": []
  },
  {
   "cell_type": "code",
   "execution_count": null,
   "id": "2ad94693-c0d0-4bb1-a892-77627cd87b24",
   "metadata": {},
   "outputs": [],
   "source": []
  },
  {
   "cell_type": "code",
   "execution_count": null,
   "id": "ab4f29b9-fcea-4173-848c-bfbd8382623b",
   "metadata": {},
   "outputs": [],
   "source": []
  },
  {
   "cell_type": "code",
   "execution_count": null,
   "id": "a8987371-6d91-4d14-9a47-31dc7e320485",
   "metadata": {},
   "outputs": [],
   "source": []
  },
  {
   "cell_type": "code",
   "execution_count": null,
   "id": "55484150-d3c5-44f1-9b65-e47930ed5d65",
   "metadata": {},
   "outputs": [],
   "source": []
  },
  {
   "cell_type": "code",
   "execution_count": null,
   "id": "56a0f005-818c-4e6a-a928-6a30a041dca4",
   "metadata": {},
   "outputs": [],
   "source": []
  },
  {
   "cell_type": "code",
   "execution_count": null,
   "id": "d56536bb-840c-4ab8-a0a7-f56f307d53c1",
   "metadata": {},
   "outputs": [],
   "source": []
  },
  {
   "cell_type": "code",
   "execution_count": null,
   "id": "db41f24f-f829-43c2-b82a-579d74797f77",
   "metadata": {},
   "outputs": [],
   "source": []
  },
  {
   "cell_type": "code",
   "execution_count": null,
   "id": "1e080aa4-93b4-4d04-9c08-ed623120837c",
   "metadata": {},
   "outputs": [],
   "source": []
  },
  {
   "cell_type": "code",
   "execution_count": null,
   "id": "bac62db2-b345-41eb-9fd5-ff3ca9949cd4",
   "metadata": {},
   "outputs": [],
   "source": []
  },
  {
   "cell_type": "code",
   "execution_count": null,
   "id": "a9faaf35-be28-4af1-b199-0fbaffed5f6a",
   "metadata": {},
   "outputs": [],
   "source": []
  },
  {
   "cell_type": "code",
   "execution_count": null,
   "id": "3b288c16-9a49-4df6-987e-3b823052cd56",
   "metadata": {},
   "outputs": [],
   "source": []
  },
  {
   "cell_type": "code",
   "execution_count": null,
   "id": "caa26791-3c65-4758-9084-3bbf8aa86f3b",
   "metadata": {},
   "outputs": [],
   "source": []
  },
  {
   "cell_type": "code",
   "execution_count": null,
   "id": "b2e8e00d-188c-402d-bfc6-f0786714b658",
   "metadata": {},
   "outputs": [],
   "source": []
  },
  {
   "cell_type": "code",
   "execution_count": null,
   "id": "3b4bf344-85c1-4f8c-9486-02c6dd6f912c",
   "metadata": {},
   "outputs": [],
   "source": []
  },
  {
   "cell_type": "code",
   "execution_count": null,
   "id": "1899b978-66af-42a2-992d-8dffc4a36b5a",
   "metadata": {},
   "outputs": [],
   "source": []
  },
  {
   "cell_type": "code",
   "execution_count": null,
   "id": "ce1ba9fc-88a5-4d1b-9198-e65e970f7f67",
   "metadata": {},
   "outputs": [],
   "source": []
  },
  {
   "cell_type": "code",
   "execution_count": null,
   "id": "a8206c61-8e1c-497b-9736-b9d8f2c6a92c",
   "metadata": {},
   "outputs": [],
   "source": []
  },
  {
   "cell_type": "code",
   "execution_count": null,
   "id": "0975b004-c390-4beb-8cf0-299f419fe6da",
   "metadata": {},
   "outputs": [],
   "source": []
  },
  {
   "cell_type": "code",
   "execution_count": null,
   "id": "76c50aca-1237-48d1-8fef-c3b7010373e7",
   "metadata": {},
   "outputs": [],
   "source": []
  },
  {
   "cell_type": "code",
   "execution_count": null,
   "id": "f7c8452b-fb59-4c7e-b3e2-488dfb5600de",
   "metadata": {},
   "outputs": [],
   "source": []
  },
  {
   "cell_type": "code",
   "execution_count": null,
   "id": "6a2ce09c-e2b7-424c-88e7-742fea6bf69e",
   "metadata": {},
   "outputs": [],
   "source": []
  },
  {
   "cell_type": "code",
   "execution_count": null,
   "id": "7c7ce46b-32ac-4c0c-b9c2-490053955eba",
   "metadata": {},
   "outputs": [],
   "source": []
  },
  {
   "cell_type": "code",
   "execution_count": null,
   "id": "e7c4bb78-a658-48c5-9be5-356238b893d1",
   "metadata": {},
   "outputs": [],
   "source": []
  },
  {
   "cell_type": "code",
   "execution_count": null,
   "id": "f9db8d55-4a34-4f95-990a-cb5e25430bee",
   "metadata": {},
   "outputs": [],
   "source": []
  },
  {
   "cell_type": "code",
   "execution_count": null,
   "id": "87763b82-3327-449f-96bb-0497e46c92c1",
   "metadata": {},
   "outputs": [],
   "source": []
  },
  {
   "cell_type": "code",
   "execution_count": null,
   "id": "4ef7f74d-ad37-4241-84ea-24add7b33b09",
   "metadata": {},
   "outputs": [],
   "source": []
  },
  {
   "cell_type": "code",
   "execution_count": null,
   "id": "4f3c6cbb-5d45-4b85-9336-9e769d7e4d6f",
   "metadata": {},
   "outputs": [],
   "source": []
  },
  {
   "cell_type": "code",
   "execution_count": null,
   "id": "d27e1c91-4c50-440c-8f5e-f269933f92d3",
   "metadata": {},
   "outputs": [],
   "source": []
  },
  {
   "cell_type": "code",
   "execution_count": null,
   "id": "ec603bf7-a2b2-45c2-8119-d291928eaf57",
   "metadata": {},
   "outputs": [],
   "source": []
  },
  {
   "cell_type": "code",
   "execution_count": null,
   "id": "b8a87014-afd5-446a-8436-b4bd0ac95776",
   "metadata": {},
   "outputs": [],
   "source": []
  },
  {
   "cell_type": "code",
   "execution_count": null,
   "id": "1095aad6-87c2-4c03-b38f-acff7d9b64aa",
   "metadata": {},
   "outputs": [],
   "source": []
  },
  {
   "cell_type": "code",
   "execution_count": null,
   "id": "a463bee8-974d-4987-b791-a1433d299111",
   "metadata": {},
   "outputs": [],
   "source": []
  },
  {
   "cell_type": "code",
   "execution_count": null,
   "id": "774008e8-a933-4255-b2a6-535e67ed152f",
   "metadata": {},
   "outputs": [],
   "source": []
  },
  {
   "cell_type": "code",
   "execution_count": null,
   "id": "a52e1350-baaa-468d-becd-bbe733aad0f2",
   "metadata": {},
   "outputs": [],
   "source": []
  },
  {
   "cell_type": "code",
   "execution_count": null,
   "id": "a2baa950-d0e1-45e1-b7a4-7cdad3a08007",
   "metadata": {},
   "outputs": [],
   "source": []
  },
  {
   "cell_type": "code",
   "execution_count": null,
   "id": "5611a6c3-2348-4a46-98d0-28df9172613e",
   "metadata": {},
   "outputs": [],
   "source": []
  },
  {
   "cell_type": "code",
   "execution_count": null,
   "id": "b1a16e91-cca8-400c-a76b-de8bf0485753",
   "metadata": {},
   "outputs": [],
   "source": []
  },
  {
   "cell_type": "code",
   "execution_count": null,
   "id": "cffb7dcc-f6eb-484e-87a2-0b5baa3f6469",
   "metadata": {},
   "outputs": [],
   "source": []
  },
  {
   "cell_type": "code",
   "execution_count": null,
   "id": "279522f7-2b19-46d7-a4cb-78769407470b",
   "metadata": {},
   "outputs": [],
   "source": []
  },
  {
   "cell_type": "code",
   "execution_count": null,
   "id": "74eaec65-dd67-4877-8ff6-27966b30731f",
   "metadata": {},
   "outputs": [],
   "source": []
  },
  {
   "cell_type": "code",
   "execution_count": null,
   "id": "1875486c-12ab-41de-8ec2-a2aefa8cecac",
   "metadata": {},
   "outputs": [],
   "source": []
  },
  {
   "cell_type": "code",
   "execution_count": null,
   "id": "55ac8a8c-d1f0-487f-a4ef-cb84906389f6",
   "metadata": {},
   "outputs": [],
   "source": []
  },
  {
   "cell_type": "code",
   "execution_count": null,
   "id": "3c69bee4-50b6-492e-b131-0c13ecb5ef36",
   "metadata": {},
   "outputs": [],
   "source": []
  },
  {
   "cell_type": "code",
   "execution_count": null,
   "id": "0af58439-bfd2-46bf-877b-b3fa95b0126d",
   "metadata": {},
   "outputs": [],
   "source": []
  },
  {
   "cell_type": "code",
   "execution_count": null,
   "id": "cfab5dd2-f71d-404b-b096-cf241a301b3f",
   "metadata": {},
   "outputs": [],
   "source": []
  },
  {
   "cell_type": "code",
   "execution_count": null,
   "id": "127abbc2-df4e-48de-bcbb-9d62ef0fceb8",
   "metadata": {},
   "outputs": [],
   "source": []
  },
  {
   "cell_type": "code",
   "execution_count": null,
   "id": "f7d96e09-6cfb-43cc-9e1a-3a8c96d2607f",
   "metadata": {},
   "outputs": [],
   "source": []
  },
  {
   "cell_type": "code",
   "execution_count": null,
   "id": "57376342-485f-4934-a6f1-f4a263f6a802",
   "metadata": {},
   "outputs": [],
   "source": []
  },
  {
   "cell_type": "code",
   "execution_count": null,
   "id": "5592b74b-364d-40c7-8d0e-d05db822806e",
   "metadata": {},
   "outputs": [],
   "source": []
  },
  {
   "cell_type": "code",
   "execution_count": null,
   "id": "daa86f40-4e46-4e7a-946a-6f7679d6a439",
   "metadata": {},
   "outputs": [],
   "source": []
  },
  {
   "cell_type": "code",
   "execution_count": null,
   "id": "903d5410-46bd-40f0-953b-457254fd951f",
   "metadata": {},
   "outputs": [],
   "source": []
  },
  {
   "cell_type": "code",
   "execution_count": null,
   "id": "fa35a01f-8958-4a6e-aaaa-7fff76323436",
   "metadata": {},
   "outputs": [],
   "source": []
  },
  {
   "cell_type": "code",
   "execution_count": null,
   "id": "c93dc620-dba4-4d96-a15d-ac59e39fa91c",
   "metadata": {},
   "outputs": [],
   "source": []
  },
  {
   "cell_type": "code",
   "execution_count": null,
   "id": "5cd9edcb-0acd-46f4-83a6-3afe564328c7",
   "metadata": {},
   "outputs": [],
   "source": []
  },
  {
   "cell_type": "code",
   "execution_count": null,
   "id": "ead287a6-add0-4f7b-b94a-cc7c69255bfa",
   "metadata": {},
   "outputs": [],
   "source": []
  },
  {
   "cell_type": "code",
   "execution_count": null,
   "id": "95833a33-bfeb-4509-808f-b140fe380bb4",
   "metadata": {},
   "outputs": [],
   "source": []
  },
  {
   "cell_type": "code",
   "execution_count": null,
   "id": "b3e82e3b-63f6-45fd-bece-be25664edc58",
   "metadata": {},
   "outputs": [],
   "source": []
  },
  {
   "cell_type": "code",
   "execution_count": null,
   "id": "6d32821c-e2df-41f8-b50b-dda14a5f1352",
   "metadata": {},
   "outputs": [],
   "source": []
  },
  {
   "cell_type": "code",
   "execution_count": null,
   "id": "e015a6e9-cada-48a2-ad8a-91a6aca59b43",
   "metadata": {},
   "outputs": [],
   "source": []
  },
  {
   "cell_type": "code",
   "execution_count": null,
   "id": "491198c0-2700-4b86-9cd7-c98e5c65ed6b",
   "metadata": {},
   "outputs": [],
   "source": []
  },
  {
   "cell_type": "code",
   "execution_count": null,
   "id": "26dd7fae-c076-4872-846d-f1d082e78912",
   "metadata": {},
   "outputs": [],
   "source": []
  },
  {
   "cell_type": "code",
   "execution_count": null,
   "id": "5ba264f6-c915-49f5-bedb-370346af77a3",
   "metadata": {},
   "outputs": [],
   "source": []
  },
  {
   "cell_type": "code",
   "execution_count": null,
   "id": "813006b5-5ad9-40dd-a51f-5f1cb29e0755",
   "metadata": {},
   "outputs": [],
   "source": []
  },
  {
   "cell_type": "code",
   "execution_count": null,
   "id": "a36d0df6-71d7-480b-853b-89d58b60a1f3",
   "metadata": {},
   "outputs": [],
   "source": []
  },
  {
   "cell_type": "code",
   "execution_count": null,
   "id": "2e038b2e-e6f4-4550-9bc4-f2cb08d24199",
   "metadata": {},
   "outputs": [],
   "source": []
  },
  {
   "cell_type": "code",
   "execution_count": null,
   "id": "b1f8b1af-0e11-41bd-b083-1fc7c15583fd",
   "metadata": {},
   "outputs": [],
   "source": []
  },
  {
   "cell_type": "code",
   "execution_count": null,
   "id": "2c281335-4f2c-4455-8508-a5100b9c60e7",
   "metadata": {},
   "outputs": [],
   "source": []
  },
  {
   "cell_type": "code",
   "execution_count": null,
   "id": "99701536-e507-441e-9077-6b260d6b32d0",
   "metadata": {},
   "outputs": [],
   "source": []
  },
  {
   "cell_type": "code",
   "execution_count": null,
   "id": "7dd6d59c-a8cf-4c35-96d1-5b8f0c1951b1",
   "metadata": {},
   "outputs": [],
   "source": []
  },
  {
   "cell_type": "code",
   "execution_count": null,
   "id": "d3b35c19-51f9-42e2-9438-1d7ce4f06f78",
   "metadata": {},
   "outputs": [],
   "source": []
  },
  {
   "cell_type": "code",
   "execution_count": null,
   "id": "d66e6faa-9d7c-4a74-b59a-988cb7319eec",
   "metadata": {},
   "outputs": [],
   "source": []
  },
  {
   "cell_type": "code",
   "execution_count": null,
   "id": "40735dd8-1cc9-4d67-9176-972a99f4f352",
   "metadata": {},
   "outputs": [],
   "source": []
  },
  {
   "cell_type": "code",
   "execution_count": null,
   "id": "0bded108-802e-4495-b71c-8e1c6a2b7174",
   "metadata": {},
   "outputs": [],
   "source": []
  },
  {
   "cell_type": "code",
   "execution_count": null,
   "id": "b49ff785-8b6b-4156-ada4-d5e2198a6318",
   "metadata": {},
   "outputs": [],
   "source": []
  },
  {
   "cell_type": "code",
   "execution_count": null,
   "id": "178d94a0-e32c-4d1d-ba14-58c78e74c90a",
   "metadata": {},
   "outputs": [],
   "source": []
  },
  {
   "cell_type": "code",
   "execution_count": null,
   "id": "f3f99071-ed19-4e5b-9aba-fe32d90ff4f6",
   "metadata": {},
   "outputs": [],
   "source": []
  },
  {
   "cell_type": "code",
   "execution_count": null,
   "id": "1804801f-95fd-4752-bde0-509f5935131f",
   "metadata": {},
   "outputs": [],
   "source": []
  },
  {
   "cell_type": "code",
   "execution_count": null,
   "id": "0fc45721-1095-444a-a35e-554518e5a67c",
   "metadata": {},
   "outputs": [],
   "source": []
  },
  {
   "cell_type": "code",
   "execution_count": null,
   "id": "b1ade76a-2d93-4f31-ae0e-3361df9220c4",
   "metadata": {},
   "outputs": [],
   "source": []
  },
  {
   "cell_type": "code",
   "execution_count": null,
   "id": "9510aafa-9121-4d26-b157-3282fad3f1d6",
   "metadata": {},
   "outputs": [],
   "source": []
  },
  {
   "cell_type": "code",
   "execution_count": null,
   "id": "da9b1815-40c6-4d36-9f23-036986095c0e",
   "metadata": {},
   "outputs": [],
   "source": []
  },
  {
   "cell_type": "code",
   "execution_count": null,
   "id": "0bf0ea09-764d-4dae-bd0b-02d0913a639c",
   "metadata": {},
   "outputs": [],
   "source": []
  },
  {
   "cell_type": "code",
   "execution_count": null,
   "id": "c9883288-28a7-412b-887f-98445b3c9a93",
   "metadata": {},
   "outputs": [],
   "source": []
  },
  {
   "cell_type": "code",
   "execution_count": null,
   "id": "61e10189-786d-4456-bfc9-43ac74f90096",
   "metadata": {},
   "outputs": [],
   "source": []
  },
  {
   "cell_type": "code",
   "execution_count": null,
   "id": "fa83d6da-80c3-41ef-8fdf-7b6b2ee89a7a",
   "metadata": {},
   "outputs": [],
   "source": []
  },
  {
   "cell_type": "code",
   "execution_count": null,
   "id": "f9b3b26d-251a-4d3e-b603-fddd44df935b",
   "metadata": {},
   "outputs": [],
   "source": []
  },
  {
   "cell_type": "code",
   "execution_count": null,
   "id": "6384a633-9223-421b-b309-5554a23c7127",
   "metadata": {},
   "outputs": [],
   "source": []
  },
  {
   "cell_type": "code",
   "execution_count": null,
   "id": "408e7281-3429-49af-a358-1b075eae2b25",
   "metadata": {},
   "outputs": [],
   "source": []
  },
  {
   "cell_type": "code",
   "execution_count": null,
   "id": "cd3b864b-3270-4857-ab0d-a53e487349e9",
   "metadata": {},
   "outputs": [],
   "source": []
  },
  {
   "cell_type": "code",
   "execution_count": null,
   "id": "7f81a206-aee4-4592-bbf9-00fca931cda1",
   "metadata": {},
   "outputs": [],
   "source": []
  },
  {
   "cell_type": "code",
   "execution_count": null,
   "id": "0f638123-ac63-447e-ad00-31cf9e97f4e5",
   "metadata": {},
   "outputs": [],
   "source": []
  },
  {
   "cell_type": "code",
   "execution_count": null,
   "id": "c5edb88e-7c83-46d5-900d-55b51772b9e7",
   "metadata": {},
   "outputs": [],
   "source": []
  },
  {
   "cell_type": "code",
   "execution_count": null,
   "id": "5f1a4d47-735a-4555-82ac-fd0560e0abff",
   "metadata": {},
   "outputs": [],
   "source": []
  },
  {
   "cell_type": "code",
   "execution_count": null,
   "id": "704adade-79a6-443b-aab8-098be743dcf9",
   "metadata": {},
   "outputs": [],
   "source": []
  },
  {
   "cell_type": "code",
   "execution_count": null,
   "id": "f03cd2dd-2a05-4ab1-8237-db4ef3e46fc2",
   "metadata": {},
   "outputs": [],
   "source": []
  },
  {
   "cell_type": "code",
   "execution_count": null,
   "id": "04a673c5-7a94-4c36-8513-93e18b2fb510",
   "metadata": {},
   "outputs": [],
   "source": []
  },
  {
   "cell_type": "code",
   "execution_count": null,
   "id": "1ca938a3-0725-4987-a4f3-37eda47c4444",
   "metadata": {},
   "outputs": [],
   "source": []
  },
  {
   "cell_type": "code",
   "execution_count": null,
   "id": "47000a73-128f-47ab-95ba-b2b5c1b0dbfb",
   "metadata": {},
   "outputs": [],
   "source": []
  },
  {
   "cell_type": "code",
   "execution_count": null,
   "id": "b24ea0d2-4258-4593-9c16-a3a6c882555c",
   "metadata": {},
   "outputs": [],
   "source": []
  },
  {
   "cell_type": "code",
   "execution_count": null,
   "id": "39381319-04dd-4b58-a6d0-ad2d5d0247a0",
   "metadata": {},
   "outputs": [],
   "source": []
  },
  {
   "cell_type": "code",
   "execution_count": null,
   "id": "942c0e19-969f-4586-ac8f-f6a0e33c55dc",
   "metadata": {},
   "outputs": [],
   "source": []
  },
  {
   "cell_type": "code",
   "execution_count": null,
   "id": "b462b9fc-6390-4542-8c75-df1700a28eed",
   "metadata": {},
   "outputs": [],
   "source": []
  },
  {
   "cell_type": "code",
   "execution_count": null,
   "id": "8aed2667-8db3-4b9f-8c1e-e3dbaf449e4d",
   "metadata": {},
   "outputs": [],
   "source": []
  },
  {
   "cell_type": "code",
   "execution_count": null,
   "id": "c28e2387-9b8f-4efc-b6e9-4ea438a2057b",
   "metadata": {},
   "outputs": [],
   "source": []
  },
  {
   "cell_type": "code",
   "execution_count": null,
   "id": "9787459f-2ff6-447c-af7b-14b9486f368e",
   "metadata": {},
   "outputs": [],
   "source": []
  },
  {
   "cell_type": "code",
   "execution_count": null,
   "id": "e98a75ef-c1ad-40e8-9255-5707bfa7dcb5",
   "metadata": {},
   "outputs": [],
   "source": []
  },
  {
   "cell_type": "code",
   "execution_count": null,
   "id": "66d3713b-f798-493a-945d-2d8cb9923c5d",
   "metadata": {},
   "outputs": [],
   "source": []
  },
  {
   "cell_type": "code",
   "execution_count": null,
   "id": "1c7f5944-b3fa-435e-90ff-720ac777f82a",
   "metadata": {},
   "outputs": [],
   "source": []
  },
  {
   "cell_type": "code",
   "execution_count": null,
   "id": "7cae4a34-7fd0-4fb3-8b8b-8b0d351d669c",
   "metadata": {},
   "outputs": [],
   "source": []
  },
  {
   "cell_type": "code",
   "execution_count": null,
   "id": "573a02fe-a982-4bb3-9ea9-ed9aee970eea",
   "metadata": {},
   "outputs": [],
   "source": []
  },
  {
   "cell_type": "code",
   "execution_count": null,
   "id": "fd3cef14-d36b-4db2-b3ee-0e5c10bf5b79",
   "metadata": {},
   "outputs": [],
   "source": []
  },
  {
   "cell_type": "code",
   "execution_count": null,
   "id": "b8d770f3-6fa8-4462-ad6d-e280aec62cfd",
   "metadata": {},
   "outputs": [],
   "source": []
  },
  {
   "cell_type": "code",
   "execution_count": null,
   "id": "a09f1494-4992-4952-928c-9a43a650cef2",
   "metadata": {},
   "outputs": [],
   "source": []
  },
  {
   "cell_type": "code",
   "execution_count": null,
   "id": "b6151bf3-1796-4dcb-8a4a-2b499048959a",
   "metadata": {},
   "outputs": [],
   "source": []
  },
  {
   "cell_type": "code",
   "execution_count": null,
   "id": "f3577939-3ab2-4fae-84ea-ce9a6a943295",
   "metadata": {},
   "outputs": [],
   "source": []
  },
  {
   "cell_type": "code",
   "execution_count": null,
   "id": "e298cdea-6d51-4658-b2cf-eaad738ab603",
   "metadata": {},
   "outputs": [],
   "source": []
  },
  {
   "cell_type": "code",
   "execution_count": null,
   "id": "f1191f1b-f96a-4978-b799-7bb83722cc88",
   "metadata": {},
   "outputs": [],
   "source": []
  },
  {
   "cell_type": "code",
   "execution_count": null,
   "id": "8f7e7de7-1777-448c-8738-96fcc471d7fa",
   "metadata": {},
   "outputs": [],
   "source": []
  },
  {
   "cell_type": "code",
   "execution_count": null,
   "id": "b652fd79-1ff1-4bfc-9de5-2040ad0c8173",
   "metadata": {},
   "outputs": [],
   "source": []
  },
  {
   "cell_type": "code",
   "execution_count": null,
   "id": "fbe7ffec-5f36-4db1-85ce-fb8cb15b0c2e",
   "metadata": {},
   "outputs": [],
   "source": []
  },
  {
   "cell_type": "code",
   "execution_count": null,
   "id": "42d9c828-9484-461c-8011-b48f6cba9591",
   "metadata": {},
   "outputs": [],
   "source": []
  },
  {
   "cell_type": "code",
   "execution_count": null,
   "id": "6d68b8af-d9d1-4ed6-aca6-06ef035ae8f6",
   "metadata": {},
   "outputs": [],
   "source": []
  },
  {
   "cell_type": "code",
   "execution_count": null,
   "id": "f47ebd39-6fbe-4263-81d9-b4bfaab57554",
   "metadata": {},
   "outputs": [],
   "source": []
  },
  {
   "cell_type": "code",
   "execution_count": null,
   "id": "6b2d1c1e-9247-4f1f-934d-79b9b151b5ca",
   "metadata": {},
   "outputs": [],
   "source": []
  },
  {
   "cell_type": "code",
   "execution_count": null,
   "id": "1664e7db-a123-418b-8059-904e78f8da0c",
   "metadata": {},
   "outputs": [],
   "source": []
  },
  {
   "cell_type": "code",
   "execution_count": null,
   "id": "76acfc97-b554-4faa-baae-92d79562bc8f",
   "metadata": {},
   "outputs": [],
   "source": []
  },
  {
   "cell_type": "code",
   "execution_count": null,
   "id": "5584d801-7bb2-4f32-a7a1-24353f1eb81a",
   "metadata": {},
   "outputs": [],
   "source": []
  },
  {
   "cell_type": "code",
   "execution_count": null,
   "id": "d9a3ea9e-12aa-4483-8956-06829d0e790e",
   "metadata": {},
   "outputs": [],
   "source": []
  },
  {
   "cell_type": "code",
   "execution_count": null,
   "id": "32e09aba-7133-4be6-a328-5580c7914a2f",
   "metadata": {},
   "outputs": [],
   "source": []
  },
  {
   "cell_type": "code",
   "execution_count": null,
   "id": "fd42edde-5fcc-4d29-88e0-6d9ba1eddffe",
   "metadata": {},
   "outputs": [],
   "source": []
  },
  {
   "cell_type": "code",
   "execution_count": null,
   "id": "6895f3b6-7825-4698-b6c9-a35d01ac024a",
   "metadata": {},
   "outputs": [],
   "source": []
  },
  {
   "cell_type": "code",
   "execution_count": null,
   "id": "537e9bf3-7886-4adc-929d-cbf7e6024464",
   "metadata": {},
   "outputs": [],
   "source": []
  },
  {
   "cell_type": "code",
   "execution_count": null,
   "id": "9c62c097-5419-4388-a67c-9e77757a6228",
   "metadata": {},
   "outputs": [],
   "source": []
  },
  {
   "cell_type": "code",
   "execution_count": null,
   "id": "91356d8e-fde7-4efe-a107-9eb6ee6e285c",
   "metadata": {},
   "outputs": [],
   "source": []
  },
  {
   "cell_type": "code",
   "execution_count": null,
   "id": "a59378d4-4d78-467d-a6c0-5c944a6cb67b",
   "metadata": {},
   "outputs": [],
   "source": []
  },
  {
   "cell_type": "code",
   "execution_count": null,
   "id": "58232cc1-84e6-409d-88a0-c64f1d6dfec9",
   "metadata": {},
   "outputs": [],
   "source": []
  },
  {
   "cell_type": "code",
   "execution_count": null,
   "id": "03576f5c-5e09-4f3e-87a6-c88e8ba9134f",
   "metadata": {},
   "outputs": [],
   "source": []
  },
  {
   "cell_type": "code",
   "execution_count": null,
   "id": "8243b580-cf59-46e8-bbed-aa177e466a18",
   "metadata": {},
   "outputs": [],
   "source": []
  },
  {
   "cell_type": "code",
   "execution_count": null,
   "id": "5e14b57a-f5f6-4dcb-a601-c33d013bb8d3",
   "metadata": {},
   "outputs": [],
   "source": []
  },
  {
   "cell_type": "code",
   "execution_count": null,
   "id": "341bbda7-e0a0-438b-a62e-12d634cfd773",
   "metadata": {},
   "outputs": [],
   "source": []
  },
  {
   "cell_type": "code",
   "execution_count": null,
   "id": "eb72f9e4-9c22-4035-9153-6457f4a510d2",
   "metadata": {},
   "outputs": [],
   "source": []
  },
  {
   "cell_type": "code",
   "execution_count": null,
   "id": "e1e6a3ae-e694-431c-9f43-754d68ec4fca",
   "metadata": {},
   "outputs": [],
   "source": []
  },
  {
   "cell_type": "code",
   "execution_count": null,
   "id": "b8094800-13d3-4268-89f0-014935385123",
   "metadata": {},
   "outputs": [],
   "source": []
  },
  {
   "cell_type": "code",
   "execution_count": null,
   "id": "0363d31f-e45f-4b7b-a395-83a5a25b3e66",
   "metadata": {},
   "outputs": [],
   "source": []
  },
  {
   "cell_type": "code",
   "execution_count": null,
   "id": "fcd59101-2092-4f80-aa9a-be276c0edb82",
   "metadata": {},
   "outputs": [],
   "source": []
  },
  {
   "cell_type": "code",
   "execution_count": null,
   "id": "06ae331f-364c-4529-9d66-517e20aca2f0",
   "metadata": {},
   "outputs": [],
   "source": []
  },
  {
   "cell_type": "code",
   "execution_count": null,
   "id": "8a4c4beb-ab2b-4e67-833f-a044aa331b48",
   "metadata": {},
   "outputs": [],
   "source": []
  },
  {
   "cell_type": "code",
   "execution_count": null,
   "id": "f3a9cebd-bd52-434f-bcb4-f71513b64040",
   "metadata": {},
   "outputs": [],
   "source": []
  },
  {
   "cell_type": "code",
   "execution_count": null,
   "id": "af1b55ba-4f0b-4c5e-9cbd-1982a7269324",
   "metadata": {},
   "outputs": [],
   "source": []
  },
  {
   "cell_type": "code",
   "execution_count": null,
   "id": "6ec49ecc-5a33-4ff0-997e-27c3de7b4e72",
   "metadata": {},
   "outputs": [],
   "source": []
  },
  {
   "cell_type": "code",
   "execution_count": null,
   "id": "d8c01b19-e858-4a29-917a-0d8e83bade88",
   "metadata": {},
   "outputs": [],
   "source": []
  },
  {
   "cell_type": "code",
   "execution_count": null,
   "id": "00a22a22-d70c-4a8c-b314-548c93d5d9e9",
   "metadata": {},
   "outputs": [],
   "source": []
  },
  {
   "cell_type": "code",
   "execution_count": null,
   "id": "3f8367d6-defd-40f1-984f-dd3305ea0127",
   "metadata": {},
   "outputs": [],
   "source": []
  },
  {
   "cell_type": "code",
   "execution_count": null,
   "id": "e1c81c1b-4ef1-4005-a534-b5108f16c776",
   "metadata": {},
   "outputs": [],
   "source": []
  },
  {
   "cell_type": "code",
   "execution_count": null,
   "id": "31c4342a-cd16-4563-b4a8-daf4f013f5d5",
   "metadata": {},
   "outputs": [],
   "source": []
  },
  {
   "cell_type": "code",
   "execution_count": null,
   "id": "eed81374-b787-41a6-9b81-37c51c24d2dc",
   "metadata": {},
   "outputs": [],
   "source": []
  },
  {
   "cell_type": "code",
   "execution_count": null,
   "id": "516f2f28-a967-4eff-a09e-2694771584e6",
   "metadata": {},
   "outputs": [],
   "source": []
  },
  {
   "cell_type": "code",
   "execution_count": null,
   "id": "07822424-bc48-4204-9a5f-8f938ab1aec4",
   "metadata": {},
   "outputs": [],
   "source": []
  },
  {
   "cell_type": "code",
   "execution_count": null,
   "id": "67ce83fc-e11a-4b9e-873f-65b7e5ed9502",
   "metadata": {},
   "outputs": [],
   "source": []
  },
  {
   "cell_type": "code",
   "execution_count": null,
   "id": "62ced6bf-ae69-49c0-b00e-bf1dca55e755",
   "metadata": {},
   "outputs": [],
   "source": []
  },
  {
   "cell_type": "code",
   "execution_count": null,
   "id": "1ca592f5-28ed-429c-9241-2436940b04c3",
   "metadata": {},
   "outputs": [],
   "source": []
  },
  {
   "cell_type": "code",
   "execution_count": null,
   "id": "6c170610-f17b-4a4b-be0c-3ca844e7734c",
   "metadata": {},
   "outputs": [],
   "source": []
  },
  {
   "cell_type": "code",
   "execution_count": null,
   "id": "11622ac5-7189-427e-bffd-9ecade09caad",
   "metadata": {},
   "outputs": [],
   "source": []
  },
  {
   "cell_type": "code",
   "execution_count": null,
   "id": "b2a6f2bd-d83a-42d2-8d9a-fd9dfff22160",
   "metadata": {},
   "outputs": [],
   "source": []
  },
  {
   "cell_type": "code",
   "execution_count": null,
   "id": "eda56ea3-504d-40ac-a01a-59ebfcb15c21",
   "metadata": {},
   "outputs": [],
   "source": []
  },
  {
   "cell_type": "code",
   "execution_count": null,
   "id": "a07e5a34-ec44-4e00-bbb7-71b576eda371",
   "metadata": {},
   "outputs": [],
   "source": []
  },
  {
   "cell_type": "code",
   "execution_count": null,
   "id": "51630d04-e5ce-4aac-b139-78e0370632de",
   "metadata": {},
   "outputs": [],
   "source": []
  },
  {
   "cell_type": "code",
   "execution_count": null,
   "id": "9f600357-ed51-4927-b4c6-e71c076808a1",
   "metadata": {},
   "outputs": [],
   "source": []
  },
  {
   "cell_type": "code",
   "execution_count": null,
   "id": "2ca265c9-30d3-4467-9c10-734d8521c3b4",
   "metadata": {},
   "outputs": [],
   "source": []
  },
  {
   "cell_type": "code",
   "execution_count": null,
   "id": "77948d86-4a19-4574-8525-c3523ea2f5ef",
   "metadata": {},
   "outputs": [],
   "source": []
  },
  {
   "cell_type": "code",
   "execution_count": null,
   "id": "155a9b8a-217a-48b8-8206-eb3fb6ddf247",
   "metadata": {},
   "outputs": [],
   "source": []
  },
  {
   "cell_type": "code",
   "execution_count": null,
   "id": "ea2fc9ac-c268-4696-b962-8e6a11c0b05d",
   "metadata": {},
   "outputs": [],
   "source": []
  },
  {
   "cell_type": "code",
   "execution_count": null,
   "id": "72fe01b2-4d4d-456b-b812-a999434bda45",
   "metadata": {},
   "outputs": [],
   "source": []
  },
  {
   "cell_type": "code",
   "execution_count": null,
   "id": "d8420aba-77f5-4572-9402-163fe3e33efc",
   "metadata": {},
   "outputs": [],
   "source": []
  },
  {
   "cell_type": "code",
   "execution_count": null,
   "id": "9b934250-cc9e-4a4c-92a4-ee8ef0f33a71",
   "metadata": {},
   "outputs": [],
   "source": []
  },
  {
   "cell_type": "code",
   "execution_count": null,
   "id": "7c1880ba-b5d5-49e2-b033-a847d2dc3495",
   "metadata": {},
   "outputs": [],
   "source": []
  },
  {
   "cell_type": "code",
   "execution_count": null,
   "id": "e563cca8-82e2-4fb2-b089-b449493859cd",
   "metadata": {},
   "outputs": [],
   "source": []
  },
  {
   "cell_type": "code",
   "execution_count": null,
   "id": "7238bda8-49a6-4231-be4c-c668926d53a3",
   "metadata": {},
   "outputs": [],
   "source": []
  },
  {
   "cell_type": "code",
   "execution_count": null,
   "id": "0a90dd70-ed2b-4fc1-a136-4c3d9e5e5826",
   "metadata": {},
   "outputs": [],
   "source": []
  },
  {
   "cell_type": "code",
   "execution_count": null,
   "id": "ff9366ca-0b9e-42f4-8b91-40f69fc7ea75",
   "metadata": {},
   "outputs": [],
   "source": []
  },
  {
   "cell_type": "code",
   "execution_count": null,
   "id": "7485bd55-badd-4001-9815-7e50783bab64",
   "metadata": {},
   "outputs": [],
   "source": []
  },
  {
   "cell_type": "code",
   "execution_count": null,
   "id": "83ad660d-7f39-4729-a63d-513a245171ce",
   "metadata": {},
   "outputs": [],
   "source": []
  },
  {
   "cell_type": "code",
   "execution_count": null,
   "id": "4533efdf-4c49-497c-b968-adc28cf886ae",
   "metadata": {},
   "outputs": [],
   "source": []
  },
  {
   "cell_type": "code",
   "execution_count": null,
   "id": "b6159063-e6d0-4755-910c-e80ac1a9789a",
   "metadata": {},
   "outputs": [],
   "source": []
  },
  {
   "cell_type": "code",
   "execution_count": null,
   "id": "7cd67ea1-1edb-407c-9f4d-5f8b95d5c2f1",
   "metadata": {},
   "outputs": [],
   "source": []
  },
  {
   "cell_type": "code",
   "execution_count": null,
   "id": "d26492a9-c83f-4d5e-90ae-0b7dce4b92f2",
   "metadata": {},
   "outputs": [],
   "source": []
  },
  {
   "cell_type": "code",
   "execution_count": null,
   "id": "3bd1e393-8b1b-4b45-b7d5-e73215cbaf11",
   "metadata": {},
   "outputs": [],
   "source": []
  },
  {
   "cell_type": "code",
   "execution_count": null,
   "id": "f8c6c5f1-e48b-4c17-b069-69382aee62f2",
   "metadata": {},
   "outputs": [],
   "source": []
  },
  {
   "cell_type": "code",
   "execution_count": null,
   "id": "bb737ad6-0356-4bc7-8b4d-70af8e80a70e",
   "metadata": {},
   "outputs": [],
   "source": []
  },
  {
   "cell_type": "code",
   "execution_count": null,
   "id": "33a937e4-682b-4ae6-94ee-f891dd729b06",
   "metadata": {},
   "outputs": [],
   "source": []
  },
  {
   "cell_type": "code",
   "execution_count": null,
   "id": "14048b8c-8489-436c-98a7-176536e7bd67",
   "metadata": {},
   "outputs": [],
   "source": []
  },
  {
   "cell_type": "code",
   "execution_count": null,
   "id": "aa056ea8-9def-477b-a02a-7f34178dfd22",
   "metadata": {},
   "outputs": [],
   "source": []
  },
  {
   "cell_type": "code",
   "execution_count": null,
   "id": "4aedecf0-ae72-4f24-b560-5b0dd8772531",
   "metadata": {},
   "outputs": [],
   "source": []
  },
  {
   "cell_type": "code",
   "execution_count": null,
   "id": "95359d80-9886-497d-8e4b-13ef84373567",
   "metadata": {},
   "outputs": [],
   "source": []
  },
  {
   "cell_type": "code",
   "execution_count": null,
   "id": "d2aa183a-707c-49e3-9fc8-7916c349b59d",
   "metadata": {},
   "outputs": [],
   "source": []
  },
  {
   "cell_type": "code",
   "execution_count": null,
   "id": "90427d7a-5137-435f-8a68-619605049133",
   "metadata": {},
   "outputs": [],
   "source": []
  },
  {
   "cell_type": "code",
   "execution_count": null,
   "id": "faaf3fe3-5a4a-4c22-b678-9a4e1166b6d0",
   "metadata": {},
   "outputs": [],
   "source": []
  },
  {
   "cell_type": "code",
   "execution_count": null,
   "id": "26f9f9ef-f38c-4451-bebe-92fc9b3f7a61",
   "metadata": {},
   "outputs": [],
   "source": []
  },
  {
   "cell_type": "code",
   "execution_count": null,
   "id": "8d0540db-9125-4970-9a5c-f031ce7fb130",
   "metadata": {},
   "outputs": [],
   "source": []
  },
  {
   "cell_type": "code",
   "execution_count": null,
   "id": "d291b930-430b-45b1-b5b3-bc7682fbea5f",
   "metadata": {},
   "outputs": [],
   "source": []
  },
  {
   "cell_type": "code",
   "execution_count": null,
   "id": "d5f528c2-df27-43f6-8783-13f3444777bd",
   "metadata": {},
   "outputs": [],
   "source": []
  }
 ],
 "metadata": {
  "kernelspec": {
   "display_name": "Python [conda env:base] *",
   "language": "python",
   "name": "conda-base-py"
  },
  "language_info": {
   "codemirror_mode": {
    "name": "ipython",
    "version": 3
   },
   "file_extension": ".py",
   "mimetype": "text/x-python",
   "name": "python",
   "nbconvert_exporter": "python",
   "pygments_lexer": "ipython3",
   "version": "3.12.4"
  }
 },
 "nbformat": 4,
 "nbformat_minor": 5
}
