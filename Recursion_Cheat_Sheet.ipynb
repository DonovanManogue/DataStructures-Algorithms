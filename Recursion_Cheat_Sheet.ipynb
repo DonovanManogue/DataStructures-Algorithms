{
 "cells": [
  {
   "cell_type": "markdown",
   "id": "5f45853a",
   "metadata": {},
   "source": [
    "# 🌟 Recursion Cheat Sheet"
   ]
  },
  {
   "cell_type": "markdown",
   "id": "a21b91b9",
   "metadata": {},
   "source": [
    "## 🔄 What is Recursion?\n",
    "\n",
    "- A function that calls itself.\n",
    "- Needs a **base case** to stop and a **recursive case** to keep going."
   ]
  },
  {
   "cell_type": "markdown",
   "id": "c24d6d1c",
   "metadata": {},
   "source": [
    "## 🔝 Structure of Recursive Functions\n",
    "\n",
    "```python\n",
    "def recursive_function(params):\n",
    "    if base_case_condition:\n",
    "        return base_case_value\n",
    "    else:\n",
    "        return recursive_function(modified_params)\n",
    "```"
   ]
  },
  {
   "cell_type": "markdown",
   "id": "be8391a7",
   "metadata": {},
   "source": [
    "## 🔹 Types of Recursion\n",
    "\n",
    "| Type               | Description                                       | Example                      |\n",
    "| ------------------ | ------------------------------------------------- | ---------------------------- |\n",
    "| Linear Recursion   | One recursive call per call                       | Factorial, sum of array      |\n",
    "| Binary Recursion   | Two recursive calls per call                      | Fibonacci (naive), mergesort |\n",
    "| Multiple Recursion | More than two recursive calls per call            | Puzzle solve                 |\n",
    "| Tail Recursion     | Recursive call is the last action in the function | Optimizable for performance  |"
   ]
  },
  {
   "cell_type": "markdown",
   "id": "433ea7a8",
   "metadata": {},
   "source": [
    "## ⏱️ Time Complexities of Common Recursive Patterns\n",
    "\n",
    "| Pattern                    | Recurrence             | Time Complexity |\n",
    "| -------------------------- | ---------------------- | --------------- |\n",
    "| Factorial / sum            | T(n) = T(n-1) + O(1)   | O(n)            |\n",
    "| Fibonacci (naive)          | T(n) = T(n-1) + T(n-2) | O(2^n)          |\n",
    "| Binary Search / Power(x,n) | T(n) = T(n/2) + O(1)   | O(log n)        |\n",
    "| Merge Sort                 | T(n) = 2T(n/2) + O(n)  | O(n log n)      |"
   ]
  },
  {
   "cell_type": "markdown",
   "id": "e2f1bad0",
   "metadata": {},
   "source": [
    "## 📄 Base Case Examples\n",
    "\n",
    "```python\n",
    "# Factorial\n",
    "if n == 0:\n",
    "    return 1\n",
    "\n",
    "# List sum\n",
    "if len(S) == 0:\n",
    "    return 0\n",
    "\n",
    "# Reverse\n",
    "if start >= stop:\n",
    "    return\n",
    "```"
   ]
  },
  {
   "cell_type": "markdown",
   "id": "5fa90138",
   "metadata": {},
   "source": [
    "## 🤔 Tips to Think Recursively\n",
    "\n",
    "- Can you break the problem into smaller subproblems?\n",
    "- What is the smallest version of the problem? (base case)\n",
    "- Assume the function works for smaller input (inductive step)."
   ]
  },
  {
   "cell_type": "markdown",
   "id": "7a1866aa",
   "metadata": {},
   "source": [
    "## 🔄 Classic Examples\n",
    "\n",
    "| Problem       | Base Case            | Recursive Step                                |\n",
    "| ------------- | -------------------- | --------------------------------------------- |\n",
    "| Factorial     | n == 0 → 1           | return n * factorial(n-1)                    |\n",
    "| Fibonacci     | n <= 1 → n           | return fib(n-1) + fib(n-2)                    |\n",
    "| String to Int | len(s) == 1 → int(s) | int(s[0]) * 10^(len-1) + str_to_int(s[1:])   |\n",
    "| List Sum      | len(S) == 0 → 0      | return S[0] + list_sum(S[1:])                |"
   ]
  },
  {
   "cell_type": "markdown",
   "id": "2d8a3b21",
   "metadata": {},
   "source": [
    "## 🖋️ Visualizing Recursion (Call Stack)\n",
    "\n",
    "For `factorial(3)`:\n",
    "\n",
    "```\n",
    "factorial(3)\n",
    "|↓\n",
    "factorial(2)\n",
    "|↓\n",
    "factorial(1)\n",
    "|↓\n",
    "factorial(0) = 1\n",
    "↑\n",
    "return 1 * 1 = 1\n",
    "↑\n",
    "return 2 * 1 = 2\n",
    "↑\n",
    "return 3 * 2 = 6\n",
    "```"
   ]
  },
  {
   "cell_type": "markdown",
   "id": "a6fa568d",
   "metadata": {},
   "source": [
    "## 📈 Recursion vs Iteration\n",
    "\n",
    "| Feature        | Recursion                      | Iteration           |\n",
    "| -------------- | ------------------------------ | ------------------- |\n",
    "| Memory Usage   | High (call stack used)         | Low                 |\n",
    "| Performance    | Can be slower unless optimized | Usually faster      |\n",
    "| Readability    | Often simpler and cleaner      | Can be more verbose |\n",
    "| Tail Call Opt. | Possible in some languages     | Not applicable      |"
   ]
  }
 ],
 "metadata": {},
 "nbformat": 4,
 "nbformat_minor": 5
}