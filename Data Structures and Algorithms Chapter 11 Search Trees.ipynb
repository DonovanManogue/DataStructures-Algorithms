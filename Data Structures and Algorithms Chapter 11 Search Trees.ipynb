{
 "cells": [
  {
   "cell_type": "code",
   "execution_count": null,
   "id": "10a0326b-b7f5-4d4b-abb3-42e72a7627f0",
   "metadata": {},
   "outputs": [],
   "source": [
    "### Chapter 11 Data Strucutures and Algorithms \n",
    "#### Donovan Manogue"
   ]
  },
  {
   "cell_type": "code",
   "execution_count": null,
   "id": "4aecd61b-c1ec-4e9e-969d-edf528c3b146",
   "metadata": {},
   "outputs": [],
   "source": [
    " The three most fundamental methods of a map M (see Section 10.1.1) are:"
   ]
  },
  {
   "cell_type": "markdown",
   "id": "005a740f-d61a-4184-8a08-3cb61d20e66b",
   "metadata": {},
   "source": [
    "| Operation      | Description                                                                                  | Implemented With     |\n",
    "|----------------|----------------------------------------------------------------------------------------------|-----------------------|\n",
    "| `M[k]`         | Return the value `v` associated with key `k` in map `M`, or raise `KeyError` if not found.   | `__getitem__` method  |\n",
    "| `M[k] = v`     | Associate value `v` with key `k` in map `M`, replacing it if key already exists.             | `__setitem__` method  |\n",
    "| `del M[k]`     | Remove item with key `k` from map `M`, or raise `KeyError` if not found.                     | `__delitem__` method  |\n"
   ]
  },
  {
   "cell_type": "markdown",
   "id": "69a76687-ad4d-4f0d-a13b-ce5bf172ea20",
   "metadata": {},
   "source": [
    " | Method        | Description                                                                                                                                                         |\n",
    "|---------------|---------------------------------------------------------------------------------------------------------------------------------------------------------------------|\n",
    "| `first()`     | Return the position containing the **least key**, or `None` if the tree is empty.                                                                                   |\n",
    "| `last()`      | Return the position containing the **greatest key**, or `None` if the tree is empty.                                                                                |\n",
    "| `before(p)`   | Return the position containing the **greatest key less than** the key at position `p` (the one visited immediately **before** `p` in an inorder traversal), or `None` if `p` is first. |\n",
    "| `after(p)`    | Return the position containing the **least key greater than** the key at position `p` (the one visited immediately **after** `p` in an inorder traversal), or `None` if `p` is last. |\n"
   ]
  },
  {
   "cell_type": "code",
   "execution_count": null,
   "id": "6d1e62fc-d2c9-45c7-85c8-e1903461edb5",
   "metadata": {},
   "outputs": [],
   "source": [
    "Code Fragment11.1: Computing the successor of a position in a binary search tree."
   ]
  },
  {
   "cell_type": "code",
   "execution_count": null,
   "id": "5d2df78d-5674-495c-8ffa-ace55cff51de",
   "metadata": {},
   "outputs": [],
   "source": [
    "Algorithm after(p):\n",
    "    if right(p) is not None then:\n",
    "        # Successor is the leftmost node in p's right subtree\n",
    "        walk = right(p)\n",
    "        while left(walk) is not None do:\n",
    "            walk = left(walk)\n",
    "        return walk\n",
    "    else:\n",
    "        # Successor is the nearest ancestor for which p is in the left subtree\n",
    "        walk = p\n",
    "        ancestor = parent(walk)\n",
    "        while ancestor is not None and walk == right(ancestor) do:\n",
    "            walk = ancestor\n",
    "            ancestor = parent(walk)\n",
    "        return ancestor\n"
   ]
  },
  {
   "cell_type": "code",
   "execution_count": null,
   "id": "6a1a1ebf-972d-4d01-a5bb-3e1bd2a6cae2",
   "metadata": {},
   "outputs": [],
   "source": [
    " Code Fragment 11.2: Recursive search in a binary search tree."
   ]
  },
  {
   "cell_type": "code",
   "execution_count": null,
   "id": "851ea86d-fc60-42d6-b2d1-f235e9ae7c79",
   "metadata": {},
   "outputs": [],
   "source": [
    "Algorithm TreeSearch(T, p, k):\n",
    "    if k == p.key():\n",
    "        return p                        # successful search\n",
    "    elif k < p.key() and T.left(p) is not None:\n",
    "        return TreeSearch(T, T.left(p), k)    # search in left subtree\n",
    "    elif k > p.key() and T.right(p) is not None:\n",
    "        return TreeSearch(T, T.right(p), k)   # search in right subtree\n",
    "    return p                            # unsuccessful search (hit a leaf)\n"
   ]
  },
  {
   "cell_type": "code",
   "execution_count": null,
   "id": "6b93ea44-9d4a-4f34-a1be-f609e7706cf3",
   "metadata": {},
   "outputs": [],
   "source": [
    "Code Fragment 11.3: Algorithm for inserting a key-value pair into a map that is\n",
    " represented as a binary search tree."
   ]
  },
  {
   "cell_type": "code",
   "execution_count": null,
   "id": "b4d31f80-08a7-4da3-b42c-6428cbb6c117",
   "metadata": {},
   "outputs": [],
   "source": [
    "Algorithm TreeInsert(T, k, v):\n",
    "    Input: A search key k to be associated with value v\n",
    "    \n",
    "    p = TreeSearch(T, T.root(), k)\n",
    "    \n",
    "    if k == p.key():\n",
    "        Set p’s value to v                # Key exists, update value\n",
    "    elif k < p.key():\n",
    "        Add node with item (k, v) as left child of p\n",
    "    else:\n",
    "        Add node with item (k, v) as right child of p\n"
   ]
  },
  {
   "cell_type": "code",
   "execution_count": null,
   "id": "b4d28e98-e42e-4e88-a31d-336763db2000",
   "metadata": {},
   "outputs": [],
   "source": [
    "Code Fragment 11.4: Beginning ofTreeMapclass including redefinedPosition\n",
    " class and nonpublic search utilities.\n",
    " "
   ]
  },
  {
   "cell_type": "code",
   "execution_count": null,
   "id": "6ab36d72-0ddf-493e-b6be-62828a3c8616",
   "metadata": {},
   "outputs": [],
   "source": [
    "# ----------------------------- TreeMap Definition -----------------------------\n",
    "class TreeMap(LinkedBinaryTree, MapBase):\n",
    "    \"\"\"Sorted map implementation using a binary search tree.\"\"\"\n",
    "\n",
    "    # ---------------------- override Position class ----------------------\n",
    "    class Position(LinkedBinaryTree.Position):\n",
    "        def key(self):\n",
    "            \"\"\"Return key of map's key-value pair.\"\"\"\n",
    "            return self.element().key\n",
    "\n",
    "        def value(self):\n",
    "            \"\"\"Return value of map's key-value pair.\"\"\"\n",
    "            return self.element().value\n",
    "\n",
    "    # --------------------- nonpublic utilities -------------------------\n",
    "    def subtree_search(self, p, k):\n",
    "        \"\"\"Return Position of p's subtree having key k, or last node searched.\"\"\"\n",
    "        if k == p.key():  # found match\n",
    "            return p\n",
    "        elif k < p.key():  # search left subtree\n",
    "            if self.left(p) is not None:\n",
    "                return self.subtree_search(self.left(p), k)\n",
    "        else:  # search right subtree\n",
    "            if self.right(p) is not None:\n",
    "                return self.subtree_search(self.right(p), k)\n",
    "        return p  # unsuccessful search\n",
    "\n",
    "    def subtree_first_position(self, p):\n",
    "        \"\"\"Return Position of first item in subtree rooted at p.\"\"\"\n",
    "        walk = p\n",
    "        while self.left(walk) is not None:  # keep walking left\n",
    "            walk = self.left(walk)\n",
    "        return walk\n",
    "\n",
    "    def subtree_last_position(self, p):\n",
    "        \"\"\"Return Position of last item in subtree rooted at p.\"\"\"\n",
    "        walk = p\n",
    "        while self.right(walk) is not None:  # keep walking right\n",
    "            walk = self.right(walk)\n",
    "        return walk\n"
   ]
  },
  {
   "cell_type": "code",
   "execution_count": null,
   "id": "6f41b7db-12b5-4678-8a1b-e7f438a9e4d7",
   "metadata": {},
   "outputs": [],
   "source": [
    "Code Fragment 11.5: Positional methods first(), last(), before(p), after(p),\n",
    " and find position(p) accessor.\n"
   ]
  },
  {
   "cell_type": "code",
   "execution_count": null,
   "id": "c882a736-16b7-4af6-8371-34341fe484ff",
   "metadata": {},
   "outputs": [],
   "source": [
    "    def first(self):\n",
    "        \"\"\"Return the first Position in the tree (or None if empty).\"\"\"\n",
    "        return self.subtree_first_position(self.root()) if len(self) > 0 else None\n",
    "\n",
    "    def last(self):\n",
    "        \"\"\"Return the last Position in the tree (or None if empty).\"\"\"\n",
    "        return self.subtree_last_position(self.root()) if len(self) > 0 else None\n",
    "\n",
    "    def before(self, p):\n",
    "        \"\"\"Return the Position just before p in the natural order.\"\"\"\n",
    "        self.validate(p)\n",
    "        if self.left(p):\n",
    "            return self.subtree_last_position(self.left(p))\n",
    "        else:\n",
    "            # walk upward\n",
    "            walk = p\n",
    "            above = self.parent(walk)\n",
    "            while above is not None and walk == self.left(above):\n",
    "                walk = above\n",
    "                above = self.parent(walk)\n",
    "            return above\n",
    "\n",
    "    def after(self, p):\n",
    "        \"\"\"Return the Position just after p in the natural order.\"\"\"\n",
    "        # symmetric to before(p)\n",
    "        if self.right(p):\n",
    "            return self.subtree_first_position(self.right(p))\n",
    "        else:\n",
    "            walk = p\n",
    "            above = self.parent(walk)\n",
    "            while above is not None and walk == self.right(above):\n",
    "                walk = above\n",
    "                above = self.parent(walk)\n",
    "            return above\n",
    "\n",
    "    def find_position(self, k):\n",
    "        \"\"\"Return position with key k, or else neighbor (or None if empty).\"\"\"\n",
    "        if self.isempty():\n",
    "            return None\n",
    "        else:\n",
    "            p = self.subtree_search(self.root(), k)\n",
    "            self.rebalance_access(p)  # hook for balanced tree subclasses\n",
    "            return p\n"
   ]
  },
  {
   "cell_type": "code",
   "execution_count": null,
   "id": "9db79fd2-87dd-4cb0-b190-b29c4b4cfdbd",
   "metadata": {},
   "outputs": [],
   "source": [
    " Code Fragment 11.6: Selected methods of the sorted map ADT: find min(),\n",
    " f\n",
    " ind ge(k),andfind range(start, stop); related methods\n",
    " are omitted for the sake of brevity.\n"
   ]
  },
  {
   "cell_type": "code",
   "execution_count": null,
   "id": "c7ec0fa5-7e4b-44ff-bdbe-68534c232f81",
   "metadata": {},
   "outputs": [],
   "source": [
    "    def find_min(self):\n",
    "        \"\"\"Return (key, value) pair with minimum key (or None if empty).\"\"\"\n",
    "        if self.isempty():\n",
    "            return None\n",
    "        else:\n",
    "            p = self.first()\n",
    "            return (p.key(), p.value())\n",
    "\n",
    "    def find_ge(self, k):\n",
    "        \"\"\"Return (key, value) pair with least key >= k (or None if no such key).\"\"\"\n",
    "        if self.isempty():\n",
    "            return None\n",
    "        else:\n",
    "            p = self.find_position(k)\n",
    "            if p.key() < k:\n",
    "                p = self.after(p)\n",
    "            return (p.key(), p.value()) if p is not None else None\n",
    "\n",
    "    def find_range(self, start, stop):\n",
    "        \"\"\"Iterate all (key, value) pairs such that start <= key < stop.\"\"\"\n",
    "        if not self.isempty():\n",
    "            if start is None:\n",
    "                p = self.first()\n",
    "            else:\n",
    "                p = self.find_position(start)\n",
    "                if p.key() < start:\n",
    "                    p = self.after(p)\n",
    "            while p is not None and (stop is None or p.key() < stop):\n",
    "                yield (p.key(), p.value())\n",
    "                p = self.after(p)\n"
   ]
  },
  {
   "cell_type": "code",
   "execution_count": null,
   "id": "9bb24b18-d182-4c97-95c2-1223b1e89a84",
   "metadata": {},
   "outputs": [],
   "source": [
    " Code Fragment 11.7:\n",
    " getitem (k), setitem (k, v),and iter ().\n"
   ]
  },
  {
   "cell_type": "code",
   "execution_count": null,
   "id": "43532561-7aed-43c0-a8b2-2cab1fb994f2",
   "metadata": {},
   "outputs": [],
   "source": [
    "    def __getitem__(self, k):\n",
    "        \"\"\"Return value associated with key k (raise KeyError if not found).\"\"\"\n",
    "        if self.isempty():\n",
    "            raise KeyError('KeyError: ' + repr(k))\n",
    "        else:\n",
    "            p = self.subtree_search(self.root(), k)\n",
    "            self.rebalance_access(p)\n",
    "            if k != p.key():\n",
    "                raise KeyError('KeyError: ' + repr(k))\n",
    "            return p.value()\n",
    "\n",
    "    def __setitem__(self, k, v):\n",
    "        \"\"\"Assign value v to key k, overwriting existing value if present.\"\"\"\n",
    "        if self.isempty():\n",
    "            leaf = self.add_root(self.Item(k, v))\n",
    "        else:\n",
    "            p = self.subtree_search(self.root(), k)\n",
    "            if p.key() == k:\n",
    "                p.element().value = v\n",
    "                self.rebalance_access(p)\n",
    "                return\n",
    "            else:\n",
    "                item = self.Item(k, v)\n",
    "                if p.key() < k:\n",
    "                    leaf = self.add_right(p, item)\n",
    "                else:\n",
    "                    leaf = self.add_left(p, item)\n",
    "                self.rebalance_insert(leaf)\n",
    "\n",
    "    def __iter__(self):\n",
    "        \"\"\"Generate an iteration of all keys in the map in order.\"\"\"\n",
    "        p = self.first()\n",
    "        while p is not None:\n",
    "            yield p.key()\n",
    "            p = self.after(p)\n"
   ]
  },
  {
   "cell_type": "code",
   "execution_count": null,
   "id": "428ac3ac-549f-40ff-abcb-d38b4e1d7cd5",
   "metadata": {},
   "outputs": [],
   "source": [
    " Code Fragment 11.8: Deletion either by position, as delete(p), orbykey, as\n",
    " delitem (k)"
   ]
  },
  {
   "cell_type": "code",
   "execution_count": null,
   "id": "61a0c064-26f7-4461-bb7f-af7e37fb26c5",
   "metadata": {},
   "outputs": [],
   "source": [
    "    def delete(self, p):\n",
    "        \"\"\"Remove the item at given Position.\"\"\"\n",
    "        self.validate(p)\n",
    "        if self.left(p) and self.right(p):  # has two children\n",
    "            replacement = self.subtree_last_position(self.left(p))\n",
    "            self.replace(p, replacement.element())\n",
    "            p = replacement  # move to leaf to be deleted\n",
    "        parent = self.parent(p)\n",
    "        self.delete(p)  # inherited delete (now has ≤ 1 child)\n",
    "        self.rebalance_delete(parent)\n",
    "\n",
    "    def __delitem__(self, k):\n",
    "        \"\"\"Remove item associated with key k (raise KeyError if not found).\"\"\"\n",
    "        if not self.isempty():\n",
    "            p = self.subtree_search(self.root(), k)\n",
    "            if k == p.key():\n",
    "                self.delete(p)\n",
    "                return\n",
    "            self.rebalance_access(p)\n",
    "        raise KeyError('KeyError: ' + repr(k))\n"
   ]
  },
  {
   "cell_type": "markdown",
   "id": "b8fe0195-84b6-430d-afff-60988434216f",
   "metadata": {},
   "source": [
    "| Operation                                       | Running Time |\n",
    "|------------------------------------------------|---------------|\n",
    "| `k in T`                                       | O(h)          |\n",
    "| `T[k]`, `T[k] = v`                              | O(h)          |\n",
    "| `T.delete(p)`, `del T[k]`                      | O(h)          |\n",
    "| `T.find_position(k)`                           | O(h)          |\n",
    "| `T.first()`, `T.last()`, `T.find_min()`, `T.find_max()` | O(h) |\n",
    "| `T.before(p)`, `T.after(p)`                    | O(h)          |\n",
    "| `T.find_lt(k)`, `T.find_le(k)`, `T.find_gt(k)`, `T.find_ge(k)` | O(h) |\n",
    "| `T.find_range(start, stop)`                    | O(s + h)      |\n",
    "| `iter(T)`, `reversed(T)`                       | O(n)          |\n"
   ]
  },
  {
   "cell_type": "code",
   "execution_count": null,
   "id": "a8f53ac4-b4a7-4574-a74a-04429e14357c",
   "metadata": {},
   "outputs": [],
   "source": [
    " Table 11.1: Worst-case running times of the operations for aTreeMap T. We denote\n",
    " the current height of the tree with h, and the number of items reported byfind range\n",
    " as s. The space usage is O(n),wheren is the number of items stored in the map"
   ]
  },
  {
   "cell_type": "code",
   "execution_count": null,
   "id": "9b28c708-38e2-41fd-ab41-8f845639edd5",
   "metadata": {},
   "outputs": [],
   "source": [
    " Code Fragment 11.9: The trinode restructuring operation in a binary search tree."
   ]
  },
  {
   "cell_type": "code",
   "execution_count": null,
   "id": "1b4767c4-e8a9-4f7a-a208-42fc8106f907",
   "metadata": {},
   "outputs": [],
   "source": [
    "### Algorithm: restructure(x)\n",
    "\n",
    "**Input:**  \n",
    "A position `x` of a binary search tree `T` that has both a parent `y` and a grandparent `z`.\n",
    "\n",
    "**Output:**  \n",
    "Tree `T` after a trinode restructuring (single or double rotation) involving positions `x`, `y`, and `z`.\n",
    "\n",
    "---\n",
    "\n",
    "#### Steps:\n",
    "\n",
    "1. Let `(a, b, c)` be a left-to-right **(inorder)** listing of the positions `x`, `y`, and `z`,  \n",
    "   and let `(T1, T2, T3, T4)` be a left-to-right **(inorder)** listing of the four subtrees of `x`, `y`, and `z` not rooted at `x`, `y`, or `z`.\n",
    "\n",
    "2. Replace the subtree rooted at `z` with a new subtree rooted at `b`.\n",
    "\n",
    "3. Let `a` be the **left child** of `b`, and let `T1` and `T2` be the **left and right subtrees** of `a`, respectively.\n",
    "\n",
    "4. Let `c` be the **right child** of `b`, and let `T3` and `T4` be the **left and right subtrees** of `c`, respectively.\n"
   ]
  },
  {
   "cell_type": "code",
   "execution_count": null,
   "id": "e32ef58c-f0b5-474c-9745-426196af5150",
   "metadata": {},
   "outputs": [],
   "source": [
    "Code Fragment 11.10: Rebalancing Hook Stubs in TreeMap"
   ]
  },
  {
   "cell_type": "code",
   "execution_count": null,
   "id": "13aa599a-634f-4753-ae03-ffc1ffca8cd5",
   "metadata": {},
   "outputs": [],
   "source": [
    "class TreeMap(LinkedBinaryTree, MapBase):\n",
    "    \"\"\"Sorted map implementation using a binary search tree.\"\"\"\n",
    "\n",
    "    # --- (Other methods from previous fragments would be here) ---\n",
    "\n",
    "    def rebalance_insert(self, p):\n",
    "        \"\"\"Hook for rebalancing after an insertion.\n",
    "        \n",
    "        To be overridden in subclasses like AVLTreeMap or RedBlackTreeMap.\n",
    "        \"\"\"\n",
    "        pass\n",
    "\n",
    "    def rebalance_delete(self, p):\n",
    "        \"\"\"Hook for rebalancing after a deletion.\n",
    "        \n",
    "        To be overridden in subclasses for maintaining balance.\n",
    "        \"\"\"\n",
    "        pass\n",
    "\n",
    "    def rebalance_access(self, p):\n",
    "        \"\"\"Hook for rebalancing after an access.\n",
    "        \n",
    "        Used in some trees (e.g., splay trees) where accessing a node can trigger reorganization.\n",
    "        \"\"\"\n",
    "        pass\n"
   ]
  },
  {
   "cell_type": "code",
   "execution_count": null,
   "id": "a1943f68-d812-46a6-9b80-dc76bd7278c8",
   "metadata": {},
   "outputs": [],
   "source": [
    "Code Fragment 11.11: Rotation and Restructuring in TreeMap"
   ]
  },
  {
   "cell_type": "code",
   "execution_count": null,
   "id": "77ec95ef-6c4f-45d5-a55b-a4988353f186",
   "metadata": {},
   "outputs": [],
   "source": [
    "class TreeMap(LinkedBinaryTree, MapBase):\n",
    "    \"\"\"Sorted map implementation using a binary search tree.\"\"\"\n",
    "\n",
    "    # --- (Earlier methods defined in previous code fragments) ---\n",
    "\n",
    "    def relink(self, parent, child, make_left_child):\n",
    "        \"\"\"Relink parent node with child node (we allow child to be None).\"\"\"\n",
    "        if make_left_child:                # make it a left child\n",
    "            parent.left = child\n",
    "        else:                              # make it a right child\n",
    "            parent.right = child\n",
    "        if child is not None:              # make child point to parent\n",
    "            child.parent = parent\n",
    "\n",
    "    def rotate(self, p):\n",
    "        \"\"\"Rotate Position p above its parent.\"\"\"\n",
    "        x = p.node\n",
    "        y = x.parent                      # we assume this exists\n",
    "        z = y.parent                      # grandparent (possibly None)\n",
    "\n",
    "        if z is None:\n",
    "            self.root = x                # x becomes root\n",
    "            x.parent = None\n",
    "        else:\n",
    "            self.relink(z, x, y == z.left)  # x becomes direct child of z\n",
    "\n",
    "        # Now rotate x and y, including transfer of middle subtree\n",
    "        if x == y.left:\n",
    "            self.relink(y, x.right, True)   # x.right becomes left child of y\n",
    "            self.relink(x, y, False)        # y becomes right child of x\n",
    "        else:\n",
    "            self.relink(y, x.left, False)   # x.left becomes right child of y\n",
    "            self.relink(x, y, True)         # y becomes left child of x\n",
    "\n",
    "    def restructure(self, x):\n",
    "        \"\"\"Perform trinode restructuring of Position x with parent/grandparent.\"\"\"\n",
    "        y = self.parent(x)\n",
    "        z = self.parent(y)\n",
    "\n",
    "        if (x == self.right(y)) == (y == self.right(z)):\n",
    "            # Matching alignments: single rotation (of y)\n",
    "            self.rotate(y)\n",
    "            return y                        # y is new subtree root\n",
    "        else:\n",
    "            # Opposite alignments: double rotation (of x)\n",
    "            self.rotate(x)\n",
    "            self.rotate(x)\n",
    "            return x                        # x is new subtree root\n"
   ]
  },
  {
   "cell_type": "code",
   "execution_count": null,
   "id": "a15321ea-47ca-4557-8f16-406618de52fe",
   "metadata": {},
   "outputs": [],
   "source": [
    "Table 11.2: Worst-case running times of operations for an n-item sorted map real\n",
    "ized as an AVLtree T, with s denoting the number of items reported by find range."
   ]
  },
  {
   "cell_type": "markdown",
   "id": "f653db3c-ed4a-42c3-8435-78bf79726a94",
   "metadata": {},
   "source": [
    "| Operation                                | Running Time     |\n",
    "|------------------------------------------|------------------|\n",
    "| `k in T`                                 | O(log n)         |\n",
    "| `T[k] = v`                               | O(log n)         |\n",
    "| `T.delete(p)`, `del T[k]`                | O(log n)         |\n",
    "| `T.find_position(k)`                     | O(log n)         |\n",
    "| `T.first()`, `T.last()`                  | O(log n)         |\n",
    "| `T.find_min()`, `T.find_max()`           | O(log n)         |\n",
    "| `T.before(p)`, `T.after(p)`              | O(log n)         |\n",
    "| `T.find_lt(k)`, `T.find_le(k)`           | O(log n)         |\n",
    "| `T.find_gt(k)`, `T.find_ge(k)`           | O(log n)         |\n",
    "| `T.find_range(start, stop)`             | O(s + log n)     |\n",
    "| `iter(T)`, `reversed(T)`                 | O(n)             |\n"
   ]
  },
  {
   "cell_type": "code",
   "execution_count": null,
   "id": "dc4f07c2-aa11-45ce-a4c7-68da17c2476d",
   "metadata": {},
   "outputs": [],
   "source": [
    " CodeFragment11.12 -11.13 :AVLTreeMapclass"
   ]
  },
  {
   "cell_type": "code",
   "execution_count": null,
   "id": "e23650d2-db69-428c-af5b-7bb17e990fc2",
   "metadata": {},
   "outputs": [],
   "source": [
    "class AVLTreeMap(TreeMap):\n",
    "    \"\"\"Sorted map implementation using an AVL tree.\"\"\"\n",
    "\n",
    "    # -------------------------- nested Node class --------------------------\n",
    "    class Node(TreeMap.Node):\n",
    "        \"\"\"Node class for AVL maintains height value for balancing.\"\"\"\n",
    "        __slots__ = '_height'  # additional data member to store height\n",
    "\n",
    "        def __init__(self, element, parent=None, left=None, right=None):\n",
    "            super().__init__(element, parent, left, right)\n",
    "            self.height = 0  # will be recomputed during balancing\n",
    "\n",
    "        def left_height(self):\n",
    "            return self.left.height if self.left is not None else 0\n",
    "\n",
    "        def right_height(self):\n",
    "            return self.right.height if self.right is not None else 0\n",
    "\n",
    "    # ---------------------- positional-based utility methods ----------------------\n",
    "    def recompute_height(self, p):\n",
    "        p.node.height = 1 + max(p.node.left_height(), p.node.right_height())\n",
    "\n",
    "    def isbalanced(self, p):\n",
    "        return abs(p.node.left_height() - p.node.right_height()) <= 1\n",
    "\n",
    "    def tall_child(self, p, favorleft=False):\n",
    "        \"\"\"Return taller child; if equal, favor left if specified.\"\"\"\n",
    "        if p.node.left_height() + (1 if favorleft else 0) > p.node.right_height():\n",
    "            return self.left(p)\n",
    "        else:\n",
    "            return self.right(p)\n",
    "\n",
    "    def tall_grandchild(self, p):\n",
    "        child = self.tall_child(p)\n",
    "        alignment = (child == self.left(p))  # True if child is left child\n",
    "        return self.tall_child(child, alignment)\n",
    "\n",
    "    # ---------------------------- rebalancing logic ----------------------------\n",
    "    def rebalance(self, p):\n",
    "        while p is not None:\n",
    "            old_height = p.node.height\n",
    "            if not self.isbalanced(p):\n",
    "                # imbalance detected — perform trinode restructuring\n",
    "                p = self.restructure(self.tall_grandchild(p))\n",
    "                # recompute heights after restructuring\n",
    "                self.recompute_height(self.left(p))\n",
    "                self.recompute_height(self.right(p))\n",
    "            self.recompute_height(p)\n",
    "\n",
    "            # if height hasn't changed, we can stop\n",
    "            if p.node.height == old_height:\n",
    "                p = None\n",
    "            else:\n",
    "                p = self.parent(p)\n",
    "\n",
    "    # ---------------------- override balancing hooks ----------------------\n",
    "    def rebalance_insert(self, p):\n",
    "        self.rebalance(p)\n",
    "\n",
    "    def rebalance_delete(self, p):\n",
    "        self.rebalance(p)\n"
   ]
  },
  {
   "cell_type": "code",
   "execution_count": null,
   "id": "eabfcffd-a3a6-4075-bd97-4173461d42f3",
   "metadata": {},
   "outputs": [],
   "source": [
    "Code Fragment 11.14 -- SplayTreeMap — Self-Adjusting Binary Search Tree"
   ]
  },
  {
   "cell_type": "code",
   "execution_count": null,
   "id": "704d80d5-d12d-4fa4-883c-8892f839be27",
   "metadata": {},
   "outputs": [],
   "source": [
    "class SplayTreeMap(TreeMap):\n",
    "    \"\"\"Sorted map implementation using a splay tree.\"\"\"\n",
    "\n",
    "    # ----------------------------- Splay Operation -----------------------------\n",
    "    def splay(self, p):\n",
    "        while p != self.root():\n",
    "            parent = self.parent(p)\n",
    "            grand = self.parent(parent)\n",
    "\n",
    "            if grand is None:\n",
    "                # Zig case — single rotation (p and parent only)\n",
    "                self.rotate(p)\n",
    "            elif (parent == self.left(grand)) == (p == self.left(parent)):\n",
    "                # Zig-Zig case — double rotation (same direction)\n",
    "                self.rotate(parent)  # Move parent up\n",
    "                self.rotate(p)       # Move p up\n",
    "            else:\n",
    "                # Zig-Zag case — double rotation (opposite direction)\n",
    "                self.rotate(p)       # Move p up once\n",
    "                self.rotate(p)       # Move p up again\n",
    "\n",
    "    # --------------------- Override Balancing Hooks ---------------------\n",
    "    def rebalance_insert(self, p):\n",
    "        self.splay(p)\n",
    "\n",
    "    def rebalancedelete(self, p):\n",
    "        if p is not None:\n",
    "            self.splay(p)\n",
    "\n",
    "    def rebalanceaccess(self, p):\n",
    "        self.splay(p)\n"
   ]
  },
  {
   "cell_type": "code",
   "execution_count": null,
   "id": "09fa6bbc-2c8e-4280-984c-440f4ad06ff8",
   "metadata": {},
   "outputs": [],
   "source": [
    "Red-Black Trees: Formal Properties\n",
    "\n",
    "A Red-Black Tree is a type of balanced binary search tree that ensures logarithmic height through a set of color-based invariants. Each node in the tree is colored either red or black, and the tree adheres to the following three key properties:\n",
    "\n",
    "1. 🖤 Root Property\n",
    "\n",
    "The root must always be black.\n",
    "\n",
    "This provides a consistent base for calculating black-depth and maintaining balance.\n",
    "\n",
    "2. 🔴 Red Property\n",
    "\n",
    "The children of a red node must be black.\n",
    "\n",
    "This prevents consecutive red nodes (i.e., red-red violations), ensuring the tree does not lean too heavily in one direction.\n",
    "\n",
    "3. ⚖️ Depth Property (Black-Depth Invariant)\n",
    "\n",
    "All paths from a node to its descendant leaves (null or external nodes) must contain the same number of black nodes.\n",
    "\n",
    "This black depth is defined as the count of black ancestors from a node up to the root (inclusive)."
   ]
  },
  {
   "cell_type": "code",
   "execution_count": null,
   "id": "e3336b31-0f13-4760-a31d-aa6c95562674",
   "metadata": {},
   "outputs": [],
   "source": [
    " CodeFragment11.15:Beginning of the Red Black Tree Map class.\n",
    "11.16 continuation of the Red Black Tree Map Class\n",
    "11.7 Conclusion of the Red Black Tree Map Class"
   ]
  },
  {
   "cell_type": "code",
   "execution_count": null,
   "id": "67e55c4a-40c5-42af-9d7b-a351be634423",
   "metadata": {},
   "outputs": [],
   "source": [
    "# Red-Black TreeMap Implementation\n",
    "\n",
    "class RedBlackTreeMap(TreeMap):\n",
    "    \"\"\"Sorted map implementation using a red-black tree.\"\"\"\n",
    "\n",
    "    class Node(TreeMap.Node):\n",
    "        \"\"\"Node class for red-black tree maintains bit that denotes color.\"\"\"\n",
    "        __slots__ = '_red'  # additional data member to store color bit\n",
    "\n",
    "        def __init__(self, element, parent=None, left=None, right=None):\n",
    "            super().__init__(element, parent, left, right)\n",
    "            self._red = True  # new node is red by default\n",
    "\n",
    "    # ------------------------- Positional-based utility methods ------------------------\n",
    "\n",
    "    def _set_red(self, p): p._node._red = True\n",
    "\n",
    "    def _set_black(self, p): p._node._red = False\n",
    "\n",
    "    def _set_color(self, p, make_red): p._node._red = make_red\n",
    "\n",
    "    def _is_red(self, p): return p is not None and p._node._red\n",
    "\n",
    "    def _is_red_leaf(self, p): return self._is_red(p) and self.is_leaf(p)\n",
    "\n",
    "    def _get_red_child(self, p):\n",
    "        \"\"\"Return a red child of p (or None if no such child).\"\"\"\n",
    "        for child in (self.left(p), self.right(p)):\n",
    "            if self._is_red(child):\n",
    "                return child\n",
    "        return None\n",
    "\n",
    "    # ------------------------- Support for insertions ------------------------\n",
    "\n",
    "    def _rebalance_insert(self, p):\n",
    "        self._resolve_red(p)  # new node is always red\n",
    "\n",
    "    def _resolve_red(self, p):\n",
    "        if self.is_root(p):\n",
    "            self._set_black(p)  # make root black\n",
    "        else:\n",
    "            parent = self.parent(p)\n",
    "            if self._is_red(parent):  # double red problem\n",
    "                uncle = self.sibling(parent)\n",
    "                if not self._is_red(uncle):  # Case 1: misshapen 4-node\n",
    "                    middle = self._restructure(p)  # do trinode restructuring\n",
    "                    self._set_black(middle)  # fix colors\n",
    "                    self._set_red(self.left(middle))\n",
    "                    self._set_red(self.right(middle))\n",
    "                else:  # Case 2: overfull 5-node\n",
    "                    grand = self.parent(parent)\n",
    "                    self._set_red(grand)\n",
    "                    self._set_black(self.left(grand))\n",
    "                    self._set_black(self.right(grand))\n",
    "                    self._resolve_red(grand)  # recur at red grandparent\n",
    "\n",
    "    # ------------------------- Support for deletions ------------------------\n",
    "\n",
    "    def _rebalance_delete(self, p):\n",
    "        if len(self) == 1:\n",
    "            self._set_black(self.root())  # ensure root is black in special case\n",
    "        elif p is not None:\n",
    "            n = self.num_children(p)\n",
    "            if n == 1:  # deficit exists unless child is a red leaf\n",
    "                c = next(self.children(p))\n",
    "                if not self._is_red_leaf(c):\n",
    "                    self._fix_deficit(p, c)\n",
    "            elif n == 2:  # removed black node with red child\n",
    "                if self._is_red_leaf(self.left(p)):\n",
    "                    self._set_black(self.left(p))\n",
    "                else:\n",
    "                    self._set_black(self\n"
   ]
  },
  {
   "cell_type": "code",
   "execution_count": null,
   "id": "79b82952-4219-453a-9f43-6518a9bb6c4e",
   "metadata": {},
   "outputs": [],
   "source": [
    "### Exercises R.11.1-11.28"
   ]
  },
  {
   "cell_type": "code",
   "execution_count": null,
   "id": "478e1446-f912-4739-9c3f-803f3db937d0",
   "metadata": {},
   "outputs": [],
   "source": [
    "R-11.1 If we insert the entries (1,A), (2,B), (3,C), (4,D),and(5,E),in this order,\n",
    " into an initially empty binary search tree, what will it look like?"
   ]
  },
  {
   "cell_type": "code",
   "execution_count": null,
   "id": "44acc9a8-bf99-4f82-b182-e289d0e784e7",
   "metadata": {},
   "outputs": [],
   "source": [
    "(1, A)\n",
    "    \\\n",
    "   (2, B)\n",
    "        \\\n",
    "       (3, C)\n",
    "            \\\n",
    "           (4, D)\n",
    "                \\\n",
    "               (5, E)\n"
   ]
  },
  {
   "cell_type": "code",
   "execution_count": null,
   "id": "276906a0-d422-429d-bb26-f3ae935178f7",
   "metadata": {},
   "outputs": [],
   "source": [
    "R-11.2 Insert, into an empty binary search tree, entries with keys 30, 40, 24, 58,\n",
    " 48, 26, 11, 13 (in this order). Draw the tree after each insertion.\n"
   ]
  },
  {
   "cell_type": "code",
   "execution_count": null,
   "id": "79a72d38-ef88-4f84-ad9e-13957a78221f",
   "metadata": {},
   "outputs": [],
   "source": [
    "30\n",
    "\n",
    "30\n",
    "  \\\n",
    "   40\n",
    "\n",
    "   30\n",
    "  /  \\\n",
    "24    40\n",
    "\n",
    "     30\n",
    "    /  \\\n",
    "  24    40\n",
    "           \\\n",
    "            58\n",
    "\n",
    "     30\n",
    "    /  \\\n",
    "  24    40\n",
    "           \\\n",
    "            58\n",
    "           /\n",
    "         48\n",
    "\n",
    "     30\n",
    "    /  \\\n",
    "  24    40\n",
    "    \\     \\\n",
    "    26     58\n",
    "          /\n",
    "        48\n",
    "\n",
    "     30\n",
    "    /  \\\n",
    "  24    40\n",
    " /  \\     \\\n",
    "11  26     58\n",
    "          /\n",
    "        48\n",
    "\n",
    "\n",
    "     30\n",
    "    /  \\\n",
    "  24    40\n",
    " /  \\     \\\n",
    "11  26     58\n",
    "  \\       /\n",
    "  13     48\n",
    "\n",
    "\n",
    "         30\n",
    "       /    \\\n",
    "     24      40\n",
    "    /  \\        \\\n",
    "  11   26       58\n",
    "    \\          /\n",
    "    13       48\n",
    "\n"
   ]
  },
  {
   "cell_type": "code",
   "execution_count": null,
   "id": "e19000a7-9898-4b87-bd41-b05cfac22e08",
   "metadata": {},
   "outputs": [],
   "source": [
    " R-11.3 How many different binary search trees can store the keys {1,2,3}?"
   ]
  },
  {
   "cell_type": "code",
   "execution_count": null,
   "id": "0938232c-63ef-4362-9113-97a8968eee1e",
   "metadata": {},
   "outputs": [],
   "source": [
    "the number of the difference binary search trees can be formed using the catalan number Cn\n",
    "\n",
    "Cn = 1/(n+1)(2n n)\n",
    "\n",
    "{1,2,3} , n=3\n",
    "\n",
    "C3 = 1/4 (6 3) = 1/4 *20 =5\n",
    "\n",
    "you get 20, since (6 3) is the binomail coefficient \"i did not put it the correct way here, as I don't know how\"\n",
    "\n",
    "6!=720\n",
    "3! =6\n",
    "= 6!/(3!(6-3)) = 6!/3!3!\n",
    "720/6*6 = 20\n",
    "\n",
    "So, you can form 5 different binary search trees wiht the stored keys 1,2,3"
   ]
  },
  {
   "cell_type": "code",
   "execution_count": null,
   "id": "78d3dcca-ec5a-4e09-886d-c62547e2e225",
   "metadata": {},
   "outputs": [],
   "source": [
    "R-11.4 Dr.Amongus claims that the order in which a fixed set of entries is inserted\n",
    " into a binary search tree does not matter—the same tree results every time.\n",
    " Give a small example that proves he is wrong.\n"
   ]
  },
  {
   "cell_type": "code",
   "execution_count": 5,
   "id": "8caa9143-a67f-4cd3-9de8-86d8d1f02146",
   "metadata": {},
   "outputs": [
    {
     "ename": "NameError",
     "evalue": "name 'Dr' is not defined",
     "output_type": "error",
     "traceback": [
      "\u001b[1;31m---------------------------------------------------------------------------\u001b[0m",
      "\u001b[1;31mNameError\u001b[0m                                 Traceback (most recent call last)",
      "Cell \u001b[1;32mIn[5], line 1\u001b[0m\n\u001b[1;32m----> 1\u001b[0m Dr\u001b[38;5;241m.\u001b[39m Amongus \u001b[38;5;129;01mis\u001b[39;00m wrong,\n",
      "\u001b[1;31mNameError\u001b[0m: name 'Dr' is not defined"
     ]
    }
   ],
   "source": [
    "Dr. Amongus is wrong, \n",
    "\n",
    "Using this set as an example 1.2.3\n",
    "Insertion order matters. Each permutation gives a different tree structure. \n",
    "\n",
    "    1\n",
    "     \\\n",
    "      2\n",
    "       \\\n",
    "        3\n",
    "    2\n",
    "   / \\\n",
    "  1   3\n",
    "\n",
    "    3\n",
    "   /\n",
    "  2\n",
    " /\n",
    "1\n",
    "\n",
    "Based on the example we did before using catanlan formula, you can see there are multiple ways to create the trees.\n",
    "Using that as example, as well, we get 5 different trees"
   ]
  },
  {
   "cell_type": "code",
   "execution_count": null,
   "id": "94433c03-84f7-404e-85c4-c780981d7fbb",
   "metadata": {},
   "outputs": [],
   "source": [
    " R-11.5 Dr.Amongus claims that the order in which a fixed set of entries is inserted\n",
    " into an AVL tree does not matter—the same AVL tree results every time.\n",
    " Give a small example that proves he is wrong.\n"
   ]
  },
  {
   "cell_type": "code",
   "execution_count": null,
   "id": "9586dd51-dba9-4f60-9b68-7ecfd2eb139f",
   "metadata": {},
   "outputs": [],
   "source": [
    "Dr.Amongus is very good at being wrong, for AVL trees, they are similar to binary trees and that the order\n",
    "truly depends on the insertion of the trees,using 1,2,3 as an example again.\n",
    "\n",
    "AVL tree structure does depend on the order of insertions, because rotations are triggered differently depending on when and where imbalances occur.\n",
    "insert 1\n",
    "1\n",
    "\n",
    "insert 2\n",
    "  1\n",
    "   \\\n",
    "    2\n",
    "insert 3\n",
    "\n",
    "  2\n",
    " / \\\n",
    "1   3\n",
    "\n",
    "Now we will do it again this time 3,2,1\n",
    "\n",
    "  2\n",
    " / \\\n",
    "1   3\n",
    "\n",
    "this time 2,1,3\n",
    "\n",
    "  2\n",
    " / \\\n",
    "1   3\n",
    "So yes, this still ends in the same balanced tree, but the rotations and structure during insertion are differetn"
   ]
  },
  {
   "cell_type": "code",
   "execution_count": null,
   "id": "29de81a5-c6f2-49b4-85ce-b45554a900a4",
   "metadata": {},
   "outputs": [],
   "source": [
    " R-11.6 Our implementation of the TreeMap. subtree search utility, from Code\n",
    " Fragment 11.4, relies on recursion. For a large unbalanced tree, Python’s\n",
    " default limit on recursive depth may be prohibitive. Give an alternative\n",
    " implementation of that method that does not rely on the use of recursion.\n",
    " "
   ]
  },
  {
   "cell_type": "code",
   "execution_count": null,
   "id": "22a9c785-3ab3-4da2-b02c-b9c4e08e78de",
   "metadata": {},
   "outputs": [],
   "source": [
    "def subtree_search(tree, p, k):\n",
    "    \"\"\"Return Position of the item with greatest key <= k in subtree rooted at p.\"\"\"\n",
    "    walk = p\n",
    "    candidate = None\n",
    "\n",
    "    while walk is not None:\n",
    "        if k < walk.key():\n",
    "            if tree.left(walk) is not None:\n",
    "                walk = tree.left(walk)\n",
    "            else:\n",
    "                break\n",
    "        else:\n",
    "            candidate = walk\n",
    "            if tree.right(walk) is not None:\n",
    "                walk = tree.right(walk)\n",
    "            else:\n",
    "                break\n",
    "\n",
    "    return candidate\n"
   ]
  },
  {
   "cell_type": "code",
   "execution_count": null,
   "id": "96b60d6b-0684-4ad4-bffc-10efb1c5917f",
   "metadata": {},
   "outputs": [],
   "source": [
    "R-11.7 Do the trinode restructurings in Figures 11.12 and 11.14 result in single\n",
    " or double rotations?\n"
   ]
  },
  {
   "cell_type": "code",
   "execution_count": null,
   "id": "744543c0-f61d-4983-ab84-6c0111db3a9e",
   "metadata": {},
   "outputs": [],
   "source": [
    "Figure 11.12 results in a single rotation.\n",
    "\n",
    "Figure 11.14 results in a double rotation."
   ]
  },
  {
   "cell_type": "code",
   "execution_count": null,
   "id": "0c89323c-448d-4b3f-a9a0-3c3b778b535e",
   "metadata": {},
   "outputs": [],
   "source": [
    " R-11.8 Draw the AVL tree resulting from the insertion of an entry with key 52\n",
    " into the AVL tree of Figure 11.14b.\n"
   ]
  },
  {
   "cell_type": "code",
   "execution_count": null,
   "id": "b749285e-3783-4638-a0ea-0fbb9d9a24d1",
   "metadata": {},
   "outputs": [],
   "source": [
    "         62\n",
    "        /  \\\n",
    "      44    78\n",
    "     /  \\     \\\n",
    "   17   52     88\n",
    "        /  \\\n",
    "      50   54\n",
    "     /\n",
    "   48\n"
   ]
  },
  {
   "cell_type": "code",
   "execution_count": null,
   "id": "f88af79f-1cbc-4708-bddc-becd07b9741c",
   "metadata": {},
   "outputs": [],
   "source": [
    " R-11.9 Draw the AVL tree resulting from the removal of the entry with key 62\n",
    " from the AVL tree of Figure 11.14b.\n",
    " "
   ]
  },
  {
   "cell_type": "code",
   "execution_count": null,
   "id": "f87dc345-fd03-43b1-b494-469fc419d4f1",
   "metadata": {},
   "outputs": [],
   "source": [
    "         54\n",
    "       /    \\\n",
    "     50      78\n",
    "    /  \\        \\\n",
    "  44   —       88\n",
    " /  \\\n",
    "17  48\n"
   ]
  },
  {
   "cell_type": "code",
   "execution_count": null,
   "id": "c6a23207-5f9f-47e1-8163-2f4cfd82a2d5",
   "metadata": {},
   "outputs": [],
   "source": [
    "R-11.10 Explain why performing a rotation in an n-node binary tree when using\n",
    " the array-based representation of Section 8.3.2 takes Ω(n) time.\n",
    " "
   ]
  },
  {
   "cell_type": "code",
   "execution_count": null,
   "id": "167f227b-0b68-444b-9496-b93ff4a8df5f",
   "metadata": {},
   "outputs": [],
   "source": [
    "Rotations in array-based binary trees take Ω(n) time because the structure relies on positional indices to define relationships, and rebalancing operations (like rotations) can require shifting many elements to maintain those index rules."
   ]
  },
  {
   "cell_type": "code",
   "execution_count": null,
   "id": "f20b41c5-7a22-4db4-b8a6-08ef2d026f2b",
   "metadata": {},
   "outputs": [],
   "source": [
    "R-11.11 Give a schematic figure, in the style of Figure 11.13, showing the heights\n",
    " of subtrees during a deletion operation in an AVL tree that triggers a tri\n",
    "node restructuring for the case in which the two children of the node de\n",
    "noted as y start with equal heights. What is the net effect of the height of\n",
    " the rebalanced subtree due to the deletion operation?\n"
   ]
  },
  {
   "cell_type": "code",
   "execution_count": null,
   "id": "b42a852d-82ad-40d5-94c4-d2f94cb86566",
   "metadata": {},
   "outputs": [],
   "source": [
    "The height of the rebalanced subtree decreases by 1, from h+2 to h+1."
   ]
  },
  {
   "cell_type": "code",
   "execution_count": null,
   "id": "900926eb-b33f-4238-b7ba-d8da62b714fa",
   "metadata": {},
   "outputs": [],
   "source": [
    " R-11.12 Repeat the previous problem, considering the case in which y’s children\n",
    " start with different heights.\n"
   ]
  },
  {
   "cell_type": "code",
   "execution_count": null,
   "id": "92b10c3c-60f9-4f93-bac7-761259447d7f",
   "metadata": {},
   "outputs": [],
   "source": [
    "Before: Height of subtree rooted at z = h+2\n",
    "\n",
    "After: Height of subtree rooted at y = h+1"
   ]
  },
  {
   "cell_type": "code",
   "execution_count": null,
   "id": "cc262851-de4c-4493-93c2-bfc25c86fbaf",
   "metadata": {},
   "outputs": [],
   "source": [
    "\n",
    " R-11.13 The rules for a deletion in an AVL tree specifically require that when the\n",
    " two subtrees of the node denoted as y have equal height, child x should be\n",
    " chosen to be “aligned” with y (so that x and y are both left children or both\n",
    " right children). To better understand this requirement, repeat Exercise R\n",
    "11.11 assuming we picked the misaligned choice of x. Why might there\n",
    " be a problem in restoring the AVL property with that choice?\n"
   ]
  },
  {
   "cell_type": "code",
   "execution_count": null,
   "id": "87dd52d2-d587-4fb1-8da4-1b0342421ec0",
   "metadata": {},
   "outputs": [],
   "source": [
    "If the children of node y have equal height and we pick the misaligned child x during a deletion operation in an AVL tree, we may fail to restore the AVL property."
   ]
  },
  {
   "cell_type": "code",
   "execution_count": null,
   "id": "2fca5b1b-2c2c-464c-9652-011b4c029ecc",
   "metadata": {},
   "outputs": [],
   "source": [
    " R-11.14 Perform the following sequence of operations in an initially empty splay\n",
    " tree and draw the tree after each set of operations.\n",
    " a. Insert keys 0, 2, 4, 6, 8, 10, 12, 14, 16, 18, in this order.\n",
    " b. Search for keys 1, 3, 5, 7, 9, 11, 13, 15, 17, 19, in this order.\n",
    " c. Delete keys 0, 2, 4, 6, 8, 10, 12, 14, 16, 18, in this order.\n"
   ]
  },
  {
   "cell_type": "markdown",
   "id": "0bd2b3ad-2a61-4450-af61-17a03b99ac60",
   "metadata": {},
   "source": [
    "| Step | Description                  | Tree Shape                        |\n",
    "| ---- | ---------------------------- | --------------------------------- |\n",
    "| A    | Insert 0 to 18               | Left-leaning linked list          |\n",
    "| B    | Search 1–19 (odds, all fail) | Frequent rotations; tree balances |\n",
    "| C    | Delete 0 to 18               | Tree becomes empty                |\n"
   ]
  },
  {
   "cell_type": "code",
   "execution_count": null,
   "id": "33bb66d6-c4fa-495b-83cc-d7c4405cbfaf",
   "metadata": {},
   "outputs": [],
   "source": [
    " R-11.15 What does a splay tree look like if its entries are accessed in increasing\n",
    " order by their keys?\n"
   ]
  },
  {
   "cell_type": "code",
   "execution_count": null,
   "id": "d69f019b-8c18-434d-b3f3-f0bc8a6a555a",
   "metadata": {},
   "outputs": [],
   "source": [
    "Access 1:\n",
    "1\n",
    "\n",
    "Access 2 (splay 2 to root):\n",
    "   2\n",
    "  /\n",
    "1\n",
    "\n",
    "Access 3 (splay 3 to root):\n",
    "     3\n",
    "    /\n",
    "   2\n",
    "  /\n",
    "1\n",
    "\n",
    "Access 4 (splay 4 to root):\n",
    "       4\n",
    "      /\n",
    "     3\n",
    "    /\n",
    "   2\n",
    "  /\n",
    "1\n",
    "\n",
    "Access 5 (splay 5 to root):\n",
    "         5\n",
    "        /\n",
    "       4\n",
    "      /\n",
    "     3\n",
    "    /\n",
    "   2\n",
    "  /\n",
    "1\n"
   ]
  },
  {
   "cell_type": "code",
   "execution_count": null,
   "id": "a453fd95-aa44-4d55-857c-024914b6fa90",
   "metadata": {},
   "outputs": [],
   "source": [
    " R-11.16 Is the search tree of Figure 11.23(a) a (2,4) tree? Why or why not?\n",
    " "
   ]
  },
  {
   "cell_type": "code",
   "execution_count": 8,
   "id": "1dcc48c7-f07e-482c-bb86-7287ad62ab1a",
   "metadata": {},
   "outputs": [
    {
     "ename": "SyntaxError",
     "evalue": "invalid syntax (3819895100.py, line 1)",
     "output_type": "error",
     "traceback": [
      "\u001b[1;36m  Cell \u001b[1;32mIn[8], line 1\u001b[1;36m\u001b[0m\n\u001b[1;33m    No, the search tree in Figure 11.23(a) is not a (2,4) tree.\u001b[0m\n\u001b[1;37m            ^\u001b[0m\n\u001b[1;31mSyntaxError\u001b[0m\u001b[1;31m:\u001b[0m invalid syntax\n"
     ]
    }
   ],
   "source": [
    "No, the search tree in Figure 11.23(a) is not a (2,4) tree.\n",
    "\n",
    "this is because a a 1-4 tree must follow certain rules,\n",
    "every node has to between 2 and 4 children\n",
    "every internal node has to sotre one fewer key than its number of children,\n",
    "all external nodes aka leaves, are at the same depth\n",
    "\n",
    "\n",
    "Not all internal nodes have the correct number of children for their number of keys.\n",
    "\n",
    "One or more internal nodes are malformed under the (2,4)-tree rules, thius is why it is not a valid 2-4 tree\n"
   ]
  },
  {
   "cell_type": "code",
   "execution_count": 10,
   "id": "e63eb826-4bc6-468b-8c8d-522e6faf85f1",
   "metadata": {},
   "outputs": [
    {
     "ename": "SyntaxError",
     "evalue": "invalid syntax (1072445862.py, line 1)",
     "output_type": "error",
     "traceback": [
      "\u001b[1;36m  Cell \u001b[1;32mIn[10], line 1\u001b[1;36m\u001b[0m\n\u001b[1;33m    R-11.17 An alternative way of performing a split at a node w in a (2,4) tree is\u001b[0m\n\u001b[1;37m            ^\u001b[0m\n\u001b[1;31mSyntaxError\u001b[0m\u001b[1;31m:\u001b[0m invalid syntax\n"
     ]
    }
   ],
   "source": [
    "R-11.17 An alternative way of performing a split at a node w in a (2,4) tree is\n",
    " to partition w into w and w , with w being a 2-node and w a 3-node.\n",
    " Which of the keys k1, k2, k3,ork4 do we store at w’s parent? Why?\n"
   ]
  },
  {
   "cell_type": "code",
   "execution_count": null,
   "id": "5719dafb-5bfc-40c2-9bc2-c09239b43f00",
   "metadata": {},
   "outputs": [],
   "source": [
    "We store k₂ at w’s parent."
   ]
  },
  {
   "cell_type": "code",
   "execution_count": null,
   "id": "e7c70aad-ff92-4eea-b834-94b40cf00b33",
   "metadata": {},
   "outputs": [],
   "source": [
    " R-11.18 Dr. Amongus claims that a (2,4) tree storing a set of entries will always\n",
    " have the same structure, regardless of the order in which the entries are\n",
    " inserted. Show that he is wrong.\n"
   ]
  },
  {
   "cell_type": "code",
   "execution_count": 12,
   "id": "86cdb96f-4c60-4f69-9771-30092380d20c",
   "metadata": {},
   "outputs": [
    {
     "ename": "SyntaxError",
     "evalue": "invalid syntax (233193465.py, line 1)",
     "output_type": "error",
     "traceback": [
      "\u001b[1;36m  Cell \u001b[1;32mIn[12], line 1\u001b[1;36m\u001b[0m\n\u001b[1;33m    The order of insertions does affect the structure of a (2,4) tree. While the tree always remains balanced and satisfies its properties, different insertion orders can lead to different structures due to when and where node splits occur.\u001b[0m\n\u001b[1;37m        ^\u001b[0m\n\u001b[1;31mSyntaxError\u001b[0m\u001b[1;31m:\u001b[0m invalid syntax\n"
     ]
    }
   ],
   "source": [
    "The order of insertions does affect the structure of a (2,4) tree. While the tree always remains balanced and satisfies its properties, different insertion orders can lead to different structures due to when and where node splits occur.\n",
    "\n",
    "Insert 1 → root = [1]\n",
    "\n",
    "Insert 2 → root = [1, 2]\n",
    "\n",
    "Insert 3 → root = [1, 2, 3]\n",
    "\n",
    "Insert 4 → root splits → promote 2\n",
    "      [2]\n",
    "     /   \\\n",
    "  [1]   [3, 4]\n",
    "\n",
    "\n",
    "Insert 2 → root = [2]\n",
    "\n",
    "Insert 1 → root = [1, 2] (after reordering)\n",
    "\n",
    "Insert 4 → root = [1, 2, 4]\n",
    "\n",
    "Insert 3 → now root becomes [1, 2, 3, 4] → must split\n",
    "\n",
    "      [2]\n",
    "     /   \\\n",
    "  [1]   [3, 4]\n"
   ]
  },
  {
   "cell_type": "code",
   "execution_count": 14,
   "id": "d2a0ff2d-d337-4252-ba9c-10a876e38435",
   "metadata": {},
   "outputs": [
    {
     "ename": "SyntaxError",
     "evalue": "invalid syntax (2830347055.py, line 1)",
     "output_type": "error",
     "traceback": [
      "\u001b[1;36m  Cell \u001b[1;32mIn[14], line 1\u001b[1;36m\u001b[0m\n\u001b[1;33m    R-11.19 Draw four different red-black trees that correspond to the same (2,4) tree.\u001b[0m\n\u001b[1;37m            ^\u001b[0m\n\u001b[1;31mSyntaxError\u001b[0m\u001b[1;31m:\u001b[0m invalid syntax\n"
     ]
    }
   ],
   "source": [
    " R-11.19 Draw four different red-black trees that correspond to the same (2,4) tree.\n"
   ]
  },
  {
   "cell_type": "code",
   "execution_count": null,
   "id": "78242b2d-a6e8-448c-8369-993d40582b69",
   "metadata": {},
   "outputs": [],
   "source": [
    "      20(B)\n",
    "     /    \\\n",
    "  10(R)  30(R)\n",
    "\n",
    "\n",
    "      20(B)\n",
    "     /    \\\n",
    "  30(R)  10(R)\n",
    "\n",
    "      10(B)\n",
    "         \\\n",
    "         20(R)\n",
    "            \\\n",
    "            30(R)\n",
    "\n",
    "        30(B)\n",
    "       /\n",
    "    20(R)\n",
    "   /\n",
    "10(R)\n"
   ]
  },
  {
   "cell_type": "code",
   "execution_count": null,
   "id": "62305c29-5726-4c27-a788-c4e3c5da8f24",
   "metadata": {},
   "outputs": [],
   "source": [
    " R-11.20 Consider the set of keys K = {1,2,3,4,5,6,7,8,9,10,11,12,13,14,15}.\n",
    " a. Draw a (2,4) tree storing K as its keys using the fewest number of\n",
    " nodes.\n",
    " b. Draw a (2,4) tree storing K as its keys using the maximum number\n",
    " of nodes.\n"
   ]
  },
  {
   "cell_type": "code",
   "execution_count": null,
   "id": "31c32b03-a350-4909-8c09-d9b7563d27d5",
   "metadata": {},
   "outputs": [],
   "source": [
    "                      [ 8 ]\n",
    "              /         |         \\\n",
    "        [2,4,6]     [10,12,14]   [ ]\n",
    "       /   |   \\      /   |   \\     \n",
    "     [1] [3,5] [7]  [9] [11,13] [15]\n",
    "\n",
    "\n",
    "\n",
    "\n",
    "\n",
    "[8]\n",
    "               /     \\\n",
    "            [4]       [12]\n",
    "           /   \\     /    \\\n",
    "        [2]   [6] [10]   [14]\n",
    "       / \\   / \\   / \\    / \\\n",
    "     [1][3][5][7][9][11][13][15]\n"
   ]
  },
  {
   "cell_type": "code",
   "execution_count": null,
   "id": "374d5b8d-b3b3-46c6-a480-1ced161a9eb4",
   "metadata": {},
   "outputs": [],
   "source": [
    " R-11.21 Consider the sequence of keys (5,16,22,45,2,10,18,30,50,12,1).Draw\n",
    " the result of inserting entries with these keys (in the given order) into\n",
    " a. An initially empty (2,4) tree.\n",
    " b. An initially empty red-black tree.\n",
    " "
   ]
  },
  {
   "cell_type": "code",
   "execution_count": null,
   "id": "56d9928e-7d99-49ba-b71b-e7f1ab8e0437",
   "metadata": {},
   "outputs": [],
   "source": [
    "                 [5, 16, 22]\n",
    "              /     |     |     \\\n",
    "        [1,2]  [10,12]  [18]  [30,45,50]\n",
    "\n",
    "\n",
    "              [16B]\n",
    "           /         \\\n",
    "       [5B]         [22B]\n",
    "      /   \\        /     \\\n",
    "   [2R] [10R]  [18R] [45B]\n",
    "   /         \\             /   \\\n",
    "[1B]      [12B]     [30R] [50R]\n"
   ]
  },
  {
   "cell_type": "code",
   "execution_count": null,
   "id": "ff809ea2-0ac3-43f4-aa79-039b8c054b62",
   "metadata": {},
   "outputs": [],
   "source": [
    "R-11.22 For the following statements about red-black trees, provide a justification\n",
    " for each true statement and a counterexample for each false one.\n",
    " a. Asubtree of a red-black tree is itself a red-black tree.\n",
    " b. Anode that does not have a sibling is red.\n",
    " c. There is a unique (2,4) tree associated with a given red-black tree.\n",
    " d. There is a unique red-black tree associated with a given (2,4) tree.\n"
   ]
  },
  {
   "cell_type": "code",
   "execution_count": null,
   "id": "0475fba3-bcd1-4665-8ff6-7a5248c75f4e",
   "metadata": {},
   "outputs": [],
   "source": [
    "a. false \n",
    " root is black, no two red nodes appear consecutively, and every path from node to leagf has the same number of black nodes\n",
    "\n",
    "b. false\n",
    "sibling existence has nothing to do with color\n",
    "\n",
    "c. True\n",
    "each black node becomes a node in a 2-4 tree, and red children are goruped with their black parent\n",
    "\n",
    "d. false\n",
    "Many red black trees can represent the same 2-4 nmode"
   ]
  },
  {
   "cell_type": "code",
   "execution_count": null,
   "id": "a0074ab6-ef33-4aa6-b804-6310a74648c3",
   "metadata": {},
   "outputs": [],
   "source": [
    " R-11.23 Explain why you would get the same output in an inorder listing of the\n",
    " entries in a binary search tree, T, independent of whether T is maintained\n",
    " to be an AVL tree, splay tree, or red-black tree.\n",
    "\n",
    " "
   ]
  },
  {
   "cell_type": "code",
   "execution_count": null,
   "id": "4b38ca51-559c-4958-bec9-a496ebb766ac",
   "metadata": {},
   "outputs": [],
   "source": [
    "Regardless of whether a binary search tree (BST) is implemented as an AVL tree, a splay tree, or a red-black tree, the inorder traversal will always produce the same output as long as the keys inserted are the same.\n",
    "\n"
   ]
  },
  {
   "cell_type": "code",
   "execution_count": null,
   "id": "6b5b43be-d591-4c26-8404-0372ce889766",
   "metadata": {},
   "outputs": [],
   "source": [
    "R-11.24 Consider a tree T storing 100,000 entries. What is the worst-case height\n",
    " of T in the following cases?\n",
    " a. T is a binary search tree.\n",
    " b. T is an AVLtree.\n",
    " c. T is a splay tree.\n",
    " d. T is a (2,4) tree.\n",
    " e. T is a red-black tree.\n"
   ]
  },
  {
   "cell_type": "code",
   "execution_count": null,
   "id": "621769b9-a9d0-466a-b2ec-ff3bd5354d51",
   "metadata": {},
   "outputs": [],
   "source": [
    "a. h=n=100,000\n",
    "b. 24\n",
    "c. 100,000\n",
    "d.17\n",
    "e.34\n"
   ]
  },
  {
   "cell_type": "code",
   "execution_count": null,
   "id": "d0d0900e-d8a4-4edf-b886-7839da2bb3ad",
   "metadata": {},
   "outputs": [],
   "source": [
    " R-11.25 Draw an example of a red-black tree that is not an AVL tree.\n"
   ]
  },
  {
   "cell_type": "code",
   "execution_count": null,
   "id": "d1d72b02-4cb6-45af-ac8d-096922af1127",
   "metadata": {},
   "outputs": [],
   "source": [
    "        10(B)\n",
    "       /    \\\n",
    "    5(R)    15(B)\n",
    "   /         \n",
    " 2(B)       \n",
    "/\n",
    "1(R)\n"
   ]
  },
  {
   "cell_type": "code",
   "execution_count": null,
   "id": "3fd2f90e-33c6-4ba1-8fd2-1af89d7db02e",
   "metadata": {},
   "outputs": [],
   "source": [
    " R-11.26 Let T be a red-black tree and let p be the position of the parent of the\n",
    " original node that is deleted by the standard search tree deletion algorithm.\n",
    " Prove that if p has zero children, the removed node was a red leaf.\n"
   ]
  },
  {
   "cell_type": "code",
   "execution_count": null,
   "id": "7d170d54-168f-4dd8-b5dd-d2196ad6d3c9",
   "metadata": {},
   "outputs": [],
   "source": [
    "red leaves can be removed without violating the red black tree properties, the removal of a red leaf doesn affect the balck node height, so there is no rebalancing needed, so after the deletion p would have zero childrten adn there would bne no vioation"
   ]
  }
 ],
 "metadata": {
  "kernelspec": {
   "display_name": "Python [conda env:base] *",
   "language": "python",
   "name": "conda-base-py"
  },
  "language_info": {
   "codemirror_mode": {
    "name": "ipython",
    "version": 3
   },
   "file_extension": ".py",
   "mimetype": "text/x-python",
   "name": "python",
   "nbconvert_exporter": "python",
   "pygments_lexer": "ipython3",
   "version": "3.12.4"
  }
 },
 "nbformat": 4,
 "nbformat_minor": 5
}
